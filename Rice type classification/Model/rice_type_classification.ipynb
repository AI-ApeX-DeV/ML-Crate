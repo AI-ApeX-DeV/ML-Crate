{
  "cells": [
    {
      "cell_type": "code",
      "execution_count": 31,
      "metadata": {
        "id": "_7lpFmRqDq3U"
      },
      "outputs": [],
      "source": [
        "#loading dataset\n",
        "import pandas as pd\n",
        "#visualisation\n",
        "import matplotlib.pyplot as plt\n",
        "%matplotlib inline\n",
        "import seaborn as sns\n",
        "# data preprocessing\n",
        "from sklearn.preprocessing import StandardScaler\n",
        "# data splitting\n",
        "from sklearn.model_selection import train_test_split\n",
        "# data modeling\n",
        "from sklearn.metrics import confusion_matrix,accuracy_score,roc_curve,classification_report,auc\n",
        "from sklearn.linear_model import LogisticRegression\n",
        "from sklearn.ensemble import RandomForestClassifier\n",
        "from sklearn.tree import DecisionTreeClassifier"
      ]
    },
    {
      "cell_type": "markdown",
      "metadata": {},
      "source": [
        "### Importing the Dataset"
      ]
    },
    {
      "cell_type": "code",
      "execution_count": 32,
      "metadata": {
        "colab": {
          "base_uri": "https://localhost:8080/",
          "height": 268
        },
        "id": "yPkxZ--zEEiX",
        "outputId": "c782eca5-0e0b-438b-f5a2-bbf764a49797"
      },
      "outputs": [
        {
          "data": {
            "text/html": [
              "<div>\n",
              "<style scoped>\n",
              "    .dataframe tbody tr th:only-of-type {\n",
              "        vertical-align: middle;\n",
              "    }\n",
              "\n",
              "    .dataframe tbody tr th {\n",
              "        vertical-align: top;\n",
              "    }\n",
              "\n",
              "    .dataframe thead th {\n",
              "        text-align: right;\n",
              "    }\n",
              "</style>\n",
              "<table border=\"1\" class=\"dataframe\">\n",
              "  <thead>\n",
              "    <tr style=\"text-align: right;\">\n",
              "      <th></th>\n",
              "      <th>id</th>\n",
              "      <th>Area</th>\n",
              "      <th>MajorAxisLength</th>\n",
              "      <th>MinorAxisLength</th>\n",
              "      <th>Eccentricity</th>\n",
              "      <th>ConvexArea</th>\n",
              "      <th>EquivDiameter</th>\n",
              "      <th>Extent</th>\n",
              "      <th>Perimeter</th>\n",
              "      <th>Roundness</th>\n",
              "      <th>AspectRation</th>\n",
              "      <th>Class</th>\n",
              "    </tr>\n",
              "  </thead>\n",
              "  <tbody>\n",
              "    <tr>\n",
              "      <th>0</th>\n",
              "      <td>1</td>\n",
              "      <td>4537</td>\n",
              "      <td>92.229316</td>\n",
              "      <td>64.012769</td>\n",
              "      <td>0.719916</td>\n",
              "      <td>4677</td>\n",
              "      <td>76.004525</td>\n",
              "      <td>0.657536</td>\n",
              "      <td>273.085</td>\n",
              "      <td>0.764510</td>\n",
              "      <td>1.440796</td>\n",
              "      <td>1</td>\n",
              "    </tr>\n",
              "    <tr>\n",
              "      <th>1</th>\n",
              "      <td>2</td>\n",
              "      <td>2872</td>\n",
              "      <td>74.691881</td>\n",
              "      <td>51.400454</td>\n",
              "      <td>0.725553</td>\n",
              "      <td>3015</td>\n",
              "      <td>60.471018</td>\n",
              "      <td>0.713009</td>\n",
              "      <td>208.317</td>\n",
              "      <td>0.831658</td>\n",
              "      <td>1.453137</td>\n",
              "      <td>1</td>\n",
              "    </tr>\n",
              "    <tr>\n",
              "      <th>2</th>\n",
              "      <td>3</td>\n",
              "      <td>3048</td>\n",
              "      <td>76.293164</td>\n",
              "      <td>52.043491</td>\n",
              "      <td>0.731211</td>\n",
              "      <td>3132</td>\n",
              "      <td>62.296341</td>\n",
              "      <td>0.759153</td>\n",
              "      <td>210.012</td>\n",
              "      <td>0.868434</td>\n",
              "      <td>1.465950</td>\n",
              "      <td>1</td>\n",
              "    </tr>\n",
              "    <tr>\n",
              "      <th>3</th>\n",
              "      <td>4</td>\n",
              "      <td>3073</td>\n",
              "      <td>77.033628</td>\n",
              "      <td>51.928487</td>\n",
              "      <td>0.738639</td>\n",
              "      <td>3157</td>\n",
              "      <td>62.551300</td>\n",
              "      <td>0.783529</td>\n",
              "      <td>210.657</td>\n",
              "      <td>0.870203</td>\n",
              "      <td>1.483456</td>\n",
              "      <td>1</td>\n",
              "    </tr>\n",
              "    <tr>\n",
              "      <th>4</th>\n",
              "      <td>5</td>\n",
              "      <td>3693</td>\n",
              "      <td>85.124785</td>\n",
              "      <td>56.374021</td>\n",
              "      <td>0.749282</td>\n",
              "      <td>3802</td>\n",
              "      <td>68.571668</td>\n",
              "      <td>0.769375</td>\n",
              "      <td>230.332</td>\n",
              "      <td>0.874743</td>\n",
              "      <td>1.510000</td>\n",
              "      <td>1</td>\n",
              "    </tr>\n",
              "  </tbody>\n",
              "</table>\n",
              "</div>"
            ],
            "text/plain": [
              "   id  Area  MajorAxisLength  MinorAxisLength  Eccentricity  ConvexArea  \\\n",
              "0   1  4537        92.229316        64.012769      0.719916        4677   \n",
              "1   2  2872        74.691881        51.400454      0.725553        3015   \n",
              "2   3  3048        76.293164        52.043491      0.731211        3132   \n",
              "3   4  3073        77.033628        51.928487      0.738639        3157   \n",
              "4   5  3693        85.124785        56.374021      0.749282        3802   \n",
              "\n",
              "   EquivDiameter    Extent  Perimeter  Roundness  AspectRation  Class  \n",
              "0      76.004525  0.657536    273.085   0.764510      1.440796      1  \n",
              "1      60.471018  0.713009    208.317   0.831658      1.453137      1  \n",
              "2      62.296341  0.759153    210.012   0.868434      1.465950      1  \n",
              "3      62.551300  0.783529    210.657   0.870203      1.483456      1  \n",
              "4      68.571668  0.769375    230.332   0.874743      1.510000      1  "
            ]
          },
          "execution_count": 32,
          "metadata": {},
          "output_type": "execute_result"
        }
      ],
      "source": [
        "df = pd.read_csv(\"/Users/debjitpal/Documents/GitHub/ML-Crate/Rice type classification/Dataset/riceClassification.csv\")\n",
        "df.head()"
      ]
    },
    {
      "cell_type": "code",
      "execution_count": 33,
      "metadata": {
        "colab": {
          "base_uri": "https://localhost:8080/",
          "height": 361
        },
        "id": "eEV-YcERELul",
        "outputId": "3163d645-502e-4882-8ed8-e33757e1f3c8"
      },
      "outputs": [
        {
          "data": {
            "text/html": [
              "<div>\n",
              "<style scoped>\n",
              "    .dataframe tbody tr th:only-of-type {\n",
              "        vertical-align: middle;\n",
              "    }\n",
              "\n",
              "    .dataframe tbody tr th {\n",
              "        vertical-align: top;\n",
              "    }\n",
              "\n",
              "    .dataframe thead th {\n",
              "        text-align: right;\n",
              "    }\n",
              "</style>\n",
              "<table border=\"1\" class=\"dataframe\">\n",
              "  <thead>\n",
              "    <tr style=\"text-align: right;\">\n",
              "      <th></th>\n",
              "      <th>id</th>\n",
              "      <th>Area</th>\n",
              "      <th>MajorAxisLength</th>\n",
              "      <th>MinorAxisLength</th>\n",
              "      <th>Eccentricity</th>\n",
              "      <th>ConvexArea</th>\n",
              "      <th>EquivDiameter</th>\n",
              "      <th>Extent</th>\n",
              "      <th>Perimeter</th>\n",
              "      <th>Roundness</th>\n",
              "      <th>AspectRation</th>\n",
              "      <th>Class</th>\n",
              "    </tr>\n",
              "  </thead>\n",
              "  <tbody>\n",
              "    <tr>\n",
              "      <th>count</th>\n",
              "      <td>18185.000000</td>\n",
              "      <td>18185.000000</td>\n",
              "      <td>18185.000000</td>\n",
              "      <td>18185.000000</td>\n",
              "      <td>18185.000000</td>\n",
              "      <td>18185.000000</td>\n",
              "      <td>18185.000000</td>\n",
              "      <td>18185.000000</td>\n",
              "      <td>18185.000000</td>\n",
              "      <td>18185.000000</td>\n",
              "      <td>18185.000000</td>\n",
              "      <td>18185.000000</td>\n",
              "    </tr>\n",
              "    <tr>\n",
              "      <th>mean</th>\n",
              "      <td>9093.000000</td>\n",
              "      <td>7036.492989</td>\n",
              "      <td>151.680754</td>\n",
              "      <td>59.807851</td>\n",
              "      <td>0.915406</td>\n",
              "      <td>7225.817872</td>\n",
              "      <td>94.132952</td>\n",
              "      <td>0.616653</td>\n",
              "      <td>351.606949</td>\n",
              "      <td>0.707998</td>\n",
              "      <td>2.599081</td>\n",
              "      <td>0.549079</td>\n",
              "    </tr>\n",
              "    <tr>\n",
              "      <th>std</th>\n",
              "      <td>5249.701658</td>\n",
              "      <td>1467.197150</td>\n",
              "      <td>12.376402</td>\n",
              "      <td>10.061653</td>\n",
              "      <td>0.030575</td>\n",
              "      <td>1502.006571</td>\n",
              "      <td>9.906250</td>\n",
              "      <td>0.104389</td>\n",
              "      <td>29.500620</td>\n",
              "      <td>0.067310</td>\n",
              "      <td>0.434836</td>\n",
              "      <td>0.497599</td>\n",
              "    </tr>\n",
              "    <tr>\n",
              "      <th>min</th>\n",
              "      <td>1.000000</td>\n",
              "      <td>2522.000000</td>\n",
              "      <td>74.133114</td>\n",
              "      <td>34.409894</td>\n",
              "      <td>0.676647</td>\n",
              "      <td>2579.000000</td>\n",
              "      <td>56.666658</td>\n",
              "      <td>0.383239</td>\n",
              "      <td>197.015000</td>\n",
              "      <td>0.174590</td>\n",
              "      <td>1.358128</td>\n",
              "      <td>0.000000</td>\n",
              "    </tr>\n",
              "    <tr>\n",
              "      <th>25%</th>\n",
              "      <td>4547.000000</td>\n",
              "      <td>5962.000000</td>\n",
              "      <td>145.675910</td>\n",
              "      <td>51.393151</td>\n",
              "      <td>0.891617</td>\n",
              "      <td>6125.000000</td>\n",
              "      <td>87.126656</td>\n",
              "      <td>0.538530</td>\n",
              "      <td>333.990000</td>\n",
              "      <td>0.650962</td>\n",
              "      <td>2.208527</td>\n",
              "      <td>0.000000</td>\n",
              "    </tr>\n",
              "    <tr>\n",
              "      <th>50%</th>\n",
              "      <td>9093.000000</td>\n",
              "      <td>6660.000000</td>\n",
              "      <td>153.883750</td>\n",
              "      <td>55.724288</td>\n",
              "      <td>0.923259</td>\n",
              "      <td>6843.000000</td>\n",
              "      <td>92.085696</td>\n",
              "      <td>0.601194</td>\n",
              "      <td>353.088000</td>\n",
              "      <td>0.701941</td>\n",
              "      <td>2.602966</td>\n",
              "      <td>1.000000</td>\n",
              "    </tr>\n",
              "    <tr>\n",
              "      <th>75%</th>\n",
              "      <td>13639.000000</td>\n",
              "      <td>8423.000000</td>\n",
              "      <td>160.056214</td>\n",
              "      <td>70.156593</td>\n",
              "      <td>0.941372</td>\n",
              "      <td>8645.000000</td>\n",
              "      <td>103.559146</td>\n",
              "      <td>0.695664</td>\n",
              "      <td>373.003000</td>\n",
              "      <td>0.769280</td>\n",
              "      <td>2.964101</td>\n",
              "      <td>1.000000</td>\n",
              "    </tr>\n",
              "    <tr>\n",
              "      <th>max</th>\n",
              "      <td>18185.000000</td>\n",
              "      <td>10210.000000</td>\n",
              "      <td>183.211434</td>\n",
              "      <td>82.550762</td>\n",
              "      <td>0.966774</td>\n",
              "      <td>11008.000000</td>\n",
              "      <td>114.016559</td>\n",
              "      <td>0.886573</td>\n",
              "      <td>508.511000</td>\n",
              "      <td>0.904748</td>\n",
              "      <td>3.911845</td>\n",
              "      <td>1.000000</td>\n",
              "    </tr>\n",
              "  </tbody>\n",
              "</table>\n",
              "</div>"
            ],
            "text/plain": [
              "                 id          Area  MajorAxisLength  MinorAxisLength  \\\n",
              "count  18185.000000  18185.000000     18185.000000     18185.000000   \n",
              "mean    9093.000000   7036.492989       151.680754        59.807851   \n",
              "std     5249.701658   1467.197150        12.376402        10.061653   \n",
              "min        1.000000   2522.000000        74.133114        34.409894   \n",
              "25%     4547.000000   5962.000000       145.675910        51.393151   \n",
              "50%     9093.000000   6660.000000       153.883750        55.724288   \n",
              "75%    13639.000000   8423.000000       160.056214        70.156593   \n",
              "max    18185.000000  10210.000000       183.211434        82.550762   \n",
              "\n",
              "       Eccentricity    ConvexArea  EquivDiameter        Extent     Perimeter  \\\n",
              "count  18185.000000  18185.000000   18185.000000  18185.000000  18185.000000   \n",
              "mean       0.915406   7225.817872      94.132952      0.616653    351.606949   \n",
              "std        0.030575   1502.006571       9.906250      0.104389     29.500620   \n",
              "min        0.676647   2579.000000      56.666658      0.383239    197.015000   \n",
              "25%        0.891617   6125.000000      87.126656      0.538530    333.990000   \n",
              "50%        0.923259   6843.000000      92.085696      0.601194    353.088000   \n",
              "75%        0.941372   8645.000000     103.559146      0.695664    373.003000   \n",
              "max        0.966774  11008.000000     114.016559      0.886573    508.511000   \n",
              "\n",
              "          Roundness  AspectRation         Class  \n",
              "count  18185.000000  18185.000000  18185.000000  \n",
              "mean       0.707998      2.599081      0.549079  \n",
              "std        0.067310      0.434836      0.497599  \n",
              "min        0.174590      1.358128      0.000000  \n",
              "25%        0.650962      2.208527      0.000000  \n",
              "50%        0.701941      2.602966      1.000000  \n",
              "75%        0.769280      2.964101      1.000000  \n",
              "max        0.904748      3.911845      1.000000  "
            ]
          },
          "execution_count": 33,
          "metadata": {},
          "output_type": "execute_result"
        }
      ],
      "source": [
        "df.describe()"
      ]
    },
    {
      "cell_type": "code",
      "execution_count": 34,
      "metadata": {
        "colab": {
          "base_uri": "https://localhost:8080/"
        },
        "id": "HsASW788EN-G",
        "outputId": "50cf6893-a352-4c40-ec08-e317a03ff905"
      },
      "outputs": [
        {
          "name": "stdout",
          "output_type": "stream",
          "text": [
            "<class 'pandas.core.frame.DataFrame'>\n",
            "RangeIndex: 18185 entries, 0 to 18184\n",
            "Data columns (total 12 columns):\n",
            " #   Column           Non-Null Count  Dtype  \n",
            "---  ------           --------------  -----  \n",
            " 0   id               18185 non-null  int64  \n",
            " 1   Area             18185 non-null  int64  \n",
            " 2   MajorAxisLength  18185 non-null  float64\n",
            " 3   MinorAxisLength  18185 non-null  float64\n",
            " 4   Eccentricity     18185 non-null  float64\n",
            " 5   ConvexArea       18185 non-null  int64  \n",
            " 6   EquivDiameter    18185 non-null  float64\n",
            " 7   Extent           18185 non-null  float64\n",
            " 8   Perimeter        18185 non-null  float64\n",
            " 9   Roundness        18185 non-null  float64\n",
            " 10  AspectRation     18185 non-null  float64\n",
            " 11  Class            18185 non-null  int64  \n",
            "dtypes: float64(8), int64(4)\n",
            "memory usage: 1.7 MB\n"
          ]
        }
      ],
      "source": [
        "df.info()"
      ]
    },
    {
      "cell_type": "code",
      "execution_count": 35,
      "metadata": {
        "colab": {
          "base_uri": "https://localhost:8080/"
        },
        "id": "_GXbkuUsEVGJ",
        "outputId": "14ff380c-0639-4d6e-c225-6a1d9a4ec59b"
      },
      "outputs": [
        {
          "data": {
            "text/plain": [
              "id                 0\n",
              "Area               0\n",
              "MajorAxisLength    0\n",
              "MinorAxisLength    0\n",
              "Eccentricity       0\n",
              "ConvexArea         0\n",
              "EquivDiameter      0\n",
              "Extent             0\n",
              "Perimeter          0\n",
              "Roundness          0\n",
              "AspectRation       0\n",
              "Class              0\n",
              "dtype: int64"
            ]
          },
          "execution_count": 35,
          "metadata": {},
          "output_type": "execute_result"
        }
      ],
      "source": [
        "df.isna().sum(axis=0)"
      ]
    },
    {
      "cell_type": "code",
      "execution_count": 36,
      "metadata": {
        "colab": {
          "base_uri": "https://localhost:8080/"
        },
        "id": "w6lty_HEEZAX",
        "outputId": "4c694ae3-b2cc-4149-d2c5-a573ffb1fe62"
      },
      "outputs": [
        {
          "data": {
            "text/plain": [
              "Index(['id', 'Area', 'MajorAxisLength', 'MinorAxisLength', 'Eccentricity',\n",
              "       'ConvexArea', 'EquivDiameter', 'Extent', 'Perimeter', 'Roundness',\n",
              "       'AspectRation', 'Class'],\n",
              "      dtype='object')"
            ]
          },
          "execution_count": 36,
          "metadata": {},
          "output_type": "execute_result"
        }
      ],
      "source": [
        "df.columns"
      ]
    },
    {
      "cell_type": "markdown",
      "metadata": {},
      "source": [
        "### Dropping unnecessary columns"
      ]
    },
    {
      "cell_type": "code",
      "execution_count": 37,
      "metadata": {
        "colab": {
          "base_uri": "https://localhost:8080/",
          "height": 268
        },
        "id": "V5OEOJkAEl4t",
        "outputId": "afe4b016-4572-44bc-aa60-beedc33bd64a"
      },
      "outputs": [
        {
          "data": {
            "text/html": [
              "<div>\n",
              "<style scoped>\n",
              "    .dataframe tbody tr th:only-of-type {\n",
              "        vertical-align: middle;\n",
              "    }\n",
              "\n",
              "    .dataframe tbody tr th {\n",
              "        vertical-align: top;\n",
              "    }\n",
              "\n",
              "    .dataframe thead th {\n",
              "        text-align: right;\n",
              "    }\n",
              "</style>\n",
              "<table border=\"1\" class=\"dataframe\">\n",
              "  <thead>\n",
              "    <tr style=\"text-align: right;\">\n",
              "      <th></th>\n",
              "      <th>Area</th>\n",
              "      <th>MajorAxisLength</th>\n",
              "      <th>MinorAxisLength</th>\n",
              "      <th>Eccentricity</th>\n",
              "      <th>ConvexArea</th>\n",
              "      <th>EquivDiameter</th>\n",
              "      <th>Extent</th>\n",
              "      <th>Perimeter</th>\n",
              "      <th>Roundness</th>\n",
              "      <th>AspectRation</th>\n",
              "      <th>Class</th>\n",
              "    </tr>\n",
              "  </thead>\n",
              "  <tbody>\n",
              "    <tr>\n",
              "      <th>0</th>\n",
              "      <td>4537</td>\n",
              "      <td>92.229316</td>\n",
              "      <td>64.012769</td>\n",
              "      <td>0.719916</td>\n",
              "      <td>4677</td>\n",
              "      <td>76.004525</td>\n",
              "      <td>0.657536</td>\n",
              "      <td>273.085</td>\n",
              "      <td>0.764510</td>\n",
              "      <td>1.440796</td>\n",
              "      <td>1</td>\n",
              "    </tr>\n",
              "    <tr>\n",
              "      <th>1</th>\n",
              "      <td>2872</td>\n",
              "      <td>74.691881</td>\n",
              "      <td>51.400454</td>\n",
              "      <td>0.725553</td>\n",
              "      <td>3015</td>\n",
              "      <td>60.471018</td>\n",
              "      <td>0.713009</td>\n",
              "      <td>208.317</td>\n",
              "      <td>0.831658</td>\n",
              "      <td>1.453137</td>\n",
              "      <td>1</td>\n",
              "    </tr>\n",
              "    <tr>\n",
              "      <th>2</th>\n",
              "      <td>3048</td>\n",
              "      <td>76.293164</td>\n",
              "      <td>52.043491</td>\n",
              "      <td>0.731211</td>\n",
              "      <td>3132</td>\n",
              "      <td>62.296341</td>\n",
              "      <td>0.759153</td>\n",
              "      <td>210.012</td>\n",
              "      <td>0.868434</td>\n",
              "      <td>1.465950</td>\n",
              "      <td>1</td>\n",
              "    </tr>\n",
              "    <tr>\n",
              "      <th>3</th>\n",
              "      <td>3073</td>\n",
              "      <td>77.033628</td>\n",
              "      <td>51.928487</td>\n",
              "      <td>0.738639</td>\n",
              "      <td>3157</td>\n",
              "      <td>62.551300</td>\n",
              "      <td>0.783529</td>\n",
              "      <td>210.657</td>\n",
              "      <td>0.870203</td>\n",
              "      <td>1.483456</td>\n",
              "      <td>1</td>\n",
              "    </tr>\n",
              "    <tr>\n",
              "      <th>4</th>\n",
              "      <td>3693</td>\n",
              "      <td>85.124785</td>\n",
              "      <td>56.374021</td>\n",
              "      <td>0.749282</td>\n",
              "      <td>3802</td>\n",
              "      <td>68.571668</td>\n",
              "      <td>0.769375</td>\n",
              "      <td>230.332</td>\n",
              "      <td>0.874743</td>\n",
              "      <td>1.510000</td>\n",
              "      <td>1</td>\n",
              "    </tr>\n",
              "  </tbody>\n",
              "</table>\n",
              "</div>"
            ],
            "text/plain": [
              "   Area  MajorAxisLength  MinorAxisLength  Eccentricity  ConvexArea  \\\n",
              "0  4537        92.229316        64.012769      0.719916        4677   \n",
              "1  2872        74.691881        51.400454      0.725553        3015   \n",
              "2  3048        76.293164        52.043491      0.731211        3132   \n",
              "3  3073        77.033628        51.928487      0.738639        3157   \n",
              "4  3693        85.124785        56.374021      0.749282        3802   \n",
              "\n",
              "   EquivDiameter    Extent  Perimeter  Roundness  AspectRation  Class  \n",
              "0      76.004525  0.657536    273.085   0.764510      1.440796      1  \n",
              "1      60.471018  0.713009    208.317   0.831658      1.453137      1  \n",
              "2      62.296341  0.759153    210.012   0.868434      1.465950      1  \n",
              "3      62.551300  0.783529    210.657   0.870203      1.483456      1  \n",
              "4      68.571668  0.769375    230.332   0.874743      1.510000      1  "
            ]
          },
          "execution_count": 37,
          "metadata": {},
          "output_type": "execute_result"
        }
      ],
      "source": [
        "df.drop(columns=['id'],inplace=True)\n",
        "df.head()"
      ]
    },
    {
      "cell_type": "code",
      "execution_count": 38,
      "metadata": {
        "colab": {
          "base_uri": "https://localhost:8080/",
          "height": 454
        },
        "id": "M4bttOREE4Tu",
        "outputId": "6894f096-9420-4d20-a21d-85c784829de3"
      },
      "outputs": [
        {
          "data": {
            "text/html": [
              "<div>\n",
              "<style scoped>\n",
              "    .dataframe tbody tr th:only-of-type {\n",
              "        vertical-align: middle;\n",
              "    }\n",
              "\n",
              "    .dataframe tbody tr th {\n",
              "        vertical-align: top;\n",
              "    }\n",
              "\n",
              "    .dataframe thead th {\n",
              "        text-align: right;\n",
              "    }\n",
              "</style>\n",
              "<table border=\"1\" class=\"dataframe\">\n",
              "  <thead>\n",
              "    <tr style=\"text-align: right;\">\n",
              "      <th></th>\n",
              "      <th>Area</th>\n",
              "      <th>MajorAxisLength</th>\n",
              "      <th>MinorAxisLength</th>\n",
              "      <th>Eccentricity</th>\n",
              "      <th>ConvexArea</th>\n",
              "      <th>EquivDiameter</th>\n",
              "      <th>Extent</th>\n",
              "      <th>Perimeter</th>\n",
              "      <th>Roundness</th>\n",
              "      <th>AspectRation</th>\n",
              "      <th>Class</th>\n",
              "    </tr>\n",
              "  </thead>\n",
              "  <tbody>\n",
              "    <tr>\n",
              "      <th>Area</th>\n",
              "      <td>1.000000</td>\n",
              "      <td>0.599939</td>\n",
              "      <td>0.930215</td>\n",
              "      <td>-0.550073</td>\n",
              "      <td>0.999362</td>\n",
              "      <td>0.998158</td>\n",
              "      <td>0.230541</td>\n",
              "      <td>0.881540</td>\n",
              "      <td>0.620490</td>\n",
              "      <td>-0.623979</td>\n",
              "      <td>-0.816589</td>\n",
              "    </tr>\n",
              "    <tr>\n",
              "      <th>MajorAxisLength</th>\n",
              "      <td>0.599939</td>\n",
              "      <td>1.000000</td>\n",
              "      <td>0.273211</td>\n",
              "      <td>0.295717</td>\n",
              "      <td>0.602061</td>\n",
              "      <td>0.618002</td>\n",
              "      <td>-0.073549</td>\n",
              "      <td>0.870178</td>\n",
              "      <td>-0.202566</td>\n",
              "      <td>0.240471</td>\n",
              "      <td>-0.147741</td>\n",
              "    </tr>\n",
              "    <tr>\n",
              "      <th>MinorAxisLength</th>\n",
              "      <td>0.930215</td>\n",
              "      <td>0.273211</td>\n",
              "      <td>1.000000</td>\n",
              "      <td>-0.808640</td>\n",
              "      <td>0.928992</td>\n",
              "      <td>0.923790</td>\n",
              "      <td>0.308541</td>\n",
              "      <td>0.674249</td>\n",
              "      <td>0.834398</td>\n",
              "      <td>-0.860516</td>\n",
              "      <td>-0.917766</td>\n",
              "    </tr>\n",
              "    <tr>\n",
              "      <th>Eccentricity</th>\n",
              "      <td>-0.550073</td>\n",
              "      <td>0.295717</td>\n",
              "      <td>-0.808640</td>\n",
              "      <td>1.000000</td>\n",
              "      <td>-0.547896</td>\n",
              "      <td>-0.534688</td>\n",
              "      <td>-0.329954</td>\n",
              "      <td>-0.165915</td>\n",
              "      <td>-0.903657</td>\n",
              "      <td>0.950301</td>\n",
              "      <td>0.788636</td>\n",
              "    </tr>\n",
              "    <tr>\n",
              "      <th>ConvexArea</th>\n",
              "      <td>0.999362</td>\n",
              "      <td>0.602061</td>\n",
              "      <td>0.928992</td>\n",
              "      <td>-0.547896</td>\n",
              "      <td>1.000000</td>\n",
              "      <td>0.997403</td>\n",
              "      <td>0.227359</td>\n",
              "      <td>0.886987</td>\n",
              "      <td>0.610236</td>\n",
              "      <td>-0.621472</td>\n",
              "      <td>-0.814214</td>\n",
              "    </tr>\n",
              "    <tr>\n",
              "      <th>EquivDiameter</th>\n",
              "      <td>0.998158</td>\n",
              "      <td>0.618002</td>\n",
              "      <td>0.923790</td>\n",
              "      <td>-0.534688</td>\n",
              "      <td>0.997403</td>\n",
              "      <td>1.000000</td>\n",
              "      <td>0.225944</td>\n",
              "      <td>0.891567</td>\n",
              "      <td>0.607432</td>\n",
              "      <td>-0.609957</td>\n",
              "      <td>-0.809361</td>\n",
              "    </tr>\n",
              "    <tr>\n",
              "      <th>Extent</th>\n",
              "      <td>0.230541</td>\n",
              "      <td>-0.073549</td>\n",
              "      <td>0.308541</td>\n",
              "      <td>-0.329954</td>\n",
              "      <td>0.227359</td>\n",
              "      <td>0.225944</td>\n",
              "      <td>1.000000</td>\n",
              "      <td>0.073227</td>\n",
              "      <td>0.366793</td>\n",
              "      <td>-0.350875</td>\n",
              "      <td>-0.303440</td>\n",
              "    </tr>\n",
              "    <tr>\n",
              "      <th>Perimeter</th>\n",
              "      <td>0.881540</td>\n",
              "      <td>0.870178</td>\n",
              "      <td>0.674249</td>\n",
              "      <td>-0.165915</td>\n",
              "      <td>0.886987</td>\n",
              "      <td>0.891567</td>\n",
              "      <td>0.073227</td>\n",
              "      <td>1.000000</td>\n",
              "      <td>0.186063</td>\n",
              "      <td>-0.227256</td>\n",
              "      <td>-0.533274</td>\n",
              "    </tr>\n",
              "    <tr>\n",
              "      <th>Roundness</th>\n",
              "      <td>0.620490</td>\n",
              "      <td>-0.202566</td>\n",
              "      <td>0.834398</td>\n",
              "      <td>-0.903657</td>\n",
              "      <td>0.610236</td>\n",
              "      <td>0.607432</td>\n",
              "      <td>0.366793</td>\n",
              "      <td>0.186063</td>\n",
              "      <td>1.000000</td>\n",
              "      <td>-0.947875</td>\n",
              "      <td>-0.831759</td>\n",
              "    </tr>\n",
              "    <tr>\n",
              "      <th>AspectRation</th>\n",
              "      <td>-0.623979</td>\n",
              "      <td>0.240471</td>\n",
              "      <td>-0.860516</td>\n",
              "      <td>0.950301</td>\n",
              "      <td>-0.621472</td>\n",
              "      <td>-0.609957</td>\n",
              "      <td>-0.350875</td>\n",
              "      <td>-0.227256</td>\n",
              "      <td>-0.947875</td>\n",
              "      <td>1.000000</td>\n",
              "      <td>0.832563</td>\n",
              "    </tr>\n",
              "    <tr>\n",
              "      <th>Class</th>\n",
              "      <td>-0.816589</td>\n",
              "      <td>-0.147741</td>\n",
              "      <td>-0.917766</td>\n",
              "      <td>0.788636</td>\n",
              "      <td>-0.814214</td>\n",
              "      <td>-0.809361</td>\n",
              "      <td>-0.303440</td>\n",
              "      <td>-0.533274</td>\n",
              "      <td>-0.831759</td>\n",
              "      <td>0.832563</td>\n",
              "      <td>1.000000</td>\n",
              "    </tr>\n",
              "  </tbody>\n",
              "</table>\n",
              "</div>"
            ],
            "text/plain": [
              "                     Area  MajorAxisLength  MinorAxisLength  Eccentricity  \\\n",
              "Area             1.000000         0.599939         0.930215     -0.550073   \n",
              "MajorAxisLength  0.599939         1.000000         0.273211      0.295717   \n",
              "MinorAxisLength  0.930215         0.273211         1.000000     -0.808640   \n",
              "Eccentricity    -0.550073         0.295717        -0.808640      1.000000   \n",
              "ConvexArea       0.999362         0.602061         0.928992     -0.547896   \n",
              "EquivDiameter    0.998158         0.618002         0.923790     -0.534688   \n",
              "Extent           0.230541        -0.073549         0.308541     -0.329954   \n",
              "Perimeter        0.881540         0.870178         0.674249     -0.165915   \n",
              "Roundness        0.620490        -0.202566         0.834398     -0.903657   \n",
              "AspectRation    -0.623979         0.240471        -0.860516      0.950301   \n",
              "Class           -0.816589        -0.147741        -0.917766      0.788636   \n",
              "\n",
              "                 ConvexArea  EquivDiameter    Extent  Perimeter  Roundness  \\\n",
              "Area               0.999362       0.998158  0.230541   0.881540   0.620490   \n",
              "MajorAxisLength    0.602061       0.618002 -0.073549   0.870178  -0.202566   \n",
              "MinorAxisLength    0.928992       0.923790  0.308541   0.674249   0.834398   \n",
              "Eccentricity      -0.547896      -0.534688 -0.329954  -0.165915  -0.903657   \n",
              "ConvexArea         1.000000       0.997403  0.227359   0.886987   0.610236   \n",
              "EquivDiameter      0.997403       1.000000  0.225944   0.891567   0.607432   \n",
              "Extent             0.227359       0.225944  1.000000   0.073227   0.366793   \n",
              "Perimeter          0.886987       0.891567  0.073227   1.000000   0.186063   \n",
              "Roundness          0.610236       0.607432  0.366793   0.186063   1.000000   \n",
              "AspectRation      -0.621472      -0.609957 -0.350875  -0.227256  -0.947875   \n",
              "Class             -0.814214      -0.809361 -0.303440  -0.533274  -0.831759   \n",
              "\n",
              "                 AspectRation     Class  \n",
              "Area                -0.623979 -0.816589  \n",
              "MajorAxisLength      0.240471 -0.147741  \n",
              "MinorAxisLength     -0.860516 -0.917766  \n",
              "Eccentricity         0.950301  0.788636  \n",
              "ConvexArea          -0.621472 -0.814214  \n",
              "EquivDiameter       -0.609957 -0.809361  \n",
              "Extent              -0.350875 -0.303440  \n",
              "Perimeter           -0.227256 -0.533274  \n",
              "Roundness           -0.947875 -0.831759  \n",
              "AspectRation         1.000000  0.832563  \n",
              "Class                0.832563  1.000000  "
            ]
          },
          "execution_count": 38,
          "metadata": {},
          "output_type": "execute_result"
        }
      ],
      "source": [
        "df.corr()"
      ]
    },
    {
      "cell_type": "markdown",
      "metadata": {},
      "source": [
        "### Exploratory Data Analysis"
      ]
    },
    {
      "cell_type": "code",
      "execution_count": 39,
      "metadata": {
        "colab": {
          "base_uri": "https://localhost:8080/",
          "height": 466
        },
        "id": "q8h5ogaREc6C",
        "outputId": "71576201-aec5-4740-d543-a7e075fc6568"
      },
      "outputs": [
        {
          "data": {
            "text/plain": [
              "Text(0.5, 1.0, 'Class distribution')"
            ]
          },
          "execution_count": 39,
          "metadata": {},
          "output_type": "execute_result"
        },
        {
          "data": {
            "image/png": "[encoded data removed]",
            "text/plain": [
              "<Figure size 450x450 with 1 Axes>"
            ]
          },
          "metadata": {
            "needs_background": "dark"
          },
          "output_type": "display_data"
        }
      ],
      "source": [
        "plt.figure(figsize=(3,3),dpi=150)\n",
        "plt.style.use('dark_background')\n",
        "sns.countplot(x='Class', data = df)\n",
        "plt.xlabel('Target classes')\n",
        "plt.ylabel('count of each class')\n",
        "plt.title('Class distribution')\n",
        "#plt.savefig(\"/Users/debjitpal/Documents/GitHub/ML-Crate/Rice type classification/Images/Class_distribution.png\",bbox_inches = 'tight')"
      ]
    },
    {
      "cell_type": "code",
      "execution_count": 40,
      "metadata": {
        "colab": {
          "base_uri": "https://localhost:8080/",
          "height": 698
        },
        "id": "r7KMltovGJVj",
        "outputId": "65f34107-43f7-4a4f-857d-45862678e032"
      },
      "outputs": [
        {
          "data": {
            "text/plain": [
              "Text(0.5, 1.0, 'Correlation Heatmap')"
            ]
          },
          "execution_count": 40,
          "metadata": {},
          "output_type": "execute_result"
        },
        {
          "data": {
            "image/png": "[encoded data removed]",
            "text/plain": [
              "<Figure size 720x720 with 2 Axes>"
            ]
          },
          "metadata": {},
          "output_type": "display_data"
        }
      ],
      "source": [
        "plt.figure(figsize=(10, 10))\n",
        "heatmap = sns.heatmap(df.corr(), vmin= -1, vmax = 1, annot=True)\n",
        "heatmap.set_title('Correlation Heatmap', fontdict={'fontsize':12})\n",
        "#plt.savefig(\"/Users/debjitpal/Documents/GitHub/ML-Crate/Rice type classification/Images/Correlation_heatmap.png\",bbox_inches = 'tight')"
      ]
    },
    {
      "cell_type": "markdown",
      "metadata": {},
      "source": [
        "### Partitioning the dataset into training and test sets"
      ]
    },
    {
      "cell_type": "code",
      "execution_count": 41,
      "metadata": {
        "colab": {
          "base_uri": "https://localhost:8080/"
        },
        "id": "ltgMp7qYJmC2",
        "outputId": "688c09a2-9b22-4f56-b64f-6804b9bc9621"
      },
      "outputs": [
        {
          "name": "stdout",
          "output_type": "stream",
          "text": [
            "//Independent features//\n",
            "   Area  MajorAxisLength  MinorAxisLength  Eccentricity  ConvexArea  \\\n",
            "0  4537        92.229316        64.012769      0.719916        4677   \n",
            "1  2872        74.691881        51.400454      0.725553        3015   \n",
            "2  3048        76.293164        52.043491      0.731211        3132   \n",
            "3  3073        77.033628        51.928487      0.738639        3157   \n",
            "4  3693        85.124785        56.374021      0.749282        3802   \n",
            "\n",
            "   EquivDiameter    Extent  Perimeter  Roundness  AspectRation  \n",
            "0      76.004525  0.657536    273.085   0.764510      1.440796  \n",
            "1      60.471018  0.713009    208.317   0.831658      1.453137  \n",
            "2      62.296341  0.759153    210.012   0.868434      1.465950  \n",
            "3      62.551300  0.783529    210.657   0.870203      1.483456  \n",
            "4      68.571668  0.769375    230.332   0.874743      1.510000  \n",
            "\n",
            "\n",
            "//Dependent feature//\n",
            "0    1\n",
            "1    1\n",
            "2    1\n",
            "3    1\n",
            "4    1\n",
            "Name: Class, dtype: int64\n"
          ]
        }
      ],
      "source": [
        "X=df.iloc[:,:-1]\n",
        "y=df.iloc[:,-1]\n",
        "print(\"//Independent features//\")\n",
        "print(X.head())\n",
        "print(\"\\n\\n//Dependent feature//\")\n",
        "print(y.head())"
      ]
    },
    {
      "cell_type": "markdown",
      "metadata": {},
      "source": [
        "### Train Test Split"
      ]
    },
    {
      "cell_type": "code",
      "execution_count": 42,
      "metadata": {
        "id": "-ffpJauuJuid"
      },
      "outputs": [],
      "source": [
        "X_train,X_test,y_train,y_test=train_test_split(X,y,test_size=0.3,random_state=0)"
      ]
    },
    {
      "cell_type": "markdown",
      "metadata": {},
      "source": [
        "### Feature Scaling"
      ]
    },
    {
      "cell_type": "code",
      "execution_count": 43,
      "metadata": {
        "id": "1mCjwZvuJu6r"
      },
      "outputs": [],
      "source": [
        "scaler=StandardScaler()\n",
        "X_train=scaler.fit_transform(X_train)\n",
        "X_test=scaler.transform(X_test)"
      ]
    },
    {
      "cell_type": "code",
      "execution_count": 44,
      "metadata": {
        "colab": {
          "base_uri": "https://localhost:8080/"
        },
        "id": "5Tt41Bt5JzrJ",
        "outputId": "8592e86f-77d6-4e4c-b024-105aa06af2e5"
      },
      "outputs": [
        {
          "name": "stdout",
          "output_type": "stream",
          "text": [
            "Confusion Matrix \n",
            " [[2442   39]\n",
            " [  31 2944]]\n",
            "\n",
            "\n",
            "Accuracy of Logistic Regression:  98.71700879765396 \n",
            "\n",
            "              precision    recall  f1-score   support\n",
            "\n",
            "           0       0.99      0.98      0.99      2481\n",
            "           1       0.99      0.99      0.99      2975\n",
            "\n",
            "    accuracy                           0.99      5456\n",
            "   macro avg       0.99      0.99      0.99      5456\n",
            "weighted avg       0.99      0.99      0.99      5456\n",
            "\n"
          ]
        }
      ],
      "source": [
        "# Logistic Regression\n",
        "lr=LogisticRegression()\n",
        "lr_mdl=lr.fit(X_train,y_train)\n",
        "lr_pred=lr.predict(X_test)\n",
        "lr_con_matrix=confusion_matrix(y_test,lr_pred)\n",
        "lr_acc=accuracy_score(y_test,lr_pred)\n",
        "print(\"Confusion Matrix\",'\\n',lr_con_matrix)\n",
        "print('\\n')\n",
        "print(\"Accuracy of Logistic Regression: \",lr_acc*100,'\\n')\n",
        "print(classification_report(y_test,lr_pred))"
      ]
    },
    {
      "cell_type": "code",
      "execution_count": 45,
      "metadata": {
        "colab": {
          "base_uri": "https://localhost:8080/"
        },
        "id": "0Gwk5YG1KOTS",
        "outputId": "02f27c55-7a8b-446b-d37d-b933c7d88198"
      },
      "outputs": [
        {
          "name": "stdout",
          "output_type": "stream",
          "text": [
            "Confusion Matrix\n",
            " [[2437   44]\n",
            " [  29 2946]]\n",
            "\n",
            "\n",
            "Accuracy of Random Forest: 98.66202346041055 \n",
            "\n",
            "              precision    recall  f1-score   support\n",
            "\n",
            "           0       0.99      0.98      0.99      2481\n",
            "           1       0.99      0.99      0.99      2975\n",
            "\n",
            "    accuracy                           0.99      5456\n",
            "   macro avg       0.99      0.99      0.99      5456\n",
            "weighted avg       0.99      0.99      0.99      5456\n",
            "\n"
          ]
        }
      ],
      "source": [
        "#Random Forest Classfier\n",
        "rf = RandomForestClassifier()\n",
        "rf.fit(X_train,y_train)\n",
        "rf_pred = rf.predict(X_test)\n",
        "rf_con_matrix = confusion_matrix(y_test, rf_pred)\n",
        "rf_acc = accuracy_score(y_test, rf_pred)\n",
        "print(\"Confusion Matrix\\n\",rf_con_matrix)\n",
        "print(\"\\n\")\n",
        "print(\"Accuracy of Random Forest:\",rf_acc*100,'\\n')\n",
        "print(classification_report(y_test,rf_pred))"
      ]
    },
    {
      "cell_type": "code",
      "execution_count": 46,
      "metadata": {
        "colab": {
          "base_uri": "https://localhost:8080/"
        },
        "id": "GjfyBibFKSEA",
        "outputId": "69c0216a-a206-4f35-b55d-fd7304e1203b"
      },
      "outputs": [
        {
          "name": "stdout",
          "output_type": "stream",
          "text": [
            "Confusion Matrix\n",
            " [[2435   46]\n",
            " [  58 2917]]\n",
            "\n",
            "\n",
            "Accuracy of Decision Tree Classifier: 98.09384164222874 \n",
            "\n",
            "              precision    recall  f1-score   support\n",
            "\n",
            "           0       0.98      0.98      0.98      2481\n",
            "           1       0.98      0.98      0.98      2975\n",
            "\n",
            "    accuracy                           0.98      5456\n",
            "   macro avg       0.98      0.98      0.98      5456\n",
            "weighted avg       0.98      0.98      0.98      5456\n",
            "\n"
          ]
        }
      ],
      "source": [
        "#DecisionTreeClassifier\n",
        "dt = DecisionTreeClassifier()\n",
        "dt.fit(X_train, y_train)\n",
        "dt_pred = dt.predict(X_test)\n",
        "dt_con_matrix = confusion_matrix(y_test, dt_pred)\n",
        "dt_acc = accuracy_score(y_test, dt_pred)\n",
        "print(\"Confusion Matrix\\n\",dt_con_matrix)\n",
        "print(\"\\n\")\n",
        "print(\"Accuracy of Decision Tree Classifier:\",dt_acc*100,'\\n')\n",
        "print(classification_report(y_test,dt_pred))"
      ]
    },
    {
      "cell_type": "code",
      "execution_count": 47,
      "metadata": {
        "colab": {
          "base_uri": "https://localhost:8080/",
          "height": 724
        },
        "id": "dsE5nZI-Kif1",
        "outputId": "ca808518-1390-440d-8072-ddbc1525b2cb"
      },
      "outputs": [
        {
          "data": {
            "image/png": "[encoded data removed]",
            "text/plain": [
              "<Figure size 750x750 with 1 Axes>"
            ]
          },
          "metadata": {},
          "output_type": "display_data"
        }
      ],
      "source": [
        "y_score1 = lr.predict_proba(X_test)[:,1]\n",
        "y_score2 = rf.predict_proba(X_test)[:,1]\n",
        "y_score3 = dt.predict_proba(X_test)[:,1]\n",
        "\n",
        "false_positive_rate1, true_positive_rate1, threshold1 = roc_curve(y_test, y_score1)\n",
        "false_positive_rate2, true_positive_rate2, threshold2 = roc_curve(y_test, y_score2)\n",
        "false_positive_rate3, true_positive_rate3, threshold3 = roc_curve(y_test, y_score3)\n",
        "\n",
        "plt.figure(figsize=(5,5),dpi=150)\n",
        "plt.title('Receiver Operating Characteristic (ROC) Curve')\n",
        "plt.plot(false_positive_rate1,true_positive_rate1, color='red', label = \"Logistic Regression\")\n",
        "plt.plot(false_positive_rate2,true_positive_rate2, color='blue', label = \"Random Forest\")\n",
        "plt.plot(false_positive_rate3,true_positive_rate3, color='green', label = \"Decision Tree\")\n",
        "plt.legend(loc = 'lower right')\n",
        "plt.plot([0, 1], [0, 1],linestyle='--')\n",
        "plt.axis('tight')\n",
        "plt.ylabel('True Positive Rate')\n",
        "plt.xlabel('False Positive Rate')\n",
        "#plt.savefig(\"/Users/debjitpal/Documents/GitHub/ML-Crate/Rice type classification/Images/ROC_curve.png\",bbox_inches = 'tight')"
      ]
    },
    {
      "cell_type": "code",
      "execution_count": 48,
      "metadata": {
        "colab": {
          "base_uri": "https://localhost:8080/",
          "height": 142
        },
        "id": "-KryJWanKsTc",
        "outputId": "0103e63d-90f7-483a-a94d-7b9dc2572443"
      },
      "outputs": [
        {
          "data": {
            "text/html": [
              "<div>\n",
              "<style scoped>\n",
              "    .dataframe tbody tr th:only-of-type {\n",
              "        vertical-align: middle;\n",
              "    }\n",
              "\n",
              "    .dataframe tbody tr th {\n",
              "        vertical-align: top;\n",
              "    }\n",
              "\n",
              "    .dataframe thead th {\n",
              "        text-align: right;\n",
              "    }\n",
              "</style>\n",
              "<table border=\"1\" class=\"dataframe\">\n",
              "  <thead>\n",
              "    <tr style=\"text-align: right;\">\n",
              "      <th></th>\n",
              "      <th>Model</th>\n",
              "      <th>Accuracy</th>\n",
              "    </tr>\n",
              "  </thead>\n",
              "  <tbody>\n",
              "    <tr>\n",
              "      <th>0</th>\n",
              "      <td>Logistic Regression</td>\n",
              "      <td>98.717009</td>\n",
              "    </tr>\n",
              "    <tr>\n",
              "      <th>1</th>\n",
              "      <td>Random Forest</td>\n",
              "      <td>98.662023</td>\n",
              "    </tr>\n",
              "    <tr>\n",
              "      <th>2</th>\n",
              "      <td>Decision Tree</td>\n",
              "      <td>98.093842</td>\n",
              "    </tr>\n",
              "  </tbody>\n",
              "</table>\n",
              "</div>"
            ],
            "text/plain": [
              "                 Model   Accuracy\n",
              "0  Logistic Regression  98.717009\n",
              "1        Random Forest  98.662023\n",
              "2        Decision Tree  98.093842"
            ]
          },
          "execution_count": 48,
          "metadata": {},
          "output_type": "execute_result"
        }
      ],
      "source": [
        "mdl_evl = pd.DataFrame({'Model': ['Logistic Regression','Random Forest', 'Decision Tree'], 'Accuracy': [lr_acc*100,rf_acc*100,dt_acc*100]})\n",
        "mdl_evl"
      ]
    },
    {
      "cell_type": "code",
      "execution_count": 49,
      "metadata": {
        "colab": {
          "base_uri": "https://localhost:8080/",
          "height": 546
        },
        "id": "ZudgOLdAKw6c",
        "outputId": "1fd98248-8662-44c7-aaa2-2621cc4a018d"
      },
      "outputs": [
        {
          "data": {
            "image/png": "[encoded data removed]",
            "text/plain": [
              "<Figure size 1440x720 with 1 Axes>"
            ]
          },
          "metadata": {},
          "output_type": "display_data"
        }
      ],
      "source": [
        "pal=['red','blue','green']\n",
        "fig, ax = plt.subplots(figsize=(20,10))\n",
        "sns.barplot(x=\"Model\",y=\"Accuracy\",palette=pal,data=mdl_evl)\n",
        "plt.title('Model Accuracy')\n",
        "plt.xlabel('Model')\n",
        "plt.ylabel('Accuracy')\n",
        "#plt.savefig(\"/Users/debjitpal/Documents/GitHub/ML-Crate/Rice type classification/Images/Model_accuracy.png\",bbox_inches = 'tight')"
      ]
    },
    {
      "cell_type": "markdown",
      "metadata": {},
      "source": [
        "So according to the accuracy scores the best model is Logistic Regression."
      ]
    }
  ],
  "metadata": {
    "colab": {
      "collapsed_sections": [],
      "name": "rice.ipynb",
      "provenance": []
    },
    "kernelspec": {
      "display_name": "myenv",
      "language": "python",
      "name": "myenv"
    },
    "language_info": {
      "codemirror_mode": {
        "name": "ipython",
        "version": 3
      },
      "file_extension": ".py",
      "mimetype": "text/x-python",
      "name": "python",
      "nbconvert_exporter": "python",
      "pygments_lexer": "ipython3",
      "version": "3.9.10"
    }
  },
  "nbformat": 4,
  "nbformat_minor": 0
}
