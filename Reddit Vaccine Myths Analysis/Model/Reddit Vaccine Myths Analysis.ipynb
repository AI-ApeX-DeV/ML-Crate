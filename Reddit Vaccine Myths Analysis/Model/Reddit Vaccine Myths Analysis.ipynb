{
 "cells": [
  {
   "cell_type": "markdown",
   "id": "97ca8766-ed06-414b-ae1f-0b37a8d38412",
   "metadata": {},
   "source": [
    "# Reddit Vaccine Myths Analysis\n",
    "Aim of the project is to analyze the vaccine myths on Reddit."
   ]
  },
  {
   "cell_type": "markdown",
   "id": "3561e09c-c833-4ea3-b0e0-9d97a5ae0a39",
   "metadata": {},
   "source": [
    "# DataSet\n",
    "I have Downloaded this dataset from kaggle website. Here is the link: https://www.kaggle.com/gpreda/reddit-vaccine-myths"
   ]
  },
  {
   "cell_type": "markdown",
   "id": "3afe60cc-9fdc-499e-8618-6e4eb2d51fef",
   "metadata": {},
   "source": [
    "# What are we required to do\n",
    "We have to analyze the vaccine myths on Reddit."
   ]
  },
  {
   "cell_type": "markdown",
   "id": "dbd1bac5-5222-483d-9b3e-10215d878c03",
   "metadata": {},
   "source": [
    "# Importing the Required Libraries"
   ]
  },
  {
   "cell_type": "code",
   "execution_count": 3,
   "id": "6c6e3927-b22b-4c59-8c54-202e4df77856",
   "metadata": {},
   "outputs": [],
   "source": [
    "import pandas as pd\n",
    "import numpy as np\n",
    "import matplotlib.pyplot as plt\n",
    "import seaborn as sns\n",
    "import sklearn\n",
    "import spacy\n",
    "import re, string\n",
    "from spacy.lang.en.stop_words import STOP_WORDS\n",
    "from textblob import TextBlob \n",
    "from sklearn.decomposition import NMF \n",
    "from sklearn.feature_extraction.text import TfidfVectorizer"
   ]
  },
  {
   "cell_type": "code",
   "execution_count": 4,
   "id": "82ed4611-2e00-4061-aed8-ea759b071c35",
   "metadata": {},
   "outputs": [],
   "source": [
    "df = pd.read_csv('reddit_vm.csv')"
   ]
  },
  {
   "cell_type": "code",
   "execution_count": 5,
   "id": "6bb90c97-65e2-41c4-84db-38f6ee43eebe",
   "metadata": {},
   "outputs": [
    {
     "data": {
      "text/html": [
       "<div>\n",
       "<style scoped>\n",
       "    .dataframe tbody tr th:only-of-type {\n",
       "        vertical-align: middle;\n",
       "    }\n",
       "\n",
       "    .dataframe tbody tr th {\n",
       "        vertical-align: top;\n",
       "    }\n",
       "\n",
       "    .dataframe thead th {\n",
       "        text-align: right;\n",
       "    }\n",
       "</style>\n",
       "<table border=\"1\" class=\"dataframe\">\n",
       "  <thead>\n",
       "    <tr style=\"text-align: right;\">\n",
       "      <th></th>\n",
       "      <th>title</th>\n",
       "      <th>score</th>\n",
       "      <th>id</th>\n",
       "      <th>url</th>\n",
       "      <th>comms_num</th>\n",
       "      <th>created</th>\n",
       "      <th>body</th>\n",
       "      <th>timestamp</th>\n",
       "    </tr>\n",
       "  </thead>\n",
       "  <tbody>\n",
       "    <tr>\n",
       "      <th>0</th>\n",
       "      <td>Health Canada approves AstraZeneca COVID-19 va...</td>\n",
       "      <td>7</td>\n",
       "      <td>lt74vw</td>\n",
       "      <td>https://www.canadaforums.ca/2021/02/health-can...</td>\n",
       "      <td>0</td>\n",
       "      <td>1.614400e+09</td>\n",
       "      <td>NaN</td>\n",
       "      <td>2021-02-27 06:33:45</td>\n",
       "    </tr>\n",
       "    <tr>\n",
       "      <th>1</th>\n",
       "      <td>COVID-19 in Canada: 'Vaccination passports' a ...</td>\n",
       "      <td>2</td>\n",
       "      <td>lsh0ij</td>\n",
       "      <td>https://www.canadaforums.ca/2021/02/covid-19-i...</td>\n",
       "      <td>1</td>\n",
       "      <td>1.614316e+09</td>\n",
       "      <td>NaN</td>\n",
       "      <td>2021-02-26 07:11:07</td>\n",
       "    </tr>\n",
       "    <tr>\n",
       "      <th>2</th>\n",
       "      <td>Coronavirus variants could fuel Canada's third...</td>\n",
       "      <td>6</td>\n",
       "      <td>lohlle</td>\n",
       "      <td>https://www.canadaforums.ca/2021/02/coronaviru...</td>\n",
       "      <td>0</td>\n",
       "      <td>1.613887e+09</td>\n",
       "      <td>NaN</td>\n",
       "      <td>2021-02-21 07:50:08</td>\n",
       "    </tr>\n",
       "    <tr>\n",
       "      <th>3</th>\n",
       "      <td>Canadian government to extend COVID-19 emergen...</td>\n",
       "      <td>1</td>\n",
       "      <td>lnptv8</td>\n",
       "      <td>https://www.canadaforums.ca/2021/02/canadian-g...</td>\n",
       "      <td>0</td>\n",
       "      <td>1.613796e+09</td>\n",
       "      <td>NaN</td>\n",
       "      <td>2021-02-20 06:35:13</td>\n",
       "    </tr>\n",
       "    <tr>\n",
       "      <th>4</th>\n",
       "      <td>Canada: Pfizer is 'extremely committed' to mee...</td>\n",
       "      <td>6</td>\n",
       "      <td>lkslm6</td>\n",
       "      <td>https://www.canadaforums.ca/2021/02/canada-pfi...</td>\n",
       "      <td>0</td>\n",
       "      <td>1.613468e+09</td>\n",
       "      <td>NaN</td>\n",
       "      <td>2021-02-16 11:36:28</td>\n",
       "    </tr>\n",
       "  </tbody>\n",
       "</table>\n",
       "</div>"
      ],
      "text/plain": [
       "                                               title  score      id  \\\n",
       "0  Health Canada approves AstraZeneca COVID-19 va...      7  lt74vw   \n",
       "1  COVID-19 in Canada: 'Vaccination passports' a ...      2  lsh0ij   \n",
       "2  Coronavirus variants could fuel Canada's third...      6  lohlle   \n",
       "3  Canadian government to extend COVID-19 emergen...      1  lnptv8   \n",
       "4  Canada: Pfizer is 'extremely committed' to mee...      6  lkslm6   \n",
       "\n",
       "                                                 url  comms_num       created  \\\n",
       "0  https://www.canadaforums.ca/2021/02/health-can...          0  1.614400e+09   \n",
       "1  https://www.canadaforums.ca/2021/02/covid-19-i...          1  1.614316e+09   \n",
       "2  https://www.canadaforums.ca/2021/02/coronaviru...          0  1.613887e+09   \n",
       "3  https://www.canadaforums.ca/2021/02/canadian-g...          0  1.613796e+09   \n",
       "4  https://www.canadaforums.ca/2021/02/canada-pfi...          0  1.613468e+09   \n",
       "\n",
       "  body            timestamp  \n",
       "0  NaN  2021-02-27 06:33:45  \n",
       "1  NaN  2021-02-26 07:11:07  \n",
       "2  NaN  2021-02-21 07:50:08  \n",
       "3  NaN  2021-02-20 06:35:13  \n",
       "4  NaN  2021-02-16 11:36:28  "
      ]
     },
     "execution_count": 5,
     "metadata": {},
     "output_type": "execute_result"
    }
   ],
   "source": [
    "df.head()"
   ]
  },
  {
   "cell_type": "code",
   "execution_count": 6,
   "id": "790f2cbc-f746-4111-b70a-43927054226d",
   "metadata": {},
   "outputs": [
    {
     "name": "stdout",
     "output_type": "stream",
     "text": [
      "<class 'pandas.core.frame.DataFrame'>\n",
      "RangeIndex: 1602 entries, 0 to 1601\n",
      "Data columns (total 8 columns):\n",
      " #   Column     Non-Null Count  Dtype  \n",
      "---  ------     --------------  -----  \n",
      " 0   title      1602 non-null   object \n",
      " 1   score      1602 non-null   int64  \n",
      " 2   id         1602 non-null   object \n",
      " 3   url        469 non-null    object \n",
      " 4   comms_num  1602 non-null   int64  \n",
      " 5   created    1602 non-null   float64\n",
      " 6   body       1226 non-null   object \n",
      " 7   timestamp  1602 non-null   object \n",
      "dtypes: float64(1), int64(2), object(5)\n",
      "memory usage: 100.2+ KB\n"
     ]
    }
   ],
   "source": [
    "df.info()"
   ]
  },
  {
   "cell_type": "code",
   "execution_count": 8,
   "id": "9d4cde92-43ad-4c4f-8f9d-05ddf16babc7",
   "metadata": {},
   "outputs": [],
   "source": [
    "df.drop(columns=['id', 'url', 'created'], inplace=True)"
   ]
  },
  {
   "cell_type": "code",
   "execution_count": 9,
   "id": "c0e7d1ba-3199-463a-993a-f627bedcfc3b",
   "metadata": {},
   "outputs": [
    {
     "data": {
      "text/html": [
       "<div>\n",
       "<style scoped>\n",
       "    .dataframe tbody tr th:only-of-type {\n",
       "        vertical-align: middle;\n",
       "    }\n",
       "\n",
       "    .dataframe tbody tr th {\n",
       "        vertical-align: top;\n",
       "    }\n",
       "\n",
       "    .dataframe thead th {\n",
       "        text-align: right;\n",
       "    }\n",
       "</style>\n",
       "<table border=\"1\" class=\"dataframe\">\n",
       "  <thead>\n",
       "    <tr style=\"text-align: right;\">\n",
       "      <th></th>\n",
       "      <th>title</th>\n",
       "      <th>score</th>\n",
       "      <th>comms_num</th>\n",
       "      <th>body</th>\n",
       "      <th>timestamp</th>\n",
       "    </tr>\n",
       "  </thead>\n",
       "  <tbody>\n",
       "    <tr>\n",
       "      <th>0</th>\n",
       "      <td>Health Canada approves AstraZeneca COVID-19 va...</td>\n",
       "      <td>7</td>\n",
       "      <td>0</td>\n",
       "      <td>NaN</td>\n",
       "      <td>2021-02-27 06:33:45</td>\n",
       "    </tr>\n",
       "    <tr>\n",
       "      <th>1</th>\n",
       "      <td>COVID-19 in Canada: 'Vaccination passports' a ...</td>\n",
       "      <td>2</td>\n",
       "      <td>1</td>\n",
       "      <td>NaN</td>\n",
       "      <td>2021-02-26 07:11:07</td>\n",
       "    </tr>\n",
       "    <tr>\n",
       "      <th>2</th>\n",
       "      <td>Coronavirus variants could fuel Canada's third...</td>\n",
       "      <td>6</td>\n",
       "      <td>0</td>\n",
       "      <td>NaN</td>\n",
       "      <td>2021-02-21 07:50:08</td>\n",
       "    </tr>\n",
       "    <tr>\n",
       "      <th>3</th>\n",
       "      <td>Canadian government to extend COVID-19 emergen...</td>\n",
       "      <td>1</td>\n",
       "      <td>0</td>\n",
       "      <td>NaN</td>\n",
       "      <td>2021-02-20 06:35:13</td>\n",
       "    </tr>\n",
       "    <tr>\n",
       "      <th>4</th>\n",
       "      <td>Canada: Pfizer is 'extremely committed' to mee...</td>\n",
       "      <td>6</td>\n",
       "      <td>0</td>\n",
       "      <td>NaN</td>\n",
       "      <td>2021-02-16 11:36:28</td>\n",
       "    </tr>\n",
       "  </tbody>\n",
       "</table>\n",
       "</div>"
      ],
      "text/plain": [
       "                                               title  score  comms_num body  \\\n",
       "0  Health Canada approves AstraZeneca COVID-19 va...      7          0  NaN   \n",
       "1  COVID-19 in Canada: 'Vaccination passports' a ...      2          1  NaN   \n",
       "2  Coronavirus variants could fuel Canada's third...      6          0  NaN   \n",
       "3  Canadian government to extend COVID-19 emergen...      1          0  NaN   \n",
       "4  Canada: Pfizer is 'extremely committed' to mee...      6          0  NaN   \n",
       "\n",
       "             timestamp  \n",
       "0  2021-02-27 06:33:45  \n",
       "1  2021-02-26 07:11:07  \n",
       "2  2021-02-21 07:50:08  \n",
       "3  2021-02-20 06:35:13  \n",
       "4  2021-02-16 11:36:28  "
      ]
     },
     "execution_count": 9,
     "metadata": {},
     "output_type": "execute_result"
    }
   ],
   "source": [
    "df.head()"
   ]
  },
  {
   "cell_type": "code",
   "execution_count": 10,
   "id": "6329b074-6209-42c9-99ca-98facc335256",
   "metadata": {},
   "outputs": [
    {
     "data": {
      "text/html": [
       "<div>\n",
       "<style scoped>\n",
       "    .dataframe tbody tr th:only-of-type {\n",
       "        vertical-align: middle;\n",
       "    }\n",
       "\n",
       "    .dataframe tbody tr th {\n",
       "        vertical-align: top;\n",
       "    }\n",
       "\n",
       "    .dataframe thead th {\n",
       "        text-align: right;\n",
       "    }\n",
       "</style>\n",
       "<table border=\"1\" class=\"dataframe\">\n",
       "  <thead>\n",
       "    <tr style=\"text-align: right;\">\n",
       "      <th></th>\n",
       "      <th>title</th>\n",
       "      <th>score</th>\n",
       "      <th>comms_num</th>\n",
       "      <th>body</th>\n",
       "      <th>timestamp</th>\n",
       "    </tr>\n",
       "  </thead>\n",
       "  <tbody>\n",
       "    <tr>\n",
       "      <th>0</th>\n",
       "      <td>Health Canada approves AstraZeneca COVID-19 va...</td>\n",
       "      <td>7</td>\n",
       "      <td>0</td>\n",
       "      <td>NaN</td>\n",
       "      <td>2021-02-27 06:33:45</td>\n",
       "    </tr>\n",
       "    <tr>\n",
       "      <th>1</th>\n",
       "      <td>COVID-19 in Canada: 'Vaccination passports' a ...</td>\n",
       "      <td>2</td>\n",
       "      <td>1</td>\n",
       "      <td>NaN</td>\n",
       "      <td>2021-02-26 07:11:07</td>\n",
       "    </tr>\n",
       "    <tr>\n",
       "      <th>2</th>\n",
       "      <td>Coronavirus variants could fuel Canada's third...</td>\n",
       "      <td>6</td>\n",
       "      <td>0</td>\n",
       "      <td>NaN</td>\n",
       "      <td>2021-02-21 07:50:08</td>\n",
       "    </tr>\n",
       "    <tr>\n",
       "      <th>3</th>\n",
       "      <td>Canadian government to extend COVID-19 emergen...</td>\n",
       "      <td>1</td>\n",
       "      <td>0</td>\n",
       "      <td>NaN</td>\n",
       "      <td>2021-02-20 06:35:13</td>\n",
       "    </tr>\n",
       "    <tr>\n",
       "      <th>4</th>\n",
       "      <td>Canada: Pfizer is 'extremely committed' to mee...</td>\n",
       "      <td>6</td>\n",
       "      <td>0</td>\n",
       "      <td>NaN</td>\n",
       "      <td>2021-02-16 11:36:28</td>\n",
       "    </tr>\n",
       "  </tbody>\n",
       "</table>\n",
       "</div>"
      ],
      "text/plain": [
       "                                               title  score  comms_num body  \\\n",
       "0  Health Canada approves AstraZeneca COVID-19 va...      7          0  NaN   \n",
       "1  COVID-19 in Canada: 'Vaccination passports' a ...      2          1  NaN   \n",
       "2  Coronavirus variants could fuel Canada's third...      6          0  NaN   \n",
       "3  Canadian government to extend COVID-19 emergen...      1          0  NaN   \n",
       "4  Canada: Pfizer is 'extremely committed' to mee...      6          0  NaN   \n",
       "\n",
       "             timestamp  \n",
       "0  2021-02-27 06:33:45  \n",
       "1  2021-02-26 07:11:07  \n",
       "2  2021-02-21 07:50:08  \n",
       "3  2021-02-20 06:35:13  \n",
       "4  2021-02-16 11:36:28  "
      ]
     },
     "execution_count": 10,
     "metadata": {},
     "output_type": "execute_result"
    }
   ],
   "source": [
    "df.head()"
   ]
  },
  {
   "cell_type": "markdown",
   "id": "8d3e5c47-0fed-49da-8272-3495cc6e212e",
   "metadata": {},
   "source": [
    "# Explore Creation Date and Impact of Posts"
   ]
  },
  {
   "cell_type": "code",
   "execution_count": 11,
   "id": "3118dd4a-2670-4b2a-9a3e-6ccb369acf9f",
   "metadata": {},
   "outputs": [
    {
     "data": {
      "text/plain": [
       "1133"
      ]
     },
     "execution_count": 11,
     "metadata": {},
     "output_type": "execute_result"
    }
   ],
   "source": [
    "sum(df['title'] == 'Comment')"
   ]
  },
  {
   "cell_type": "code",
   "execution_count": 12,
   "id": "a7338732-2d1f-4862-9d97-e5b34f9ec692",
   "metadata": {},
   "outputs": [
    {
     "data": {
      "text/html": [
       "<div>\n",
       "<style scoped>\n",
       "    .dataframe tbody tr th:only-of-type {\n",
       "        vertical-align: middle;\n",
       "    }\n",
       "\n",
       "    .dataframe tbody tr th {\n",
       "        vertical-align: top;\n",
       "    }\n",
       "\n",
       "    .dataframe thead th {\n",
       "        text-align: right;\n",
       "    }\n",
       "</style>\n",
       "<table border=\"1\" class=\"dataframe\">\n",
       "  <thead>\n",
       "    <tr style=\"text-align: right;\">\n",
       "      <th></th>\n",
       "      <th>title</th>\n",
       "      <th>score</th>\n",
       "      <th>comms_num</th>\n",
       "      <th>body</th>\n",
       "      <th>timestamp</th>\n",
       "    </tr>\n",
       "  </thead>\n",
       "  <tbody>\n",
       "    <tr>\n",
       "      <th>512</th>\n",
       "      <td>I would rage if this was handed to me...</td>\n",
       "      <td>1187</td>\n",
       "      <td>595</td>\n",
       "      <td>NaN</td>\n",
       "      <td>2014-04-02 05:32:42</td>\n",
       "    </tr>\n",
       "    <tr>\n",
       "      <th>510</th>\n",
       "      <td>From /r/Rage</td>\n",
       "      <td>45</td>\n",
       "      <td>13</td>\n",
       "      <td>NaN</td>\n",
       "      <td>2014-04-02 23:01:49</td>\n",
       "    </tr>\n",
       "    <tr>\n",
       "      <th>212</th>\n",
       "      <td>Vaccines exposed</td>\n",
       "      <td>38</td>\n",
       "      <td>4</td>\n",
       "      <td>NaN</td>\n",
       "      <td>2020-12-18 05:11:12</td>\n",
       "    </tr>\n",
       "    <tr>\n",
       "      <th>291</th>\n",
       "      <td>Do not give a platform for anti-vaxxers to pro...</td>\n",
       "      <td>32</td>\n",
       "      <td>5</td>\n",
       "      <td>I am of the mind to report social media groups...</td>\n",
       "      <td>2019-02-12 01:04:08</td>\n",
       "    </tr>\n",
       "    <tr>\n",
       "      <th>465</th>\n",
       "      <td>Meet my friend's anti-vax wife</td>\n",
       "      <td>32</td>\n",
       "      <td>1</td>\n",
       "      <td>NaN</td>\n",
       "      <td>2014-04-29 22:47:41</td>\n",
       "    </tr>\n",
       "    <tr>\n",
       "      <th>276</th>\n",
       "      <td>Vaccines have a huge side effect</td>\n",
       "      <td>30</td>\n",
       "      <td>13</td>\n",
       "      <td>Vaccines have a huge side effect, vaccines are...</td>\n",
       "      <td>2019-06-08 11:16:35</td>\n",
       "    </tr>\n",
       "    <tr>\n",
       "      <th>301</th>\n",
       "      <td>Oh no! I got vaccinated!</td>\n",
       "      <td>28</td>\n",
       "      <td>6</td>\n",
       "      <td>\\n\\n\\nAnd I'm completely fine, do some researc...</td>\n",
       "      <td>2018-11-21 20:35:02</td>\n",
       "    </tr>\n",
       "    <tr>\n",
       "      <th>238</th>\n",
       "      <td>How ironic</td>\n",
       "      <td>28</td>\n",
       "      <td>3</td>\n",
       "      <td>NaN</td>\n",
       "      <td>2020-03-06 11:19:39</td>\n",
       "    </tr>\n",
       "    <tr>\n",
       "      <th>246</th>\n",
       "      <td>Vaccinate folks.</td>\n",
       "      <td>27</td>\n",
       "      <td>7</td>\n",
       "      <td>NaN</td>\n",
       "      <td>2020-01-09 03:25:37</td>\n",
       "    </tr>\n",
       "    <tr>\n",
       "      <th>586</th>\n",
       "      <td>Why Trust Scientists?</td>\n",
       "      <td>26</td>\n",
       "      <td>1</td>\n",
       "      <td>NaN</td>\n",
       "      <td>2014-01-17 10:16:45</td>\n",
       "    </tr>\n",
       "  </tbody>\n",
       "</table>\n",
       "</div>"
      ],
      "text/plain": [
       "                                                 title  score  comms_num  \\\n",
       "512           I would rage if this was handed to me...   1187        595   \n",
       "510                                       From /r/Rage     45         13   \n",
       "212                                   Vaccines exposed     38          4   \n",
       "291  Do not give a platform for anti-vaxxers to pro...     32          5   \n",
       "465                     Meet my friend's anti-vax wife     32          1   \n",
       "276                   Vaccines have a huge side effect     30         13   \n",
       "301                           Oh no! I got vaccinated!     28          6   \n",
       "238                                         How ironic     28          3   \n",
       "246                                   Vaccinate folks.     27          7   \n",
       "586                              Why Trust Scientists?     26          1   \n",
       "\n",
       "                                                  body            timestamp  \n",
       "512                                                NaN  2014-04-02 05:32:42  \n",
       "510                                                NaN  2014-04-02 23:01:49  \n",
       "212                                                NaN  2020-12-18 05:11:12  \n",
       "291  I am of the mind to report social media groups...  2019-02-12 01:04:08  \n",
       "465                                                NaN  2014-04-29 22:47:41  \n",
       "276  Vaccines have a huge side effect, vaccines are...  2019-06-08 11:16:35  \n",
       "301  \\n\\n\\nAnd I'm completely fine, do some researc...  2018-11-21 20:35:02  \n",
       "238                                                NaN  2020-03-06 11:19:39  \n",
       "246                                                NaN  2020-01-09 03:25:37  \n",
       "586                                                NaN  2014-01-17 10:16:45  "
      ]
     },
     "execution_count": 12,
     "metadata": {},
     "output_type": "execute_result"
    }
   ],
   "source": [
    "df.sort_values(by=['score'], ascending=False).head(10)"
   ]
  },
  {
   "cell_type": "code",
   "execution_count": 14,
   "id": "ee23e311-a76e-41c9-93fe-aeb4a4068276",
   "metadata": {},
   "outputs": [],
   "source": [
    "df['year'] = pd.DatetimeIndex(df['timestamp']).year\n",
    "df['month'] = pd.DatetimeIndex(df['timestamp']).month"
   ]
  },
  {
   "cell_type": "markdown",
   "id": "e0e8c447-8c8f-43b3-a6f3-fccae0504c41",
   "metadata": {},
   "source": [
    "# Visualisation of Data"
   ]
  },
  {
   "cell_type": "code",
   "execution_count": 16,
   "id": "4e9030dc-302f-4a3b-8b55-e1c13c575e21",
   "metadata": {},
   "outputs": [
    {
     "data": {
      "image/png": "[encoded data removed]",
      "text/plain": [
       "<Figure size 432x288 with 1 Axes>"
      ]
     },
     "metadata": {
      "needs_background": "light"
     },
     "output_type": "display_data"
    }
   ],
   "source": [
    "sns.countplot(x='year', data=df)\n",
    "plt.title('Number of comments per year')\n",
    "plt.show()"
   ]
  },
  {
   "cell_type": "code",
   "execution_count": 17,
   "id": "159ef999-56df-45e1-9305-4e437f290f68",
   "metadata": {},
   "outputs": [
    {
     "data": {
      "image/png": "[encoded data removed]",
      "text/plain": [
       "<Figure size 432x288 with 1 Axes>"
      ]
     },
     "metadata": {
      "needs_background": "light"
     },
     "output_type": "display_data"
    }
   ],
   "source": [
    "sns.countplot(x='month', data=df.loc[df['year'] == 2019])\n",
    "plt.title('Number of comments by month (2019)')\n",
    "plt.show()"
   ]
  },
  {
   "cell_type": "markdown",
   "id": "6ba9f78a-4485-40b0-8a76-20e524f47304",
   "metadata": {},
   "source": [
    "# Text Preprocessing"
   ]
  },
  {
   "cell_type": "code",
   "execution_count": 22,
   "id": "0d7749c4-2e2f-4d96-b084-515a5a55dd0e",
   "metadata": {},
   "outputs": [],
   "source": [
    "def process(sentences):\n",
    "    sentences = str(sentences)\n",
    "    sentences = sentences.lower()\n",
    "    chr = re.sub(r\"[-()\\\"#/@;:<>\\[\\]{}`+=~|.!?,]\", \"\", sentences)\n",
    "    url = re.sub(r'http\\S+', '', chr)\n",
    "    url = re.sub(r'www\\S+', '', url)\n",
    "    nl = re.sub(r'\\n', ' ', url)\n",
    "    num = re.sub(r'[0-9]+', '', nl)\n",
    "    space = re.sub(r'\\s\\s+', ' ', num)\n",
    "    return space\n"
   ]
  },
  {
   "cell_type": "code",
   "execution_count": 23,
   "id": "96540fcd-38b8-4ad5-b3d8-76f915dba202",
   "metadata": {},
   "outputs": [],
   "source": [
    "nlp = spacy.load('en_core_web_sm')\n",
    "STOP_WORDS.update(['vaccine', 'vaccination', 'vaccinate', 'vaccinated', 'use', 'people', 'person', 'like', 'think', 'know', 'case', 'want',\n",
    "                   'mean', 'find', 'read', 'point'])\n",
    "\n",
    "def lemmatize(sentences):\n",
    "    # Create Doc object and disable components we don't need (for efficiency)\n",
    "    doc = nlp(sentences, disable=['ner', 'parser'])\n",
    "\n",
    "    # Generate lemmatized tokens\n",
    "    lemmas = [token.lemma_ for token in doc]\n",
    "\n",
    "    # Remove stopwords and non-alphabetic tokens\n",
    "    alp_lemmas = [lemma for lemma in lemmas \n",
    "                  if lemma.isalpha() and lemma not in STOP_WORDS] \n",
    "\n",
    "    return ' '.join(alp_lemmas)"
   ]
  },
  {
   "cell_type": "code",
   "execution_count": 25,
   "id": "e23e660e-4526-436d-8b2a-36ad483a9dda",
   "metadata": {},
   "outputs": [],
   "source": [
    "df_cleaned = df.copy()\n",
    "\n",
    "# Preprocess and lemmatize the title (non-comment) and body\n",
    "df_cleaned.loc[df_cleaned['title'] != 'Comment', 'title'] = df_cleaned.loc[df_cleaned['title'] != 'Comment', 'title'].apply(process).apply(lemmatize)\n",
    "df_cleaned.loc[~df_cleaned['body'].isnull(), 'body'] = df_cleaned.loc[~df_cleaned['body'].isnull(), 'body'].apply(process).apply(lemmatize)"
   ]
  },
  {
   "cell_type": "code",
   "execution_count": 26,
   "id": "ff65a225-ceba-4e87-89c4-45cf0f026287",
   "metadata": {},
   "outputs": [
    {
     "data": {
      "text/html": [
       "<div>\n",
       "<style scoped>\n",
       "    .dataframe tbody tr th:only-of-type {\n",
       "        vertical-align: middle;\n",
       "    }\n",
       "\n",
       "    .dataframe tbody tr th {\n",
       "        vertical-align: top;\n",
       "    }\n",
       "\n",
       "    .dataframe thead th {\n",
       "        text-align: right;\n",
       "    }\n",
       "</style>\n",
       "<table border=\"1\" class=\"dataframe\">\n",
       "  <thead>\n",
       "    <tr style=\"text-align: right;\">\n",
       "      <th></th>\n",
       "      <th>title</th>\n",
       "      <th>score</th>\n",
       "      <th>comms_num</th>\n",
       "      <th>body</th>\n",
       "      <th>timestamp</th>\n",
       "      <th>year</th>\n",
       "      <th>month</th>\n",
       "    </tr>\n",
       "  </thead>\n",
       "  <tbody>\n",
       "    <tr>\n",
       "      <th>1597</th>\n",
       "      <td>Comment</td>\n",
       "      <td>2</td>\n",
       "      <td>0</td>\n",
       "      <td>lol comprehension comprehensive look post thin...</td>\n",
       "      <td>2019-04-25 23:11:10</td>\n",
       "      <td>2019</td>\n",
       "      <td>4</td>\n",
       "    </tr>\n",
       "    <tr>\n",
       "      <th>1598</th>\n",
       "      <td>Comment</td>\n",
       "      <td>1</td>\n",
       "      <td>0</td>\n",
       "      <td>trouble thing trouble thing try I clever quip ...</td>\n",
       "      <td>2019-04-25 23:02:04</td>\n",
       "      <td>2019</td>\n",
       "      <td>4</td>\n",
       "    </tr>\n",
       "    <tr>\n",
       "      <th>1599</th>\n",
       "      <td>Comment</td>\n",
       "      <td>0</td>\n",
       "      <td>0</td>\n",
       "      <td>music play dance</td>\n",
       "      <td>2019-04-25 22:53:50</td>\n",
       "      <td>2019</td>\n",
       "      <td>4</td>\n",
       "    </tr>\n",
       "    <tr>\n",
       "      <th>1600</th>\n",
       "      <td>Comment</td>\n",
       "      <td>1</td>\n",
       "      <td>0</td>\n",
       "      <td>long ethyl mercury metabolize happen brain lon...</td>\n",
       "      <td>2019-04-25 22:35:39</td>\n",
       "      <td>2019</td>\n",
       "      <td>4</td>\n",
       "    </tr>\n",
       "    <tr>\n",
       "      <th>1601</th>\n",
       "      <td>Comment</td>\n",
       "      <td>1</td>\n",
       "      <td>0</td>\n",
       "      <td>sound I scrape barrel bounce erratically fully...</td>\n",
       "      <td>2019-04-25 22:21:34</td>\n",
       "      <td>2019</td>\n",
       "      <td>4</td>\n",
       "    </tr>\n",
       "  </tbody>\n",
       "</table>\n",
       "</div>"
      ],
      "text/plain": [
       "        title  score  comms_num  \\\n",
       "1597  Comment      2          0   \n",
       "1598  Comment      1          0   \n",
       "1599  Comment      0          0   \n",
       "1600  Comment      1          0   \n",
       "1601  Comment      1          0   \n",
       "\n",
       "                                                   body            timestamp  \\\n",
       "1597  lol comprehension comprehensive look post thin...  2019-04-25 23:11:10   \n",
       "1598  trouble thing trouble thing try I clever quip ...  2019-04-25 23:02:04   \n",
       "1599                                   music play dance  2019-04-25 22:53:50   \n",
       "1600  long ethyl mercury metabolize happen brain lon...  2019-04-25 22:35:39   \n",
       "1601  sound I scrape barrel bounce erratically fully...  2019-04-25 22:21:34   \n",
       "\n",
       "      year  month  \n",
       "1597  2019      4  \n",
       "1598  2019      4  \n",
       "1599  2019      4  \n",
       "1600  2019      4  \n",
       "1601  2019      4  "
      ]
     },
     "execution_count": 26,
     "metadata": {},
     "output_type": "execute_result"
    }
   ],
   "source": [
    "df_cleaned.tail()"
   ]
  },
  {
   "cell_type": "markdown",
   "id": "24006b64-4972-4862-9da8-b04d9b24a11d",
   "metadata": {},
   "source": [
    "# Sentiment Analysis"
   ]
  },
  {
   "cell_type": "code",
   "execution_count": 30,
   "id": "fe9291eb-152f-4078-bb52-f777db364007",
   "metadata": {},
   "outputs": [],
   "source": [
    "df['sentiment'] = np.NaN\n",
    "df['subjectivity'] = np.NaN"
   ]
  },
  {
   "cell_type": "code",
   "execution_count": 31,
   "id": "ebd643b8-0b00-49f4-bc20-78b11741ad61",
   "metadata": {},
   "outputs": [],
   "source": [
    "def basic_process(sentences):\n",
    "    sentences = str(sentences)\n",
    "    url = re.sub(r'http\\S+', '', sentences)\n",
    "    url = re.sub(r'www\\S+', '', url)\n",
    "    nl = re.sub(r'\\n', ' ', url)\n",
    "    space = re.sub(r'\\s\\s+', ' ', nl)\n",
    "    return space"
   ]
  },
  {
   "cell_type": "code",
   "execution_count": 32,
   "id": "f7b28853-fc94-4792-9df1-305dffdb2482",
   "metadata": {},
   "outputs": [],
   "source": [
    "def getsentiment(sentences):\n",
    "    if sentences != '':\n",
    "      score = TextBlob(sentences).sentiment.polarity\n",
    "      if score < 0:\n",
    "          return \"Negative\"\n",
    "      elif score == 0:\n",
    "          return \"Neutral\"\n",
    "      else:\n",
    "          return \"Positive\""
   ]
  },
  {
   "cell_type": "code",
   "execution_count": 33,
   "id": "87cf0ac8-d831-4280-8f5d-b1ddc228cf41",
   "metadata": {},
   "outputs": [],
   "source": [
    "def getsubjectivity(sentences):\n",
    "    return TextBlob(sentences).sentiment.subjectivity"
   ]
  },
  {
   "cell_type": "code",
   "execution_count": 37,
   "id": "044097b8-2b63-4793-9712-76780f94ec81",
   "metadata": {},
   "outputs": [],
   "source": [
    "df.loc[~df['body'].isnull(), 'body'] = df.loc[~df['body'].isnull(), 'body'].apply(basic_process)\n",
    "\n",
    "# Populate the sentiment and subjectivity\n",
    "df.loc[~df['body'].isnull(), 'sentiment'] = df.loc[~df['body'].isnull(), 'body'].apply(getsentiment)\n",
    "df.loc[~df['body'].isnull(), 'subjectivity'] = df.loc[~df['body'].isnull(), 'body'].apply(getsubjectivity)"
   ]
  },
  {
   "cell_type": "code",
   "execution_count": 38,
   "id": "2859f9da-9ac2-4613-9b1c-e7ce7da27cd3",
   "metadata": {},
   "outputs": [
    {
     "data": {
      "image/png": "[encoded data removed]",
      "text/plain": [
       "<Figure size 576x360 with 1 Axes>"
      ]
     },
     "metadata": {},
     "output_type": "display_data"
    }
   ],
   "source": [
    "fig, ax = plt.subplots(figsize=(8,5))\n",
    "ax.pie(df['sentiment'].value_counts(normalize=True), labels = ['Positive', 'Neutral', 'Negative'], autopct='%1.1f%%')\n",
    "ax.set_title('Sentiments on vaccines')\n",
    "plt.show();"
   ]
  },
  {
   "cell_type": "code",
   "execution_count": 40,
   "id": "6321f9f8-a325-4436-b190-702961416ffc",
   "metadata": {},
   "outputs": [
    {
     "data": {
      "text/plain": [
       "count    1226.000000\n",
       "mean        0.401241\n",
       "std         0.283161\n",
       "min         0.000000\n",
       "25%         0.168750\n",
       "50%         0.439583\n",
       "75%         0.583929\n",
       "max         1.000000\n",
       "Name: subjectivity, dtype: float64"
      ]
     },
     "execution_count": 40,
     "metadata": {},
     "output_type": "execute_result"
    }
   ],
   "source": [
    "df['subjectivity'].describe()"
   ]
  },
  {
   "cell_type": "code",
   "execution_count": 41,
   "id": "4609ae4a-beb3-40f8-bc69-bde318a0af1e",
   "metadata": {},
   "outputs": [
    {
     "data": {
      "image/png": "[encoded data removed]",
      "text/plain": [
       "<Figure size 720x432 with 1 Axes>"
      ]
     },
     "metadata": {
      "needs_background": "light"
     },
     "output_type": "display_data"
    }
   ],
   "source": [
    "plt.figure(figsize=(10, 6))\n",
    "plt.hist(df['subjectivity'])\n",
    "plt.title('Subjectivity of body text')\n",
    "plt.xlabel('subjectivity')\n",
    "plt.ylabel('count')\n",
    "plt.show();"
   ]
  },
  {
   "cell_type": "markdown",
   "id": "a21ffd63-6555-4724-8bdc-d2cadb150b54",
   "metadata": {},
   "source": [
    "# Topic Modeling"
   ]
  },
  {
   "cell_type": "code",
   "execution_count": 42,
   "id": "491aaaaa-f578-4a07-a481-58ada921c8fc",
   "metadata": {},
   "outputs": [],
   "source": [
    "def countwords(strings):\n",
    "    words = strings.split()\n",
    "    return len(words)\n",
    "\n",
    "title = df_cleaned[df_cleaned['title'] != 'Comment'].copy()\n",
    "\n",
    "title['title_word_count'] = title['title'].apply(countwords)"
   ]
  },
  {
   "cell_type": "code",
   "execution_count": 43,
   "id": "d3a66d7c-d076-4339-9b09-5e782d670c4e",
   "metadata": {},
   "outputs": [
    {
     "data": {
      "image/png": "[encoded data removed]",
      "text/plain": [
       "<Figure size 576x432 with 1 Axes>"
      ]
     },
     "metadata": {
      "needs_background": "light"
     },
     "output_type": "display_data"
    }
   ],
   "source": [
    "plt.figure(figsize=(8,6))\n",
    "plt.hist(title['title_word_count'])\n",
    "plt.xlabel('length of post title')\n",
    "plt.ylabel('count')\n",
    "plt.show();"
   ]
  },
  {
   "cell_type": "markdown",
   "id": "52b0f4ad-b207-48fa-9f9c-cf7519b47f0b",
   "metadata": {},
   "source": [
    "# Conclusion:\n",
    "- 2019 has the maximun number of comments.\n",
    "- April month of 2019 has the maximun nnumber of commnets.\n",
    "- Around half of the sentiments were positive, with another half split between neutral and negative.\n",
    "- Highest length of post title is 120."
   ]
  }
 ],
 "metadata": {
  "kernelspec": {
   "display_name": "Python 3 (ipykernel)",
   "language": "python",
   "name": "python3"
  },
  "language_info": {
   "codemirror_mode": {
    "name": "ipython",
    "version": 3
   },
   "file_extension": ".py",
   "mimetype": "text/x-python",
   "name": "python",
   "nbconvert_exporter": "python",
   "pygments_lexer": "ipython3",
   "version": "3.8.10"
  }
 },
 "nbformat": 4,
 "nbformat_minor": 5
}
