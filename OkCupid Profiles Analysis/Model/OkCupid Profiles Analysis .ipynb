{
 "cells": [
  {
   "cell_type": "markdown",
   "id": "905ae917-7150-4ddd-bc59-d89071e0b173",
   "metadata": {},
   "source": [
    "# OkCupid Profiles Analysis \n",
    "Aim of the project is to analyze the OkCupid Profiles and classify accordingly."
   ]
  },
  {
   "cell_type": "markdown",
   "id": "58bac742-51db-4ad1-a288-22f2bb40beeb",
   "metadata": {},
   "source": [
    "# DataSet\n",
    "I have Downloaded this dataset from kaggle website. Here is the link: https://www.kaggle.com/andrewmvd/okcupid-profiles"
   ]
  },
  {
   "cell_type": "markdown",
   "id": "5c2bdb9d-0819-4e2e-ae53-ec9852aa736f",
   "metadata": {},
   "source": [
    "# What are we required to do\n",
    "We have to analyze the OkCupid Profiles and classify accordingly."
   ]
  },
  {
   "cell_type": "markdown",
   "id": "6ab128c5-c04b-4c17-9683-665e746efad0",
   "metadata": {},
   "source": [
    "# Importing the Required Libraries"
   ]
  },
  {
   "cell_type": "code",
   "execution_count": 1,
   "id": "c3c9a2ac-0c61-4371-8458-01d04ecd47b1",
   "metadata": {},
   "outputs": [],
   "source": [
    "import pandas as pd\n",
    "import numpy as np\n",
    "import seaborn as sns\n",
    "import matplotlib.pyplot as plt"
   ]
  },
  {
   "cell_type": "code",
   "execution_count": 2,
   "id": "3e1e656a-364c-4338-ac87-617db7d1eb6c",
   "metadata": {},
   "outputs": [],
   "source": [
    "df = pd.read_csv('okcupid_profiles.csv')"
   ]
  },
  {
   "cell_type": "code",
   "execution_count": 3,
   "id": "0ed75586-8e57-47ec-bf3a-d7b9277df740",
   "metadata": {},
   "outputs": [],
   "source": [
    "df = df.iloc[:,0:21]"
   ]
  },
  {
   "cell_type": "code",
   "execution_count": 4,
   "id": "606cfa60-1191-4d0f-9ffa-e31be3a490e0",
   "metadata": {},
   "outputs": [
    {
     "data": {
      "text/html": [
       "<div>\n",
       "<style scoped>\n",
       "    .dataframe tbody tr th:only-of-type {\n",
       "        vertical-align: middle;\n",
       "    }\n",
       "\n",
       "    .dataframe tbody tr th {\n",
       "        vertical-align: top;\n",
       "    }\n",
       "\n",
       "    .dataframe thead th {\n",
       "        text-align: right;\n",
       "    }\n",
       "</style>\n",
       "<table border=\"1\" class=\"dataframe\">\n",
       "  <thead>\n",
       "    <tr style=\"text-align: right;\">\n",
       "      <th></th>\n",
       "      <th>age</th>\n",
       "      <th>status</th>\n",
       "      <th>sex</th>\n",
       "      <th>orientation</th>\n",
       "      <th>body_type</th>\n",
       "      <th>diet</th>\n",
       "      <th>drinks</th>\n",
       "      <th>drugs</th>\n",
       "      <th>education</th>\n",
       "      <th>ethnicity</th>\n",
       "      <th>...</th>\n",
       "      <th>income</th>\n",
       "      <th>job</th>\n",
       "      <th>last_online</th>\n",
       "      <th>location</th>\n",
       "      <th>offspring</th>\n",
       "      <th>pets</th>\n",
       "      <th>religion</th>\n",
       "      <th>sign</th>\n",
       "      <th>smokes</th>\n",
       "      <th>speaks</th>\n",
       "    </tr>\n",
       "  </thead>\n",
       "  <tbody>\n",
       "    <tr>\n",
       "      <th>0</th>\n",
       "      <td>22</td>\n",
       "      <td>single</td>\n",
       "      <td>m</td>\n",
       "      <td>straight</td>\n",
       "      <td>a little extra</td>\n",
       "      <td>strictly anything</td>\n",
       "      <td>socially</td>\n",
       "      <td>never</td>\n",
       "      <td>working on college/university</td>\n",
       "      <td>asian, white</td>\n",
       "      <td>...</td>\n",
       "      <td>-1</td>\n",
       "      <td>transportation</td>\n",
       "      <td>2012-06-28-20-30</td>\n",
       "      <td>south san francisco, california</td>\n",
       "      <td>doesn't have kids, but might want them</td>\n",
       "      <td>likes dogs and likes cats</td>\n",
       "      <td>agnosticism and very serious about it</td>\n",
       "      <td>gemini</td>\n",
       "      <td>sometimes</td>\n",
       "      <td>english</td>\n",
       "    </tr>\n",
       "    <tr>\n",
       "      <th>1</th>\n",
       "      <td>35</td>\n",
       "      <td>single</td>\n",
       "      <td>m</td>\n",
       "      <td>straight</td>\n",
       "      <td>average</td>\n",
       "      <td>mostly other</td>\n",
       "      <td>often</td>\n",
       "      <td>sometimes</td>\n",
       "      <td>working on space camp</td>\n",
       "      <td>white</td>\n",
       "      <td>...</td>\n",
       "      <td>80000</td>\n",
       "      <td>hospitality / travel</td>\n",
       "      <td>2012-06-29-21-41</td>\n",
       "      <td>oakland, california</td>\n",
       "      <td>doesn't have kids, but might want them</td>\n",
       "      <td>likes dogs and likes cats</td>\n",
       "      <td>agnosticism but not too serious about it</td>\n",
       "      <td>cancer</td>\n",
       "      <td>no</td>\n",
       "      <td>english (fluently), spanish (poorly), french (...</td>\n",
       "    </tr>\n",
       "    <tr>\n",
       "      <th>2</th>\n",
       "      <td>38</td>\n",
       "      <td>available</td>\n",
       "      <td>m</td>\n",
       "      <td>straight</td>\n",
       "      <td>thin</td>\n",
       "      <td>anything</td>\n",
       "      <td>socially</td>\n",
       "      <td>NaN</td>\n",
       "      <td>graduated from masters program</td>\n",
       "      <td>NaN</td>\n",
       "      <td>...</td>\n",
       "      <td>-1</td>\n",
       "      <td>NaN</td>\n",
       "      <td>2012-06-27-09-10</td>\n",
       "      <td>san francisco, california</td>\n",
       "      <td>NaN</td>\n",
       "      <td>has cats</td>\n",
       "      <td>NaN</td>\n",
       "      <td>pisces but it doesn&amp;rsquo;t matter</td>\n",
       "      <td>no</td>\n",
       "      <td>english, french, c++</td>\n",
       "    </tr>\n",
       "    <tr>\n",
       "      <th>3</th>\n",
       "      <td>23</td>\n",
       "      <td>single</td>\n",
       "      <td>m</td>\n",
       "      <td>straight</td>\n",
       "      <td>thin</td>\n",
       "      <td>vegetarian</td>\n",
       "      <td>socially</td>\n",
       "      <td>NaN</td>\n",
       "      <td>working on college/university</td>\n",
       "      <td>white</td>\n",
       "      <td>...</td>\n",
       "      <td>20000</td>\n",
       "      <td>student</td>\n",
       "      <td>2012-06-28-14-22</td>\n",
       "      <td>berkeley, california</td>\n",
       "      <td>doesn't want kids</td>\n",
       "      <td>likes cats</td>\n",
       "      <td>NaN</td>\n",
       "      <td>pisces</td>\n",
       "      <td>no</td>\n",
       "      <td>english, german (poorly)</td>\n",
       "    </tr>\n",
       "    <tr>\n",
       "      <th>4</th>\n",
       "      <td>29</td>\n",
       "      <td>single</td>\n",
       "      <td>m</td>\n",
       "      <td>straight</td>\n",
       "      <td>athletic</td>\n",
       "      <td>NaN</td>\n",
       "      <td>socially</td>\n",
       "      <td>never</td>\n",
       "      <td>graduated from college/university</td>\n",
       "      <td>asian, black, other</td>\n",
       "      <td>...</td>\n",
       "      <td>-1</td>\n",
       "      <td>artistic / musical / writer</td>\n",
       "      <td>2012-06-27-21-26</td>\n",
       "      <td>san francisco, california</td>\n",
       "      <td>NaN</td>\n",
       "      <td>likes dogs and likes cats</td>\n",
       "      <td>NaN</td>\n",
       "      <td>aquarius</td>\n",
       "      <td>no</td>\n",
       "      <td>english</td>\n",
       "    </tr>\n",
       "  </tbody>\n",
       "</table>\n",
       "<p>5 rows × 21 columns</p>\n",
       "</div>"
      ],
      "text/plain": [
       "   age     status sex orientation       body_type               diet  \\\n",
       "0   22     single   m    straight  a little extra  strictly anything   \n",
       "1   35     single   m    straight         average       mostly other   \n",
       "2   38  available   m    straight            thin           anything   \n",
       "3   23     single   m    straight            thin         vegetarian   \n",
       "4   29     single   m    straight        athletic                NaN   \n",
       "\n",
       "     drinks      drugs                          education  \\\n",
       "0  socially      never      working on college/university   \n",
       "1     often  sometimes              working on space camp   \n",
       "2  socially        NaN     graduated from masters program   \n",
       "3  socially        NaN      working on college/university   \n",
       "4  socially      never  graduated from college/university   \n",
       "\n",
       "             ethnicity  ...  income                          job  \\\n",
       "0         asian, white  ...      -1               transportation   \n",
       "1                white  ...   80000         hospitality / travel   \n",
       "2                  NaN  ...      -1                          NaN   \n",
       "3                white  ...   20000                      student   \n",
       "4  asian, black, other  ...      -1  artistic / musical / writer   \n",
       "\n",
       "        last_online                         location  \\\n",
       "0  2012-06-28-20-30  south san francisco, california   \n",
       "1  2012-06-29-21-41              oakland, california   \n",
       "2  2012-06-27-09-10        san francisco, california   \n",
       "3  2012-06-28-14-22             berkeley, california   \n",
       "4  2012-06-27-21-26        san francisco, california   \n",
       "\n",
       "                                offspring                       pets  \\\n",
       "0  doesn't have kids, but might want them  likes dogs and likes cats   \n",
       "1  doesn't have kids, but might want them  likes dogs and likes cats   \n",
       "2                                     NaN                   has cats   \n",
       "3                       doesn't want kids                 likes cats   \n",
       "4                                     NaN  likes dogs and likes cats   \n",
       "\n",
       "                                   religion  \\\n",
       "0     agnosticism and very serious about it   \n",
       "1  agnosticism but not too serious about it   \n",
       "2                                       NaN   \n",
       "3                                       NaN   \n",
       "4                                       NaN   \n",
       "\n",
       "                                 sign     smokes  \\\n",
       "0                              gemini  sometimes   \n",
       "1                              cancer         no   \n",
       "2  pisces but it doesn&rsquo;t matter         no   \n",
       "3                              pisces         no   \n",
       "4                            aquarius         no   \n",
       "\n",
       "                                              speaks  \n",
       "0                                            english  \n",
       "1  english (fluently), spanish (poorly), french (...  \n",
       "2                               english, french, c++  \n",
       "3                           english, german (poorly)  \n",
       "4                                            english  \n",
       "\n",
       "[5 rows x 21 columns]"
      ]
     },
     "execution_count": 4,
     "metadata": {},
     "output_type": "execute_result"
    }
   ],
   "source": [
    "df.head()"
   ]
  },
  {
   "cell_type": "code",
   "execution_count": 5,
   "id": "ee026a67-7881-42b6-9707-3a06dc81520a",
   "metadata": {},
   "outputs": [
    {
     "data": {
      "text/html": [
       "<div>\n",
       "<style scoped>\n",
       "    .dataframe tbody tr th:only-of-type {\n",
       "        vertical-align: middle;\n",
       "    }\n",
       "\n",
       "    .dataframe tbody tr th {\n",
       "        vertical-align: top;\n",
       "    }\n",
       "\n",
       "    .dataframe thead th {\n",
       "        text-align: right;\n",
       "    }\n",
       "</style>\n",
       "<table border=\"1\" class=\"dataframe\">\n",
       "  <thead>\n",
       "    <tr style=\"text-align: right;\">\n",
       "      <th></th>\n",
       "      <th>age</th>\n",
       "      <th>height</th>\n",
       "      <th>income</th>\n",
       "    </tr>\n",
       "  </thead>\n",
       "  <tbody>\n",
       "    <tr>\n",
       "      <th>count</th>\n",
       "      <td>31596.000000</td>\n",
       "      <td>31596.000000</td>\n",
       "      <td>31596.000000</td>\n",
       "    </tr>\n",
       "    <tr>\n",
       "      <th>mean</th>\n",
       "      <td>32.360172</td>\n",
       "      <td>68.376029</td>\n",
       "      <td>20236.249177</td>\n",
       "    </tr>\n",
       "    <tr>\n",
       "      <th>std</th>\n",
       "      <td>9.457474</td>\n",
       "      <td>3.989642</td>\n",
       "      <td>97724.863407</td>\n",
       "    </tr>\n",
       "    <tr>\n",
       "      <th>min</th>\n",
       "      <td>18.000000</td>\n",
       "      <td>3.000000</td>\n",
       "      <td>-1.000000</td>\n",
       "    </tr>\n",
       "    <tr>\n",
       "      <th>25%</th>\n",
       "      <td>26.000000</td>\n",
       "      <td>66.000000</td>\n",
       "      <td>-1.000000</td>\n",
       "    </tr>\n",
       "    <tr>\n",
       "      <th>50%</th>\n",
       "      <td>30.000000</td>\n",
       "      <td>69.000000</td>\n",
       "      <td>-1.000000</td>\n",
       "    </tr>\n",
       "    <tr>\n",
       "      <th>75%</th>\n",
       "      <td>37.000000</td>\n",
       "      <td>71.000000</td>\n",
       "      <td>-1.000000</td>\n",
       "    </tr>\n",
       "    <tr>\n",
       "      <th>max</th>\n",
       "      <td>110.000000</td>\n",
       "      <td>95.000000</td>\n",
       "      <td>1000000.000000</td>\n",
       "    </tr>\n",
       "  </tbody>\n",
       "</table>\n",
       "</div>"
      ],
      "text/plain": [
       "                age        height          income\n",
       "count  31596.000000  31596.000000    31596.000000\n",
       "mean      32.360172     68.376029    20236.249177\n",
       "std        9.457474      3.989642    97724.863407\n",
       "min       18.000000      3.000000       -1.000000\n",
       "25%       26.000000     66.000000       -1.000000\n",
       "50%       30.000000     69.000000       -1.000000\n",
       "75%       37.000000     71.000000       -1.000000\n",
       "max      110.000000     95.000000  1000000.000000"
      ]
     },
     "execution_count": 5,
     "metadata": {},
     "output_type": "execute_result"
    }
   ],
   "source": [
    "df.describe()"
   ]
  },
  {
   "cell_type": "code",
   "execution_count": 6,
   "id": "13884b5f-6274-4e79-8bc8-defb7c3ce68b",
   "metadata": {},
   "outputs": [
    {
     "name": "stdout",
     "output_type": "stream",
     "text": [
      "Total rows:  31596  Total columns:  21\n",
      "<class 'pandas.core.frame.DataFrame'>\n",
      "RangeIndex: 31596 entries, 0 to 31595\n",
      "Data columns (total 21 columns):\n",
      " #   Column       Non-Null Count  Dtype  \n",
      "---  ------       --------------  -----  \n",
      " 0   age          31596 non-null  int64  \n",
      " 1   status       31596 non-null  object \n",
      " 2   sex          31596 non-null  object \n",
      " 3   orientation  31596 non-null  object \n",
      " 4   body_type    28846 non-null  object \n",
      " 5   diet         18860 non-null  object \n",
      " 6   drinks       30025 non-null  object \n",
      " 7   drugs        24168 non-null  object \n",
      " 8   education    28150 non-null  object \n",
      " 9   ethnicity    28605 non-null  object \n",
      " 10  height       31596 non-null  float64\n",
      " 11  income       31596 non-null  int64  \n",
      " 12  job          27309 non-null  object \n",
      " 13  last_online  31596 non-null  object \n",
      " 14  location     31596 non-null  object \n",
      " 15  offspring    12824 non-null  object \n",
      " 16  pets         21154 non-null  object \n",
      " 17  religion     20972 non-null  object \n",
      " 18  sign         25673 non-null  object \n",
      " 19  smokes       28703 non-null  object \n",
      " 20  speaks       31564 non-null  object \n",
      "dtypes: float64(1), int64(2), object(18)\n",
      "memory usage: 5.1+ MB\n",
      "None\n"
     ]
    }
   ],
   "source": [
    "total_nrows = df.shape[0]\n",
    "total_ncols = df.shape[1]\n",
    "print('Total rows: ', total_nrows, ' Total columns: ', total_ncols)\n",
    "print(df.info())"
   ]
  },
  {
   "cell_type": "markdown",
   "id": "a45441dd-fc9d-4b6c-a6d2-487786564dde",
   "metadata": {},
   "source": [
    "# Visualisation of Data"
   ]
  },
  {
   "cell_type": "code",
   "execution_count": 7,
   "id": "81ce7a34-7ce8-4dd3-8b8d-98f5a9897565",
   "metadata": {},
   "outputs": [
    {
     "data": {
      "text/plain": [
       "(array([ 0,  1,  2,  3,  4,  5,  6,  7,  8,  9, 10, 11, 12, 13, 14, 15, 16,\n",
       "        17, 18, 19, 20]),\n",
       " [Text(0, 0, 'age'),\n",
       "  Text(1, 0, 'status'),\n",
       "  Text(2, 0, 'sex'),\n",
       "  Text(3, 0, 'orientation'),\n",
       "  Text(4, 0, 'body_type'),\n",
       "  Text(5, 0, 'diet'),\n",
       "  Text(6, 0, 'drinks'),\n",
       "  Text(7, 0, 'drugs'),\n",
       "  Text(8, 0, 'education'),\n",
       "  Text(9, 0, 'ethnicity'),\n",
       "  Text(10, 0, 'height'),\n",
       "  Text(11, 0, 'income'),\n",
       "  Text(12, 0, 'job'),\n",
       "  Text(13, 0, 'last_online'),\n",
       "  Text(14, 0, 'location'),\n",
       "  Text(15, 0, 'offspring'),\n",
       "  Text(16, 0, 'pets'),\n",
       "  Text(17, 0, 'religion'),\n",
       "  Text(18, 0, 'sign'),\n",
       "  Text(19, 0, 'smokes'),\n",
       "  Text(20, 0, 'speaks')])"
      ]
     },
     "execution_count": 7,
     "metadata": {},
     "output_type": "execute_result"
    },
    {
     "data": {
      "image/png": "[encoded data removed]",
      "text/plain": [
       "<Figure size 864x360 with 1 Axes>"
      ]
     },
     "metadata": {
      "needs_background": "light"
     },
     "output_type": "display_data"
    }
   ],
   "source": [
    "plt.figure(figsize=(12, 5))\n",
    "df.isna().sum().plot(kind=\"bar\")\n",
    "plt.xticks(rotation=50)"
   ]
  },
  {
   "cell_type": "code",
   "execution_count": 8,
   "id": "36009201-618b-49b2-a925-0f0201ae68ef",
   "metadata": {},
   "outputs": [],
   "source": [
    "df1 = df.dropna(subset=['diet', 'drugs','education','age','status','sex','orientation','body_type',\n",
    "'ethnicity','job','pets'])"
   ]
  },
  {
   "cell_type": "code",
   "execution_count": 9,
   "id": "6a7347f7-134f-40d3-b496-b298b8534fff",
   "metadata": {},
   "outputs": [],
   "source": [
    " def rmissingvaluecol(df1,threshold):\n",
    "    l = []\n",
    "    l = list(df1.drop(df1.loc[:,list((100*(df1.isnull().sum()/len(df1.index))>=threshold))].columns, 1).columns.values)\n",
    "    print(\"# Columns having more than %s percent missing values:\"%threshold,(df1.shape[1] - len(l)))\n",
    "    print(\"Columns:\\n\",list(set(list((df1.columns.values))) - set(l)))\n",
    "    return l"
   ]
  },
  {
   "cell_type": "code",
   "execution_count": 19,
   "id": "4a972584-507d-4c78-988d-c3f8630bc104",
   "metadata": {},
   "outputs": [
    {
     "name": "stdout",
     "output_type": "stream",
     "text": [
      "# Columns having more than 1 percent missing values: 4\n",
      "Columns:\n",
      " ['smokes', 'religion', 'sign', 'offspring']\n"
     ]
    },
    {
     "name": "stderr",
     "output_type": "stream",
     "text": [
      "C:\\Users\\Souvik\\AppData\\Local\\Temp\\ipykernel_5792\\174281756.py:3: FutureWarning: In a future version of pandas all arguments of DataFrame.drop except for the argument 'labels' will be keyword-only.\n",
      "  l = list(df1.drop(df1.loc[:,list((100*(df1.isnull().sum()/len(df1.index))>=threshold))].columns, 1).columns.values)\n"
     ]
    }
   ],
   "source": [
    "l = rmissingvaluecol(df1,1)\n",
    "df2 = df1[l]"
   ]
  },
  {
   "cell_type": "code",
   "execution_count": 11,
   "id": "22871cfe-67e2-41cc-937d-f8817a547f61",
   "metadata": {},
   "outputs": [
    {
     "data": {
      "text/html": [
       "<div>\n",
       "<style scoped>\n",
       "    .dataframe tbody tr th:only-of-type {\n",
       "        vertical-align: middle;\n",
       "    }\n",
       "\n",
       "    .dataframe tbody tr th {\n",
       "        vertical-align: top;\n",
       "    }\n",
       "\n",
       "    .dataframe thead th {\n",
       "        text-align: right;\n",
       "    }\n",
       "</style>\n",
       "<table border=\"1\" class=\"dataframe\">\n",
       "  <thead>\n",
       "    <tr style=\"text-align: right;\">\n",
       "      <th></th>\n",
       "      <th>age</th>\n",
       "      <th>status</th>\n",
       "      <th>sex</th>\n",
       "      <th>orientation</th>\n",
       "      <th>body_type</th>\n",
       "      <th>diet</th>\n",
       "      <th>drinks</th>\n",
       "      <th>drugs</th>\n",
       "      <th>education</th>\n",
       "      <th>ethnicity</th>\n",
       "      <th>height</th>\n",
       "      <th>income</th>\n",
       "      <th>job</th>\n",
       "      <th>last_online</th>\n",
       "      <th>location</th>\n",
       "      <th>pets</th>\n",
       "      <th>speaks</th>\n",
       "    </tr>\n",
       "  </thead>\n",
       "  <tbody>\n",
       "    <tr>\n",
       "      <th>0</th>\n",
       "      <td>22</td>\n",
       "      <td>single</td>\n",
       "      <td>m</td>\n",
       "      <td>straight</td>\n",
       "      <td>a little extra</td>\n",
       "      <td>strictly anything</td>\n",
       "      <td>socially</td>\n",
       "      <td>never</td>\n",
       "      <td>working on college/university</td>\n",
       "      <td>asian, white</td>\n",
       "      <td>75.0</td>\n",
       "      <td>-1</td>\n",
       "      <td>transportation</td>\n",
       "      <td>2012-06-28-20-30</td>\n",
       "      <td>south san francisco, california</td>\n",
       "      <td>likes dogs and likes cats</td>\n",
       "      <td>english</td>\n",
       "    </tr>\n",
       "    <tr>\n",
       "      <th>1</th>\n",
       "      <td>35</td>\n",
       "      <td>single</td>\n",
       "      <td>m</td>\n",
       "      <td>straight</td>\n",
       "      <td>average</td>\n",
       "      <td>mostly other</td>\n",
       "      <td>often</td>\n",
       "      <td>sometimes</td>\n",
       "      <td>working on space camp</td>\n",
       "      <td>white</td>\n",
       "      <td>70.0</td>\n",
       "      <td>80000</td>\n",
       "      <td>hospitality / travel</td>\n",
       "      <td>2012-06-29-21-41</td>\n",
       "      <td>oakland, california</td>\n",
       "      <td>likes dogs and likes cats</td>\n",
       "      <td>english (fluently), spanish (poorly), french (...</td>\n",
       "    </tr>\n",
       "    <tr>\n",
       "      <th>7</th>\n",
       "      <td>31</td>\n",
       "      <td>single</td>\n",
       "      <td>f</td>\n",
       "      <td>straight</td>\n",
       "      <td>average</td>\n",
       "      <td>mostly anything</td>\n",
       "      <td>socially</td>\n",
       "      <td>never</td>\n",
       "      <td>graduated from college/university</td>\n",
       "      <td>white</td>\n",
       "      <td>65.0</td>\n",
       "      <td>-1</td>\n",
       "      <td>artistic / musical / writer</td>\n",
       "      <td>2012-06-29-12-30</td>\n",
       "      <td>san francisco, california</td>\n",
       "      <td>likes dogs and likes cats</td>\n",
       "      <td>english, spanish (okay)</td>\n",
       "    </tr>\n",
       "    <tr>\n",
       "      <th>9</th>\n",
       "      <td>37</td>\n",
       "      <td>single</td>\n",
       "      <td>m</td>\n",
       "      <td>straight</td>\n",
       "      <td>athletic</td>\n",
       "      <td>mostly anything</td>\n",
       "      <td>not at all</td>\n",
       "      <td>never</td>\n",
       "      <td>working on two-year college</td>\n",
       "      <td>white</td>\n",
       "      <td>65.0</td>\n",
       "      <td>-1</td>\n",
       "      <td>student</td>\n",
       "      <td>2012-06-28-21-08</td>\n",
       "      <td>san mateo, california</td>\n",
       "      <td>likes dogs and likes cats</td>\n",
       "      <td>english (fluently)</td>\n",
       "    </tr>\n",
       "    <tr>\n",
       "      <th>11</th>\n",
       "      <td>28</td>\n",
       "      <td>seeing someone</td>\n",
       "      <td>m</td>\n",
       "      <td>straight</td>\n",
       "      <td>average</td>\n",
       "      <td>mostly anything</td>\n",
       "      <td>socially</td>\n",
       "      <td>never</td>\n",
       "      <td>graduated from college/university</td>\n",
       "      <td>white</td>\n",
       "      <td>72.0</td>\n",
       "      <td>40000</td>\n",
       "      <td>banking / financial / real estate</td>\n",
       "      <td>2012-05-22-17-05</td>\n",
       "      <td>daly city, california</td>\n",
       "      <td>likes cats</td>\n",
       "      <td>english (fluently), sign language (poorly)</td>\n",
       "    </tr>\n",
       "  </tbody>\n",
       "</table>\n",
       "</div>"
      ],
      "text/plain": [
       "    age          status sex orientation       body_type               diet  \\\n",
       "0    22          single   m    straight  a little extra  strictly anything   \n",
       "1    35          single   m    straight         average       mostly other   \n",
       "7    31          single   f    straight         average    mostly anything   \n",
       "9    37          single   m    straight        athletic    mostly anything   \n",
       "11   28  seeing someone   m    straight         average    mostly anything   \n",
       "\n",
       "        drinks      drugs                          education     ethnicity  \\\n",
       "0     socially      never      working on college/university  asian, white   \n",
       "1        often  sometimes              working on space camp         white   \n",
       "7     socially      never  graduated from college/university         white   \n",
       "9   not at all      never        working on two-year college         white   \n",
       "11    socially      never  graduated from college/university         white   \n",
       "\n",
       "    height  income                                job       last_online  \\\n",
       "0     75.0      -1                     transportation  2012-06-28-20-30   \n",
       "1     70.0   80000               hospitality / travel  2012-06-29-21-41   \n",
       "7     65.0      -1        artistic / musical / writer  2012-06-29-12-30   \n",
       "9     65.0      -1                            student  2012-06-28-21-08   \n",
       "11    72.0   40000  banking / financial / real estate  2012-05-22-17-05   \n",
       "\n",
       "                           location                       pets  \\\n",
       "0   south san francisco, california  likes dogs and likes cats   \n",
       "1               oakland, california  likes dogs and likes cats   \n",
       "7         san francisco, california  likes dogs and likes cats   \n",
       "9             san mateo, california  likes dogs and likes cats   \n",
       "11            daly city, california                 likes cats   \n",
       "\n",
       "                                               speaks  \n",
       "0                                             english  \n",
       "1   english (fluently), spanish (poorly), french (...  \n",
       "7                             english, spanish (okay)  \n",
       "9                                  english (fluently)  \n",
       "11         english (fluently), sign language (poorly)  "
      ]
     },
     "execution_count": 11,
     "metadata": {},
     "output_type": "execute_result"
    }
   ],
   "source": [
    "df2.head()"
   ]
  },
  {
   "cell_type": "code",
   "execution_count": 12,
   "id": "6ca62996-3aaf-4302-ab17-4bb1cdca7ce6",
   "metadata": {},
   "outputs": [],
   "source": [
    "def show_percetage(plot, feature):\n",
    "    total = len(feature)\n",
    "    for p in ax.patches:\n",
    "        percentage = '{:.1f}%'.format(100 * p.get_height()/total)\n",
    "        x = p.get_x()+p.get_width()/2-0.1\n",
    "        y = p.get_y()+p.get_height()\n",
    "        ax.annotate(percentage, (x, y), size=10)"
   ]
  },
  {
   "cell_type": "code",
   "execution_count": 13,
   "id": "a054f6b5-2607-47bf-8938-f0e6b55ef674",
   "metadata": {},
   "outputs": [
    {
     "data": {
      "text/plain": [
       "<Figure size 1080x504 with 0 Axes>"
      ]
     },
     "metadata": {},
     "output_type": "display_data"
    },
    {
     "data": {
      "image/png": "[encoded data removed]",
      "text/plain": [
       "<Figure size 765.625x360 with 1 Axes>"
      ]
     },
     "metadata": {
      "needs_background": "light"
     },
     "output_type": "display_data"
    }
   ],
   "source": [
    "plt.figure(figsize=(15, 7))\n",
    "sns.catplot(x='age', data = df1, kind='count', palette='pastel', hue='sex', \n",
    "            height=5, # make the plot 5 units high\n",
    "            aspect=2)\n",
    "plt.xticks(rotation = 25)\n",
    "plt.title('Age distribution')\n",
    "plt.show()"
   ]
  },
  {
   "cell_type": "code",
   "execution_count": 14,
   "id": "dbbbc488-aa82-4800-a558-9b2794969040",
   "metadata": {},
   "outputs": [
    {
     "data": {
      "image/png": "[encoded data removed]",
      "text/plain": [
       "<Figure size 648x360 with 1 Axes>"
      ]
     },
     "metadata": {
      "needs_background": "light"
     },
     "output_type": "display_data"
    }
   ],
   "source": [
    "plt.figure(figsize=(9, 5))\n",
    "ax = sns.countplot(x='orientation', data=df1,\n",
    "hue='sex',\n",
    "palette='PRGn',\n",
    "order=df1['orientation'].value_counts().iloc[:10].index)\n",
    "total = float(len(df1))\n",
    "show_percetage(ax, df1)\n",
    "plt.show()"
   ]
  },
  {
   "cell_type": "code",
   "execution_count": 15,
   "id": "57d5f946-1f0a-4c0a-a013-a2d9708a48fd",
   "metadata": {},
   "outputs": [
    {
     "data": {
      "image/png": "[encoded data removed]",
      "text/plain": [
       "<Figure size 648x360 with 1 Axes>"
      ]
     },
     "metadata": {
      "needs_background": "light"
     },
     "output_type": "display_data"
    }
   ],
   "source": [
    "plt.figure(figsize=(9, 5))\n",
    "ax = sns.countplot(x='body_type', data=df1,\n",
    "hue='sex',\n",
    "palette='rocket',\n",
    "order=df1['body_type'].value_counts().iloc[:10].index)\n",
    "ax.set_title(\"Body type by gender\")\n",
    "ax.set(xlabel='Count', ylabel='Body Type')\n",
    "show_percetage(ax, df1)\n",
    "plt.show()"
   ]
  },
  {
   "cell_type": "code",
   "execution_count": 16,
   "id": "fc551b1e-426f-48ce-83c3-531afe08c252",
   "metadata": {},
   "outputs": [
    {
     "data": {
      "image/png": "[encoded data removed]",
      "text/plain": [
       "<Figure size 648x360 with 1 Axes>"
      ]
     },
     "metadata": {
      "needs_background": "light"
     },
     "output_type": "display_data"
    }
   ],
   "source": [
    "plt.figure(figsize=(9, 5))\n",
    "ax = sns.countplot(x='diet', data=df1,\n",
    "hue='sex', palette='Paired',\n",
    "order = df1['diet'].value_counts().iloc[:10].index)\n",
    "plt.xticks(rotation = 30)\n",
    "ax.set_title(\"Diet by gender\")\n",
    "show_percetage(ax, df1)"
   ]
  },
  {
   "cell_type": "code",
   "execution_count": 17,
   "id": "69761e94-102a-450f-9b4a-b9029cb4ac29",
   "metadata": {},
   "outputs": [
    {
     "data": {
      "image/png": "[encoded data removed]",
      "text/plain": [
       "<Figure size 648x360 with 1 Axes>"
      ]
     },
     "metadata": {
      "needs_background": "light"
     },
     "output_type": "display_data"
    }
   ],
   "source": [
    "plt.figure(figsize=(9, 5))\n",
    "sns.countplot(y='job', data=df1,\n",
    "hue='sex', palette='Reds',\n",
    "order = df1['job'].value_counts().iloc[:10].index)\n",
    "plt.show()"
   ]
  },
  {
   "cell_type": "code",
   "execution_count": 18,
   "id": "e1c451e3-2798-4e17-9d40-ce121708e2ab",
   "metadata": {},
   "outputs": [
    {
     "data": {
      "image/png": "[encoded data removed]",
      "text/plain": [
       "<Figure size 648x360 with 1 Axes>"
      ]
     },
     "metadata": {
      "needs_background": "light"
     },
     "output_type": "display_data"
    }
   ],
   "source": [
    "plt.figure(figsize=(9, 5))\n",
    "sns.countplot(y = 'pets', data=df1,\n",
    "hue='sex', palette='PuRd',\n",
    "order=df1['pets'].value_counts().iloc[:].index)\n",
    "plt.show()"
   ]
  },
  {
   "cell_type": "markdown",
   "id": "ce019ac8-39bc-461b-8595-c66ca4dc1ed7",
   "metadata": {},
   "source": [
    "# Conclusion\n",
    "- Maximun number of male and female profiles are at age of 26.\n",
    "- Maximun number of male and female profiles are of straight category.\n",
    "- Maximun number of male profiles are of athletic type.\n",
    "- Maximun number of female profiles are average type.\n",
    "- Maximun number of male and female profiles shows that they eat anything for diet.\n",
    "- Maximun number of male profiles are in computer / hardware / software jobs.\n",
    "- Maximun number of female profiles are students.\n",
    "- Maximun number of male and female profiles says that they likes dogs and likes cats."
   ]
  },
  {
   "cell_type": "code",
   "execution_count": null,
   "id": "81b32c54-348f-43d7-96f8-354d7d0afce7",
   "metadata": {},
   "outputs": [],
   "source": []
  }
 ],
 "metadata": {
  "kernelspec": {
   "display_name": "Python 3 (ipykernel)",
   "language": "python",
   "name": "python3"
  },
  "language_info": {
   "codemirror_mode": {
    "name": "ipython",
    "version": 3
   },
   "file_extension": ".py",
   "mimetype": "text/x-python",
   "name": "python",
   "nbconvert_exporter": "python",
   "pygments_lexer": "ipython3",
   "version": "3.8.10"
  }
 },
 "nbformat": 4,
 "nbformat_minor": 5
}
