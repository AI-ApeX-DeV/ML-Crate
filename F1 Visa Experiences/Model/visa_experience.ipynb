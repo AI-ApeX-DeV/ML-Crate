{
 "cells": [
  {
   "cell_type": "code",
   "execution_count": 11,
   "metadata": {},
   "outputs": [],
   "source": [
    "import pandas as pd \n",
    "import numpy as np\n",
    "import re\n",
    "import string\n",
    "import calendar\n",
    "import nltk "
   ]
  },
  {
   "cell_type": "code",
   "execution_count": 12,
   "metadata": {},
   "outputs": [
    {
     "data": {
      "text/html": [
       "<div>\n",
       "<style scoped>\n",
       "    .dataframe tbody tr th:only-of-type {\n",
       "        vertical-align: middle;\n",
       "    }\n",
       "\n",
       "    .dataframe tbody tr th {\n",
       "        vertical-align: top;\n",
       "    }\n",
       "\n",
       "    .dataframe thead th {\n",
       "        text-align: right;\n",
       "    }\n",
       "</style>\n",
       "<table border=\"1\" class=\"dataframe\">\n",
       "  <thead>\n",
       "    <tr style=\"text-align: right;\">\n",
       "      <th></th>\n",
       "      <th>msg_id</th>\n",
       "      <th>date</th>\n",
       "      <th>message</th>\n",
       "    </tr>\n",
       "  </thead>\n",
       "  <tbody>\n",
       "    <tr>\n",
       "      <th>count</th>\n",
       "      <td>6391.000000</td>\n",
       "      <td>6391</td>\n",
       "      <td>6391</td>\n",
       "    </tr>\n",
       "    <tr>\n",
       "      <th>unique</th>\n",
       "      <td>NaN</td>\n",
       "      <td>6372</td>\n",
       "      <td>6317</td>\n",
       "    </tr>\n",
       "    <tr>\n",
       "      <th>top</th>\n",
       "      <td>NaN</td>\n",
       "      <td>2021-07-01 04:30:10</td>\n",
       "      <td>Look this out for visa alerts👇\\nhttps://t.me/A...</td>\n",
       "    </tr>\n",
       "    <tr>\n",
       "      <th>freq</th>\n",
       "      <td>NaN</td>\n",
       "      <td>2</td>\n",
       "      <td>5</td>\n",
       "    </tr>\n",
       "    <tr>\n",
       "      <th>mean</th>\n",
       "      <td>3384.868252</td>\n",
       "      <td>NaN</td>\n",
       "      <td>NaN</td>\n",
       "    </tr>\n",
       "    <tr>\n",
       "      <th>std</th>\n",
       "      <td>1908.469258</td>\n",
       "      <td>NaN</td>\n",
       "      <td>NaN</td>\n",
       "    </tr>\n",
       "    <tr>\n",
       "      <th>min</th>\n",
       "      <td>4.000000</td>\n",
       "      <td>NaN</td>\n",
       "      <td>NaN</td>\n",
       "    </tr>\n",
       "    <tr>\n",
       "      <th>25%</th>\n",
       "      <td>1768.500000</td>\n",
       "      <td>NaN</td>\n",
       "      <td>NaN</td>\n",
       "    </tr>\n",
       "    <tr>\n",
       "      <th>50%</th>\n",
       "      <td>3401.000000</td>\n",
       "      <td>NaN</td>\n",
       "      <td>NaN</td>\n",
       "    </tr>\n",
       "    <tr>\n",
       "      <th>75%</th>\n",
       "      <td>5034.500000</td>\n",
       "      <td>NaN</td>\n",
       "      <td>NaN</td>\n",
       "    </tr>\n",
       "    <tr>\n",
       "      <th>max</th>\n",
       "      <td>6715.000000</td>\n",
       "      <td>NaN</td>\n",
       "      <td>NaN</td>\n",
       "    </tr>\n",
       "  </tbody>\n",
       "</table>\n",
       "</div>"
      ],
      "text/plain": [
       "             msg_id                 date  \\\n",
       "count   6391.000000                 6391   \n",
       "unique          NaN                 6372   \n",
       "top             NaN  2021-07-01 04:30:10   \n",
       "freq            NaN                    2   \n",
       "mean    3384.868252                  NaN   \n",
       "std     1908.469258                  NaN   \n",
       "min        4.000000                  NaN   \n",
       "25%     1768.500000                  NaN   \n",
       "50%     3401.000000                  NaN   \n",
       "75%     5034.500000                  NaN   \n",
       "max     6715.000000                  NaN   \n",
       "\n",
       "                                                  message  \n",
       "count                                                6391  \n",
       "unique                                               6317  \n",
       "top     Look this out for visa alerts👇\\nhttps://t.me/A...  \n",
       "freq                                                    5  \n",
       "mean                                                  NaN  \n",
       "std                                                   NaN  \n",
       "min                                                   NaN  \n",
       "25%                                                   NaN  \n",
       "50%                                                   NaN  \n",
       "75%                                                   NaN  \n",
       "max                                                   NaN  "
      ]
     },
     "execution_count": 12,
     "metadata": {},
     "output_type": "execute_result"
    }
   ],
   "source": [
    "visa_experience = '/Users/churnika/Desktop/Projects/ML-Crate/F1 Visa Experiences/Dataset/telegram.csv'\n",
    "visa_data = pd.read_csv(visa_experience) \n",
    "\n",
    "visa_data_clean = visa_data.dropna() #removing rows with missing values\n",
    "\n",
    "visa_data_clean.describe(include='all')"
   ]
  },
  {
   "cell_type": "code",
   "execution_count": 13,
   "metadata": {},
   "outputs": [],
   "source": [
    "# accessing the message column and converting it into lower case\n",
    "\n",
    "msg_exp = visa_data_clean['message'].str.lower()"
   ]
  },
  {
   "cell_type": "code",
   "execution_count": 14,
   "metadata": {},
   "outputs": [],
   "source": [
    "# removing the urls that are present.\n",
    "\n",
    "text_without_urls = []\n",
    "\n",
    "def remove_urls(text):\n",
    "    url_pattern = re.compile(r'https?://\\S+|www\\.\\S+')\n",
    "    text_without_urls = url_pattern.sub('',text)\n",
    "    return text_without_urls\n",
    "\n",
    "for i in range(len(msg_exp)):\n",
    "    try:\n",
    "        msg_exp[i] = remove_urls(msg_exp[i])\n",
    "        text_without_urls.append(msg_exp[i])\n",
    "    except KeyError as e:\n",
    "        # print(f\"Error at index {i}: {e}. Skipping...\")\n",
    "        continue\n"
   ]
  },
  {
   "cell_type": "code",
   "execution_count": 15,
   "metadata": {},
   "outputs": [
    {
     "name": "stdout",
     "output_type": "stream",
     "text": [
      "Length of text_without_urls: 6340\n"
     ]
    }
   ],
   "source": [
    "# removing punctuations\n",
    "\n",
    "def remove_punctuation(text):\n",
    "    translator = str.maketrans('', '', string.punctuation)\n",
    "    return text.translate(translator)\n",
    "\n",
    "print(\"Length of text_without_urls:\", len(text_without_urls))\n",
    "\n",
    "for i in range(len(text_without_urls)):\n",
    "    try:\n",
    "        text_without_urls[i] = remove_punctuation(text_without_urls[i])\n",
    "\n",
    "    except KeyError as e:\n",
    "        print(f\"Error at index {i}: {e}. Skipping...\")\n",
    "        continue"
   ]
  },
  {
   "cell_type": "code",
   "execution_count": 16,
   "metadata": {},
   "outputs": [
    {
     "name": "stderr",
     "output_type": "stream",
     "text": [
      "[nltk_data] Downloading package punkt to /Users/churnika/nltk_data...\n",
      "[nltk_data]   Package punkt is already up-to-date!\n",
      "[nltk_data] Downloading package stopwords to\n",
      "[nltk_data]     /Users/churnika/nltk_data...\n",
      "[nltk_data]   Package stopwords is already up-to-date!\n"
     ]
    }
   ],
   "source": [
    "# TOKENIZATION\n",
    "# REMOVING URLS\n",
    "# REMOVING NUMBERS\n",
    "# REMOVING STOP WORDS\n",
    "\n",
    "from nltk.corpus import stopwords\n",
    "\n",
    "nltk.download('punkt')\n",
    "nltk.download('stopwords')\n",
    "\n",
    "stop_words = set(stopwords.words('english'))\n",
    "\n",
    "months_days = [calendar.month_name[i].lower() for i in range(1, 13)] + [calendar.day_name[i].lower() for i in range(7)]\n",
    "remove_words = [\"vo\",\"n\",\"m\",\"c\",\"ra\",\"xx\",\"r\",\"date\",\"hii\",\"hi\",\"ye\",\"pa\",\"xxx\",\"p\",\"sir\",\"mam\",\"good\",\"morning\",\"time\",\"ur\",\"you\",\"status\",\"father\"]\n",
    "\n",
    "cleaned_tokens = []\n",
    "\n",
    "for i in range(len(text_without_urls)):\n",
    "    try:\n",
    "        tokens = nltk.word_tokenize(text_without_urls[i])\n",
    "        # Filter out URLs\n",
    "        tokens = [token for token in tokens if not re.match(r'http[s]?://', token)]\n",
    "        tokens = [token for token in tokens if token.isalpha()]\n",
    "        tokens = [token for token in tokens if token not in stop_words]\n",
    "        tokens = [token for token in tokens if token not in months_days]\n",
    "        tokens = [token for token in tokens if token not in remove_words]\n",
    "        cleaned_tokens.append(tokens)\n",
    "    except Exception as e:\n",
    "        print(f\"Error at index {i}: {e}. Skipping...\")\n",
    "        continue\n"
   ]
  },
  {
   "cell_type": "code",
   "execution_count": 17,
   "metadata": {},
   "outputs": [
    {
     "name": "stderr",
     "output_type": "stream",
     "text": [
      "[nltk_data] Downloading package wordnet to\n",
      "[nltk_data]     /Users/churnika/nltk_data...\n",
      "[nltk_data]   Package wordnet is already up-to-date!\n"
     ]
    }
   ],
   "source": [
    "# LEMMATIZATION\n",
    "\n",
    "from nltk.stem import WordNetLemmatizer\n",
    "nltk.download('wordnet')\n",
    "\n",
    "lemmatizer = WordNetLemmatizer()\n",
    "\n",
    "lemmatized_tokens = [[lemmatizer.lemmatize(token) for token in tokens]for tokens in cleaned_tokens]"
   ]
  },
  {
   "cell_type": "code",
   "execution_count": 18,
   "metadata": {},
   "outputs": [],
   "source": [
    "# REMOVING RARE OR FREQUENTLY USED WORDS\n",
    "\n",
    "from collections import Counter\n",
    "\n",
    "freq = Counter([token for tokens in lemmatized_tokens for token in tokens])\n",
    "freq_threshold = 10\n",
    "\n",
    "lemmatized_tokens = [[token for token in tokens if freq[token] > freq_threshold] for tokens in lemmatized_tokens]"
   ]
  },
  {
   "cell_type": "code",
   "execution_count": 19,
   "metadata": {},
   "outputs": [],
   "source": [
    "#REMOVING WHITESPACES\n",
    "\n",
    "cleaned_lemmatized_tokens = [' '.join(tokens) for tokens in lemmatized_tokens]\n",
    "cleaned_lemmatized_tokens = [text.split() for text in cleaned_lemmatized_tokens]"
   ]
  },
  {
   "cell_type": "code",
   "execution_count": 20,
   "metadata": {},
   "outputs": [],
   "source": [
    "# Dictionary mapping abbreviations to their full forms\n",
    "abbreviation_dict = {\n",
    "    \"don't\": \"do not\",\n",
    "    \"can't\": \"cannot\",\n",
    "    \"u\": \"you\",\n",
    "    \"approv\": \"approve\",\n",
    "    \"approved\": \"approve\",\n",
    "    \"rejected\": \"reject\"\n",
    "}\n",
    "\n",
    "# Function to expand abbreviations\n",
    "def expand_abbreviations(tokens):\n",
    "    expanded_tokens = []\n",
    "    for token in tokens:\n",
    "        if token in abbreviation_dict:\n",
    "            expanded_tokens.extend(abbreviation_dict[token].split())\n",
    "        else:\n",
    "            expanded_tokens.append(token)\n",
    "    return expanded_tokens\n",
    "\n",
    "# Expand abbreviations in cleaned_lemmatized_tokens\n",
    "expanded_lemmatized_tokens = [expand_abbreviations(tokens) for tokens in cleaned_lemmatized_tokens]\n"
   ]
  },
  {
   "cell_type": "code",
   "execution_count": 21,
   "metadata": {},
   "outputs": [],
   "source": [
    "#REMOVE ACCENTS AND DIACRITICS FROM EXPANDED_LEMMATIZED_TOKENS\n",
    "\n",
    "from unidecode import unidecode\n",
    "\n",
    "def remove_accents_diacritics(tokens):\n",
    "    cleaned_tokens = []\n",
    "    for token in tokens:\n",
    "        cleaned_token = unidecode(token)\n",
    "        cleaned_tokens.append(cleaned_token)\n",
    "    return cleaned_tokens\n",
    "\n",
    "expanded_lemmatized_tokens = [remove_accents_diacritics(tokens) for tokens in expanded_lemmatized_tokens]\n"
   ]
  },
  {
   "cell_type": "code",
   "execution_count": 22,
   "metadata": {},
   "outputs": [],
   "source": [
    "# PART-OF-SPEECH\n",
    "\n",
    "pos_tagged_tokens = [nltk.pos_tag(tokens) for tokens in expanded_lemmatized_tokens]"
   ]
  },
  {
   "cell_type": "code",
   "execution_count": 23,
   "metadata": {},
   "outputs": [],
   "source": [
    "# VECTORIZATION\n",
    "\n",
    "from sklearn.feature_extraction.text import TfidfVectorizer\n",
    "\n",
    "joined_tokens = [' '.join(tokens) for tokens in expanded_lemmatized_tokens]\n",
    "\n",
    "vectorizer = TfidfVectorizer()\n",
    "\n",
    "X = vectorizer.fit_transform(joined_tokens)"
   ]
  },
  {
   "cell_type": "code",
   "execution_count": 24,
   "metadata": {},
   "outputs": [],
   "source": [
    "# SENTIMENT ANALYSIS\n",
    "\n",
    "from nltk.sentiment import SentimentIntensityAnalyzer\n",
    "\n",
    "# Create SentimentIntensityAnalyzer object\n",
    "sia = SentimentIntensityAnalyzer()\n",
    "\n",
    "# Let's say we have the following tokens\n",
    "tokens = expanded_lemmatized_tokens\n",
    "\n",
    "# Function to get sentiment\n",
    "def get_sentiment(token_list):\n",
    "    # Join the tokens into a string\n",
    "    text = ' '.join(token_list)\n",
    "    # Use the polarity_scores method to get the sentiment\n",
    "    sentiment = sia.polarity_scores(text)\n",
    "    return sentiment\n",
    "\n",
    "# Apply the function to each list of tokens\n",
    "sentiments = [get_sentiment(token_list) for token_list in tokens]\n",
    "\n",
    "# Now, 'sentiments' is a list of sentiment scores for each message\n"
   ]
  },
  {
   "cell_type": "code",
   "execution_count": 25,
   "metadata": {},
   "outputs": [],
   "source": [
    "# MAPPING SENTIMENTS TO y\n",
    "\n",
    "def map_sentiment_score_to_label(sentiment):\n",
    "    if sentiment['compound'] >= 0.05:\n",
    "        return 'positive'\n",
    "    elif sentiment['compound'] <= -0.05:\n",
    "        return 'negative'\n",
    "    else:\n",
    "        return 'neutral'\n",
    "\n",
    "# Map sentiment scores to sentiment labels\n",
    "sentiment_labels = [map_sentiment_score_to_label(sentiment) for sentiment in sentiments]\n",
    "\n",
    "y = sentiment_labels\n"
   ]
  },
  {
   "cell_type": "code",
   "execution_count": 26,
   "metadata": {},
   "outputs": [],
   "source": [
    "# SPLITTING INTO TRAINING AND TESTING\n",
    "\n",
    "from sklearn.model_selection import train_test_split\n",
    "\n",
    "X_train, X_test, y_train, y_test = train_test_split(X, y, test_size=0.2, random_state=42)"
   ]
  },
  {
   "cell_type": "markdown",
   "metadata": {},
   "source": [
    "LOGISTIC REGRESSION MODEL"
   ]
  },
  {
   "cell_type": "code",
   "execution_count": 27,
   "metadata": {},
   "outputs": [
    {
     "data": {
      "text/html": [
       "<style>#sk-container-id-1 {color: black;}#sk-container-id-1 pre{padding: 0;}#sk-container-id-1 div.sk-toggleable {background-color: white;}#sk-container-id-1 label.sk-toggleable__label {cursor: pointer;display: block;width: 100%;margin-bottom: 0;padding: 0.3em;box-sizing: border-box;text-align: center;}#sk-container-id-1 label.sk-toggleable__label-arrow:before {content: \"▸\";float: left;margin-right: 0.25em;color: #696969;}#sk-container-id-1 label.sk-toggleable__label-arrow:hover:before {color: black;}#sk-container-id-1 div.sk-estimator:hover label.sk-toggleable__label-arrow:before {color: black;}#sk-container-id-1 div.sk-toggleable__content {max-height: 0;max-width: 0;overflow: hidden;text-align: left;background-color: #f0f8ff;}#sk-container-id-1 div.sk-toggleable__content pre {margin: 0.2em;color: black;border-radius: 0.25em;background-color: #f0f8ff;}#sk-container-id-1 input.sk-toggleable__control:checked~div.sk-toggleable__content {max-height: 200px;max-width: 100%;overflow: auto;}#sk-container-id-1 input.sk-toggleable__control:checked~label.sk-toggleable__label-arrow:before {content: \"▾\";}#sk-container-id-1 div.sk-estimator input.sk-toggleable__control:checked~label.sk-toggleable__label {background-color: #d4ebff;}#sk-container-id-1 div.sk-label input.sk-toggleable__control:checked~label.sk-toggleable__label {background-color: #d4ebff;}#sk-container-id-1 input.sk-hidden--visually {border: 0;clip: rect(1px 1px 1px 1px);clip: rect(1px, 1px, 1px, 1px);height: 1px;margin: -1px;overflow: hidden;padding: 0;position: absolute;width: 1px;}#sk-container-id-1 div.sk-estimator {font-family: monospace;background-color: #f0f8ff;border: 1px dotted black;border-radius: 0.25em;box-sizing: border-box;margin-bottom: 0.5em;}#sk-container-id-1 div.sk-estimator:hover {background-color: #d4ebff;}#sk-container-id-1 div.sk-parallel-item::after {content: \"\";width: 100%;border-bottom: 1px solid gray;flex-grow: 1;}#sk-container-id-1 div.sk-label:hover label.sk-toggleable__label {background-color: #d4ebff;}#sk-container-id-1 div.sk-serial::before {content: \"\";position: absolute;border-left: 1px solid gray;box-sizing: border-box;top: 0;bottom: 0;left: 50%;z-index: 0;}#sk-container-id-1 div.sk-serial {display: flex;flex-direction: column;align-items: center;background-color: white;padding-right: 0.2em;padding-left: 0.2em;position: relative;}#sk-container-id-1 div.sk-item {position: relative;z-index: 1;}#sk-container-id-1 div.sk-parallel {display: flex;align-items: stretch;justify-content: center;background-color: white;position: relative;}#sk-container-id-1 div.sk-item::before, #sk-container-id-1 div.sk-parallel-item::before {content: \"\";position: absolute;border-left: 1px solid gray;box-sizing: border-box;top: 0;bottom: 0;left: 50%;z-index: -1;}#sk-container-id-1 div.sk-parallel-item {display: flex;flex-direction: column;z-index: 1;position: relative;background-color: white;}#sk-container-id-1 div.sk-parallel-item:first-child::after {align-self: flex-end;width: 50%;}#sk-container-id-1 div.sk-parallel-item:last-child::after {align-self: flex-start;width: 50%;}#sk-container-id-1 div.sk-parallel-item:only-child::after {width: 0;}#sk-container-id-1 div.sk-dashed-wrapped {border: 1px dashed gray;margin: 0 0.4em 0.5em 0.4em;box-sizing: border-box;padding-bottom: 0.4em;background-color: white;}#sk-container-id-1 div.sk-label label {font-family: monospace;font-weight: bold;display: inline-block;line-height: 1.2em;}#sk-container-id-1 div.sk-label-container {text-align: center;}#sk-container-id-1 div.sk-container {/* jupyter's `normalize.less` sets `[hidden] { display: none; }` but bootstrap.min.css set `[hidden] { display: none !important; }` so we also need the `!important` here to be able to override the default hidden behavior on the sphinx rendered scikit-learn.org. See: https://github.com/scikit-learn/scikit-learn/issues/21755 */display: inline-block !important;position: relative;}#sk-container-id-1 div.sk-text-repr-fallback {display: none;}</style><div id=\"sk-container-id-1\" class=\"sk-top-container\"><div class=\"sk-text-repr-fallback\"><pre>LogisticRegression()</pre><b>In a Jupyter environment, please rerun this cell to show the HTML representation or trust the notebook. <br />On GitHub, the HTML representation is unable to render, please try loading this page with nbviewer.org.</b></div><div class=\"sk-container\" hidden><div class=\"sk-item\"><div class=\"sk-estimator sk-toggleable\"><input class=\"sk-toggleable__control sk-hidden--visually\" id=\"sk-estimator-id-1\" type=\"checkbox\" checked><label for=\"sk-estimator-id-1\" class=\"sk-toggleable__label sk-toggleable__label-arrow\">LogisticRegression</label><div class=\"sk-toggleable__content\"><pre>LogisticRegression()</pre></div></div></div></div></div>"
      ],
      "text/plain": [
       "LogisticRegression()"
      ]
     },
     "execution_count": 27,
     "metadata": {},
     "output_type": "execute_result"
    }
   ],
   "source": [
    "from sklearn.linear_model import LogisticRegression\n",
    "\n",
    "model = LogisticRegression()\n",
    "model.fit(X_train, y_train)\n"
   ]
  },
  {
   "cell_type": "code",
   "execution_count": 28,
   "metadata": {},
   "outputs": [
    {
     "name": "stdout",
     "output_type": "stream",
     "text": [
      "              precision    recall  f1-score   support\n",
      "\n",
      "    negative       1.00      0.20      0.33        50\n",
      "     neutral       1.00      0.06      0.12        31\n",
      "    positive       0.95      1.00      0.97      1187\n",
      "\n",
      "    accuracy                           0.95      1268\n",
      "   macro avg       0.98      0.42      0.48      1268\n",
      "weighted avg       0.95      0.95      0.93      1268\n",
      "\n"
     ]
    }
   ],
   "source": [
    "from sklearn.metrics import classification_report\n",
    "\n",
    "y_pred = model.predict(X_test)\n",
    "print(classification_report(y_test, y_pred))\n"
   ]
  },
  {
   "cell_type": "code",
   "execution_count": 29,
   "metadata": {},
   "outputs": [
    {
     "data": {
      "image/png": "[encoded data removed]",
      "text/plain": [
       "<Figure size 640x480 with 1 Axes>"
      ]
     },
     "metadata": {},
     "output_type": "display_data"
    }
   ],
   "source": [
    "import matplotlib.pyplot as plt\n",
    "\n",
    "# Define classes and corresponding metrics\n",
    "classes = ['Negative', 'Neutral', 'Positive']\n",
    "precision = [1.00, 1.00, 0.95]\n",
    "recall = [0.20, 0.06, 1.00]\n",
    "f1_score = [0.33, 0.12, 0.97]\n",
    "\n",
    "# Set width of bar\n",
    "bar_width = 0.2\n",
    "\n",
    "# Set position of bar on X axis\n",
    "r1 = np.arange(len(precision))\n",
    "r2 = [x + bar_width for x in r1]\n",
    "r3 = [x + bar_width for x in r2]\n",
    "\n",
    "# Create bars\n",
    "plt.bar(r1, precision, color='b', width=bar_width, edgecolor='grey', label='Precision')\n",
    "plt.bar(r2, recall, color='g', width=bar_width, edgecolor='grey', label='Recall')\n",
    "plt.bar(r3, f1_score, color='r', width=bar_width, edgecolor='grey', label='F1-Score')\n",
    "\n",
    "# Add xticks on the middle of the group bars\n",
    "plt.xlabel('Sentiment Classes', fontweight='bold')\n",
    "plt.xticks([r + bar_width for r in range(len(precision))], classes)\n",
    "\n",
    "# Create legend & Show graphic\n",
    "plt.legend()\n",
    "plt.show()\n"
   ]
  },
  {
   "cell_type": "markdown",
   "metadata": {},
   "source": [
    "RANDOM FOREST CLASSIFIER"
   ]
  },
  {
   "cell_type": "code",
   "execution_count": 30,
   "metadata": {},
   "outputs": [
    {
     "name": "stdout",
     "output_type": "stream",
     "text": [
      "              precision    recall  f1-score   support\n",
      "\n",
      "    negative       1.00      0.16      0.28        50\n",
      "     neutral       0.69      0.29      0.41        31\n",
      "    positive       0.95      1.00      0.97      1187\n",
      "\n",
      "    accuracy                           0.95      1268\n",
      "   macro avg       0.88      0.48      0.55      1268\n",
      "weighted avg       0.95      0.95      0.93      1268\n",
      "\n"
     ]
    }
   ],
   "source": [
    "from sklearn.ensemble import RandomForestClassifier\n",
    "\n",
    "rf_classifier = RandomForestClassifier(n_estimators=100, random_state=42)\n",
    "rf_classifier.fit(X_train, y_train)\n",
    "y_pred = rf_classifier.predict(X_test)\n",
    "print(classification_report(y_test, y_pred))"
   ]
  },
  {
   "cell_type": "code",
   "execution_count": 31,
   "metadata": {},
   "outputs": [
    {
     "data": {
      "image/png": "[encoded data removed]",
      "text/plain": [
       "<Figure size 640x480 with 1 Axes>"
      ]
     },
     "metadata": {},
     "output_type": "display_data"
    }
   ],
   "source": [
    "# Define classes and corresponding metrics\n",
    "classes = ['Negative', 'Neutral', 'Positive']\n",
    "precision = [1.00, 0.69, 0.95]\n",
    "recall = [0.18, 0.29, 1.00]\n",
    "f1_score = [0.31, 0.41, 0.97]\n",
    "\n",
    "# Set width of bar\n",
    "bar_width = 0.2\n",
    "\n",
    "# Set position of bar on X axis\n",
    "r1 = np.arange(len(precision))\n",
    "r2 = [x + bar_width for x in r1]\n",
    "r3 = [x + bar_width for x in r2]\n",
    "\n",
    "# Create bars\n",
    "plt.bar(r1, precision, color='b', width=bar_width, edgecolor='grey', label='Precision')\n",
    "plt.bar(r2, recall, color='g', width=bar_width, edgecolor='grey', label='Recall')\n",
    "plt.bar(r3, f1_score, color='r', width=bar_width, edgecolor='grey', label='F1-Score')\n",
    "\n",
    "# Add xticks on the middle of the group bars\n",
    "plt.xlabel('Sentiment Classes', fontweight='bold')\n",
    "plt.xticks([r + bar_width for r in range(len(precision))], classes)\n",
    "\n",
    "# Create legend & Show graphic\n",
    "plt.legend()\n",
    "plt.show()"
   ]
  },
  {
   "cell_type": "markdown",
   "metadata": {},
   "source": [
    "SUPPORT VECTOR MACHINES"
   ]
  },
  {
   "cell_type": "code",
   "execution_count": 32,
   "metadata": {},
   "outputs": [
    {
     "name": "stdout",
     "output_type": "stream",
     "text": [
      "Classification Report on Training Data:\n",
      "              precision    recall  f1-score   support\n",
      "\n",
      "    negative       0.99      0.58      0.73       191\n",
      "     neutral       1.00      0.36      0.53        89\n",
      "    positive       0.97      1.00      0.99      4792\n",
      "\n",
      "    accuracy                           0.97      5072\n",
      "   macro avg       0.99      0.65      0.75      5072\n",
      "weighted avg       0.97      0.97      0.97      5072\n",
      "\n"
     ]
    }
   ],
   "source": [
    "from sklearn.svm import SVC\n",
    "\n",
    "svm_classifier = SVC(kernel='linear')\n",
    "svm_classifier.fit(X_train, y_train)\n",
    "train_predictions = svm_classifier.predict(X_train)\n",
    "\n",
    "print(\"Classification Report on Training Data:\")\n",
    "print(classification_report(y_train, train_predictions))\n"
   ]
  },
  {
   "cell_type": "code",
   "execution_count": 33,
   "metadata": {},
   "outputs": [
    {
     "data": {
      "image/png": "[encoded data removed]",
      "text/plain": [
       "<Figure size 640x480 with 1 Axes>"
      ]
     },
     "metadata": {},
     "output_type": "display_data"
    }
   ],
   "source": [
    "# Define classes and corresponding metrics\n",
    "classes = ['Negative', 'Neutral', 'Positive']\n",
    "precision = [0.99, 1.00, 0.97]\n",
    "recall = [0.58, 0.36, 1.00]\n",
    "f1_score = [0.73, 0.53, 0.99]\n",
    "\n",
    "# Set width of bar\n",
    "bar_width = 0.2\n",
    "\n",
    "# Set position of bar on X axis\n",
    "r1 = np.arange(len(precision))\n",
    "r2 = [x + bar_width for x in r1]\n",
    "r3 = [x + bar_width for x in r2]\n",
    "\n",
    "# Create bars\n",
    "plt.bar(r1, precision, color='b', width=bar_width, edgecolor='grey', label='Precision')\n",
    "plt.bar(r2, recall, color='g', width=bar_width, edgecolor='grey', label='Recall')\n",
    "plt.bar(r3, f1_score, color='r', width=bar_width, edgecolor='grey', label='F1-Score')\n",
    "\n",
    "# Add xticks on the middle of the group bars\n",
    "plt.xlabel('Sentiment Classes', fontweight='bold')\n",
    "plt.xticks([r + bar_width for r in range(len(precision))], classes)\n",
    "\n",
    "# Create legend & Show graphic\n",
    "plt.legend()\n",
    "plt.show()"
   ]
  },
  {
   "cell_type": "code",
   "execution_count": 34,
   "metadata": {},
   "outputs": [
    {
     "data": {
      "image/png": "[encoded data removed]",
      "text/plain": [
       "<Figure size 1000x600 with 1 Axes>"
      ]
     },
     "metadata": {},
     "output_type": "display_data"
    }
   ],
   "source": [
    "import matplotlib.pyplot as plt\n",
    "\n",
    "# Define models and their corresponding accuracies\n",
    "models = ['Logistic Regression', 'Random Forest', 'Support Vector Machine']\n",
    "accuracies = [0.8545, 0.0496, 0.0269]  \n",
    "\n",
    "# Create a line graph\n",
    "plt.figure(figsize=(10, 6))\n",
    "plt.plot(models, accuracies, marker='o', color='b', linestyle='-')\n",
    "\n",
    "# Add labels and title\n",
    "plt.xlabel('Models')\n",
    "plt.ylabel('Accuracy')\n",
    "plt.title('Comparison of Model Accuracies')\n",
    "\n",
    "# Rotate x-axis labels for better readability\n",
    "plt.xticks(rotation=45, ha='right')\n",
    "\n",
    "# Display the plot\n",
    "plt.grid(True)\n",
    "plt.tight_layout()\n",
    "plt.show()\n"
   ]
  }
 ],
 "metadata": {
  "kernelspec": {
   "display_name": "my_project_env",
   "language": "python",
   "name": "python3"
  },
  "language_info": {
   "codemirror_mode": {
    "name": "ipython",
    "version": 3
   },
   "file_extension": ".py",
   "mimetype": "text/x-python",
   "name": "python",
   "nbconvert_exporter": "python",
   "pygments_lexer": "ipython3",
   "version": "3.8.18"
  }
 },
 "nbformat": 4,
 "nbformat_minor": 2
}
