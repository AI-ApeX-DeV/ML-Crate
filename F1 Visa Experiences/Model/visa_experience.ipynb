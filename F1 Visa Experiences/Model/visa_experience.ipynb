{
 "cells": [
  {
   "cell_type": "code",
   "execution_count": 133,
   "metadata": {},
   "outputs": [
    {
     "data": {
      "text/html": [
       "<div>\n",
       "<style scoped>\n",
       "    .dataframe tbody tr th:only-of-type {\n",
       "        vertical-align: middle;\n",
       "    }\n",
       "\n",
       "    .dataframe tbody tr th {\n",
       "        vertical-align: top;\n",
       "    }\n",
       "\n",
       "    .dataframe thead th {\n",
       "        text-align: right;\n",
       "    }\n",
       "</style>\n",
       "<table border=\"1\" class=\"dataframe\">\n",
       "  <thead>\n",
       "    <tr style=\"text-align: right;\">\n",
       "      <th></th>\n",
       "      <th>msg_id</th>\n",
       "      <th>date</th>\n",
       "      <th>message</th>\n",
       "    </tr>\n",
       "  </thead>\n",
       "  <tbody>\n",
       "    <tr>\n",
       "      <th>count</th>\n",
       "      <td>6391.000000</td>\n",
       "      <td>6391</td>\n",
       "      <td>6391</td>\n",
       "    </tr>\n",
       "    <tr>\n",
       "      <th>unique</th>\n",
       "      <td>NaN</td>\n",
       "      <td>6372</td>\n",
       "      <td>6317</td>\n",
       "    </tr>\n",
       "    <tr>\n",
       "      <th>top</th>\n",
       "      <td>NaN</td>\n",
       "      <td>2021-07-01 04:30:10</td>\n",
       "      <td>Look this out for visa alerts👇\\nhttps://t.me/A...</td>\n",
       "    </tr>\n",
       "    <tr>\n",
       "      <th>freq</th>\n",
       "      <td>NaN</td>\n",
       "      <td>2</td>\n",
       "      <td>5</td>\n",
       "    </tr>\n",
       "    <tr>\n",
       "      <th>mean</th>\n",
       "      <td>3384.868252</td>\n",
       "      <td>NaN</td>\n",
       "      <td>NaN</td>\n",
       "    </tr>\n",
       "    <tr>\n",
       "      <th>std</th>\n",
       "      <td>1908.469258</td>\n",
       "      <td>NaN</td>\n",
       "      <td>NaN</td>\n",
       "    </tr>\n",
       "    <tr>\n",
       "      <th>min</th>\n",
       "      <td>4.000000</td>\n",
       "      <td>NaN</td>\n",
       "      <td>NaN</td>\n",
       "    </tr>\n",
       "    <tr>\n",
       "      <th>25%</th>\n",
       "      <td>1768.500000</td>\n",
       "      <td>NaN</td>\n",
       "      <td>NaN</td>\n",
       "    </tr>\n",
       "    <tr>\n",
       "      <th>50%</th>\n",
       "      <td>3401.000000</td>\n",
       "      <td>NaN</td>\n",
       "      <td>NaN</td>\n",
       "    </tr>\n",
       "    <tr>\n",
       "      <th>75%</th>\n",
       "      <td>5034.500000</td>\n",
       "      <td>NaN</td>\n",
       "      <td>NaN</td>\n",
       "    </tr>\n",
       "    <tr>\n",
       "      <th>max</th>\n",
       "      <td>6715.000000</td>\n",
       "      <td>NaN</td>\n",
       "      <td>NaN</td>\n",
       "    </tr>\n",
       "  </tbody>\n",
       "</table>\n",
       "</div>"
      ],
      "text/plain": [
       "             msg_id                 date  \\\n",
       "count   6391.000000                 6391   \n",
       "unique          NaN                 6372   \n",
       "top             NaN  2021-07-01 04:30:10   \n",
       "freq            NaN                    2   \n",
       "mean    3384.868252                  NaN   \n",
       "std     1908.469258                  NaN   \n",
       "min        4.000000                  NaN   \n",
       "25%     1768.500000                  NaN   \n",
       "50%     3401.000000                  NaN   \n",
       "75%     5034.500000                  NaN   \n",
       "max     6715.000000                  NaN   \n",
       "\n",
       "                                                  message  \n",
       "count                                                6391  \n",
       "unique                                               6317  \n",
       "top     Look this out for visa alerts👇\\nhttps://t.me/A...  \n",
       "freq                                                    5  \n",
       "mean                                                  NaN  \n",
       "std                                                   NaN  \n",
       "min                                                   NaN  \n",
       "25%                                                   NaN  \n",
       "50%                                                   NaN  \n",
       "75%                                                   NaN  \n",
       "max                                                   NaN  "
      ]
     },
     "execution_count": 133,
     "metadata": {},
     "output_type": "execute_result"
    }
   ],
   "source": [
    "import pandas as pd \n",
    "import numpy as np\n",
    "\n",
    "visa_experience = '/Users/churnika/Desktop/Projects/ML-Crate/F1 Visa Experiences/Dataset/telegram.csv'\n",
    "visa_data = pd.read_csv(visa_experience) \n",
    "\n",
    "visa_data_clean = visa_data.dropna() #removing rows with missing values\n",
    "\n",
    "visa_data_clean.describe(include='all')"
   ]
  },
  {
   "cell_type": "code",
   "execution_count": 134,
   "metadata": {},
   "outputs": [],
   "source": [
    "# accessing the message column and converting it into lower case\n",
    "\n",
    "msg_exp = visa_data_clean['message'].str.lower()"
   ]
  },
  {
   "cell_type": "code",
   "execution_count": 135,
   "metadata": {},
   "outputs": [
    {
     "name": "stdout",
     "output_type": "stream",
     "text": [
      "0       consulate: new delhi\\nfirst attempt\\nbiometric...\n",
      "1       date: 24-03-2022\\ndelhi consulate\\ninterview t...\n",
      "2       first attempt rejected in mumbai \\ndelhi consu...\n",
      "3       date 17 march 2022\\nlocation- new delhi\\ncount...\n",
      "4       location mumbai\\ndate 21 march\\ncounter 33\\nht...\n",
      "                              ...                        \n",
      "6438    consulate- mumbai\\ndate-27th october\\nappointm...\n",
      "6439    consulate: hyderabad\\ncounters open: 1\\ncounte...\n",
      "6440    location: mumbai\\ndate : 23 oct 2020\\napproved...\n",
      "6441    kolkata counsulate \\n8.0 am slot\\ndate:19th oc...\n",
      "6442    visa #experience\\nuniversity: stonybrook unive...\n",
      "Name: message, Length: 6391, dtype: object\n"
     ]
    }
   ],
   "source": [
    "print(msg_exp)"
   ]
  },
  {
   "cell_type": "code",
   "execution_count": 136,
   "metadata": {},
   "outputs": [],
   "source": [
    "# removing the urls that are present.\n",
    "\n",
    "import re\n",
    "\n",
    "text_without_urls = []\n",
    "\n",
    "def remove_urls(text):\n",
    "    url_pattern = re.compile(r'https?://\\S+|www\\.\\S+')\n",
    "    text_without_urls = url_pattern.sub('',text)\n",
    "    return text_without_urls\n",
    "\n",
    "for i in range(len(msg_exp)):\n",
    "    try:\n",
    "        msg_exp[i] = remove_urls(msg_exp[i])\n",
    "        text_without_urls.append(msg_exp[i])\n",
    "    except KeyError as e:\n",
    "        # print(f\"Error at index {i}: {e}. Skipping...\")\n",
    "        continue\n"
   ]
  },
  {
   "cell_type": "code",
   "execution_count": 137,
   "metadata": {},
   "outputs": [
    {
     "name": "stdout",
     "output_type": "stream",
     "text": [
      "Length of text_without_urls: 6340\n"
     ]
    }
   ],
   "source": [
    "# removing punctuations\n",
    "\n",
    "import string\n",
    "\n",
    "def remove_punctuation(text):\n",
    "    translator = str.maketrans('', '', string.punctuation)\n",
    "    return text.translate(translator)\n",
    "\n",
    "print(\"Length of text_without_urls:\", len(text_without_urls))\n",
    "\n",
    "for i in range(len(text_without_urls)):\n",
    "    try:\n",
    "        text_without_urls[i] = remove_punctuation(text_without_urls[i])\n",
    "\n",
    "    except KeyError as e:\n",
    "        print(f\"Error at index {i}: {e}. Skipping...\")\n",
    "        continue"
   ]
  },
  {
   "cell_type": "code",
   "execution_count": 188,
   "metadata": {},
   "outputs": [
    {
     "name": "stderr",
     "output_type": "stream",
     "text": [
      "[nltk_data] Downloading package punkt to /Users/churnika/nltk_data...\n",
      "[nltk_data]   Package punkt is already up-to-date!\n",
      "[nltk_data] Downloading package stopwords to\n",
      "[nltk_data]     /Users/churnika/nltk_data...\n",
      "[nltk_data]   Package stopwords is already up-to-date!\n"
     ]
    }
   ],
   "source": [
    "# TOKENIZATION\n",
    "# REMOVING URLS\n",
    "# REMOVING NUMBERS\n",
    "# REMOVING STOP WORDS\n",
    "\n",
    "import nltk\n",
    "import re\n",
    "from nltk.corpus import stopwords\n",
    "import calendar\n",
    "\n",
    "nltk.download('punkt')\n",
    "nltk.download('stopwords')\n",
    "\n",
    "stop_words = set(stopwords.words('english'))\n",
    "\n",
    "months_days = [calendar.month_name[i].lower() for i in range(1, 13)] + [calendar.day_name[i].lower() for i in range(7)]\n",
    "remove_words = [\"vo\",\"n\",\"m\",\"c\",\"ra\",\"xx\",\"r\",\"date\",\"hii\",\"hi\",\"ye\",\"pa\",\"xxx\",\"p\",\"sir\",\"mam\",\"good\",\"morning\",\"time\",\"ur\",\"you\",\"status\",\"father\"]\n",
    "\n",
    "cleaned_tokens = []\n",
    "\n",
    "for i in range(len(text_without_urls)):\n",
    "    try:\n",
    "        tokens = nltk.word_tokenize(text_without_urls[i])\n",
    "        # Filter out URLs\n",
    "        tokens = [token for token in tokens if not re.match(r'http[s]?://', token)]\n",
    "        tokens = [token for token in tokens if token.isalpha()]\n",
    "        tokens = [token for token in tokens if token not in stop_words]\n",
    "        tokens = [token for token in tokens if token not in months_days]\n",
    "        tokens = [token for token in tokens if token not in remove_words]\n",
    "        cleaned_tokens.append(tokens)\n",
    "    except Exception as e:\n",
    "        print(f\"Error at index {i}: {e}. Skipping...\")\n",
    "        continue\n"
   ]
  },
  {
   "cell_type": "code",
   "execution_count": 181,
   "metadata": {},
   "outputs": [
    {
     "name": "stderr",
     "output_type": "stream",
     "text": [
      "[nltk_data] Downloading package wordnet to\n",
      "[nltk_data]     /Users/churnika/nltk_data...\n",
      "[nltk_data]   Package wordnet is already up-to-date!\n"
     ]
    }
   ],
   "source": [
    "# LEMMATIZATION\n",
    "\n",
    "from nltk.stem import WordNetLemmatizer\n",
    "nltk.download('wordnet')\n",
    "\n",
    "lemmatizer = WordNetLemmatizer()\n",
    "\n",
    "lemmatized_tokens = [[lemmatizer.lemmatize(token) for token in tokens]for tokens in cleaned_tokens]"
   ]
  },
  {
   "cell_type": "code",
   "execution_count": 182,
   "metadata": {},
   "outputs": [],
   "source": [
    "# REMOVING RARE OR FREQUENTLY USED WORDS\n",
    "\n",
    "from collections import Counter\n",
    "\n",
    "freq = Counter([token for tokens in lemmatized_tokens for token in tokens])\n",
    "freq_threshold = 10\n",
    "\n",
    "lemmatized_tokens = [[token for token in tokens if freq[token] > freq_threshold] for tokens in lemmatized_tokens]"
   ]
  },
  {
   "cell_type": "code",
   "execution_count": 183,
   "metadata": {},
   "outputs": [],
   "source": [
    "#REMOVING WHITESPACES\n",
    "\n",
    "cleaned_lemmatized_tokens = [' '.join(tokens) for tokens in lemmatized_tokens]\n",
    "cleaned_lemmatized_tokens = [text.split() for text in cleaned_lemmatized_tokens]"
   ]
  },
  {
   "cell_type": "code",
   "execution_count": 184,
   "metadata": {},
   "outputs": [],
   "source": [
    "# Dictionary mapping abbreviations to their full forms\n",
    "abbreviation_dict = {\n",
    "    \"don't\": \"do not\",\n",
    "    \"can't\": \"cannot\",\n",
    "    \"u\": \"you\",\n",
    "    \"approv\": \"approve\",\n",
    "    \"approved\": \"approve\",\n",
    "    \"rejected\": \"reject\"\n",
    "    # Add more abbreviations and their full forms as needed\n",
    "}\n",
    "\n",
    "# Function to expand abbreviations\n",
    "def expand_abbreviations(tokens):\n",
    "    expanded_tokens = []\n",
    "    for token in tokens:\n",
    "        if token in abbreviation_dict:\n",
    "            expanded_tokens.extend(abbreviation_dict[token].split())\n",
    "        else:\n",
    "            expanded_tokens.append(token)\n",
    "    return expanded_tokens\n",
    "\n",
    "# Expand abbreviations in cleaned_lemmatized_tokens\n",
    "expanded_lemmatized_tokens = [expand_abbreviations(tokens) for tokens in cleaned_lemmatized_tokens]\n"
   ]
  },
  {
   "cell_type": "code",
   "execution_count": 185,
   "metadata": {},
   "outputs": [],
   "source": [
    "#REMOVE ACCENTS AND DIACRITICS FROM EXPANDED_LEMMATIZED_TOKENS\n",
    "\n",
    "from unidecode import unidecode\n",
    "\n",
    "def remove_accents_diacritics(tokens):\n",
    "    cleaned_tokens = []\n",
    "    for token in tokens:\n",
    "        cleaned_token = unidecode(token)\n",
    "        cleaned_tokens.append(cleaned_token)\n",
    "    return cleaned_tokens\n",
    "\n",
    "expanded_lemmatized_tokens = [remove_accents_diacritics(tokens) for tokens in expanded_lemmatized_tokens]\n"
   ]
  },
  {
   "cell_type": "code",
   "execution_count": 189,
   "metadata": {},
   "outputs": [],
   "source": [
    "# PART-OF-SPEECH\n",
    "\n",
    "pos_tagged_tokens = [nltk.pos_tag(tokens) for tokens in expanded_lemmatized_tokens]"
   ]
  },
  {
   "cell_type": "code",
   "execution_count": 194,
   "metadata": {},
   "outputs": [],
   "source": [
    "# VECTORIZATION\n",
    "\n",
    "from sklearn.feature_extraction.text import TfidfVectorizer\n",
    "\n",
    "joined_tokens = [' '.join(tokens) for tokens in expanded_lemmatized_tokens]\n",
    "\n",
    "vectorizer = TfidfVectorizer()\n",
    "\n",
    "X = vectorizer.fit_transform(joined_tokens)"
   ]
  },
  {
   "cell_type": "code",
   "execution_count": 209,
   "metadata": {},
   "outputs": [],
   "source": [
    "# SENTIMENT ANALYSIS\n",
    "\n",
    "from nltk.sentiment import SentimentIntensityAnalyzer\n",
    "\n",
    "# Create SentimentIntensityAnalyzer object\n",
    "sia = SentimentIntensityAnalyzer()\n",
    "\n",
    "# Let's say we have the following tokens\n",
    "tokens = expanded_lemmatized_tokens\n",
    "\n",
    "# Function to get sentiment\n",
    "def get_sentiment(token_list):\n",
    "    # Join the tokens into a string\n",
    "    text = ' '.join(token_list)\n",
    "    # Use the polarity_scores method to get the sentiment\n",
    "    sentiment = sia.polarity_scores(text)\n",
    "    return sentiment\n",
    "\n",
    "# Apply the function to each list of tokens\n",
    "sentiments = [get_sentiment(token_list) for token_list in tokens]\n",
    "\n",
    "# Now, 'sentiments' is a list of sentiment scores for each message\n"
   ]
  },
  {
   "cell_type": "code",
   "execution_count": 210,
   "metadata": {},
   "outputs": [],
   "source": [
    "# MAPPING SENTIMENTS TO y\n",
    "\n",
    "def map_sentiment_score_to_label(sentiment):\n",
    "    if sentiment['compound'] >= 0.05:\n",
    "        return 'positive'\n",
    "    elif sentiment['compound'] <= -0.05:\n",
    "        return 'negative'\n",
    "    else:\n",
    "        return 'neutral'\n",
    "\n",
    "# Map sentiment scores to sentiment labels\n",
    "sentiment_labels = [map_sentiment_score_to_label(sentiment) for sentiment in sentiments]\n",
    "\n",
    "y = sentiment_labels\n"
   ]
  },
  {
   "cell_type": "code",
   "execution_count": 211,
   "metadata": {},
   "outputs": [],
   "source": [
    "from sklearn.model_selection import train_test_split\n",
    "\n",
    "X_train, X_test, y_train, y_test = train_test_split(X, y, test_size=0.2, random_state=42)"
   ]
  }
 ],
 "metadata": {
  "kernelspec": {
   "display_name": "my_project_env",
   "language": "python",
   "name": "python3"
  },
  "language_info": {
   "codemirror_mode": {
    "name": "ipython",
    "version": 3
   },
   "file_extension": ".py",
   "mimetype": "text/x-python",
   "name": "python",
   "nbconvert_exporter": "python",
   "pygments_lexer": "ipython3",
   "version": "3.8.18"
  }
 },
 "nbformat": 4,
 "nbformat_minor": 2
}
