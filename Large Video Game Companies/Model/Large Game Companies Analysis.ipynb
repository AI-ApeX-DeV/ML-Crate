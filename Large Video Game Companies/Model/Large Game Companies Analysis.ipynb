{
 "cells": [
  {
   "cell_type": "markdown",
   "id": "d9a0083b",
   "metadata": {},
   "source": [
    "# Name of contributor: Piyush Bhujbal\n"
   ]
  },
  {
   "cell_type": "markdown",
   "id": "991948d9",
   "metadata": {},
   "source": [
    "## Importing the libraries"
   ]
  },
  {
   "cell_type": "code",
   "execution_count": 1,
   "id": "189107c1",
   "metadata": {},
   "outputs": [],
   "source": [
    "import pandas as pd\n",
    "import matplotlib.pyplot as plt\n",
    "import seaborn as sns\n",
    "import numpy as np\n",
    "from warnings import filterwarnings\n",
    "filterwarnings(\"ignore\")"
   ]
  },
  {
   "cell_type": "code",
   "execution_count": 2,
   "id": "b03ad50a",
   "metadata": {},
   "outputs": [],
   "source": [
    "game_data = pd.read_csv(\"GamingCompanies-Main.csv\")"
   ]
  },
  {
   "cell_type": "code",
   "execution_count": 3,
   "id": "ad0b8f21",
   "metadata": {
    "scrolled": true
   },
   "outputs": [
    {
     "data": {
      "text/html": [
       "<div>\n",
       "<style scoped>\n",
       "    .dataframe tbody tr th:only-of-type {\n",
       "        vertical-align: middle;\n",
       "    }\n",
       "\n",
       "    .dataframe tbody tr th {\n",
       "        vertical-align: top;\n",
       "    }\n",
       "\n",
       "    .dataframe thead th {\n",
       "        text-align: right;\n",
       "    }\n",
       "</style>\n",
       "<table border=\"1\" class=\"dataframe\">\n",
       "  <thead>\n",
       "    <tr style=\"text-align: right;\">\n",
       "      <th></th>\n",
       "      <th>Name</th>\n",
       "      <th>marketcap</th>\n",
       "      <th>earnings</th>\n",
       "      <th>employeeCount</th>\n",
       "      <th>OperatingMargin</th>\n",
       "      <th>PERatio</th>\n",
       "      <th>Revenue</th>\n",
       "      <th>country</th>\n",
       "    </tr>\n",
       "  </thead>\n",
       "  <tbody>\n",
       "    <tr>\n",
       "      <th>0</th>\n",
       "      <td>11 bit studios</td>\n",
       "      <td>2.600171e+08</td>\n",
       "      <td>8147710</td>\n",
       "      <td>192</td>\n",
       "      <td>4583.070</td>\n",
       "      <td>40.8881</td>\n",
       "      <td>1.777785e+07</td>\n",
       "      <td>Poland</td>\n",
       "    </tr>\n",
       "    <tr>\n",
       "      <th>1</th>\n",
       "      <td>Activision Blizzard</td>\n",
       "      <td>5.835960e+10</td>\n",
       "      <td>2972000000</td>\n",
       "      <td>9500</td>\n",
       "      <td>3582.020</td>\n",
       "      <td>23.4717</td>\n",
       "      <td>8.297000e+09</td>\n",
       "      <td>United States</td>\n",
       "    </tr>\n",
       "    <tr>\n",
       "      <th>2</th>\n",
       "      <td>Appirits</td>\n",
       "      <td>3.008261e+07</td>\n",
       "      <td>1591300</td>\n",
       "      <td>411</td>\n",
       "      <td>372.253</td>\n",
       "      <td>31.0000</td>\n",
       "      <td>4.274776e+07</td>\n",
       "      <td>Japan</td>\n",
       "    </tr>\n",
       "    <tr>\n",
       "      <th>3</th>\n",
       "      <td>Aristocrat</td>\n",
       "      <td>1.551363e+10</td>\n",
       "      <td>778411000</td>\n",
       "      <td>7000</td>\n",
       "      <td>2266.820</td>\n",
       "      <td>14.2970</td>\n",
       "      <td>3.433941e+09</td>\n",
       "      <td>Australia</td>\n",
       "    </tr>\n",
       "    <tr>\n",
       "      <th>4</th>\n",
       "      <td>ATARI</td>\n",
       "      <td>4.923000e+07</td>\n",
       "      <td>-13476800</td>\n",
       "      <td>26</td>\n",
       "      <td>-6296.300</td>\n",
       "      <td>-3.0000</td>\n",
       "      <td>2.140430e+07</td>\n",
       "      <td>France</td>\n",
       "    </tr>\n",
       "  </tbody>\n",
       "</table>\n",
       "</div>"
      ],
      "text/plain": [
       "                  Name     marketcap    earnings  employeeCount  \\\n",
       "0       11 bit studios  2.600171e+08     8147710            192   \n",
       "1  Activision Blizzard  5.835960e+10  2972000000           9500   \n",
       "2             Appirits  3.008261e+07     1591300            411   \n",
       "3           Aristocrat  1.551363e+10   778411000           7000   \n",
       "4                ATARI  4.923000e+07   -13476800             26   \n",
       "\n",
       "   OperatingMargin  PERatio       Revenue        country  \n",
       "0         4583.070  40.8881  1.777785e+07         Poland  \n",
       "1         3582.020  23.4717  8.297000e+09  United States  \n",
       "2          372.253  31.0000  4.274776e+07          Japan  \n",
       "3         2266.820  14.2970  3.433941e+09      Australia  \n",
       "4        -6296.300  -3.0000  2.140430e+07         France  "
      ]
     },
     "execution_count": 3,
     "metadata": {},
     "output_type": "execute_result"
    }
   ],
   "source": [
    "game_data.head()"
   ]
  },
  {
   "cell_type": "code",
   "execution_count": 4,
   "id": "ad20cebd",
   "metadata": {
    "scrolled": true
   },
   "outputs": [
    {
     "data": {
      "text/html": [
       "<div>\n",
       "<style scoped>\n",
       "    .dataframe tbody tr th:only-of-type {\n",
       "        vertical-align: middle;\n",
       "    }\n",
       "\n",
       "    .dataframe tbody tr th {\n",
       "        vertical-align: top;\n",
       "    }\n",
       "\n",
       "    .dataframe thead th {\n",
       "        text-align: right;\n",
       "    }\n",
       "</style>\n",
       "<table border=\"1\" class=\"dataframe\">\n",
       "  <thead>\n",
       "    <tr style=\"text-align: right;\">\n",
       "      <th></th>\n",
       "      <th>Name</th>\n",
       "      <th>marketcap</th>\n",
       "      <th>earnings</th>\n",
       "      <th>employeeCount</th>\n",
       "      <th>OperatingMargin</th>\n",
       "      <th>PERatio</th>\n",
       "      <th>Revenue</th>\n",
       "      <th>country</th>\n",
       "    </tr>\n",
       "  </thead>\n",
       "  <tbody>\n",
       "    <tr>\n",
       "      <th>74</th>\n",
       "      <td>Unity Software</td>\n",
       "      <td>9.993398e+09</td>\n",
       "      <td>-590918000</td>\n",
       "      <td>4934</td>\n",
       "      <td>-4941.280</td>\n",
       "      <td>-16.076200</td>\n",
       "      <td>1.195880e+09</td>\n",
       "      <td>United States</td>\n",
       "    </tr>\n",
       "    <tr>\n",
       "      <th>75</th>\n",
       "      <td>Versus Systems</td>\n",
       "      <td>1.169109e+07</td>\n",
       "      <td>-11545800</td>\n",
       "      <td>0</td>\n",
       "      <td>-153192.000</td>\n",
       "      <td>-0.823529</td>\n",
       "      <td>7.536780e+05</td>\n",
       "      <td>Canada</td>\n",
       "    </tr>\n",
       "    <tr>\n",
       "      <th>76</th>\n",
       "      <td>Webzen</td>\n",
       "      <td>5.007477e+08</td>\n",
       "      <td>0</td>\n",
       "      <td>0</td>\n",
       "      <td>0.000</td>\n",
       "      <td>0.000000</td>\n",
       "      <td>0.000000e+00</td>\n",
       "      <td>South Korea</td>\n",
       "    </tr>\n",
       "    <tr>\n",
       "      <th>77</th>\n",
       "      <td>Wemade</td>\n",
       "      <td>8.686795e+08</td>\n",
       "      <td>0</td>\n",
       "      <td>0</td>\n",
       "      <td>0.000</td>\n",
       "      <td>0.000000</td>\n",
       "      <td>0.000000e+00</td>\n",
       "      <td>South Korea</td>\n",
       "    </tr>\n",
       "    <tr>\n",
       "      <th>78</th>\n",
       "      <td>WonderPlanet</td>\n",
       "      <td>3.043914e+07</td>\n",
       "      <td>-1386590</td>\n",
       "      <td>0</td>\n",
       "      <td>-498.975</td>\n",
       "      <td>4.037680</td>\n",
       "      <td>2.778869e+07</td>\n",
       "      <td>Japan</td>\n",
       "    </tr>\n",
       "  </tbody>\n",
       "</table>\n",
       "</div>"
      ],
      "text/plain": [
       "              Name     marketcap   earnings  employeeCount  OperatingMargin  \\\n",
       "74  Unity Software  9.993398e+09 -590918000           4934        -4941.280   \n",
       "75  Versus Systems  1.169109e+07  -11545800              0      -153192.000   \n",
       "76          Webzen  5.007477e+08          0              0            0.000   \n",
       "77          Wemade  8.686795e+08          0              0            0.000   \n",
       "78    WonderPlanet  3.043914e+07   -1386590              0         -498.975   \n",
       "\n",
       "      PERatio       Revenue        country  \n",
       "74 -16.076200  1.195880e+09  United States  \n",
       "75  -0.823529  7.536780e+05         Canada  \n",
       "76   0.000000  0.000000e+00    South Korea  \n",
       "77   0.000000  0.000000e+00    South Korea  \n",
       "78   4.037680  2.778869e+07          Japan  "
      ]
     },
     "execution_count": 4,
     "metadata": {},
     "output_type": "execute_result"
    }
   ],
   "source": [
    "game_data.tail()"
   ]
  },
  {
   "cell_type": "markdown",
   "id": "5995ae08",
   "metadata": {},
   "source": [
    "## Data preprocessing"
   ]
  },
  {
   "cell_type": "code",
   "execution_count": 5,
   "id": "87cc05f1",
   "metadata": {},
   "outputs": [
    {
     "data": {
      "text/plain": [
       "(79, 8)"
      ]
     },
     "execution_count": 5,
     "metadata": {},
     "output_type": "execute_result"
    }
   ],
   "source": [
    "game_data.shape"
   ]
  },
  {
   "cell_type": "code",
   "execution_count": 6,
   "id": "8dd7c16d",
   "metadata": {},
   "outputs": [
    {
     "name": "stdout",
     "output_type": "stream",
     "text": [
      "<class 'pandas.core.frame.DataFrame'>\n",
      "RangeIndex: 79 entries, 0 to 78\n",
      "Data columns (total 8 columns):\n",
      " #   Column           Non-Null Count  Dtype  \n",
      "---  ------           --------------  -----  \n",
      " 0   Name             79 non-null     object \n",
      " 1   marketcap        79 non-null     float64\n",
      " 2   earnings         79 non-null     int64  \n",
      " 3   employeeCount    79 non-null     int64  \n",
      " 4   OperatingMargin  78 non-null     float64\n",
      " 5   PERatio          79 non-null     float64\n",
      " 6   Revenue          79 non-null     float64\n",
      " 7   country          79 non-null     object \n",
      "dtypes: float64(4), int64(2), object(2)\n",
      "memory usage: 5.1+ KB\n"
     ]
    }
   ],
   "source": [
    "game_data.info()"
   ]
  },
  {
   "cell_type": "code",
   "execution_count": 7,
   "id": "e316cb88",
   "metadata": {},
   "outputs": [
    {
     "data": {
      "text/plain": [
       "Name               0\n",
       "marketcap          0\n",
       "earnings           0\n",
       "employeeCount      0\n",
       "OperatingMargin    1\n",
       "PERatio            0\n",
       "Revenue            0\n",
       "country            0\n",
       "dtype: int64"
      ]
     },
     "execution_count": 7,
     "metadata": {},
     "output_type": "execute_result"
    }
   ],
   "source": [
    "game_data.isna().sum()"
   ]
  },
  {
   "cell_type": "code",
   "execution_count": 8,
   "id": "a7eb0b27",
   "metadata": {},
   "outputs": [],
   "source": [
    "game_data[\"OperatingMargin\"] = game_data[\"OperatingMargin\"].fillna(0)"
   ]
  },
  {
   "cell_type": "code",
   "execution_count": 9,
   "id": "1be09e74",
   "metadata": {},
   "outputs": [
    {
     "data": {
      "text/plain": [
       "Name               0\n",
       "marketcap          0\n",
       "earnings           0\n",
       "employeeCount      0\n",
       "OperatingMargin    0\n",
       "PERatio            0\n",
       "Revenue            0\n",
       "country            0\n",
       "dtype: int64"
      ]
     },
     "execution_count": 9,
     "metadata": {},
     "output_type": "execute_result"
    }
   ],
   "source": [
    "game_data.isna().sum()"
   ]
  },
  {
   "cell_type": "code",
   "execution_count": 10,
   "id": "f7811782",
   "metadata": {
    "scrolled": true
   },
   "outputs": [
    {
     "data": {
      "text/plain": [
       "Index(['Name', 'marketcap', 'earnings', 'employeeCount', 'OperatingMargin',\n",
       "       'PERatio', 'Revenue', 'country'],\n",
       "      dtype='object')"
      ]
     },
     "execution_count": 10,
     "metadata": {},
     "output_type": "execute_result"
    }
   ],
   "source": [
    "game_data.columns"
   ]
  },
  {
   "cell_type": "code",
   "execution_count": 11,
   "id": "9a52e06f",
   "metadata": {
    "scrolled": true
   },
   "outputs": [
    {
     "data": {
      "text/html": [
       "<div>\n",
       "<style scoped>\n",
       "    .dataframe tbody tr th:only-of-type {\n",
       "        vertical-align: middle;\n",
       "    }\n",
       "\n",
       "    .dataframe tbody tr th {\n",
       "        vertical-align: top;\n",
       "    }\n",
       "\n",
       "    .dataframe thead th {\n",
       "        text-align: right;\n",
       "    }\n",
       "</style>\n",
       "<table border=\"1\" class=\"dataframe\">\n",
       "  <thead>\n",
       "    <tr style=\"text-align: right;\">\n",
       "      <th></th>\n",
       "      <th>marketcap</th>\n",
       "      <th>earnings</th>\n",
       "      <th>employeeCount</th>\n",
       "      <th>OperatingMargin</th>\n",
       "      <th>PERatio</th>\n",
       "      <th>Revenue</th>\n",
       "    </tr>\n",
       "  </thead>\n",
       "  <tbody>\n",
       "    <tr>\n",
       "      <th>count</th>\n",
       "      <td>7.900000e+01</td>\n",
       "      <td>7.900000e+01</td>\n",
       "      <td>79.000000</td>\n",
       "      <td>79.000000</td>\n",
       "      <td>79.000000</td>\n",
       "      <td>7.900000e+01</td>\n",
       "    </tr>\n",
       "    <tr>\n",
       "      <th>mean</th>\n",
       "      <td>3.645219e+10</td>\n",
       "      <td>1.984251e+09</td>\n",
       "      <td>7982.088608</td>\n",
       "      <td>-1350.327735</td>\n",
       "      <td>316.795930</td>\n",
       "      <td>6.298129e+09</td>\n",
       "    </tr>\n",
       "    <tr>\n",
       "      <th>std</th>\n",
       "      <td>2.114950e+11</td>\n",
       "      <td>1.051708e+10</td>\n",
       "      <td>26699.767713</td>\n",
       "      <td>18061.942897</td>\n",
       "      <td>1644.776642</td>\n",
       "      <td>2.527092e+10</td>\n",
       "    </tr>\n",
       "    <tr>\n",
       "      <th>min</th>\n",
       "      <td>8.222565e+06</td>\n",
       "      <td>-1.576240e+09</td>\n",
       "      <td>0.000000</td>\n",
       "      <td>-153192.000000</td>\n",
       "      <td>-495.024000</td>\n",
       "      <td>0.000000e+00</td>\n",
       "    </tr>\n",
       "    <tr>\n",
       "      <th>25%</th>\n",
       "      <td>3.350410e+08</td>\n",
       "      <td>0.000000e+00</td>\n",
       "      <td>102.500000</td>\n",
       "      <td>0.000000</td>\n",
       "      <td>0.000000</td>\n",
       "      <td>7.902684e+07</td>\n",
       "    </tr>\n",
       "    <tr>\n",
       "      <th>50%</th>\n",
       "      <td>1.056105e+09</td>\n",
       "      <td>4.166110e+07</td>\n",
       "      <td>620.000000</td>\n",
       "      <td>1386.460000</td>\n",
       "      <td>13.537400</td>\n",
       "      <td>4.340940e+08</td>\n",
       "    </tr>\n",
       "    <tr>\n",
       "      <th>75%</th>\n",
       "      <td>6.084565e+09</td>\n",
       "      <td>3.648105e+08</td>\n",
       "      <td>5266.000000</td>\n",
       "      <td>2581.405000</td>\n",
       "      <td>25.372450</td>\n",
       "      <td>2.213915e+09</td>\n",
       "    </tr>\n",
       "    <tr>\n",
       "      <th>max</th>\n",
       "      <td>1.828550e+12</td>\n",
       "      <td>8.475400e+10</td>\n",
       "      <td>181000.000000</td>\n",
       "      <td>6696.980000</td>\n",
       "      <td>12392.800000</td>\n",
       "      <td>1.925570e+11</td>\n",
       "    </tr>\n",
       "  </tbody>\n",
       "</table>\n",
       "</div>"
      ],
      "text/plain": [
       "          marketcap      earnings  employeeCount  OperatingMargin  \\\n",
       "count  7.900000e+01  7.900000e+01      79.000000        79.000000   \n",
       "mean   3.645219e+10  1.984251e+09    7982.088608     -1350.327735   \n",
       "std    2.114950e+11  1.051708e+10   26699.767713     18061.942897   \n",
       "min    8.222565e+06 -1.576240e+09       0.000000   -153192.000000   \n",
       "25%    3.350410e+08  0.000000e+00     102.500000         0.000000   \n",
       "50%    1.056105e+09  4.166110e+07     620.000000      1386.460000   \n",
       "75%    6.084565e+09  3.648105e+08    5266.000000      2581.405000   \n",
       "max    1.828550e+12  8.475400e+10  181000.000000      6696.980000   \n",
       "\n",
       "            PERatio       Revenue  \n",
       "count     79.000000  7.900000e+01  \n",
       "mean     316.795930  6.298129e+09  \n",
       "std     1644.776642  2.527092e+10  \n",
       "min     -495.024000  0.000000e+00  \n",
       "25%        0.000000  7.902684e+07  \n",
       "50%       13.537400  4.340940e+08  \n",
       "75%       25.372450  2.213915e+09  \n",
       "max    12392.800000  1.925570e+11  "
      ]
     },
     "execution_count": 11,
     "metadata": {},
     "output_type": "execute_result"
    }
   ],
   "source": [
    "game_data.describe()"
   ]
  },
  {
   "cell_type": "code",
   "execution_count": 12,
   "id": "d0dd1e96",
   "metadata": {},
   "outputs": [
    {
     "data": {
      "text/plain": [
       "Name               79\n",
       "marketcap          79\n",
       "earnings           75\n",
       "employeeCount      61\n",
       "OperatingMargin    75\n",
       "PERatio            75\n",
       "Revenue            75\n",
       "country            18\n",
       "dtype: int64"
      ]
     },
     "execution_count": 12,
     "metadata": {},
     "output_type": "execute_result"
    }
   ],
   "source": [
    "game_data.nunique()"
   ]
  },
  {
   "cell_type": "code",
   "execution_count": 13,
   "id": "28f06f00",
   "metadata": {
    "scrolled": true
   },
   "outputs": [
    {
     "data": {
      "text/plain": [
       "array(['11 bit studios', 'Activision Blizzard', 'Appirits', 'Aristocrat',\n",
       "       'ATARI', 'Bandai Namco', 'Blue Hat', 'Bushiroad', 'Capcom',\n",
       "       'CD Projekt', 'CI Games', 'COLOPL', 'Com2uS', 'Corsair Gaming',\n",
       "       'CyberAgent', 'DeNA', 'Digital Bros', 'DoubleDown Interactive',\n",
       "       'Drecom', 'Electronic Arts', 'Embracer Group', 'enish', 'Entain',\n",
       "       'Focus Home Interactive', 'Frontier Developments', 'GameStop',\n",
       "       'geechs', 'Gravity Co.', 'Gree', 'gumi',\n",
       "       'GungHo Online Entertainment', 'Huya', 'Keywords Studios', 'KLab',\n",
       "       'Koei Tecmo', 'Konami Holdings', 'Krafton', 'Marvelous',\n",
       "       'Microsoft', 'Mixi', 'Nacon', 'Nazara Technologies', 'NCsoft',\n",
       "       'Neowiz Games', 'NetEase', 'Netmarble', 'Nexon', 'Nexters',\n",
       "       'Nintendo', 'Paradox Interactive', 'Pearl Abyss', 'People Can Fly',\n",
       "       'Perfect World Entertainment', 'Playstudios', 'Playtech',\n",
       "       'Playtika', 'PlayWay', 'Razer', 'Roblox', 'Rovio Entertainment',\n",
       "       'SciPlay', 'Sea (Garena)', 'Sega Sammy Holdings', 'Skillz', 'Sony',\n",
       "       'Square Enix', 'Starbreeze', 'Super League Gaming',\n",
       "       'Take 2 Interactive', 'Team17', 'Ten Square Games', 'Tencent',\n",
       "       'The9', 'Ubisoft', 'Unity Software', 'Versus Systems', 'Webzen',\n",
       "       'Wemade', 'WonderPlanet'], dtype=object)"
      ]
     },
     "execution_count": 13,
     "metadata": {},
     "output_type": "execute_result"
    }
   ],
   "source": [
    "game_data['Name'].unique()"
   ]
  },
  {
   "cell_type": "code",
   "execution_count": 14,
   "id": "2541782e",
   "metadata": {
    "scrolled": true
   },
   "outputs": [
    {
     "data": {
      "text/plain": [
       "array(['Poland', 'United States', 'Japan', 'Australia', 'France', 'China',\n",
       "       'South Korea', 'Italy', 'Sweden', 'Isle of Man', 'United Kingdom',\n",
       "       'Ireland', 'India', 'Cyprus', 'Israel', 'Finland', 'Singapore',\n",
       "       'Canada'], dtype=object)"
      ]
     },
     "execution_count": 14,
     "metadata": {},
     "output_type": "execute_result"
    }
   ],
   "source": [
    "game_data[\"country\"].unique()"
   ]
  },
  {
   "cell_type": "markdown",
   "id": "901dc232",
   "metadata": {},
   "source": [
    "## changing the data type for better understanding of values"
   ]
  },
  {
   "cell_type": "code",
   "execution_count": 15,
   "id": "7e36e442",
   "metadata": {},
   "outputs": [
    {
     "data": {
      "text/html": [
       "<div>\n",
       "<style scoped>\n",
       "    .dataframe tbody tr th:only-of-type {\n",
       "        vertical-align: middle;\n",
       "    }\n",
       "\n",
       "    .dataframe tbody tr th {\n",
       "        vertical-align: top;\n",
       "    }\n",
       "\n",
       "    .dataframe thead th {\n",
       "        text-align: right;\n",
       "    }\n",
       "</style>\n",
       "<table border=\"1\" class=\"dataframe\">\n",
       "  <thead>\n",
       "    <tr style=\"text-align: right;\">\n",
       "      <th></th>\n",
       "      <th>Name</th>\n",
       "      <th>marketcap</th>\n",
       "      <th>earnings</th>\n",
       "      <th>employeeCount</th>\n",
       "      <th>OperatingMargin</th>\n",
       "      <th>PERatio</th>\n",
       "      <th>Revenue</th>\n",
       "      <th>country</th>\n",
       "    </tr>\n",
       "  </thead>\n",
       "  <tbody>\n",
       "    <tr>\n",
       "      <th>0</th>\n",
       "      <td>11 bit studios</td>\n",
       "      <td>260017093</td>\n",
       "      <td>8147710</td>\n",
       "      <td>192</td>\n",
       "      <td>4583.070</td>\n",
       "      <td>40.8881</td>\n",
       "      <td>17777847</td>\n",
       "      <td>Poland</td>\n",
       "    </tr>\n",
       "    <tr>\n",
       "      <th>1</th>\n",
       "      <td>Activision Blizzard</td>\n",
       "      <td>58359599104</td>\n",
       "      <td>2972000000</td>\n",
       "      <td>9500</td>\n",
       "      <td>3582.020</td>\n",
       "      <td>23.4717</td>\n",
       "      <td>8297000000</td>\n",
       "      <td>United States</td>\n",
       "    </tr>\n",
       "    <tr>\n",
       "      <th>2</th>\n",
       "      <td>Appirits</td>\n",
       "      <td>30082613</td>\n",
       "      <td>1591300</td>\n",
       "      <td>411</td>\n",
       "      <td>372.253</td>\n",
       "      <td>31.0000</td>\n",
       "      <td>42747761</td>\n",
       "      <td>Japan</td>\n",
       "    </tr>\n",
       "    <tr>\n",
       "      <th>3</th>\n",
       "      <td>Aristocrat</td>\n",
       "      <td>15513627256</td>\n",
       "      <td>778411000</td>\n",
       "      <td>7000</td>\n",
       "      <td>2266.820</td>\n",
       "      <td>14.2970</td>\n",
       "      <td>3433941253</td>\n",
       "      <td>Australia</td>\n",
       "    </tr>\n",
       "    <tr>\n",
       "      <th>4</th>\n",
       "      <td>ATARI</td>\n",
       "      <td>49230001</td>\n",
       "      <td>-13476800</td>\n",
       "      <td>26</td>\n",
       "      <td>-6296.300</td>\n",
       "      <td>-3.0000</td>\n",
       "      <td>21404304</td>\n",
       "      <td>France</td>\n",
       "    </tr>\n",
       "  </tbody>\n",
       "</table>\n",
       "</div>"
      ],
      "text/plain": [
       "                  Name    marketcap    earnings  employeeCount  \\\n",
       "0       11 bit studios    260017093     8147710            192   \n",
       "1  Activision Blizzard  58359599104  2972000000           9500   \n",
       "2             Appirits     30082613     1591300            411   \n",
       "3           Aristocrat  15513627256   778411000           7000   \n",
       "4                ATARI     49230001   -13476800             26   \n",
       "\n",
       "   OperatingMargin  PERatio     Revenue        country  \n",
       "0         4583.070  40.8881    17777847         Poland  \n",
       "1         3582.020  23.4717  8297000000  United States  \n",
       "2          372.253  31.0000    42747761          Japan  \n",
       "3         2266.820  14.2970  3433941253      Australia  \n",
       "4        -6296.300  -3.0000    21404304         France  "
      ]
     },
     "execution_count": 15,
     "metadata": {},
     "output_type": "execute_result"
    }
   ],
   "source": [
    "game_data[\"Revenue\"] = game_data[\"Revenue\"].astype(\"int64\")\n",
    "game_data[\"marketcap\"] = game_data[\"marketcap\"].astype(\"int64\")\n",
    "game_data.head()"
   ]
  },
  {
   "cell_type": "markdown",
   "id": "40f0226e",
   "metadata": {},
   "source": [
    "## Data visualization"
   ]
  },
  {
   "cell_type": "code",
   "execution_count": 16,
   "id": "871fcad8",
   "metadata": {},
   "outputs": [],
   "source": [
    "x = game_data.marketcap.loc[0:20]\n",
    "y = game_data.Revenue.loc[0:20]\n",
    "z = game_data.PERatio.loc[0:20]"
   ]
  },
  {
   "cell_type": "code",
   "execution_count": 17,
   "id": "4b072337",
   "metadata": {
    "scrolled": true
   },
   "outputs": [
    {
     "data": {
      "image/png": "[encoded data removed]",
      "text/plain": [
       "<Figure size 432x288 with 1 Axes>"
      ]
     },
     "metadata": {
      "needs_background": "light"
     },
     "output_type": "display_data"
    }
   ],
   "source": [
    "plt.title(\"Revenue vs Market Capitalization\")\n",
    "plt.xlabel(\"Market Capitalization\")\n",
    "plt.ylabel(\"Revenue\")\n",
    "plt.scatter(x, z, color = \"red\")\n",
    "plt.scatter(y, z, color = \"green\")\n",
    "plt.show()"
   ]
  },
  {
   "cell_type": "code",
   "execution_count": 18,
   "id": "b245e4a4",
   "metadata": {
    "scrolled": true
   },
   "outputs": [
    {
     "data": {
      "image/png": "[encoded data removed]",
      "text/plain": [
       "<Figure size 432x288 with 1 Axes>"
      ]
     },
     "metadata": {},
     "output_type": "display_data"
    }
   ],
   "source": [
    "plt.title(\"Market Capitalization of five countries\")\n",
    "plt.pie(x = game_data.marketcap.loc[0:4], labels = [\"Poland\", \"USA\", \"Japan\", \"Australia\", \"France\"])\n",
    "plt.show()"
   ]
  },
  {
   "cell_type": "code",
   "execution_count": 19,
   "id": "5253c797",
   "metadata": {
    "scrolled": false
   },
   "outputs": [
    {
     "data": {
      "image/png": "[encoded data removed]",
      "text/plain": [
       "<Figure size 432x288 with 1 Axes>"
      ]
     },
     "metadata": {},
     "output_type": "display_data"
    }
   ],
   "source": [
    "plt.title(\"Reveue earning of random five countries\")\n",
    "plt.pie(x = game_data.Revenue.loc[0:4], labels = [\"Poland\", \"USA\", \"Japan\", \"Australia\", \"France\"])\n",
    "plt.show()"
   ]
  },
  {
   "cell_type": "code",
   "execution_count": 20,
   "id": "2ef4be42",
   "metadata": {},
   "outputs": [
    {
     "data": {
      "text/plain": [
       "<AxesSubplot:xlabel='OperatingMargin', ylabel='Count'>"
      ]
     },
     "execution_count": 20,
     "metadata": {},
     "output_type": "execute_result"
    },
    {
     "data": {
      "image/png": "[encoded data removed]",
      "text/plain": [
       "<Figure size 432x288 with 1 Axes>"
      ]
     },
     "metadata": {
      "needs_background": "light"
     },
     "output_type": "display_data"
    }
   ],
   "source": [
    "sns.histplot(data = game_data, x = game_data[\"OperatingMargin\"])"
   ]
  },
  {
   "cell_type": "markdown",
   "id": "38dc22f5",
   "metadata": {},
   "source": [
    "## Checking the correlation of each entity in the dataset"
   ]
  },
  {
   "cell_type": "code",
   "execution_count": 21,
   "id": "858c043a",
   "metadata": {},
   "outputs": [],
   "source": [
    "corelation = game_data.corr()"
   ]
  },
  {
   "cell_type": "code",
   "execution_count": 22,
   "id": "bdbf35e6",
   "metadata": {},
   "outputs": [],
   "source": [
    "import seaborn as sns"
   ]
  },
  {
   "cell_type": "markdown",
   "id": "752e7e6b",
   "metadata": {},
   "source": [
    "### Heatmap"
   ]
  },
  {
   "cell_type": "code",
   "execution_count": 23,
   "id": "f75dac10",
   "metadata": {},
   "outputs": [
    {
     "data": {
      "text/plain": [
       "<AxesSubplot:>"
      ]
     },
     "execution_count": 23,
     "metadata": {},
     "output_type": "execute_result"
    },
    {
     "data": {
      "image/png": "[encoded data removed]",
      "text/plain": [
       "<Figure size 432x288 with 2 Axes>"
      ]
     },
     "metadata": {
      "needs_background": "light"
     },
     "output_type": "display_data"
    }
   ],
   "source": [
    "sns.heatmap(corelation, xticklabels = corelation.columns, yticklabels = corelation.columns, annot = True)"
   ]
  },
  {
   "cell_type": "markdown",
   "id": "7e344bea",
   "metadata": {},
   "source": [
    "### Pairplot for each parameter "
   ]
  },
  {
   "cell_type": "code",
   "execution_count": 24,
   "id": "ba239b0a",
   "metadata": {
    "scrolled": false
   },
   "outputs": [
    {
     "data": {
      "text/plain": [
       "<seaborn.axisgrid.PairGrid at 0x2166f420040>"
      ]
     },
     "execution_count": 24,
     "metadata": {},
     "output_type": "execute_result"
    },
    {
     "data": {
      "image/png": "[encoded data removed]",
      "text/plain": [
       "<Figure size 1080x1080 with 42 Axes>"
      ]
     },
     "metadata": {
      "needs_background": "light"
     },
     "output_type": "display_data"
    }
   ],
   "source": [
    "sns.pairplot(game_data)"
   ]
  },
  {
   "cell_type": "markdown",
   "id": "79409995",
   "metadata": {},
   "source": [
    "### Revenue box plot for each country where game companies reside"
   ]
  },
  {
   "cell_type": "code",
   "execution_count": 25,
   "id": "08ed51c7",
   "metadata": {
    "scrolled": false
   },
   "outputs": [
    {
     "data": {
      "text/plain": [
       "<AxesSubplot:xlabel='country', ylabel='Revenue'>"
      ]
     },
     "execution_count": 25,
     "metadata": {},
     "output_type": "execute_result"
    },
    {
     "data": {
      "image/png": "[encoded data removed]",
      "text/plain": [
       "<Figure size 1800x1080 with 1 Axes>"
      ]
     },
     "metadata": {
      "needs_background": "light"
     },
     "output_type": "display_data"
    }
   ],
   "source": [
    "plt.figure(figsize = (25, 15))\n",
    "sns.boxplot(x = 'country', y = 'Revenue', data = game_data.sort_values('Revenue', ascending = False))"
   ]
  },
  {
   "cell_type": "markdown",
   "id": "d113239f",
   "metadata": {},
   "source": [
    "## Comparison metrics"
   ]
  },
  {
   "cell_type": "code",
   "execution_count": 26,
   "id": "83e0729e",
   "metadata": {},
   "outputs": [
    {
     "data": {
      "text/plain": [
       "country\n",
       "Australia         1.551363e+10\n",
       "Canada            1.169109e+07\n",
       "China             9.139303e+10\n",
       "Cyprus            1.253817e+09\n",
       "Finland           5.827866e+08\n",
       "France            1.617571e+09\n",
       "India             4.763372e+08\n",
       "Ireland           2.125498e+09\n",
       "Isle of Man       5.662149e+09\n",
       "Israel            5.526133e+09\n",
       "Italy             3.602070e+08\n",
       "Japan             9.370097e+09\n",
       "Poland            5.575231e+08\n",
       "Singapore         3.985531e+10\n",
       "South Korea       2.666153e+09\n",
       "Sweden            3.636594e+09\n",
       "United Kingdom    6.721009e+08\n",
       "United States     1.416706e+11\n",
       "Name: marketcap, dtype: float64"
      ]
     },
     "execution_count": 26,
     "metadata": {},
     "output_type": "execute_result"
    }
   ],
   "source": [
    "game_data.groupby([\"country\"])[\"marketcap\"].mean()"
   ]
  },
  {
   "cell_type": "code",
   "execution_count": 27,
   "id": "b1a8b867",
   "metadata": {},
   "outputs": [
    {
     "data": {
      "text/plain": [
       "country\n",
       "Australia         3.433941e+09\n",
       "Canada            7.536780e+05\n",
       "China             1.721861e+10\n",
       "Cyprus            4.340940e+08\n",
       "Finland           3.489780e+08\n",
       "France            6.642617e+08\n",
       "India             6.194988e+07\n",
       "Ireland           5.800680e+08\n",
       "Isle of Man       3.267498e+09\n",
       "Israel            2.621000e+09\n",
       "Italy             1.439695e+08\n",
       "Japan             5.537210e+09\n",
       "Poland            8.920598e+07\n",
       "Singapore         9.955190e+09\n",
       "South Korea       7.038288e+08\n",
       "Sweden            6.012208e+08\n",
       "United Kingdom    1.222932e+08\n",
       "United States     1.611839e+10\n",
       "Name: Revenue, dtype: float64"
      ]
     },
     "execution_count": 27,
     "metadata": {},
     "output_type": "execute_result"
    }
   ],
   "source": [
    "game_data.groupby([\"country\"])[\"Revenue\"].mean()"
   ]
  },
  {
   "cell_type": "code",
   "execution_count": 28,
   "id": "be398d18",
   "metadata": {
    "scrolled": false
   },
   "outputs": [
    {
     "data": {
      "text/plain": [
       "country\n",
       "Australia         7.784110e+08\n",
       "Canada           -1.154580e+07\n",
       "China             7.041719e+09\n",
       "Cyprus           -1.232560e+08\n",
       "Finland           4.445530e+07\n",
       "France            6.695628e+07\n",
       "India             4.193680e+06\n",
       "Ireland           5.876560e+07\n",
       "Isle of Man       6.869495e+08\n",
       "Israel            5.471000e+08\n",
       "Italy             3.290370e+07\n",
       "Japan             9.542347e+08\n",
       "Poland            2.886307e+07\n",
       "Singapore        -1.576240e+09\n",
       "South Korea       2.424791e+08\n",
       "Sweden           -4.563543e+07\n",
       "United Kingdom    3.318510e+07\n",
       "United States     6.280173e+09\n",
       "Name: earnings, dtype: float64"
      ]
     },
     "execution_count": 28,
     "metadata": {},
     "output_type": "execute_result"
    }
   ],
   "source": [
    "game_data.groupby([\"country\"])[\"earnings\"].mean()"
   ]
  },
  {
   "cell_type": "code",
   "execution_count": 29,
   "id": "12a8551e",
   "metadata": {
    "scrolled": true
   },
   "outputs": [
    {
     "data": {
      "text/plain": [
       "11 bit studios            8147710\n",
       "ATARI                   -13476800\n",
       "Activision Blizzard    2972000000\n",
       "Appirits                  1591300\n",
       "Aristocrat              778411000\n",
       "                          ...    \n",
       "Wemade                          0\n",
       "WonderPlanet             -1386590\n",
       "enish                     1383920\n",
       "geechs                   10611300\n",
       "gumi                    -34557000\n",
       "Name: earnings, Length: 79, dtype: int64"
      ]
     },
     "execution_count": 29,
     "metadata": {},
     "output_type": "execute_result"
    }
   ],
   "source": [
    "game_data.groupby(game_data[\"Name\"].unique())[\"earnings\"].max()"
   ]
  },
  {
   "cell_type": "code",
   "execution_count": 30,
   "id": "74646ce7",
   "metadata": {
    "scrolled": true
   },
   "outputs": [
    {
     "data": {
      "text/plain": [
       "11 bit studios         8.147710e+06\n",
       "ATARI                 -1.347680e+07\n",
       "Activision Blizzard    2.972000e+09\n",
       "Appirits               1.591300e+06\n",
       "Aristocrat             7.784110e+08\n",
       "                           ...     \n",
       "Wemade                 0.000000e+00\n",
       "WonderPlanet          -1.386590e+06\n",
       "enish                  1.383920e+06\n",
       "geechs                 1.061130e+07\n",
       "gumi                  -3.455700e+07\n",
       "Name: earnings, Length: 79, dtype: float64"
      ]
     },
     "execution_count": 30,
     "metadata": {},
     "output_type": "execute_result"
    }
   ],
   "source": [
    "game_data.groupby(game_data[\"Name\"].unique())[\"earnings\"].mean()"
   ]
  },
  {
   "cell_type": "markdown",
   "id": "a684d31c",
   "metadata": {},
   "source": [
    "## The plot function to check for the outliers"
   ]
  },
  {
   "cell_type": "code",
   "execution_count": 31,
   "id": "31117def",
   "metadata": {},
   "outputs": [],
   "source": [
    "def plot_outlier(df, col):\n",
    "    fig, (ax1, ax2) = plt.subplots(2, 1)\n",
    "    sns.distplot(df[col], ax = ax1)\n",
    "    sns.boxplot(df[col], ax = ax2)"
   ]
  },
  {
   "cell_type": "code",
   "execution_count": 32,
   "id": "f256560c",
   "metadata": {
    "scrolled": false
   },
   "outputs": [
    {
     "data": {
      "image/png": "[encoded data removed]",
      "text/plain": [
       "<Figure size 432x288 with 2 Axes>"
      ]
     },
     "metadata": {
      "needs_background": "light"
     },
     "output_type": "display_data"
    }
   ],
   "source": [
    "plot_outlier(game_data, \"Revenue\")"
   ]
  },
  {
   "cell_type": "code",
   "execution_count": 33,
   "id": "1a2ac10d",
   "metadata": {
    "scrolled": true
   },
   "outputs": [
    {
     "data": {
      "image/png": "[encoded data removed]",
      "text/plain": [
       "<Figure size 432x288 with 2 Axes>"
      ]
     },
     "metadata": {
      "needs_background": "light"
     },
     "output_type": "display_data"
    }
   ],
   "source": [
    "plot_outlier(game_data, \"OperatingMargin\")"
   ]
  },
  {
   "cell_type": "markdown",
   "id": "9bab559f",
   "metadata": {},
   "source": [
    "### Outlier treatment with median as a metric "
   ]
  },
  {
   "cell_type": "code",
   "execution_count": 34,
   "id": "f6bbfd39",
   "metadata": {},
   "outputs": [],
   "source": [
    "game_data['Revenue'] = np.where(game_data['Revenue'] > 0.5, game_data['Revenue'].median(), game_data['Revenue'])"
   ]
  },
  {
   "cell_type": "code",
   "execution_count": 35,
   "id": "76a097c3",
   "metadata": {
    "scrolled": true
   },
   "outputs": [
    {
     "data": {
      "image/png": "[encoded data removed]",
      "text/plain": [
       "<Figure size 432x288 with 2 Axes>"
      ]
     },
     "metadata": {
      "needs_background": "light"
     },
     "output_type": "display_data"
    }
   ],
   "source": [
    "plot_outlier(game_data, \"Revenue\")"
   ]
  }
 ],
 "metadata": {
  "kernelspec": {
   "display_name": "Python 3 (ipykernel)",
   "language": "python",
   "name": "python3"
  },
  "language_info": {
   "codemirror_mode": {
    "name": "ipython",
    "version": 3
   },
   "file_extension": ".py",
   "mimetype": "text/x-python",
   "name": "python",
   "nbconvert_exporter": "python",
   "pygments_lexer": "ipython3",
   "version": "3.9.7"
  }
 },
 "nbformat": 4,
 "nbformat_minor": 5
}
