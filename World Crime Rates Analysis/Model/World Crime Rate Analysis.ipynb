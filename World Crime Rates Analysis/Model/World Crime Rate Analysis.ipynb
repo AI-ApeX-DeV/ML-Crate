{
 "cells": [
  {
   "cell_type": "markdown",
   "id": "266afc8b",
   "metadata": {},
   "source": [
    "### WORLD CRIME RATE ANALYSIS"
   ]
  },
  {
   "cell_type": "code",
   "execution_count": 5,
   "id": "5b4604fe",
   "metadata": {},
   "outputs": [],
   "source": [
    "import pandas as pd\n",
    "import numpy as np\n",
    "import matplotlib.pyplot as plt\n",
    "import seaborn as sns"
   ]
  },
  {
   "cell_type": "code",
   "execution_count": 6,
   "id": "d74923c1",
   "metadata": {},
   "outputs": [
    {
     "data": {
      "text/html": [
       "<div>\n",
       "<style scoped>\n",
       "    .dataframe tbody tr th:only-of-type {\n",
       "        vertical-align: middle;\n",
       "    }\n",
       "\n",
       "    .dataframe tbody tr th {\n",
       "        vertical-align: top;\n",
       "    }\n",
       "\n",
       "    .dataframe thead th {\n",
       "        text-align: right;\n",
       "    }\n",
       "</style>\n",
       "<table border=\"1\" class=\"dataframe\">\n",
       "  <thead>\n",
       "    <tr style=\"text-align: right;\">\n",
       "      <th></th>\n",
       "      <th>Rank</th>\n",
       "      <th>City</th>\n",
       "      <th>Crime Index</th>\n",
       "      <th>Safety Index</th>\n",
       "    </tr>\n",
       "  </thead>\n",
       "  <tbody>\n",
       "    <tr>\n",
       "      <th>0</th>\n",
       "      <td>1</td>\n",
       "      <td>Caracas, Venezuela</td>\n",
       "      <td>83.98</td>\n",
       "      <td>16.02</td>\n",
       "    </tr>\n",
       "    <tr>\n",
       "      <th>1</th>\n",
       "      <td>2</td>\n",
       "      <td>Pretoria, South Africa</td>\n",
       "      <td>81.98</td>\n",
       "      <td>18.02</td>\n",
       "    </tr>\n",
       "    <tr>\n",
       "      <th>2</th>\n",
       "      <td>3</td>\n",
       "      <td>Celaya, Mexico</td>\n",
       "      <td>81.80</td>\n",
       "      <td>18.20</td>\n",
       "    </tr>\n",
       "    <tr>\n",
       "      <th>3</th>\n",
       "      <td>4</td>\n",
       "      <td>San Pedro Sula, Honduras</td>\n",
       "      <td>80.87</td>\n",
       "      <td>19.13</td>\n",
       "    </tr>\n",
       "    <tr>\n",
       "      <th>4</th>\n",
       "      <td>5</td>\n",
       "      <td>Port Moresby, Papua New Guinea</td>\n",
       "      <td>80.71</td>\n",
       "      <td>19.29</td>\n",
       "    </tr>\n",
       "  </tbody>\n",
       "</table>\n",
       "</div>"
      ],
      "text/plain": [
       "   Rank                            City  Crime Index  Safety Index\n",
       "0     1              Caracas, Venezuela        83.98         16.02\n",
       "1     2          Pretoria, South Africa        81.98         18.02\n",
       "2     3                  Celaya, Mexico        81.80         18.20\n",
       "3     4        San Pedro Sula, Honduras        80.87         19.13\n",
       "4     5  Port Moresby, Papua New Guinea        80.71         19.29"
      ]
     },
     "execution_count": 6,
     "metadata": {},
     "output_type": "execute_result"
    }
   ],
   "source": [
    "#reading data from csv file using pandas\n",
    "crime = pd.read_csv('C:/Users/rajad/Desktop/World Crime Index .csv')\n",
    "#now lets take a look at the data, what all information it contains\n",
    "crime.head()"
   ]
  },
  {
   "cell_type": "markdown",
   "id": "e1598775",
   "metadata": {},
   "source": [
    "##### So, we can see the dataset comprises of the crime index of various cities. Let’s see the shape of the data using the shape. "
   ]
  },
  {
   "cell_type": "code",
   "execution_count": 7,
   "id": "293c6523",
   "metadata": {},
   "outputs": [
    {
     "data": {
      "text/plain": [
       "(453, 4)"
      ]
     },
     "execution_count": 7,
     "metadata": {},
     "output_type": "execute_result"
    }
   ],
   "source": [
    "crime.shape"
   ]
  },
  {
   "cell_type": "markdown",
   "id": "4ece0598",
   "metadata": {},
   "source": [
    "So, there are 453 rows and 4 columns in our data set. The 4 columns, as we know are those of rank, city, crime index and safety index, and there are 453 cities given to us in the dataset. Let’s get a quick summary of the dataset using the describe() method."
   ]
  },
  {
   "cell_type": "code",
   "execution_count": 8,
   "id": "c1bc9259",
   "metadata": {},
   "outputs": [
    {
     "data": {
      "text/html": [
       "<div>\n",
       "<style scoped>\n",
       "    .dataframe tbody tr th:only-of-type {\n",
       "        vertical-align: middle;\n",
       "    }\n",
       "\n",
       "    .dataframe tbody tr th {\n",
       "        vertical-align: top;\n",
       "    }\n",
       "\n",
       "    .dataframe thead th {\n",
       "        text-align: right;\n",
       "    }\n",
       "</style>\n",
       "<table border=\"1\" class=\"dataframe\">\n",
       "  <thead>\n",
       "    <tr style=\"text-align: right;\">\n",
       "      <th></th>\n",
       "      <th>Rank</th>\n",
       "      <th>Crime Index</th>\n",
       "      <th>Safety Index</th>\n",
       "    </tr>\n",
       "  </thead>\n",
       "  <tbody>\n",
       "    <tr>\n",
       "      <th>count</th>\n",
       "      <td>453.000000</td>\n",
       "      <td>453.000000</td>\n",
       "      <td>453.000000</td>\n",
       "    </tr>\n",
       "    <tr>\n",
       "      <th>mean</th>\n",
       "      <td>227.000000</td>\n",
       "      <td>44.898212</td>\n",
       "      <td>55.101788</td>\n",
       "    </tr>\n",
       "    <tr>\n",
       "      <th>std</th>\n",
       "      <td>130.914094</td>\n",
       "      <td>15.506987</td>\n",
       "      <td>15.506987</td>\n",
       "    </tr>\n",
       "    <tr>\n",
       "      <th>min</th>\n",
       "      <td>1.000000</td>\n",
       "      <td>11.670000</td>\n",
       "      <td>16.020000</td>\n",
       "    </tr>\n",
       "    <tr>\n",
       "      <th>25%</th>\n",
       "      <td>114.000000</td>\n",
       "      <td>33.060000</td>\n",
       "      <td>44.900000</td>\n",
       "    </tr>\n",
       "    <tr>\n",
       "      <th>50%</th>\n",
       "      <td>227.000000</td>\n",
       "      <td>44.870000</td>\n",
       "      <td>55.130000</td>\n",
       "    </tr>\n",
       "    <tr>\n",
       "      <th>75%</th>\n",
       "      <td>340.000000</td>\n",
       "      <td>55.100000</td>\n",
       "      <td>66.940000</td>\n",
       "    </tr>\n",
       "    <tr>\n",
       "      <th>max</th>\n",
       "      <td>453.000000</td>\n",
       "      <td>83.980000</td>\n",
       "      <td>88.330000</td>\n",
       "    </tr>\n",
       "  </tbody>\n",
       "</table>\n",
       "</div>"
      ],
      "text/plain": [
       "             Rank  Crime Index  Safety Index\n",
       "count  453.000000   453.000000    453.000000\n",
       "mean   227.000000    44.898212     55.101788\n",
       "std    130.914094    15.506987     15.506987\n",
       "min      1.000000    11.670000     16.020000\n",
       "25%    114.000000    33.060000     44.900000\n",
       "50%    227.000000    44.870000     55.130000\n",
       "75%    340.000000    55.100000     66.940000\n",
       "max    453.000000    83.980000     88.330000"
      ]
     },
     "execution_count": 8,
     "metadata": {},
     "output_type": "execute_result"
    }
   ],
   "source": [
    "crime.describe()"
   ]
  },
  {
   "cell_type": "markdown",
   "id": "32abd8e3",
   "metadata": {},
   "source": [
    "We can observe the mean crime index to be 44.898212 and mean safety index to be 55.101788. We can also see the max and min crime rates in the output. Also, since the count of each column is 453 and our dataset had 453 row, thus there are no missing values in the data.\n",
    "Now, let’s also see the columns and their data types. For this, we will use the info() method."
   ]
  },
  {
   "cell_type": "code",
   "execution_count": 9,
   "id": "fdef9121",
   "metadata": {},
   "outputs": [
    {
     "name": "stdout",
     "output_type": "stream",
     "text": [
      "<class 'pandas.core.frame.DataFrame'>\n",
      "RangeIndex: 453 entries, 0 to 452\n",
      "Data columns (total 4 columns):\n",
      " #   Column        Non-Null Count  Dtype  \n",
      "---  ------        --------------  -----  \n",
      " 0   Rank          453 non-null    int64  \n",
      " 1   City          453 non-null    object \n",
      " 2   Crime Index   453 non-null    float64\n",
      " 3   Safety Index  453 non-null    float64\n",
      "dtypes: float64(2), int64(1), object(1)\n",
      "memory usage: 14.3+ KB\n"
     ]
    }
   ],
   "source": [
    "crime.info()"
   ]
  },
  {
   "cell_type": "markdown",
   "id": "bbd49c18",
   "metadata": {},
   "source": [
    "##### Data Visualisation using a Histogram\n",
    "We shall plot a histogram with crime index on x axis and number of cities on y axis"
   ]
  },
  {
   "cell_type": "code",
   "execution_count": 10,
   "id": "5a333429",
   "metadata": {},
   "outputs": [
    {
     "data": {
      "image/png": "[encoded data removed]",
      "text/plain": [
       "<Figure size 640x480 with 1 Axes>"
      ]
     },
     "metadata": {},
     "output_type": "display_data"
    }
   ],
   "source": [
    "sns.histplot(x='Crime Index', data=crime, )\n",
    "plt.show()"
   ]
  },
  {
   "cell_type": "markdown",
   "id": "2e5497af",
   "metadata": {},
   "source": [
    "Now, we shall do a country wise analysis of the data, for that lets separate the data into cities and  countries."
   ]
  },
  {
   "cell_type": "code",
   "execution_count": 11,
   "id": "5e74a244",
   "metadata": {},
   "outputs": [
    {
     "data": {
      "text/html": [
       "<div>\n",
       "<style scoped>\n",
       "    .dataframe tbody tr th:only-of-type {\n",
       "        vertical-align: middle;\n",
       "    }\n",
       "\n",
       "    .dataframe tbody tr th {\n",
       "        vertical-align: top;\n",
       "    }\n",
       "\n",
       "    .dataframe thead th {\n",
       "        text-align: right;\n",
       "    }\n",
       "</style>\n",
       "<table border=\"1\" class=\"dataframe\">\n",
       "  <thead>\n",
       "    <tr style=\"text-align: right;\">\n",
       "      <th></th>\n",
       "      <th>0</th>\n",
       "      <th>1</th>\n",
       "      <th>2</th>\n",
       "    </tr>\n",
       "  </thead>\n",
       "  <tbody>\n",
       "    <tr>\n",
       "      <th>0</th>\n",
       "      <td>Caracas</td>\n",
       "      <td>Venezuela</td>\n",
       "      <td>None</td>\n",
       "    </tr>\n",
       "    <tr>\n",
       "      <th>1</th>\n",
       "      <td>Pretoria</td>\n",
       "      <td>South Africa</td>\n",
       "      <td>None</td>\n",
       "    </tr>\n",
       "    <tr>\n",
       "      <th>2</th>\n",
       "      <td>Celaya</td>\n",
       "      <td>Mexico</td>\n",
       "      <td>None</td>\n",
       "    </tr>\n",
       "    <tr>\n",
       "      <th>3</th>\n",
       "      <td>San Pedro Sula</td>\n",
       "      <td>Honduras</td>\n",
       "      <td>None</td>\n",
       "    </tr>\n",
       "    <tr>\n",
       "      <th>4</th>\n",
       "      <td>Port Moresby</td>\n",
       "      <td>Papua New Guinea</td>\n",
       "      <td>None</td>\n",
       "    </tr>\n",
       "  </tbody>\n",
       "</table>\n",
       "</div>"
      ],
      "text/plain": [
       "                0                  1     2\n",
       "0         Caracas          Venezuela  None\n",
       "1        Pretoria       South Africa  None\n",
       "2          Celaya             Mexico  None\n",
       "3  San Pedro Sula           Honduras  None\n",
       "4    Port Moresby   Papua New Guinea  None"
      ]
     },
     "execution_count": 11,
     "metadata": {},
     "output_type": "execute_result"
    }
   ],
   "source": [
    "### seperate City and Country for later Country aggregations\n",
    "Country = crime['City']\n",
    "Country = Country.str.split(',', expand = True)\n",
    "### taking a look at the splits of City\n",
    "Country.head()"
   ]
  },
  {
   "cell_type": "code",
   "execution_count": 12,
   "id": "3ebd8156",
   "metadata": {},
   "outputs": [
    {
     "data": {
      "text/plain": [
       " United States    58\n",
       " Canada            3\n",
       "Name: 2, dtype: int64"
      ]
     },
     "execution_count": 12,
     "metadata": {},
     "output_type": "execute_result"
    }
   ],
   "source": [
    "Country[2].value_counts()"
   ]
  },
  {
   "cell_type": "markdown",
   "id": "ffb8533c",
   "metadata": {},
   "source": [
    "So, we are basically getting a third column because USA and Caanada cities also have a province or state in their addresses. So, in these two cases column 1 is getting filled with the province/state and column 2 is having the country.\n",
    "So, we need to clear this mess and have a single country column."
   ]
  },
  {
   "cell_type": "code",
   "execution_count": 13,
   "id": "ab624cf4",
   "metadata": {},
   "outputs": [
    {
     "data": {
      "text/html": [
       "<div>\n",
       "<style scoped>\n",
       "    .dataframe tbody tr th:only-of-type {\n",
       "        vertical-align: middle;\n",
       "    }\n",
       "\n",
       "    .dataframe tbody tr th {\n",
       "        vertical-align: top;\n",
       "    }\n",
       "\n",
       "    .dataframe thead th {\n",
       "        text-align: right;\n",
       "    }\n",
       "</style>\n",
       "<table border=\"1\" class=\"dataframe\">\n",
       "  <thead>\n",
       "    <tr style=\"text-align: right;\">\n",
       "      <th></th>\n",
       "      <th>0</th>\n",
       "      <th>1</th>\n",
       "      <th>2</th>\n",
       "    </tr>\n",
       "  </thead>\n",
       "  <tbody>\n",
       "    <tr>\n",
       "      <th>0</th>\n",
       "      <td>Caracas</td>\n",
       "      <td>Venezuela</td>\n",
       "      <td>Venezuela</td>\n",
       "    </tr>\n",
       "    <tr>\n",
       "      <th>1</th>\n",
       "      <td>Pretoria</td>\n",
       "      <td>South Africa</td>\n",
       "      <td>South Africa</td>\n",
       "    </tr>\n",
       "    <tr>\n",
       "      <th>2</th>\n",
       "      <td>Celaya</td>\n",
       "      <td>Mexico</td>\n",
       "      <td>Mexico</td>\n",
       "    </tr>\n",
       "    <tr>\n",
       "      <th>3</th>\n",
       "      <td>San Pedro Sula</td>\n",
       "      <td>Honduras</td>\n",
       "      <td>Honduras</td>\n",
       "    </tr>\n",
       "    <tr>\n",
       "      <th>4</th>\n",
       "      <td>Port Moresby</td>\n",
       "      <td>Papua New Guinea</td>\n",
       "      <td>Papua New Guinea</td>\n",
       "    </tr>\n",
       "  </tbody>\n",
       "</table>\n",
       "</div>"
      ],
      "text/plain": [
       "                0                  1                  2\n",
       "0         Caracas          Venezuela          Venezuela\n",
       "1        Pretoria       South Africa       South Africa\n",
       "2          Celaya             Mexico             Mexico\n",
       "3  San Pedro Sula           Honduras           Honduras\n",
       "4    Port Moresby   Papua New Guinea   Papua New Guinea"
      ]
     },
     "execution_count": 13,
     "metadata": {},
     "output_type": "execute_result"
    }
   ],
   "source": [
    "### fill all of the 'none' values in Country[2] with their values from Country[1]\n",
    "Country[2] = Country[2].fillna(Country[1])\n",
    "Country.head()"
   ]
  },
  {
   "cell_type": "markdown",
   "id": "3410ed3a",
   "metadata": {},
   "source": [
    "Now, to minimize and reorganize columns..."
   ]
  },
  {
   "cell_type": "code",
   "execution_count": 14,
   "id": "1db14ef1",
   "metadata": {},
   "outputs": [
    {
     "data": {
      "text/html": [
       "<div>\n",
       "<style scoped>\n",
       "    .dataframe tbody tr th:only-of-type {\n",
       "        vertical-align: middle;\n",
       "    }\n",
       "\n",
       "    .dataframe tbody tr th {\n",
       "        vertical-align: top;\n",
       "    }\n",
       "\n",
       "    .dataframe thead th {\n",
       "        text-align: right;\n",
       "    }\n",
       "</style>\n",
       "<table border=\"1\" class=\"dataframe\">\n",
       "  <thead>\n",
       "    <tr style=\"text-align: right;\">\n",
       "      <th></th>\n",
       "      <th>Rank</th>\n",
       "      <th>City</th>\n",
       "      <th>Country</th>\n",
       "      <th>Crime Index</th>\n",
       "      <th>Safety Index</th>\n",
       "    </tr>\n",
       "  </thead>\n",
       "  <tbody>\n",
       "    <tr>\n",
       "      <th>0</th>\n",
       "      <td>1</td>\n",
       "      <td>Caracas</td>\n",
       "      <td>Venezuela</td>\n",
       "      <td>83.98</td>\n",
       "      <td>16.02</td>\n",
       "    </tr>\n",
       "    <tr>\n",
       "      <th>1</th>\n",
       "      <td>2</td>\n",
       "      <td>Pretoria</td>\n",
       "      <td>South Africa</td>\n",
       "      <td>81.98</td>\n",
       "      <td>18.02</td>\n",
       "    </tr>\n",
       "    <tr>\n",
       "      <th>2</th>\n",
       "      <td>3</td>\n",
       "      <td>Celaya</td>\n",
       "      <td>Mexico</td>\n",
       "      <td>81.80</td>\n",
       "      <td>18.20</td>\n",
       "    </tr>\n",
       "    <tr>\n",
       "      <th>3</th>\n",
       "      <td>4</td>\n",
       "      <td>San Pedro Sula</td>\n",
       "      <td>Honduras</td>\n",
       "      <td>80.87</td>\n",
       "      <td>19.13</td>\n",
       "    </tr>\n",
       "    <tr>\n",
       "      <th>4</th>\n",
       "      <td>5</td>\n",
       "      <td>Port Moresby</td>\n",
       "      <td>Papua New Guinea</td>\n",
       "      <td>80.71</td>\n",
       "      <td>19.29</td>\n",
       "    </tr>\n",
       "  </tbody>\n",
       "</table>\n",
       "</div>"
      ],
      "text/plain": [
       "   Rank            City            Country  Crime Index  Safety Index\n",
       "0     1         Caracas          Venezuela        83.98         16.02\n",
       "1     2        Pretoria       South Africa        81.98         18.02\n",
       "2     3          Celaya             Mexico        81.80         18.20\n",
       "3     4  San Pedro Sula           Honduras        80.87         19.13\n",
       "4     5    Port Moresby   Papua New Guinea        80.71         19.29"
      ]
     },
     "execution_count": 14,
     "metadata": {},
     "output_type": "execute_result"
    }
   ],
   "source": [
    "### ensure \"City\" only contains the city, and make \"Country\" to contain the country\n",
    "crime['City'] = Country[0]\n",
    "crime['Country'] = Country[2]\n",
    "### reorganize them in a better way\n",
    "crime = crime[['Rank', 'City', 'Country', 'Crime Index', 'Safety Index']]\n",
    "### ensure it looks right\n",
    "crime.head()"
   ]
  },
  {
   "cell_type": "markdown",
   "id": "cb077527",
   "metadata": {},
   "source": [
    "Now our data is workable. For simplicity sake, we're going to make a new dataframe in which all records of a country are merged, giving us the average crime and safety index for that country. We'll call this new dataframe \"countryindex\"."
   ]
  },
  {
   "cell_type": "code",
   "execution_count": 19,
   "id": "77a9e800",
   "metadata": {},
   "outputs": [
    {
     "name": "stdout",
     "output_type": "stream",
     "text": [
      "Number of Countries:  118\n"
     ]
    },
    {
     "data": {
      "text/html": [
       "<div>\n",
       "<style scoped>\n",
       "    .dataframe tbody tr th:only-of-type {\n",
       "        vertical-align: middle;\n",
       "    }\n",
       "\n",
       "    .dataframe tbody tr th {\n",
       "        vertical-align: top;\n",
       "    }\n",
       "\n",
       "    .dataframe thead th {\n",
       "        text-align: right;\n",
       "    }\n",
       "</style>\n",
       "<table border=\"1\" class=\"dataframe\">\n",
       "  <thead>\n",
       "    <tr style=\"text-align: right;\">\n",
       "      <th></th>\n",
       "      <th>Crime Index</th>\n",
       "      <th>Safety Index</th>\n",
       "    </tr>\n",
       "    <tr>\n",
       "      <th>Country</th>\n",
       "      <th></th>\n",
       "      <th></th>\n",
       "    </tr>\n",
       "  </thead>\n",
       "  <tbody>\n",
       "    <tr>\n",
       "      <th>Afghanistan</th>\n",
       "      <td>79.390000</td>\n",
       "      <td>20.610000</td>\n",
       "    </tr>\n",
       "    <tr>\n",
       "      <th>Albania</th>\n",
       "      <td>44.500000</td>\n",
       "      <td>55.500000</td>\n",
       "    </tr>\n",
       "    <tr>\n",
       "      <th>Algeria</th>\n",
       "      <td>53.880000</td>\n",
       "      <td>46.120000</td>\n",
       "    </tr>\n",
       "    <tr>\n",
       "      <th>Angola</th>\n",
       "      <td>67.450000</td>\n",
       "      <td>32.550000</td>\n",
       "    </tr>\n",
       "    <tr>\n",
       "      <th>Argentina</th>\n",
       "      <td>66.273333</td>\n",
       "      <td>33.726667</td>\n",
       "    </tr>\n",
       "  </tbody>\n",
       "</table>\n",
       "</div>"
      ],
      "text/plain": [
       "              Crime Index  Safety Index\n",
       "Country                                \n",
       " Afghanistan    79.390000     20.610000\n",
       " Albania        44.500000     55.500000\n",
       " Algeria        53.880000     46.120000\n",
       " Angola         67.450000     32.550000\n",
       " Argentina      66.273333     33.726667"
      ]
     },
     "execution_count": 19,
     "metadata": {},
     "output_type": "execute_result"
    }
   ],
   "source": [
    "### select the country (and use it as the index), crime index, and safety index\n",
    "countryindex = crime[['Country','Crime Index','Safety Index']]\n",
    "countryindex = countryindex.groupby('Country').mean()\n",
    "### show how many countries are in the set, and check .head() to ensure it looks right\n",
    "print(\"Number of Countries: \", countryindex.shape[0])\n",
    "countryindex.head()"
   ]
  },
  {
   "cell_type": "markdown",
   "id": "bb16ed67",
   "metadata": {},
   "source": [
    "Now let us sort this in descending order of Crime Index."
   ]
  },
  {
   "cell_type": "code",
   "execution_count": 21,
   "id": "110a05dd",
   "metadata": {},
   "outputs": [
    {
     "data": {
      "text/html": [
       "<div>\n",
       "<style scoped>\n",
       "    .dataframe tbody tr th:only-of-type {\n",
       "        vertical-align: middle;\n",
       "    }\n",
       "\n",
       "    .dataframe tbody tr th {\n",
       "        vertical-align: top;\n",
       "    }\n",
       "\n",
       "    .dataframe thead th {\n",
       "        text-align: right;\n",
       "    }\n",
       "</style>\n",
       "<table border=\"1\" class=\"dataframe\">\n",
       "  <thead>\n",
       "    <tr style=\"text-align: right;\">\n",
       "      <th></th>\n",
       "      <th>Crime Index</th>\n",
       "      <th>Safety Index</th>\n",
       "    </tr>\n",
       "    <tr>\n",
       "      <th>Country</th>\n",
       "      <th></th>\n",
       "      <th></th>\n",
       "    </tr>\n",
       "  </thead>\n",
       "  <tbody>\n",
       "    <tr>\n",
       "      <th>Venezuela</th>\n",
       "      <td>83.980000</td>\n",
       "      <td>16.020000</td>\n",
       "    </tr>\n",
       "    <tr>\n",
       "      <th>Honduras</th>\n",
       "      <td>80.870000</td>\n",
       "      <td>19.130000</td>\n",
       "    </tr>\n",
       "    <tr>\n",
       "      <th>Papua New Guinea</th>\n",
       "      <td>80.710000</td>\n",
       "      <td>19.290000</td>\n",
       "    </tr>\n",
       "    <tr>\n",
       "      <th>Afghanistan</th>\n",
       "      <td>79.390000</td>\n",
       "      <td>20.610000</td>\n",
       "    </tr>\n",
       "    <tr>\n",
       "      <th>South Africa</th>\n",
       "      <td>77.336667</td>\n",
       "      <td>22.663333</td>\n",
       "    </tr>\n",
       "    <tr>\n",
       "      <th>Trinidad And Tobago</th>\n",
       "      <td>76.210000</td>\n",
       "      <td>23.790000</td>\n",
       "    </tr>\n",
       "    <tr>\n",
       "      <th>Jamaica</th>\n",
       "      <td>71.440000</td>\n",
       "      <td>28.560000</td>\n",
       "    </tr>\n",
       "    <tr>\n",
       "      <th>Peru</th>\n",
       "      <td>70.700000</td>\n",
       "      <td>29.300000</td>\n",
       "    </tr>\n",
       "    <tr>\n",
       "      <th>El Salvador</th>\n",
       "      <td>69.790000</td>\n",
       "      <td>30.210000</td>\n",
       "    </tr>\n",
       "    <tr>\n",
       "      <th>Namibia</th>\n",
       "      <td>68.640000</td>\n",
       "      <td>31.360000</td>\n",
       "    </tr>\n",
       "  </tbody>\n",
       "</table>\n",
       "</div>"
      ],
      "text/plain": [
       "                      Crime Index  Safety Index\n",
       "Country                                        \n",
       " Venezuela              83.980000     16.020000\n",
       " Honduras               80.870000     19.130000\n",
       " Papua New Guinea       80.710000     19.290000\n",
       " Afghanistan            79.390000     20.610000\n",
       " South Africa           77.336667     22.663333\n",
       " Trinidad And Tobago    76.210000     23.790000\n",
       " Jamaica                71.440000     28.560000\n",
       " Peru                   70.700000     29.300000\n",
       " El Salvador            69.790000     30.210000\n",
       " Namibia                68.640000     31.360000"
      ]
     },
     "execution_count": 21,
     "metadata": {},
     "output_type": "execute_result"
    }
   ],
   "source": [
    "countryindex = countryindex.sort_values(by='Crime Index', ascending=False)\n",
    "countryindex.head(10)"
   ]
  },
  {
   "cell_type": "markdown",
   "id": "555cbbea",
   "metadata": {},
   "source": [
    "So, here we have our top 10 countries in terms of crime index."
   ]
  },
  {
   "cell_type": "code",
   "execution_count": 23,
   "id": "22b7b3e1",
   "metadata": {},
   "outputs": [],
   "source": [
    "### create a dataframe of the top 10 countries with the highest crime index \n",
    "top10crime = countryindex.sort_values(by = ['Crime Index'], ascending = False)\n",
    "top10crime = top10crime.head(10)\n",
    "### create a dataframe of the top 10 countries with the highest safety index\n",
    "top10safe = countryindex.sort_values(by = ['Safety Index'], ascending = False)\n",
    "top10safe = top10safe.head(10)"
   ]
  },
  {
   "cell_type": "markdown",
   "id": "c95b2b5d",
   "metadata": {},
   "source": [
    "Now, let's visualize each..."
   ]
  },
  {
   "cell_type": "code",
   "execution_count": 24,
   "id": "7b40aab9",
   "metadata": {},
   "outputs": [
    {
     "data": {
      "image/png": "[encoded data removed]",
      "text/plain": [
       "<Figure size 640x480 with 1 Axes>"
      ]
     },
     "metadata": {},
     "output_type": "display_data"
    }
   ],
   "source": [
    "### top 10 highest crime index countries\n",
    "plt.bar(top10crime.index, top10crime['Crime Index'])\n",
    "### rotate x-axis names by 90 degrees\n",
    "plt.xticks(rotation=90)\n",
    "### remove the right axis and upper axis, for a cleaner look\n",
    "sns.despine(top=True, right=True, left=False, bottom=False)\n",
    "### show the plot\n",
    "plt.show()"
   ]
  },
  {
   "cell_type": "markdown",
   "id": "101d4510",
   "metadata": {},
   "source": [
    "6 of the top 10 countries with the highest crime rates are in the Americas (Central America, South America, or the Caribbean), two of the countries are in Africa, one in the Middle East, and one in Maritime Southeast Asia."
   ]
  },
  {
   "cell_type": "code",
   "execution_count": 25,
   "id": "e67eb151",
   "metadata": {},
   "outputs": [
    {
     "data": {
      "image/png": "[encoded data removed]",
      "text/plain": [
       "<Figure size 640x480 with 1 Axes>"
      ]
     },
     "metadata": {},
     "output_type": "display_data"
    }
   ],
   "source": [
    "### top 10 highest safety index countries\n",
    "plt.bar(top10safe.index, top10safe['Safety Index'])\n",
    "### rotate country names by 90 degrees on the bottom axis\n",
    "plt.xticks(rotation=90)\n",
    "### remove the right and upper axis lines to clean the plot up\n",
    "sns.despine(top=True, right=True, left=False, bottom=False)\n",
    "### show the plot\n",
    "plt.show()"
   ]
  },
  {
   "cell_type": "markdown",
   "id": "2c959b87",
   "metadata": {},
   "source": [
    "4 of the 10 safest countries are in the Middle East, 4 are in Europe / Eurasia, and two are in East Asia."
   ]
  },
  {
   "cell_type": "code",
   "execution_count": null,
   "id": "0332031e",
   "metadata": {},
   "outputs": [],
   "source": []
  }
 ],
 "metadata": {
  "kernelspec": {
   "display_name": "Python 3 (ipykernel)",
   "language": "python",
   "name": "python3"
  },
  "language_info": {
   "codemirror_mode": {
    "name": "ipython",
    "version": 3
   },
   "file_extension": ".py",
   "mimetype": "text/x-python",
   "name": "python",
   "nbconvert_exporter": "python",
   "pygments_lexer": "ipython3",
   "version": "3.9.13"
  }
 },
 "nbformat": 4,
 "nbformat_minor": 5
}
