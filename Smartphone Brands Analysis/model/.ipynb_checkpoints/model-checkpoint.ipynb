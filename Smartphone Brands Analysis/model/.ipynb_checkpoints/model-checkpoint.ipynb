{
 "cells": [
  {
   "cell_type": "code",
   "execution_count": 1,
   "id": "a12e635a-5401-47dd-acc3-e2df77b67349",
   "metadata": {},
   "outputs": [],
   "source": [
    "import pandas as pd\n",
    "import numpy as np\n",
    "import seaborn as sns\n",
    "import matplotlib as plt\n",
    "import os"
   ]
  },
  {
   "cell_type": "code",
   "execution_count": 2,
   "id": "c8f7c7f3-ff6c-4709-9fb9-f86b04e4b181",
   "metadata": {},
   "outputs": [],
   "source": [
    "df = pd.read_csv(\"../dataset/Amazon_top5_mobilephones.csv\")"
   ]
  },
  {
   "cell_type": "code",
   "execution_count": 3,
   "id": "7225e3ce-aac8-47de-9238-c19f0d4291ad",
   "metadata": {},
   "outputs": [
    {
     "data": {
      "text/html": [
       "<div>\n",
       "<style scoped>\n",
       "    .dataframe tbody tr th:only-of-type {\n",
       "        vertical-align: middle;\n",
       "    }\n",
       "\n",
       "    .dataframe tbody tr th {\n",
       "        vertical-align: top;\n",
       "    }\n",
       "\n",
       "    .dataframe thead th {\n",
       "        text-align: right;\n",
       "    }\n",
       "</style>\n",
       "<table border=\"1\" class=\"dataframe\">\n",
       "  <thead>\n",
       "    <tr style=\"text-align: right;\">\n",
       "      <th></th>\n",
       "      <th>Description</th>\n",
       "      <th>Price</th>\n",
       "      <th>Rating</th>\n",
       "      <th>ReviewCount</th>\n",
       "      <th>Url</th>\n",
       "    </tr>\n",
       "  </thead>\n",
       "  <tbody>\n",
       "    <tr>\n",
       "      <th>0</th>\n",
       "      <td>Apple iPhone 13 (128GB) - Pink</td>\n",
       "      <td>65999</td>\n",
       "      <td>4.6 out of 5 stars</td>\n",
       "      <td>7,507</td>\n",
       "      <td>https://www.amazon.in//sspa/click?ie=UTF8&amp;spc=...</td>\n",
       "    </tr>\n",
       "    <tr>\n",
       "      <th>1</th>\n",
       "      <td>Apple iPhone 13 Mini (128GB) - Pink</td>\n",
       "      <td>64900</td>\n",
       "      <td>4.5 out of 5 stars</td>\n",
       "      <td>1,341</td>\n",
       "      <td>https://www.amazon.in//sspa/click?ie=UTF8&amp;spc=...</td>\n",
       "    </tr>\n",
       "    <tr>\n",
       "      <th>2</th>\n",
       "      <td>Apple iPhone 12 (128GB) - Green</td>\n",
       "      <td>55999</td>\n",
       "      <td>4.5 out of 5 stars</td>\n",
       "      <td>4,941</td>\n",
       "      <td>https://www.amazon.in//New-Apple-iPhone-12-128...</td>\n",
       "    </tr>\n",
       "    <tr>\n",
       "      <th>3</th>\n",
       "      <td>Apple iPhone 12 (64GB) - Green</td>\n",
       "      <td>48900</td>\n",
       "      <td>4.6 out of 5 stars</td>\n",
       "      <td>1,299</td>\n",
       "      <td>https://www.amazon.in//New-Apple-iPhone-12-64G...</td>\n",
       "    </tr>\n",
       "    <tr>\n",
       "      <th>4</th>\n",
       "      <td>Apple iPhone 13 (128GB) - Green</td>\n",
       "      <td>65999</td>\n",
       "      <td>4.6 out of 5 stars</td>\n",
       "      <td>7,507</td>\n",
       "      <td>https://www.amazon.in//Apple-iPhone-13-128GB-G...</td>\n",
       "    </tr>\n",
       "  </tbody>\n",
       "</table>\n",
       "</div>"
      ],
      "text/plain": [
       "                           Description  Price              Rating ReviewCount  \\\n",
       "0       Apple iPhone 13 (128GB) - Pink  65999  4.6 out of 5 stars       7,507   \n",
       "1  Apple iPhone 13 Mini (128GB) - Pink  64900  4.5 out of 5 stars       1,341   \n",
       "2      Apple iPhone 12 (128GB) - Green  55999  4.5 out of 5 stars       4,941   \n",
       "3       Apple iPhone 12 (64GB) - Green  48900  4.6 out of 5 stars       1,299   \n",
       "4      Apple iPhone 13 (128GB) - Green  65999  4.6 out of 5 stars       7,507   \n",
       "\n",
       "                                                 Url  \n",
       "0  https://www.amazon.in//sspa/click?ie=UTF8&spc=...  \n",
       "1  https://www.amazon.in//sspa/click?ie=UTF8&spc=...  \n",
       "2  https://www.amazon.in//New-Apple-iPhone-12-128...  \n",
       "3  https://www.amazon.in//New-Apple-iPhone-12-64G...  \n",
       "4  https://www.amazon.in//Apple-iPhone-13-128GB-G...  "
      ]
     },
     "execution_count": 3,
     "metadata": {},
     "output_type": "execute_result"
    }
   ],
   "source": [
    "df.head()"
   ]
  },
  {
   "cell_type": "code",
   "execution_count": 4,
   "id": "1706a6c9-ed51-4c65-a5f5-6fb7d6c4044f",
   "metadata": {},
   "outputs": [
    {
     "data": {
      "text/html": [
       "<div>\n",
       "<style scoped>\n",
       "    .dataframe tbody tr th:only-of-type {\n",
       "        vertical-align: middle;\n",
       "    }\n",
       "\n",
       "    .dataframe tbody tr th {\n",
       "        vertical-align: top;\n",
       "    }\n",
       "\n",
       "    .dataframe thead th {\n",
       "        text-align: right;\n",
       "    }\n",
       "</style>\n",
       "<table border=\"1\" class=\"dataframe\">\n",
       "  <thead>\n",
       "    <tr style=\"text-align: right;\">\n",
       "      <th></th>\n",
       "      <th>count</th>\n",
       "      <th>mean</th>\n",
       "      <th>std</th>\n",
       "      <th>min</th>\n",
       "      <th>25%</th>\n",
       "      <th>50%</th>\n",
       "      <th>75%</th>\n",
       "      <th>max</th>\n",
       "    </tr>\n",
       "  </thead>\n",
       "  <tbody>\n",
       "    <tr>\n",
       "      <th>Price</th>\n",
       "      <td>1903.0</td>\n",
       "      <td>27794.156069</td>\n",
       "      <td>22934.962665</td>\n",
       "      <td>760.0</td>\n",
       "      <td>12660.0</td>\n",
       "      <td>18499.0</td>\n",
       "      <td>32999.0</td>\n",
       "      <td>111900.0</td>\n",
       "    </tr>\n",
       "  </tbody>\n",
       "</table>\n",
       "</div>"
      ],
      "text/plain": [
       "        count          mean           std    min      25%      50%      75%  \\\n",
       "Price  1903.0  27794.156069  22934.962665  760.0  12660.0  18499.0  32999.0   \n",
       "\n",
       "            max  \n",
       "Price  111900.0  "
      ]
     },
     "execution_count": 4,
     "metadata": {},
     "output_type": "execute_result"
    }
   ],
   "source": [
    "df.describe().T"
   ]
  },
  {
   "cell_type": "code",
   "execution_count": 5,
   "id": "4b7939c1-69c5-4ac8-8497-d720e19514e0",
   "metadata": {},
   "outputs": [
    {
     "name": "stdout",
     "output_type": "stream",
     "text": [
      "<class 'pandas.core.frame.DataFrame'>\n",
      "RangeIndex: 1903 entries, 0 to 1902\n",
      "Data columns (total 5 columns):\n",
      " #   Column       Non-Null Count  Dtype \n",
      "---  ------       --------------  ----- \n",
      " 0   Description  1903 non-null   object\n",
      " 1   Price        1903 non-null   int64 \n",
      " 2   Rating       1881 non-null   object\n",
      " 3   ReviewCount  1903 non-null   object\n",
      " 4   Url          1903 non-null   object\n",
      "dtypes: int64(1), object(4)\n",
      "memory usage: 74.5+ KB\n"
     ]
    }
   ],
   "source": [
    "df.info()"
   ]
  },
  {
   "cell_type": "code",
   "execution_count": 6,
   "id": "7f356fa4-5442-41e4-8ec8-b46fc7b70f84",
   "metadata": {},
   "outputs": [
    {
     "data": {
      "text/plain": [
       "(1903, 5)"
      ]
     },
     "execution_count": 6,
     "metadata": {},
     "output_type": "execute_result"
    }
   ],
   "source": [
    "df.shape"
   ]
  },
  {
   "cell_type": "code",
   "execution_count": 7,
   "id": "874fac46-88a1-498e-a329-f0c67ef68874",
   "metadata": {},
   "outputs": [],
   "source": [
    "cols = df.columns.to_list()\n",
    "df.columns = [i.lower() for i in cols]"
   ]
  },
  {
   "cell_type": "code",
   "execution_count": 8,
   "id": "b2f79052-020b-435d-96d0-cf6765fa15d9",
   "metadata": {},
   "outputs": [],
   "source": [
    "data = df.copy()"
   ]
  },
  {
   "cell_type": "code",
   "execution_count": 9,
   "id": "d68efb8b-8ba9-4086-89c6-d49bcc2f42c3",
   "metadata": {},
   "outputs": [
    {
     "data": {
      "text/html": [
       "<div>\n",
       "<style scoped>\n",
       "    .dataframe tbody tr th:only-of-type {\n",
       "        vertical-align: middle;\n",
       "    }\n",
       "\n",
       "    .dataframe tbody tr th {\n",
       "        vertical-align: top;\n",
       "    }\n",
       "\n",
       "    .dataframe thead th {\n",
       "        text-align: right;\n",
       "    }\n",
       "</style>\n",
       "<table border=\"1\" class=\"dataframe\">\n",
       "  <thead>\n",
       "    <tr style=\"text-align: right;\">\n",
       "      <th></th>\n",
       "      <th>description</th>\n",
       "      <th>price</th>\n",
       "      <th>rating</th>\n",
       "      <th>reviewcount</th>\n",
       "      <th>url</th>\n",
       "    </tr>\n",
       "  </thead>\n",
       "  <tbody>\n",
       "    <tr>\n",
       "      <th>0</th>\n",
       "      <td>Apple iPhone 13 (128GB) - Pink</td>\n",
       "      <td>65999</td>\n",
       "      <td>4.6 out of 5 stars</td>\n",
       "      <td>7,507</td>\n",
       "      <td>https://www.amazon.in//sspa/click?ie=UTF8&amp;spc=...</td>\n",
       "    </tr>\n",
       "    <tr>\n",
       "      <th>1</th>\n",
       "      <td>Apple iPhone 13 Mini (128GB) - Pink</td>\n",
       "      <td>64900</td>\n",
       "      <td>4.5 out of 5 stars</td>\n",
       "      <td>1,341</td>\n",
       "      <td>https://www.amazon.in//sspa/click?ie=UTF8&amp;spc=...</td>\n",
       "    </tr>\n",
       "    <tr>\n",
       "      <th>2</th>\n",
       "      <td>Apple iPhone 12 (128GB) - Green</td>\n",
       "      <td>55999</td>\n",
       "      <td>4.5 out of 5 stars</td>\n",
       "      <td>4,941</td>\n",
       "      <td>https://www.amazon.in//New-Apple-iPhone-12-128...</td>\n",
       "    </tr>\n",
       "    <tr>\n",
       "      <th>3</th>\n",
       "      <td>Apple iPhone 12 (64GB) - Green</td>\n",
       "      <td>48900</td>\n",
       "      <td>4.6 out of 5 stars</td>\n",
       "      <td>1,299</td>\n",
       "      <td>https://www.amazon.in//New-Apple-iPhone-12-64G...</td>\n",
       "    </tr>\n",
       "    <tr>\n",
       "      <th>4</th>\n",
       "      <td>Apple iPhone 13 (128GB) - Green</td>\n",
       "      <td>65999</td>\n",
       "      <td>4.6 out of 5 stars</td>\n",
       "      <td>7,507</td>\n",
       "      <td>https://www.amazon.in//Apple-iPhone-13-128GB-G...</td>\n",
       "    </tr>\n",
       "  </tbody>\n",
       "</table>\n",
       "</div>"
      ],
      "text/plain": [
       "                           description  price              rating reviewcount  \\\n",
       "0       Apple iPhone 13 (128GB) - Pink  65999  4.6 out of 5 stars       7,507   \n",
       "1  Apple iPhone 13 Mini (128GB) - Pink  64900  4.5 out of 5 stars       1,341   \n",
       "2      Apple iPhone 12 (128GB) - Green  55999  4.5 out of 5 stars       4,941   \n",
       "3       Apple iPhone 12 (64GB) - Green  48900  4.6 out of 5 stars       1,299   \n",
       "4      Apple iPhone 13 (128GB) - Green  65999  4.6 out of 5 stars       7,507   \n",
       "\n",
       "                                                 url  \n",
       "0  https://www.amazon.in//sspa/click?ie=UTF8&spc=...  \n",
       "1  https://www.amazon.in//sspa/click?ie=UTF8&spc=...  \n",
       "2  https://www.amazon.in//New-Apple-iPhone-12-128...  \n",
       "3  https://www.amazon.in//New-Apple-iPhone-12-64G...  \n",
       "4  https://www.amazon.in//Apple-iPhone-13-128GB-G...  "
      ]
     },
     "execution_count": 9,
     "metadata": {},
     "output_type": "execute_result"
    }
   ],
   "source": [
    "data.head()"
   ]
  },
  {
   "cell_type": "code",
   "execution_count": 10,
   "id": "26401846-31ed-4fd8-b515-e130ec13bad5",
   "metadata": {},
   "outputs": [],
   "source": [
    "data = data.drop([\"url\"], axis=1)"
   ]
  },
  {
   "cell_type": "code",
   "execution_count": 22,
   "id": "12b5c425-e377-489c-9730-459e63482ad0",
   "metadata": {},
   "outputs": [],
   "source": [
    "data[\"rating\"] = data[\"rating\"].str[:3]"
   ]
  },
  {
   "cell_type": "code",
   "execution_count": 23,
   "id": "8ceee35c-d3fa-4363-9af0-0352c924743d",
   "metadata": {},
   "outputs": [
    {
     "data": {
      "text/plain": [
       "array(['Apple iPhone 13 (128GB) - Pink',\n",
       "       'Apple iPhone 13 Mini (128GB) - Pink',\n",
       "       'Apple iPhone 12 (128GB) - Green',\n",
       "       'Apple iPhone 12 (64GB) - Green',\n",
       "       'Apple iPhone 13 (128GB) - Green', 'Apple iPhone 14 128GB Blue',\n",
       "       'Apple iPhone 12 (128GB) - Purple',\n",
       "       'Apple iPhone 12 (64GB) - (Product) RED',\n",
       "       'Apple iPhone 11 (64GB) - White', 'Apple iPhone 11 (64GB) - Black',\n",
       "       'Apple iPhone 12 (64GB) - Purple',\n",
       "       'Apple iPhone 14 Plus 128GB Blue',\n",
       "       'Apple iPhone 13 Pro (128GB) - Graphite',\n",
       "       'Apple iPhone 14 Plus 256GB Blue',\n",
       "       'Apple iPhone 14 Plus 128GB Midnight',\n",
       "       'Apple iPhone 12 (128GB) - Black',\n",
       "       'Apple iPhone 14 128GB Midnight',\n",
       "       'Apple iPhone 13 (128GB) - (Product) RED',\n",
       "       'Samsung Galaxy M13 (Stardust Brown, 6GB, 128GB Storage) | 6000mAh Battery | Upto 12GB RAM with RAM Plus',\n",
       "       'Samsung Galaxy S22 5G (Phantom Black, 8GB, 128GB Storage) with No Cost EMI/Additional Exchange Offers',\n",
       "       'Samsung Galaxy M13 (Aqua Green, 6GB, 128GB Storage) | 6000mAh Battery | Upto 12GB RAM with RAM Plus',\n",
       "       'Samsung Galaxy M13 (Midnight Blue, 4GB, 64GB Storage) | 6000mAh Battery | Upto 8GB RAM with RAM Plus',\n",
       "       'Samsung Galaxy M13 (Aqua Green, 4GB, 64GB Storage) | 6000mAh Battery | Upto 8GB RAM with RAM Plus',\n",
       "       'Samsung Galaxy M33 5G (Deep Ocean Blue, 8GB, 128GB Storage) | 6000mAh Battery | Upto 16GB RAM with RAM Plus | Travel Adapter to be Purchased Separately',\n",
       "       'Samsung Galaxy M33 5G (Emerald Brown, 8GB, 128GB Storage) | 6000mAh Battery | 16GB RAM with RAM Plus | Travel Adapter to be Purchased Separately',\n",
       "       'Samsung Galaxy M33 5G (Mystique Green, 6GB, 128GB Storage) | 6000mAh Battery | Upto 12GB RAM with RAM Plus | Travel Adapter to be Purchased Separately',\n",
       "       'SAMSUNG Galaxy F13 (Waterfall Blue, 4GB RAM 64GB Storage)',\n",
       "       'Samsung Galaxy M33 5G (Mystique Green, 8GB, 128GB Storage) | 6000mAh Battery | Upto 16GB RAM with RAM Plus | Travel Adapter to be Purchased Separately',\n",
       "       'Samsung Galaxy M53 5G (Mystique Green, 6GB, 128GB Storage) | 108MP | sAmoled+ 120Hz | 12GB RAM with RAM Plus | Travel Adapter to be Purchased Separately',\n",
       "       'Samsung Galaxy M32 (Black, 4GB RAM, 64GB | FHD+ sAMOLED 90Hz Display | 6000mAh Battery | 64MP Quad Camera',\n",
       "       'Samsung Galaxy A03 Black, 3GB RAM, 32GB Storage Without Offers',\n",
       "       'Samsung Galaxy S20 FE 5G (Cloud Navy, 8GB RAM, 128GB Storage) with No Cost EMI & Additional Exchange Offers',\n",
       "       'Samsung Galaxy M13 (Midnight Blue, 6GB, 128GB Storage) | 6000mAh Battery | Upto 12GB RAM with RAM Plus',\n",
       "       'Samsung Galaxy M32 Prime Edition (Light Blue, 6GB RAM, 128GB)',\n",
       "       'Samsung Galaxy M32 Prime Edition (Black, 6GB RAM, 128GB)',\n",
       "       'SAMSUNG Galaxy F13 (Nightsky Green, 4GB RAM 64GB Storage)',\n",
       "       'Samsung Galaxy A03 Core (Black, 2GB RAM, 32GB Storage) Without Offer',\n",
       "       'Lava Blaze 5G (Glass Green, 4GB RAM, UFS 2.2 128GB Storage) | 5G Ready | 50MP AI Triple Camera | 5000 mAh Battery',\n",
       "       'Redmi 10 Prime 2022 (Phantom Black, 4GB RAM, 64GB Storage) |Helio G88 with extendable RAM Upto 2GB |FHD+ 90Hz Adaptive Sync Display|50 MP Quad Camera',\n",
       "       '(Renewed) Redmi Note 11S (Space Black, 6GB RAM, 64GB Storage)|108MP AI Quad Camera | 90 Hz FHD+ AMOLED Display | 33W Charger Included | Additional Exchange Offers|Get 2 Months of YouTube Premium Free!',\n",
       "       'Xiaomi 11 Lite NE 5G (Vinyl Black 8GB RAM 128 GB Storage) | Slimmest (6.81mm) & Lightest (158g) 5G Smartphone | 10-bit AMOLED with Dolby Vision | SD 778 with 12 5G Bands',\n",
       "       'Redmi Note 9 (Arctic White, 4GB RAM, 64GB Storage) - 48MP Quad Camera & Full HD+ Display',\n",
       "       'Xiaomi 11 Lite NE 5G (Jazz Blue 8GB RAM 128 GB Storage) | Slimmest (6.81mm) & Lightest (158g) 5G Smartphone | 10-bit AMOLED with Dolby Vision | SD 778 with 12 5G Bands',\n",
       "       \"Xiaomi 11T Pro 5G Hyperphone (Moonlight White, 8GB RAM, 128GB Storage)|SD 888|120W HyperCharge|Segment's only Phone with Dolby Vision+Dolby Atmos\",\n",
       "       'Redmi 10 Prime (Astral White 4GB RAM 64GB ROM |Helio G88 with extendable RAM Upto 2GB |FHD+ 90Hz Adaptive Sync Display)',\n",
       "       '(Renewed) Xiaomi 11 Lite NE 5G (Jazz Blue, 6GB RAM, 128 GB Storage) | Slimmest (6.81mm) & Lightest (158g) 5G Smartphone | 10-bit AMOLED with Dolby Vision',\n",
       "       '(Renewed) Mi 10i 5G (Midnight Black, 6GB RAM, 128GB Storage) - 108MP Quad Camera | Snapdragon 750G Processor',\n",
       "       'MI 10T 5G Lunar Silver, 8GB RAM, 128GB Storage - |Additional Exchange/No Cost EMI Offers',\n",
       "       '(Renewed) Mi Redmi Note 6 Pro (Rose Gold, 4GB, 64Gb)',\n",
       "       'Xiaomi 12 Pro | 5G (Noir Black, 8GB RAM, 256GB Storage) | Snapdragon 8 Gen 1 | 50+50+50MP Flagship Cameras (OIS) | 10bit 2K+ Curved AMOLED Display | Sound by Harman Kardon',\n",
       "       'Redmi 10 Power (Sporty Orange, 8GB RAM, 128GB Storage)',\n",
       "       'Xiaomi 11 Lite NE 5G (Jazz Blue 6GB RAM 128 GB Storage) | Slimmest (6.81mm) & Lightest (158g) 5G Smartphone | 10-bit AMOLED with Dolby Vision | SD 778 with 12 5G Bands',\n",
       "       'Xiaomi 12 Pro | 5G (Noir Black, 12GB RAM, 256GB Storage) | Snapdragon 8 Gen 1 | 50+50+50MP Flagship Cameras (OIS) | 10bit 2K+ Curved AMOLED Display | Sound by Harman Kardon',\n",
       "       'Redmi 10 Prime (Phantom Black 6GB RAM 128GB ROM |Helio G88 with extendable RAM Upto 2GB |FHD+ 90Hz Adaptive Sync Display)',\n",
       "       \"Xiaomi 11T Pro 5G Hyperphone (Celestial Magic, 8GB RAM, 256GB Storage) |SD 888|120W HyperCharge|Segment's only Phone with Dolby Vision+Dolby Atmos\",\n",
       "       'Redmi 9 (Sky Blue, 4GB RAM, 64GB Storage) | 2.3GHz Mediatek Helio G35 Octa core Processor',\n",
       "       'Samsung Galaxy M33 5G (Emerald Brown, 6GB, 128GB Storage) | 6000mAh Battery | Upto 12GB RAM with RAM Plus | Travel Adapter to be Purchased Separately',\n",
       "       'OPPO A74 5G (Fantastic Purple,6GB RAM,128GB Storage) with No Cost EMI/Additional Exchange Offers',\n",
       "       'OPPO A31 (Mystery Black, 6GB RAM, 128GB Storage) with No Cost EMI/Additional Exchange Offers',\n",
       "       'OPPO A74 5G (Fluid Black, 6GB RAM, 128GB Storage) with No Cost EMI/Additional Exchange Offers',\n",
       "       'OPPO A15s (Fancy White, 4GB, 128GB Storage) AI Triple Camera | 6.52\" HD+ Screen | 2.3GHz Mediatek Helio P35 Octa Core Processor',\n",
       "       'OPPO F21s Pro (Starlight Black, 8GB RAM, 128 Storage) with No Cost EMI/Additional Exchange Offers',\n",
       "       'OPPO F21s Pro 5G (Starlight Black, 8GB RAM, 128 Storage) with No Cost EMI/Additional Exchange Offers',\n",
       "       'OPPO F21s Pro 5G (Dawnlight Gold, 8GB RAM, 128 Storage) with No Cost EMI/Additional Exchange Offers',\n",
       "       'OPPO A54 (Crystal Black, 4GB RAM, 64GB Storage) with No Cost EMI & Additional Exchange Offers',\n",
       "       'Redmi Note 11 Pro + 5G (Stealth Black, 6GB RAM, 128GB Storage) | 67W Turbo Charge | 120Hz Super AMOLED Display | Additional Exchange Offers | Charger Included| Get 2 Months of YouTube Premium Free!',\n",
       "       'Oppo A54 (Crystal Black, 4GB RAM, 128GB Storage) with No Cost EMI & Additional Exchange Offers',\n",
       "       'OPPO A15s (Rainbow Silver, 4GB RAM, 64GB Storage) With No Cost EMI/Additional Exchange Offers',\n",
       "       'OPPO F21 Pro (Sunset Orange, 8GB RAM, 128 Storage) with No Cost EMI/Additional Exchange Offers',\n",
       "       'Oppo A54 (Starry Blue, 4GB RAM, 128GB Storage) with No Cost EMI & Additional Exchange Offers',\n",
       "       'OPPO A77 (Sky Blue, 4GB RAM, 64 Storage) with No Cost EMI/Additional Exchange Offers',\n",
       "       'OPPO K10 5G (Ocean Blue, 8GB RAM 128GB Storage)',\n",
       "       'OPPO A77s (Sunset Orange, 8GB RAM, 128 Storage) with No Cost EMI/Additional Exchange Offers',\n",
       "       'OPPO Reno8 5G (Shimmer Black, 128 GB) (8 GB RAM)',\n",
       "       'BTC-6 Mini Size 2.4A EFFICIENT Charger Combo 2',\n",
       "       'vivo Y22 (Starlit Blue, 6GB RAM, 128GB Storage) with No Cost EMI/Additional Exchange Offers',\n",
       "       'vivo Y22 (Metaverse Green, 4GB RAM, 64GB Storage) with No Cost EMI/Additional Exchange Offers',\n",
       "       'Vivo V23e 5G (128, 8GB Sunshine Gold, New)',\n",
       "       'vivo Y35 (Dawn Gold, 8GB RAM, 128GB Storage) with No Cost EMI/Additional Exchange Offers',\n",
       "       'Vivo V23e 5G (128, 8GB Midnight Blue, New)',\n",
       "       'vivo Y16 (Drizzling Gold, 3GB RAM, 64GB Storage) with No Cost EMI/Additional Exchange Offers',\n",
       "       '(Renewed) Vivo V17 (Glacier Ice, 8GB RAM, 128GB Storage) with No Cost EMI/Additional Exchange Offers',\n",
       "       'Vivo Y75 5G (Glowing Galaxy, 8GB RAM, 128GB ROM) with No Cost EMI/Additional Exchange Offers',\n",
       "       'vivo Y22 (Starlit Blue, 4GB RAM, 64GB Storage) with No Cost EMI/Additional Exchange Offers',\n",
       "       'vivo Y15s Mystic Blue (3GB RAM & 32GB ROM) with No Cost EMI/Additional Exchange Offers',\n",
       "       'IKALL Z20 Smartphone (6.5 Inch, 4GB, 32GB) (1.4 Ghz Octa Core, Fingerprint) (Black)',\n",
       "       'Vivo V23 5G (Stardust Black, 8GB RAM 128GB Storage)',\n",
       "       'Vivo Y21 (Midnight Blue, 4GB RAM, 64GB Storage) Without Offers',\n",
       "       'vivo Y22 (Metaverse Green, 6GB RAM, 128GB Storage) with No Cost EMI/Additional Exchange Offers',\n",
       "       'Vivo Y33s (Mirror Black, 8GB RAM, 128GB Storage) Without Offers',\n",
       "       'vivo Y35 (Agate Black, 8GB RAM, 128GB Storage) with No Cost EMI/Additional Exchange Offers',\n",
       "       'vivo Y16 (Stellar Black, 3GB RAM, 32GB Storage) with No Cost EMI/Additional Exchange Offers',\n",
       "       'IKALL Z9 Smartphone (3GB, 32GB) (Blue)'], dtype=object)"
      ]
     },
     "execution_count": 23,
     "metadata": {},
     "output_type": "execute_result"
    }
   ],
   "source": [
    "data[\"description\"].unique()"
   ]
  },
  {
   "cell_type": "code",
   "execution_count": 26,
   "id": "811f3619-4f69-45de-a8d8-02cafd16c234",
   "metadata": {},
   "outputs": [
    {
     "name": "stdout",
     "output_type": "stream",
     "text": [
      "<class 'pandas.core.frame.DataFrame'>\n",
      "RangeIndex: 1903 entries, 0 to 1902\n",
      "Data columns (total 4 columns):\n",
      " #   Column       Non-Null Count  Dtype \n",
      "---  ------       --------------  ----- \n",
      " 0   description  1903 non-null   object\n",
      " 1   price        1903 non-null   int64 \n",
      " 2   rating       1881 non-null   object\n",
      " 3   reviewcount  1903 non-null   object\n",
      "dtypes: int64(1), object(3)\n",
      "memory usage: 59.6+ KB\n"
     ]
    }
   ],
   "source": [
    "data[\"rating\"]."
   ]
  },
  {
   "cell_type": "code",
   "execution_count": null,
   "id": "5cd3f8d2-5e62-4d9d-a3be-232794bb2d6e",
   "metadata": {},
   "outputs": [],
   "source": []
  }
 ],
 "metadata": {
  "kernelspec": {
   "display_name": "Python 3 (ipykernel)",
   "language": "python",
   "name": "python3"
  },
  "language_info": {
   "codemirror_mode": {
    "name": "ipython",
    "version": 3
   },
   "file_extension": ".py",
   "mimetype": "text/x-python",
   "name": "python",
   "nbconvert_exporter": "python",
   "pygments_lexer": "ipython3",
   "version": "3.11.0"
  }
 },
 "nbformat": 4,
 "nbformat_minor": 5
}
