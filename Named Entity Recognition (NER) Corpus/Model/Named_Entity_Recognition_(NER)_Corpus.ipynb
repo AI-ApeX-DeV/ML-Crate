{
  "cells": [
    {
      "cell_type": "code",
      "execution_count": null,
      "metadata": {
        "colab": {
          "base_uri": "https://localhost:8080/"
        },
        "id": "TaXRC3pOIxs2",
        "outputId": "45c19257-4d8f-40f9-9dad-c98300b2b92e"
      },
      "outputs": [
        {
          "name": "stdout",
          "output_type": "stream",
          "text": [
            "Mounted at /content/drive\n"
          ]
        }
      ],
      "source": [
        "from google.colab import drive\n",
        "drive.mount('/content/drive')"
      ]
    },
    {
      "cell_type": "code",
      "execution_count": null,
      "metadata": {
        "id": "n_rzyJc-JBVu"
      },
      "outputs": [],
      "source": [
        "import numpy as np\n",
        "import pandas as pd\n",
        "import matplotlib.pyplot as plt\n",
        "import seaborn as sns\n",
        "import tensorflow as tf\n",
        "from tensorflow.keras.preprocessing.text import Tokenizer\n",
        "from tensorflow.keras.preprocessing.sequence import pad_sequences"
      ]
    },
    {
      "cell_type": "code",
      "execution_count": null,
      "metadata": {
        "colab": {
          "base_uri": "https://localhost:8080/",
          "height": 206
        },
        "id": "rVzIAuXOJMFa",
        "outputId": "bde9e0e7-9399-4730-da78-1245ae15eef7"
      },
      "outputs": [
        {
          "data": {
            "text/html": [
              "\n",
              "  <div id=\"df-03ffc48b-4a94-4351-83e8-a5d4f7e8eeb2\">\n",
              "    <div class=\"colab-df-container\">\n",
              "      <div>\n",
              "<style scoped>\n",
              "    .dataframe tbody tr th:only-of-type {\n",
              "        vertical-align: middle;\n",
              "    }\n",
              "\n",
              "    .dataframe tbody tr th {\n",
              "        vertical-align: top;\n",
              "    }\n",
              "\n",
              "    .dataframe thead th {\n",
              "        text-align: right;\n",
              "    }\n",
              "</style>\n",
              "<table border=\"1\" class=\"dataframe\">\n",
              "  <thead>\n",
              "    <tr style=\"text-align: right;\">\n",
              "      <th></th>\n",
              "      <th>Sentence #</th>\n",
              "      <th>Word</th>\n",
              "      <th>POS</th>\n",
              "      <th>Tag</th>\n",
              "    </tr>\n",
              "  </thead>\n",
              "  <tbody>\n",
              "    <tr>\n",
              "      <th>0</th>\n",
              "      <td>Sentence: 1</td>\n",
              "      <td>Thousands</td>\n",
              "      <td>NNS</td>\n",
              "      <td>O</td>\n",
              "    </tr>\n",
              "    <tr>\n",
              "      <th>1</th>\n",
              "      <td>Sentence: 1</td>\n",
              "      <td>of</td>\n",
              "      <td>IN</td>\n",
              "      <td>O</td>\n",
              "    </tr>\n",
              "    <tr>\n",
              "      <th>2</th>\n",
              "      <td>Sentence: 1</td>\n",
              "      <td>demonstrators</td>\n",
              "      <td>NNS</td>\n",
              "      <td>O</td>\n",
              "    </tr>\n",
              "    <tr>\n",
              "      <th>3</th>\n",
              "      <td>Sentence: 1</td>\n",
              "      <td>have</td>\n",
              "      <td>VBP</td>\n",
              "      <td>O</td>\n",
              "    </tr>\n",
              "    <tr>\n",
              "      <th>4</th>\n",
              "      <td>Sentence: 1</td>\n",
              "      <td>marched</td>\n",
              "      <td>VBN</td>\n",
              "      <td>O</td>\n",
              "    </tr>\n",
              "  </tbody>\n",
              "</table>\n",
              "</div>\n",
              "      <button class=\"colab-df-convert\" onclick=\"convertToInteractive('df-03ffc48b-4a94-4351-83e8-a5d4f7e8eeb2')\"\n",
              "              title=\"Convert this dataframe to an interactive table.\"\n",
              "              style=\"display:none;\">\n",
              "        \n",
              "  <svg xmlns=\"http://www.w3.org/2000/svg\" height=\"24px\"viewBox=\"0 0 24 24\"\n",
              "       width=\"24px\">\n",
              "    <path d=\"M0 0h24v24H0V0z\" fill=\"none\"/>\n",
              "    <path d=\"M18.56 5.44l.94 2.06.94-2.06 2.06-.94-2.06-.94-.94-2.06-.94 2.06-2.06.94zm-11 1L8.5 8.5l.94-2.06 2.06-.94-2.06-.94L8.5 2.5l-.94 2.06-2.06.94zm10 10l.94 2.06.94-2.06 2.06-.94-2.06-.94-.94-2.06-.94 2.06-2.06.94z\"/><path d=\"M17.41 7.96l-1.37-1.37c-.4-.4-.92-.59-1.43-.59-.52 0-1.04.2-1.43.59L10.3 9.45l-7.72 7.72c-.78.78-.78 2.05 0 2.83L4 21.41c.39.39.9.59 1.41.59.51 0 1.02-.2 1.41-.59l7.78-7.78 2.81-2.81c.8-.78.8-2.07 0-2.86zM5.41 20L4 18.59l7.72-7.72 1.47 1.35L5.41 20z\"/>\n",
              "  </svg>\n",
              "      </button>\n",
              "      \n",
              "  <style>\n",
              "    .colab-df-container {\n",
              "      display:flex;\n",
              "      flex-wrap:wrap;\n",
              "      gap: 12px;\n",
              "    }\n",
              "\n",
              "    .colab-df-convert {\n",
              "      background-color: #E8F0FE;\n",
              "      border: none;\n",
              "      border-radius: 50%;\n",
              "      cursor: pointer;\n",
              "      display: none;\n",
              "      fill: #1967D2;\n",
              "      height: 32px;\n",
              "      padding: 0 0 0 0;\n",
              "      width: 32px;\n",
              "    }\n",
              "\n",
              "    .colab-df-convert:hover {\n",
              "      background-color: #E2EBFA;\n",
              "      box-shadow: 0px 1px 2px rgba(60, 64, 67, 0.3), 0px 1px 3px 1px rgba(60, 64, 67, 0.15);\n",
              "      fill: #174EA6;\n",
              "    }\n",
              "\n",
              "    [theme=dark] .colab-df-convert {\n",
              "      background-color: #3B4455;\n",
              "      fill: #D2E3FC;\n",
              "    }\n",
              "\n",
              "    [theme=dark] .colab-df-convert:hover {\n",
              "      background-color: #434B5C;\n",
              "      box-shadow: 0px 1px 3px 1px rgba(0, 0, 0, 0.15);\n",
              "      filter: drop-shadow(0px 1px 2px rgba(0, 0, 0, 0.3));\n",
              "      fill: #FFFFFF;\n",
              "    }\n",
              "  </style>\n",
              "\n",
              "      <script>\n",
              "        const buttonEl =\n",
              "          document.querySelector('#df-03ffc48b-4a94-4351-83e8-a5d4f7e8eeb2 button.colab-df-convert');\n",
              "        buttonEl.style.display =\n",
              "          google.colab.kernel.accessAllowed ? 'block' : 'none';\n",
              "\n",
              "        async function convertToInteractive(key) {\n",
              "          const element = document.querySelector('#df-03ffc48b-4a94-4351-83e8-a5d4f7e8eeb2');\n",
              "          const dataTable =\n",
              "            await google.colab.kernel.invokeFunction('convertToInteractive',\n",
              "                                                     [key], {});\n",
              "          if (!dataTable) return;\n",
              "\n",
              "          const docLinkHtml = 'Like what you see? Visit the ' +\n",
              "            '<a target=\"_blank\" href=https://colab.research.google.com/notebooks/data_table.ipynb>data table notebook</a>'\n",
              "            + ' to learn more about interactive tables.';\n",
              "          element.innerHTML = '';\n",
              "          dataTable['output_type'] = 'display_data';\n",
              "          await google.colab.output.renderOutput(dataTable, element);\n",
              "          const docLink = document.createElement('div');\n",
              "          docLink.innerHTML = docLinkHtml;\n",
              "          element.appendChild(docLink);\n",
              "        }\n",
              "      </script>\n",
              "    </div>\n",
              "  </div>\n",
              "  "
            ],
            "text/plain": [
              "    Sentence #           Word  POS Tag\n",
              "0  Sentence: 1      Thousands  NNS   O\n",
              "1  Sentence: 1             of   IN   O\n",
              "2  Sentence: 1  demonstrators  NNS   O\n",
              "3  Sentence: 1           have  VBP   O\n",
              "4  Sentence: 1        marched  VBN   O"
            ]
          },
          "execution_count": 4,
          "metadata": {},
          "output_type": "execute_result"
        }
      ],
      "source": [
        "data = pd.read_csv('/content/drive/MyDrive/JWOC/NER/ner_dataset.csv', encoding= 'unicode_escape')\n",
        "\n",
        "data.fillna(method = 'ffill', inplace = True)\n",
        "data.head()"
      ]
    },
    {
      "cell_type": "code",
      "execution_count": null,
      "metadata": {
        "colab": {
          "base_uri": "https://localhost:8080/",
          "height": 206
        },
        "id": "CPykyn5BJSkJ",
        "outputId": "a353d7fc-dfe9-47ce-dc9e-e060916eabb1"
      },
      "outputs": [
        {
          "data": {
            "text/html": [
              "\n",
              "  <div id=\"df-8624166d-14ed-440f-a866-a45684ab5210\">\n",
              "    <div class=\"colab-df-container\">\n",
              "      <div>\n",
              "<style scoped>\n",
              "    .dataframe tbody tr th:only-of-type {\n",
              "        vertical-align: middle;\n",
              "    }\n",
              "\n",
              "    .dataframe tbody tr th {\n",
              "        vertical-align: top;\n",
              "    }\n",
              "\n",
              "    .dataframe thead th {\n",
              "        text-align: right;\n",
              "    }\n",
              "</style>\n",
              "<table border=\"1\" class=\"dataframe\">\n",
              "  <thead>\n",
              "    <tr style=\"text-align: right;\">\n",
              "      <th></th>\n",
              "      <th>Sentence #</th>\n",
              "      <th>Sentence</th>\n",
              "      <th>POS</th>\n",
              "      <th>Tag</th>\n",
              "    </tr>\n",
              "  </thead>\n",
              "  <tbody>\n",
              "    <tr>\n",
              "      <th>0</th>\n",
              "      <td>Sentence: 1</td>\n",
              "      <td>Thousands of demonstrators have marched throug...</td>\n",
              "      <td>['NNS', 'IN', 'NNS', 'VBP', 'VBN', 'IN', 'NNP'...</td>\n",
              "      <td>['O', 'O', 'O', 'O', 'O', 'O', 'B-geo', 'O', '...</td>\n",
              "    </tr>\n",
              "    <tr>\n",
              "      <th>1</th>\n",
              "      <td>Sentence: 2</td>\n",
              "      <td>Families of soldiers killed in the conflict jo...</td>\n",
              "      <td>['NNS', 'IN', 'NNS', 'VBN', 'IN', 'DT', 'NN', ...</td>\n",
              "      <td>['O', 'O', 'O', 'O', 'O', 'O', 'O', 'O', 'O', ...</td>\n",
              "    </tr>\n",
              "    <tr>\n",
              "      <th>2</th>\n",
              "      <td>Sentence: 3</td>\n",
              "      <td>They marched from the Houses of Parliament to ...</td>\n",
              "      <td>['PRP', 'VBD', 'IN', 'DT', 'NNS', 'IN', 'NN', ...</td>\n",
              "      <td>['O', 'O', 'O', 'O', 'O', 'O', 'O', 'O', 'O', ...</td>\n",
              "    </tr>\n",
              "    <tr>\n",
              "      <th>3</th>\n",
              "      <td>Sentence: 4</td>\n",
              "      <td>Police put the number of marchers at 10,000 wh...</td>\n",
              "      <td>['NNS', 'VBD', 'DT', 'NN', 'IN', 'NNS', 'IN', ...</td>\n",
              "      <td>['O', 'O', 'O', 'O', 'O', 'O', 'O', 'O', 'O', ...</td>\n",
              "    </tr>\n",
              "    <tr>\n",
              "      <th>4</th>\n",
              "      <td>Sentence: 5</td>\n",
              "      <td>The protest comes on the eve of the annual con...</td>\n",
              "      <td>['DT', 'NN', 'VBZ', 'IN', 'DT', 'NN', 'IN', 'D...</td>\n",
              "      <td>['O', 'O', 'O', 'O', 'O', 'O', 'O', 'O', 'O', ...</td>\n",
              "    </tr>\n",
              "  </tbody>\n",
              "</table>\n",
              "</div>\n",
              "      <button class=\"colab-df-convert\" onclick=\"convertToInteractive('df-8624166d-14ed-440f-a866-a45684ab5210')\"\n",
              "              title=\"Convert this dataframe to an interactive table.\"\n",
              "              style=\"display:none;\">\n",
              "        \n",
              "  <svg xmlns=\"http://www.w3.org/2000/svg\" height=\"24px\"viewBox=\"0 0 24 24\"\n",
              "       width=\"24px\">\n",
              "    <path d=\"M0 0h24v24H0V0z\" fill=\"none\"/>\n",
              "    <path d=\"M18.56 5.44l.94 2.06.94-2.06 2.06-.94-2.06-.94-.94-2.06-.94 2.06-2.06.94zm-11 1L8.5 8.5l.94-2.06 2.06-.94-2.06-.94L8.5 2.5l-.94 2.06-2.06.94zm10 10l.94 2.06.94-2.06 2.06-.94-2.06-.94-.94-2.06-.94 2.06-2.06.94z\"/><path d=\"M17.41 7.96l-1.37-1.37c-.4-.4-.92-.59-1.43-.59-.52 0-1.04.2-1.43.59L10.3 9.45l-7.72 7.72c-.78.78-.78 2.05 0 2.83L4 21.41c.39.39.9.59 1.41.59.51 0 1.02-.2 1.41-.59l7.78-7.78 2.81-2.81c.8-.78.8-2.07 0-2.86zM5.41 20L4 18.59l7.72-7.72 1.47 1.35L5.41 20z\"/>\n",
              "  </svg>\n",
              "      </button>\n",
              "      \n",
              "  <style>\n",
              "    .colab-df-container {\n",
              "      display:flex;\n",
              "      flex-wrap:wrap;\n",
              "      gap: 12px;\n",
              "    }\n",
              "\n",
              "    .colab-df-convert {\n",
              "      background-color: #E8F0FE;\n",
              "      border: none;\n",
              "      border-radius: 50%;\n",
              "      cursor: pointer;\n",
              "      display: none;\n",
              "      fill: #1967D2;\n",
              "      height: 32px;\n",
              "      padding: 0 0 0 0;\n",
              "      width: 32px;\n",
              "    }\n",
              "\n",
              "    .colab-df-convert:hover {\n",
              "      background-color: #E2EBFA;\n",
              "      box-shadow: 0px 1px 2px rgba(60, 64, 67, 0.3), 0px 1px 3px 1px rgba(60, 64, 67, 0.15);\n",
              "      fill: #174EA6;\n",
              "    }\n",
              "\n",
              "    [theme=dark] .colab-df-convert {\n",
              "      background-color: #3B4455;\n",
              "      fill: #D2E3FC;\n",
              "    }\n",
              "\n",
              "    [theme=dark] .colab-df-convert:hover {\n",
              "      background-color: #434B5C;\n",
              "      box-shadow: 0px 1px 3px 1px rgba(0, 0, 0, 0.15);\n",
              "      filter: drop-shadow(0px 1px 2px rgba(0, 0, 0, 0.3));\n",
              "      fill: #FFFFFF;\n",
              "    }\n",
              "  </style>\n",
              "\n",
              "      <script>\n",
              "        const buttonEl =\n",
              "          document.querySelector('#df-8624166d-14ed-440f-a866-a45684ab5210 button.colab-df-convert');\n",
              "        buttonEl.style.display =\n",
              "          google.colab.kernel.accessAllowed ? 'block' : 'none';\n",
              "\n",
              "        async function convertToInteractive(key) {\n",
              "          const element = document.querySelector('#df-8624166d-14ed-440f-a866-a45684ab5210');\n",
              "          const dataTable =\n",
              "            await google.colab.kernel.invokeFunction('convertToInteractive',\n",
              "                                                     [key], {});\n",
              "          if (!dataTable) return;\n",
              "\n",
              "          const docLinkHtml = 'Like what you see? Visit the ' +\n",
              "            '<a target=\"_blank\" href=https://colab.research.google.com/notebooks/data_table.ipynb>data table notebook</a>'\n",
              "            + ' to learn more about interactive tables.';\n",
              "          element.innerHTML = '';\n",
              "          dataTable['output_type'] = 'display_data';\n",
              "          await google.colab.output.renderOutput(dataTable, element);\n",
              "          const docLink = document.createElement('div');\n",
              "          docLink.innerHTML = docLinkHtml;\n",
              "          element.appendChild(docLink);\n",
              "        }\n",
              "      </script>\n",
              "    </div>\n",
              "  </div>\n",
              "  "
            ],
            "text/plain": [
              "    Sentence #  ...                                                Tag\n",
              "0  Sentence: 1  ...  ['O', 'O', 'O', 'O', 'O', 'O', 'B-geo', 'O', '...\n",
              "1  Sentence: 2  ...  ['O', 'O', 'O', 'O', 'O', 'O', 'O', 'O', 'O', ...\n",
              "2  Sentence: 3  ...  ['O', 'O', 'O', 'O', 'O', 'O', 'O', 'O', 'O', ...\n",
              "3  Sentence: 4  ...  ['O', 'O', 'O', 'O', 'O', 'O', 'O', 'O', 'O', ...\n",
              "4  Sentence: 5  ...  ['O', 'O', 'O', 'O', 'O', 'O', 'O', 'O', 'O', ...\n",
              "\n",
              "[5 rows x 4 columns]"
            ]
          },
          "execution_count": 5,
          "metadata": {},
          "output_type": "execute_result"
        }
      ],
      "source": [
        "ready_data = pd.read_csv('/content/drive/MyDrive/JWOC/NER/ner.csv')\n",
        "ready_data.head()"
      ]
    },
    {
      "cell_type": "code",
      "execution_count": null,
      "metadata": {
        "id": "oCjVbCVYJkut"
      },
      "outputs": [],
      "source": [
        "def join_a_sentence(sentence_number):\n",
        "    sentence_number = str(sentence_number)\n",
        "    the_sentence_words_list = list(data[data['Sentence #'] == 'Sentence: {}'.format(sentence_number)]['Word'])\n",
        "    \n",
        "    return ' '.join(the_sentence_words_list)"
      ]
    },
    {
      "cell_type": "code",
      "execution_count": null,
      "metadata": {
        "colab": {
          "base_uri": "https://localhost:8080/",
          "height": 35
        },
        "id": "deOOPj01MfLG",
        "outputId": "4dc11540-a4c7-4576-bc98-c2e3d90657c6"
      },
      "outputs": [
        {
          "data": {
            "application/vnd.google.colaboratory.intrinsic+json": {
              "type": "string"
            },
            "text/plain": [
              "'They marched from the Houses of Parliament to a rally in Hyde Park .'"
            ]
          },
          "execution_count": 7,
          "metadata": {},
          "output_type": "execute_result"
        }
      ],
      "source": [
        "join_a_sentence(sentence_number = 3)"
      ]
    },
    {
      "cell_type": "code",
      "execution_count": null,
      "metadata": {
        "id": "jwRKtUBuMoKp"
      },
      "outputs": [],
      "source": [
        "def num_words_tags (tags, data):\n",
        "    \n",
        "    tags_count = {}\n",
        "    \n",
        "    for tag in tags:\n",
        "        len_tag = len(data[data['Tag'] == tag])\n",
        "        tags_count[tag] = len_tag\n",
        "    \n",
        "    return tags_count"
      ]
    },
    {
      "cell_type": "code",
      "execution_count": null,
      "metadata": {
        "colab": {
          "base_uri": "https://localhost:8080/"
        },
        "id": "1gZf8PPMM1Xl",
        "outputId": "d254594d-e185-4d6d-9953-d35e862a9bb0"
      },
      "outputs": [
        {
          "data": {
            "text/plain": [
              "array(['O', 'B-geo', 'B-gpe', 'B-per', 'I-geo', 'B-org', 'I-org', 'B-tim',\n",
              "       'B-art', 'I-art', 'I-per', 'I-gpe', 'I-tim', 'B-nat', 'B-eve',\n",
              "       'I-eve', 'I-nat'], dtype=object)"
            ]
          },
          "execution_count": 10,
          "metadata": {},
          "output_type": "execute_result"
        }
      ],
      "source": [
        "tags = data.Tag.unique()\n",
        "tags"
      ]
    },
    {
      "cell_type": "code",
      "execution_count": null,
      "metadata": {
        "colab": {
          "base_uri": "https://localhost:8080/"
        },
        "id": "-hoNJCPJMvcF",
        "outputId": "f728a519-beca-41cd-8d6d-ed8e194b607d"
      },
      "outputs": [
        {
          "data": {
            "text/plain": [
              "{'B-art': 402,\n",
              " 'B-eve': 308,\n",
              " 'B-geo': 37644,\n",
              " 'B-gpe': 15870,\n",
              " 'B-nat': 201,\n",
              " 'B-org': 20143,\n",
              " 'B-per': 16990,\n",
              " 'B-tim': 20333,\n",
              " 'I-art': 297,\n",
              " 'I-eve': 253,\n",
              " 'I-geo': 7414,\n",
              " 'I-gpe': 198,\n",
              " 'I-nat': 51,\n",
              " 'I-org': 16784,\n",
              " 'I-per': 17251,\n",
              " 'I-tim': 6528,\n",
              " 'O': 887908}"
            ]
          },
          "execution_count": 11,
          "metadata": {},
          "output_type": "execute_result"
        }
      ],
      "source": [
        "tags_count = num_words_tags(tags, data)\n",
        "tags_count"
      ]
    },
    {
      "cell_type": "code",
      "execution_count": null,
      "metadata": {
        "colab": {
          "base_uri": "https://localhost:8080/",
          "height": 448
        },
        "id": "m2v4dI3AMxbz",
        "outputId": "c1b48c38-633d-428b-a833-f53f57a46c19"
      },
      "outputs": [
        {
          "data": {
            "image/png": "[encoded data removed]",
            "text/plain": [
              "<Figure size 720x432 with 1 Axes>"
            ]
          },
          "metadata": {},
          "output_type": "display_data"
        }
      ],
      "source": [
        "plt.figure(figsize = (10, 6))\n",
        "plt.hist(data.Tag, log = True, label = 'Tags', color = 'red', bins = 50)\n",
        "plt.xlabel('Tags', fontsize = 16)\n",
        "plt.ylabel('Count', fontsize = 16)\n",
        "plt.title(\"Tags Frequency\", fontsize = 20)\n",
        "plt.grid(alpha=0.3)\n",
        "plt.legend()\n",
        "plt.xticks(fontsize=15)\n",
        "plt.yticks(fontsize=15)\n",
        "plt.xticks(rotation=90)\n",
        "plt.show()"
      ]
    },
    {
      "cell_type": "code",
      "execution_count": null,
      "metadata": {
        "id": "MJ3QqSYWM56n"
      },
      "outputs": [],
      "source": [
        "X = list(ready_data['Sentence'])\n",
        "Y = list(ready_data['Tag'])"
      ]
    },
    {
      "cell_type": "code",
      "execution_count": null,
      "metadata": {
        "id": "otqrVRSENEzf"
      },
      "outputs": [],
      "source": [
        "from ast import literal_eval\n",
        "Y_ready = []\n",
        "\n",
        "for sen_tags in Y:\n",
        "    Y_ready.append(literal_eval(sen_tags))"
      ]
    },
    {
      "cell_type": "code",
      "execution_count": null,
      "metadata": {
        "id": "X0CCjjjnNHPw"
      },
      "outputs": [],
      "source": [
        "maxlen = 110\n",
        "\n",
        "max_words = 36000\n",
        "\n",
        "\n",
        "tokenizer = Tokenizer(num_words=max_words)\n",
        "tokenizer.fit_on_texts(X)\n",
        "sequences = tokenizer.texts_to_sequences(X)"
      ]
    },
    {
      "cell_type": "code",
      "execution_count": null,
      "metadata": {
        "colab": {
          "base_uri": "https://localhost:8080/"
        },
        "id": "FTLthlSsNOXG",
        "outputId": "cadbb6ca-4411-4d45-e033-02d676d9e548"
      },
      "outputs": [
        {
          "name": "stdout",
          "output_type": "stream",
          "text": [
            "Found 27953 unique tokens.\n"
          ]
        }
      ],
      "source": [
        "word_index = tokenizer.word_index\n",
        "print(\"Found {} unique tokens.\".format(len(word_index)))\n",
        "ind2word = dict([(value, key) for (key, value) in word_index.items()])"
      ]
    },
    {
      "cell_type": "code",
      "execution_count": null,
      "metadata": {
        "id": "nGoqx9NONQ4I"
      },
      "outputs": [],
      "source": [
        "word2id = word_index"
      ]
    },
    {
      "cell_type": "code",
      "execution_count": null,
      "metadata": {
        "id": "tu-pXLUbNYhD"
      },
      "outputs": [],
      "source": [
        "id2word = {}\n",
        "for key, value in word2id.items():\n",
        "    id2word[value] = key"
      ]
    },
    {
      "cell_type": "code",
      "execution_count": null,
      "metadata": {
        "id": "1ZVCGg7nNaWs"
      },
      "outputs": [],
      "source": [
        "X_preprocessed = pad_sequences(sequences, maxlen=maxlen, padding='post')"
      ]
    },
    {
      "cell_type": "code",
      "execution_count": null,
      "metadata": {
        "id": "WmRFVtUNNcPL"
      },
      "outputs": [],
      "source": [
        "tags2id = {}\n",
        "for i, tag in enumerate(tags):\n",
        "    tags2id[tag] = i"
      ]
    },
    {
      "cell_type": "code",
      "execution_count": null,
      "metadata": {
        "id": "uWJJps2hNf61"
      },
      "outputs": [],
      "source": [
        "id2tag = {}\n",
        "for key, value in tags2id.items():\n",
        "    id2tag[value] = key"
      ]
    },
    {
      "cell_type": "code",
      "execution_count": null,
      "metadata": {
        "id": "JauAMHlaNibm"
      },
      "outputs": [],
      "source": [
        "def preprocess_tags(tags2id, Y_ready):\n",
        "    \n",
        "    Y_preprocessed = []\n",
        "    maxlen = 110\n",
        "    # for each target \n",
        "    for y in Y_ready:\n",
        "        \n",
        "        # place holder to store the new preprocessed tag list\n",
        "        Y_place_holder = []\n",
        "        \n",
        "        # for each tag in rhe tag list \n",
        "        for tag in y:\n",
        "            # append the id of the tag in the place holder list\n",
        "            Y_place_holder.append(tags2id[tag])\n",
        "        \n",
        "        # find the lenght of the new preprocessed tag list \n",
        "        len_new_tag_list = len(Y_place_holder)\n",
        "        # find the differance in length between the len of tag list and padded sentences\n",
        "        num_O_to_add = maxlen - len_new_tag_list\n",
        "        \n",
        "        # add 'O's to padd the tag lists\n",
        "        padded_tags = Y_place_holder + ([tags2id['O']] * num_O_to_add)\n",
        "        Y_preprocessed.append(padded_tags)\n",
        "        \n",
        "    return Y_preprocessed"
      ]
    },
    {
      "cell_type": "code",
      "execution_count": null,
      "metadata": {
        "id": "Dry8gdz3NoQ-"
      },
      "outputs": [],
      "source": [
        "Y_preprocessed = preprocess_tags(tags2id, Y_ready)"
      ]
    },
    {
      "cell_type": "code",
      "execution_count": null,
      "metadata": {
        "colab": {
          "base_uri": "https://localhost:8080/"
        },
        "id": "t0obKJUpNp-V",
        "outputId": "6c5000f5-a46b-495e-a32a-a3642c9fe3de"
      },
      "outputs": [
        {
          "name": "stdout",
          "output_type": "stream",
          "text": [
            "The Lenght of training examples: 47959\n",
            "The Lenght of training targets: 47959\n"
          ]
        }
      ],
      "source": [
        "print(\"The Lenght of training examples: {}\".format(len(X_preprocessed)))\n",
        "print(\"The Lenght of training targets: {}\".format(len(Y_preprocessed)))"
      ]
    },
    {
      "cell_type": "code",
      "execution_count": null,
      "metadata": {
        "id": "W2D8w85HNs2R"
      },
      "outputs": [],
      "source": [
        "X_preprocessed = np.asarray(X_preprocessed)\n",
        "Y_preprocessed = np.asarray(Y_preprocessed)"
      ]
    },
    {
      "cell_type": "code",
      "execution_count": null,
      "metadata": {
        "id": "FhwQZSlzNvQV"
      },
      "outputs": [],
      "source": [
        "training_samples = 0.7\n",
        "# 15% of the datat will be used for validation \n",
        "validation_samples = 0.15\n",
        "# 15% of the datat will be used for testing \n",
        "testing_samples = 0.15"
      ]
    },
    {
      "cell_type": "code",
      "execution_count": null,
      "metadata": {
        "colab": {
          "base_uri": "https://localhost:8080/"
        },
        "id": "ss-s7kxjNxx-",
        "outputId": "89b8d10a-f4ad-4461-c5fe-f588a31cdfc8"
      },
      "outputs": [
        {
          "name": "stdout",
          "output_type": "stream",
          "text": [
            "Number of training examples: 33571\n",
            "Number of validation examples: 7194\n",
            "Number of testing examples: 7194\n",
            "Total number of examples after shuffling and splitting: 47959\n"
          ]
        }
      ],
      "source": [
        "indices = np.arange(len(Y_preprocessed))\n",
        "np.random.seed(seed=555)\n",
        "np.random.shuffle(indices)\n",
        "\n",
        "X_preprocessed = X_preprocessed[indices]\n",
        "Y_preprocessed = Y_preprocessed[indices]\n",
        "\n",
        "X_train = X_preprocessed[: int(0.7 * len(X_preprocessed))]\n",
        "print(\"Number of training examples: {}\".format(len(X_train)))\n",
        "\n",
        "\n",
        "X_val = X_preprocessed[int(0.7 * len(X_preprocessed)) : int(0.7 * len(X_preprocessed)) + (int(0.15 * len(X_preprocessed)) + 1)]\n",
        "print(\"Number of validation examples: {}\".format(len(X_val)))\n",
        "\n",
        "\n",
        "X_test = X_preprocessed[int(0.7 * len(X_preprocessed)) + (int(0.15 * len(X_preprocessed)) + 1) : ]\n",
        "print(\"Number of testing examples: {}\".format(len(X_test)))\n",
        "\n",
        "\n",
        "\n",
        "Y_train = Y_preprocessed[: int(0.7 * len(X_preprocessed))]\n",
        "Y_val = Y_preprocessed[int(0.7 * len(X_preprocessed)) : int(0.7 * len(X_preprocessed)) + (int(0.15 * len(X_preprocessed)) + 1)]\n",
        "Y_test = Y_preprocessed[int(0.7 * len(X_preprocessed)) + (int(0.15 * len(X_preprocessed)) + 1) : ]\n",
        "\n",
        "print(\"Total number of examples after shuffling and splitting: {}\".format(len(X_train) + len(X_val) + len(X_test)))"
      ]
    },
    {
      "cell_type": "code",
      "execution_count": null,
      "metadata": {
        "id": "BmTuZW9yN6Fr"
      },
      "outputs": [],
      "source": [
        "train_dataset = tf.data.Dataset.from_tensor_slices((X_train, Y_train))\n",
        "val_dataset = tf.data.Dataset.from_tensor_slices((X_val, Y_val))\n",
        "test_dataset = tf.data.Dataset.from_tensor_slices((X_test, Y_test))"
      ]
    },
    {
      "cell_type": "code",
      "execution_count": null,
      "metadata": {
        "id": "Ne_hbs7EN9ov"
      },
      "outputs": [],
      "source": [
        "BATCH_SIZE = 132\n",
        "SHUFFLE_BUFFER_SIZE = 132\n",
        "\n",
        "train_dataset = train_dataset.shuffle(SHUFFLE_BUFFER_SIZE).batch(BATCH_SIZE)\n",
        "val_dataset = val_dataset.batch(BATCH_SIZE)\n",
        "test_dataset = test_dataset.batch(BATCH_SIZE)"
      ]
    },
    {
      "cell_type": "code",
      "execution_count": null,
      "metadata": {
        "id": "SusvHbJJN_ey"
      },
      "outputs": [],
      "source": [
        "embedding_dim = 300\n",
        "maxlen = 110\n",
        "max_words = 36000\n",
        "num_tags = len(tags)\n",
        "\n",
        "model = tf.keras.models.Sequential([\n",
        "    tf.keras.layers.Embedding(max_words, embedding_dim, input_length=maxlen),\n",
        "    tf.keras.layers.Bidirectional(tf.keras.layers.LSTM(units=100, activation='tanh', return_sequences=True)),\n",
        "    tf.keras.layers.Bidirectional(tf.keras.layers.LSTM(units=50, activation='tanh', return_sequences=True)),\n",
        "    tf.keras.layers.TimeDistributed(tf.keras.layers.Dense(num_tags, activation='softmax'))\n",
        "])"
      ]
    },
    {
      "cell_type": "code",
      "execution_count": null,
      "metadata": {
        "id": "ACXd6IdMODnW"
      },
      "outputs": [],
      "source": [
        "model.compile(loss='sparse_categorical_crossentropy',\n",
        "              optimizer='adam',\n",
        "              metrics=['accuracy'])"
      ]
    },
    {
      "cell_type": "code",
      "execution_count": null,
      "metadata": {
        "colab": {
          "background_save": true,
          "base_uri": "https://localhost:8080/"
        },
        "id": "mjimE12tOG5C",
        "outputId": "6f83d09d-c13f-439c-fb9c-f9953b608465"
      },
      "outputs": [
        {
          "name": "stdout",
          "output_type": "stream",
          "text": [
            "Epoch 1/15\n",
            "255/255 [==============================] - 357s 1s/step - loss: 0.1977 - accuracy: 0.9658 - val_loss: 0.1157 - val_accuracy: 0.9703\n",
            "Epoch 2/15\n",
            "255/255 [==============================] - 345s 1s/step - loss: 0.1025 - accuracy: 0.9719 - val_loss: 0.0878 - val_accuracy: 0.9748\n",
            "Epoch 3/15\n",
            "255/255 [==============================] - 344s 1s/step - loss: 0.0738 - accuracy: 0.9774 - val_loss: 0.0723 - val_accuracy: 0.9782\n",
            "Epoch 4/15\n",
            "255/255 [==============================] - 342s 1s/step - loss: 0.0590 - accuracy: 0.9808 - val_loss: 0.0676 - val_accuracy: 0.9796\n",
            "Epoch 5/15\n",
            "255/255 [==============================] - 344s 1s/step - loss: 0.0495 - accuracy: 0.9834 - val_loss: 0.0675 - val_accuracy: 0.9801\n",
            "Epoch 6/15\n",
            "255/255 [==============================] - 342s 1s/step - loss: 0.0432 - accuracy: 0.9854 - val_loss: 0.0682 - val_accuracy: 0.9805\n",
            "Epoch 7/15\n",
            "255/255 [==============================] - 343s 1s/step - loss: 0.0386 - accuracy: 0.9869 - val_loss: 0.0693 - val_accuracy: 0.9805\n",
            "Epoch 8/15\n",
            "255/255 [==============================] - 343s 1s/step - loss: 0.0344 - accuracy: 0.9884 - val_loss: 0.0711 - val_accuracy: 0.9803\n",
            "Epoch 9/15\n",
            "255/255 [==============================] - 343s 1s/step - loss: 0.0308 - accuracy: 0.9896 - val_loss: 0.0729 - val_accuracy: 0.9804\n",
            "Epoch 10/15\n",
            "181/255 [====================>.........] - ETA: 1:33 - loss: 0.0278 - accuracy: 0.9907"
          ]
        }
      ],
      "source": [
        "history = model.fit(train_dataset,\n",
        "                    validation_data=val_dataset,\n",
        "                    epochs=15)"
      ]
    },
    {
      "cell_type": "code",
      "execution_count": null,
      "metadata": {
        "colab": {
          "base_uri": "https://localhost:8080/"
        },
        "id": "xB-mUb6-OIX3",
        "outputId": "afad3332-3e86-472b-bcf3-16ea1648d202"
      },
      "outputs": [
        {
          "name": "stdout",
          "output_type": "stream",
          "text": [
            "55/55 [==============================] - 1s 15ms/step - loss: 0.0992 - accuracy: 0.9809\n"
          ]
        },
        {
          "data": {
            "text/plain": [
              "[0.09922036528587341, 0.9808881282806396]"
            ]
          },
          "execution_count": 33,
          "metadata": {},
          "output_type": "execute_result"
        }
      ],
      "source": [
        "model.evaluate(test_dataset)"
      ]
    },
    {
      "cell_type": "code",
      "execution_count": null,
      "metadata": {
        "id": "NpxPvaD4On4y"
      },
      "outputs": [],
      "source": [
        ""
      ]
    }
  ],
  "metadata": {
    "accelerator": "GPU",
    "colab": {
      "name": "Named Entity Recognition (NER) Corpus.ipynb",
      "provenance": []
    },
    "kernelspec": {
      "display_name": "Python 3",
      "name": "python3"
    },
    "language_info": {
      "name": "python"
    }
  },
  "nbformat": 4,
  "nbformat_minor": 0
}