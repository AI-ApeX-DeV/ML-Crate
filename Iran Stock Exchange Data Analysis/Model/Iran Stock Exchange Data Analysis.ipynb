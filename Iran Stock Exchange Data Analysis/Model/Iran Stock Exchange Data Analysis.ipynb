{
 "cells": [
  {
   "cell_type": "markdown",
   "id": "b5331cde-ba38-4475-aac4-6b64425e17e1",
   "metadata": {
    "tags": []
   },
   "source": [
    "# Iran Stock Exchange Data Analysis\n",
    "Aim of the project to analyse the various stocks in Iran Stock Exchange Market."
   ]
  },
  {
   "cell_type": "markdown",
   "id": "438174da-3a93-42fb-ab8a-67a80e7b1db2",
   "metadata": {
    "tags": []
   },
   "source": [
    "# DataSet\n",
    "I have Downloaded this dataset from kaggle website. Here is the link: https://www.kaggle.com/lashkingl/iran-stock-exchange"
   ]
  },
  {
   "cell_type": "markdown",
   "id": "74f18e7e-c44a-4bc1-b4a5-55568f9f2a56",
   "metadata": {},
   "source": [
    "# What are we required to do\n",
    "We have to analyse the various stocks on basis various fields like opening price, closing price, most price etc. and compare each stocks."
   ]
  },
  {
   "cell_type": "markdown",
   "id": "5b77919a-d8ba-42a1-bd59-8aa61ca3e709",
   "metadata": {
    "tags": []
   },
   "source": [
    "# Importing the Required Libraries"
   ]
  },
  {
   "cell_type": "code",
   "execution_count": 1,
   "id": "ad9b622c-d977-47d2-810c-269da7b3bfa5",
   "metadata": {},
   "outputs": [],
   "source": [
    "import numpy as np \n",
    "import pandas as pd \n",
    "import matplotlib.pyplot as plt \n",
    "import seaborn as sns"
   ]
  },
  {
   "cell_type": "code",
   "execution_count": 2,
   "id": "d5acb5a8-814b-43dd-8eec-ff2f29818210",
   "metadata": {},
   "outputs": [],
   "source": [
    "df = pd.read_csv('Iran Stock Exchange.csv')"
   ]
  },
  {
   "cell_type": "code",
   "execution_count": 3,
   "id": "49d851e3-4f6a-4132-ac48-1bfa0c9e50fb",
   "metadata": {},
   "outputs": [
    {
     "data": {
      "text/html": [
       "<div>\n",
       "<style scoped>\n",
       "    .dataframe tbody tr th:only-of-type {\n",
       "        vertical-align: middle;\n",
       "    }\n",
       "\n",
       "    .dataframe tbody tr th {\n",
       "        vertical-align: top;\n",
       "    }\n",
       "\n",
       "    .dataframe thead th {\n",
       "        text-align: right;\n",
       "    }\n",
       "</style>\n",
       "<table border=\"1\" class=\"dataframe\">\n",
       "  <thead>\n",
       "    <tr style=\"text-align: right;\">\n",
       "      <th></th>\n",
       "      <th>Ticker</th>\n",
       "      <th>Date</th>\n",
       "      <th>TIME</th>\n",
       "      <th>Open</th>\n",
       "      <th>High</th>\n",
       "      <th>Low</th>\n",
       "      <th>Close</th>\n",
       "      <th>Vol</th>\n",
       "      <th>Openint</th>\n",
       "    </tr>\n",
       "  </thead>\n",
       "  <tbody>\n",
       "    <tr>\n",
       "      <th>0</th>\n",
       "      <td>ABFAR_Share</td>\n",
       "      <td>20060227</td>\n",
       "      <td>0</td>\n",
       "      <td>867.65</td>\n",
       "      <td>867.65</td>\n",
       "      <td>867.65</td>\n",
       "      <td>867.65</td>\n",
       "      <td>100</td>\n",
       "      <td>1000</td>\n",
       "    </tr>\n",
       "    <tr>\n",
       "      <th>1</th>\n",
       "      <td>ABFAR_Share</td>\n",
       "      <td>20060228</td>\n",
       "      <td>0</td>\n",
       "      <td>867.65</td>\n",
       "      <td>885.00</td>\n",
       "      <td>850.29</td>\n",
       "      <td>864.18</td>\n",
       "      <td>5710</td>\n",
       "      <td>996</td>\n",
       "    </tr>\n",
       "    <tr>\n",
       "      <th>2</th>\n",
       "      <td>ABFAR_Share</td>\n",
       "      <td>20060430</td>\n",
       "      <td>0</td>\n",
       "      <td>847.69</td>\n",
       "      <td>847.69</td>\n",
       "      <td>847.69</td>\n",
       "      <td>847.69</td>\n",
       "      <td>13500</td>\n",
       "      <td>977</td>\n",
       "    </tr>\n",
       "    <tr>\n",
       "      <th>3</th>\n",
       "      <td>ABFAR_Share</td>\n",
       "      <td>20060501</td>\n",
       "      <td>0</td>\n",
       "      <td>831.21</td>\n",
       "      <td>831.21</td>\n",
       "      <td>831.21</td>\n",
       "      <td>831.21</td>\n",
       "      <td>13500</td>\n",
       "      <td>958</td>\n",
       "    </tr>\n",
       "    <tr>\n",
       "      <th>4</th>\n",
       "      <td>ABFAR_Share</td>\n",
       "      <td>20060502</td>\n",
       "      <td>0</td>\n",
       "      <td>814.72</td>\n",
       "      <td>814.72</td>\n",
       "      <td>814.72</td>\n",
       "      <td>814.72</td>\n",
       "      <td>13500</td>\n",
       "      <td>939</td>\n",
       "    </tr>\n",
       "  </tbody>\n",
       "</table>\n",
       "</div>"
      ],
      "text/plain": [
       "        Ticker      Date  TIME    Open    High     Low   Close    Vol  Openint\n",
       "0  ABFAR_Share  20060227     0  867.65  867.65  867.65  867.65    100     1000\n",
       "1  ABFAR_Share  20060228     0  867.65  885.00  850.29  864.18   5710      996\n",
       "2  ABFAR_Share  20060430     0  847.69  847.69  847.69  847.69  13500      977\n",
       "3  ABFAR_Share  20060501     0  831.21  831.21  831.21  831.21  13500      958\n",
       "4  ABFAR_Share  20060502     0  814.72  814.72  814.72  814.72  13500      939"
      ]
     },
     "execution_count": 3,
     "metadata": {},
     "output_type": "execute_result"
    }
   ],
   "source": [
    "df.head()"
   ]
  },
  {
   "cell_type": "code",
   "execution_count": 4,
   "id": "3d30ac94-316b-4e0d-bdb5-7582a8fc0101",
   "metadata": {},
   "outputs": [
    {
     "data": {
      "text/html": [
       "<div>\n",
       "<style scoped>\n",
       "    .dataframe tbody tr th:only-of-type {\n",
       "        vertical-align: middle;\n",
       "    }\n",
       "\n",
       "    .dataframe tbody tr th {\n",
       "        vertical-align: top;\n",
       "    }\n",
       "\n",
       "    .dataframe thead th {\n",
       "        text-align: right;\n",
       "    }\n",
       "</style>\n",
       "<table border=\"1\" class=\"dataframe\">\n",
       "  <thead>\n",
       "    <tr style=\"text-align: right;\">\n",
       "      <th></th>\n",
       "      <th>Ticker</th>\n",
       "      <th>Date</th>\n",
       "      <th>TIME</th>\n",
       "      <th>Open</th>\n",
       "      <th>High</th>\n",
       "      <th>Low</th>\n",
       "      <th>Close</th>\n",
       "      <th>Vol</th>\n",
       "      <th>Openint</th>\n",
       "    </tr>\n",
       "  </thead>\n",
       "  <tbody>\n",
       "    <tr>\n",
       "      <th>1028172</th>\n",
       "      <td>ZOB_Share</td>\n",
       "      <td>20200523</td>\n",
       "      <td>0</td>\n",
       "      <td>5698.0</td>\n",
       "      <td>5896.0</td>\n",
       "      <td>5698.0</td>\n",
       "      <td>5698.0</td>\n",
       "      <td>320475784</td>\n",
       "      <td>5713</td>\n",
       "    </tr>\n",
       "    <tr>\n",
       "      <th>1028173</th>\n",
       "      <td>ZOB_Share</td>\n",
       "      <td>20200526</td>\n",
       "      <td>0</td>\n",
       "      <td>5430.0</td>\n",
       "      <td>5662.0</td>\n",
       "      <td>5428.0</td>\n",
       "      <td>5428.0</td>\n",
       "      <td>155613030</td>\n",
       "      <td>5462</td>\n",
       "    </tr>\n",
       "    <tr>\n",
       "      <th>1028174</th>\n",
       "      <td>ZOB_Share</td>\n",
       "      <td>20200527</td>\n",
       "      <td>0</td>\n",
       "      <td>5189.0</td>\n",
       "      <td>5630.0</td>\n",
       "      <td>5189.0</td>\n",
       "      <td>5500.0</td>\n",
       "      <td>457796535</td>\n",
       "      <td>5364</td>\n",
       "    </tr>\n",
       "    <tr>\n",
       "      <th>1028175</th>\n",
       "      <td>ZOB_Share</td>\n",
       "      <td>20200530</td>\n",
       "      <td>0</td>\n",
       "      <td>5632.0</td>\n",
       "      <td>5632.0</td>\n",
       "      <td>5533.0</td>\n",
       "      <td>5632.0</td>\n",
       "      <td>78834060</td>\n",
       "      <td>5627</td>\n",
       "    </tr>\n",
       "    <tr>\n",
       "      <th>1028176</th>\n",
       "      <td>ZOB_Share</td>\n",
       "      <td>20200531</td>\n",
       "      <td>0</td>\n",
       "      <td>5869.0</td>\n",
       "      <td>5869.0</td>\n",
       "      <td>5346.0</td>\n",
       "      <td>5452.0</td>\n",
       "      <td>258546715</td>\n",
       "      <td>5587</td>\n",
       "    </tr>\n",
       "  </tbody>\n",
       "</table>\n",
       "</div>"
      ],
      "text/plain": [
       "            Ticker      Date  TIME    Open    High     Low   Close        Vol  \\\n",
       "1028172  ZOB_Share  20200523     0  5698.0  5896.0  5698.0  5698.0  320475784   \n",
       "1028173  ZOB_Share  20200526     0  5430.0  5662.0  5428.0  5428.0  155613030   \n",
       "1028174  ZOB_Share  20200527     0  5189.0  5630.0  5189.0  5500.0  457796535   \n",
       "1028175  ZOB_Share  20200530     0  5632.0  5632.0  5533.0  5632.0   78834060   \n",
       "1028176  ZOB_Share  20200531     0  5869.0  5869.0  5346.0  5452.0  258546715   \n",
       "\n",
       "         Openint  \n",
       "1028172     5713  \n",
       "1028173     5462  \n",
       "1028174     5364  \n",
       "1028175     5627  \n",
       "1028176     5587  "
      ]
     },
     "execution_count": 4,
     "metadata": {},
     "output_type": "execute_result"
    }
   ],
   "source": [
    "df.tail()"
   ]
  },
  {
   "cell_type": "code",
   "execution_count": 5,
   "id": "cfa28611-992f-4e8e-bac9-e8350a18406c",
   "metadata": {},
   "outputs": [
    {
     "data": {
      "text/plain": [
       "(1028177, 9)"
      ]
     },
     "execution_count": 5,
     "metadata": {},
     "output_type": "execute_result"
    }
   ],
   "source": [
    "df.shape"
   ]
  },
  {
   "cell_type": "code",
   "execution_count": 6,
   "id": "a2afe32c-ab20-4010-9bdd-4a3c1a4cca5f",
   "metadata": {},
   "outputs": [
    {
     "name": "stdout",
     "output_type": "stream",
     "text": [
      "<class 'pandas.core.frame.DataFrame'>\n",
      "RangeIndex: 1028177 entries, 0 to 1028176\n",
      "Data columns (total 9 columns):\n",
      " #   Column   Non-Null Count    Dtype  \n",
      "---  ------   --------------    -----  \n",
      " 0   Ticker   1028177 non-null  object \n",
      " 1   Date     1028177 non-null  int64  \n",
      " 2   TIME     1028177 non-null  int64  \n",
      " 3   Open     1028176 non-null  float64\n",
      " 4   High     1028176 non-null  float64\n",
      " 5   Low      1028176 non-null  float64\n",
      " 6   Close    1028176 non-null  float64\n",
      " 7   Vol      1028177 non-null  int64  \n",
      " 8   Openint  1028177 non-null  int64  \n",
      "dtypes: float64(4), int64(4), object(1)\n",
      "memory usage: 70.6+ MB\n"
     ]
    }
   ],
   "source": [
    "df.info()"
   ]
  },
  {
   "cell_type": "code",
   "execution_count": 7,
   "id": "61017c14-e37b-4aff-a966-8ebf85600a0e",
   "metadata": {},
   "outputs": [
    {
     "data": {
      "text/html": [
       "<div>\n",
       "<style scoped>\n",
       "    .dataframe tbody tr th:only-of-type {\n",
       "        vertical-align: middle;\n",
       "    }\n",
       "\n",
       "    .dataframe tbody tr th {\n",
       "        vertical-align: top;\n",
       "    }\n",
       "\n",
       "    .dataframe thead th {\n",
       "        text-align: right;\n",
       "    }\n",
       "</style>\n",
       "<table border=\"1\" class=\"dataframe\">\n",
       "  <thead>\n",
       "    <tr style=\"text-align: right;\">\n",
       "      <th></th>\n",
       "      <th>Date</th>\n",
       "      <th>TIME</th>\n",
       "      <th>Open</th>\n",
       "      <th>High</th>\n",
       "      <th>Low</th>\n",
       "      <th>Close</th>\n",
       "      <th>Vol</th>\n",
       "      <th>Openint</th>\n",
       "    </tr>\n",
       "  </thead>\n",
       "  <tbody>\n",
       "    <tr>\n",
       "      <th>count</th>\n",
       "      <td>1.028177e+06</td>\n",
       "      <td>1028177.0</td>\n",
       "      <td>1.028176e+06</td>\n",
       "      <td>1.028176e+06</td>\n",
       "      <td>1.028176e+06</td>\n",
       "      <td>1.028176e+06</td>\n",
       "      <td>1.028177e+06</td>\n",
       "      <td>1.028177e+06</td>\n",
       "    </tr>\n",
       "    <tr>\n",
       "      <th>mean</th>\n",
       "      <td>2.014489e+07</td>\n",
       "      <td>0.0</td>\n",
       "      <td>3.844168e+03</td>\n",
       "      <td>3.908089e+03</td>\n",
       "      <td>3.756180e+03</td>\n",
       "      <td>3.831999e+03</td>\n",
       "      <td>3.501391e+06</td>\n",
       "      <td>6.946604e+03</td>\n",
       "    </tr>\n",
       "    <tr>\n",
       "      <th>std</th>\n",
       "      <td>4.019841e+04</td>\n",
       "      <td>0.0</td>\n",
       "      <td>9.525549e+03</td>\n",
       "      <td>9.675326e+03</td>\n",
       "      <td>9.286190e+03</td>\n",
       "      <td>9.484655e+03</td>\n",
       "      <td>2.963416e+07</td>\n",
       "      <td>1.590767e+04</td>\n",
       "    </tr>\n",
       "    <tr>\n",
       "      <th>min</th>\n",
       "      <td>2.005060e+07</td>\n",
       "      <td>0.0</td>\n",
       "      <td>-3.990780e+03</td>\n",
       "      <td>-4.088000e+03</td>\n",
       "      <td>-3.973660e+03</td>\n",
       "      <td>-4.031140e+03</td>\n",
       "      <td>0.000000e+00</td>\n",
       "      <td>1.000000e+00</td>\n",
       "    </tr>\n",
       "    <tr>\n",
       "      <th>25%</th>\n",
       "      <td>2.012030e+07</td>\n",
       "      <td>0.0</td>\n",
       "      <td>4.819200e+02</td>\n",
       "      <td>4.881375e+02</td>\n",
       "      <td>4.755800e+02</td>\n",
       "      <td>4.818200e+02</td>\n",
       "      <td>3.501000e+04</td>\n",
       "      <td>1.736000e+03</td>\n",
       "    </tr>\n",
       "    <tr>\n",
       "      <th>50%</th>\n",
       "      <td>2.015083e+07</td>\n",
       "      <td>0.0</td>\n",
       "      <td>1.225505e+03</td>\n",
       "      <td>1.245425e+03</td>\n",
       "      <td>1.203330e+03</td>\n",
       "      <td>1.222975e+03</td>\n",
       "      <td>2.508050e+05</td>\n",
       "      <td>3.284000e+03</td>\n",
       "    </tr>\n",
       "    <tr>\n",
       "      <th>75%</th>\n",
       "      <td>2.018043e+07</td>\n",
       "      <td>0.0</td>\n",
       "      <td>3.000000e+03</td>\n",
       "      <td>3.050000e+03</td>\n",
       "      <td>2.938985e+03</td>\n",
       "      <td>2.993278e+03</td>\n",
       "      <td>1.418778e+06</td>\n",
       "      <td>7.261000e+03</td>\n",
       "    </tr>\n",
       "    <tr>\n",
       "      <th>max</th>\n",
       "      <td>2.020053e+07</td>\n",
       "      <td>0.0</td>\n",
       "      <td>2.601060e+05</td>\n",
       "      <td>2.601060e+05</td>\n",
       "      <td>2.601060e+05</td>\n",
       "      <td>2.601060e+05</td>\n",
       "      <td>6.699987e+09</td>\n",
       "      <td>1.271485e+06</td>\n",
       "    </tr>\n",
       "  </tbody>\n",
       "</table>\n",
       "</div>"
      ],
      "text/plain": [
       "               Date       TIME          Open          High           Low  \\\n",
       "count  1.028177e+06  1028177.0  1.028176e+06  1.028176e+06  1.028176e+06   \n",
       "mean   2.014489e+07        0.0  3.844168e+03  3.908089e+03  3.756180e+03   \n",
       "std    4.019841e+04        0.0  9.525549e+03  9.675326e+03  9.286190e+03   \n",
       "min    2.005060e+07        0.0 -3.990780e+03 -4.088000e+03 -3.973660e+03   \n",
       "25%    2.012030e+07        0.0  4.819200e+02  4.881375e+02  4.755800e+02   \n",
       "50%    2.015083e+07        0.0  1.225505e+03  1.245425e+03  1.203330e+03   \n",
       "75%    2.018043e+07        0.0  3.000000e+03  3.050000e+03  2.938985e+03   \n",
       "max    2.020053e+07        0.0  2.601060e+05  2.601060e+05  2.601060e+05   \n",
       "\n",
       "              Close           Vol       Openint  \n",
       "count  1.028176e+06  1.028177e+06  1.028177e+06  \n",
       "mean   3.831999e+03  3.501391e+06  6.946604e+03  \n",
       "std    9.484655e+03  2.963416e+07  1.590767e+04  \n",
       "min   -4.031140e+03  0.000000e+00  1.000000e+00  \n",
       "25%    4.818200e+02  3.501000e+04  1.736000e+03  \n",
       "50%    1.222975e+03  2.508050e+05  3.284000e+03  \n",
       "75%    2.993278e+03  1.418778e+06  7.261000e+03  \n",
       "max    2.601060e+05  6.699987e+09  1.271485e+06  "
      ]
     },
     "execution_count": 7,
     "metadata": {},
     "output_type": "execute_result"
    }
   ],
   "source": [
    "df.describe()"
   ]
  },
  {
   "cell_type": "code",
   "execution_count": 8,
   "id": "b529b225-276e-4b50-8ca9-ef572ddaa2a6",
   "metadata": {},
   "outputs": [
    {
     "data": {
      "text/plain": [
       "Ticker     0\n",
       "Date       0\n",
       "TIME       0\n",
       "Open       1\n",
       "High       1\n",
       "Low        1\n",
       "Close      1\n",
       "Vol        0\n",
       "Openint    0\n",
       "dtype: int64"
      ]
     },
     "execution_count": 8,
     "metadata": {},
     "output_type": "execute_result"
    }
   ],
   "source": [
    "df.isna().sum()"
   ]
  },
  {
   "cell_type": "markdown",
   "id": "1354c52d-75d9-4951-893a-c1483aa2deff",
   "metadata": {
    "tags": []
   },
   "source": [
    "# Droping all missing values from your original dataset"
   ]
  },
  {
   "cell_type": "code",
   "execution_count": 9,
   "id": "d5c1479a-4341-4fec-a04b-77a79e4b9327",
   "metadata": {},
   "outputs": [],
   "source": [
    "df.dropna(inplace=True)"
   ]
  },
  {
   "cell_type": "code",
   "execution_count": 10,
   "id": "bc2eca3e-30aa-4452-a2a4-9528f589bb6e",
   "metadata": {},
   "outputs": [
    {
     "data": {
      "text/html": [
       "<div>\n",
       "<style scoped>\n",
       "    .dataframe tbody tr th:only-of-type {\n",
       "        vertical-align: middle;\n",
       "    }\n",
       "\n",
       "    .dataframe tbody tr th {\n",
       "        vertical-align: top;\n",
       "    }\n",
       "\n",
       "    .dataframe thead th {\n",
       "        text-align: right;\n",
       "    }\n",
       "</style>\n",
       "<table border=\"1\" class=\"dataframe\">\n",
       "  <thead>\n",
       "    <tr style=\"text-align: right;\">\n",
       "      <th></th>\n",
       "      <th>Ticker</th>\n",
       "      <th>Date</th>\n",
       "      <th>TIME</th>\n",
       "      <th>Open</th>\n",
       "      <th>High</th>\n",
       "      <th>Low</th>\n",
       "      <th>Close</th>\n",
       "      <th>Vol</th>\n",
       "      <th>Openint</th>\n",
       "    </tr>\n",
       "  </thead>\n",
       "  <tbody>\n",
       "    <tr>\n",
       "      <th>0</th>\n",
       "      <td>ABFAR_Share</td>\n",
       "      <td>20060227</td>\n",
       "      <td>0</td>\n",
       "      <td>867.65</td>\n",
       "      <td>867.65</td>\n",
       "      <td>867.65</td>\n",
       "      <td>867.65</td>\n",
       "      <td>100</td>\n",
       "      <td>1000</td>\n",
       "    </tr>\n",
       "    <tr>\n",
       "      <th>1</th>\n",
       "      <td>ABFAR_Share</td>\n",
       "      <td>20060228</td>\n",
       "      <td>0</td>\n",
       "      <td>867.65</td>\n",
       "      <td>885.00</td>\n",
       "      <td>850.29</td>\n",
       "      <td>864.18</td>\n",
       "      <td>5710</td>\n",
       "      <td>996</td>\n",
       "    </tr>\n",
       "    <tr>\n",
       "      <th>2</th>\n",
       "      <td>ABFAR_Share</td>\n",
       "      <td>20060430</td>\n",
       "      <td>0</td>\n",
       "      <td>847.69</td>\n",
       "      <td>847.69</td>\n",
       "      <td>847.69</td>\n",
       "      <td>847.69</td>\n",
       "      <td>13500</td>\n",
       "      <td>977</td>\n",
       "    </tr>\n",
       "    <tr>\n",
       "      <th>3</th>\n",
       "      <td>ABFAR_Share</td>\n",
       "      <td>20060501</td>\n",
       "      <td>0</td>\n",
       "      <td>831.21</td>\n",
       "      <td>831.21</td>\n",
       "      <td>831.21</td>\n",
       "      <td>831.21</td>\n",
       "      <td>13500</td>\n",
       "      <td>958</td>\n",
       "    </tr>\n",
       "    <tr>\n",
       "      <th>4</th>\n",
       "      <td>ABFAR_Share</td>\n",
       "      <td>20060502</td>\n",
       "      <td>0</td>\n",
       "      <td>814.72</td>\n",
       "      <td>814.72</td>\n",
       "      <td>814.72</td>\n",
       "      <td>814.72</td>\n",
       "      <td>13500</td>\n",
       "      <td>939</td>\n",
       "    </tr>\n",
       "  </tbody>\n",
       "</table>\n",
       "</div>"
      ],
      "text/plain": [
       "        Ticker      Date  TIME    Open    High     Low   Close    Vol  Openint\n",
       "0  ABFAR_Share  20060227     0  867.65  867.65  867.65  867.65    100     1000\n",
       "1  ABFAR_Share  20060228     0  867.65  885.00  850.29  864.18   5710      996\n",
       "2  ABFAR_Share  20060430     0  847.69  847.69  847.69  847.69  13500      977\n",
       "3  ABFAR_Share  20060501     0  831.21  831.21  831.21  831.21  13500      958\n",
       "4  ABFAR_Share  20060502     0  814.72  814.72  814.72  814.72  13500      939"
      ]
     },
     "execution_count": 10,
     "metadata": {},
     "output_type": "execute_result"
    }
   ],
   "source": [
    "Date=[int(x) for x in df.Date]\n",
    "df['Date']=Date\n",
    "df.head()"
   ]
  },
  {
   "cell_type": "markdown",
   "id": "1b020fd2-758a-4973-8ce8-cdf5be02400f",
   "metadata": {
    "tags": []
   },
   "source": [
    "# Changing the format of Date in [YYYY/MM/DD]."
   ]
  },
  {
   "cell_type": "code",
   "execution_count": 11,
   "id": "9c2f13b4-6bc0-4c8b-8c49-f7ea72cec5a8",
   "metadata": {},
   "outputs": [],
   "source": [
    "df['Date'] = pd.to_datetime(df['Date'], format='%Y%m%d')"
   ]
  },
  {
   "cell_type": "code",
   "execution_count": 12,
   "id": "e0e13861-d8f2-47f7-9b02-b33493921297",
   "metadata": {},
   "outputs": [
    {
     "data": {
      "text/html": [
       "<div>\n",
       "<style scoped>\n",
       "    .dataframe tbody tr th:only-of-type {\n",
       "        vertical-align: middle;\n",
       "    }\n",
       "\n",
       "    .dataframe tbody tr th {\n",
       "        vertical-align: top;\n",
       "    }\n",
       "\n",
       "    .dataframe thead th {\n",
       "        text-align: right;\n",
       "    }\n",
       "</style>\n",
       "<table border=\"1\" class=\"dataframe\">\n",
       "  <thead>\n",
       "    <tr style=\"text-align: right;\">\n",
       "      <th></th>\n",
       "      <th>Ticker</th>\n",
       "      <th>Date</th>\n",
       "      <th>TIME</th>\n",
       "      <th>Open</th>\n",
       "      <th>High</th>\n",
       "      <th>Low</th>\n",
       "      <th>Close</th>\n",
       "      <th>Vol</th>\n",
       "      <th>Openint</th>\n",
       "    </tr>\n",
       "  </thead>\n",
       "  <tbody>\n",
       "    <tr>\n",
       "      <th>0</th>\n",
       "      <td>ABFAR_Share</td>\n",
       "      <td>2006-02-27</td>\n",
       "      <td>0</td>\n",
       "      <td>867.65</td>\n",
       "      <td>867.65</td>\n",
       "      <td>867.65</td>\n",
       "      <td>867.65</td>\n",
       "      <td>100</td>\n",
       "      <td>1000</td>\n",
       "    </tr>\n",
       "    <tr>\n",
       "      <th>1</th>\n",
       "      <td>ABFAR_Share</td>\n",
       "      <td>2006-02-28</td>\n",
       "      <td>0</td>\n",
       "      <td>867.65</td>\n",
       "      <td>885.00</td>\n",
       "      <td>850.29</td>\n",
       "      <td>864.18</td>\n",
       "      <td>5710</td>\n",
       "      <td>996</td>\n",
       "    </tr>\n",
       "    <tr>\n",
       "      <th>2</th>\n",
       "      <td>ABFAR_Share</td>\n",
       "      <td>2006-04-30</td>\n",
       "      <td>0</td>\n",
       "      <td>847.69</td>\n",
       "      <td>847.69</td>\n",
       "      <td>847.69</td>\n",
       "      <td>847.69</td>\n",
       "      <td>13500</td>\n",
       "      <td>977</td>\n",
       "    </tr>\n",
       "    <tr>\n",
       "      <th>3</th>\n",
       "      <td>ABFAR_Share</td>\n",
       "      <td>2006-05-01</td>\n",
       "      <td>0</td>\n",
       "      <td>831.21</td>\n",
       "      <td>831.21</td>\n",
       "      <td>831.21</td>\n",
       "      <td>831.21</td>\n",
       "      <td>13500</td>\n",
       "      <td>958</td>\n",
       "    </tr>\n",
       "    <tr>\n",
       "      <th>4</th>\n",
       "      <td>ABFAR_Share</td>\n",
       "      <td>2006-05-02</td>\n",
       "      <td>0</td>\n",
       "      <td>814.72</td>\n",
       "      <td>814.72</td>\n",
       "      <td>814.72</td>\n",
       "      <td>814.72</td>\n",
       "      <td>13500</td>\n",
       "      <td>939</td>\n",
       "    </tr>\n",
       "  </tbody>\n",
       "</table>\n",
       "</div>"
      ],
      "text/plain": [
       "        Ticker       Date  TIME    Open    High     Low   Close    Vol  \\\n",
       "0  ABFAR_Share 2006-02-27     0  867.65  867.65  867.65  867.65    100   \n",
       "1  ABFAR_Share 2006-02-28     0  867.65  885.00  850.29  864.18   5710   \n",
       "2  ABFAR_Share 2006-04-30     0  847.69  847.69  847.69  847.69  13500   \n",
       "3  ABFAR_Share 2006-05-01     0  831.21  831.21  831.21  831.21  13500   \n",
       "4  ABFAR_Share 2006-05-02     0  814.72  814.72  814.72  814.72  13500   \n",
       "\n",
       "   Openint  \n",
       "0     1000  \n",
       "1      996  \n",
       "2      977  \n",
       "3      958  \n",
       "4      939  "
      ]
     },
     "execution_count": 12,
     "metadata": {},
     "output_type": "execute_result"
    }
   ],
   "source": [
    "df.head()"
   ]
  },
  {
   "cell_type": "code",
   "execution_count": 13,
   "id": "748a1a73-e7c0-4352-b198-c2ce7d5de5f0",
   "metadata": {},
   "outputs": [
    {
     "data": {
      "text/plain": [
       "Ticker     0\n",
       "Date       0\n",
       "TIME       0\n",
       "Open       0\n",
       "High       0\n",
       "Low        0\n",
       "Close      0\n",
       "Vol        0\n",
       "Openint    0\n",
       "dtype: int64"
      ]
     },
     "execution_count": 13,
     "metadata": {},
     "output_type": "execute_result"
    }
   ],
   "source": [
    "df.isna().sum()"
   ]
  },
  {
   "cell_type": "markdown",
   "id": "be841750-c7c3-4e38-8f0e-0c01ba15cd90",
   "metadata": {
    "tags": []
   },
   "source": [
    "# Working with ABFAR_SHARE"
   ]
  },
  {
   "cell_type": "code",
   "execution_count": 20,
   "id": "a138ed8c-b35c-467d-8945-2d8f8f561a17",
   "metadata": {},
   "outputs": [],
   "source": [
    "abfar=df[df.Ticker==\"ABFAR_Share\"]"
   ]
  },
  {
   "cell_type": "code",
   "execution_count": 21,
   "id": "936f3797-45cf-4d02-856d-1c4ce4583a25",
   "metadata": {},
   "outputs": [
    {
     "data": {
      "text/html": [
       "<div>\n",
       "<style scoped>\n",
       "    .dataframe tbody tr th:only-of-type {\n",
       "        vertical-align: middle;\n",
       "    }\n",
       "\n",
       "    .dataframe tbody tr th {\n",
       "        vertical-align: top;\n",
       "    }\n",
       "\n",
       "    .dataframe thead th {\n",
       "        text-align: right;\n",
       "    }\n",
       "</style>\n",
       "<table border=\"1\" class=\"dataframe\">\n",
       "  <thead>\n",
       "    <tr style=\"text-align: right;\">\n",
       "      <th></th>\n",
       "      <th>Ticker</th>\n",
       "      <th>Date</th>\n",
       "      <th>TIME</th>\n",
       "      <th>Open</th>\n",
       "      <th>High</th>\n",
       "      <th>Low</th>\n",
       "      <th>Close</th>\n",
       "      <th>Vol</th>\n",
       "      <th>Openint</th>\n",
       "    </tr>\n",
       "  </thead>\n",
       "  <tbody>\n",
       "    <tr>\n",
       "      <th>0</th>\n",
       "      <td>ABFAR_Share</td>\n",
       "      <td>2006-02-27</td>\n",
       "      <td>0</td>\n",
       "      <td>867.65</td>\n",
       "      <td>867.65</td>\n",
       "      <td>867.65</td>\n",
       "      <td>867.65</td>\n",
       "      <td>100</td>\n",
       "      <td>1000</td>\n",
       "    </tr>\n",
       "    <tr>\n",
       "      <th>1</th>\n",
       "      <td>ABFAR_Share</td>\n",
       "      <td>2006-02-28</td>\n",
       "      <td>0</td>\n",
       "      <td>867.65</td>\n",
       "      <td>885.00</td>\n",
       "      <td>850.29</td>\n",
       "      <td>864.18</td>\n",
       "      <td>5710</td>\n",
       "      <td>996</td>\n",
       "    </tr>\n",
       "    <tr>\n",
       "      <th>2</th>\n",
       "      <td>ABFAR_Share</td>\n",
       "      <td>2006-04-30</td>\n",
       "      <td>0</td>\n",
       "      <td>847.69</td>\n",
       "      <td>847.69</td>\n",
       "      <td>847.69</td>\n",
       "      <td>847.69</td>\n",
       "      <td>13500</td>\n",
       "      <td>977</td>\n",
       "    </tr>\n",
       "    <tr>\n",
       "      <th>3</th>\n",
       "      <td>ABFAR_Share</td>\n",
       "      <td>2006-05-01</td>\n",
       "      <td>0</td>\n",
       "      <td>831.21</td>\n",
       "      <td>831.21</td>\n",
       "      <td>831.21</td>\n",
       "      <td>831.21</td>\n",
       "      <td>13500</td>\n",
       "      <td>958</td>\n",
       "    </tr>\n",
       "    <tr>\n",
       "      <th>4</th>\n",
       "      <td>ABFAR_Share</td>\n",
       "      <td>2006-05-02</td>\n",
       "      <td>0</td>\n",
       "      <td>814.72</td>\n",
       "      <td>814.72</td>\n",
       "      <td>814.72</td>\n",
       "      <td>814.72</td>\n",
       "      <td>13500</td>\n",
       "      <td>939</td>\n",
       "    </tr>\n",
       "  </tbody>\n",
       "</table>\n",
       "</div>"
      ],
      "text/plain": [
       "        Ticker       Date  TIME    Open    High     Low   Close    Vol  \\\n",
       "0  ABFAR_Share 2006-02-27     0  867.65  867.65  867.65  867.65    100   \n",
       "1  ABFAR_Share 2006-02-28     0  867.65  885.00  850.29  864.18   5710   \n",
       "2  ABFAR_Share 2006-04-30     0  847.69  847.69  847.69  847.69  13500   \n",
       "3  ABFAR_Share 2006-05-01     0  831.21  831.21  831.21  831.21  13500   \n",
       "4  ABFAR_Share 2006-05-02     0  814.72  814.72  814.72  814.72  13500   \n",
       "\n",
       "   Openint  \n",
       "0     1000  \n",
       "1      996  \n",
       "2      977  \n",
       "3      958  \n",
       "4      939  "
      ]
     },
     "execution_count": 21,
     "metadata": {},
     "output_type": "execute_result"
    }
   ],
   "source": [
    "abfar.head()"
   ]
  },
  {
   "cell_type": "code",
   "execution_count": 22,
   "id": "7cc56be4-471d-413d-9c20-ad39e832d4ea",
   "metadata": {},
   "outputs": [],
   "source": [
    "abfar.reset_index(drop=True,inplace=True)"
   ]
  },
  {
   "cell_type": "code",
   "execution_count": 23,
   "id": "0819a773-9ac3-45a2-89ba-e9c4ba60072f",
   "metadata": {},
   "outputs": [
    {
     "name": "stdout",
     "output_type": "stream",
     "text": [
      "<class 'pandas.core.frame.DataFrame'>\n",
      "RangeIndex: 32 entries, 0 to 31\n",
      "Data columns (total 9 columns):\n",
      " #   Column   Non-Null Count  Dtype         \n",
      "---  ------   --------------  -----         \n",
      " 0   Ticker   32 non-null     object        \n",
      " 1   Date     32 non-null     datetime64[ns]\n",
      " 2   TIME     32 non-null     int64         \n",
      " 3   Open     32 non-null     float64       \n",
      " 4   High     32 non-null     float64       \n",
      " 5   Low      32 non-null     float64       \n",
      " 6   Close    32 non-null     float64       \n",
      " 7   Vol      32 non-null     int64         \n",
      " 8   Openint  32 non-null     int64         \n",
      "dtypes: datetime64[ns](1), float64(4), int64(3), object(1)\n",
      "memory usage: 2.4+ KB\n"
     ]
    }
   ],
   "source": [
    "abfar.info()"
   ]
  },
  {
   "cell_type": "code",
   "execution_count": 24,
   "id": "8d046c24-f77c-43ad-8738-1ec47bcaae3b",
   "metadata": {},
   "outputs": [
    {
     "data": {
      "text/html": [
       "<div>\n",
       "<style scoped>\n",
       "    .dataframe tbody tr th:only-of-type {\n",
       "        vertical-align: middle;\n",
       "    }\n",
       "\n",
       "    .dataframe tbody tr th {\n",
       "        vertical-align: top;\n",
       "    }\n",
       "\n",
       "    .dataframe thead th {\n",
       "        text-align: right;\n",
       "    }\n",
       "</style>\n",
       "<table border=\"1\" class=\"dataframe\">\n",
       "  <thead>\n",
       "    <tr style=\"text-align: right;\">\n",
       "      <th></th>\n",
       "      <th>TIME</th>\n",
       "      <th>Open</th>\n",
       "      <th>High</th>\n",
       "      <th>Low</th>\n",
       "      <th>Close</th>\n",
       "      <th>Vol</th>\n",
       "      <th>Openint</th>\n",
       "    </tr>\n",
       "  </thead>\n",
       "  <tbody>\n",
       "    <tr>\n",
       "      <th>count</th>\n",
       "      <td>32.0</td>\n",
       "      <td>32.000000</td>\n",
       "      <td>32.000000</td>\n",
       "      <td>32.000000</td>\n",
       "      <td>32.000000</td>\n",
       "      <td>3.200000e+01</td>\n",
       "      <td>32.000000</td>\n",
       "    </tr>\n",
       "    <tr>\n",
       "      <th>mean</th>\n",
       "      <td>0.0</td>\n",
       "      <td>870.494687</td>\n",
       "      <td>872.500937</td>\n",
       "      <td>863.200625</td>\n",
       "      <td>864.638125</td>\n",
       "      <td>2.579723e+05</td>\n",
       "      <td>990.906250</td>\n",
       "    </tr>\n",
       "    <tr>\n",
       "      <th>std</th>\n",
       "      <td>0.0</td>\n",
       "      <td>77.091470</td>\n",
       "      <td>75.387115</td>\n",
       "      <td>74.525485</td>\n",
       "      <td>74.551960</td>\n",
       "      <td>1.311023e+06</td>\n",
       "      <td>64.611174</td>\n",
       "    </tr>\n",
       "    <tr>\n",
       "      <th>min</th>\n",
       "      <td>0.0</td>\n",
       "      <td>767.870000</td>\n",
       "      <td>783.490000</td>\n",
       "      <td>767.870000</td>\n",
       "      <td>770.470000</td>\n",
       "      <td>1.000000e+02</td>\n",
       "      <td>888.000000</td>\n",
       "    </tr>\n",
       "    <tr>\n",
       "      <th>25%</th>\n",
       "      <td>0.0</td>\n",
       "      <td>817.322500</td>\n",
       "      <td>817.322500</td>\n",
       "      <td>817.322500</td>\n",
       "      <td>817.322500</td>\n",
       "      <td>3.047750e+03</td>\n",
       "      <td>942.000000</td>\n",
       "    </tr>\n",
       "    <tr>\n",
       "      <th>50%</th>\n",
       "      <td>0.0</td>\n",
       "      <td>867.650000</td>\n",
       "      <td>868.950000</td>\n",
       "      <td>854.630000</td>\n",
       "      <td>861.575000</td>\n",
       "      <td>9.878000e+03</td>\n",
       "      <td>993.000000</td>\n",
       "    </tr>\n",
       "    <tr>\n",
       "      <th>75%</th>\n",
       "      <td>0.0</td>\n",
       "      <td>907.340000</td>\n",
       "      <td>907.340000</td>\n",
       "      <td>896.927500</td>\n",
       "      <td>896.927500</td>\n",
       "      <td>3.044500e+04</td>\n",
       "      <td>1033.750000</td>\n",
       "    </tr>\n",
       "    <tr>\n",
       "      <th>max</th>\n",
       "      <td>0.0</td>\n",
       "      <td>1180.000000</td>\n",
       "      <td>1180.000000</td>\n",
       "      <td>1180.000000</td>\n",
       "      <td>1180.000000</td>\n",
       "      <td>7.437561e+06</td>\n",
       "      <td>1180.000000</td>\n",
       "    </tr>\n",
       "  </tbody>\n",
       "</table>\n",
       "</div>"
      ],
      "text/plain": [
       "       TIME         Open         High          Low        Close           Vol  \\\n",
       "count  32.0    32.000000    32.000000    32.000000    32.000000  3.200000e+01   \n",
       "mean    0.0   870.494687   872.500937   863.200625   864.638125  2.579723e+05   \n",
       "std     0.0    77.091470    75.387115    74.525485    74.551960  1.311023e+06   \n",
       "min     0.0   767.870000   783.490000   767.870000   770.470000  1.000000e+02   \n",
       "25%     0.0   817.322500   817.322500   817.322500   817.322500  3.047750e+03   \n",
       "50%     0.0   867.650000   868.950000   854.630000   861.575000  9.878000e+03   \n",
       "75%     0.0   907.340000   907.340000   896.927500   896.927500  3.044500e+04   \n",
       "max     0.0  1180.000000  1180.000000  1180.000000  1180.000000  7.437561e+06   \n",
       "\n",
       "           Openint  \n",
       "count    32.000000  \n",
       "mean    990.906250  \n",
       "std      64.611174  \n",
       "min     888.000000  \n",
       "25%     942.000000  \n",
       "50%     993.000000  \n",
       "75%    1033.750000  \n",
       "max    1180.000000  "
      ]
     },
     "execution_count": 24,
     "metadata": {},
     "output_type": "execute_result"
    }
   ],
   "source": [
    "abfar.describe()"
   ]
  },
  {
   "cell_type": "code",
   "execution_count": 26,
   "id": "9821c3da-9dfb-43fa-988a-f5f1824bfe2a",
   "metadata": {},
   "outputs": [
    {
     "data": {
      "text/plain": [
       "(32, 9)"
      ]
     },
     "execution_count": 26,
     "metadata": {},
     "output_type": "execute_result"
    }
   ],
   "source": [
    "abfar.shape"
   ]
  },
  {
   "cell_type": "code",
   "execution_count": 27,
   "id": "4f131a49-f31a-4f4b-a6ca-55346fef0c93",
   "metadata": {},
   "outputs": [
    {
     "data": {
      "text/html": [
       "<div>\n",
       "<style scoped>\n",
       "    .dataframe tbody tr th:only-of-type {\n",
       "        vertical-align: middle;\n",
       "    }\n",
       "\n",
       "    .dataframe tbody tr th {\n",
       "        vertical-align: top;\n",
       "    }\n",
       "\n",
       "    .dataframe thead th {\n",
       "        text-align: right;\n",
       "    }\n",
       "</style>\n",
       "<table border=\"1\" class=\"dataframe\">\n",
       "  <thead>\n",
       "    <tr style=\"text-align: right;\">\n",
       "      <th></th>\n",
       "      <th>Ticker</th>\n",
       "      <th>Date</th>\n",
       "      <th>TIME</th>\n",
       "      <th>Open</th>\n",
       "      <th>High</th>\n",
       "      <th>Low</th>\n",
       "      <th>Close</th>\n",
       "      <th>Vol</th>\n",
       "      <th>Openint</th>\n",
       "    </tr>\n",
       "  </thead>\n",
       "  <tbody>\n",
       "    <tr>\n",
       "      <th>0</th>\n",
       "      <td>ABFAR_Share</td>\n",
       "      <td>2006-02-27</td>\n",
       "      <td>0</td>\n",
       "      <td>867.65</td>\n",
       "      <td>867.65</td>\n",
       "      <td>867.65</td>\n",
       "      <td>867.65</td>\n",
       "      <td>100</td>\n",
       "      <td>1000</td>\n",
       "    </tr>\n",
       "    <tr>\n",
       "      <th>1</th>\n",
       "      <td>ABFAR_Share</td>\n",
       "      <td>2006-02-28</td>\n",
       "      <td>0</td>\n",
       "      <td>867.65</td>\n",
       "      <td>885.00</td>\n",
       "      <td>850.29</td>\n",
       "      <td>864.18</td>\n",
       "      <td>5710</td>\n",
       "      <td>996</td>\n",
       "    </tr>\n",
       "    <tr>\n",
       "      <th>2</th>\n",
       "      <td>ABFAR_Share</td>\n",
       "      <td>2006-04-30</td>\n",
       "      <td>0</td>\n",
       "      <td>847.69</td>\n",
       "      <td>847.69</td>\n",
       "      <td>847.69</td>\n",
       "      <td>847.69</td>\n",
       "      <td>13500</td>\n",
       "      <td>977</td>\n",
       "    </tr>\n",
       "    <tr>\n",
       "      <th>3</th>\n",
       "      <td>ABFAR_Share</td>\n",
       "      <td>2006-05-01</td>\n",
       "      <td>0</td>\n",
       "      <td>831.21</td>\n",
       "      <td>831.21</td>\n",
       "      <td>831.21</td>\n",
       "      <td>831.21</td>\n",
       "      <td>13500</td>\n",
       "      <td>958</td>\n",
       "    </tr>\n",
       "    <tr>\n",
       "      <th>4</th>\n",
       "      <td>ABFAR_Share</td>\n",
       "      <td>2006-05-02</td>\n",
       "      <td>0</td>\n",
       "      <td>814.72</td>\n",
       "      <td>814.72</td>\n",
       "      <td>814.72</td>\n",
       "      <td>814.72</td>\n",
       "      <td>13500</td>\n",
       "      <td>939</td>\n",
       "    </tr>\n",
       "  </tbody>\n",
       "</table>\n",
       "</div>"
      ],
      "text/plain": [
       "        Ticker       Date  TIME    Open    High     Low   Close    Vol  \\\n",
       "0  ABFAR_Share 2006-02-27     0  867.65  867.65  867.65  867.65    100   \n",
       "1  ABFAR_Share 2006-02-28     0  867.65  885.00  850.29  864.18   5710   \n",
       "2  ABFAR_Share 2006-04-30     0  847.69  847.69  847.69  847.69  13500   \n",
       "3  ABFAR_Share 2006-05-01     0  831.21  831.21  831.21  831.21  13500   \n",
       "4  ABFAR_Share 2006-05-02     0  814.72  814.72  814.72  814.72  13500   \n",
       "\n",
       "   Openint  \n",
       "0     1000  \n",
       "1      996  \n",
       "2      977  \n",
       "3      958  \n",
       "4      939  "
      ]
     },
     "execution_count": 27,
     "metadata": {},
     "output_type": "execute_result"
    }
   ],
   "source": [
    "abfar.head()"
   ]
  },
  {
   "cell_type": "code",
   "execution_count": 29,
   "id": "3b7a165b-749a-4284-b674-889f07bbab0b",
   "metadata": {},
   "outputs": [],
   "source": [
    "abfar.index=abfar.Date"
   ]
  },
  {
   "cell_type": "code",
   "execution_count": 45,
   "id": "d227a695-02ee-4ac2-ba82-f1108b56560e",
   "metadata": {},
   "outputs": [
    {
     "data": {
      "text/html": [
       "<div>\n",
       "<style scoped>\n",
       "    .dataframe tbody tr th:only-of-type {\n",
       "        vertical-align: middle;\n",
       "    }\n",
       "\n",
       "    .dataframe tbody tr th {\n",
       "        vertical-align: top;\n",
       "    }\n",
       "\n",
       "    .dataframe thead th {\n",
       "        text-align: right;\n",
       "    }\n",
       "</style>\n",
       "<table border=\"1\" class=\"dataframe\">\n",
       "  <thead>\n",
       "    <tr style=\"text-align: right;\">\n",
       "      <th></th>\n",
       "      <th>Ticker</th>\n",
       "      <th>TIME</th>\n",
       "      <th>Open</th>\n",
       "      <th>High</th>\n",
       "      <th>Low</th>\n",
       "      <th>Close</th>\n",
       "      <th>Vol</th>\n",
       "      <th>Openint</th>\n",
       "    </tr>\n",
       "    <tr>\n",
       "      <th>Date</th>\n",
       "      <th></th>\n",
       "      <th></th>\n",
       "      <th></th>\n",
       "      <th></th>\n",
       "      <th></th>\n",
       "      <th></th>\n",
       "      <th></th>\n",
       "      <th></th>\n",
       "    </tr>\n",
       "  </thead>\n",
       "  <tbody>\n",
       "    <tr>\n",
       "      <th>2006-02-27</th>\n",
       "      <td>ABFAR_Share</td>\n",
       "      <td>0</td>\n",
       "      <td>867.65</td>\n",
       "      <td>867.65</td>\n",
       "      <td>867.65</td>\n",
       "      <td>867.65</td>\n",
       "      <td>100</td>\n",
       "      <td>1000</td>\n",
       "    </tr>\n",
       "    <tr>\n",
       "      <th>2006-02-28</th>\n",
       "      <td>ABFAR_Share</td>\n",
       "      <td>0</td>\n",
       "      <td>867.65</td>\n",
       "      <td>885.00</td>\n",
       "      <td>850.29</td>\n",
       "      <td>864.18</td>\n",
       "      <td>5710</td>\n",
       "      <td>996</td>\n",
       "    </tr>\n",
       "    <tr>\n",
       "      <th>2006-04-30</th>\n",
       "      <td>ABFAR_Share</td>\n",
       "      <td>0</td>\n",
       "      <td>847.69</td>\n",
       "      <td>847.69</td>\n",
       "      <td>847.69</td>\n",
       "      <td>847.69</td>\n",
       "      <td>13500</td>\n",
       "      <td>977</td>\n",
       "    </tr>\n",
       "    <tr>\n",
       "      <th>2006-05-01</th>\n",
       "      <td>ABFAR_Share</td>\n",
       "      <td>0</td>\n",
       "      <td>831.21</td>\n",
       "      <td>831.21</td>\n",
       "      <td>831.21</td>\n",
       "      <td>831.21</td>\n",
       "      <td>13500</td>\n",
       "      <td>958</td>\n",
       "    </tr>\n",
       "    <tr>\n",
       "      <th>2006-05-02</th>\n",
       "      <td>ABFAR_Share</td>\n",
       "      <td>0</td>\n",
       "      <td>814.72</td>\n",
       "      <td>814.72</td>\n",
       "      <td>814.72</td>\n",
       "      <td>814.72</td>\n",
       "      <td>13500</td>\n",
       "      <td>939</td>\n",
       "    </tr>\n",
       "  </tbody>\n",
       "</table>\n",
       "</div>"
      ],
      "text/plain": [
       "                 Ticker  TIME    Open    High     Low   Close    Vol  Openint\n",
       "Date                                                                         \n",
       "2006-02-27  ABFAR_Share     0  867.65  867.65  867.65  867.65    100     1000\n",
       "2006-02-28  ABFAR_Share     0  867.65  885.00  850.29  864.18   5710      996\n",
       "2006-04-30  ABFAR_Share     0  847.69  847.69  847.69  847.69  13500      977\n",
       "2006-05-01  ABFAR_Share     0  831.21  831.21  831.21  831.21  13500      958\n",
       "2006-05-02  ABFAR_Share     0  814.72  814.72  814.72  814.72  13500      939"
      ]
     },
     "execution_count": 45,
     "metadata": {},
     "output_type": "execute_result"
    }
   ],
   "source": [
    "abfar.head()"
   ]
  },
  {
   "cell_type": "markdown",
   "id": "962c1147-65d4-420c-9b47-3041ac588601",
   "metadata": {
    "tags": []
   },
   "source": [
    "# Data Visualization"
   ]
  },
  {
   "cell_type": "code",
   "execution_count": 32,
   "id": "edcc93af-da46-46af-9178-e0a35371e266",
   "metadata": {},
   "outputs": [
    {
     "data": {
      "text/plain": [
       "Text(0, 0.5, 'Open')"
      ]
     },
     "execution_count": 32,
     "metadata": {},
     "output_type": "execute_result"
    },
    {
     "data": {
      "image/png": "[encoded data removed]",
      "text/plain": [
       "<Figure size 792x360 with 1 Axes>"
      ]
     },
     "metadata": {
      "needs_background": "light"
     },
     "output_type": "display_data"
    }
   ],
   "source": [
    "plt.figure(figsize=(11,5))\n",
    "abfar.Open.plot()\n",
    "plt.title(\"open value for ABFAR\")\n",
    "plt.ylabel(\"Open\")"
   ]
  },
  {
   "cell_type": "code",
   "execution_count": 33,
   "id": "52381487-cb28-407d-9659-b966c5e3a8c4",
   "metadata": {},
   "outputs": [
    {
     "data": {
      "text/plain": [
       "<AxesSubplot:>"
      ]
     },
     "execution_count": 33,
     "metadata": {},
     "output_type": "execute_result"
    },
    {
     "data": {
      "image/png": "[encoded data removed]",
      "text/plain": [
       "<Figure size 504x504 with 2 Axes>"
      ]
     },
     "metadata": {
      "needs_background": "light"
     },
     "output_type": "display_data"
    }
   ],
   "source": [
    "plt.figure(figsize=(7,7))\n",
    "sns.heatmap(abfar.corr(),annot=True,linewidths=0.1)"
   ]
  },
  {
   "cell_type": "code",
   "execution_count": 34,
   "id": "478dfe44-c088-4359-9027-0d9241d1b3cd",
   "metadata": {},
   "outputs": [
    {
     "data": {
      "text/plain": [
       "<AxesSubplot:xlabel='Date'>"
      ]
     },
     "execution_count": 34,
     "metadata": {},
     "output_type": "execute_result"
    },
    {
     "data": {
      "image/png": "[encoded data removed]",
      "text/plain": [
       "<Figure size 792x360 with 1 Axes>"
      ]
     },
     "metadata": {
      "needs_background": "light"
     },
     "output_type": "display_data"
    }
   ],
   "source": [
    "plt.figure(figsize=(11,5))\n",
    "abfar.Openint.plot(c=\"r\")"
   ]
  },
  {
   "cell_type": "code",
   "execution_count": 35,
   "id": "9495f009-8bb8-4df8-b460-dec09ba73fde",
   "metadata": {},
   "outputs": [
    {
     "data": {
      "text/plain": [
       "<AxesSubplot:xlabel='Date'>"
      ]
     },
     "execution_count": 35,
     "metadata": {},
     "output_type": "execute_result"
    },
    {
     "data": {
      "image/png": "[encoded data removed]",
      "text/plain": [
       "<Figure size 792x360 with 1 Axes>"
      ]
     },
     "metadata": {
      "needs_background": "light"
     },
     "output_type": "display_data"
    }
   ],
   "source": [
    "plt.figure(figsize=(11,5))\n",
    "abfar.Vol.plot()"
   ]
  },
  {
   "cell_type": "code",
   "execution_count": 44,
   "id": "50680da5-0461-4955-a28b-678042712818",
   "metadata": {},
   "outputs": [
    {
     "data": {
      "text/plain": [
       "<matplotlib.legend.Legend at 0x25a09c5d9d0>"
      ]
     },
     "execution_count": 44,
     "metadata": {},
     "output_type": "execute_result"
    },
    {
     "data": {
      "image/png": "[encoded data removed]",
      "text/plain": [
       "<Figure size 1152x288 with 1 Axes>"
      ]
     },
     "metadata": {
      "needs_background": "light"
     },
     "output_type": "display_data"
    }
   ],
   "source": [
    "abfar[\"High\"][:'2006-06'].plot(figsize=(16,4),legend=True)\n",
    "abfar[\"High\"]['2006-06':].plot(figsize=(16,4),legend=True)\n",
    "plt.legend(['High Before 2006-06','High From 2006-06 onwards)'])"
   ]
  },
  {
   "cell_type": "markdown",
   "id": "93b347f2-598f-437a-9fa0-596bee0f2d03",
   "metadata": {},
   "source": [
    "# Conclusion\n",
    "- The variation of Opening Price of \"ABFAR_Share\" with Date is plotted and is linearly increasing from 07-2006 to 2008.\n",
    "- Heatmap of \"ABFAR_Share\" is shown.\n",
    "- The decrease in opening price in 2006-02 to 2006-05 and the increase from 2006-05 to 2008-04 is plotted."
   ]
  },
  {
   "cell_type": "code",
   "execution_count": null,
   "id": "48ba97d5-a7dd-46d1-a1b2-72380dee38d4",
   "metadata": {},
   "outputs": [],
   "source": []
  }
 ],
 "metadata": {
  "kernelspec": {
   "display_name": "Python 3 (ipykernel)",
   "language": "python",
   "name": "python3"
  },
  "language_info": {
   "codemirror_mode": {
    "name": "ipython",
    "version": 3
   },
   "file_extension": ".py",
   "mimetype": "text/x-python",
   "name": "python",
   "nbconvert_exporter": "python",
   "pygments_lexer": "ipython3",
   "version": "3.8.10"
  }
 },
 "nbformat": 4,
 "nbformat_minor": 5
}
