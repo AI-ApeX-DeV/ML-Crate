{
 "cells": [
  {
   "cell_type": "code",
   "execution_count": 1,
   "id": "b395111f",
   "metadata": {},
   "outputs": [],
   "source": [
    "import numpy as np\n",
    "import pandas as pd\n",
    "import matplotlib.pyplot as plt\n",
    "import seaborn as sns\n"
   ]
  },
  {
   "cell_type": "code",
   "execution_count": 2,
   "id": "ac56fc2e",
   "metadata": {},
   "outputs": [],
   "source": [
    "df = pd.read_csv(\"Eurovision Winners - Winner Data KG-3.csv\")"
   ]
  },
  {
   "cell_type": "code",
   "execution_count": 3,
   "id": "251222d9",
   "metadata": {},
   "outputs": [
    {
     "data": {
      "text/html": [
       "<div>\n",
       "<style scoped>\n",
       "    .dataframe tbody tr th:only-of-type {\n",
       "        vertical-align: middle;\n",
       "    }\n",
       "\n",
       "    .dataframe tbody tr th {\n",
       "        vertical-align: top;\n",
       "    }\n",
       "\n",
       "    .dataframe thead th {\n",
       "        text-align: right;\n",
       "    }\n",
       "</style>\n",
       "<table border=\"1\" class=\"dataframe\">\n",
       "  <thead>\n",
       "    <tr style=\"text-align: right;\">\n",
       "      <th></th>\n",
       "      <th>Year</th>\n",
       "      <th>Country</th>\n",
       "      <th>Song</th>\n",
       "      <th>Artist</th>\n",
       "      <th>Songwriter(s)</th>\n",
       "      <th>Running Order</th>\n",
       "      <th>Semi Final Points</th>\n",
       "      <th>Total Points</th>\n",
       "      <th>Location</th>\n",
       "    </tr>\n",
       "  </thead>\n",
       "  <tbody>\n",
       "    <tr>\n",
       "      <th>0</th>\n",
       "      <td>1956</td>\n",
       "      <td>Switzerland</td>\n",
       "      <td>\"Refrain\"</td>\n",
       "      <td>Lys Assia</td>\n",
       "      <td>Géo Voumard\\nÉmile Gardaz</td>\n",
       "      <td>9.0</td>\n",
       "      <td>NaN</td>\n",
       "      <td>0.0</td>\n",
       "      <td>Lugano</td>\n",
       "    </tr>\n",
       "    <tr>\n",
       "      <th>1</th>\n",
       "      <td>1957</td>\n",
       "      <td>Netherlands</td>\n",
       "      <td>\"Net als toen\"</td>\n",
       "      <td>Corry Brokken</td>\n",
       "      <td>Guus Jansen\\nWilly van Hemert</td>\n",
       "      <td>6.0</td>\n",
       "      <td>NaN</td>\n",
       "      <td>31.0</td>\n",
       "      <td>Frankfurt</td>\n",
       "    </tr>\n",
       "    <tr>\n",
       "      <th>2</th>\n",
       "      <td>1958</td>\n",
       "      <td>France</td>\n",
       "      <td>\"Dors, mon amour\"</td>\n",
       "      <td>André Claveau</td>\n",
       "      <td>Hubert Giraud\\nPierre Delanoë</td>\n",
       "      <td>3.0</td>\n",
       "      <td>NaN</td>\n",
       "      <td>27.0</td>\n",
       "      <td>Hilversum</td>\n",
       "    </tr>\n",
       "    <tr>\n",
       "      <th>3</th>\n",
       "      <td>1959</td>\n",
       "      <td>Netherlands</td>\n",
       "      <td>\"Een beetje\"</td>\n",
       "      <td>Teddy Scholten</td>\n",
       "      <td>Dick Schallies\\nWilly van Hemert</td>\n",
       "      <td>5.0</td>\n",
       "      <td>NaN</td>\n",
       "      <td>21.0</td>\n",
       "      <td>Cannes</td>\n",
       "    </tr>\n",
       "    <tr>\n",
       "      <th>4</th>\n",
       "      <td>1960</td>\n",
       "      <td>France</td>\n",
       "      <td>\"Tom Pillibi\"</td>\n",
       "      <td>Jacqueline Boyer</td>\n",
       "      <td>André Popp\\nPierre Cour</td>\n",
       "      <td>13.0</td>\n",
       "      <td>NaN</td>\n",
       "      <td>32.0</td>\n",
       "      <td>London</td>\n",
       "    </tr>\n",
       "  </tbody>\n",
       "</table>\n",
       "</div>"
      ],
      "text/plain": [
       "   Year      Country               Song            Artist  \\\n",
       "0  1956  Switzerland          \"Refrain\"         Lys Assia   \n",
       "1  1957  Netherlands     \"Net als toen\"     Corry Brokken   \n",
       "2  1958       France  \"Dors, mon amour\"     André Claveau   \n",
       "3  1959  Netherlands       \"Een beetje\"    Teddy Scholten   \n",
       "4  1960       France      \"Tom Pillibi\"  Jacqueline Boyer   \n",
       "\n",
       "                      Songwriter(s)  Running Order  Semi Final Points  \\\n",
       "0         Géo Voumard\\nÉmile Gardaz            9.0                NaN   \n",
       "1     Guus Jansen\\nWilly van Hemert            6.0                NaN   \n",
       "2     Hubert Giraud\\nPierre Delanoë            3.0                NaN   \n",
       "3  Dick Schallies\\nWilly van Hemert            5.0                NaN   \n",
       "4           André Popp\\nPierre Cour           13.0                NaN   \n",
       "\n",
       "   Total Points   Location  \n",
       "0           0.0     Lugano  \n",
       "1          31.0  Frankfurt  \n",
       "2          27.0  Hilversum  \n",
       "3          21.0     Cannes  \n",
       "4          32.0     London  "
      ]
     },
     "execution_count": 3,
     "metadata": {},
     "output_type": "execute_result"
    }
   ],
   "source": [
    "df.head()"
   ]
  },
  {
   "cell_type": "code",
   "execution_count": 4,
   "id": "08434fb6",
   "metadata": {},
   "outputs": [
    {
     "data": {
      "text/plain": [
       "(70, 9)"
      ]
     },
     "execution_count": 4,
     "metadata": {},
     "output_type": "execute_result"
    }
   ],
   "source": [
    "df.shape"
   ]
  },
  {
   "cell_type": "code",
   "execution_count": 5,
   "id": "26ad7379",
   "metadata": {},
   "outputs": [
    {
     "name": "stdout",
     "output_type": "stream",
     "text": [
      "<class 'pandas.core.frame.DataFrame'>\n",
      "RangeIndex: 70 entries, 0 to 69\n",
      "Data columns (total 9 columns):\n",
      " #   Column             Non-Null Count  Dtype  \n",
      "---  ------             --------------  -----  \n",
      " 0   Year               70 non-null     int64  \n",
      " 1   Country            70 non-null     object \n",
      " 2   Song               69 non-null     object \n",
      " 3   Artist             69 non-null     object \n",
      " 4   Songwriter(s)      69 non-null     object \n",
      " 5   Running Order      69 non-null     float64\n",
      " 6   Semi Final Points  15 non-null     float64\n",
      " 7   Total Points       69 non-null     float64\n",
      " 8   Location           66 non-null     object \n",
      "dtypes: float64(3), int64(1), object(5)\n",
      "memory usage: 5.1+ KB\n"
     ]
    }
   ],
   "source": [
    "df.info()"
   ]
  },
  {
   "cell_type": "code",
   "execution_count": 6,
   "id": "5faf6f56",
   "metadata": {},
   "outputs": [
    {
     "data": {
      "text/plain": [
       "Year                  0\n",
       "Country               0\n",
       "Song                  1\n",
       "Artist                1\n",
       "Songwriter(s)         1\n",
       "Running Order         1\n",
       "Semi Final Points    55\n",
       "Total Points          1\n",
       "Location              4\n",
       "dtype: int64"
      ]
     },
     "execution_count": 6,
     "metadata": {},
     "output_type": "execute_result"
    }
   ],
   "source": [
    "#Checking for missing values\n",
    "df.isnull().sum()"
   ]
  },
  {
   "cell_type": "code",
   "execution_count": 7,
   "id": "148f29c0",
   "metadata": {},
   "outputs": [],
   "source": [
    "#dropping the 'semi final points' column\n",
    "df = df.drop(labels = 'Semi Final Points', axis = 1)"
   ]
  },
  {
   "cell_type": "code",
   "execution_count": 8,
   "id": "db991f0d",
   "metadata": {},
   "outputs": [],
   "source": [
    "#dropping the 'location' column also as 'country' is already mentioned\n",
    "df = df.drop(labels = 'Location', axis = 1)"
   ]
  },
  {
   "cell_type": "code",
   "execution_count": 9,
   "id": "deb752fa",
   "metadata": {},
   "outputs": [],
   "source": [
    "#removing the row where 'total Points' is null\n",
    "df.dropna(subset =['Total Points'], inplace = True)"
   ]
  },
  {
   "cell_type": "code",
   "execution_count": 10,
   "id": "bcbf4f64",
   "metadata": {},
   "outputs": [
    {
     "data": {
      "text/plain": [
       "Year             0\n",
       "Country          0\n",
       "Song             0\n",
       "Artist           0\n",
       "Songwriter(s)    0\n",
       "Running Order    0\n",
       "Total Points     0\n",
       "dtype: int64"
      ]
     },
     "execution_count": 10,
     "metadata": {},
     "output_type": "execute_result"
    }
   ],
   "source": [
    "df.isnull().sum()"
   ]
  },
  {
   "cell_type": "code",
   "execution_count": 11,
   "id": "486be151",
   "metadata": {},
   "outputs": [
    {
     "data": {
      "text/html": [
       "<div>\n",
       "<style scoped>\n",
       "    .dataframe tbody tr th:only-of-type {\n",
       "        vertical-align: middle;\n",
       "    }\n",
       "\n",
       "    .dataframe tbody tr th {\n",
       "        vertical-align: top;\n",
       "    }\n",
       "\n",
       "    .dataframe thead th {\n",
       "        text-align: right;\n",
       "    }\n",
       "</style>\n",
       "<table border=\"1\" class=\"dataframe\">\n",
       "  <thead>\n",
       "    <tr style=\"text-align: right;\">\n",
       "      <th></th>\n",
       "      <th>Year</th>\n",
       "      <th>Running Order</th>\n",
       "      <th>Total Points</th>\n",
       "    </tr>\n",
       "  </thead>\n",
       "  <tbody>\n",
       "    <tr>\n",
       "      <th>count</th>\n",
       "      <td>69.000000</td>\n",
       "      <td>69.000000</td>\n",
       "      <td>69.000000</td>\n",
       "    </tr>\n",
       "    <tr>\n",
       "      <th>mean</th>\n",
       "      <td>1987.681159</td>\n",
       "      <td>13.101449</td>\n",
       "      <td>182.101449</td>\n",
       "    </tr>\n",
       "    <tr>\n",
       "      <th>std</th>\n",
       "      <td>19.241876</td>\n",
       "      <td>6.259452</td>\n",
       "      <td>156.616537</td>\n",
       "    </tr>\n",
       "    <tr>\n",
       "      <th>min</th>\n",
       "      <td>1956.000000</td>\n",
       "      <td>1.000000</td>\n",
       "      <td>0.000000</td>\n",
       "    </tr>\n",
       "    <tr>\n",
       "      <th>25%</th>\n",
       "      <td>1970.000000</td>\n",
       "      <td>9.000000</td>\n",
       "      <td>47.000000</td>\n",
       "    </tr>\n",
       "    <tr>\n",
       "      <th>50%</th>\n",
       "      <td>1987.000000</td>\n",
       "      <td>13.000000</td>\n",
       "      <td>152.000000</td>\n",
       "    </tr>\n",
       "    <tr>\n",
       "      <th>75%</th>\n",
       "      <td>2004.000000</td>\n",
       "      <td>18.000000</td>\n",
       "      <td>227.000000</td>\n",
       "    </tr>\n",
       "    <tr>\n",
       "      <th>max</th>\n",
       "      <td>2022.000000</td>\n",
       "      <td>24.000000</td>\n",
       "      <td>758.000000</td>\n",
       "    </tr>\n",
       "  </tbody>\n",
       "</table>\n",
       "</div>"
      ],
      "text/plain": [
       "              Year  Running Order  Total Points\n",
       "count    69.000000      69.000000     69.000000\n",
       "mean   1987.681159      13.101449    182.101449\n",
       "std      19.241876       6.259452    156.616537\n",
       "min    1956.000000       1.000000      0.000000\n",
       "25%    1970.000000       9.000000     47.000000\n",
       "50%    1987.000000      13.000000    152.000000\n",
       "75%    2004.000000      18.000000    227.000000\n",
       "max    2022.000000      24.000000    758.000000"
      ]
     },
     "execution_count": 11,
     "metadata": {},
     "output_type": "execute_result"
    }
   ],
   "source": [
    "#getting the statistical measures of the dataset\n",
    "df.describe()"
   ]
  },
  {
   "cell_type": "code",
   "execution_count": 12,
   "id": "1e823a15",
   "metadata": {},
   "outputs": [
    {
     "data": {
      "text/plain": [
       "<Figure size 600x600 with 0 Axes>"
      ]
     },
     "metadata": {},
     "output_type": "display_data"
    },
    {
     "data": {
      "image/png": "[encoded data removed]",
      "text/plain": [
       "<Figure size 500x500 with 1 Axes>"
      ]
     },
     "metadata": {},
     "output_type": "display_data"
    }
   ],
   "source": [
    "#visualizing total points distribution\n",
    "plt.figure(figsize = (6,6))\n",
    "sns.displot(df['Total Points'])\n",
    "plt.title(\"Total Points Distribution\")\n",
    "plt.show()"
   ]
  },
  {
   "cell_type": "code",
   "execution_count": 13,
   "id": "2c69d62d",
   "metadata": {},
   "outputs": [
    {
     "data": {
      "image/png": "[encoded data removed]",
      "text/plain": [
       "<Figure size 640x480 with 1 Axes>"
      ]
     },
     "metadata": {},
     "output_type": "display_data"
    }
   ],
   "source": [
    "#comparing the total points scored against the year in which it was scored\n",
    "plt.bar(df['Year'], df['Total Points'], align = 'center', color = 'purple')\n",
    "plt.title(\"Total Points scored over the years\")\n",
    "plt.xlabel(\"Years\")\n",
    "plt.ylabel(\"Total Points\")\n",
    "plt.show()"
   ]
  },
  {
   "cell_type": "code",
   "execution_count": 14,
   "id": "748bb11e",
   "metadata": {},
   "outputs": [
    {
     "data": {
      "image/png": "[encoded data removed]",
      "text/plain": [
       "<Figure size 500x500 with 1 Axes>"
      ]
     },
     "metadata": {},
     "output_type": "display_data"
    }
   ],
   "source": [
    "#visualizing the country column\n",
    "plt.figure(figsize = (5,5))\n",
    "sns.countplot(x = 'Country', data = df)\n",
    "plt.xticks(rotation=90)\n",
    "plt.title(\"Number of contests held in different countries\")\n",
    "plt.show()\n"
   ]
  },
  {
   "cell_type": "code",
   "execution_count": null,
   "id": "c2f4e4d6",
   "metadata": {},
   "outputs": [],
   "source": []
  }
 ],
 "metadata": {
  "kernelspec": {
   "display_name": "Python 3 (ipykernel)",
   "language": "python",
   "name": "python3"
  },
  "language_info": {
   "codemirror_mode": {
    "name": "ipython",
    "version": 3
   },
   "file_extension": ".py",
   "mimetype": "text/x-python",
   "name": "python",
   "nbconvert_exporter": "python",
   "pygments_lexer": "ipython3",
   "version": "3.11.4"
  }
 },
 "nbformat": 4,
 "nbformat_minor": 5
}
