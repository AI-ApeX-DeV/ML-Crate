{
 "cells": [
  {
   "cell_type": "code",
   "execution_count": 1,
   "metadata": {},
   "outputs": [],
   "source": [
    "import pandas as pd\n",
    "import numpy as np"
   ]
  },
  {
   "cell_type": "code",
   "execution_count": 5,
   "metadata": {},
   "outputs": [
    {
     "data": {
      "text/html": [
       "<div>\n",
       "<style scoped>\n",
       "    .dataframe tbody tr th:only-of-type {\n",
       "        vertical-align: middle;\n",
       "    }\n",
       "\n",
       "    .dataframe tbody tr th {\n",
       "        vertical-align: top;\n",
       "    }\n",
       "\n",
       "    .dataframe thead th {\n",
       "        text-align: right;\n",
       "    }\n",
       "</style>\n",
       "<table border=\"1\" class=\"dataframe\">\n",
       "  <thead>\n",
       "    <tr style=\"text-align: right;\">\n",
       "      <th></th>\n",
       "      <th>Quiz_number</th>\n",
       "      <th>Total_Views</th>\n",
       "      <th>Total_Responses</th>\n",
       "      <th>Right_Answers</th>\n",
       "      <th>Total_Likes</th>\n",
       "    </tr>\n",
       "  </thead>\n",
       "  <tbody>\n",
       "    <tr>\n",
       "      <th>count</th>\n",
       "      <td>100.000000</td>\n",
       "      <td>100.000000</td>\n",
       "      <td>100.000000</td>\n",
       "      <td>100.000000</td>\n",
       "      <td>100.000000</td>\n",
       "    </tr>\n",
       "    <tr>\n",
       "      <th>mean</th>\n",
       "      <td>50.500000</td>\n",
       "      <td>60214.630000</td>\n",
       "      <td>874.240000</td>\n",
       "      <td>509.360000</td>\n",
       "      <td>36.110000</td>\n",
       "    </tr>\n",
       "    <tr>\n",
       "      <th>std</th>\n",
       "      <td>29.011492</td>\n",
       "      <td>26489.886212</td>\n",
       "      <td>756.884111</td>\n",
       "      <td>509.713319</td>\n",
       "      <td>18.822346</td>\n",
       "    </tr>\n",
       "    <tr>\n",
       "      <th>min</th>\n",
       "      <td>1.000000</td>\n",
       "      <td>24307.000000</td>\n",
       "      <td>157.000000</td>\n",
       "      <td>37.000000</td>\n",
       "      <td>10.000000</td>\n",
       "    </tr>\n",
       "    <tr>\n",
       "      <th>25%</th>\n",
       "      <td>25.750000</td>\n",
       "      <td>44482.750000</td>\n",
       "      <td>448.250000</td>\n",
       "      <td>191.500000</td>\n",
       "      <td>24.000000</td>\n",
       "    </tr>\n",
       "    <tr>\n",
       "      <th>50%</th>\n",
       "      <td>50.500000</td>\n",
       "      <td>52106.500000</td>\n",
       "      <td>638.500000</td>\n",
       "      <td>389.500000</td>\n",
       "      <td>32.000000</td>\n",
       "    </tr>\n",
       "    <tr>\n",
       "      <th>75%</th>\n",
       "      <td>75.250000</td>\n",
       "      <td>72124.000000</td>\n",
       "      <td>1026.250000</td>\n",
       "      <td>661.000000</td>\n",
       "      <td>43.500000</td>\n",
       "    </tr>\n",
       "    <tr>\n",
       "      <th>max</th>\n",
       "      <td>100.000000</td>\n",
       "      <td>172686.000000</td>\n",
       "      <td>5669.000000</td>\n",
       "      <td>4093.000000</td>\n",
       "      <td>139.000000</td>\n",
       "    </tr>\n",
       "  </tbody>\n",
       "</table>\n",
       "</div>"
      ],
      "text/plain": [
       "       Quiz_number    Total_Views  Total_Responses  Right_Answers  Total_Likes\n",
       "count   100.000000     100.000000       100.000000     100.000000   100.000000\n",
       "mean     50.500000   60214.630000       874.240000     509.360000    36.110000\n",
       "std      29.011492   26489.886212       756.884111     509.713319    18.822346\n",
       "min       1.000000   24307.000000       157.000000      37.000000    10.000000\n",
       "25%      25.750000   44482.750000       448.250000     191.500000    24.000000\n",
       "50%      50.500000   52106.500000       638.500000     389.500000    32.000000\n",
       "75%      75.250000   72124.000000      1026.250000     661.000000    43.500000\n",
       "max     100.000000  172686.000000      5669.000000    4093.000000   139.000000"
      ]
     },
     "execution_count": 5,
     "metadata": {},
     "output_type": "execute_result"
    }
   ],
   "source": [
    "poll_analysis_experience = '/Users/churnika/Desktop/Projects/ML-Crate/LinkedIn Poll Data Analysis/Dataset/LIQuizPollData%20-%20Sheet1%20(2).csv'\n",
    "poll_data = pd.read_csv(poll_analysis_experience)\n",
    "poll_data = poll_data.dropna()\n",
    "poll_data.describe()"
   ]
  },
  {
   "cell_type": "code",
   "execution_count": null,
   "metadata": {},
   "outputs": [],
   "source": []
  }
 ],
 "metadata": {
  "kernelspec": {
   "display_name": "my_project_env",
   "language": "python",
   "name": "python3"
  },
  "language_info": {
   "codemirror_mode": {
    "name": "ipython",
    "version": 3
   },
   "file_extension": ".py",
   "mimetype": "text/x-python",
   "name": "python",
   "nbconvert_exporter": "python",
   "pygments_lexer": "ipython3",
   "version": "3.8.18"
  }
 },
 "nbformat": 4,
 "nbformat_minor": 2
}
