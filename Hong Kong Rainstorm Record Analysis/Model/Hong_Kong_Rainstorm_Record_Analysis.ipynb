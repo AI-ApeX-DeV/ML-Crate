{
  "cells": [
    {
      "cell_type": "markdown",
      "metadata": {
        "id": "3ZwjE6z94PDJ"
      },
      "source": [
        "# Hong Kong Rainstorm Record Analysis\n",
        "\n"
      ]
    },
    {
      "cell_type": "markdown",
      "metadata": {
        "id": "1pqoBSWsJqrb"
      },
      "source": [
        "\n",
        "# Importing Libraries"
      ]
    },
    {
      "cell_type": "code",
      "execution_count": 1,
      "metadata": {
        "id": "jU3GcgZUR66g"
      },
      "outputs": [],
      "source": [
        "import pandas as pd\n",
        "import numpy as np\n",
        "import matplotlib.pyplot as plt\n",
        "import seaborn as sb"
      ]
    },
    {
      "cell_type": "markdown",
      "metadata": {
        "id": "xi_wKkBwSSbx"
      },
      "source": [
        "#Reading dataset"
      ]
    },
    {
      "cell_type": "code",
      "execution_count": 3,
      "metadata": {
        "id": "0JqlKpJ7T3J7"
      },
      "outputs": [],
      "source": [
        "dataset=pd.read_csv('rainstorm.csv')"
      ]
    },
    {
      "cell_type": "markdown",
      "metadata": {
        "id": "stkLpFCJTWbi"
      },
      "source": [
        "#Exploratory Data Analysis on our dataset"
      ]
    },
    {
      "cell_type": "code",
      "execution_count": 13,
      "metadata": {
        "colab": {
          "base_uri": "https://localhost:8080/"
        },
        "id": "SS771Kx1hIXK",
        "outputId": "74b11ace-201e-46a4-ee23-c6443060ee9e"
      },
      "outputs": [
        {
          "data": {
            "text/plain": [
              "(721, 6)"
            ]
          },
          "execution_count": 13,
          "metadata": {},
          "output_type": "execute_result"
        }
      ],
      "source": [
        "dataset.shape"
      ]
    },
    {
      "cell_type": "code",
      "execution_count": 4,
      "metadata": {
        "colab": {
          "base_uri": "https://localhost:8080/"
        },
        "id": "VP9UUj8aTZEN",
        "outputId": "d1bfb3f5-28c7-4866-9335-92a7c6e7866b"
      },
      "outputs": [
        {
          "data": {
            "text/plain": [
              "color         721\n",
              "start time    721\n",
              "start date    721\n",
              "end time      721\n",
              "end date      721\n",
              "duration      721\n",
              "dtype: int64"
            ]
          },
          "execution_count": 4,
          "metadata": {},
          "output_type": "execute_result"
        }
      ],
      "source": [
        "dataset.count()"
      ]
    },
    {
      "cell_type": "code",
      "execution_count": 14,
      "metadata": {
        "colab": {
          "base_uri": "https://localhost:8080/"
        },
        "id": "IWx8Meo8hUZ7",
        "outputId": "16fab09e-f74f-4bbc-95cb-87d836074707"
      },
      "outputs": [
        {
          "name": "stdout",
          "output_type": "stream",
          "text": [
            "<class 'pandas.core.frame.DataFrame'>\n",
            "RangeIndex: 721 entries, 0 to 720\n",
            "Data columns (total 6 columns):\n",
            " #   Column      Non-Null Count  Dtype \n",
            "---  ------      --------------  ----- \n",
            " 0   color       721 non-null    object\n",
            " 1   start time  721 non-null    object\n",
            " 2   start date  721 non-null    object\n",
            " 3   end time    721 non-null    object\n",
            " 4   end date    721 non-null    object\n",
            " 5   duration    721 non-null    object\n",
            "dtypes: object(6)\n",
            "memory usage: 33.9+ KB\n"
          ]
        }
      ],
      "source": [
        "dataset.info()"
      ]
    },
    {
      "cell_type": "code",
      "execution_count": 5,
      "metadata": {
        "colab": {
          "base_uri": "https://localhost:8080/",
          "height": 175
        },
        "id": "4G9HNQerUOm4",
        "outputId": "e4e0ea30-34d6-4b30-fb05-57ee40938384"
      },
      "outputs": [
        {
          "data": {
            "text/html": [
              "\n",
              "  <div id=\"df-ff9c78e1-cc8a-4ad7-91f8-03913208bf63\">\n",
              "    <div class=\"colab-df-container\">\n",
              "      <div>\n",
              "<style scoped>\n",
              "    .dataframe tbody tr th:only-of-type {\n",
              "        vertical-align: middle;\n",
              "    }\n",
              "\n",
              "    .dataframe tbody tr th {\n",
              "        vertical-align: top;\n",
              "    }\n",
              "\n",
              "    .dataframe thead th {\n",
              "        text-align: right;\n",
              "    }\n",
              "</style>\n",
              "<table border=\"1\" class=\"dataframe\">\n",
              "  <thead>\n",
              "    <tr style=\"text-align: right;\">\n",
              "      <th></th>\n",
              "      <th>color</th>\n",
              "      <th>start time</th>\n",
              "      <th>start date</th>\n",
              "      <th>end time</th>\n",
              "      <th>end date</th>\n",
              "      <th>duration</th>\n",
              "    </tr>\n",
              "  </thead>\n",
              "  <tbody>\n",
              "    <tr>\n",
              "      <th>count</th>\n",
              "      <td>721</td>\n",
              "      <td>721</td>\n",
              "      <td>721</td>\n",
              "      <td>721</td>\n",
              "      <td>721</td>\n",
              "      <td>721</td>\n",
              "    </tr>\n",
              "    <tr>\n",
              "      <th>unique</th>\n",
              "      <td>3</td>\n",
              "      <td>269</td>\n",
              "      <td>459</td>\n",
              "      <td>244</td>\n",
              "      <td>461</td>\n",
              "      <td>112</td>\n",
              "    </tr>\n",
              "    <tr>\n",
              "      <th>top</th>\n",
              "      <td>Amber</td>\n",
              "      <td>11:30</td>\n",
              "      <td>9-Jun-06</td>\n",
              "      <td>11:30</td>\n",
              "      <td>9-Jun-06</td>\n",
              "      <td>01 00</td>\n",
              "    </tr>\n",
              "    <tr>\n",
              "      <th>freq</th>\n",
              "      <td>579</td>\n",
              "      <td>8</td>\n",
              "      <td>7</td>\n",
              "      <td>12</td>\n",
              "      <td>7</td>\n",
              "      <td>40</td>\n",
              "    </tr>\n",
              "  </tbody>\n",
              "</table>\n",
              "</div>\n",
              "      <button class=\"colab-df-convert\" onclick=\"convertToInteractive('df-ff9c78e1-cc8a-4ad7-91f8-03913208bf63')\"\n",
              "              title=\"Convert this dataframe to an interactive table.\"\n",
              "              style=\"display:none;\">\n",
              "        \n",
              "  <svg xmlns=\"http://www.w3.org/2000/svg\" height=\"24px\"viewBox=\"0 0 24 24\"\n",
              "       width=\"24px\">\n",
              "    <path d=\"M0 0h24v24H0V0z\" fill=\"none\"/>\n",
              "    <path d=\"M18.56 5.44l.94 2.06.94-2.06 2.06-.94-2.06-.94-.94-2.06-.94 2.06-2.06.94zm-11 1L8.5 8.5l.94-2.06 2.06-.94-2.06-.94L8.5 2.5l-.94 2.06-2.06.94zm10 10l.94 2.06.94-2.06 2.06-.94-2.06-.94-.94-2.06-.94 2.06-2.06.94z\"/><path d=\"M17.41 7.96l-1.37-1.37c-.4-.4-.92-.59-1.43-.59-.52 0-1.04.2-1.43.59L10.3 9.45l-7.72 7.72c-.78.78-.78 2.05 0 2.83L4 21.41c.39.39.9.59 1.41.59.51 0 1.02-.2 1.41-.59l7.78-7.78 2.81-2.81c.8-.78.8-2.07 0-2.86zM5.41 20L4 18.59l7.72-7.72 1.47 1.35L5.41 20z\"/>\n",
              "  </svg>\n",
              "      </button>\n",
              "      \n",
              "  <style>\n",
              "    .colab-df-container {\n",
              "      display:flex;\n",
              "      flex-wrap:wrap;\n",
              "      gap: 12px;\n",
              "    }\n",
              "\n",
              "    .colab-df-convert {\n",
              "      background-color: #E8F0FE;\n",
              "      border: none;\n",
              "      border-radius: 50%;\n",
              "      cursor: pointer;\n",
              "      display: none;\n",
              "      fill: #1967D2;\n",
              "      height: 32px;\n",
              "      padding: 0 0 0 0;\n",
              "      width: 32px;\n",
              "    }\n",
              "\n",
              "    .colab-df-convert:hover {\n",
              "      background-color: #E2EBFA;\n",
              "      box-shadow: 0px 1px 2px rgba(60, 64, 67, 0.3), 0px 1px 3px 1px rgba(60, 64, 67, 0.15);\n",
              "      fill: #174EA6;\n",
              "    }\n",
              "\n",
              "    [theme=dark] .colab-df-convert {\n",
              "      background-color: #3B4455;\n",
              "      fill: #D2E3FC;\n",
              "    }\n",
              "\n",
              "    [theme=dark] .colab-df-convert:hover {\n",
              "      background-color: #434B5C;\n",
              "      box-shadow: 0px 1px 3px 1px rgba(0, 0, 0, 0.15);\n",
              "      filter: drop-shadow(0px 1px 2px rgba(0, 0, 0, 0.3));\n",
              "      fill: #FFFFFF;\n",
              "    }\n",
              "  </style>\n",
              "\n",
              "      <script>\n",
              "        const buttonEl =\n",
              "          document.querySelector('#df-ff9c78e1-cc8a-4ad7-91f8-03913208bf63 button.colab-df-convert');\n",
              "        buttonEl.style.display =\n",
              "          google.colab.kernel.accessAllowed ? 'block' : 'none';\n",
              "\n",
              "        async function convertToInteractive(key) {\n",
              "          const element = document.querySelector('#df-ff9c78e1-cc8a-4ad7-91f8-03913208bf63');\n",
              "          const dataTable =\n",
              "            await google.colab.kernel.invokeFunction('convertToInteractive',\n",
              "                                                     [key], {});\n",
              "          if (!dataTable) return;\n",
              "\n",
              "          const docLinkHtml = 'Like what you see? Visit the ' +\n",
              "            '<a target=\"_blank\" href=https://colab.research.google.com/notebooks/data_table.ipynb>data table notebook</a>'\n",
              "            + ' to learn more about interactive tables.';\n",
              "          element.innerHTML = '';\n",
              "          dataTable['output_type'] = 'display_data';\n",
              "          await google.colab.output.renderOutput(dataTable, element);\n",
              "          const docLink = document.createElement('div');\n",
              "          docLink.innerHTML = docLinkHtml;\n",
              "          element.appendChild(docLink);\n",
              "        }\n",
              "      </script>\n",
              "    </div>\n",
              "  </div>\n",
              "  "
            ],
            "text/plain": [
              "        color start time start date end time  end date duration\n",
              "count     721        721        721      721       721      721\n",
              "unique      3        269        459      244       461      112\n",
              "top     Amber      11:30   9-Jun-06    11:30  9-Jun-06    01 00\n",
              "freq      579          8          7       12         7       40"
            ]
          },
          "execution_count": 5,
          "metadata": {},
          "output_type": "execute_result"
        }
      ],
      "source": [
        "dataset.describe()"
      ]
    },
    {
      "cell_type": "code",
      "execution_count": 6,
      "metadata": {
        "colab": {
          "base_uri": "https://localhost:8080/"
        },
        "id": "uaniV-x1Ug7u",
        "outputId": "de40d0f8-87ae-423d-b938-c53f12ae521e"
      },
      "outputs": [
        {
          "data": {
            "text/plain": [
              "Index(['color', 'start time', 'start date', 'end time', 'end date',\n",
              "       'duration'],\n",
              "      dtype='object')"
            ]
          },
          "execution_count": 6,
          "metadata": {},
          "output_type": "execute_result"
        }
      ],
      "source": [
        "dataset.columns"
      ]
    },
    {
      "cell_type": "code",
      "execution_count": 7,
      "metadata": {
        "colab": {
          "base_uri": "https://localhost:8080/"
        },
        "id": "umRmnshWUo3m",
        "outputId": "00f43547-b4a9-4027-ad78-0212cc422647"
      },
      "outputs": [
        {
          "data": {
            "text/plain": [
              "color           3\n",
              "start time    269\n",
              "start date    459\n",
              "end time      244\n",
              "end date      461\n",
              "duration      112\n",
              "dtype: int64"
            ]
          },
          "execution_count": 7,
          "metadata": {},
          "output_type": "execute_result"
        }
      ],
      "source": [
        "dataset.nunique(dropna = True)"
      ]
    },
    {
      "cell_type": "markdown",
      "metadata": {
        "id": "B9X8EHAPU3Nx"
      },
      "source": [
        "#Plotting\n",
        "\n",
        "\n"
      ]
    },
    {
      "cell_type": "markdown",
      "metadata": {
        "id": "OPQMqdBCU9f-"
      },
      "source": [
        "**Pie Chart that shows Distribution of Warning Signs**\n",
        "\n"
      ]
    },
    {
      "cell_type": "code",
      "execution_count": 8,
      "metadata": {
        "colab": {
          "base_uri": "https://localhost:8080/",
          "height": 319
        },
        "id": "uNZWTxxNVu7W",
        "outputId": "3c8e0b7c-e624-4bc5-c241-bcc1c9882577"
      },
      "outputs": [
        {
          "data": {
            "image/png": "[encoded data removed]",
            "text/plain": [
              "<Figure size 360x360 with 1 Axes>"
            ]
          },
          "metadata": {},
          "output_type": "display_data"
        }
      ],
      "source": [
        "plt.figure(figsize=(5, 5))\n",
        "top = dataset['color'].value_counts().sort_values(ascending=False).head(10)\n",
        "top.plot(kind='pie')\n",
        "plt.title('Pie Chart for Warning Sign Color')\n",
        "plt.show()     "
      ]
    },
    {
      "cell_type": "markdown",
      "metadata": {
        "id": "PyO7-I757IHx"
      },
      "source": [
        "As Amber signal dominates, we conclude that a rainfall of less than 30mm/hr occurs most of the time."
      ]
    },
    {
      "cell_type": "markdown",
      "metadata": {
        "id": "_EpUO-goWUgH"
      },
      "source": [
        "**Distribution of Rainfall throughout the months**"
      ]
    },
    {
      "cell_type": "code",
      "execution_count": 15,
      "metadata": {
        "colab": {
          "base_uri": "https://localhost:8080/",
          "height": 350
        },
        "id": "JjxYDrUQ9nMA",
        "outputId": "b1a40a96-46e1-4e75-a2be-560d9ede7c06"
      },
      "outputs": [
        {
          "data": {
            "image/png": "[encoded data removed]",
            "text/plain": [
              "<Figure size 720x360 with 1 Axes>"
            ]
          },
          "metadata": {
            "needs_background": "light"
          },
          "output_type": "display_data"
        }
      ],
      "source": [
        "m_count=[]\n",
        "months=['Jan','Feb','Mar','Apr','May','Jun','Jul','Aug','Sep','Oct','Nov','Dec']\n",
        "for m in months:\n",
        " t=0 \n",
        " for d in dataset['start date']:\n",
        "  t+=d.count(m)\n",
        " m_count.append(t)\n",
        "\n",
        "#displaying the plot\n",
        "fig = plt.figure(figsize = (10, 5))\n",
        "plt.bar(months,m_count)\n",
        "plt.xlabel(\"Month\")\n",
        "plt.ylabel(\"Number of occurances of rainfall\")\n",
        "plt.title('Distribution of Rainfall throughout the months')\n",
        "plt.show()"
      ]
    },
    {
      "cell_type": "markdown",
      "metadata": {
        "id": "YfxzoYSN6pyI"
      },
      "source": [
        "We observe that the maximum rainfall occurs in June. We can classify the period from May-August as Monsoon."
      ]
    },
    {
      "cell_type": "markdown",
      "metadata": {
        "id": "kZvRmU2W7j3s"
      },
      "source": [
        "**Distribution of duration of rainfall**"
      ]
    },
    {
      "cell_type": "code",
      "execution_count": 22,
      "metadata": {
        "colab": {
          "base_uri": "https://localhost:8080/",
          "height": 350
        },
        "id": "7QZ1r1rjL0Z7",
        "outputId": "3da672df-a641-4c8c-fbfb-929b5515809b"
      },
      "outputs": [
        {
          "data": {
            "image/png": "[encoded data removed]",
            "text/plain": [
              "<Figure size 720x360 with 1 Axes>"
            ]
          },
          "metadata": {
            "needs_background": "light"
          },
          "output_type": "display_data"
        }
      ],
      "source": [
        "duration_range=['00','01','02','03','04','05','06','07','08','09','10']\n",
        "dur_range_no=[]\n",
        "for dur in duration_range:\n",
        "  t=0\n",
        "  for d in dataset['duration']:\n",
        "    if d.startswith(dur):\n",
        "      t+=1\n",
        "  dur_range_no.append(t)\n",
        "\n",
        "#displaying the plot\n",
        "fig = plt.figure(figsize = (10, 5))\n",
        "plt.bar(duration_range, dur_range_no)\n",
        "plt.xlabel(\"Duration (in Hours)\")\n",
        "plt.ylabel(\"Number of occurances of rainfall\")\n",
        "plt.title('Distribution of duration of Rainfall')\n",
        "plt.show()"
      ]
    },
    {
      "cell_type": "markdown",
      "metadata": {
        "id": "xMeFvDLl4CLM"
      },
      "source": [
        "On an average rainfall lasted 1-2 hours each occurance."
      ]
    },
    {
      "cell_type": "markdown",
      "metadata": {
        "id": "jMfUo6EA71wo"
      },
      "source": [
        "**Total duration of rainfall with the years**"
      ]
    },
    {
      "cell_type": "code",
      "execution_count": 15,
      "metadata": {
        "colab": {
          "base_uri": "https://localhost:8080/",
          "height": 350
        },
        "id": "1LJV5xYqvw-m",
        "outputId": "8e59d931-b6fa-42d5-8b22-8a630bc87155"
      },
      "outputs": [
        {
          "data": {
            "image/png": "[encoded data removed]",
            "text/plain": [
              "<Figure size 720x360 with 1 Axes>"
            ]
          },
          "metadata": {
            "needs_background": "light"
          },
          "output_type": "display_data"
        }
      ],
      "source": [
        "years=['98','00','02','04','06','08','10','12','16','18','20']\n",
        "y_duration_array=[]\n",
        "for y in years:\n",
        "  y_duration=0\n",
        "  counter=0\n",
        "  for d in dataset['start date']:\n",
        "    duration=[]\n",
        "    if (d.endswith(y)):\n",
        "      duration=(dataset['duration'][counter]).split()\n",
        "      y_duration+=int(duration[0])+int(duration[1])/60.0\n",
        "      counter+=1\n",
        "  y_duration_array.append(y_duration)\n",
        "\n",
        "#displaying the plot\n",
        "fig = plt.figure(figsize = (10, 5)) \n",
        "plt.plot(years,y_duration_array)\n",
        "plt.xlabel(\"Year\")\n",
        "plt.ylabel(\"Duration of rainfall (in hours)\")\n",
        "plt.title('Total duration of Rainfall each year')\n",
        "plt.show()"
      ]
    },
    {
      "cell_type": "markdown",
      "metadata": {
        "id": "dbq8HQ2n6-4N"
      },
      "source": [
        "While the total duration of rainfall keeps oscillating through the years, there seems to be a net positive increase in rainfall after the year 2012."
      ]
    },
    {
      "cell_type": "markdown",
      "metadata": {
        "id": "x82c6vzj9d3l"
      },
      "source": [
        "**Expectation of rainfall in future years**"
      ]
    },
    {
      "cell_type": "code",
      "execution_count": 32,
      "metadata": {
        "colab": {
          "base_uri": "https://localhost:8080/",
          "height": 439
        },
        "id": "4WYki1wDkhyU",
        "outputId": "9ce2313a-4e77-4c0c-fa82-7c846e236f3e"
      },
      "outputs": [
        {
          "name": "stderr",
          "output_type": "stream",
          "text": [
            "/usr/local/lib/python3.8/dist-packages/seaborn/_decorators.py:36: FutureWarning: Pass the following variables as keyword args: x, y. From version 0.12, the only valid positional argument will be `data`, and passing other arguments without an explicit keyword will result in an error or misinterpretation.\n",
            "  warnings.warn(\n",
            "WARNING:matplotlib.legend:No handles with labels found to put in legend.\n"
          ]
        },
        {
          "data": {
            "text/plain": [
              "<matplotlib.legend.Legend at 0x7f7705981880>"
            ]
          },
          "execution_count": 32,
          "metadata": {},
          "output_type": "execute_result"
        },
        {
          "data": {
            "image/png": "[encoded data removed]",
            "text/plain": [
              "<Figure size 720x360 with 1 Axes>"
            ]
          },
          "metadata": {
            "needs_background": "light"
          },
          "output_type": "display_data"
        }
      ],
      "source": [
        "years=[1998,2000,2002,2004,2006,2008,2010,2012,2016,2018,2020]\n",
        "\n",
        "#displaying the plot\n",
        "fig = plt.figure(figsize = (10, 5))\n",
        "plt.xlabel(\"Year\")\n",
        "plt.ylabel(\"Duration of rainfall (in hours)\")\n",
        "plt.title('Average Annual Rainfall')\n",
        "sb.regplot(years,y_duration_array , color='green')"
      ]
    },
    {
      "cell_type": "markdown",
      "metadata": {
        "id": "_JBiNl_e5mTN"
      },
      "source": [
        "# Conclusions"
      ]
    },
    {
      "cell_type": "markdown",
      "metadata": {
        "id": "Mrn3eCw85p_r"
      },
      "source": [
        "\n",
        "\n",
        "*   As Amber signal dominates, we conclude that a rainfall of less than 30mm/hr occurs most of the time.\n",
        "*  We observe that the maximum rainfall occurs in June. We can classify the period from May-August as Monsoon.\n",
        "\n",
        "*   On an average rainfall lasted 1-2 hours each occurance.\n",
        "\n",
        "*   There is a net positive increase in total duration of rainfall after the year 2012.\n",
        "\n",
        "\n",
        "\n",
        "\n",
        "\n"
      ]
    }
  ],
  "metadata": {
    "colab": {
      "provenance": []
    },
    "kernelspec": {
      "display_name": "Python 3",
      "name": "python3"
    },
    "language_info": {
      "name": "python"
    }
  },
  "nbformat": 4,
  "nbformat_minor": 0
}
