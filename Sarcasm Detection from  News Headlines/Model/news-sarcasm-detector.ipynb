{
 "cells": [
  {
   "cell_type": "markdown",
   "id": "85e00e17",
   "metadata": {},
   "source": [
    "# Sarcasm Detection"
   ]
  },
  {
   "cell_type": "code",
   "execution_count": 26,
   "id": "551cd4c9",
   "metadata": {
    "execution": {
     "iopub.execute_input": "2022-01-21T11:01:52.356314Z",
     "iopub.status.busy": "2022-01-21T11:01:52.355560Z",
     "iopub.status.idle": "2022-01-21T11:01:52.367128Z",
     "shell.execute_reply": "2022-01-21T11:01:52.367691Z",
     "shell.execute_reply.started": "2022-01-21T10:50:57.302336Z"
    },
    "papermill": {
     "duration": 0.057791,
     "end_time": "2022-01-21T11:01:52.367975",
     "exception": false,
     "start_time": "2022-01-21T11:01:52.310184",
     "status": "completed"
    },
    "tags": []
   },
   "outputs": [],
   "source": [
    "\n",
    "import numpy as np # linear algebra\n",
    "import pandas as pd # data processing, CSV file I/O (e.g. pd.read_csv)\n",
    "\n",
    "\n",
    "import os\n",
    "for dirname, _, filenames in os.walk('/kaggle/input'):\n",
    "    for filename in filenames:\n",
    "        print(os.path.join(dirname, filename))\n",
    "\n"
   ]
  },
  {
   "cell_type": "code",
   "execution_count": 27,
   "id": "4d89bed0",
   "metadata": {
    "execution": {
     "iopub.execute_input": "2022-01-21T11:01:52.436667Z",
     "iopub.status.busy": "2022-01-21T11:01:52.436037Z",
     "iopub.status.idle": "2022-01-21T11:01:53.276535Z",
     "shell.execute_reply": "2022-01-21T11:01:53.276032Z",
     "shell.execute_reply.started": "2022-01-21T10:50:57.359967Z"
    },
    "papermill": {
     "duration": 0.875546,
     "end_time": "2022-01-21T11:01:53.276656",
     "exception": false,
     "start_time": "2022-01-21T11:01:52.401110",
     "status": "completed"
    },
    "tags": []
   },
   "outputs": [],
   "source": [
    "import matplotlib.pyplot as plt\n",
    "import seaborn as sns"
   ]
  },
  {
   "cell_type": "code",
   "execution_count": 28,
   "id": "85a55db1",
   "metadata": {
    "execution": {
     "iopub.execute_input": "2022-01-21T11:01:53.345509Z",
     "iopub.status.busy": "2022-01-21T11:01:53.344977Z",
     "iopub.status.idle": "2022-01-21T11:01:53.605439Z",
     "shell.execute_reply": "2022-01-21T11:01:53.604829Z",
     "shell.execute_reply.started": "2022-01-21T10:50:57.369809Z"
    },
    "papermill": {
     "duration": 0.295974,
     "end_time": "2022-01-21T11:01:53.605567",
     "exception": false,
     "start_time": "2022-01-21T11:01:53.309593",
     "status": "completed"
    },
    "tags": []
   },
   "outputs": [],
   "source": [
    "data = pd.read_json('../Dataset/Sarcasm_Headlines_Dataset_v2.json',lines = True)\n"
   ]
  },
  {
   "cell_type": "code",
   "execution_count": 29,
   "id": "251e8bf1",
   "metadata": {
    "execution": {
     "iopub.execute_input": "2022-01-21T11:01:53.674602Z",
     "iopub.status.busy": "2022-01-21T11:01:53.673837Z",
     "iopub.status.idle": "2022-01-21T11:01:53.686131Z",
     "shell.execute_reply": "2022-01-21T11:01:53.686621Z",
     "shell.execute_reply.started": "2022-01-21T10:50:57.598417Z"
    },
    "papermill": {
     "duration": 0.046963,
     "end_time": "2022-01-21T11:01:53.686767",
     "exception": false,
     "start_time": "2022-01-21T11:01:53.639804",
     "status": "completed"
    },
    "tags": []
   },
   "outputs": [
    {
     "data": {
      "text/html": [
       "<div>\n",
       "<style scoped>\n",
       "    .dataframe tbody tr th:only-of-type {\n",
       "        vertical-align: middle;\n",
       "    }\n",
       "\n",
       "    .dataframe tbody tr th {\n",
       "        vertical-align: top;\n",
       "    }\n",
       "\n",
       "    .dataframe thead th {\n",
       "        text-align: right;\n",
       "    }\n",
       "</style>\n",
       "<table border=\"1\" class=\"dataframe\">\n",
       "  <thead>\n",
       "    <tr style=\"text-align: right;\">\n",
       "      <th></th>\n",
       "      <th>is_sarcastic</th>\n",
       "      <th>headline</th>\n",
       "      <th>article_link</th>\n",
       "    </tr>\n",
       "  </thead>\n",
       "  <tbody>\n",
       "    <tr>\n",
       "      <th>0</th>\n",
       "      <td>1</td>\n",
       "      <td>thirtysomething scientists unveil doomsday clo...</td>\n",
       "      <td>https://www.theonion.com/thirtysomething-scien...</td>\n",
       "    </tr>\n",
       "    <tr>\n",
       "      <th>1</th>\n",
       "      <td>0</td>\n",
       "      <td>dem rep. totally nails why congress is falling...</td>\n",
       "      <td>https://www.huffingtonpost.com/entry/donna-edw...</td>\n",
       "    </tr>\n",
       "    <tr>\n",
       "      <th>2</th>\n",
       "      <td>0</td>\n",
       "      <td>eat your veggies: 9 deliciously different recipes</td>\n",
       "      <td>https://www.huffingtonpost.com/entry/eat-your-...</td>\n",
       "    </tr>\n",
       "    <tr>\n",
       "      <th>3</th>\n",
       "      <td>1</td>\n",
       "      <td>inclement weather prevents liar from getting t...</td>\n",
       "      <td>https://local.theonion.com/inclement-weather-p...</td>\n",
       "    </tr>\n",
       "    <tr>\n",
       "      <th>4</th>\n",
       "      <td>1</td>\n",
       "      <td>mother comes pretty close to using word 'strea...</td>\n",
       "      <td>https://www.theonion.com/mother-comes-pretty-c...</td>\n",
       "    </tr>\n",
       "  </tbody>\n",
       "</table>\n",
       "</div>"
      ],
      "text/plain": [
       "   is_sarcastic                                           headline  \\\n",
       "0             1  thirtysomething scientists unveil doomsday clo...   \n",
       "1             0  dem rep. totally nails why congress is falling...   \n",
       "2             0  eat your veggies: 9 deliciously different recipes   \n",
       "3             1  inclement weather prevents liar from getting t...   \n",
       "4             1  mother comes pretty close to using word 'strea...   \n",
       "\n",
       "                                        article_link  \n",
       "0  https://www.theonion.com/thirtysomething-scien...  \n",
       "1  https://www.huffingtonpost.com/entry/donna-edw...  \n",
       "2  https://www.huffingtonpost.com/entry/eat-your-...  \n",
       "3  https://local.theonion.com/inclement-weather-p...  \n",
       "4  https://www.theonion.com/mother-comes-pretty-c...  "
      ]
     },
     "execution_count": 29,
     "metadata": {},
     "output_type": "execute_result"
    }
   ],
   "source": [
    "data.head()"
   ]
  },
  {
   "cell_type": "code",
   "execution_count": 30,
   "id": "5e561ebd",
   "metadata": {
    "execution": {
     "iopub.execute_input": "2022-01-21T11:01:53.757875Z",
     "iopub.status.busy": "2022-01-21T11:01:53.757138Z",
     "iopub.status.idle": "2022-01-21T11:01:53.759090Z",
     "shell.execute_reply": "2022-01-21T11:01:53.759477Z",
     "shell.execute_reply.started": "2022-01-21T10:50:57.614218Z"
    },
    "papermill": {
     "duration": 0.040973,
     "end_time": "2022-01-21T11:01:53.759601",
     "exception": false,
     "start_time": "2022-01-21T11:01:53.718628",
     "status": "completed"
    },
    "tags": []
   },
   "outputs": [],
   "source": [
    "df = data.drop('article_link',axis  = 1)"
   ]
  },
  {
   "cell_type": "code",
   "execution_count": 31,
   "id": "31e0939d",
   "metadata": {
    "execution": {
     "iopub.execute_input": "2022-01-21T11:01:53.830285Z",
     "iopub.status.busy": "2022-01-21T11:01:53.827301Z",
     "iopub.status.idle": "2022-01-21T11:01:53.833375Z",
     "shell.execute_reply": "2022-01-21T11:01:53.832962Z",
     "shell.execute_reply.started": "2022-01-21T10:50:57.625807Z"
    },
    "papermill": {
     "duration": 0.042308,
     "end_time": "2022-01-21T11:01:53.833472",
     "exception": false,
     "start_time": "2022-01-21T11:01:53.791164",
     "status": "completed"
    },
    "tags": []
   },
   "outputs": [
    {
     "data": {
      "text/html": [
       "<div>\n",
       "<style scoped>\n",
       "    .dataframe tbody tr th:only-of-type {\n",
       "        vertical-align: middle;\n",
       "    }\n",
       "\n",
       "    .dataframe tbody tr th {\n",
       "        vertical-align: top;\n",
       "    }\n",
       "\n",
       "    .dataframe thead th {\n",
       "        text-align: right;\n",
       "    }\n",
       "</style>\n",
       "<table border=\"1\" class=\"dataframe\">\n",
       "  <thead>\n",
       "    <tr style=\"text-align: right;\">\n",
       "      <th></th>\n",
       "      <th>is_sarcastic</th>\n",
       "      <th>headline</th>\n",
       "    </tr>\n",
       "  </thead>\n",
       "  <tbody>\n",
       "    <tr>\n",
       "      <th>0</th>\n",
       "      <td>1</td>\n",
       "      <td>thirtysomething scientists unveil doomsday clo...</td>\n",
       "    </tr>\n",
       "    <tr>\n",
       "      <th>1</th>\n",
       "      <td>0</td>\n",
       "      <td>dem rep. totally nails why congress is falling...</td>\n",
       "    </tr>\n",
       "    <tr>\n",
       "      <th>2</th>\n",
       "      <td>0</td>\n",
       "      <td>eat your veggies: 9 deliciously different recipes</td>\n",
       "    </tr>\n",
       "    <tr>\n",
       "      <th>3</th>\n",
       "      <td>1</td>\n",
       "      <td>inclement weather prevents liar from getting t...</td>\n",
       "    </tr>\n",
       "    <tr>\n",
       "      <th>4</th>\n",
       "      <td>1</td>\n",
       "      <td>mother comes pretty close to using word 'strea...</td>\n",
       "    </tr>\n",
       "  </tbody>\n",
       "</table>\n",
       "</div>"
      ],
      "text/plain": [
       "   is_sarcastic                                           headline\n",
       "0             1  thirtysomething scientists unveil doomsday clo...\n",
       "1             0  dem rep. totally nails why congress is falling...\n",
       "2             0  eat your veggies: 9 deliciously different recipes\n",
       "3             1  inclement weather prevents liar from getting t...\n",
       "4             1  mother comes pretty close to using word 'strea..."
      ]
     },
     "execution_count": 31,
     "metadata": {},
     "output_type": "execute_result"
    }
   ],
   "source": [
    "df.head()"
   ]
  },
  {
   "cell_type": "code",
   "execution_count": 32,
   "id": "0d598efc",
   "metadata": {
    "execution": {
     "iopub.execute_input": "2022-01-21T11:01:53.908830Z",
     "iopub.status.busy": "2022-01-21T11:01:53.907287Z",
     "iopub.status.idle": "2022-01-21T11:01:53.912302Z",
     "shell.execute_reply": "2022-01-21T11:01:53.911829Z",
     "shell.execute_reply.started": "2022-01-21T10:50:57.638148Z"
    },
    "papermill": {
     "duration": 0.046736,
     "end_time": "2022-01-21T11:01:53.912414",
     "exception": false,
     "start_time": "2022-01-21T11:01:53.865678",
     "status": "completed"
    },
    "tags": []
   },
   "outputs": [
    {
     "data": {
      "text/plain": [
       "(28619, 2)"
      ]
     },
     "execution_count": 32,
     "metadata": {},
     "output_type": "execute_result"
    }
   ],
   "source": [
    "df.shape"
   ]
  },
  {
   "cell_type": "code",
   "execution_count": 33,
   "id": "47169176",
   "metadata": {
    "execution": {
     "iopub.execute_input": "2022-01-21T11:01:53.995461Z",
     "iopub.status.busy": "2022-01-21T11:01:53.991518Z",
     "iopub.status.idle": "2022-01-21T11:01:54.003931Z",
     "shell.execute_reply": "2022-01-21T11:01:54.004493Z",
     "shell.execute_reply.started": "2022-01-21T10:50:57.649961Z"
    },
    "papermill": {
     "duration": 0.054852,
     "end_time": "2022-01-21T11:01:54.004661",
     "exception": false,
     "start_time": "2022-01-21T11:01:53.949809",
     "status": "completed"
    },
    "tags": []
   },
   "outputs": [
    {
     "name": "stdout",
     "output_type": "stream",
     "text": [
      "<class 'pandas.core.frame.DataFrame'>\n",
      "RangeIndex: 28619 entries, 0 to 28618\n",
      "Data columns (total 2 columns):\n",
      " #   Column        Non-Null Count  Dtype \n",
      "---  ------        --------------  ----- \n",
      " 0   is_sarcastic  28619 non-null  int64 \n",
      " 1   headline      28619 non-null  object\n",
      "dtypes: int64(1), object(1)\n",
      "memory usage: 447.3+ KB\n"
     ]
    }
   ],
   "source": [
    "df.info()"
   ]
  },
  {
   "cell_type": "code",
   "execution_count": 34,
   "id": "19dfdafd",
   "metadata": {
    "execution": {
     "iopub.execute_input": "2022-01-21T11:01:54.078387Z",
     "iopub.status.busy": "2022-01-21T11:01:54.077604Z",
     "iopub.status.idle": "2022-01-21T11:01:54.082943Z",
     "shell.execute_reply": "2022-01-21T11:01:54.083391Z",
     "shell.execute_reply.started": "2022-01-21T10:50:57.671240Z"
    },
    "papermill": {
     "duration": 0.045196,
     "end_time": "2022-01-21T11:01:54.083507",
     "exception": false,
     "start_time": "2022-01-21T11:01:54.038311",
     "status": "completed"
    },
    "tags": []
   },
   "outputs": [
    {
     "data": {
      "text/plain": [
       "is_sarcastic    0\n",
       "headline        0\n",
       "dtype: int64"
      ]
     },
     "execution_count": 34,
     "metadata": {},
     "output_type": "execute_result"
    }
   ],
   "source": [
    "df.isnull().sum()"
   ]
  },
  {
   "cell_type": "code",
   "execution_count": 35,
   "id": "ffa50f7a",
   "metadata": {
    "execution": {
     "iopub.execute_input": "2022-01-21T11:01:54.153799Z",
     "iopub.status.busy": "2022-01-21T11:01:54.152968Z",
     "iopub.status.idle": "2022-01-21T11:01:54.389162Z",
     "shell.execute_reply": "2022-01-21T11:01:54.388155Z",
     "shell.execute_reply.started": "2022-01-21T10:50:57.685416Z"
    },
    "papermill": {
     "duration": 0.27308,
     "end_time": "2022-01-21T11:01:54.389358",
     "exception": false,
     "start_time": "2022-01-21T11:01:54.116278",
     "status": "completed"
    },
    "tags": []
   },
   "outputs": [
    {
     "name": "stderr",
     "output_type": "stream",
     "text": [
      "C:\\ProgramData\\Anaconda3\\lib\\site-packages\\seaborn\\_decorators.py:36: FutureWarning: Pass the following variable as a keyword arg: x. From version 0.12, the only valid positional argument will be `data`, and passing other arguments without an explicit keyword will result in an error or misinterpretation.\n",
      "  warnings.warn(\n"
     ]
    },
    {
     "data": {
      "text/plain": [
       "<AxesSubplot:xlabel='is_sarcastic', ylabel='count'>"
      ]
     },
     "execution_count": 35,
     "metadata": {},
     "output_type": "execute_result"
    },
    {
     "data": {
      "image/png": "[encoded data removed]",
      "text/plain": [
       "<Figure size 432x288 with 1 Axes>"
      ]
     },
     "metadata": {
      "needs_background": "light"
     },
     "output_type": "display_data"
    }
   ],
   "source": [
    "sns.countplot(df['is_sarcastic'].value_counts())"
   ]
  },
  {
   "cell_type": "code",
   "execution_count": 36,
   "id": "1a5759a6",
   "metadata": {
    "execution": {
     "iopub.execute_input": "2022-01-21T11:01:54.508851Z",
     "iopub.status.busy": "2022-01-21T11:01:54.507687Z",
     "iopub.status.idle": "2022-01-21T11:02:03.789252Z",
     "shell.execute_reply": "2022-01-21T11:02:03.788683Z",
     "shell.execute_reply.started": "2022-01-21T10:50:57.846546Z"
    },
    "papermill": {
     "duration": 9.34258,
     "end_time": "2022-01-21T11:02:03.789393",
     "exception": false,
     "start_time": "2022-01-21T11:01:54.446813",
     "status": "completed"
    },
    "tags": []
   },
   "outputs": [
    {
     "ename": "ModuleNotFoundError",
     "evalue": "No module named 'spacy'",
     "output_type": "error",
     "traceback": [
      "\u001b[1;31m---------------------------------------------------------------------------\u001b[0m",
      "\u001b[1;31mModuleNotFoundError\u001b[0m                       Traceback (most recent call last)",
      "\u001b[1;32m<ipython-input-36-4959cb9b0afc>\u001b[0m in \u001b[0;36m<module>\u001b[1;34m\u001b[0m\n\u001b[0;32m      2\u001b[0m \u001b[1;32mfrom\u001b[0m \u001b[0mnltk\u001b[0m\u001b[1;33m.\u001b[0m\u001b[0mtokenize\u001b[0m \u001b[1;32mimport\u001b[0m \u001b[0mword_tokenize\u001b[0m\u001b[1;33m,\u001b[0m\u001b[0msent_tokenize\u001b[0m\u001b[1;33m\u001b[0m\u001b[1;33m\u001b[0m\u001b[0m\n\u001b[0;32m      3\u001b[0m \u001b[1;32mfrom\u001b[0m \u001b[0mnltk\u001b[0m\u001b[1;33m.\u001b[0m\u001b[0mcorpus\u001b[0m \u001b[1;32mimport\u001b[0m \u001b[0mstopwords\u001b[0m\u001b[1;33m\u001b[0m\u001b[1;33m\u001b[0m\u001b[0m\n\u001b[1;32m----> 4\u001b[1;33m \u001b[1;32mimport\u001b[0m \u001b[0mspacy\u001b[0m\u001b[1;33m\u001b[0m\u001b[1;33m\u001b[0m\u001b[0m\n\u001b[0m",
      "\u001b[1;31mModuleNotFoundError\u001b[0m: No module named 'spacy'"
     ]
    }
   ],
   "source": [
    "import nltk\n",
    "from nltk.tokenize import word_tokenize,sent_tokenize\n",
    "from nltk.corpus import stopwords\n",
    "import spacy"
   ]
  },
  {
   "cell_type": "code",
   "execution_count": null,
   "id": "0a870924",
   "metadata": {
    "execution": {
     "iopub.execute_input": "2022-01-21T11:02:03.863794Z",
     "iopub.status.busy": "2022-01-21T11:02:03.863002Z",
     "iopub.status.idle": "2022-01-21T11:02:04.560949Z",
     "shell.execute_reply": "2022-01-21T11:02:04.561386Z",
     "shell.execute_reply.started": "2022-01-21T10:50:57.853838Z"
    },
    "papermill": {
     "duration": 0.737319,
     "end_time": "2022-01-21T11:02:04.561552",
     "exception": false,
     "start_time": "2022-01-21T11:02:03.824233",
     "status": "completed"
    },
    "tags": []
   },
   "outputs": [],
   "source": [
    "nlp = spacy.load('en_core_web_sm')\n",
    "def preprocess(text):\n",
    "    doc = nlp(text)\n",
    "    lemmas = [token.lemma_ for token in doc]\n",
    "    a_lemmas = [lemma.lower() for lemma in lemmas if lemma.isalpha() and lemma not in stopwords.words('english')]\n",
    "    lemmatized_text = ' '.join(a_lemmas)\n",
    "    return lemmatized_text"
   ]
  },
  {
   "cell_type": "code",
   "execution_count": null,
   "id": "3eb80bb6",
   "metadata": {
    "execution": {
     "iopub.execute_input": "2022-01-21T11:02:04.638342Z",
     "iopub.status.busy": "2022-01-21T11:02:04.637126Z",
     "iopub.status.idle": "2022-01-21T11:05:16.237316Z",
     "shell.execute_reply": "2022-01-21T11:05:16.236768Z",
     "shell.execute_reply.started": "2022-01-21T10:50:58.413614Z"
    },
    "papermill": {
     "duration": 191.640729,
     "end_time": "2022-01-21T11:05:16.237478",
     "exception": false,
     "start_time": "2022-01-21T11:02:04.596749",
     "status": "completed"
    },
    "tags": []
   },
   "outputs": [],
   "source": [
    "cleaned_text = []\n",
    "for text in df.headline:\n",
    "    cleaned_text.append(preprocess(text))\n",
    "df['clean_text'] = cleaned_text"
   ]
  },
  {
   "cell_type": "code",
   "execution_count": null,
   "id": "fb50115d",
   "metadata": {
    "execution": {
     "iopub.execute_input": "2022-01-21T11:05:16.318480Z",
     "iopub.status.busy": "2022-01-21T11:05:16.317777Z",
     "iopub.status.idle": "2022-01-21T11:05:16.320562Z",
     "shell.execute_reply": "2022-01-21T11:05:16.320993Z",
     "shell.execute_reply.started": "2022-01-21T10:54:22.964439Z"
    },
    "papermill": {
     "duration": 0.047769,
     "end_time": "2022-01-21T11:05:16.321130",
     "exception": false,
     "start_time": "2022-01-21T11:05:16.273361",
     "status": "completed"
    },
    "tags": []
   },
   "outputs": [],
   "source": [
    "df.head()"
   ]
  },
  {
   "cell_type": "code",
   "execution_count": null,
   "id": "0634e09e",
   "metadata": {
    "execution": {
     "iopub.execute_input": "2022-01-21T11:05:16.395467Z",
     "iopub.status.busy": "2022-01-21T11:05:16.394813Z",
     "iopub.status.idle": "2022-01-21T11:05:28.372944Z",
     "shell.execute_reply": "2022-01-21T11:05:28.373349Z",
     "shell.execute_reply.started": "2022-01-21T10:54:22.978778Z"
    },
    "papermill": {
     "duration": 12.017802,
     "end_time": "2022-01-21T11:05:28.373495",
     "exception": false,
     "start_time": "2022-01-21T11:05:16.355693",
     "status": "completed"
    },
    "tags": []
   },
   "outputs": [],
   "source": [
    "from wordcloud import WordCloud\n",
    "plt.figure(figsize = (20,10))\n",
    "wc = WordCloud(width = 1500,height = 1000,max_words = 1000).generate(' '.join(word for word in df.clean_text))\n",
    "plt.axis(\"off\")\n",
    "plt.title('Wordcloud')\n",
    "plt.imshow(wc , interpolation = 'bilinear')"
   ]
  },
  {
   "cell_type": "code",
   "execution_count": null,
   "id": "e773170e",
   "metadata": {
    "execution": {
     "iopub.execute_input": "2022-01-21T11:05:28.476949Z",
     "iopub.status.busy": "2022-01-21T11:05:28.476268Z",
     "iopub.status.idle": "2022-01-21T11:05:28.478865Z",
     "shell.execute_reply": "2022-01-21T11:05:28.478398Z",
     "shell.execute_reply.started": "2022-01-21T10:54:37.513018Z"
    },
    "papermill": {
     "duration": 0.055958,
     "end_time": "2022-01-21T11:05:28.478978",
     "exception": false,
     "start_time": "2022-01-21T11:05:28.423020",
     "status": "completed"
    },
    "tags": []
   },
   "outputs": [],
   "source": [
    "X = df.clean_text\n",
    "y = df.is_sarcastic"
   ]
  },
  {
   "cell_type": "code",
   "execution_count": null,
   "id": "50917e38",
   "metadata": {
    "execution": {
     "iopub.execute_input": "2022-01-21T11:05:28.583228Z",
     "iopub.status.busy": "2022-01-21T11:05:28.582468Z",
     "iopub.status.idle": "2022-01-21T11:05:28.586822Z",
     "shell.execute_reply": "2022-01-21T11:05:28.587335Z",
     "shell.execute_reply.started": "2022-01-21T10:54:37.519966Z"
    },
    "papermill": {
     "duration": 0.059607,
     "end_time": "2022-01-21T11:05:28.587471",
     "exception": false,
     "start_time": "2022-01-21T11:05:28.527864",
     "status": "completed"
    },
    "tags": []
   },
   "outputs": [],
   "source": [
    "from sklearn.metrics import confusion_matrix\n",
    "from sklearn.metrics import classification_report \n",
    "from sklearn.model_selection import train_test_split\n",
    "from sklearn.linear_model import LogisticRegression\n",
    "from sklearn.tree import DecisionTreeClassifier\n",
    "from sklearn.ensemble import RandomForestClassifier\n",
    "from sklearn.linear_model import SGDClassifier\n",
    "from sklearn.naive_bayes import MultinomialNB\n",
    "from sklearn.ensemble import VotingClassifier\n",
    "from sklearn.ensemble import BaggingClassifier\n",
    "from sklearn.ensemble import AdaBoostClassifier, RandomForestClassifier, ExtraTreesClassifier\n",
    "from sklearn.svm import SVC\n",
    "from sklearn.metrics import accuracy_score,precision_score,recall_score,f1_score,roc_auc_score\n",
    "from sklearn.metrics import average_precision_score,roc_auc_score, roc_curve, precision_recall_curve\n",
    "from sklearn.preprocessing import LabelEncoder\n",
    "from sklearn.feature_extraction.text import TfidfVectorizer"
   ]
  },
  {
   "cell_type": "code",
   "execution_count": null,
   "id": "b51ad7fb",
   "metadata": {
    "execution": {
     "iopub.execute_input": "2022-01-21T11:05:28.691248Z",
     "iopub.status.busy": "2022-01-21T11:05:28.690509Z",
     "iopub.status.idle": "2022-01-21T11:05:28.692953Z",
     "shell.execute_reply": "2022-01-21T11:05:28.692490Z",
     "shell.execute_reply.started": "2022-01-21T10:54:37.538996Z"
    },
    "papermill": {
     "duration": 0.056754,
     "end_time": "2022-01-21T11:05:28.693057",
     "exception": false,
     "start_time": "2022-01-21T11:05:28.636303",
     "status": "completed"
    },
    "tags": []
   },
   "outputs": [],
   "source": [
    "def print_metrices(pred,true):\n",
    "    print(confusion_matrix(true,pred))\n",
    "    print(classification_report(true,pred,))\n",
    "    print(\"Accuracy : \",accuracy_score(pred,true))\n",
    "    print(\"Precison : \",precision_score(pred,true, average = 'weighted'))\n",
    "    print(\"Recall : \",recall_score(pred,true,  average = 'weighted'))\n",
    "    print(\"F1 : \",f1_score(pred,true,  average = 'weighted'))"
   ]
  },
  {
   "cell_type": "code",
   "execution_count": null,
   "id": "9d17684e",
   "metadata": {
    "execution": {
     "iopub.execute_input": "2022-01-21T11:05:28.798178Z",
     "iopub.status.busy": "2022-01-21T11:05:28.797550Z",
     "iopub.status.idle": "2022-01-21T11:05:28.804315Z",
     "shell.execute_reply": "2022-01-21T11:05:28.803919Z",
     "shell.execute_reply.started": "2022-01-21T10:54:37.554925Z"
    },
    "papermill": {
     "duration": 0.062036,
     "end_time": "2022-01-21T11:05:28.804417",
     "exception": false,
     "start_time": "2022-01-21T11:05:28.742381",
     "status": "completed"
    },
    "tags": []
   },
   "outputs": [],
   "source": [
    "X_train,X_test,y_train,y_test = train_test_split(X,y,test_size = 0.3,random_state = 42)"
   ]
  },
  {
   "cell_type": "code",
   "execution_count": null,
   "id": "a0d5615c",
   "metadata": {
    "execution": {
     "iopub.execute_input": "2022-01-21T11:05:28.981649Z",
     "iopub.status.busy": "2022-01-21T11:05:28.945828Z",
     "iopub.status.idle": "2022-01-21T11:05:30.215402Z",
     "shell.execute_reply": "2022-01-21T11:05:30.214872Z",
     "shell.execute_reply.started": "2022-01-21T10:54:37.583484Z"
    },
    "papermill": {
     "duration": 1.36173,
     "end_time": "2022-01-21T11:05:30.215546",
     "exception": false,
     "start_time": "2022-01-21T11:05:28.853816",
     "status": "completed"
    },
    "tags": []
   },
   "outputs": [],
   "source": [
    "tfidf = TfidfVectorizer(ngram_range = (1,3))\n",
    "X_tfidf_train = tfidf.fit_transform(X_train.tolist())\n",
    "X_tfidf_test = tfidf.transform(X_test.tolist())"
   ]
  },
  {
   "cell_type": "code",
   "execution_count": null,
   "id": "825da694",
   "metadata": {
    "execution": {
     "iopub.execute_input": "2022-01-21T11:05:30.321711Z",
     "iopub.status.busy": "2022-01-21T11:05:30.320603Z",
     "iopub.status.idle": "2022-01-21T11:05:30.323661Z",
     "shell.execute_reply": "2022-01-21T11:05:30.324090Z",
     "shell.execute_reply.started": "2022-01-21T10:54:39.149430Z"
    },
    "papermill": {
     "duration": 0.058633,
     "end_time": "2022-01-21T11:05:30.324221",
     "exception": false,
     "start_time": "2022-01-21T11:05:30.265588",
     "status": "completed"
    },
    "tags": []
   },
   "outputs": [],
   "source": [
    "X_train.head()"
   ]
  },
  {
   "cell_type": "markdown",
   "id": "6a501343",
   "metadata": {
    "papermill": {
     "duration": 0.048948,
     "end_time": "2022-01-21T11:05:30.422442",
     "exception": false,
     "start_time": "2022-01-21T11:05:30.373494",
     "status": "completed"
    },
    "tags": []
   },
   "source": [
    "**Logistic Regression**"
   ]
  },
  {
   "cell_type": "code",
   "execution_count": null,
   "id": "c50d4b2e",
   "metadata": {
    "execution": {
     "iopub.execute_input": "2022-01-21T11:05:30.526278Z",
     "iopub.status.busy": "2022-01-21T11:05:30.525511Z",
     "iopub.status.idle": "2022-01-21T11:05:32.016933Z",
     "shell.execute_reply": "2022-01-21T11:05:32.018167Z",
     "shell.execute_reply.started": "2022-01-21T10:54:39.157588Z"
    },
    "papermill": {
     "duration": 1.546636,
     "end_time": "2022-01-21T11:05:32.018410",
     "exception": false,
     "start_time": "2022-01-21T11:05:30.471774",
     "status": "completed"
    },
    "tags": []
   },
   "outputs": [],
   "source": [
    "lr = LogisticRegression(class_weight = 'balanced')\n",
    "lr.fit(X_tfidf_train,y_train)"
   ]
  },
  {
   "cell_type": "code",
   "execution_count": null,
   "id": "775eb04d",
   "metadata": {
    "execution": {
     "iopub.execute_input": "2022-01-21T11:05:32.172959Z",
     "iopub.status.busy": "2022-01-21T11:05:32.172116Z",
     "iopub.status.idle": "2022-01-21T11:05:32.213838Z",
     "shell.execute_reply": "2022-01-21T11:05:32.213374Z",
     "shell.execute_reply.started": "2022-01-21T10:54:41.036567Z"
    },
    "papermill": {
     "duration": 0.095448,
     "end_time": "2022-01-21T11:05:32.213958",
     "exception": false,
     "start_time": "2022-01-21T11:05:32.118510",
     "status": "completed"
    },
    "tags": []
   },
   "outputs": [],
   "source": [
    "y_pred_lr = lr.predict(X_tfidf_test)\n",
    "print_metrices(y_pred_lr,y_test)"
   ]
  },
  {
   "cell_type": "markdown",
   "id": "722bb6ae",
   "metadata": {
    "papermill": {
     "duration": 0.053578,
     "end_time": "2022-01-21T11:05:32.327144",
     "exception": false,
     "start_time": "2022-01-21T11:05:32.273566",
     "status": "completed"
    },
    "tags": []
   },
   "source": [
    "**Naive Bayes**"
   ]
  },
  {
   "cell_type": "code",
   "execution_count": null,
   "id": "d773414d",
   "metadata": {
    "execution": {
     "iopub.execute_input": "2022-01-21T11:05:32.431679Z",
     "iopub.status.busy": "2022-01-21T11:05:32.430944Z",
     "iopub.status.idle": "2022-01-21T11:05:32.485649Z",
     "shell.execute_reply": "2022-01-21T11:05:32.485213Z",
     "shell.execute_reply.started": "2022-01-21T10:54:41.112613Z"
    },
    "papermill": {
     "duration": 0.108566,
     "end_time": "2022-01-21T11:05:32.485784",
     "exception": false,
     "start_time": "2022-01-21T11:05:32.377218",
     "status": "completed"
    },
    "tags": []
   },
   "outputs": [],
   "source": [
    "clf_nb = MultinomialNB()\n",
    "clf_nb.fit(X_tfidf_train,y_train)\n",
    "y_pred_nb = clf_nb.predict(X_tfidf_test)\n",
    "print_metrices(y_pred_nb,y_test)"
   ]
  },
  {
   "cell_type": "markdown",
   "id": "4cec8637",
   "metadata": {
    "papermill": {
     "duration": 0.050315,
     "end_time": "2022-01-21T11:05:32.586607",
     "exception": false,
     "start_time": "2022-01-21T11:05:32.536292",
     "status": "completed"
    },
    "tags": []
   },
   "source": [
    "**LinearSVC**"
   ]
  },
  {
   "cell_type": "code",
   "execution_count": null,
   "id": "c6ff0914",
   "metadata": {
    "execution": {
     "iopub.execute_input": "2022-01-21T11:05:32.692892Z",
     "iopub.status.busy": "2022-01-21T11:05:32.692088Z",
     "iopub.status.idle": "2022-01-21T11:05:33.307406Z",
     "shell.execute_reply": "2022-01-21T11:05:33.308092Z",
     "shell.execute_reply.started": "2022-01-21T10:54:41.186936Z"
    },
    "papermill": {
     "duration": 0.671439,
     "end_time": "2022-01-21T11:05:33.308302",
     "exception": false,
     "start_time": "2022-01-21T11:05:32.636863",
     "status": "completed"
    },
    "tags": []
   },
   "outputs": [],
   "source": [
    "from sklearn.svm import LinearSVC\n",
    "svc =  LinearSVC(C= 10,random_state=42,class_weight='balanced')\n",
    "svc.fit(X_tfidf_train,y_train)\n",
    "y_pred_svc = svc.predict(X_tfidf_test)\n",
    "print_metrices(y_pred_svc,y_test)"
   ]
  },
  {
   "cell_type": "markdown",
   "id": "c6c7234e",
   "metadata": {
    "papermill": {
     "duration": 0.050234,
     "end_time": "2022-01-21T11:05:33.409857",
     "exception": false,
     "start_time": "2022-01-21T11:05:33.359623",
     "status": "completed"
    },
    "tags": []
   },
   "source": [
    "**Decision Tree**"
   ]
  },
  {
   "cell_type": "code",
   "execution_count": null,
   "id": "04b9b05f",
   "metadata": {
    "execution": {
     "iopub.execute_input": "2022-01-21T11:05:33.520167Z",
     "iopub.status.busy": "2022-01-21T11:05:33.519440Z",
     "iopub.status.idle": "2022-01-21T11:05:33.979023Z",
     "shell.execute_reply": "2022-01-21T11:05:33.979560Z",
     "shell.execute_reply.started": "2022-01-21T10:54:41.819160Z"
    },
    "papermill": {
     "duration": 0.519445,
     "end_time": "2022-01-21T11:05:33.979763",
     "exception": false,
     "start_time": "2022-01-21T11:05:33.460318",
     "status": "completed"
    },
    "tags": []
   },
   "outputs": [],
   "source": [
    "clf_dt = DecisionTreeClassifier(criterion='gini', splitter = 'best', max_depth=6, random_state=42)\n",
    "clf_dt.fit(X_tfidf_train, y_train)\n",
    "y_pred_dt = clf_dt.predict(X_tfidf_test)\n",
    "print_metrices(y_pred_dt,y_test)"
   ]
  },
  {
   "cell_type": "code",
   "execution_count": null,
   "id": "72b12eae",
   "metadata": {
    "execution": {
     "iopub.execute_input": "2022-01-21T11:05:34.093978Z",
     "iopub.status.busy": "2022-01-21T11:05:34.084236Z",
     "iopub.status.idle": "2022-01-21T11:05:37.009129Z",
     "shell.execute_reply": "2022-01-21T11:05:37.009531Z",
     "shell.execute_reply.started": "2022-01-21T10:54:42.324919Z"
    },
    "papermill": {
     "duration": 2.97845,
     "end_time": "2022-01-21T11:05:37.009686",
     "exception": false,
     "start_time": "2022-01-21T11:05:34.031236",
     "status": "completed"
    },
    "tags": []
   },
   "outputs": [],
   "source": [
    "from sklearn import tree\n",
    "plt.figure(figsize = (30,14))\n",
    "tree.plot_tree(clf_dt)\n",
    "plt.show()"
   ]
  },
  {
   "cell_type": "markdown",
   "id": "4a3d3321",
   "metadata": {
    "papermill": {
     "duration": 0.055058,
     "end_time": "2022-01-21T11:05:37.119541",
     "exception": false,
     "start_time": "2022-01-21T11:05:37.064483",
     "status": "completed"
    },
    "tags": []
   },
   "source": [
    "**Ensemble Approach**"
   ]
  },
  {
   "cell_type": "markdown",
   "id": "a742f109",
   "metadata": {
    "papermill": {
     "duration": 0.073773,
     "end_time": "2022-01-21T11:12:09.198075",
     "exception": false,
     "start_time": "2022-01-21T11:12:09.124302",
     "status": "completed"
    },
    "tags": []
   },
   "source": [
    "## Conclusion"
   ]
  },
  {
   "cell_type": "markdown",
   "id": "e3c78864",
   "metadata": {
    "papermill": {
     "duration": 0.073203,
     "end_time": "2022-01-21T11:12:09.346004",
     "exception": false,
     "start_time": "2022-01-21T11:12:09.272801",
     "status": "completed"
    },
    "tags": []
   },
   "source": [
    "\n",
    "The conclusion that can be drawn after performing the experiment is that when the models trained they provide the following accuracies:\n",
    "\n",
    "* Liner Regression: 0.7686932215234102\n",
    "* Decision Tree: 0.5950384346610762\n",
    "* Naive Bayes: 0.7866293966922898\n",
    "* Linear SVC: 0.7904728627999068\n",
    "\n",
    "Hence,we can conlcude that\n",
    "Naive Bayes and Linear SVC has almost same accuracy for Sracasm Detection.\n"
   ]
  }
 ],
 "metadata": {
  "kernelspec": {
   "display_name": "Python 3",
   "language": "python",
   "name": "python3"
  },
  "language_info": {
   "codemirror_mode": {
    "name": "ipython",
    "version": 3
   },
   "file_extension": ".py",
   "mimetype": "text/x-python",
   "name": "python",
   "nbconvert_exporter": "python",
   "pygments_lexer": "ipython3",
   "version": "3.8.8"
  },
  "papermill": {
   "default_parameters": {},
   "duration": 628.527005,
   "end_time": "2022-01-21T11:12:12.918784",
   "environment_variables": {},
   "exception": null,
   "input_path": "__notebook__.ipynb",
   "output_path": "__notebook__.ipynb",
   "parameters": {},
   "start_time": "2022-01-21T11:01:44.391779",
   "version": "2.3.3"
  }
 },
 "nbformat": 4,
 "nbformat_minor": 5
}
