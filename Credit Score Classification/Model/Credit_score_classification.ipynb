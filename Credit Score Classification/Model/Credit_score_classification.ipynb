{
  "cells": [
    {
      "cell_type": "markdown",
      "id": "ae1a96d7",
      "metadata": {
        "papermill": {
          "duration": 0.028664,
          "end_time": "2022-10-15T06:42:38.239027",
          "exception": false,
          "start_time": "2022-10-15T06:42:38.210363",
          "status": "completed"
        },
        "tags": [],
        "id": "ae1a96d7"
      },
      "source": [
        "#Importing the Dependencies"
      ]
    },
    {
      "cell_type": "code",
      "execution_count": null,
      "id": "59bf9385",
      "metadata": {
        "execution": {
          "iopub.execute_input": "2022-10-15T06:42:38.294439Z",
          "iopub.status.busy": "2022-10-15T06:42:38.293756Z",
          "iopub.status.idle": "2022-10-15T06:42:39.551403Z",
          "shell.execute_reply": "2022-10-15T06:42:39.550378Z"
        },
        "papermill": {
          "duration": 1.288026,
          "end_time": "2022-10-15T06:42:39.554280",
          "exception": false,
          "start_time": "2022-10-15T06:42:38.266254",
          "status": "completed"
        },
        "tags": [],
        "id": "59bf9385"
      },
      "outputs": [],
      "source": [
        "import os\n",
        "import pandas as pd\n",
        "import numpy as np\n",
        "import sklearn\n",
        "import matplotlib as plt\n",
        "import seaborn as sns\n",
        "from IPython import display"
      ]
    },
    {
      "cell_type": "code",
      "execution_count": null,
      "id": "1ea1c0bb",
      "metadata": {
        "execution": {
          "iopub.execute_input": "2022-10-15T06:42:39.607331Z",
          "iopub.status.busy": "2022-10-15T06:42:39.606805Z",
          "iopub.status.idle": "2022-10-15T06:42:39.612813Z",
          "shell.execute_reply": "2022-10-15T06:42:39.611323Z"
        },
        "papermill": {
          "duration": 0.035605,
          "end_time": "2022-10-15T06:42:39.615734",
          "exception": false,
          "start_time": "2022-10-15T06:42:39.580129",
          "status": "completed"
        },
        "tags": [],
        "id": "1ea1c0bb"
      },
      "outputs": [],
      "source": [
        "pd.set_option('display.max_columns', 1000)\n",
        "pd.set_option('display.max_rows', 1000)"
      ]
    },
    {
      "cell_type": "markdown",
      "id": "fe0b13bf",
      "metadata": {
        "papermill": {
          "duration": 0.024507,
          "end_time": "2022-10-15T06:42:39.665375",
          "exception": false,
          "start_time": "2022-10-15T06:42:39.640868",
          "status": "completed"
        },
        "tags": [],
        "id": "fe0b13bf"
      },
      "source": [
        "#Data Collection & Processing"
      ]
    },
    {
      "cell_type": "markdown",
      "id": "81216b82",
      "metadata": {
        "papermill": {
          "duration": 0.024677,
          "end_time": "2022-10-15T06:42:39.714793",
          "exception": false,
          "start_time": "2022-10-15T06:42:39.690116",
          "status": "completed"
        },
        "tags": [],
        "id": "81216b82"
      },
      "source": [
        "Load the train data from csv"
      ]
    },
    {
      "cell_type": "code",
      "execution_count": null,
      "id": "21f976c1",
      "metadata": {
        "execution": {
          "iopub.execute_input": "2022-10-15T06:42:39.766681Z",
          "iopub.status.busy": "2022-10-15T06:42:39.766260Z",
          "iopub.status.idle": "2022-10-15T06:42:41.007555Z",
          "shell.execute_reply": "2022-10-15T06:42:41.005924Z"
        },
        "papermill": {
          "duration": 1.273177,
          "end_time": "2022-10-15T06:42:41.012641",
          "exception": false,
          "start_time": "2022-10-15T06:42:39.739464",
          "status": "completed"
        },
        "tags": [],
        "id": "21f976c1",
        "outputId": "d3887188-c324-48ff-bf36-840af8c8411e"
      },
      "outputs": [
        {
          "name": "stderr",
          "output_type": "stream",
          "text": [
            "/opt/conda/lib/python3.7/site-packages/IPython/core/interactiveshell.py:3552: DtypeWarning: Columns (26) have mixed types.Specify dtype option on import or set low_memory=False.\n",
            "  exec(code_obj, self.user_global_ns, self.user_ns)\n"
          ]
        }
      ],
      "source": [
        "train_df = pd.read_csv('../input/credit-score-classification/train.csv', na_values = '?')"
      ]
    },
    {
      "cell_type": "markdown",
      "id": "42157f83",
      "metadata": {
        "papermill": {
          "duration": 0.024595,
          "end_time": "2022-10-15T06:42:41.063280",
          "exception": false,
          "start_time": "2022-10-15T06:42:41.038685",
          "status": "completed"
        },
        "tags": [],
        "id": "42157f83"
      },
      "source": [
        "Number of rows and Columns"
      ]
    },
    {
      "cell_type": "code",
      "execution_count": null,
      "id": "73e72fe1",
      "metadata": {
        "execution": {
          "iopub.execute_input": "2022-10-15T06:42:41.114623Z",
          "iopub.status.busy": "2022-10-15T06:42:41.114236Z",
          "iopub.status.idle": "2022-10-15T06:42:41.123690Z",
          "shell.execute_reply": "2022-10-15T06:42:41.122302Z"
        },
        "papermill": {
          "duration": 0.038452,
          "end_time": "2022-10-15T06:42:41.126496",
          "exception": false,
          "start_time": "2022-10-15T06:42:41.088044",
          "status": "completed"
        },
        "tags": [],
        "id": "73e72fe1",
        "outputId": "225b31e7-bb71-4a76-9fac-b72424a66ae9"
      },
      "outputs": [
        {
          "data": {
            "text/plain": [
              "(100000, 28)"
            ]
          },
          "execution_count": 4,
          "metadata": {},
          "output_type": "execute_result"
        }
      ],
      "source": [
        "train_df.shape"
      ]
    },
    {
      "cell_type": "markdown",
      "id": "ed69a9df",
      "metadata": {
        "papermill": {
          "duration": 0.02459,
          "end_time": "2022-10-15T06:42:41.176432",
          "exception": false,
          "start_time": "2022-10-15T06:42:41.151842",
          "status": "completed"
        },
        "tags": [],
        "id": "ed69a9df"
      },
      "source": [
        "Printing the first 5 rows of the dataframe"
      ]
    },
    {
      "cell_type": "code",
      "execution_count": null,
      "id": "cc225df8",
      "metadata": {
        "execution": {
          "iopub.execute_input": "2022-10-15T06:42:41.228122Z",
          "iopub.status.busy": "2022-10-15T06:42:41.227699Z",
          "iopub.status.idle": "2022-10-15T06:42:41.257160Z",
          "shell.execute_reply": "2022-10-15T06:42:41.256289Z"
        },
        "papermill": {
          "duration": 0.058562,
          "end_time": "2022-10-15T06:42:41.259827",
          "exception": false,
          "start_time": "2022-10-15T06:42:41.201265",
          "status": "completed"
        },
        "tags": [],
        "id": "cc225df8",
        "outputId": "c2955cf2-262b-4ae6-c2fa-b554eb69b85c"
      },
      "outputs": [
        {
          "data": {
            "text/html": [
              "<div>\n",
              "<style scoped>\n",
              "    .dataframe tbody tr th:only-of-type {\n",
              "        vertical-align: middle;\n",
              "    }\n",
              "\n",
              "    .dataframe tbody tr th {\n",
              "        vertical-align: top;\n",
              "    }\n",
              "\n",
              "    .dataframe thead th {\n",
              "        text-align: right;\n",
              "    }\n",
              "</style>\n",
              "<table border=\"1\" class=\"dataframe\">\n",
              "  <thead>\n",
              "    <tr style=\"text-align: right;\">\n",
              "      <th></th>\n",
              "      <th>0</th>\n",
              "      <th>1</th>\n",
              "      <th>2</th>\n",
              "      <th>3</th>\n",
              "      <th>4</th>\n",
              "    </tr>\n",
              "  </thead>\n",
              "  <tbody>\n",
              "    <tr>\n",
              "      <th>ID</th>\n",
              "      <td>0x1602</td>\n",
              "      <td>0x1603</td>\n",
              "      <td>0x1604</td>\n",
              "      <td>0x1605</td>\n",
              "      <td>0x1606</td>\n",
              "    </tr>\n",
              "    <tr>\n",
              "      <th>Customer_ID</th>\n",
              "      <td>CUS_0xd40</td>\n",
              "      <td>CUS_0xd40</td>\n",
              "      <td>CUS_0xd40</td>\n",
              "      <td>CUS_0xd40</td>\n",
              "      <td>CUS_0xd40</td>\n",
              "    </tr>\n",
              "    <tr>\n",
              "      <th>Month</th>\n",
              "      <td>January</td>\n",
              "      <td>February</td>\n",
              "      <td>March</td>\n",
              "      <td>April</td>\n",
              "      <td>May</td>\n",
              "    </tr>\n",
              "    <tr>\n",
              "      <th>Name</th>\n",
              "      <td>Aaron Maashoh</td>\n",
              "      <td>Aaron Maashoh</td>\n",
              "      <td>Aaron Maashoh</td>\n",
              "      <td>Aaron Maashoh</td>\n",
              "      <td>Aaron Maashoh</td>\n",
              "    </tr>\n",
              "    <tr>\n",
              "      <th>Age</th>\n",
              "      <td>23</td>\n",
              "      <td>23</td>\n",
              "      <td>-500</td>\n",
              "      <td>23</td>\n",
              "      <td>23</td>\n",
              "    </tr>\n",
              "    <tr>\n",
              "      <th>SSN</th>\n",
              "      <td>821-00-0265</td>\n",
              "      <td>821-00-0265</td>\n",
              "      <td>821-00-0265</td>\n",
              "      <td>821-00-0265</td>\n",
              "      <td>821-00-0265</td>\n",
              "    </tr>\n",
              "    <tr>\n",
              "      <th>Occupation</th>\n",
              "      <td>Scientist</td>\n",
              "      <td>Scientist</td>\n",
              "      <td>Scientist</td>\n",
              "      <td>Scientist</td>\n",
              "      <td>Scientist</td>\n",
              "    </tr>\n",
              "    <tr>\n",
              "      <th>Annual_Income</th>\n",
              "      <td>19114.12</td>\n",
              "      <td>19114.12</td>\n",
              "      <td>19114.12</td>\n",
              "      <td>19114.12</td>\n",
              "      <td>19114.12</td>\n",
              "    </tr>\n",
              "    <tr>\n",
              "      <th>Monthly_Inhand_Salary</th>\n",
              "      <td>1824.843333</td>\n",
              "      <td>NaN</td>\n",
              "      <td>NaN</td>\n",
              "      <td>NaN</td>\n",
              "      <td>1824.843333</td>\n",
              "    </tr>\n",
              "    <tr>\n",
              "      <th>Num_Bank_Accounts</th>\n",
              "      <td>3</td>\n",
              "      <td>3</td>\n",
              "      <td>3</td>\n",
              "      <td>3</td>\n",
              "      <td>3</td>\n",
              "    </tr>\n",
              "    <tr>\n",
              "      <th>Num_Credit_Card</th>\n",
              "      <td>4</td>\n",
              "      <td>4</td>\n",
              "      <td>4</td>\n",
              "      <td>4</td>\n",
              "      <td>4</td>\n",
              "    </tr>\n",
              "    <tr>\n",
              "      <th>Interest_Rate</th>\n",
              "      <td>3</td>\n",
              "      <td>3</td>\n",
              "      <td>3</td>\n",
              "      <td>3</td>\n",
              "      <td>3</td>\n",
              "    </tr>\n",
              "    <tr>\n",
              "      <th>Num_of_Loan</th>\n",
              "      <td>4</td>\n",
              "      <td>4</td>\n",
              "      <td>4</td>\n",
              "      <td>4</td>\n",
              "      <td>4</td>\n",
              "    </tr>\n",
              "    <tr>\n",
              "      <th>Type_of_Loan</th>\n",
              "      <td>Auto Loan, Credit-Builder Loan, Personal Loan,...</td>\n",
              "      <td>Auto Loan, Credit-Builder Loan, Personal Loan,...</td>\n",
              "      <td>Auto Loan, Credit-Builder Loan, Personal Loan,...</td>\n",
              "      <td>Auto Loan, Credit-Builder Loan, Personal Loan,...</td>\n",
              "      <td>Auto Loan, Credit-Builder Loan, Personal Loan,...</td>\n",
              "    </tr>\n",
              "    <tr>\n",
              "      <th>Delay_from_due_date</th>\n",
              "      <td>3</td>\n",
              "      <td>-1</td>\n",
              "      <td>3</td>\n",
              "      <td>5</td>\n",
              "      <td>6</td>\n",
              "    </tr>\n",
              "    <tr>\n",
              "      <th>Num_of_Delayed_Payment</th>\n",
              "      <td>7</td>\n",
              "      <td>NaN</td>\n",
              "      <td>7</td>\n",
              "      <td>4</td>\n",
              "      <td>NaN</td>\n",
              "    </tr>\n",
              "    <tr>\n",
              "      <th>Changed_Credit_Limit</th>\n",
              "      <td>11.27</td>\n",
              "      <td>11.27</td>\n",
              "      <td>_</td>\n",
              "      <td>6.27</td>\n",
              "      <td>11.27</td>\n",
              "    </tr>\n",
              "    <tr>\n",
              "      <th>Num_Credit_Inquiries</th>\n",
              "      <td>4.0</td>\n",
              "      <td>4.0</td>\n",
              "      <td>4.0</td>\n",
              "      <td>4.0</td>\n",
              "      <td>4.0</td>\n",
              "    </tr>\n",
              "    <tr>\n",
              "      <th>Credit_Mix</th>\n",
              "      <td>_</td>\n",
              "      <td>Good</td>\n",
              "      <td>Good</td>\n",
              "      <td>Good</td>\n",
              "      <td>Good</td>\n",
              "    </tr>\n",
              "    <tr>\n",
              "      <th>Outstanding_Debt</th>\n",
              "      <td>809.98</td>\n",
              "      <td>809.98</td>\n",
              "      <td>809.98</td>\n",
              "      <td>809.98</td>\n",
              "      <td>809.98</td>\n",
              "    </tr>\n",
              "    <tr>\n",
              "      <th>Credit_Utilization_Ratio</th>\n",
              "      <td>26.82262</td>\n",
              "      <td>31.94496</td>\n",
              "      <td>28.609352</td>\n",
              "      <td>31.377862</td>\n",
              "      <td>24.797347</td>\n",
              "    </tr>\n",
              "    <tr>\n",
              "      <th>Credit_History_Age</th>\n",
              "      <td>22 Years and 1 Months</td>\n",
              "      <td>NaN</td>\n",
              "      <td>22 Years and 3 Months</td>\n",
              "      <td>22 Years and 4 Months</td>\n",
              "      <td>22 Years and 5 Months</td>\n",
              "    </tr>\n",
              "    <tr>\n",
              "      <th>Payment_of_Min_Amount</th>\n",
              "      <td>No</td>\n",
              "      <td>No</td>\n",
              "      <td>No</td>\n",
              "      <td>No</td>\n",
              "      <td>No</td>\n",
              "    </tr>\n",
              "    <tr>\n",
              "      <th>Total_EMI_per_month</th>\n",
              "      <td>49.574949</td>\n",
              "      <td>49.574949</td>\n",
              "      <td>49.574949</td>\n",
              "      <td>49.574949</td>\n",
              "      <td>49.574949</td>\n",
              "    </tr>\n",
              "    <tr>\n",
              "      <th>Amount_invested_monthly</th>\n",
              "      <td>80.41529543900253</td>\n",
              "      <td>118.28022162236736</td>\n",
              "      <td>81.699521264648</td>\n",
              "      <td>199.4580743910713</td>\n",
              "      <td>41.420153086217326</td>\n",
              "    </tr>\n",
              "    <tr>\n",
              "      <th>Payment_Behaviour</th>\n",
              "      <td>High_spent_Small_value_payments</td>\n",
              "      <td>Low_spent_Large_value_payments</td>\n",
              "      <td>Low_spent_Medium_value_payments</td>\n",
              "      <td>Low_spent_Small_value_payments</td>\n",
              "      <td>High_spent_Medium_value_payments</td>\n",
              "    </tr>\n",
              "    <tr>\n",
              "      <th>Monthly_Balance</th>\n",
              "      <td>312.49408867943663</td>\n",
              "      <td>284.62916249607184</td>\n",
              "      <td>331.2098628537912</td>\n",
              "      <td>223.45130972736786</td>\n",
              "      <td>341.48923103222177</td>\n",
              "    </tr>\n",
              "    <tr>\n",
              "      <th>Credit_Score</th>\n",
              "      <td>Good</td>\n",
              "      <td>Good</td>\n",
              "      <td>Good</td>\n",
              "      <td>Good</td>\n",
              "      <td>Good</td>\n",
              "    </tr>\n",
              "  </tbody>\n",
              "</table>\n",
              "</div>"
            ],
            "text/plain": [
              "                                                                          0  \\\n",
              "ID                                                                   0x1602   \n",
              "Customer_ID                                                       CUS_0xd40   \n",
              "Month                                                               January   \n",
              "Name                                                          Aaron Maashoh   \n",
              "Age                                                                      23   \n",
              "SSN                                                             821-00-0265   \n",
              "Occupation                                                        Scientist   \n",
              "Annual_Income                                                      19114.12   \n",
              "Monthly_Inhand_Salary                                           1824.843333   \n",
              "Num_Bank_Accounts                                                         3   \n",
              "Num_Credit_Card                                                           4   \n",
              "Interest_Rate                                                             3   \n",
              "Num_of_Loan                                                               4   \n",
              "Type_of_Loan              Auto Loan, Credit-Builder Loan, Personal Loan,...   \n",
              "Delay_from_due_date                                                       3   \n",
              "Num_of_Delayed_Payment                                                    7   \n",
              "Changed_Credit_Limit                                                  11.27   \n",
              "Num_Credit_Inquiries                                                    4.0   \n",
              "Credit_Mix                                                                _   \n",
              "Outstanding_Debt                                                     809.98   \n",
              "Credit_Utilization_Ratio                                           26.82262   \n",
              "Credit_History_Age                                    22 Years and 1 Months   \n",
              "Payment_of_Min_Amount                                                    No   \n",
              "Total_EMI_per_month                                               49.574949   \n",
              "Amount_invested_monthly                                   80.41529543900253   \n",
              "Payment_Behaviour                           High_spent_Small_value_payments   \n",
              "Monthly_Balance                                          312.49408867943663   \n",
              "Credit_Score                                                           Good   \n",
              "\n",
              "                                                                          1  \\\n",
              "ID                                                                   0x1603   \n",
              "Customer_ID                                                       CUS_0xd40   \n",
              "Month                                                              February   \n",
              "Name                                                          Aaron Maashoh   \n",
              "Age                                                                      23   \n",
              "SSN                                                             821-00-0265   \n",
              "Occupation                                                        Scientist   \n",
              "Annual_Income                                                      19114.12   \n",
              "Monthly_Inhand_Salary                                                   NaN   \n",
              "Num_Bank_Accounts                                                         3   \n",
              "Num_Credit_Card                                                           4   \n",
              "Interest_Rate                                                             3   \n",
              "Num_of_Loan                                                               4   \n",
              "Type_of_Loan              Auto Loan, Credit-Builder Loan, Personal Loan,...   \n",
              "Delay_from_due_date                                                      -1   \n",
              "Num_of_Delayed_Payment                                                  NaN   \n",
              "Changed_Credit_Limit                                                  11.27   \n",
              "Num_Credit_Inquiries                                                    4.0   \n",
              "Credit_Mix                                                             Good   \n",
              "Outstanding_Debt                                                     809.98   \n",
              "Credit_Utilization_Ratio                                           31.94496   \n",
              "Credit_History_Age                                                      NaN   \n",
              "Payment_of_Min_Amount                                                    No   \n",
              "Total_EMI_per_month                                               49.574949   \n",
              "Amount_invested_monthly                                  118.28022162236736   \n",
              "Payment_Behaviour                            Low_spent_Large_value_payments   \n",
              "Monthly_Balance                                          284.62916249607184   \n",
              "Credit_Score                                                           Good   \n",
              "\n",
              "                                                                          2  \\\n",
              "ID                                                                   0x1604   \n",
              "Customer_ID                                                       CUS_0xd40   \n",
              "Month                                                                 March   \n",
              "Name                                                          Aaron Maashoh   \n",
              "Age                                                                    -500   \n",
              "SSN                                                             821-00-0265   \n",
              "Occupation                                                        Scientist   \n",
              "Annual_Income                                                      19114.12   \n",
              "Monthly_Inhand_Salary                                                   NaN   \n",
              "Num_Bank_Accounts                                                         3   \n",
              "Num_Credit_Card                                                           4   \n",
              "Interest_Rate                                                             3   \n",
              "Num_of_Loan                                                               4   \n",
              "Type_of_Loan              Auto Loan, Credit-Builder Loan, Personal Loan,...   \n",
              "Delay_from_due_date                                                       3   \n",
              "Num_of_Delayed_Payment                                                    7   \n",
              "Changed_Credit_Limit                                                      _   \n",
              "Num_Credit_Inquiries                                                    4.0   \n",
              "Credit_Mix                                                             Good   \n",
              "Outstanding_Debt                                                     809.98   \n",
              "Credit_Utilization_Ratio                                          28.609352   \n",
              "Credit_History_Age                                    22 Years and 3 Months   \n",
              "Payment_of_Min_Amount                                                    No   \n",
              "Total_EMI_per_month                                               49.574949   \n",
              "Amount_invested_monthly                                     81.699521264648   \n",
              "Payment_Behaviour                           Low_spent_Medium_value_payments   \n",
              "Monthly_Balance                                           331.2098628537912   \n",
              "Credit_Score                                                           Good   \n",
              "\n",
              "                                                                          3  \\\n",
              "ID                                                                   0x1605   \n",
              "Customer_ID                                                       CUS_0xd40   \n",
              "Month                                                                 April   \n",
              "Name                                                          Aaron Maashoh   \n",
              "Age                                                                      23   \n",
              "SSN                                                             821-00-0265   \n",
              "Occupation                                                        Scientist   \n",
              "Annual_Income                                                      19114.12   \n",
              "Monthly_Inhand_Salary                                                   NaN   \n",
              "Num_Bank_Accounts                                                         3   \n",
              "Num_Credit_Card                                                           4   \n",
              "Interest_Rate                                                             3   \n",
              "Num_of_Loan                                                               4   \n",
              "Type_of_Loan              Auto Loan, Credit-Builder Loan, Personal Loan,...   \n",
              "Delay_from_due_date                                                       5   \n",
              "Num_of_Delayed_Payment                                                    4   \n",
              "Changed_Credit_Limit                                                   6.27   \n",
              "Num_Credit_Inquiries                                                    4.0   \n",
              "Credit_Mix                                                             Good   \n",
              "Outstanding_Debt                                                     809.98   \n",
              "Credit_Utilization_Ratio                                          31.377862   \n",
              "Credit_History_Age                                    22 Years and 4 Months   \n",
              "Payment_of_Min_Amount                                                    No   \n",
              "Total_EMI_per_month                                               49.574949   \n",
              "Amount_invested_monthly                                   199.4580743910713   \n",
              "Payment_Behaviour                            Low_spent_Small_value_payments   \n",
              "Monthly_Balance                                          223.45130972736786   \n",
              "Credit_Score                                                           Good   \n",
              "\n",
              "                                                                          4  \n",
              "ID                                                                   0x1606  \n",
              "Customer_ID                                                       CUS_0xd40  \n",
              "Month                                                                   May  \n",
              "Name                                                          Aaron Maashoh  \n",
              "Age                                                                      23  \n",
              "SSN                                                             821-00-0265  \n",
              "Occupation                                                        Scientist  \n",
              "Annual_Income                                                      19114.12  \n",
              "Monthly_Inhand_Salary                                           1824.843333  \n",
              "Num_Bank_Accounts                                                         3  \n",
              "Num_Credit_Card                                                           4  \n",
              "Interest_Rate                                                             3  \n",
              "Num_of_Loan                                                               4  \n",
              "Type_of_Loan              Auto Loan, Credit-Builder Loan, Personal Loan,...  \n",
              "Delay_from_due_date                                                       6  \n",
              "Num_of_Delayed_Payment                                                  NaN  \n",
              "Changed_Credit_Limit                                                  11.27  \n",
              "Num_Credit_Inquiries                                                    4.0  \n",
              "Credit_Mix                                                             Good  \n",
              "Outstanding_Debt                                                     809.98  \n",
              "Credit_Utilization_Ratio                                          24.797347  \n",
              "Credit_History_Age                                    22 Years and 5 Months  \n",
              "Payment_of_Min_Amount                                                    No  \n",
              "Total_EMI_per_month                                               49.574949  \n",
              "Amount_invested_monthly                                  41.420153086217326  \n",
              "Payment_Behaviour                          High_spent_Medium_value_payments  \n",
              "Monthly_Balance                                          341.48923103222177  \n",
              "Credit_Score                                                           Good  "
            ]
          },
          "execution_count": 5,
          "metadata": {},
          "output_type": "execute_result"
        }
      ],
      "source": [
        "train_df.head().T"
      ]
    },
    {
      "cell_type": "markdown",
      "id": "33291eeb",
      "metadata": {
        "papermill": {
          "duration": 0.024856,
          "end_time": "2022-10-15T06:42:41.311292",
          "exception": false,
          "start_time": "2022-10-15T06:42:41.286436",
          "status": "completed"
        },
        "tags": [],
        "id": "33291eeb"
      },
      "source": [
        "Getting some statistical measures about the data"
      ]
    },
    {
      "cell_type": "code",
      "execution_count": null,
      "id": "db549dd2",
      "metadata": {
        "execution": {
          "iopub.execute_input": "2022-10-15T06:42:41.364826Z",
          "iopub.status.busy": "2022-10-15T06:42:41.364446Z",
          "iopub.status.idle": "2022-10-15T06:42:41.441386Z",
          "shell.execute_reply": "2022-10-15T06:42:41.440498Z"
        },
        "papermill": {
          "duration": 0.106631,
          "end_time": "2022-10-15T06:42:41.443737",
          "exception": false,
          "start_time": "2022-10-15T06:42:41.337106",
          "status": "completed"
        },
        "tags": [],
        "id": "db549dd2",
        "outputId": "7476dd1c-1a9a-4016-f9af-759d1ae6c60e"
      },
      "outputs": [
        {
          "data": {
            "text/html": [
              "<div>\n",
              "<style scoped>\n",
              "    .dataframe tbody tr th:only-of-type {\n",
              "        vertical-align: middle;\n",
              "    }\n",
              "\n",
              "    .dataframe tbody tr th {\n",
              "        vertical-align: top;\n",
              "    }\n",
              "\n",
              "    .dataframe thead th {\n",
              "        text-align: right;\n",
              "    }\n",
              "</style>\n",
              "<table border=\"1\" class=\"dataframe\">\n",
              "  <thead>\n",
              "    <tr style=\"text-align: right;\">\n",
              "      <th></th>\n",
              "      <th>Monthly_Inhand_Salary</th>\n",
              "      <th>Num_Bank_Accounts</th>\n",
              "      <th>Num_Credit_Card</th>\n",
              "      <th>Interest_Rate</th>\n",
              "      <th>Delay_from_due_date</th>\n",
              "      <th>Num_Credit_Inquiries</th>\n",
              "      <th>Credit_Utilization_Ratio</th>\n",
              "      <th>Total_EMI_per_month</th>\n",
              "    </tr>\n",
              "  </thead>\n",
              "  <tbody>\n",
              "    <tr>\n",
              "      <th>count</th>\n",
              "      <td>84998.000000</td>\n",
              "      <td>100000.000000</td>\n",
              "      <td>100000.00000</td>\n",
              "      <td>100000.000000</td>\n",
              "      <td>100000.000000</td>\n",
              "      <td>98035.000000</td>\n",
              "      <td>100000.000000</td>\n",
              "      <td>100000.000000</td>\n",
              "    </tr>\n",
              "    <tr>\n",
              "      <th>mean</th>\n",
              "      <td>4194.170850</td>\n",
              "      <td>17.091280</td>\n",
              "      <td>22.47443</td>\n",
              "      <td>72.466040</td>\n",
              "      <td>21.068780</td>\n",
              "      <td>27.754251</td>\n",
              "      <td>32.285173</td>\n",
              "      <td>1403.118217</td>\n",
              "    </tr>\n",
              "    <tr>\n",
              "      <th>std</th>\n",
              "      <td>3183.686167</td>\n",
              "      <td>117.404834</td>\n",
              "      <td>129.05741</td>\n",
              "      <td>466.422621</td>\n",
              "      <td>14.860104</td>\n",
              "      <td>193.177339</td>\n",
              "      <td>5.116875</td>\n",
              "      <td>8306.041270</td>\n",
              "    </tr>\n",
              "    <tr>\n",
              "      <th>min</th>\n",
              "      <td>303.645417</td>\n",
              "      <td>-1.000000</td>\n",
              "      <td>0.00000</td>\n",
              "      <td>1.000000</td>\n",
              "      <td>-5.000000</td>\n",
              "      <td>0.000000</td>\n",
              "      <td>20.000000</td>\n",
              "      <td>0.000000</td>\n",
              "    </tr>\n",
              "    <tr>\n",
              "      <th>25%</th>\n",
              "      <td>1625.568229</td>\n",
              "      <td>3.000000</td>\n",
              "      <td>4.00000</td>\n",
              "      <td>8.000000</td>\n",
              "      <td>10.000000</td>\n",
              "      <td>3.000000</td>\n",
              "      <td>28.052567</td>\n",
              "      <td>30.306660</td>\n",
              "    </tr>\n",
              "    <tr>\n",
              "      <th>50%</th>\n",
              "      <td>3093.745000</td>\n",
              "      <td>6.000000</td>\n",
              "      <td>5.00000</td>\n",
              "      <td>13.000000</td>\n",
              "      <td>18.000000</td>\n",
              "      <td>6.000000</td>\n",
              "      <td>32.305784</td>\n",
              "      <td>69.249473</td>\n",
              "    </tr>\n",
              "    <tr>\n",
              "      <th>75%</th>\n",
              "      <td>5957.448333</td>\n",
              "      <td>7.000000</td>\n",
              "      <td>7.00000</td>\n",
              "      <td>20.000000</td>\n",
              "      <td>28.000000</td>\n",
              "      <td>9.000000</td>\n",
              "      <td>36.496663</td>\n",
              "      <td>161.224249</td>\n",
              "    </tr>\n",
              "    <tr>\n",
              "      <th>max</th>\n",
              "      <td>15204.633333</td>\n",
              "      <td>1798.000000</td>\n",
              "      <td>1499.00000</td>\n",
              "      <td>5797.000000</td>\n",
              "      <td>67.000000</td>\n",
              "      <td>2597.000000</td>\n",
              "      <td>50.000000</td>\n",
              "      <td>82331.000000</td>\n",
              "    </tr>\n",
              "  </tbody>\n",
              "</table>\n",
              "</div>"
            ],
            "text/plain": [
              "       Monthly_Inhand_Salary  Num_Bank_Accounts  Num_Credit_Card  \\\n",
              "count           84998.000000      100000.000000     100000.00000   \n",
              "mean             4194.170850          17.091280         22.47443   \n",
              "std              3183.686167         117.404834        129.05741   \n",
              "min               303.645417          -1.000000          0.00000   \n",
              "25%              1625.568229           3.000000          4.00000   \n",
              "50%              3093.745000           6.000000          5.00000   \n",
              "75%              5957.448333           7.000000          7.00000   \n",
              "max             15204.633333        1798.000000       1499.00000   \n",
              "\n",
              "       Interest_Rate  Delay_from_due_date  Num_Credit_Inquiries  \\\n",
              "count  100000.000000        100000.000000          98035.000000   \n",
              "mean       72.466040            21.068780             27.754251   \n",
              "std       466.422621            14.860104            193.177339   \n",
              "min         1.000000            -5.000000              0.000000   \n",
              "25%         8.000000            10.000000              3.000000   \n",
              "50%        13.000000            18.000000              6.000000   \n",
              "75%        20.000000            28.000000              9.000000   \n",
              "max      5797.000000            67.000000           2597.000000   \n",
              "\n",
              "       Credit_Utilization_Ratio  Total_EMI_per_month  \n",
              "count             100000.000000        100000.000000  \n",
              "mean                  32.285173          1403.118217  \n",
              "std                    5.116875          8306.041270  \n",
              "min                   20.000000             0.000000  \n",
              "25%                   28.052567            30.306660  \n",
              "50%                   32.305784            69.249473  \n",
              "75%                   36.496663           161.224249  \n",
              "max                   50.000000         82331.000000  "
            ]
          },
          "execution_count": 6,
          "metadata": {},
          "output_type": "execute_result"
        }
      ],
      "source": [
        "train_df.describe()"
      ]
    },
    {
      "cell_type": "markdown",
      "id": "7f791464",
      "metadata": {
        "papermill": {
          "duration": 0.02713,
          "end_time": "2022-10-15T06:42:41.497712",
          "exception": false,
          "start_time": "2022-10-15T06:42:41.470582",
          "status": "completed"
        },
        "tags": [],
        "id": "7f791464"
      },
      "source": [
        "Checking the unique values"
      ]
    },
    {
      "cell_type": "code",
      "execution_count": null,
      "id": "7a081418",
      "metadata": {
        "execution": {
          "iopub.execute_input": "2022-10-15T06:42:41.552179Z",
          "iopub.status.busy": "2022-10-15T06:42:41.551782Z",
          "iopub.status.idle": "2022-10-15T06:42:41.801226Z",
          "shell.execute_reply": "2022-10-15T06:42:41.799164Z"
        },
        "papermill": {
          "duration": 0.27979,
          "end_time": "2022-10-15T06:42:41.804193",
          "exception": false,
          "start_time": "2022-10-15T06:42:41.524403",
          "status": "completed"
        },
        "tags": [],
        "id": "7a081418",
        "outputId": "f59658e0-4456-465c-96f4-1fb2bda02418"
      },
      "outputs": [
        {
          "data": {
            "text/plain": [
              "ID                          100000\n",
              "Customer_ID                  12500\n",
              "Month                            8\n",
              "Name                         10139\n",
              "Age                           1788\n",
              "SSN                          12501\n",
              "Occupation                      16\n",
              "Annual_Income                18940\n",
              "Monthly_Inhand_Salary        13235\n",
              "Num_Bank_Accounts              943\n",
              "Num_Credit_Card               1179\n",
              "Interest_Rate                 1750\n",
              "Num_of_Loan                    434\n",
              "Type_of_Loan                  6260\n",
              "Delay_from_due_date             73\n",
              "Num_of_Delayed_Payment         749\n",
              "Changed_Credit_Limit          4384\n",
              "Num_Credit_Inquiries          1223\n",
              "Credit_Mix                       4\n",
              "Outstanding_Debt             13178\n",
              "Credit_Utilization_Ratio    100000\n",
              "Credit_History_Age             404\n",
              "Payment_of_Min_Amount            3\n",
              "Total_EMI_per_month          14950\n",
              "Amount_invested_monthly      91049\n",
              "Payment_Behaviour                7\n",
              "Monthly_Balance              98792\n",
              "Credit_Score                     3\n",
              "dtype: int64"
            ]
          },
          "execution_count": 7,
          "metadata": {},
          "output_type": "execute_result"
        }
      ],
      "source": [
        "train_df.nunique()"
      ]
    },
    {
      "cell_type": "markdown",
      "id": "ef5481fa",
      "metadata": {
        "papermill": {
          "duration": 0.025946,
          "end_time": "2022-10-15T06:42:41.857140",
          "exception": false,
          "start_time": "2022-10-15T06:42:41.831194",
          "status": "completed"
        },
        "tags": [],
        "id": "ef5481fa"
      },
      "source": [
        "Getting some informations about the data"
      ]
    },
    {
      "cell_type": "code",
      "execution_count": null,
      "id": "0b7895be",
      "metadata": {
        "execution": {
          "iopub.execute_input": "2022-10-15T06:42:41.911446Z",
          "iopub.status.busy": "2022-10-15T06:42:41.911028Z",
          "iopub.status.idle": "2022-10-15T06:42:42.018152Z",
          "shell.execute_reply": "2022-10-15T06:42:42.017023Z"
        },
        "papermill": {
          "duration": 0.137937,
          "end_time": "2022-10-15T06:42:42.021310",
          "exception": false,
          "start_time": "2022-10-15T06:42:41.883373",
          "status": "completed"
        },
        "tags": [],
        "id": "0b7895be",
        "outputId": "3d9d61ff-4236-438d-de45-1538fde3b1b0"
      },
      "outputs": [
        {
          "name": "stdout",
          "output_type": "stream",
          "text": [
            "<class 'pandas.core.frame.DataFrame'>\n",
            "RangeIndex: 100000 entries, 0 to 99999\n",
            "Data columns (total 28 columns):\n",
            " #   Column                    Non-Null Count   Dtype  \n",
            "---  ------                    --------------   -----  \n",
            " 0   ID                        100000 non-null  object \n",
            " 1   Customer_ID               100000 non-null  object \n",
            " 2   Month                     100000 non-null  object \n",
            " 3   Name                      90015 non-null   object \n",
            " 4   Age                       100000 non-null  object \n",
            " 5   SSN                       100000 non-null  object \n",
            " 6   Occupation                100000 non-null  object \n",
            " 7   Annual_Income             100000 non-null  object \n",
            " 8   Monthly_Inhand_Salary     84998 non-null   float64\n",
            " 9   Num_Bank_Accounts         100000 non-null  int64  \n",
            " 10  Num_Credit_Card           100000 non-null  int64  \n",
            " 11  Interest_Rate             100000 non-null  int64  \n",
            " 12  Num_of_Loan               100000 non-null  object \n",
            " 13  Type_of_Loan              88592 non-null   object \n",
            " 14  Delay_from_due_date       100000 non-null  int64  \n",
            " 15  Num_of_Delayed_Payment    92998 non-null   object \n",
            " 16  Changed_Credit_Limit      100000 non-null  object \n",
            " 17  Num_Credit_Inquiries      98035 non-null   float64\n",
            " 18  Credit_Mix                100000 non-null  object \n",
            " 19  Outstanding_Debt          100000 non-null  object \n",
            " 20  Credit_Utilization_Ratio  100000 non-null  float64\n",
            " 21  Credit_History_Age        90970 non-null   object \n",
            " 22  Payment_of_Min_Amount     100000 non-null  object \n",
            " 23  Total_EMI_per_month       100000 non-null  float64\n",
            " 24  Amount_invested_monthly   95521 non-null   object \n",
            " 25  Payment_Behaviour         100000 non-null  object \n",
            " 26  Monthly_Balance           98800 non-null   object \n",
            " 27  Credit_Score              100000 non-null  object \n",
            "dtypes: float64(4), int64(4), object(20)\n",
            "memory usage: 21.4+ MB\n"
          ]
        }
      ],
      "source": [
        "train_df.info()"
      ]
    },
    {
      "cell_type": "markdown",
      "id": "940e905d",
      "metadata": {
        "papermill": {
          "duration": 0.027014,
          "end_time": "2022-10-15T06:42:42.075335",
          "exception": false,
          "start_time": "2022-10-15T06:42:42.048321",
          "status": "completed"
        },
        "tags": [],
        "id": "940e905d"
      },
      "source": [
        "Checking the Duplicates"
      ]
    },
    {
      "cell_type": "code",
      "execution_count": null,
      "id": "90b7458c",
      "metadata": {
        "execution": {
          "iopub.execute_input": "2022-10-15T06:42:42.129757Z",
          "iopub.status.busy": "2022-10-15T06:42:42.129376Z",
          "iopub.status.idle": "2022-10-15T06:42:42.479974Z",
          "shell.execute_reply": "2022-10-15T06:42:42.478701Z"
        },
        "papermill": {
          "duration": 0.381631,
          "end_time": "2022-10-15T06:42:42.483380",
          "exception": false,
          "start_time": "2022-10-15T06:42:42.101749",
          "status": "completed"
        },
        "tags": [],
        "id": "90b7458c",
        "outputId": "0c6be8f6-a02a-443f-c04c-d394a421869f"
      },
      "outputs": [
        {
          "name": "stdout",
          "output_type": "stream",
          "text": [
            "(100000, 28)\n"
          ]
        }
      ],
      "source": [
        "train_df.drop_duplicates(keep = 'first', inplace = True)\n",
        "print(train_df.shape)"
      ]
    },
    {
      "cell_type": "markdown",
      "id": "9cded184",
      "metadata": {
        "papermill": {
          "duration": 0.02659,
          "end_time": "2022-10-15T06:42:42.537856",
          "exception": false,
          "start_time": "2022-10-15T06:42:42.511266",
          "status": "completed"
        },
        "tags": [],
        "id": "9cded184"
      },
      "source": [
        "Check the number of missing values in each column"
      ]
    },
    {
      "cell_type": "code",
      "execution_count": null,
      "id": "0bd2b0a4",
      "metadata": {
        "execution": {
          "iopub.execute_input": "2022-10-15T06:42:42.592057Z",
          "iopub.status.busy": "2022-10-15T06:42:42.591662Z",
          "iopub.status.idle": "2022-10-15T06:42:42.686759Z",
          "shell.execute_reply": "2022-10-15T06:42:42.685687Z"
        },
        "papermill": {
          "duration": 0.125196,
          "end_time": "2022-10-15T06:42:42.689172",
          "exception": false,
          "start_time": "2022-10-15T06:42:42.563976",
          "status": "completed"
        },
        "tags": [],
        "id": "0bd2b0a4",
        "outputId": "e3f69152-16be-4553-9e1d-a21b9923ac9b"
      },
      "outputs": [
        {
          "data": {
            "text/plain": [
              "ID                              0\n",
              "Customer_ID                     0\n",
              "Month                           0\n",
              "Name                         9985\n",
              "Age                             0\n",
              "SSN                             0\n",
              "Occupation                      0\n",
              "Annual_Income                   0\n",
              "Monthly_Inhand_Salary       15002\n",
              "Num_Bank_Accounts               0\n",
              "Num_Credit_Card                 0\n",
              "Interest_Rate                   0\n",
              "Num_of_Loan                     0\n",
              "Type_of_Loan                11408\n",
              "Delay_from_due_date             0\n",
              "Num_of_Delayed_Payment       7002\n",
              "Changed_Credit_Limit            0\n",
              "Num_Credit_Inquiries         1965\n",
              "Credit_Mix                      0\n",
              "Outstanding_Debt                0\n",
              "Credit_Utilization_Ratio        0\n",
              "Credit_History_Age           9030\n",
              "Payment_of_Min_Amount           0\n",
              "Total_EMI_per_month             0\n",
              "Amount_invested_monthly      4479\n",
              "Payment_Behaviour               0\n",
              "Monthly_Balance              1200\n",
              "Credit_Score                    0\n",
              "dtype: int64"
            ]
          },
          "execution_count": 10,
          "metadata": {},
          "output_type": "execute_result"
        }
      ],
      "source": [
        "train_df.isna().sum()"
      ]
    },
    {
      "cell_type": "markdown",
      "id": "4cfbd9fe",
      "metadata": {
        "papermill": {
          "duration": 0.026185,
          "end_time": "2022-10-15T06:42:42.742768",
          "exception": false,
          "start_time": "2022-10-15T06:42:42.716583",
          "status": "completed"
        },
        "tags": [],
        "id": "4cfbd9fe"
      },
      "source": [
        "Checking the Data Types"
      ]
    },
    {
      "cell_type": "code",
      "execution_count": null,
      "id": "a712f647",
      "metadata": {
        "execution": {
          "iopub.execute_input": "2022-10-15T06:42:42.799266Z",
          "iopub.status.busy": "2022-10-15T06:42:42.798851Z",
          "iopub.status.idle": "2022-10-15T06:42:42.808478Z",
          "shell.execute_reply": "2022-10-15T06:42:42.806566Z"
        },
        "papermill": {
          "duration": 0.040229,
          "end_time": "2022-10-15T06:42:42.811361",
          "exception": false,
          "start_time": "2022-10-15T06:42:42.771132",
          "status": "completed"
        },
        "tags": [],
        "id": "a712f647",
        "outputId": "10319d73-21d6-49b6-9451-a628b759fd08"
      },
      "outputs": [
        {
          "data": {
            "text/plain": [
              "ID                           object\n",
              "Customer_ID                  object\n",
              "Month                        object\n",
              "Name                         object\n",
              "Age                          object\n",
              "SSN                          object\n",
              "Occupation                   object\n",
              "Annual_Income                object\n",
              "Monthly_Inhand_Salary       float64\n",
              "Num_Bank_Accounts             int64\n",
              "Num_Credit_Card               int64\n",
              "Interest_Rate                 int64\n",
              "Num_of_Loan                  object\n",
              "Type_of_Loan                 object\n",
              "Delay_from_due_date           int64\n",
              "Num_of_Delayed_Payment       object\n",
              "Changed_Credit_Limit         object\n",
              "Num_Credit_Inquiries        float64\n",
              "Credit_Mix                   object\n",
              "Outstanding_Debt             object\n",
              "Credit_Utilization_Ratio    float64\n",
              "Credit_History_Age           object\n",
              "Payment_of_Min_Amount        object\n",
              "Total_EMI_per_month         float64\n",
              "Amount_invested_monthly      object\n",
              "Payment_Behaviour            object\n",
              "Monthly_Balance              object\n",
              "Credit_Score                 object\n",
              "dtype: object"
            ]
          },
          "execution_count": 11,
          "metadata": {},
          "output_type": "execute_result"
        }
      ],
      "source": [
        "train_df.dtypes"
      ]
    },
    {
      "cell_type": "code",
      "execution_count": null,
      "id": "821c49a1",
      "metadata": {
        "execution": {
          "iopub.execute_input": "2022-10-15T06:42:42.869688Z",
          "iopub.status.busy": "2022-10-15T06:42:42.869136Z",
          "iopub.status.idle": "2022-10-15T06:42:42.877328Z",
          "shell.execute_reply": "2022-10-15T06:42:42.876136Z"
        },
        "papermill": {
          "duration": 0.04057,
          "end_time": "2022-10-15T06:42:42.879562",
          "exception": false,
          "start_time": "2022-10-15T06:42:42.838992",
          "status": "completed"
        },
        "tags": [],
        "id": "821c49a1",
        "outputId": "2687bb0b-b77d-4fb7-9c3b-43be9a2db8bd"
      },
      "outputs": [
        {
          "data": {
            "text/plain": [
              "Index(['ID', 'Customer_ID', 'Month', 'Name', 'Age', 'SSN', 'Occupation',\n",
              "       'Annual_Income', 'Monthly_Inhand_Salary', 'Num_Bank_Accounts',\n",
              "       'Num_Credit_Card', 'Interest_Rate', 'Num_of_Loan', 'Type_of_Loan',\n",
              "       'Delay_from_due_date', 'Num_of_Delayed_Payment', 'Changed_Credit_Limit',\n",
              "       'Num_Credit_Inquiries', 'Credit_Mix', 'Outstanding_Debt',\n",
              "       'Credit_Utilization_Ratio', 'Credit_History_Age',\n",
              "       'Payment_of_Min_Amount', 'Total_EMI_per_month',\n",
              "       'Amount_invested_monthly', 'Payment_Behaviour', 'Monthly_Balance',\n",
              "       'Credit_Score'],\n",
              "      dtype='object')"
            ]
          },
          "execution_count": 12,
          "metadata": {},
          "output_type": "execute_result"
        }
      ],
      "source": [
        "train_df.columns"
      ]
    },
    {
      "cell_type": "markdown",
      "id": "f151e6a9",
      "metadata": {
        "papermill": {
          "duration": 0.027956,
          "end_time": "2022-10-15T06:42:42.935047",
          "exception": false,
          "start_time": "2022-10-15T06:42:42.907091",
          "status": "completed"
        },
        "tags": [],
        "id": "f151e6a9"
      },
      "source": [
        "#Data Analysis"
      ]
    },
    {
      "cell_type": "code",
      "execution_count": null,
      "id": "8186a5e3",
      "metadata": {
        "execution": {
          "iopub.execute_input": "2022-10-15T06:42:42.990556Z",
          "iopub.status.busy": "2022-10-15T06:42:42.990112Z",
          "iopub.status.idle": "2022-10-15T06:42:43.817419Z",
          "shell.execute_reply": "2022-10-15T06:42:43.815471Z"
        },
        "papermill": {
          "duration": 0.858056,
          "end_time": "2022-10-15T06:42:43.820423",
          "exception": false,
          "start_time": "2022-10-15T06:42:42.962367",
          "status": "completed"
        },
        "tags": [],
        "id": "8186a5e3",
        "outputId": "09625639-deb0-4f38-a041-f7f0a660164a"
      },
      "outputs": [
        {
          "name": "stdout",
          "output_type": "stream",
          "text": [
            "ID       Customer_ID  Month     Name            Age  SSN          Occupation     Annual_Income  Monthly_Inhand_Salary  Num_Bank_Accounts  Num_Credit_Card  Interest_Rate  Num_of_Loan  Type_of_Loan                                                                                                    Delay_from_due_date  Num_of_Delayed_Payment  Changed_Credit_Limit  Num_Credit_Inquiries  Credit_Mix  Outstanding_Debt  Credit_Utilization_Ratio  Credit_History_Age      Payment_of_Min_Amount  Total_EMI_per_month  Amount_invested_monthly  Payment_Behaviour                 Monthly_Balance     Credit_Score\n",
            "0x10003  CUS_0x54c3   February  Kwoka           28   764-29-3740  Engineer       18354.805      1457.567083            0                  3                8              1            Personal Loan                                                                                                   24                   7                       5.85                  4.0                   Good        863.63            27.107416                 17 Years and 3 Months   No                     13.915906            __10000__                Low_spent_Large_value_payments    303.07767018891633  Poor            1\n",
            "0x3c9c   CUS_0xa090   July      Camposn         36   301-85-8354  Engineer       9158.03        822.124562             7                  9                27             2            Debt Consolidation Loan, and Credit-Builder Loan                                                                57                   22                      1.19                  9.0                   _           2495.15           34.494059                 13 Years and 4 Months   Yes                    54.263164            72.07943359258515        !@9#%8                            281.01892396347563  Standard        1\n",
            "0x3c85   CUS_0xb0e4   August    Niak            55   022-68-0160  Media_Manager  43307.12       3864.926667            0                  4                12             3            Personal Loan, Not Specified, and Payday Loan                                                                   3                    10                      0.95                  6.0                   Good        301.82            37.046972                 24 Years and 2 Months   No                     63.521649            156.37574769348132       High_spent_Medium_value_payments  416.5952695101952   Standard        1\n",
            "0x3c8c   CUS_0x89ca   March     Sheppardx       25   #F%$D@*&8    Journalist     45002.48       3485.206667            4                  7                2              1            Student Loan                                                                                                    29                   17                      0.6499999999999999    0.0                   Standard    1221.95           29.531526                 17 Years and 11 Months  No                     26.130189            100.87186890487881       High_spent_Medium_value_payments  471.5186084746386   Standard        1\n",
            "0x3c8d   CUS_0x89ca   April     Sheppardx       26   152-28-1148  Journalist     45002.48       3485.206667            4                  7                2              1            Student Loan                                                                                                    30                   14                      2.65                  0.0                   Standard    1221.95           26.772677                 18 Years and 0 Months   No                     26.130189            97.4014646487047         Low_spent_Medium_value_payments   504.9890127308128   Standard        1\n",
            "                                                                                                                                                                                                                                                                                                                                                                                                                                                                                                                                                                                                                          ..\n",
            "0x1bc68  CUS_0x82c2   March     Edl             51   044-29-7570  Entrepreneur   31151.46       2479.955000            0                  3                9              3            Payday Loan, Personal Loan, and Payday Loan                                                                     7                    6                       10.47                 5.0                   _           62.17             26.844045                 15 Years and 9 Months   No                     42.494853            98.69217289317531        High_spent_Medium_value_payments  356.8084744642993   Standard        1\n",
            "0x1bc6c  CUS_0x82c2   July      Edl             51   044-29-7570  Entrepreneur   31151.46       2479.955000            0                  3                9              3            Payday Loan, Personal Loan, and Payday Loan                                                                     7                    6                       10.47                 5.0                   Good        62.17             36.918903                 16 Years and 1 Months   No                     18485.000000         49.68275591647074        High_spent_Small_value_payments   415.8178914410039   Poor            1\n",
            "0x1bc6d  CUS_0x82c2   August    Edl             51   044-29-7570  Entrepreneur   31151.46       2479.955000            0                  3                9              3            Payday Loan, Personal Loan, and Payday Loan                                                                     7                    6                       10.47                 5.0                   Good        62.17             34.164137                 16 Years and 2 Months   No                     42.494853            90.69369115684566        High_spent_Medium_value_payments  364.806956200629    Poor            1\n",
            "0x1bc7e  CUS_0x1499   January   Guptaj          49   440-22-8350  _______        100887.72      8271.310000            5                  7                19             4            Credit-Builder Loan, Home Equity Loan, Not Specified, and Payday Loan                                           14                   14                      17.92                 0.0                   Standard    491.35            37.145699                 19 Years and 10 Months  No                     257.336356           205.10591410105502       Low_spent_Large_value_payments    634.6887297555187   Standard        1\n",
            "0xfffb   CUS_0x1a4b   June      Denis Pinchuke  23   490-54-0863  Doctor         19958.32       1411.193333            6                  7                26             -100         Auto Loan, Student Loan, Home Equity Loan, Payday Loan, Payday Loan, Student Loan, and Debt Consolidation Loan  52                   25_                     1.9                   6.0                   Bad         4753.48           35.349975                 4 Years and 9 Months    Yes                    94.810429            48.63739475294326        Low_spent_Small_value_payments    287.67150922822555  Poor            1\n",
            "Length: 53049, dtype: int64\n"
          ]
        }
      ],
      "source": [
        "print(train_df.value_counts())"
      ]
    },
    {
      "cell_type": "code",
      "execution_count": null,
      "id": "dcedf42b",
      "metadata": {
        "execution": {
          "iopub.execute_input": "2022-10-15T06:42:43.880266Z",
          "iopub.status.busy": "2022-10-15T06:42:43.879356Z",
          "iopub.status.idle": "2022-10-15T06:42:43.896031Z",
          "shell.execute_reply": "2022-10-15T06:42:43.894319Z"
        },
        "papermill": {
          "duration": 0.050145,
          "end_time": "2022-10-15T06:42:43.898884",
          "exception": false,
          "start_time": "2022-10-15T06:42:43.848739",
          "status": "completed"
        },
        "tags": [],
        "id": "dcedf42b",
        "outputId": "c058144d-6b42-464d-a4fd-10e153b9d663"
      },
      "outputs": [
        {
          "data": {
            "text/plain": [
              "Standard    53174\n",
              "Poor        28998\n",
              "Good        17828\n",
              "Name: Credit_Score, dtype: int64"
            ]
          },
          "execution_count": 14,
          "metadata": {},
          "output_type": "execute_result"
        }
      ],
      "source": [
        "train_df['Credit_Score'].value_counts()"
      ]
    },
    {
      "cell_type": "code",
      "execution_count": null,
      "id": "c1e70520",
      "metadata": {
        "execution": {
          "iopub.execute_input": "2022-10-15T06:42:43.956840Z",
          "iopub.status.busy": "2022-10-15T06:42:43.956346Z",
          "iopub.status.idle": "2022-10-15T06:42:44.199095Z",
          "shell.execute_reply": "2022-10-15T06:42:44.197292Z"
        },
        "papermill": {
          "duration": 0.274729,
          "end_time": "2022-10-15T06:42:44.202008",
          "exception": false,
          "start_time": "2022-10-15T06:42:43.927279",
          "status": "completed"
        },
        "tags": [],
        "id": "c1e70520",
        "outputId": "46988b4d-c410-41e2-cbc3-c5db416009af"
      },
      "outputs": [
        {
          "name": "stderr",
          "output_type": "stream",
          "text": [
            "/opt/conda/lib/python3.7/site-packages/seaborn/_decorators.py:43: FutureWarning: Pass the following variable as a keyword arg: x. From version 0.12, the only valid positional argument will be `data`, and passing other arguments without an explicit keyword will result in an error or misinterpretation.\n",
            "  FutureWarning\n"
          ]
        },
        {
          "data": {
            "text/plain": [
              "<AxesSubplot:xlabel='Credit_Score', ylabel='count'>"
            ]
          },
          "execution_count": 15,
          "metadata": {},
          "output_type": "execute_result"
        },
        {
          "data": {
            "image/png": "[encoded data removed]",
            "text/plain": [
              "<Figure size 432x288 with 1 Axes>"
            ]
          },
          "metadata": {
            "needs_background": "light"
          },
          "output_type": "display_data"
        }
      ],
      "source": [
        "sns.countplot(train_df['Credit_Score'])"
      ]
    },
    {
      "cell_type": "code",
      "execution_count": null,
      "id": "a67871af",
      "metadata": {
        "execution": {
          "iopub.execute_input": "2022-10-15T06:42:44.261470Z",
          "iopub.status.busy": "2022-10-15T06:42:44.260592Z",
          "iopub.status.idle": "2022-10-15T06:42:44.281632Z",
          "shell.execute_reply": "2022-10-15T06:42:44.280503Z"
        },
        "papermill": {
          "duration": 0.053432,
          "end_time": "2022-10-15T06:42:44.284500",
          "exception": false,
          "start_time": "2022-10-15T06:42:44.231068",
          "status": "completed"
        },
        "tags": [],
        "id": "a67871af"
      },
      "outputs": [],
      "source": [
        "train_df1 = train_df.drop(['ID', 'Customer_ID', 'Type_of_Loan', 'Month', 'Name', 'SSN'], axis=1)"
      ]
    },
    {
      "cell_type": "code",
      "execution_count": null,
      "id": "438207ad",
      "metadata": {
        "execution": {
          "iopub.execute_input": "2022-10-15T06:42:44.342885Z",
          "iopub.status.busy": "2022-10-15T06:42:44.342487Z",
          "iopub.status.idle": "2022-10-15T06:42:44.349541Z",
          "shell.execute_reply": "2022-10-15T06:42:44.348441Z"
        },
        "papermill": {
          "duration": 0.038826,
          "end_time": "2022-10-15T06:42:44.351730",
          "exception": false,
          "start_time": "2022-10-15T06:42:44.312904",
          "status": "completed"
        },
        "tags": [],
        "id": "438207ad",
        "outputId": "0a01f21a-4a84-45b3-8ab6-120b3d53b323"
      },
      "outputs": [
        {
          "data": {
            "text/plain": [
              "(100000, 22)"
            ]
          },
          "execution_count": 17,
          "metadata": {},
          "output_type": "execute_result"
        }
      ],
      "source": [
        "train_df1.shape"
      ]
    },
    {
      "cell_type": "code",
      "execution_count": null,
      "id": "1495731a",
      "metadata": {
        "execution": {
          "iopub.execute_input": "2022-10-15T06:42:44.410583Z",
          "iopub.status.busy": "2022-10-15T06:42:44.409586Z",
          "iopub.status.idle": "2022-10-15T06:42:44.418059Z",
          "shell.execute_reply": "2022-10-15T06:42:44.416849Z"
        },
        "papermill": {
          "duration": 0.041114,
          "end_time": "2022-10-15T06:42:44.420658",
          "exception": false,
          "start_time": "2022-10-15T06:42:44.379544",
          "status": "completed"
        },
        "tags": [],
        "id": "1495731a",
        "outputId": "694717ac-9fab-4f21-8c93-1487b70e31d7"
      },
      "outputs": [
        {
          "data": {
            "text/plain": [
              "Index(['Age', 'Occupation', 'Annual_Income', 'Monthly_Inhand_Salary',\n",
              "       'Num_Bank_Accounts', 'Num_Credit_Card', 'Interest_Rate', 'Num_of_Loan',\n",
              "       'Delay_from_due_date', 'Num_of_Delayed_Payment', 'Changed_Credit_Limit',\n",
              "       'Num_Credit_Inquiries', 'Credit_Mix', 'Outstanding_Debt',\n",
              "       'Credit_Utilization_Ratio', 'Credit_History_Age',\n",
              "       'Payment_of_Min_Amount', 'Total_EMI_per_month',\n",
              "       'Amount_invested_monthly', 'Payment_Behaviour', 'Monthly_Balance',\n",
              "       'Credit_Score'],\n",
              "      dtype='object')"
            ]
          },
          "execution_count": 18,
          "metadata": {},
          "output_type": "execute_result"
        }
      ],
      "source": [
        "train_df1.columns"
      ]
    },
    {
      "cell_type": "code",
      "execution_count": null,
      "id": "9125226a",
      "metadata": {
        "execution": {
          "iopub.execute_input": "2022-10-15T06:42:44.479089Z",
          "iopub.status.busy": "2022-10-15T06:42:44.478684Z",
          "iopub.status.idle": "2022-10-15T06:42:45.941115Z",
          "shell.execute_reply": "2022-10-15T06:42:45.940014Z"
        },
        "papermill": {
          "duration": 1.49476,
          "end_time": "2022-10-15T06:42:45.943950",
          "exception": false,
          "start_time": "2022-10-15T06:42:44.449190",
          "status": "completed"
        },
        "tags": [],
        "id": "9125226a"
      },
      "outputs": [],
      "source": [
        "train_df1 = train_df1.applymap(\n",
        "  lambda x: x if x is np.NaN or not \\\n",
        "    isinstance(x, str) else str(x).strip('_')).replace(['', 'nan', '!@9#%8', '#F%$D@*&8'], np.NaN)"
      ]
    },
    {
      "cell_type": "markdown",
      "id": "ef4786df",
      "metadata": {
        "papermill": {
          "duration": 0.027618,
          "end_time": "2022-10-15T06:42:45.999468",
          "exception": false,
          "start_time": "2022-10-15T06:42:45.971850",
          "status": "completed"
        },
        "tags": [],
        "id": "ef4786df"
      },
      "source": [
        "Conveting the astypes of the columns"
      ]
    },
    {
      "cell_type": "code",
      "execution_count": null,
      "id": "48e0ae0a",
      "metadata": {
        "execution": {
          "iopub.execute_input": "2022-10-15T06:42:46.057345Z",
          "iopub.status.busy": "2022-10-15T06:42:46.056911Z",
          "iopub.status.idle": "2022-10-15T06:42:46.276296Z",
          "shell.execute_reply": "2022-10-15T06:42:46.275153Z"
        },
        "papermill": {
          "duration": 0.251319,
          "end_time": "2022-10-15T06:42:46.279360",
          "exception": false,
          "start_time": "2022-10-15T06:42:46.028041",
          "status": "completed"
        },
        "tags": [],
        "id": "48e0ae0a"
      },
      "outputs": [],
      "source": [
        "train_df1['Age'] = train_df1['Age'].astype(int)\n",
        "train_df1['Annual_Income'] = train_df1['Annual_Income'].astype(float)\n",
        "train_df1['Num_of_Loan'] = train_df1['Num_of_Loan'].astype(int)\n",
        "train_df1['Num_of_Delayed_Payment'] = train_df1['Num_of_Delayed_Payment'].astype(float)\n",
        "train_df1['Changed_Credit_Limit'] = train_df1['Changed_Credit_Limit'].astype(float)\n",
        "train_df1['Outstanding_Debt'] = train_df1['Outstanding_Debt'].astype(float)\n",
        "train_df1['Amount_invested_monthly'] = train_df1['Amount_invested_monthly'].astype(float)\n",
        "train_df1['Monthly_Balance'] = train_df1['Monthly_Balance'].astype(float)"
      ]
    },
    {
      "cell_type": "code",
      "execution_count": null,
      "id": "af1b86c1",
      "metadata": {
        "execution": {
          "iopub.execute_input": "2022-10-15T06:42:46.337660Z",
          "iopub.status.busy": "2022-10-15T06:42:46.337211Z",
          "iopub.status.idle": "2022-10-15T06:42:46.407909Z",
          "shell.execute_reply": "2022-10-15T06:42:46.406718Z"
        },
        "papermill": {
          "duration": 0.102718,
          "end_time": "2022-10-15T06:42:46.410773",
          "exception": false,
          "start_time": "2022-10-15T06:42:46.308055",
          "status": "completed"
        },
        "tags": [],
        "id": "af1b86c1"
      },
      "outputs": [],
      "source": [
        "def take_years(x):  \n",
        "    if x is not None:\n",
        "        return str(x).strip()[0:2]\n",
        "\n",
        "train_df1['Credit_History_Age']=train_df1['Credit_History_Age'].apply(take_years)\n",
        "train_df1['Credit_History_Age'] = train_df1['Credit_History_Age'].replace({'na': np.NaN})"
      ]
    },
    {
      "cell_type": "markdown",
      "id": "c4c46e01",
      "metadata": {
        "papermill": {
          "duration": 0.03,
          "end_time": "2022-10-15T06:42:46.469338",
          "exception": false,
          "start_time": "2022-10-15T06:42:46.439338",
          "status": "completed"
        },
        "tags": [],
        "id": "c4c46e01"
      },
      "source": [
        "Converting the object into Category"
      ]
    },
    {
      "cell_type": "code",
      "execution_count": null,
      "id": "b0aa0e71",
      "metadata": {
        "execution": {
          "iopub.execute_input": "2022-10-15T06:42:46.532026Z",
          "iopub.status.busy": "2022-10-15T06:42:46.531589Z",
          "iopub.status.idle": "2022-10-15T06:42:46.628424Z",
          "shell.execute_reply": "2022-10-15T06:42:46.627202Z"
        },
        "papermill": {
          "duration": 0.133467,
          "end_time": "2022-10-15T06:42:46.631245",
          "exception": false,
          "start_time": "2022-10-15T06:42:46.497778",
          "status": "completed"
        },
        "tags": [],
        "id": "b0aa0e71"
      },
      "outputs": [],
      "source": [
        "cat_cols = train_df1.select_dtypes(include='object').columns\n",
        "for col in cat_cols:\n",
        "    train_df1[col] = train_df1[col].astype('category')"
      ]
    },
    {
      "cell_type": "markdown",
      "id": "0cdf47cf",
      "metadata": {
        "papermill": {
          "duration": 0.027053,
          "end_time": "2022-10-15T06:42:46.686589",
          "exception": false,
          "start_time": "2022-10-15T06:42:46.659536",
          "status": "completed"
        },
        "tags": [],
        "id": "0cdf47cf"
      },
      "source": [
        "Dividing the Cat and Num columns"
      ]
    },
    {
      "cell_type": "code",
      "execution_count": null,
      "id": "33812855",
      "metadata": {
        "execution": {
          "iopub.execute_input": "2022-10-15T06:42:46.745624Z",
          "iopub.status.busy": "2022-10-15T06:42:46.745179Z",
          "iopub.status.idle": "2022-10-15T06:42:46.752742Z",
          "shell.execute_reply": "2022-10-15T06:42:46.751608Z"
        },
        "papermill": {
          "duration": 0.040718,
          "end_time": "2022-10-15T06:42:46.755477",
          "exception": false,
          "start_time": "2022-10-15T06:42:46.714759",
          "status": "completed"
        },
        "tags": [],
        "id": "33812855"
      },
      "outputs": [],
      "source": [
        "num_cols = ['Age', 'Annual_Income', 'Monthly_Inhand_Salary', 'Num_Bank_Accounts', \n",
        "            'Num_Credit_Card', 'Interest_Rate', 'Num_of_Loan', 'Delay_from_due_date',\n",
        "            'Num_of_Delayed_Payment', 'Changed_Credit_Limit','Num_Credit_Inquiries',\n",
        "            'Outstanding_Debt', 'Credit_Utilization_Ratio', 'Credit_History_Age',\n",
        "            'Total_EMI_per_month', 'Amount_invested_monthly', 'Monthly_Balance', ]"
      ]
    },
    {
      "cell_type": "code",
      "execution_count": null,
      "id": "57b4ec16",
      "metadata": {
        "execution": {
          "iopub.execute_input": "2022-10-15T06:42:46.812360Z",
          "iopub.status.busy": "2022-10-15T06:42:46.811891Z",
          "iopub.status.idle": "2022-10-15T06:42:46.817168Z",
          "shell.execute_reply": "2022-10-15T06:42:46.816067Z"
        },
        "papermill": {
          "duration": 0.036453,
          "end_time": "2022-10-15T06:42:46.819716",
          "exception": false,
          "start_time": "2022-10-15T06:42:46.783263",
          "status": "completed"
        },
        "tags": [],
        "id": "57b4ec16"
      },
      "outputs": [],
      "source": [
        "cat_cols = ['Occupation', 'Credit_Mix', 'Payment_of_Min_Amount', 'Payment_Behaviour']"
      ]
    },
    {
      "cell_type": "markdown",
      "id": "84d04d6b",
      "metadata": {
        "papermill": {
          "duration": 0.030763,
          "end_time": "2022-10-15T06:42:46.878901",
          "exception": false,
          "start_time": "2022-10-15T06:42:46.848138",
          "status": "completed"
        },
        "tags": [],
        "id": "84d04d6b"
      },
      "source": [
        "#Splitting the data into training data & Test data"
      ]
    },
    {
      "cell_type": "markdown",
      "id": "1094084d",
      "metadata": {
        "papermill": {
          "duration": 0.028548,
          "end_time": "2022-10-15T06:42:46.935338",
          "exception": false,
          "start_time": "2022-10-15T06:42:46.906790",
          "status": "completed"
        },
        "tags": [],
        "id": "1094084d"
      },
      "source": [
        "Separating features & Target"
      ]
    },
    {
      "cell_type": "code",
      "execution_count": null,
      "id": "b6e439a9",
      "metadata": {
        "execution": {
          "iopub.execute_input": "2022-10-15T06:42:46.994237Z",
          "iopub.status.busy": "2022-10-15T06:42:46.993609Z",
          "iopub.status.idle": "2022-10-15T06:42:47.002938Z",
          "shell.execute_reply": "2022-10-15T06:42:47.001587Z"
        },
        "papermill": {
          "duration": 0.042229,
          "end_time": "2022-10-15T06:42:47.005667",
          "exception": false,
          "start_time": "2022-10-15T06:42:46.963438",
          "status": "completed"
        },
        "tags": [],
        "id": "b6e439a9"
      },
      "outputs": [],
      "source": [
        "X = train_df1.drop(['Credit_Score'], axis = 1)\n",
        "y = train_df1['Credit_Score']"
      ]
    },
    {
      "cell_type": "code",
      "execution_count": null,
      "id": "5a46efa8",
      "metadata": {
        "execution": {
          "iopub.execute_input": "2022-10-15T06:42:47.063955Z",
          "iopub.status.busy": "2022-10-15T06:42:47.063407Z",
          "iopub.status.idle": "2022-10-15T06:42:47.174615Z",
          "shell.execute_reply": "2022-10-15T06:42:47.173529Z"
        },
        "papermill": {
          "duration": 0.143274,
          "end_time": "2022-10-15T06:42:47.177484",
          "exception": false,
          "start_time": "2022-10-15T06:42:47.034210",
          "status": "completed"
        },
        "tags": [],
        "id": "5a46efa8"
      },
      "outputs": [],
      "source": [
        "from sklearn.model_selection import train_test_split\n",
        "X_train, X_test, y_train, y_test = train_test_split(X,y, test_size = 0.30, random_state = 100)"
      ]
    },
    {
      "cell_type": "code",
      "execution_count": null,
      "id": "022611e1",
      "metadata": {
        "execution": {
          "iopub.execute_input": "2022-10-15T06:42:47.235414Z",
          "iopub.status.busy": "2022-10-15T06:42:47.234410Z",
          "iopub.status.idle": "2022-10-15T06:42:47.240163Z",
          "shell.execute_reply": "2022-10-15T06:42:47.239286Z"
        },
        "papermill": {
          "duration": 0.037694,
          "end_time": "2022-10-15T06:42:47.242519",
          "exception": false,
          "start_time": "2022-10-15T06:42:47.204825",
          "status": "completed"
        },
        "tags": [],
        "id": "022611e1",
        "outputId": "7973cb87-0629-4802-917c-158b3ed9abf9"
      },
      "outputs": [
        {
          "name": "stdout",
          "output_type": "stream",
          "text": [
            "(70000, 21)\n",
            "(30000, 21)\n",
            "(70000,)\n",
            "(30000,)\n"
          ]
        }
      ],
      "source": [
        "print(X_train.shape)\n",
        "print(X_test.shape)\n",
        "print(y_train.shape)\n",
        "print(y_test.shape)"
      ]
    },
    {
      "cell_type": "code",
      "execution_count": null,
      "id": "ff2c38da",
      "metadata": {
        "execution": {
          "iopub.execute_input": "2022-10-15T06:42:47.300427Z",
          "iopub.status.busy": "2022-10-15T06:42:47.299758Z",
          "iopub.status.idle": "2022-10-15T06:42:47.310032Z",
          "shell.execute_reply": "2022-10-15T06:42:47.308901Z"
        },
        "papermill": {
          "duration": 0.041773,
          "end_time": "2022-10-15T06:42:47.312429",
          "exception": false,
          "start_time": "2022-10-15T06:42:47.270656",
          "status": "completed"
        },
        "tags": [],
        "id": "ff2c38da",
        "outputId": "39871808-15ef-436d-b4a5-076f74532932"
      },
      "outputs": [
        {
          "data": {
            "text/plain": [
              "Standard    53.235714\n",
              "Poor        28.925714\n",
              "Good        17.838571\n",
              "Name: Credit_Score, dtype: float64"
            ]
          },
          "execution_count": 28,
          "metadata": {},
          "output_type": "execute_result"
        }
      ],
      "source": [
        "y_train.value_counts(normalize = True)*100"
      ]
    },
    {
      "cell_type": "code",
      "execution_count": null,
      "id": "6860c1e0",
      "metadata": {
        "execution": {
          "iopub.execute_input": "2022-10-15T06:42:47.370157Z",
          "iopub.status.busy": "2022-10-15T06:42:47.369775Z",
          "iopub.status.idle": "2022-10-15T06:42:47.380844Z",
          "shell.execute_reply": "2022-10-15T06:42:47.379758Z"
        },
        "papermill": {
          "duration": 0.04278,
          "end_time": "2022-10-15T06:42:47.383205",
          "exception": false,
          "start_time": "2022-10-15T06:42:47.340425",
          "status": "completed"
        },
        "tags": [],
        "id": "6860c1e0",
        "outputId": "da796636-cfd5-4bcb-aa49-e59dcc6ee99b"
      },
      "outputs": [
        {
          "data": {
            "text/plain": [
              "Standard    53.030000\n",
              "Poor        29.166667\n",
              "Good        17.803333\n",
              "Name: Credit_Score, dtype: float64"
            ]
          },
          "execution_count": 29,
          "metadata": {},
          "output_type": "execute_result"
        }
      ],
      "source": [
        "y_test.value_counts(normalize = True)*100"
      ]
    },
    {
      "cell_type": "code",
      "execution_count": null,
      "id": "592c736c",
      "metadata": {
        "execution": {
          "iopub.execute_input": "2022-10-15T06:42:47.442375Z",
          "iopub.status.busy": "2022-10-15T06:42:47.441918Z",
          "iopub.status.idle": "2022-10-15T06:42:47.450535Z",
          "shell.execute_reply": "2022-10-15T06:42:47.449385Z"
        },
        "papermill": {
          "duration": 0.043547,
          "end_time": "2022-10-15T06:42:47.454525",
          "exception": false,
          "start_time": "2022-10-15T06:42:47.410978",
          "status": "completed"
        },
        "tags": [],
        "id": "592c736c",
        "outputId": "073ac23d-6e47-4eb5-f769-3ffc8e4c0330"
      },
      "outputs": [
        {
          "name": "stdout",
          "output_type": "stream",
          "text": [
            "(70000, 4)\n",
            "(30000, 4)\n"
          ]
        }
      ],
      "source": [
        "df_cat_train = X_train[cat_cols]\n",
        "df_cat_test = X_test[cat_cols]\n",
        "print(df_cat_train.shape)\n",
        "print(df_cat_test.shape)"
      ]
    },
    {
      "cell_type": "code",
      "execution_count": null,
      "id": "e6ba1ea1",
      "metadata": {
        "execution": {
          "iopub.execute_input": "2022-10-15T06:42:47.515197Z",
          "iopub.status.busy": "2022-10-15T06:42:47.514150Z",
          "iopub.status.idle": "2022-10-15T06:42:47.531545Z",
          "shell.execute_reply": "2022-10-15T06:42:47.530111Z"
        },
        "papermill": {
          "duration": 0.049249,
          "end_time": "2022-10-15T06:42:47.533971",
          "exception": false,
          "start_time": "2022-10-15T06:42:47.484722",
          "status": "completed"
        },
        "tags": [],
        "id": "e6ba1ea1",
        "outputId": "ae957f7f-1799-4a19-a31b-5ff113a72649"
      },
      "outputs": [
        {
          "name": "stdout",
          "output_type": "stream",
          "text": [
            "(70000, 17)\n",
            "(30000, 17)\n"
          ]
        }
      ],
      "source": [
        "df_num_train = X_train[num_cols]\n",
        "df_num_test = X_test[num_cols]\n",
        "print(df_num_train.shape)\n",
        "print(df_num_test.shape)"
      ]
    },
    {
      "cell_type": "markdown",
      "id": "36750de1",
      "metadata": {
        "papermill": {
          "duration": 0.028053,
          "end_time": "2022-10-15T06:42:47.589864",
          "exception": false,
          "start_time": "2022-10-15T06:42:47.561811",
          "status": "completed"
        },
        "tags": [],
        "id": "36750de1"
      },
      "source": [
        "#Handling the Missing values"
      ]
    },
    {
      "cell_type": "code",
      "execution_count": null,
      "id": "c87764b0",
      "metadata": {
        "execution": {
          "iopub.execute_input": "2022-10-15T06:42:47.649293Z",
          "iopub.status.busy": "2022-10-15T06:42:47.648122Z",
          "iopub.status.idle": "2022-10-15T06:42:47.864275Z",
          "shell.execute_reply": "2022-10-15T06:42:47.862906Z"
        },
        "papermill": {
          "duration": 0.248145,
          "end_time": "2022-10-15T06:42:47.866846",
          "exception": false,
          "start_time": "2022-10-15T06:42:47.618701",
          "status": "completed"
        },
        "tags": [],
        "id": "c87764b0",
        "outputId": "d5228e0b-4090-46a2-ffc8-522c0e6dca3e"
      },
      "outputs": [
        {
          "name": "stdout",
          "output_type": "stream",
          "text": [
            "(70000, 4)\n",
            "(30000, 4)\n"
          ]
        }
      ],
      "source": [
        "from sklearn.impute import SimpleImputer\n",
        "cat_imp = SimpleImputer(strategy = 'most_frequent')\n",
        "cat_imp.fit(df_cat_train)\n",
        "\n",
        "df_cat_imp_train = pd.DataFrame(cat_imp.transform(df_cat_train), columns = cat_cols)\n",
        "df_cat_imp_test = pd.DataFrame(cat_imp.transform(df_cat_test), columns = cat_cols)\n",
        "print(df_cat_imp_train.shape)\n",
        "print(df_cat_imp_test.shape)"
      ]
    },
    {
      "cell_type": "code",
      "execution_count": null,
      "id": "988205dd",
      "metadata": {
        "execution": {
          "iopub.execute_input": "2022-10-15T06:42:47.926080Z",
          "iopub.status.busy": "2022-10-15T06:42:47.925122Z",
          "iopub.status.idle": "2022-10-15T06:42:47.955195Z",
          "shell.execute_reply": "2022-10-15T06:42:47.953964Z"
        },
        "papermill": {
          "duration": 0.061944,
          "end_time": "2022-10-15T06:42:47.957862",
          "exception": false,
          "start_time": "2022-10-15T06:42:47.895918",
          "status": "completed"
        },
        "tags": [],
        "id": "988205dd",
        "outputId": "92de1fd3-b1a4-4fc4-ee71-47fd81112533"
      },
      "outputs": [
        {
          "name": "stdout",
          "output_type": "stream",
          "text": [
            "Occupation               0\n",
            "Credit_Mix               0\n",
            "Payment_of_Min_Amount    0\n",
            "Payment_Behaviour        0\n",
            "dtype: int64\n",
            "Occupation               0\n",
            "Credit_Mix               0\n",
            "Payment_of_Min_Amount    0\n",
            "Payment_Behaviour        0\n",
            "dtype: int64\n"
          ]
        }
      ],
      "source": [
        "print(df_cat_imp_train.isna().sum())\n",
        "print(df_cat_imp_test.isna().sum())"
      ]
    },
    {
      "cell_type": "code",
      "execution_count": null,
      "id": "379d27ce",
      "metadata": {
        "execution": {
          "iopub.execute_input": "2022-10-15T06:42:48.016992Z",
          "iopub.status.busy": "2022-10-15T06:42:48.016596Z",
          "iopub.status.idle": "2022-10-15T06:42:48.049006Z",
          "shell.execute_reply": "2022-10-15T06:42:48.047315Z"
        },
        "papermill": {
          "duration": 0.065145,
          "end_time": "2022-10-15T06:42:48.051934",
          "exception": false,
          "start_time": "2022-10-15T06:42:47.986789",
          "status": "completed"
        },
        "tags": [],
        "id": "379d27ce",
        "outputId": "b30fbcec-f2a4-4152-b509-418c10bccf9f"
      },
      "outputs": [
        {
          "name": "stdout",
          "output_type": "stream",
          "text": [
            "Occupation               15\n",
            "Credit_Mix                3\n",
            "Payment_of_Min_Amount     3\n",
            "Payment_Behaviour         6\n",
            "dtype: int64\n"
          ]
        }
      ],
      "source": [
        "print(df_cat_imp_train.nunique())"
      ]
    },
    {
      "cell_type": "code",
      "execution_count": null,
      "id": "8f68d5b0",
      "metadata": {
        "execution": {
          "iopub.execute_input": "2022-10-15T06:42:48.110679Z",
          "iopub.status.busy": "2022-10-15T06:42:48.110281Z",
          "iopub.status.idle": "2022-10-15T06:42:48.728396Z",
          "shell.execute_reply": "2022-10-15T06:42:48.727067Z"
        },
        "papermill": {
          "duration": 0.650126,
          "end_time": "2022-10-15T06:42:48.731454",
          "exception": false,
          "start_time": "2022-10-15T06:42:48.081328",
          "status": "completed"
        },
        "tags": [],
        "id": "8f68d5b0",
        "outputId": "07d85c16-4893-4b12-f158-07e624a8ece7"
      },
      "outputs": [
        {
          "name": "stdout",
          "output_type": "stream",
          "text": [
            "(70000, 17)\n",
            "(30000, 17)\n"
          ]
        }
      ],
      "source": [
        "from sklearn.impute import SimpleImputer\n",
        "num_imp = SimpleImputer(strategy = 'median')\n",
        "num_imp.fit(df_num_train)\n",
        "\n",
        "df_num_imp_train = pd.DataFrame(num_imp.transform(df_num_train), columns = num_cols)\n",
        "df_num_imp_test = pd.DataFrame(num_imp.transform(df_num_test), columns = num_cols)\n",
        "print(df_num_imp_train.shape)\n",
        "print(df_num_imp_test.shape)"
      ]
    },
    {
      "cell_type": "code",
      "execution_count": null,
      "id": "5a38e3c2",
      "metadata": {
        "execution": {
          "iopub.execute_input": "2022-10-15T06:42:48.790631Z",
          "iopub.status.busy": "2022-10-15T06:42:48.790238Z",
          "iopub.status.idle": "2022-10-15T06:42:48.805177Z",
          "shell.execute_reply": "2022-10-15T06:42:48.803672Z"
        },
        "papermill": {
          "duration": 0.047673,
          "end_time": "2022-10-15T06:42:48.808015",
          "exception": false,
          "start_time": "2022-10-15T06:42:48.760342",
          "status": "completed"
        },
        "tags": [],
        "id": "5a38e3c2",
        "outputId": "07c2fcd4-eee3-4b30-d9b9-952d667f5e6d"
      },
      "outputs": [
        {
          "name": "stdout",
          "output_type": "stream",
          "text": [
            "Age                         0\n",
            "Annual_Income               0\n",
            "Monthly_Inhand_Salary       0\n",
            "Num_Bank_Accounts           0\n",
            "Num_Credit_Card             0\n",
            "Interest_Rate               0\n",
            "Num_of_Loan                 0\n",
            "Delay_from_due_date         0\n",
            "Num_of_Delayed_Payment      0\n",
            "Changed_Credit_Limit        0\n",
            "Num_Credit_Inquiries        0\n",
            "Outstanding_Debt            0\n",
            "Credit_Utilization_Ratio    0\n",
            "Credit_History_Age          0\n",
            "Total_EMI_per_month         0\n",
            "Amount_invested_monthly     0\n",
            "Monthly_Balance             0\n",
            "dtype: int64\n",
            "Age                         0\n",
            "Annual_Income               0\n",
            "Monthly_Inhand_Salary       0\n",
            "Num_Bank_Accounts           0\n",
            "Num_Credit_Card             0\n",
            "Interest_Rate               0\n",
            "Num_of_Loan                 0\n",
            "Delay_from_due_date         0\n",
            "Num_of_Delayed_Payment      0\n",
            "Changed_Credit_Limit        0\n",
            "Num_Credit_Inquiries        0\n",
            "Outstanding_Debt            0\n",
            "Credit_Utilization_Ratio    0\n",
            "Credit_History_Age          0\n",
            "Total_EMI_per_month         0\n",
            "Amount_invested_monthly     0\n",
            "Monthly_Balance             0\n",
            "dtype: int64\n"
          ]
        }
      ],
      "source": [
        "print(df_num_imp_train.isna().sum())\n",
        "print(df_num_imp_train.isna().sum())"
      ]
    },
    {
      "cell_type": "markdown",
      "id": "176df797",
      "metadata": {
        "papermill": {
          "duration": 0.027861,
          "end_time": "2022-10-15T06:42:48.864604",
          "exception": false,
          "start_time": "2022-10-15T06:42:48.836743",
          "status": "completed"
        },
        "tags": [],
        "id": "176df797"
      },
      "source": [
        "#Converting the Category into numeric"
      ]
    },
    {
      "cell_type": "code",
      "execution_count": null,
      "id": "ce69957f",
      "metadata": {
        "execution": {
          "iopub.execute_input": "2022-10-15T06:42:48.923303Z",
          "iopub.status.busy": "2022-10-15T06:42:48.922465Z",
          "iopub.status.idle": "2022-10-15T06:42:49.065980Z",
          "shell.execute_reply": "2022-10-15T06:42:49.064303Z"
        },
        "papermill": {
          "duration": 0.176053,
          "end_time": "2022-10-15T06:42:49.068835",
          "exception": false,
          "start_time": "2022-10-15T06:42:48.892782",
          "status": "completed"
        },
        "tags": [],
        "id": "ce69957f",
        "outputId": "ba16d172-e652-47f6-deba-2be0909d6f90"
      },
      "outputs": [
        {
          "name": "stdout",
          "output_type": "stream",
          "text": [
            "(70000, 27)\n",
            "(30000, 27)\n"
          ]
        }
      ],
      "source": [
        "from sklearn.preprocessing import OneHotEncoder\n",
        "ohe = OneHotEncoder(handle_unknown = 'ignore')\n",
        "ohe.fit(df_cat_imp_train)\n",
        "\n",
        "df_cat_imp_train_ohe = ohe.transform(df_cat_imp_train).toarray()\n",
        "df_cat_imp_test_ohe = ohe.transform(df_cat_imp_test).toarray()\n",
        "print(df_cat_imp_train_ohe.shape)\n",
        "print(df_cat_imp_test_ohe.shape)"
      ]
    },
    {
      "cell_type": "code",
      "execution_count": null,
      "id": "a88778db",
      "metadata": {
        "execution": {
          "iopub.execute_input": "2022-10-15T06:42:49.127006Z",
          "iopub.status.busy": "2022-10-15T06:42:49.126613Z",
          "iopub.status.idle": "2022-10-15T06:42:49.158623Z",
          "shell.execute_reply": "2022-10-15T06:42:49.156797Z"
        },
        "papermill": {
          "duration": 0.064218,
          "end_time": "2022-10-15T06:42:49.161536",
          "exception": false,
          "start_time": "2022-10-15T06:42:49.097318",
          "status": "completed"
        },
        "tags": [],
        "id": "a88778db",
        "outputId": "0265d981-c4bd-4de0-a718-82e1400bb4b1"
      },
      "outputs": [
        {
          "name": "stdout",
          "output_type": "stream",
          "text": [
            "(70000, 17)\n",
            "(30000, 17)\n"
          ]
        }
      ],
      "source": [
        "from sklearn.preprocessing import StandardScaler\n",
        "ss = StandardScaler()\n",
        "ss.fit(df_num_imp_train)\n",
        "\n",
        "df_num_imp_train_ss = ss.transform(df_num_imp_train)\n",
        "df_num_imp_test_ss = ss.transform(df_num_imp_test)\n",
        "print(df_num_imp_train_ss.shape)\n",
        "print(df_num_imp_test_ss.shape)"
      ]
    },
    {
      "cell_type": "code",
      "execution_count": null,
      "id": "ab06a728",
      "metadata": {
        "execution": {
          "iopub.execute_input": "2022-10-15T06:42:49.221254Z",
          "iopub.status.busy": "2022-10-15T06:42:49.220820Z",
          "iopub.status.idle": "2022-10-15T06:42:49.248411Z",
          "shell.execute_reply": "2022-10-15T06:42:49.247091Z"
        },
        "papermill": {
          "duration": 0.060007,
          "end_time": "2022-10-15T06:42:49.251159",
          "exception": false,
          "start_time": "2022-10-15T06:42:49.191152",
          "status": "completed"
        },
        "tags": [],
        "id": "ab06a728",
        "outputId": "4ee09de5-93aa-49d5-bbe7-51395dd0c44c"
      },
      "outputs": [
        {
          "name": "stdout",
          "output_type": "stream",
          "text": [
            "(70000, 44)\n",
            "(30000, 44)\n"
          ]
        }
      ],
      "source": [
        "X_train_con = np.concatenate([df_cat_imp_train_ohe, df_num_imp_train_ss], axis = 1)\n",
        "X_test_con = np.concatenate([df_cat_imp_test_ohe, df_num_imp_test_ss], axis = 1)\n",
        "print(X_train_con.shape)\n",
        "print(X_test_con.shape)"
      ]
    },
    {
      "cell_type": "code",
      "execution_count": null,
      "id": "2080b372",
      "metadata": {
        "execution": {
          "iopub.execute_input": "2022-10-15T06:42:49.310787Z",
          "iopub.status.busy": "2022-10-15T06:42:49.310402Z",
          "iopub.status.idle": "2022-10-15T06:42:49.319582Z",
          "shell.execute_reply": "2022-10-15T06:42:49.318487Z"
        },
        "papermill": {
          "duration": 0.04124,
          "end_time": "2022-10-15T06:42:49.321987",
          "exception": false,
          "start_time": "2022-10-15T06:42:49.280747",
          "status": "completed"
        },
        "tags": [],
        "id": "2080b372",
        "outputId": "dbbd96dc-bc18-42d4-ec9a-b559416ed6c0"
      },
      "outputs": [
        {
          "data": {
            "text/plain": [
              "Standard    37265\n",
              "Poor        20248\n",
              "Good        12487\n",
              "Name: Credit_Score, dtype: int64"
            ]
          },
          "execution_count": 40,
          "metadata": {},
          "output_type": "execute_result"
        }
      ],
      "source": [
        "y_train.value_counts()"
      ]
    },
    {
      "cell_type": "markdown",
      "id": "d8a78b88",
      "metadata": {
        "papermill": {
          "duration": 0.029387,
          "end_time": "2022-10-15T06:42:49.380638",
          "exception": false,
          "start_time": "2022-10-15T06:42:49.351251",
          "status": "completed"
        },
        "tags": [],
        "id": "d8a78b88"
      },
      "source": [
        "#Building the Model"
      ]
    },
    {
      "cell_type": "markdown",
      "id": "baff488c",
      "metadata": {
        "papermill": {
          "duration": 0.028951,
          "end_time": "2022-10-15T06:42:49.438881",
          "exception": false,
          "start_time": "2022-10-15T06:42:49.409930",
          "status": "completed"
        },
        "tags": [],
        "id": "baff488c"
      },
      "source": [
        "LogisticRegression"
      ]
    },
    {
      "cell_type": "code",
      "execution_count": null,
      "id": "dd80392a",
      "metadata": {
        "execution": {
          "iopub.execute_input": "2022-10-15T06:42:49.503126Z",
          "iopub.status.busy": "2022-10-15T06:42:49.502121Z",
          "iopub.status.idle": "2022-10-15T06:42:51.529672Z",
          "shell.execute_reply": "2022-10-15T06:42:51.528509Z"
        },
        "papermill": {
          "duration": 2.064132,
          "end_time": "2022-10-15T06:42:51.532614",
          "exception": false,
          "start_time": "2022-10-15T06:42:49.468482",
          "status": "completed"
        },
        "tags": [],
        "id": "dd80392a",
        "outputId": "510335ed-692c-4576-be48-d924e91fdb1e"
      },
      "outputs": [
        {
          "data": {
            "text/plain": [
              "LogisticRegression()"
            ]
          },
          "execution_count": 41,
          "metadata": {},
          "output_type": "execute_result"
        }
      ],
      "source": [
        "from sklearn.linear_model import LogisticRegression\n",
        "lr = LogisticRegression()\n",
        "lr.fit(X_train_con,y_train)"
      ]
    },
    {
      "cell_type": "code",
      "execution_count": null,
      "id": "566d7f91",
      "metadata": {
        "execution": {
          "iopub.execute_input": "2022-10-15T06:42:51.628374Z",
          "iopub.status.busy": "2022-10-15T06:42:51.627747Z",
          "iopub.status.idle": "2022-10-15T06:42:51.647197Z",
          "shell.execute_reply": "2022-10-15T06:42:51.646022Z"
        },
        "papermill": {
          "duration": 0.070931,
          "end_time": "2022-10-15T06:42:51.650481",
          "exception": false,
          "start_time": "2022-10-15T06:42:51.579550",
          "status": "completed"
        },
        "tags": [],
        "id": "566d7f91",
        "outputId": "7d4fb4e0-8497-4405-a0a1-b4bae0adb8d0"
      },
      "outputs": [
        {
          "data": {
            "text/plain": [
              "array(['Standard', 'Poor', 'Standard', ..., 'Poor', 'Standard', 'Poor'],\n",
              "      dtype=object)"
            ]
          },
          "execution_count": 42,
          "metadata": {},
          "output_type": "execute_result"
        }
      ],
      "source": [
        "lr_train_preds = lr.predict(X_train_con)\n",
        "lr_train_preds"
      ]
    },
    {
      "cell_type": "code",
      "execution_count": null,
      "id": "710b2d18",
      "metadata": {
        "execution": {
          "iopub.execute_input": "2022-10-15T06:42:51.749108Z",
          "iopub.status.busy": "2022-10-15T06:42:51.748534Z",
          "iopub.status.idle": "2022-10-15T06:42:51.767227Z",
          "shell.execute_reply": "2022-10-15T06:42:51.765854Z"
        },
        "papermill": {
          "duration": 0.072208,
          "end_time": "2022-10-15T06:42:51.771045",
          "exception": false,
          "start_time": "2022-10-15T06:42:51.698837",
          "status": "completed"
        },
        "tags": [],
        "id": "710b2d18",
        "outputId": "bc135282-e855-4846-b58f-e6f9a48c4a11"
      },
      "outputs": [
        {
          "data": {
            "text/plain": [
              "array(['Standard', 'Standard', 'Poor', ..., 'Poor', 'Standard', 'Poor'],\n",
              "      dtype=object)"
            ]
          },
          "execution_count": 43,
          "metadata": {},
          "output_type": "execute_result"
        }
      ],
      "source": [
        "lr_test_preds = lr.predict(X_test_con)\n",
        "lr_test_preds"
      ]
    },
    {
      "cell_type": "code",
      "execution_count": null,
      "id": "bfaf68b8",
      "metadata": {
        "execution": {
          "iopub.execute_input": "2022-10-15T06:42:51.870084Z",
          "iopub.status.busy": "2022-10-15T06:42:51.869535Z",
          "iopub.status.idle": "2022-10-15T06:42:52.026472Z",
          "shell.execute_reply": "2022-10-15T06:42:52.025296Z"
        },
        "papermill": {
          "duration": 0.209564,
          "end_time": "2022-10-15T06:42:52.028871",
          "exception": false,
          "start_time": "2022-10-15T06:42:51.819307",
          "status": "completed"
        },
        "tags": [],
        "id": "bfaf68b8",
        "outputId": "8acda7e1-4218-4d32-8f3e-906d02c01b2f"
      },
      "outputs": [
        {
          "data": {
            "text/plain": [
              "0.6201285714285715"
            ]
          },
          "execution_count": 44,
          "metadata": {},
          "output_type": "execute_result"
        }
      ],
      "source": [
        "lr_train_preds_score = lr.score(X_train_con,y_train)\n",
        "lr_train_preds_score"
      ]
    },
    {
      "cell_type": "code",
      "execution_count": null,
      "id": "4f2fdf1f",
      "metadata": {
        "execution": {
          "iopub.execute_input": "2022-10-15T06:42:52.089995Z",
          "iopub.status.busy": "2022-10-15T06:42:52.089039Z",
          "iopub.status.idle": "2022-10-15T06:42:52.167544Z",
          "shell.execute_reply": "2022-10-15T06:42:52.166327Z"
        },
        "papermill": {
          "duration": 0.111671,
          "end_time": "2022-10-15T06:42:52.170148",
          "exception": false,
          "start_time": "2022-10-15T06:42:52.058477",
          "status": "completed"
        },
        "tags": [],
        "id": "4f2fdf1f",
        "outputId": "c7ef9cd5-24e0-4599-f2aa-58acf8ee34b0"
      },
      "outputs": [
        {
          "data": {
            "text/plain": [
              "0.6233333333333333"
            ]
          },
          "execution_count": 45,
          "metadata": {},
          "output_type": "execute_result"
        }
      ],
      "source": [
        "lr_test_preds_score = lr.score(X_test_con,y_test)\n",
        "lr_test_preds_score"
      ]
    },
    {
      "cell_type": "markdown",
      "id": "5d38784e",
      "metadata": {
        "papermill": {
          "duration": 0.030181,
          "end_time": "2022-10-15T06:42:52.249134",
          "exception": false,
          "start_time": "2022-10-15T06:42:52.218953",
          "status": "completed"
        },
        "tags": [],
        "id": "5d38784e"
      },
      "source": [
        "RandomForestClassifier"
      ]
    },
    {
      "cell_type": "code",
      "execution_count": null,
      "id": "74075633",
      "metadata": {
        "execution": {
          "iopub.execute_input": "2022-10-15T06:42:52.308663Z",
          "iopub.status.busy": "2022-10-15T06:42:52.308275Z",
          "iopub.status.idle": "2022-10-15T06:43:16.001960Z",
          "shell.execute_reply": "2022-10-15T06:43:16.000731Z"
        },
        "papermill": {
          "duration": 23.726385,
          "end_time": "2022-10-15T06:43:16.004479",
          "exception": false,
          "start_time": "2022-10-15T06:42:52.278094",
          "status": "completed"
        },
        "tags": [],
        "id": "74075633",
        "outputId": "09406878-915c-4ef6-94c3-cf2bdf895cc5"
      },
      "outputs": [
        {
          "data": {
            "text/plain": [
              "RandomForestClassifier()"
            ]
          },
          "execution_count": 46,
          "metadata": {},
          "output_type": "execute_result"
        }
      ],
      "source": [
        "from sklearn.ensemble import RandomForestClassifier\n",
        "rfc = RandomForestClassifier()\n",
        "rfc.fit(X_train_con,y_train)"
      ]
    },
    {
      "cell_type": "code",
      "execution_count": null,
      "id": "c9836291",
      "metadata": {
        "execution": {
          "iopub.execute_input": "2022-10-15T06:43:16.066795Z",
          "iopub.status.busy": "2022-10-15T06:43:16.066360Z",
          "iopub.status.idle": "2022-10-15T06:43:18.415303Z",
          "shell.execute_reply": "2022-10-15T06:43:18.413961Z"
        },
        "papermill": {
          "duration": 2.382458,
          "end_time": "2022-10-15T06:43:18.418115",
          "exception": false,
          "start_time": "2022-10-15T06:43:16.035657",
          "status": "completed"
        },
        "tags": [],
        "id": "c9836291",
        "outputId": "c76bad44-6a21-4b7e-eb83-65280af708d7"
      },
      "outputs": [
        {
          "data": {
            "text/plain": [
              "array(['Good', 'Poor', 'Poor', ..., 'Standard', 'Standard', 'Standard'],\n",
              "      dtype=object)"
            ]
          },
          "execution_count": 47,
          "metadata": {},
          "output_type": "execute_result"
        }
      ],
      "source": [
        "rfc_train_preds = rfc.predict(X_train_con)\n",
        "rfc_train_preds"
      ]
    },
    {
      "cell_type": "code",
      "execution_count": null,
      "id": "1c0f5350",
      "metadata": {
        "execution": {
          "iopub.execute_input": "2022-10-15T06:43:18.478628Z",
          "iopub.status.busy": "2022-10-15T06:43:18.478231Z",
          "iopub.status.idle": "2022-10-15T06:43:19.548178Z",
          "shell.execute_reply": "2022-10-15T06:43:19.547166Z"
        },
        "papermill": {
          "duration": 1.102973,
          "end_time": "2022-10-15T06:43:19.550554",
          "exception": false,
          "start_time": "2022-10-15T06:43:18.447581",
          "status": "completed"
        },
        "tags": [],
        "id": "1c0f5350",
        "outputId": "363bbe1c-283d-4578-fabd-9baf5c26bcb9"
      },
      "outputs": [
        {
          "data": {
            "text/plain": [
              "array(['Standard', 'Standard', 'Poor', ..., 'Standard', 'Standard',\n",
              "       'Poor'], dtype=object)"
            ]
          },
          "execution_count": 48,
          "metadata": {},
          "output_type": "execute_result"
        }
      ],
      "source": [
        "rfc_test_preds = rfc.predict(X_test_con)\n",
        "rfc_test_preds"
      ]
    },
    {
      "cell_type": "code",
      "execution_count": null,
      "id": "cdb75d43",
      "metadata": {
        "execution": {
          "iopub.execute_input": "2022-10-15T06:43:19.613017Z",
          "iopub.status.busy": "2022-10-15T06:43:19.612611Z",
          "iopub.status.idle": "2022-10-15T06:43:22.044031Z",
          "shell.execute_reply": "2022-10-15T06:43:22.042917Z"
        },
        "papermill": {
          "duration": 2.466798,
          "end_time": "2022-10-15T06:43:22.046562",
          "exception": false,
          "start_time": "2022-10-15T06:43:19.579764",
          "status": "completed"
        },
        "tags": [],
        "id": "cdb75d43",
        "outputId": "75e3ef46-0b54-4aef-c195-79c7c88c1e81"
      },
      "outputs": [
        {
          "data": {
            "text/plain": [
              "1.0"
            ]
          },
          "execution_count": 49,
          "metadata": {},
          "output_type": "execute_result"
        }
      ],
      "source": [
        "rfc_train_preds_score = rfc.score(X_train_con,y_train)\n",
        "rfc_train_preds_score"
      ]
    },
    {
      "cell_type": "code",
      "execution_count": null,
      "id": "19766cf7",
      "metadata": {
        "execution": {
          "iopub.execute_input": "2022-10-15T06:43:22.107594Z",
          "iopub.status.busy": "2022-10-15T06:43:22.107190Z",
          "iopub.status.idle": "2022-10-15T06:43:23.231006Z",
          "shell.execute_reply": "2022-10-15T06:43:23.229840Z"
        },
        "papermill": {
          "duration": 1.157047,
          "end_time": "2022-10-15T06:43:23.233699",
          "exception": false,
          "start_time": "2022-10-15T06:43:22.076652",
          "status": "completed"
        },
        "tags": [],
        "id": "19766cf7",
        "outputId": "c50a30af-c61f-480e-f6ff-847efb63b3ba"
      },
      "outputs": [
        {
          "data": {
            "text/plain": [
              "0.7792666666666667"
            ]
          },
          "execution_count": 50,
          "metadata": {},
          "output_type": "execute_result"
        }
      ],
      "source": [
        "rfc_test_preds_score = rfc.score(X_test_con,y_test)\n",
        "rfc_test_preds_score"
      ]
    },
    {
      "cell_type": "markdown",
      "id": "849e43ff",
      "metadata": {
        "papermill": {
          "duration": 0.029063,
          "end_time": "2022-10-15T06:43:23.294106",
          "exception": false,
          "start_time": "2022-10-15T06:43:23.265043",
          "status": "completed"
        },
        "tags": [],
        "id": "849e43ff"
      },
      "source": [
        "KNeighborsClassifier"
      ]
    },
    {
      "cell_type": "code",
      "execution_count": null,
      "id": "8f6fc7c2",
      "metadata": {
        "execution": {
          "iopub.execute_input": "2022-10-15T06:43:23.356278Z",
          "iopub.status.busy": "2022-10-15T06:43:23.355394Z",
          "iopub.status.idle": "2022-10-15T06:43:23.439117Z",
          "shell.execute_reply": "2022-10-15T06:43:23.437961Z"
        },
        "papermill": {
          "duration": 0.118265,
          "end_time": "2022-10-15T06:43:23.441713",
          "exception": false,
          "start_time": "2022-10-15T06:43:23.323448",
          "status": "completed"
        },
        "tags": [],
        "id": "8f6fc7c2",
        "outputId": "e5cc9bcc-7b4b-41ea-892f-a451758ffe3a"
      },
      "outputs": [
        {
          "data": {
            "text/plain": [
              "KNeighborsClassifier()"
            ]
          },
          "execution_count": 51,
          "metadata": {},
          "output_type": "execute_result"
        }
      ],
      "source": [
        "from sklearn.neighbors import KNeighborsClassifier\n",
        "knc = KNeighborsClassifier()\n",
        "knc.fit(X_train_con,y_train)"
      ]
    },
    {
      "cell_type": "code",
      "execution_count": null,
      "id": "138febcd",
      "metadata": {
        "execution": {
          "iopub.execute_input": "2022-10-15T06:43:23.503145Z",
          "iopub.status.busy": "2022-10-15T06:43:23.502026Z",
          "iopub.status.idle": "2022-10-15T06:45:15.565690Z",
          "shell.execute_reply": "2022-10-15T06:45:15.564202Z"
        },
        "papermill": {
          "duration": 112.127708,
          "end_time": "2022-10-15T06:45:15.599047",
          "exception": false,
          "start_time": "2022-10-15T06:43:23.471339",
          "status": "completed"
        },
        "tags": [],
        "id": "138febcd",
        "outputId": "aa29f7cc-f923-44dd-8653-0f746a70b212"
      },
      "outputs": [
        {
          "data": {
            "text/plain": [
              "array(['Good', 'Poor', 'Poor', ..., 'Poor', 'Standard', 'Standard'],\n",
              "      dtype=object)"
            ]
          },
          "execution_count": 52,
          "metadata": {},
          "output_type": "execute_result"
        }
      ],
      "source": [
        "knc_train_preds = knc.predict(X_train_con)\n",
        "knc_train_preds"
      ]
    },
    {
      "cell_type": "code",
      "execution_count": null,
      "id": "07013d9c",
      "metadata": {
        "execution": {
          "iopub.execute_input": "2022-10-15T06:45:15.661872Z",
          "iopub.status.busy": "2022-10-15T06:45:15.661456Z",
          "iopub.status.idle": "2022-10-15T06:46:03.703622Z",
          "shell.execute_reply": "2022-10-15T06:46:03.702482Z"
        },
        "papermill": {
          "duration": 48.106602,
          "end_time": "2022-10-15T06:46:03.735550",
          "exception": false,
          "start_time": "2022-10-15T06:45:15.628948",
          "status": "completed"
        },
        "tags": [],
        "id": "07013d9c",
        "outputId": "398738f7-b3c0-4d28-8c86-3d59cc06c288"
      },
      "outputs": [
        {
          "data": {
            "text/plain": [
              "array(['Standard', 'Standard', 'Poor', ..., 'Standard', 'Standard',\n",
              "       'Poor'], dtype=object)"
            ]
          },
          "execution_count": 53,
          "metadata": {},
          "output_type": "execute_result"
        }
      ],
      "source": [
        "knc_test_preds = knc.predict(X_test_con)\n",
        "knc_test_preds"
      ]
    },
    {
      "cell_type": "code",
      "execution_count": null,
      "id": "04f6b1c2",
      "metadata": {
        "execution": {
          "iopub.execute_input": "2022-10-15T06:46:03.797116Z",
          "iopub.status.busy": "2022-10-15T06:46:03.796481Z",
          "iopub.status.idle": "2022-10-15T06:47:55.823535Z",
          "shell.execute_reply": "2022-10-15T06:47:55.822289Z"
        },
        "papermill": {
          "duration": 112.092128,
          "end_time": "2022-10-15T06:47:55.857337",
          "exception": false,
          "start_time": "2022-10-15T06:46:03.765209",
          "status": "completed"
        },
        "tags": [],
        "id": "04f6b1c2",
        "outputId": "146289e4-4288-4e14-8462-5697c1d4907e"
      },
      "outputs": [
        {
          "data": {
            "text/plain": [
              "0.7380142857142857"
            ]
          },
          "execution_count": 54,
          "metadata": {},
          "output_type": "execute_result"
        }
      ],
      "source": [
        "knc_train_preds_score = knc.score(X_train_con,y_train)\n",
        "knc_train_preds_score"
      ]
    },
    {
      "cell_type": "code",
      "execution_count": null,
      "id": "ada82b58",
      "metadata": {
        "execution": {
          "iopub.execute_input": "2022-10-15T06:47:55.920543Z",
          "iopub.status.busy": "2022-10-15T06:47:55.920120Z",
          "iopub.status.idle": "2022-10-15T06:48:43.865276Z",
          "shell.execute_reply": "2022-10-15T06:48:43.864096Z"
        },
        "papermill": {
          "duration": 48.009969,
          "end_time": "2022-10-15T06:48:43.897999",
          "exception": false,
          "start_time": "2022-10-15T06:47:55.888030",
          "status": "completed"
        },
        "tags": [],
        "id": "ada82b58",
        "outputId": "e2e2326c-7fe8-4788-8034-7b57556f9030"
      },
      "outputs": [
        {
          "data": {
            "text/plain": [
              "0.6170333333333333"
            ]
          },
          "execution_count": 55,
          "metadata": {},
          "output_type": "execute_result"
        }
      ],
      "source": [
        "knc_test_preds_score = knc.score(X_test_con,y_test)\n",
        "knc_test_preds_score"
      ]
    },
    {
      "cell_type": "markdown",
      "id": "3ace0b24",
      "metadata": {
        "papermill": {
          "duration": 0.029913,
          "end_time": "2022-10-15T06:48:43.958167",
          "exception": false,
          "start_time": "2022-10-15T06:48:43.928254",
          "status": "completed"
        },
        "tags": [],
        "id": "3ace0b24"
      },
      "source": [
        "DecisionTreeClassifier"
      ]
    },
    {
      "cell_type": "code",
      "execution_count": null,
      "id": "d2e43350",
      "metadata": {
        "execution": {
          "iopub.execute_input": "2022-10-15T06:48:44.021269Z",
          "iopub.status.busy": "2022-10-15T06:48:44.020501Z",
          "iopub.status.idle": "2022-10-15T06:48:46.398338Z",
          "shell.execute_reply": "2022-10-15T06:48:46.397109Z"
        },
        "papermill": {
          "duration": 2.412638,
          "end_time": "2022-10-15T06:48:46.400995",
          "exception": false,
          "start_time": "2022-10-15T06:48:43.988357",
          "status": "completed"
        },
        "tags": [],
        "id": "d2e43350",
        "outputId": "1b36cdca-4440-4fd6-efcc-17f07ab6c04e"
      },
      "outputs": [
        {
          "data": {
            "text/plain": [
              "DecisionTreeClassifier()"
            ]
          },
          "execution_count": 56,
          "metadata": {},
          "output_type": "execute_result"
        }
      ],
      "source": [
        "from sklearn.tree import DecisionTreeClassifier\n",
        "dtc = DecisionTreeClassifier()\n",
        "dtc.fit(X_train_con,y_train)"
      ]
    },
    {
      "cell_type": "code",
      "execution_count": null,
      "id": "70fa9296",
      "metadata": {
        "execution": {
          "iopub.execute_input": "2022-10-15T06:48:46.467202Z",
          "iopub.status.busy": "2022-10-15T06:48:46.466817Z",
          "iopub.status.idle": "2022-10-15T06:48:46.503431Z",
          "shell.execute_reply": "2022-10-15T06:48:46.502090Z"
        },
        "papermill": {
          "duration": 0.073148,
          "end_time": "2022-10-15T06:48:46.506651",
          "exception": false,
          "start_time": "2022-10-15T06:48:46.433503",
          "status": "completed"
        },
        "tags": [],
        "id": "70fa9296",
        "outputId": "a86b0c9e-66f8-4301-f25f-d3a7123c14d6"
      },
      "outputs": [
        {
          "data": {
            "text/plain": [
              "array(['Good', 'Poor', 'Poor', ..., 'Standard', 'Standard', 'Standard'],\n",
              "      dtype=object)"
            ]
          },
          "execution_count": 57,
          "metadata": {},
          "output_type": "execute_result"
        }
      ],
      "source": [
        "dtc_train_preds = dtc.predict(X_train_con)\n",
        "dtc_train_preds"
      ]
    },
    {
      "cell_type": "code",
      "execution_count": null,
      "id": "1b1093dc",
      "metadata": {
        "execution": {
          "iopub.execute_input": "2022-10-15T06:48:46.576159Z",
          "iopub.status.busy": "2022-10-15T06:48:46.575740Z",
          "iopub.status.idle": "2022-10-15T06:48:46.596244Z",
          "shell.execute_reply": "2022-10-15T06:48:46.594905Z"
        },
        "papermill": {
          "duration": 0.058506,
          "end_time": "2022-10-15T06:48:46.599330",
          "exception": false,
          "start_time": "2022-10-15T06:48:46.540824",
          "status": "completed"
        },
        "tags": [],
        "id": "1b1093dc",
        "outputId": "8ba7e5b4-8ecc-464d-c1a5-8c773c1f7814"
      },
      "outputs": [
        {
          "data": {
            "text/plain": [
              "array(['Standard', 'Standard', 'Standard', ..., 'Poor', 'Good',\n",
              "       'Standard'], dtype=object)"
            ]
          },
          "execution_count": 58,
          "metadata": {},
          "output_type": "execute_result"
        }
      ],
      "source": [
        "dtc_test_preds = dtc.predict(X_test_con)\n",
        "dtc_test_preds"
      ]
    },
    {
      "cell_type": "code",
      "execution_count": null,
      "id": "774eeb2d",
      "metadata": {
        "execution": {
          "iopub.execute_input": "2022-10-15T06:48:46.668381Z",
          "iopub.status.busy": "2022-10-15T06:48:46.667854Z",
          "iopub.status.idle": "2022-10-15T06:48:46.785932Z",
          "shell.execute_reply": "2022-10-15T06:48:46.784611Z"
        },
        "papermill": {
          "duration": 0.154031,
          "end_time": "2022-10-15T06:48:46.788782",
          "exception": false,
          "start_time": "2022-10-15T06:48:46.634751",
          "status": "completed"
        },
        "tags": [],
        "id": "774eeb2d",
        "outputId": "83ebce0b-a2a0-46e5-baa9-9805a08181a1"
      },
      "outputs": [
        {
          "data": {
            "text/plain": [
              "1.0"
            ]
          },
          "execution_count": 59,
          "metadata": {},
          "output_type": "execute_result"
        }
      ],
      "source": [
        "dtc_train_preds_score = dtc.score(X_train_con,y_train)\n",
        "dtc_train_preds_score"
      ]
    },
    {
      "cell_type": "code",
      "execution_count": null,
      "id": "7a6b24ca",
      "metadata": {
        "execution": {
          "iopub.execute_input": "2022-10-15T06:48:46.856631Z",
          "iopub.status.busy": "2022-10-15T06:48:46.856195Z",
          "iopub.status.idle": "2022-10-15T06:48:46.909623Z",
          "shell.execute_reply": "2022-10-15T06:48:46.907784Z"
        },
        "papermill": {
          "duration": 0.089886,
          "end_time": "2022-10-15T06:48:46.912495",
          "exception": false,
          "start_time": "2022-10-15T06:48:46.822609",
          "status": "completed"
        },
        "tags": [],
        "id": "7a6b24ca",
        "outputId": "75686616-9840-493e-9f02-c55d4f556e00"
      },
      "outputs": [
        {
          "data": {
            "text/plain": [
              "0.6929"
            ]
          },
          "execution_count": 60,
          "metadata": {},
          "output_type": "execute_result"
        }
      ],
      "source": [
        "dtc_test_preds_score = dtc.score(X_test_con,y_test)\n",
        "dtc_test_preds_score"
      ]
    },
    {
      "cell_type": "markdown",
      "id": "6db433a9",
      "metadata": {
        "papermill": {
          "duration": 0.032456,
          "end_time": "2022-10-15T06:48:46.978631",
          "exception": false,
          "start_time": "2022-10-15T06:48:46.946175",
          "status": "completed"
        },
        "tags": [],
        "id": "6db433a9"
      },
      "source": [
        "#Importing the Test Data"
      ]
    },
    {
      "cell_type": "code",
      "execution_count": null,
      "id": "aece3cc3",
      "metadata": {
        "execution": {
          "iopub.execute_input": "2022-10-15T06:48:47.045544Z",
          "iopub.status.busy": "2022-10-15T06:48:47.044858Z",
          "iopub.status.idle": "2022-10-15T06:48:47.668633Z",
          "shell.execute_reply": "2022-10-15T06:48:47.667430Z"
        },
        "papermill": {
          "duration": 0.66001,
          "end_time": "2022-10-15T06:48:47.671542",
          "exception": false,
          "start_time": "2022-10-15T06:48:47.011532",
          "status": "completed"
        },
        "tags": [],
        "id": "aece3cc3"
      },
      "outputs": [],
      "source": [
        "test_df = pd.read_csv('../input/credit-score-classification/test.csv', na_values = '?')"
      ]
    },
    {
      "cell_type": "code",
      "execution_count": null,
      "id": "d21ca477",
      "metadata": {
        "execution": {
          "iopub.execute_input": "2022-10-15T06:48:47.737267Z",
          "iopub.status.busy": "2022-10-15T06:48:47.736810Z",
          "iopub.status.idle": "2022-10-15T06:48:47.743443Z",
          "shell.execute_reply": "2022-10-15T06:48:47.742399Z"
        },
        "papermill": {
          "duration": 0.041681,
          "end_time": "2022-10-15T06:48:47.745678",
          "exception": false,
          "start_time": "2022-10-15T06:48:47.703997",
          "status": "completed"
        },
        "tags": [],
        "id": "d21ca477",
        "outputId": "94e11f3e-9ff8-4e82-b7c1-005818d30a40"
      },
      "outputs": [
        {
          "data": {
            "text/plain": [
              "(50000, 27)"
            ]
          },
          "execution_count": 62,
          "metadata": {},
          "output_type": "execute_result"
        }
      ],
      "source": [
        "test_df.shape"
      ]
    },
    {
      "cell_type": "code",
      "execution_count": null,
      "id": "b2e348c9",
      "metadata": {
        "execution": {
          "iopub.execute_input": "2022-10-15T06:48:47.810724Z",
          "iopub.status.busy": "2022-10-15T06:48:47.810338Z",
          "iopub.status.idle": "2022-10-15T06:48:47.838326Z",
          "shell.execute_reply": "2022-10-15T06:48:47.836978Z"
        },
        "papermill": {
          "duration": 0.062746,
          "end_time": "2022-10-15T06:48:47.840769",
          "exception": false,
          "start_time": "2022-10-15T06:48:47.778023",
          "status": "completed"
        },
        "tags": [],
        "id": "b2e348c9",
        "outputId": "da4db6f5-46bc-4097-e2cf-4d9563541ad3"
      },
      "outputs": [
        {
          "data": {
            "text/html": [
              "<div>\n",
              "<style scoped>\n",
              "    .dataframe tbody tr th:only-of-type {\n",
              "        vertical-align: middle;\n",
              "    }\n",
              "\n",
              "    .dataframe tbody tr th {\n",
              "        vertical-align: top;\n",
              "    }\n",
              "\n",
              "    .dataframe thead th {\n",
              "        text-align: right;\n",
              "    }\n",
              "</style>\n",
              "<table border=\"1\" class=\"dataframe\">\n",
              "  <thead>\n",
              "    <tr style=\"text-align: right;\">\n",
              "      <th></th>\n",
              "      <th>ID</th>\n",
              "      <th>Customer_ID</th>\n",
              "      <th>Month</th>\n",
              "      <th>Name</th>\n",
              "      <th>Age</th>\n",
              "      <th>SSN</th>\n",
              "      <th>Occupation</th>\n",
              "      <th>Annual_Income</th>\n",
              "      <th>Monthly_Inhand_Salary</th>\n",
              "      <th>Num_Bank_Accounts</th>\n",
              "      <th>Num_Credit_Card</th>\n",
              "      <th>Interest_Rate</th>\n",
              "      <th>Num_of_Loan</th>\n",
              "      <th>Type_of_Loan</th>\n",
              "      <th>Delay_from_due_date</th>\n",
              "      <th>Num_of_Delayed_Payment</th>\n",
              "      <th>Changed_Credit_Limit</th>\n",
              "      <th>Num_Credit_Inquiries</th>\n",
              "      <th>Credit_Mix</th>\n",
              "      <th>Outstanding_Debt</th>\n",
              "      <th>Credit_Utilization_Ratio</th>\n",
              "      <th>Credit_History_Age</th>\n",
              "      <th>Payment_of_Min_Amount</th>\n",
              "      <th>Total_EMI_per_month</th>\n",
              "      <th>Amount_invested_monthly</th>\n",
              "      <th>Payment_Behaviour</th>\n",
              "      <th>Monthly_Balance</th>\n",
              "    </tr>\n",
              "  </thead>\n",
              "  <tbody>\n",
              "    <tr>\n",
              "      <th>0</th>\n",
              "      <td>0x160a</td>\n",
              "      <td>CUS_0xd40</td>\n",
              "      <td>September</td>\n",
              "      <td>Aaron Maashoh</td>\n",
              "      <td>23</td>\n",
              "      <td>821-00-0265</td>\n",
              "      <td>Scientist</td>\n",
              "      <td>19114.12</td>\n",
              "      <td>1824.843333</td>\n",
              "      <td>3</td>\n",
              "      <td>4</td>\n",
              "      <td>3</td>\n",
              "      <td>4</td>\n",
              "      <td>Auto Loan, Credit-Builder Loan, Personal Loan,...</td>\n",
              "      <td>3</td>\n",
              "      <td>7</td>\n",
              "      <td>11.27</td>\n",
              "      <td>2022.0</td>\n",
              "      <td>Good</td>\n",
              "      <td>809.98</td>\n",
              "      <td>35.030402</td>\n",
              "      <td>22 Years and 9 Months</td>\n",
              "      <td>No</td>\n",
              "      <td>49.574949</td>\n",
              "      <td>236.64268203272135</td>\n",
              "      <td>Low_spent_Small_value_payments</td>\n",
              "      <td>186.26670208571772</td>\n",
              "    </tr>\n",
              "    <tr>\n",
              "      <th>1</th>\n",
              "      <td>0x160b</td>\n",
              "      <td>CUS_0xd40</td>\n",
              "      <td>October</td>\n",
              "      <td>Aaron Maashoh</td>\n",
              "      <td>24</td>\n",
              "      <td>821-00-0265</td>\n",
              "      <td>Scientist</td>\n",
              "      <td>19114.12</td>\n",
              "      <td>1824.843333</td>\n",
              "      <td>3</td>\n",
              "      <td>4</td>\n",
              "      <td>3</td>\n",
              "      <td>4</td>\n",
              "      <td>Auto Loan, Credit-Builder Loan, Personal Loan,...</td>\n",
              "      <td>3</td>\n",
              "      <td>9</td>\n",
              "      <td>13.27</td>\n",
              "      <td>4.0</td>\n",
              "      <td>Good</td>\n",
              "      <td>809.98</td>\n",
              "      <td>33.053114</td>\n",
              "      <td>22 Years and 10 Months</td>\n",
              "      <td>No</td>\n",
              "      <td>49.574949</td>\n",
              "      <td>21.465380264657146</td>\n",
              "      <td>High_spent_Medium_value_payments</td>\n",
              "      <td>361.44400385378196</td>\n",
              "    </tr>\n",
              "    <tr>\n",
              "      <th>2</th>\n",
              "      <td>0x160c</td>\n",
              "      <td>CUS_0xd40</td>\n",
              "      <td>November</td>\n",
              "      <td>Aaron Maashoh</td>\n",
              "      <td>24</td>\n",
              "      <td>821-00-0265</td>\n",
              "      <td>Scientist</td>\n",
              "      <td>19114.12</td>\n",
              "      <td>1824.843333</td>\n",
              "      <td>3</td>\n",
              "      <td>4</td>\n",
              "      <td>3</td>\n",
              "      <td>4</td>\n",
              "      <td>Auto Loan, Credit-Builder Loan, Personal Loan,...</td>\n",
              "      <td>-1</td>\n",
              "      <td>4</td>\n",
              "      <td>12.27</td>\n",
              "      <td>4.0</td>\n",
              "      <td>Good</td>\n",
              "      <td>809.98</td>\n",
              "      <td>33.811894</td>\n",
              "      <td>NaN</td>\n",
              "      <td>No</td>\n",
              "      <td>49.574949</td>\n",
              "      <td>148.23393788500925</td>\n",
              "      <td>Low_spent_Medium_value_payments</td>\n",
              "      <td>264.67544623342997</td>\n",
              "    </tr>\n",
              "    <tr>\n",
              "      <th>3</th>\n",
              "      <td>0x160d</td>\n",
              "      <td>CUS_0xd40</td>\n",
              "      <td>December</td>\n",
              "      <td>Aaron Maashoh</td>\n",
              "      <td>24_</td>\n",
              "      <td>821-00-0265</td>\n",
              "      <td>Scientist</td>\n",
              "      <td>19114.12</td>\n",
              "      <td>NaN</td>\n",
              "      <td>3</td>\n",
              "      <td>4</td>\n",
              "      <td>3</td>\n",
              "      <td>4</td>\n",
              "      <td>Auto Loan, Credit-Builder Loan, Personal Loan,...</td>\n",
              "      <td>4</td>\n",
              "      <td>5</td>\n",
              "      <td>11.27</td>\n",
              "      <td>4.0</td>\n",
              "      <td>Good</td>\n",
              "      <td>809.98</td>\n",
              "      <td>32.430559</td>\n",
              "      <td>23 Years and 0 Months</td>\n",
              "      <td>No</td>\n",
              "      <td>49.574949</td>\n",
              "      <td>39.08251089460281</td>\n",
              "      <td>High_spent_Medium_value_payments</td>\n",
              "      <td>343.82687322383634</td>\n",
              "    </tr>\n",
              "    <tr>\n",
              "      <th>4</th>\n",
              "      <td>0x1616</td>\n",
              "      <td>CUS_0x21b1</td>\n",
              "      <td>September</td>\n",
              "      <td>Rick Rothackerj</td>\n",
              "      <td>28</td>\n",
              "      <td>004-07-5839</td>\n",
              "      <td>_______</td>\n",
              "      <td>34847.84</td>\n",
              "      <td>3037.986667</td>\n",
              "      <td>2</td>\n",
              "      <td>4</td>\n",
              "      <td>6</td>\n",
              "      <td>1</td>\n",
              "      <td>Credit-Builder Loan</td>\n",
              "      <td>3</td>\n",
              "      <td>1</td>\n",
              "      <td>5.42</td>\n",
              "      <td>5.0</td>\n",
              "      <td>Good</td>\n",
              "      <td>605.03</td>\n",
              "      <td>25.926822</td>\n",
              "      <td>27 Years and 3 Months</td>\n",
              "      <td>No</td>\n",
              "      <td>18.816215</td>\n",
              "      <td>39.684018417945296</td>\n",
              "      <td>High_spent_Large_value_payments</td>\n",
              "      <td>485.2984336755923</td>\n",
              "    </tr>\n",
              "  </tbody>\n",
              "</table>\n",
              "</div>"
            ],
            "text/plain": [
              "       ID Customer_ID      Month             Name  Age          SSN  \\\n",
              "0  0x160a   CUS_0xd40  September    Aaron Maashoh   23  821-00-0265   \n",
              "1  0x160b   CUS_0xd40    October    Aaron Maashoh   24  821-00-0265   \n",
              "2  0x160c   CUS_0xd40   November    Aaron Maashoh   24  821-00-0265   \n",
              "3  0x160d   CUS_0xd40   December    Aaron Maashoh  24_  821-00-0265   \n",
              "4  0x1616  CUS_0x21b1  September  Rick Rothackerj   28  004-07-5839   \n",
              "\n",
              "  Occupation Annual_Income  Monthly_Inhand_Salary  Num_Bank_Accounts  \\\n",
              "0  Scientist      19114.12            1824.843333                  3   \n",
              "1  Scientist      19114.12            1824.843333                  3   \n",
              "2  Scientist      19114.12            1824.843333                  3   \n",
              "3  Scientist      19114.12                    NaN                  3   \n",
              "4    _______      34847.84            3037.986667                  2   \n",
              "\n",
              "   Num_Credit_Card  Interest_Rate Num_of_Loan  \\\n",
              "0                4              3           4   \n",
              "1                4              3           4   \n",
              "2                4              3           4   \n",
              "3                4              3           4   \n",
              "4                4              6           1   \n",
              "\n",
              "                                        Type_of_Loan  Delay_from_due_date  \\\n",
              "0  Auto Loan, Credit-Builder Loan, Personal Loan,...                    3   \n",
              "1  Auto Loan, Credit-Builder Loan, Personal Loan,...                    3   \n",
              "2  Auto Loan, Credit-Builder Loan, Personal Loan,...                   -1   \n",
              "3  Auto Loan, Credit-Builder Loan, Personal Loan,...                    4   \n",
              "4                                Credit-Builder Loan                    3   \n",
              "\n",
              "  Num_of_Delayed_Payment Changed_Credit_Limit  Num_Credit_Inquiries  \\\n",
              "0                      7                11.27                2022.0   \n",
              "1                      9                13.27                   4.0   \n",
              "2                      4                12.27                   4.0   \n",
              "3                      5                11.27                   4.0   \n",
              "4                      1                 5.42                   5.0   \n",
              "\n",
              "  Credit_Mix Outstanding_Debt  Credit_Utilization_Ratio  \\\n",
              "0       Good           809.98                 35.030402   \n",
              "1       Good           809.98                 33.053114   \n",
              "2       Good           809.98                 33.811894   \n",
              "3       Good           809.98                 32.430559   \n",
              "4       Good           605.03                 25.926822   \n",
              "\n",
              "       Credit_History_Age Payment_of_Min_Amount  Total_EMI_per_month  \\\n",
              "0   22 Years and 9 Months                    No            49.574949   \n",
              "1  22 Years and 10 Months                    No            49.574949   \n",
              "2                     NaN                    No            49.574949   \n",
              "3   23 Years and 0 Months                    No            49.574949   \n",
              "4   27 Years and 3 Months                    No            18.816215   \n",
              "\n",
              "  Amount_invested_monthly                 Payment_Behaviour  \\\n",
              "0      236.64268203272135    Low_spent_Small_value_payments   \n",
              "1      21.465380264657146  High_spent_Medium_value_payments   \n",
              "2      148.23393788500925   Low_spent_Medium_value_payments   \n",
              "3       39.08251089460281  High_spent_Medium_value_payments   \n",
              "4      39.684018417945296   High_spent_Large_value_payments   \n",
              "\n",
              "      Monthly_Balance  \n",
              "0  186.26670208571772  \n",
              "1  361.44400385378196  \n",
              "2  264.67544623342997  \n",
              "3  343.82687322383634  \n",
              "4   485.2984336755923  "
            ]
          },
          "execution_count": 63,
          "metadata": {},
          "output_type": "execute_result"
        }
      ],
      "source": [
        "test_df.head()"
      ]
    },
    {
      "cell_type": "code",
      "execution_count": null,
      "id": "6b5c12ef",
      "metadata": {
        "execution": {
          "iopub.execute_input": "2022-10-15T06:48:47.905409Z",
          "iopub.status.busy": "2022-10-15T06:48:47.904932Z",
          "iopub.status.idle": "2022-10-15T06:48:47.958364Z",
          "shell.execute_reply": "2022-10-15T06:48:47.957281Z"
        },
        "papermill": {
          "duration": 0.088561,
          "end_time": "2022-10-15T06:48:47.960831",
          "exception": false,
          "start_time": "2022-10-15T06:48:47.872270",
          "status": "completed"
        },
        "tags": [],
        "id": "6b5c12ef",
        "outputId": "e3f760f7-8800-4861-c700-55bb0d51a1e7"
      },
      "outputs": [
        {
          "data": {
            "text/html": [
              "<div>\n",
              "<style scoped>\n",
              "    .dataframe tbody tr th:only-of-type {\n",
              "        vertical-align: middle;\n",
              "    }\n",
              "\n",
              "    .dataframe tbody tr th {\n",
              "        vertical-align: top;\n",
              "    }\n",
              "\n",
              "    .dataframe thead th {\n",
              "        text-align: right;\n",
              "    }\n",
              "</style>\n",
              "<table border=\"1\" class=\"dataframe\">\n",
              "  <thead>\n",
              "    <tr style=\"text-align: right;\">\n",
              "      <th></th>\n",
              "      <th>Monthly_Inhand_Salary</th>\n",
              "      <th>Num_Bank_Accounts</th>\n",
              "      <th>Num_Credit_Card</th>\n",
              "      <th>Interest_Rate</th>\n",
              "      <th>Delay_from_due_date</th>\n",
              "      <th>Num_Credit_Inquiries</th>\n",
              "      <th>Credit_Utilization_Ratio</th>\n",
              "      <th>Total_EMI_per_month</th>\n",
              "    </tr>\n",
              "  </thead>\n",
              "  <tbody>\n",
              "    <tr>\n",
              "      <th>count</th>\n",
              "      <td>42502.000000</td>\n",
              "      <td>50000.000000</td>\n",
              "      <td>50000.000000</td>\n",
              "      <td>50000.000000</td>\n",
              "      <td>50000.000000</td>\n",
              "      <td>48965.000000</td>\n",
              "      <td>50000.000000</td>\n",
              "      <td>50000.000000</td>\n",
              "    </tr>\n",
              "    <tr>\n",
              "      <th>mean</th>\n",
              "      <td>4182.004291</td>\n",
              "      <td>16.838260</td>\n",
              "      <td>22.921480</td>\n",
              "      <td>68.772640</td>\n",
              "      <td>21.052640</td>\n",
              "      <td>30.080200</td>\n",
              "      <td>32.279581</td>\n",
              "      <td>1491.304305</td>\n",
              "    </tr>\n",
              "    <tr>\n",
              "      <th>std</th>\n",
              "      <td>3174.109304</td>\n",
              "      <td>116.396848</td>\n",
              "      <td>129.314804</td>\n",
              "      <td>451.602363</td>\n",
              "      <td>14.860397</td>\n",
              "      <td>196.984121</td>\n",
              "      <td>5.106238</td>\n",
              "      <td>8595.647887</td>\n",
              "    </tr>\n",
              "    <tr>\n",
              "      <th>min</th>\n",
              "      <td>303.645417</td>\n",
              "      <td>-1.000000</td>\n",
              "      <td>0.000000</td>\n",
              "      <td>1.000000</td>\n",
              "      <td>-5.000000</td>\n",
              "      <td>0.000000</td>\n",
              "      <td>20.509652</td>\n",
              "      <td>0.000000</td>\n",
              "    </tr>\n",
              "    <tr>\n",
              "      <th>25%</th>\n",
              "      <td>1625.188333</td>\n",
              "      <td>3.000000</td>\n",
              "      <td>4.000000</td>\n",
              "      <td>8.000000</td>\n",
              "      <td>10.000000</td>\n",
              "      <td>4.000000</td>\n",
              "      <td>28.061040</td>\n",
              "      <td>32.222388</td>\n",
              "    </tr>\n",
              "    <tr>\n",
              "      <th>50%</th>\n",
              "      <td>3086.305000</td>\n",
              "      <td>6.000000</td>\n",
              "      <td>5.000000</td>\n",
              "      <td>13.000000</td>\n",
              "      <td>18.000000</td>\n",
              "      <td>7.000000</td>\n",
              "      <td>32.280390</td>\n",
              "      <td>74.733349</td>\n",
              "    </tr>\n",
              "    <tr>\n",
              "      <th>75%</th>\n",
              "      <td>5934.189094</td>\n",
              "      <td>7.000000</td>\n",
              "      <td>7.000000</td>\n",
              "      <td>20.000000</td>\n",
              "      <td>28.000000</td>\n",
              "      <td>10.000000</td>\n",
              "      <td>36.468591</td>\n",
              "      <td>176.157491</td>\n",
              "    </tr>\n",
              "    <tr>\n",
              "      <th>max</th>\n",
              "      <td>15204.633333</td>\n",
              "      <td>1798.000000</td>\n",
              "      <td>1499.000000</td>\n",
              "      <td>5799.000000</td>\n",
              "      <td>67.000000</td>\n",
              "      <td>2593.000000</td>\n",
              "      <td>48.540663</td>\n",
              "      <td>82398.000000</td>\n",
              "    </tr>\n",
              "  </tbody>\n",
              "</table>\n",
              "</div>"
            ],
            "text/plain": [
              "       Monthly_Inhand_Salary  Num_Bank_Accounts  Num_Credit_Card  \\\n",
              "count           42502.000000       50000.000000     50000.000000   \n",
              "mean             4182.004291          16.838260        22.921480   \n",
              "std              3174.109304         116.396848       129.314804   \n",
              "min               303.645417          -1.000000         0.000000   \n",
              "25%              1625.188333           3.000000         4.000000   \n",
              "50%              3086.305000           6.000000         5.000000   \n",
              "75%              5934.189094           7.000000         7.000000   \n",
              "max             15204.633333        1798.000000      1499.000000   \n",
              "\n",
              "       Interest_Rate  Delay_from_due_date  Num_Credit_Inquiries  \\\n",
              "count   50000.000000         50000.000000          48965.000000   \n",
              "mean       68.772640            21.052640             30.080200   \n",
              "std       451.602363            14.860397            196.984121   \n",
              "min         1.000000            -5.000000              0.000000   \n",
              "25%         8.000000            10.000000              4.000000   \n",
              "50%        13.000000            18.000000              7.000000   \n",
              "75%        20.000000            28.000000             10.000000   \n",
              "max      5799.000000            67.000000           2593.000000   \n",
              "\n",
              "       Credit_Utilization_Ratio  Total_EMI_per_month  \n",
              "count              50000.000000         50000.000000  \n",
              "mean                  32.279581          1491.304305  \n",
              "std                    5.106238          8595.647887  \n",
              "min                   20.509652             0.000000  \n",
              "25%                   28.061040            32.222388  \n",
              "50%                   32.280390            74.733349  \n",
              "75%                   36.468591           176.157491  \n",
              "max                   48.540663         82398.000000  "
            ]
          },
          "execution_count": 64,
          "metadata": {},
          "output_type": "execute_result"
        }
      ],
      "source": [
        "test_df.describe()"
      ]
    },
    {
      "cell_type": "code",
      "execution_count": null,
      "id": "a40f8f97",
      "metadata": {
        "execution": {
          "iopub.execute_input": "2022-10-15T06:48:48.027952Z",
          "iopub.status.busy": "2022-10-15T06:48:48.027551Z",
          "iopub.status.idle": "2022-10-15T06:48:48.153624Z",
          "shell.execute_reply": "2022-10-15T06:48:48.152274Z"
        },
        "papermill": {
          "duration": 0.16321,
          "end_time": "2022-10-15T06:48:48.156322",
          "exception": false,
          "start_time": "2022-10-15T06:48:47.993112",
          "status": "completed"
        },
        "tags": [],
        "id": "a40f8f97",
        "outputId": "15d79c96-65d2-4a45-8a03-a46df3863d0f"
      },
      "outputs": [
        {
          "data": {
            "text/plain": [
              "ID                          50000\n",
              "Customer_ID                 12500\n",
              "Month                           4\n",
              "Name                        10139\n",
              "Age                           976\n",
              "SSN                         12501\n",
              "Occupation                     16\n",
              "Annual_Income               16121\n",
              "Monthly_Inhand_Salary       12793\n",
              "Num_Bank_Accounts             540\n",
              "Num_Credit_Card               819\n",
              "Interest_Rate                 945\n",
              "Num_of_Loan                   263\n",
              "Type_of_Loan                 6260\n",
              "Delay_from_due_date            73\n",
              "Num_of_Delayed_Payment        443\n",
              "Changed_Credit_Limit         3927\n",
              "Num_Credit_Inquiries          750\n",
              "Credit_Mix                      4\n",
              "Outstanding_Debt            12685\n",
              "Credit_Utilization_Ratio    50000\n",
              "Credit_History_Age            399\n",
              "Payment_of_Min_Amount           3\n",
              "Total_EMI_per_month         13144\n",
              "Amount_invested_monthly     45450\n",
              "Payment_Behaviour               7\n",
              "Monthly_Balance             49433\n",
              "dtype: int64"
            ]
          },
          "execution_count": 65,
          "metadata": {},
          "output_type": "execute_result"
        }
      ],
      "source": [
        "test_df.nunique()"
      ]
    },
    {
      "cell_type": "code",
      "execution_count": null,
      "id": "6a6c2062",
      "metadata": {
        "execution": {
          "iopub.execute_input": "2022-10-15T06:48:48.222663Z",
          "iopub.status.busy": "2022-10-15T06:48:48.222267Z",
          "iopub.status.idle": "2022-10-15T06:48:48.279816Z",
          "shell.execute_reply": "2022-10-15T06:48:48.278862Z"
        },
        "papermill": {
          "duration": 0.093316,
          "end_time": "2022-10-15T06:48:48.282325",
          "exception": false,
          "start_time": "2022-10-15T06:48:48.189009",
          "status": "completed"
        },
        "tags": [],
        "id": "6a6c2062",
        "outputId": "9c0059ed-ac2c-4667-c125-dce68b9bae53"
      },
      "outputs": [
        {
          "name": "stdout",
          "output_type": "stream",
          "text": [
            "<class 'pandas.core.frame.DataFrame'>\n",
            "RangeIndex: 50000 entries, 0 to 49999\n",
            "Data columns (total 27 columns):\n",
            " #   Column                    Non-Null Count  Dtype  \n",
            "---  ------                    --------------  -----  \n",
            " 0   ID                        50000 non-null  object \n",
            " 1   Customer_ID               50000 non-null  object \n",
            " 2   Month                     50000 non-null  object \n",
            " 3   Name                      44985 non-null  object \n",
            " 4   Age                       50000 non-null  object \n",
            " 5   SSN                       50000 non-null  object \n",
            " 6   Occupation                50000 non-null  object \n",
            " 7   Annual_Income             50000 non-null  object \n",
            " 8   Monthly_Inhand_Salary     42502 non-null  float64\n",
            " 9   Num_Bank_Accounts         50000 non-null  int64  \n",
            " 10  Num_Credit_Card           50000 non-null  int64  \n",
            " 11  Interest_Rate             50000 non-null  int64  \n",
            " 12  Num_of_Loan               50000 non-null  object \n",
            " 13  Type_of_Loan              44296 non-null  object \n",
            " 14  Delay_from_due_date       50000 non-null  int64  \n",
            " 15  Num_of_Delayed_Payment    46502 non-null  object \n",
            " 16  Changed_Credit_Limit      50000 non-null  object \n",
            " 17  Num_Credit_Inquiries      48965 non-null  float64\n",
            " 18  Credit_Mix                50000 non-null  object \n",
            " 19  Outstanding_Debt          50000 non-null  object \n",
            " 20  Credit_Utilization_Ratio  50000 non-null  float64\n",
            " 21  Credit_History_Age        45530 non-null  object \n",
            " 22  Payment_of_Min_Amount     50000 non-null  object \n",
            " 23  Total_EMI_per_month       50000 non-null  float64\n",
            " 24  Amount_invested_monthly   47729 non-null  object \n",
            " 25  Payment_Behaviour         50000 non-null  object \n",
            " 26  Monthly_Balance           49438 non-null  object \n",
            "dtypes: float64(4), int64(4), object(19)\n",
            "memory usage: 10.3+ MB\n"
          ]
        }
      ],
      "source": [
        "test_df.info()"
      ]
    },
    {
      "cell_type": "code",
      "execution_count": null,
      "id": "2a14b57d",
      "metadata": {
        "execution": {
          "iopub.execute_input": "2022-10-15T06:48:48.348712Z",
          "iopub.status.busy": "2022-10-15T06:48:48.348240Z",
          "iopub.status.idle": "2022-10-15T06:48:48.506564Z",
          "shell.execute_reply": "2022-10-15T06:48:48.504920Z"
        },
        "papermill": {
          "duration": 0.194973,
          "end_time": "2022-10-15T06:48:48.509564",
          "exception": false,
          "start_time": "2022-10-15T06:48:48.314591",
          "status": "completed"
        },
        "tags": [],
        "id": "2a14b57d",
        "outputId": "f60d44df-9f20-4f7c-9675-6fad77e97ef2"
      },
      "outputs": [
        {
          "name": "stdout",
          "output_type": "stream",
          "text": [
            "(50000, 27)\n"
          ]
        }
      ],
      "source": [
        "test_df.drop_duplicates(keep = 'first', inplace = True)\n",
        "print(test_df.shape)"
      ]
    },
    {
      "cell_type": "code",
      "execution_count": null,
      "id": "3dce9805",
      "metadata": {
        "execution": {
          "iopub.execute_input": "2022-10-15T06:48:48.575707Z",
          "iopub.status.busy": "2022-10-15T06:48:48.575281Z",
          "iopub.status.idle": "2022-10-15T06:48:48.584354Z",
          "shell.execute_reply": "2022-10-15T06:48:48.583080Z"
        },
        "papermill": {
          "duration": 0.045315,
          "end_time": "2022-10-15T06:48:48.586920",
          "exception": false,
          "start_time": "2022-10-15T06:48:48.541605",
          "status": "completed"
        },
        "tags": [],
        "id": "3dce9805",
        "outputId": "90670e72-de30-40f1-b945-509055053485"
      },
      "outputs": [
        {
          "data": {
            "text/plain": [
              "ID                           object\n",
              "Customer_ID                  object\n",
              "Month                        object\n",
              "Name                         object\n",
              "Age                          object\n",
              "SSN                          object\n",
              "Occupation                   object\n",
              "Annual_Income                object\n",
              "Monthly_Inhand_Salary       float64\n",
              "Num_Bank_Accounts             int64\n",
              "Num_Credit_Card               int64\n",
              "Interest_Rate                 int64\n",
              "Num_of_Loan                  object\n",
              "Type_of_Loan                 object\n",
              "Delay_from_due_date           int64\n",
              "Num_of_Delayed_Payment       object\n",
              "Changed_Credit_Limit         object\n",
              "Num_Credit_Inquiries        float64\n",
              "Credit_Mix                   object\n",
              "Outstanding_Debt             object\n",
              "Credit_Utilization_Ratio    float64\n",
              "Credit_History_Age           object\n",
              "Payment_of_Min_Amount        object\n",
              "Total_EMI_per_month         float64\n",
              "Amount_invested_monthly      object\n",
              "Payment_Behaviour            object\n",
              "Monthly_Balance              object\n",
              "dtype: object"
            ]
          },
          "execution_count": 68,
          "metadata": {},
          "output_type": "execute_result"
        }
      ],
      "source": [
        "test_df.dtypes"
      ]
    },
    {
      "cell_type": "code",
      "execution_count": null,
      "id": "0d39282e",
      "metadata": {
        "execution": {
          "iopub.execute_input": "2022-10-15T06:48:48.654652Z",
          "iopub.status.busy": "2022-10-15T06:48:48.654247Z",
          "iopub.status.idle": "2022-10-15T06:48:48.667474Z",
          "shell.execute_reply": "2022-10-15T06:48:48.666300Z"
        },
        "papermill": {
          "duration": 0.050914,
          "end_time": "2022-10-15T06:48:48.670293",
          "exception": false,
          "start_time": "2022-10-15T06:48:48.619379",
          "status": "completed"
        },
        "tags": [],
        "id": "0d39282e"
      },
      "outputs": [],
      "source": [
        "test_df1 = test_df.drop(['ID', 'Customer_ID', 'Type_of_Loan', 'Month', 'Name', 'SSN'], axis=1)"
      ]
    },
    {
      "cell_type": "code",
      "execution_count": null,
      "id": "6b2d7102",
      "metadata": {
        "execution": {
          "iopub.execute_input": "2022-10-15T06:48:48.739835Z",
          "iopub.status.busy": "2022-10-15T06:48:48.739033Z",
          "iopub.status.idle": "2022-10-15T06:48:48.745647Z",
          "shell.execute_reply": "2022-10-15T06:48:48.744563Z"
        },
        "papermill": {
          "duration": 0.043182,
          "end_time": "2022-10-15T06:48:48.747944",
          "exception": false,
          "start_time": "2022-10-15T06:48:48.704762",
          "status": "completed"
        },
        "tags": [],
        "id": "6b2d7102",
        "outputId": "83e4025f-30a0-43b6-8bf7-87f20edd76af"
      },
      "outputs": [
        {
          "data": {
            "text/plain": [
              "(50000, 21)"
            ]
          },
          "execution_count": 70,
          "metadata": {},
          "output_type": "execute_result"
        }
      ],
      "source": [
        "test_df1.shape"
      ]
    },
    {
      "cell_type": "code",
      "execution_count": null,
      "id": "26a7f5e1",
      "metadata": {
        "execution": {
          "iopub.execute_input": "2022-10-15T06:48:48.815738Z",
          "iopub.status.busy": "2022-10-15T06:48:48.815313Z",
          "iopub.status.idle": "2022-10-15T06:48:49.509715Z",
          "shell.execute_reply": "2022-10-15T06:48:49.508582Z"
        },
        "papermill": {
          "duration": 0.730944,
          "end_time": "2022-10-15T06:48:49.512482",
          "exception": false,
          "start_time": "2022-10-15T06:48:48.781538",
          "status": "completed"
        },
        "tags": [],
        "id": "26a7f5e1"
      },
      "outputs": [],
      "source": [
        "test_df1 = test_df1.applymap(\n",
        "  lambda x: x if x is np.NaN or not \\\n",
        "    isinstance(x, str) else str(x).strip('_')).replace(['', 'nan', '!@9#%8', '#F%$D@*&8'], np.NaN)"
      ]
    },
    {
      "cell_type": "code",
      "execution_count": null,
      "id": "31942c24",
      "metadata": {
        "execution": {
          "iopub.execute_input": "2022-10-15T06:48:49.658441Z",
          "iopub.status.busy": "2022-10-15T06:48:49.657985Z",
          "iopub.status.idle": "2022-10-15T06:48:49.776458Z",
          "shell.execute_reply": "2022-10-15T06:48:49.774713Z"
        },
        "papermill": {
          "duration": 0.23407,
          "end_time": "2022-10-15T06:48:49.779135",
          "exception": false,
          "start_time": "2022-10-15T06:48:49.545065",
          "status": "completed"
        },
        "tags": [],
        "id": "31942c24"
      },
      "outputs": [],
      "source": [
        "test_df1['Age'] = test_df1['Age'].astype(int)\n",
        "test_df1['Annual_Income'] = test_df1['Annual_Income'].astype(float)\n",
        "test_df1['Num_of_Loan'] = test_df1['Num_of_Loan'].astype(int)\n",
        "test_df1['Num_of_Delayed_Payment'] = test_df1['Num_of_Delayed_Payment'].astype(float)\n",
        "test_df1['Changed_Credit_Limit'] = test_df1['Changed_Credit_Limit'].astype(float)\n",
        "test_df1['Outstanding_Debt'] = test_df1['Outstanding_Debt'].astype(float)\n",
        "test_df1['Amount_invested_monthly'] = test_df1['Amount_invested_monthly'].astype(float)\n",
        "test_df1['Monthly_Balance'] = test_df1['Monthly_Balance'].astype(float)"
      ]
    },
    {
      "cell_type": "code",
      "execution_count": null,
      "id": "a46cf438",
      "metadata": {
        "execution": {
          "iopub.execute_input": "2022-10-15T06:48:49.847839Z",
          "iopub.status.busy": "2022-10-15T06:48:49.847416Z",
          "iopub.status.idle": "2022-10-15T06:48:49.885718Z",
          "shell.execute_reply": "2022-10-15T06:48:49.884449Z"
        },
        "papermill": {
          "duration": 0.076232,
          "end_time": "2022-10-15T06:48:49.888362",
          "exception": false,
          "start_time": "2022-10-15T06:48:49.812130",
          "status": "completed"
        },
        "tags": [],
        "id": "a46cf438"
      },
      "outputs": [],
      "source": [
        "def take_years(x):  \n",
        "    if x is not None:\n",
        "        return str(x).strip()[0:2]\n",
        "\n",
        "test_df1['Credit_History_Age']=test_df1['Credit_History_Age'].apply(take_years)\n",
        "test_df1['Credit_History_Age'] = test_df1['Credit_History_Age'].replace({'na': np.NaN})"
      ]
    },
    {
      "cell_type": "code",
      "execution_count": null,
      "id": "60e1b864",
      "metadata": {
        "execution": {
          "iopub.execute_input": "2022-10-15T06:48:49.956295Z",
          "iopub.status.busy": "2022-10-15T06:48:49.955143Z",
          "iopub.status.idle": "2022-10-15T06:48:49.999144Z",
          "shell.execute_reply": "2022-10-15T06:48:49.998074Z"
        },
        "papermill": {
          "duration": 0.080526,
          "end_time": "2022-10-15T06:48:50.002019",
          "exception": false,
          "start_time": "2022-10-15T06:48:49.921493",
          "status": "completed"
        },
        "tags": [],
        "id": "60e1b864"
      },
      "outputs": [],
      "source": [
        "cat_cols = test_df1.select_dtypes(include='object').columns\n",
        "for col in cat_cols:\n",
        "    test_df1[col] = test_df1[col].astype('category')"
      ]
    },
    {
      "cell_type": "code",
      "execution_count": null,
      "id": "e1c414b6",
      "metadata": {
        "execution": {
          "iopub.execute_input": "2022-10-15T06:48:50.070605Z",
          "iopub.status.busy": "2022-10-15T06:48:50.070121Z",
          "iopub.status.idle": "2022-10-15T06:48:50.075623Z",
          "shell.execute_reply": "2022-10-15T06:48:50.074385Z"
        },
        "papermill": {
          "duration": 0.042886,
          "end_time": "2022-10-15T06:48:50.077984",
          "exception": false,
          "start_time": "2022-10-15T06:48:50.035098",
          "status": "completed"
        },
        "tags": [],
        "id": "e1c414b6"
      },
      "outputs": [],
      "source": [
        "cat_cols = ['Occupation', 'Credit_Mix', 'Payment_of_Min_Amount', 'Payment_Behaviour']"
      ]
    },
    {
      "cell_type": "code",
      "execution_count": null,
      "id": "1e32013a",
      "metadata": {
        "execution": {
          "iopub.execute_input": "2022-10-15T06:48:50.145097Z",
          "iopub.status.busy": "2022-10-15T06:48:50.144686Z",
          "iopub.status.idle": "2022-10-15T06:48:50.150357Z",
          "shell.execute_reply": "2022-10-15T06:48:50.149237Z"
        },
        "papermill": {
          "duration": 0.042111,
          "end_time": "2022-10-15T06:48:50.152822",
          "exception": false,
          "start_time": "2022-10-15T06:48:50.110711",
          "status": "completed"
        },
        "tags": [],
        "id": "1e32013a"
      },
      "outputs": [],
      "source": [
        "num_cols = ['Age', 'Annual_Income', 'Monthly_Inhand_Salary', 'Num_Bank_Accounts',\n",
        "            'Num_Credit_Card', 'Interest_Rate', 'Num_of_Loan','Delay_from_due_date',\n",
        "            'Num_of_Delayed_Payment', 'Changed_Credit_Limit','Num_Credit_Inquiries',\n",
        "            'Outstanding_Debt', 'Credit_Utilization_Ratio','Total_EMI_per_month',\n",
        "            'Amount_invested_monthly','Monthly_Balance', 'Credit_History_Age']"
      ]
    },
    {
      "cell_type": "code",
      "execution_count": null,
      "id": "366e1663",
      "metadata": {
        "execution": {
          "iopub.execute_input": "2022-10-15T06:48:50.219955Z",
          "iopub.status.busy": "2022-10-15T06:48:50.219467Z",
          "iopub.status.idle": "2022-10-15T06:48:50.226663Z",
          "shell.execute_reply": "2022-10-15T06:48:50.225300Z"
        },
        "papermill": {
          "duration": 0.044614,
          "end_time": "2022-10-15T06:48:50.229904",
          "exception": false,
          "start_time": "2022-10-15T06:48:50.185290",
          "status": "completed"
        },
        "tags": [],
        "id": "366e1663",
        "outputId": "90666e78-581d-4e1c-9a1b-ab314c699c21"
      },
      "outputs": [
        {
          "name": "stdout",
          "output_type": "stream",
          "text": [
            "(50000, 4)\n"
          ]
        }
      ],
      "source": [
        "df_cat = test_df1[cat_cols]\n",
        "print(df_cat.shape)"
      ]
    },
    {
      "cell_type": "code",
      "execution_count": null,
      "id": "579aef77",
      "metadata": {
        "execution": {
          "iopub.execute_input": "2022-10-15T06:48:50.298791Z",
          "iopub.status.busy": "2022-10-15T06:48:50.298393Z",
          "iopub.status.idle": "2022-10-15T06:48:50.306752Z",
          "shell.execute_reply": "2022-10-15T06:48:50.305487Z"
        },
        "papermill": {
          "duration": 0.04435,
          "end_time": "2022-10-15T06:48:50.309077",
          "exception": false,
          "start_time": "2022-10-15T06:48:50.264727",
          "status": "completed"
        },
        "tags": [],
        "id": "579aef77",
        "outputId": "7ad55a1a-4176-4568-acd7-e4847e0da55e"
      },
      "outputs": [
        {
          "name": "stdout",
          "output_type": "stream",
          "text": [
            "(50000, 17)\n"
          ]
        }
      ],
      "source": [
        "df_num = test_df1[num_cols]\n",
        "print(df_num.shape)"
      ]
    },
    {
      "cell_type": "code",
      "execution_count": null,
      "id": "7f934d34",
      "metadata": {
        "execution": {
          "iopub.execute_input": "2022-10-15T06:48:50.378814Z",
          "iopub.status.busy": "2022-10-15T06:48:50.378027Z",
          "iopub.status.idle": "2022-10-15T06:48:50.435762Z",
          "shell.execute_reply": "2022-10-15T06:48:50.434132Z"
        },
        "papermill": {
          "duration": 0.098514,
          "end_time": "2022-10-15T06:48:50.440553",
          "exception": false,
          "start_time": "2022-10-15T06:48:50.342039",
          "status": "completed"
        },
        "tags": [],
        "id": "7f934d34",
        "outputId": "26324b57-2d3a-4842-cccb-71db4ff20310"
      },
      "outputs": [
        {
          "name": "stdout",
          "output_type": "stream",
          "text": [
            "(50000, 4)\n"
          ]
        }
      ],
      "source": [
        "from sklearn.impute import SimpleImputer\n",
        "cat_imp = SimpleImputer(strategy = 'most_frequent')\n",
        "cat_imp.fit(df_cat)\n",
        "\n",
        "df_cat_imp = pd.DataFrame(cat_imp.transform(df_cat), columns = cat_cols)\n",
        "print(df_cat_imp.shape)"
      ]
    },
    {
      "cell_type": "code",
      "execution_count": null,
      "id": "6a4f9c63",
      "metadata": {
        "execution": {
          "iopub.execute_input": "2022-10-15T06:48:50.511508Z",
          "iopub.status.busy": "2022-10-15T06:48:50.510365Z",
          "iopub.status.idle": "2022-10-15T06:48:50.526572Z",
          "shell.execute_reply": "2022-10-15T06:48:50.525238Z"
        },
        "papermill": {
          "duration": 0.053791,
          "end_time": "2022-10-15T06:48:50.529139",
          "exception": false,
          "start_time": "2022-10-15T06:48:50.475348",
          "status": "completed"
        },
        "tags": [],
        "id": "6a4f9c63",
        "outputId": "6b79e2b9-fbea-4469-b9b7-52cc26f5e891"
      },
      "outputs": [
        {
          "name": "stdout",
          "output_type": "stream",
          "text": [
            "Occupation               0\n",
            "Credit_Mix               0\n",
            "Payment_of_Min_Amount    0\n",
            "Payment_Behaviour        0\n",
            "dtype: int64\n"
          ]
        }
      ],
      "source": [
        "print(df_cat_imp.isna().sum())"
      ]
    },
    {
      "cell_type": "code",
      "execution_count": null,
      "id": "b8966b9a",
      "metadata": {
        "execution": {
          "iopub.execute_input": "2022-10-15T06:48:50.598812Z",
          "iopub.status.busy": "2022-10-15T06:48:50.598157Z",
          "iopub.status.idle": "2022-10-15T06:48:50.621521Z",
          "shell.execute_reply": "2022-10-15T06:48:50.619529Z"
        },
        "papermill": {
          "duration": 0.06196,
          "end_time": "2022-10-15T06:48:50.624413",
          "exception": false,
          "start_time": "2022-10-15T06:48:50.562453",
          "status": "completed"
        },
        "tags": [],
        "id": "b8966b9a",
        "outputId": "327e24d4-33e4-496d-d9c7-fb9b4f9261b7"
      },
      "outputs": [
        {
          "name": "stdout",
          "output_type": "stream",
          "text": [
            "Occupation               15\n",
            "Credit_Mix                3\n",
            "Payment_of_Min_Amount     3\n",
            "Payment_Behaviour         6\n",
            "dtype: int64\n"
          ]
        }
      ],
      "source": [
        "print(df_cat_imp.nunique())"
      ]
    },
    {
      "cell_type": "code",
      "execution_count": null,
      "id": "7655e61c",
      "metadata": {
        "execution": {
          "iopub.execute_input": "2022-10-15T06:48:50.693810Z",
          "iopub.status.busy": "2022-10-15T06:48:50.693366Z",
          "iopub.status.idle": "2022-10-15T06:48:51.022246Z",
          "shell.execute_reply": "2022-10-15T06:48:51.020652Z"
        },
        "papermill": {
          "duration": 0.367333,
          "end_time": "2022-10-15T06:48:51.025301",
          "exception": false,
          "start_time": "2022-10-15T06:48:50.657968",
          "status": "completed"
        },
        "tags": [],
        "id": "7655e61c",
        "outputId": "45df8da1-22bb-49a4-9e6c-3711570c9c77"
      },
      "outputs": [
        {
          "name": "stdout",
          "output_type": "stream",
          "text": [
            "(50000, 17)\n"
          ]
        }
      ],
      "source": [
        "from sklearn.impute import SimpleImputer\n",
        "num_imp = SimpleImputer(strategy = 'median')\n",
        "num_imp.fit(df_num)\n",
        "\n",
        "df_num_imp = pd.DataFrame(num_imp.transform(df_num), columns = num_cols)\n",
        "print(df_num_imp.shape)"
      ]
    },
    {
      "cell_type": "code",
      "execution_count": null,
      "id": "33b7cd0f",
      "metadata": {
        "execution": {
          "iopub.execute_input": "2022-10-15T06:48:51.093450Z",
          "iopub.status.busy": "2022-10-15T06:48:51.092992Z",
          "iopub.status.idle": "2022-10-15T06:48:51.105424Z",
          "shell.execute_reply": "2022-10-15T06:48:51.103744Z"
        },
        "papermill": {
          "duration": 0.049923,
          "end_time": "2022-10-15T06:48:51.108460",
          "exception": false,
          "start_time": "2022-10-15T06:48:51.058537",
          "status": "completed"
        },
        "tags": [],
        "id": "33b7cd0f",
        "outputId": "f1087ceb-7082-42bd-a7c4-8f7ee0e5168d"
      },
      "outputs": [
        {
          "name": "stdout",
          "output_type": "stream",
          "text": [
            "Age                         0\n",
            "Annual_Income               0\n",
            "Monthly_Inhand_Salary       0\n",
            "Num_Bank_Accounts           0\n",
            "Num_Credit_Card             0\n",
            "Interest_Rate               0\n",
            "Num_of_Loan                 0\n",
            "Delay_from_due_date         0\n",
            "Num_of_Delayed_Payment      0\n",
            "Changed_Credit_Limit        0\n",
            "Num_Credit_Inquiries        0\n",
            "Outstanding_Debt            0\n",
            "Credit_Utilization_Ratio    0\n",
            "Total_EMI_per_month         0\n",
            "Amount_invested_monthly     0\n",
            "Monthly_Balance             0\n",
            "Credit_History_Age          0\n",
            "dtype: int64\n"
          ]
        }
      ],
      "source": [
        "print(df_num_imp.isna().sum())"
      ]
    },
    {
      "cell_type": "code",
      "execution_count": null,
      "id": "74207950",
      "metadata": {
        "execution": {
          "iopub.execute_input": "2022-10-15T06:48:51.180289Z",
          "iopub.status.busy": "2022-10-15T06:48:51.179761Z",
          "iopub.status.idle": "2022-10-15T06:48:51.247561Z",
          "shell.execute_reply": "2022-10-15T06:48:51.246469Z"
        },
        "papermill": {
          "duration": 0.107182,
          "end_time": "2022-10-15T06:48:51.250129",
          "exception": false,
          "start_time": "2022-10-15T06:48:51.142947",
          "status": "completed"
        },
        "tags": [],
        "id": "74207950",
        "outputId": "50c451be-ed57-4f05-8b7c-c9a7f8466964"
      },
      "outputs": [
        {
          "name": "stdout",
          "output_type": "stream",
          "text": [
            "(50000, 27)\n"
          ]
        }
      ],
      "source": [
        "from sklearn.preprocessing import OneHotEncoder\n",
        "ohe = OneHotEncoder(handle_unknown = 'ignore')\n",
        "ohe.fit(df_cat_imp)\n",
        "\n",
        "df_cat_imp_ohe = ohe.transform(df_cat_imp).toarray()\n",
        "print(df_cat_imp_ohe.shape)"
      ]
    },
    {
      "cell_type": "code",
      "execution_count": null,
      "id": "a99cd218",
      "metadata": {
        "execution": {
          "iopub.execute_input": "2022-10-15T06:48:51.318356Z",
          "iopub.status.busy": "2022-10-15T06:48:51.317336Z",
          "iopub.status.idle": "2022-10-15T06:48:51.336579Z",
          "shell.execute_reply": "2022-10-15T06:48:51.335296Z"
        },
        "papermill": {
          "duration": 0.055588,
          "end_time": "2022-10-15T06:48:51.339047",
          "exception": false,
          "start_time": "2022-10-15T06:48:51.283459",
          "status": "completed"
        },
        "tags": [],
        "id": "a99cd218",
        "outputId": "685d0098-e322-47be-e31a-0401b0af2fe8"
      },
      "outputs": [
        {
          "name": "stdout",
          "output_type": "stream",
          "text": [
            "(50000, 17)\n"
          ]
        }
      ],
      "source": [
        "from sklearn.preprocessing import StandardScaler\n",
        "ss = StandardScaler()\n",
        "ss.fit(df_num_imp)\n",
        "\n",
        "df_num_imp_ss = ss.transform(df_num_imp)\n",
        "print(df_num_imp_ss.shape)"
      ]
    },
    {
      "cell_type": "code",
      "execution_count": null,
      "id": "5e824ae2",
      "metadata": {
        "execution": {
          "iopub.execute_input": "2022-10-15T06:48:51.407296Z",
          "iopub.status.busy": "2022-10-15T06:48:51.406828Z",
          "iopub.status.idle": "2022-10-15T06:48:51.421197Z",
          "shell.execute_reply": "2022-10-15T06:48:51.419556Z"
        },
        "papermill": {
          "duration": 0.051789,
          "end_time": "2022-10-15T06:48:51.423778",
          "exception": false,
          "start_time": "2022-10-15T06:48:51.371989",
          "status": "completed"
        },
        "tags": [],
        "id": "5e824ae2",
        "outputId": "02cb28ba-b569-4fb3-f63e-090402bc2a9d"
      },
      "outputs": [
        {
          "name": "stdout",
          "output_type": "stream",
          "text": [
            "(50000, 44)\n"
          ]
        }
      ],
      "source": [
        "df_test_con = np.concatenate([df_cat_imp_ohe, df_num_imp_ss],axis = 1)\n",
        "print(df_test_con.shape)"
      ]
    },
    {
      "cell_type": "markdown",
      "id": "64b8e080",
      "metadata": {
        "papermill": {
          "duration": 0.033354,
          "end_time": "2022-10-15T06:48:51.491446",
          "exception": false,
          "start_time": "2022-10-15T06:48:51.458092",
          "status": "completed"
        },
        "tags": [],
        "id": "64b8e080"
      },
      "source": [
        "#Predicting the Values from Models"
      ]
    },
    {
      "cell_type": "code",
      "execution_count": null,
      "id": "bfc12628",
      "metadata": {
        "execution": {
          "iopub.execute_input": "2022-10-15T06:48:51.561130Z",
          "iopub.status.busy": "2022-10-15T06:48:51.560766Z",
          "iopub.status.idle": "2022-10-15T06:48:51.581830Z",
          "shell.execute_reply": "2022-10-15T06:48:51.580611Z"
        },
        "papermill": {
          "duration": 0.058974,
          "end_time": "2022-10-15T06:48:51.585318",
          "exception": false,
          "start_time": "2022-10-15T06:48:51.526344",
          "status": "completed"
        },
        "tags": [],
        "id": "bfc12628",
        "outputId": "c025c09c-a368-4667-da8f-179632b37144"
      },
      "outputs": [
        {
          "data": {
            "text/plain": [
              "array(['Good', 'Good', 'Good', ..., 'Standard', 'Standard', 'Standard'],\n",
              "      dtype=object)"
            ]
          },
          "execution_count": 87,
          "metadata": {},
          "output_type": "execute_result"
        }
      ],
      "source": [
        "lr_test_preds1 = lr.predict(df_test_con)\n",
        "lr_test_preds1"
      ]
    },
    {
      "cell_type": "code",
      "execution_count": null,
      "id": "a0a34f5b",
      "metadata": {
        "execution": {
          "iopub.execute_input": "2022-10-15T06:48:51.696608Z",
          "iopub.status.busy": "2022-10-15T06:48:51.696182Z",
          "iopub.status.idle": "2022-10-15T06:48:51.705712Z",
          "shell.execute_reply": "2022-10-15T06:48:51.704611Z"
        },
        "papermill": {
          "duration": 0.068329,
          "end_time": "2022-10-15T06:48:51.708081",
          "exception": false,
          "start_time": "2022-10-15T06:48:51.639752",
          "status": "completed"
        },
        "tags": [],
        "id": "a0a34f5b",
        "outputId": "4e8b2986-131c-43de-eb58-ac93ad6a777f"
      },
      "outputs": [
        {
          "data": {
            "text/plain": [
              "(50000, 2)"
            ]
          },
          "execution_count": 88,
          "metadata": {},
          "output_type": "execute_result"
        }
      ],
      "source": [
        "lr_sample_submission = pd.DataFrame({\"ID\":test_df[\"ID\"], \"Credit_Score\":lr_test_preds1})\n",
        "lr_sample_submission.shape"
      ]
    },
    {
      "cell_type": "code",
      "execution_count": null,
      "id": "a3168055",
      "metadata": {
        "execution": {
          "iopub.execute_input": "2022-10-15T06:48:51.777237Z",
          "iopub.status.busy": "2022-10-15T06:48:51.776814Z",
          "iopub.status.idle": "2022-10-15T06:48:51.989348Z",
          "shell.execute_reply": "2022-10-15T06:48:51.988110Z"
        },
        "papermill": {
          "duration": 0.250876,
          "end_time": "2022-10-15T06:48:51.992539",
          "exception": false,
          "start_time": "2022-10-15T06:48:51.741663",
          "status": "completed"
        },
        "tags": [],
        "id": "a3168055",
        "outputId": "ef552422-6140-410d-f328-1ffe45bb10c7"
      },
      "outputs": [
        {
          "name": "stderr",
          "output_type": "stream",
          "text": [
            "/opt/conda/lib/python3.7/site-packages/seaborn/_decorators.py:43: FutureWarning: Pass the following variable as a keyword arg: x. From version 0.12, the only valid positional argument will be `data`, and passing other arguments without an explicit keyword will result in an error or misinterpretation.\n",
            "  FutureWarning\n"
          ]
        },
        {
          "data": {
            "text/plain": [
              "<AxesSubplot:xlabel='Credit_Score', ylabel='count'>"
            ]
          },
          "execution_count": 89,
          "metadata": {},
          "output_type": "execute_result"
        },
        {
          "data": {
            "image/png": "[encoded data removed]",
            "text/plain": [
              "<Figure size 432x288 with 1 Axes>"
            ]
          },
          "metadata": {
            "needs_background": "light"
          },
          "output_type": "display_data"
        }
      ],
      "source": [
        "sns.countplot('Credit_Score', data=lr_sample_submission)"
      ]
    },
    {
      "cell_type": "code",
      "execution_count": null,
      "id": "3b2d8cc8",
      "metadata": {
        "execution": {
          "iopub.execute_input": "2022-10-15T06:48:52.063080Z",
          "iopub.status.busy": "2022-10-15T06:48:52.062682Z",
          "iopub.status.idle": "2022-10-15T06:48:53.356030Z",
          "shell.execute_reply": "2022-10-15T06:48:53.354905Z"
        },
        "papermill": {
          "duration": 1.331181,
          "end_time": "2022-10-15T06:48:53.358697",
          "exception": false,
          "start_time": "2022-10-15T06:48:52.027516",
          "status": "completed"
        },
        "tags": [],
        "id": "3b2d8cc8",
        "outputId": "8e9cec3b-96fb-4b05-f855-5f172bc178f7"
      },
      "outputs": [
        {
          "data": {
            "text/plain": [
              "array(['Good', 'Good', 'Good', ..., 'Poor', 'Standard', 'Standard'],\n",
              "      dtype=object)"
            ]
          },
          "execution_count": 90,
          "metadata": {},
          "output_type": "execute_result"
        }
      ],
      "source": [
        "rfc_test_preds1 = rfc.predict(df_test_con)\n",
        "rfc_test_preds1"
      ]
    },
    {
      "cell_type": "code",
      "execution_count": null,
      "id": "5bad7a68",
      "metadata": {
        "execution": {
          "iopub.execute_input": "2022-10-15T06:48:53.430875Z",
          "iopub.status.busy": "2022-10-15T06:48:53.430098Z",
          "iopub.status.idle": "2022-10-15T06:48:53.438645Z",
          "shell.execute_reply": "2022-10-15T06:48:53.437741Z"
        },
        "papermill": {
          "duration": 0.047702,
          "end_time": "2022-10-15T06:48:53.441247",
          "exception": false,
          "start_time": "2022-10-15T06:48:53.393545",
          "status": "completed"
        },
        "tags": [],
        "id": "5bad7a68",
        "outputId": "4fd97bc4-a1a5-46a4-ade6-b8c39f999124"
      },
      "outputs": [
        {
          "data": {
            "text/plain": [
              "(50000, 2)"
            ]
          },
          "execution_count": 91,
          "metadata": {},
          "output_type": "execute_result"
        }
      ],
      "source": [
        "rfc_sample_submission = pd.DataFrame({\"ID\":test_df[\"ID\"], \"Credit_Score\":rfc_test_preds1})\n",
        "rfc_sample_submission.shape"
      ]
    },
    {
      "cell_type": "code",
      "execution_count": null,
      "id": "d36fe39a",
      "metadata": {
        "execution": {
          "iopub.execute_input": "2022-10-15T06:48:53.512144Z",
          "iopub.status.busy": "2022-10-15T06:48:53.511688Z",
          "iopub.status.idle": "2022-10-15T06:48:53.723528Z",
          "shell.execute_reply": "2022-10-15T06:48:53.721832Z"
        },
        "papermill": {
          "duration": 0.249766,
          "end_time": "2022-10-15T06:48:53.726203",
          "exception": false,
          "start_time": "2022-10-15T06:48:53.476437",
          "status": "completed"
        },
        "tags": [],
        "id": "d36fe39a",
        "outputId": "d66ced5d-e274-4b2d-edab-869acf786af7"
      },
      "outputs": [
        {
          "name": "stderr",
          "output_type": "stream",
          "text": [
            "/opt/conda/lib/python3.7/site-packages/seaborn/_decorators.py:43: FutureWarning: Pass the following variable as a keyword arg: x. From version 0.12, the only valid positional argument will be `data`, and passing other arguments without an explicit keyword will result in an error or misinterpretation.\n",
            "  FutureWarning\n"
          ]
        },
        {
          "data": {
            "text/plain": [
              "<AxesSubplot:xlabel='Credit_Score', ylabel='count'>"
            ]
          },
          "execution_count": 92,
          "metadata": {},
          "output_type": "execute_result"
        },
        {
          "data": {
            "image/png": "[encoded data removed]",
            "text/plain": [
              "<Figure size 432x288 with 1 Axes>"
            ]
          },
          "metadata": {
            "needs_background": "light"
          },
          "output_type": "display_data"
        }
      ],
      "source": [
        "sns.countplot('Credit_Score', data=rfc_sample_submission)"
      ]
    },
    {
      "cell_type": "code",
      "execution_count": null,
      "id": "7e847b3e",
      "metadata": {
        "execution": {
          "iopub.execute_input": "2022-10-15T06:48:53.799300Z",
          "iopub.status.busy": "2022-10-15T06:48:53.798873Z",
          "iopub.status.idle": "2022-10-15T06:50:14.194362Z",
          "shell.execute_reply": "2022-10-15T06:50:14.192919Z"
        },
        "papermill": {
          "duration": 80.467926,
          "end_time": "2022-10-15T06:50:14.231019",
          "exception": false,
          "start_time": "2022-10-15T06:48:53.763093",
          "status": "completed"
        },
        "tags": [],
        "id": "7e847b3e",
        "outputId": "23e6baa3-c8bd-4a53-f2f5-7ce7b50a4ab8"
      },
      "outputs": [
        {
          "data": {
            "text/plain": [
              "array(['Good', 'Standard', 'Standard', ..., 'Good', 'Poor', 'Standard'],\n",
              "      dtype=object)"
            ]
          },
          "execution_count": 93,
          "metadata": {},
          "output_type": "execute_result"
        }
      ],
      "source": [
        "knc_test_preds1 = knc.predict(df_test_con)\n",
        "knc_test_preds1"
      ]
    },
    {
      "cell_type": "code",
      "execution_count": null,
      "id": "4a4695bd",
      "metadata": {
        "execution": {
          "iopub.execute_input": "2022-10-15T06:50:14.303341Z",
          "iopub.status.busy": "2022-10-15T06:50:14.302886Z",
          "iopub.status.idle": "2022-10-15T06:50:14.312286Z",
          "shell.execute_reply": "2022-10-15T06:50:14.311202Z"
        },
        "papermill": {
          "duration": 0.049493,
          "end_time": "2022-10-15T06:50:14.314791",
          "exception": false,
          "start_time": "2022-10-15T06:50:14.265298",
          "status": "completed"
        },
        "tags": [],
        "id": "4a4695bd",
        "outputId": "f15a4a04-9dbf-4a9f-f205-6d4e745da10a"
      },
      "outputs": [
        {
          "data": {
            "text/plain": [
              "(50000, 2)"
            ]
          },
          "execution_count": 94,
          "metadata": {},
          "output_type": "execute_result"
        }
      ],
      "source": [
        "knc_sample_submission = pd.DataFrame({\"ID\":test_df[\"ID\"], \"Credit_Score\":knc_test_preds1})\n",
        "knc_sample_submission.shape"
      ]
    },
    {
      "cell_type": "code",
      "execution_count": null,
      "id": "a6bef78e",
      "metadata": {
        "execution": {
          "iopub.execute_input": "2022-10-15T06:50:14.389802Z",
          "iopub.status.busy": "2022-10-15T06:50:14.388912Z",
          "iopub.status.idle": "2022-10-15T06:50:14.607198Z",
          "shell.execute_reply": "2022-10-15T06:50:14.606056Z"
        },
        "papermill": {
          "duration": 0.259182,
          "end_time": "2022-10-15T06:50:14.609961",
          "exception": false,
          "start_time": "2022-10-15T06:50:14.350779",
          "status": "completed"
        },
        "tags": [],
        "id": "a6bef78e",
        "outputId": "83437be7-ba29-4821-e224-14e0c7fb4b24"
      },
      "outputs": [
        {
          "name": "stderr",
          "output_type": "stream",
          "text": [
            "/opt/conda/lib/python3.7/site-packages/seaborn/_decorators.py:43: FutureWarning: Pass the following variable as a keyword arg: x. From version 0.12, the only valid positional argument will be `data`, and passing other arguments without an explicit keyword will result in an error or misinterpretation.\n",
            "  FutureWarning\n"
          ]
        },
        {
          "data": {
            "text/plain": [
              "<AxesSubplot:xlabel='Credit_Score', ylabel='count'>"
            ]
          },
          "execution_count": 95,
          "metadata": {},
          "output_type": "execute_result"
        },
        {
          "data": {
            "image/png": "[encoded data removed]",
            "text/plain": [
              "<Figure size 432x288 with 1 Axes>"
            ]
          },
          "metadata": {
            "needs_background": "light"
          },
          "output_type": "display_data"
        }
      ],
      "source": [
        "sns.countplot('Credit_Score', data=knc_sample_submission)"
      ]
    },
    {
      "cell_type": "code",
      "execution_count": null,
      "id": "3b34b108",
      "metadata": {
        "execution": {
          "iopub.execute_input": "2022-10-15T06:50:14.686741Z",
          "iopub.status.busy": "2022-10-15T06:50:14.686314Z",
          "iopub.status.idle": "2022-10-15T06:50:14.709590Z",
          "shell.execute_reply": "2022-10-15T06:50:14.708715Z"
        },
        "papermill": {
          "duration": 0.064811,
          "end_time": "2022-10-15T06:50:14.711784",
          "exception": false,
          "start_time": "2022-10-15T06:50:14.646973",
          "status": "completed"
        },
        "tags": [],
        "id": "3b34b108",
        "outputId": "424c8583-ab20-40b0-809d-eb8d386da072"
      },
      "outputs": [
        {
          "data": {
            "text/plain": [
              "array(['Poor', 'Standard', 'Standard', ..., 'Poor', 'Poor', 'Good'],\n",
              "      dtype=object)"
            ]
          },
          "execution_count": 96,
          "metadata": {},
          "output_type": "execute_result"
        }
      ],
      "source": [
        "dtc_test_preds1 = dtc.predict(df_test_con)\n",
        "dtc_test_preds1"
      ]
    },
    {
      "cell_type": "code",
      "execution_count": null,
      "id": "513dd443",
      "metadata": {
        "execution": {
          "iopub.execute_input": "2022-10-15T06:50:14.789408Z",
          "iopub.status.busy": "2022-10-15T06:50:14.787908Z",
          "iopub.status.idle": "2022-10-15T06:50:14.796643Z",
          "shell.execute_reply": "2022-10-15T06:50:14.795571Z"
        },
        "papermill": {
          "duration": 0.049626,
          "end_time": "2022-10-15T06:50:14.799324",
          "exception": false,
          "start_time": "2022-10-15T06:50:14.749698",
          "status": "completed"
        },
        "tags": [],
        "id": "513dd443",
        "outputId": "1a785fed-d4d6-461c-c759-00172eba3063"
      },
      "outputs": [
        {
          "data": {
            "text/plain": [
              "(50000, 2)"
            ]
          },
          "execution_count": 97,
          "metadata": {},
          "output_type": "execute_result"
        }
      ],
      "source": [
        "dtc_sample_submission = pd.DataFrame({\"ID\":test_df[\"ID\"], \"Credit_Score\":dtc_test_preds1})\n",
        "dtc_sample_submission.shape"
      ]
    },
    {
      "cell_type": "code",
      "execution_count": null,
      "id": "1ad2ee5b",
      "metadata": {
        "execution": {
          "iopub.execute_input": "2022-10-15T06:50:14.875948Z",
          "iopub.status.busy": "2022-10-15T06:50:14.875530Z",
          "iopub.status.idle": "2022-10-15T06:50:15.085759Z",
          "shell.execute_reply": "2022-10-15T06:50:15.084430Z"
        },
        "papermill": {
          "duration": 0.251488,
          "end_time": "2022-10-15T06:50:15.088633",
          "exception": false,
          "start_time": "2022-10-15T06:50:14.837145",
          "status": "completed"
        },
        "tags": [],
        "id": "1ad2ee5b",
        "outputId": "c839a23f-57ba-4adf-f858-3726d383e3d0"
      },
      "outputs": [
        {
          "name": "stderr",
          "output_type": "stream",
          "text": [
            "/opt/conda/lib/python3.7/site-packages/seaborn/_decorators.py:43: FutureWarning: Pass the following variable as a keyword arg: x. From version 0.12, the only valid positional argument will be `data`, and passing other arguments without an explicit keyword will result in an error or misinterpretation.\n",
            "  FutureWarning\n"
          ]
        },
        {
          "data": {
            "text/plain": [
              "<AxesSubplot:xlabel='Credit_Score', ylabel='count'>"
            ]
          },
          "execution_count": 98,
          "metadata": {},
          "output_type": "execute_result"
        },
        {
          "data": {
            "image/png": "[encoded data removed]",
            "text/plain": [
              "<Figure size 432x288 with 1 Axes>"
            ]
          },
          "metadata": {
            "needs_background": "light"
          },
          "output_type": "display_data"
        }
      ],
      "source": [
        "sns.countplot('Credit_Score', data=dtc_sample_submission)"
      ]
    }
  ],
  "metadata": {
    "kernelspec": {
      "display_name": "Python 3",
      "language": "python",
      "name": "python3"
    },
    "language_info": {
      "codemirror_mode": {
        "name": "ipython",
        "version": 3
      },
      "file_extension": ".py",
      "mimetype": "text/x-python",
      "name": "python",
      "nbconvert_exporter": "python",
      "pygments_lexer": "ipython3",
      "version": "3.7.12"
    },
    "papermill": {
      "default_parameters": {},
      "duration": 468.08883,
      "end_time": "2022-10-15T06:50:16.051200",
      "environment_variables": {},
      "exception": null,
      "input_path": "__notebook__.ipynb",
      "output_path": "__notebook__.ipynb",
      "parameters": {},
      "start_time": "2022-10-15T06:42:27.962370",
      "version": "2.3.4"
    },
    "colab": {
      "provenance": []
    }
  },
  "nbformat": 4,
  "nbformat_minor": 5
}