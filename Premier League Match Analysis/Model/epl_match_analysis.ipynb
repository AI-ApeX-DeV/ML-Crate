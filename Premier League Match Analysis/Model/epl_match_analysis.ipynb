{
 "cells": [
  {
   "cell_type": "markdown",
   "metadata": {
    "cell_id": "a8e2ab30d03f472492efb34be700404d",
    "deepnote_cell_height": 229.578125,
    "deepnote_cell_type": "markdown",
    "tags": []
   },
   "source": [
    "# ⚽Premier League Match Analysis🥅\n",
    "📍 Project Title : Premier League Match Analysis\n",
    "\n",
    "📍 Aim of the Project : Analyze the PL matches for the season of 2019-20\n",
    "\n",
    "📍 Dataset : https://www.kaggle.com/datasets/idoyo92/epl-stats-20192020\n",
    "\n",
    "📍 Libraries Required : Pandas, Numpy, Seaborn, Matplotlib, Sklearn"
   ]
  },
  {
   "cell_type": "markdown",
   "metadata": {
    "cell_id": "0e43792716284575a37149a876ad9707",
    "deepnote_cell_type": "text-cell-h2",
    "formattedRanges": [],
    "is_collapsed": false,
    "tags": []
   },
   "source": [
    "## Import Required Libraries"
   ]
  },
  {
   "cell_type": "code",
   "execution_count": 1,
   "metadata": {
    "cell_id": "76f5e4f2-8a00-49dc-9634-3c7594b419f1",
    "deepnote_cell_height": 333,
    "deepnote_cell_type": "code",
    "deepnote_to_be_reexecuted": false,
    "execution_millis": 2950,
    "execution_start": 1658768382886,
    "source_hash": "c25ebe12",
    "tags": []
   },
   "outputs": [],
   "source": [
    "import pandas as pd\n",
    "import numpy as np\n",
    "\n",
    "import matplotlib.pyplot as plt\n",
    "%matplotlib inline\n",
    "import seaborn as sns\n",
    "# import dataframe_image as dfi\n",
    "\n",
    "from sklearn.preprocessing import MinMaxScaler\n",
    "from sklearn.preprocessing import StandardScaler\n",
    "from sklearn.model_selection import train_test_split\n",
    "from sklearn.tree import DecisionTreeRegressor\n",
    "from sklearn.multioutput import MultiOutputRegressor\n",
    "from sklearn.neighbors import KNeighborsRegressor\n",
    "from sklearn.metrics import r2_score"
   ]
  },
  {
   "cell_type": "markdown",
   "metadata": {
    "cell_id": "1ebb9aa2662741e6a7d9b1671347f4cf",
    "deepnote_cell_type": "text-cell-h2",
    "formattedRanges": [],
    "is_collapsed": false,
    "tags": []
   },
   "source": [
    "## Data Preprocessing"
   ]
  },
  {
   "cell_type": "code",
   "execution_count": 2,
   "metadata": {
    "cell_id": "6a1748e0ec2a48ff8574cf60e99addfc",
    "deepnote_cell_height": 81,
    "deepnote_cell_type": "code",
    "deepnote_to_be_reexecuted": false,
    "execution_millis": 22,
    "execution_start": 1658768385837,
    "source_hash": "8b569c1f",
    "tags": []
   },
   "outputs": [],
   "source": [
    "data = pd.read_csv('epl2020.csv')"
   ]
  },
  {
   "cell_type": "code",
   "execution_count": 3,
   "metadata": {
    "cell_id": "e197d764d46d43a192eae730ddc5695e",
    "deepnote_cell_height": 615.265625,
    "deepnote_cell_type": "code",
    "deepnote_to_be_reexecuted": false,
    "execution_millis": 235,
    "execution_start": 1658768385868,
    "source_hash": "e6928a8f",
    "tags": []
   },
   "outputs": [
    {
     "data": {
      "application/vnd.deepnote.dataframe.v3+json": {
       "column_count": 45,
       "columns": [
        {
         "dtype": "int64",
         "name": "Unnamed: 0",
         "stats": {
          "histogram": [
           {
            "bin_end": 58.5,
            "bin_start": 1,
            "count": 58
           },
           {
            "bin_end": 116,
            "bin_start": 58.5,
            "count": 57
           },
           {
            "bin_end": 173.5,
            "bin_start": 116,
            "count": 58
           },
           {
            "bin_end": 231,
            "bin_start": 173.5,
            "count": 57
           },
           {
            "bin_end": 288.5,
            "bin_start": 231,
            "count": 58
           },
           {
            "bin_end": 346,
            "bin_start": 288.5,
            "count": 57
           },
           {
            "bin_end": 403.5,
            "bin_start": 346,
            "count": 58
           },
           {
            "bin_end": 461,
            "bin_start": 403.5,
            "count": 57
           },
           {
            "bin_end": 518.5,
            "bin_start": 461,
            "count": 58
           },
           {
            "bin_end": 576,
            "bin_start": 518.5,
            "count": 58
           }
          ],
          "max": "576",
          "min": "1",
          "nan_count": 0,
          "unique_count": 576
         }
        },
        {
         "dtype": "object",
         "name": "h_a",
         "stats": {
          "categories": [
           {
            "count": 288,
            "name": "h"
           },
           {
            "count": 288,
            "name": "a"
           }
          ],
          "nan_count": 0,
          "unique_count": 2
         }
        },
        {
         "dtype": "float64",
         "name": "xG",
         "stats": {
          "histogram": [
           {
            "bin_end": 0.7117696,
            "bin_start": 0.054134,
            "count": 111
           },
           {
            "bin_end": 1.3694051999999999,
            "bin_start": 0.7117696,
            "count": 198
           },
           {
            "bin_end": 2.0270408,
            "bin_start": 1.3694051999999999,
            "count": 131
           },
           {
            "bin_end": 2.6846764,
            "bin_start": 2.0270408,
            "count": 84
           },
           {
            "bin_end": 3.3423119999999997,
            "bin_start": 2.6846764,
            "count": 34
           },
           {
            "bin_end": 3.9999476,
            "bin_start": 3.3423119999999997,
            "count": 12
           },
           {
            "bin_end": 4.6575832,
            "bin_start": 3.9999476,
            "count": 5
           },
           {
            "bin_end": 5.3152188,
            "bin_start": 4.6575832,
            "count": 0
           },
           {
            "bin_end": 5.9728544,
            "bin_start": 5.3152188,
            "count": 0
           },
           {
            "bin_end": 6.63049,
            "bin_start": 5.9728544,
            "count": 1
           }
          ],
          "max": "6.63049",
          "min": "0.054134",
          "nan_count": 0,
          "unique_count": 576
         }
        },
        {
         "dtype": "float64",
         "name": "xGA",
         "stats": {
          "histogram": [
           {
            "bin_end": 0.7117696,
            "bin_start": 0.054134,
            "count": 111
           },
           {
            "bin_end": 1.3694051999999999,
            "bin_start": 0.7117696,
            "count": 198
           },
           {
            "bin_end": 2.0270408,
            "bin_start": 1.3694051999999999,
            "count": 131
           },
           {
            "bin_end": 2.6846764,
            "bin_start": 2.0270408,
            "count": 84
           },
           {
            "bin_end": 3.3423119999999997,
            "bin_start": 2.6846764,
            "count": 34
           },
           {
            "bin_end": 3.9999476,
            "bin_start": 3.3423119999999997,
            "count": 12
           },
           {
            "bin_end": 4.6575832,
            "bin_start": 3.9999476,
            "count": 5
           },
           {
            "bin_end": 5.3152188,
            "bin_start": 4.6575832,
            "count": 0
           },
           {
            "bin_end": 5.9728544,
            "bin_start": 5.3152188,
            "count": 0
           },
           {
            "bin_end": 6.63049,
            "bin_start": 5.9728544,
            "count": 1
           }
          ],
          "max": "6.63049",
          "min": "0.054134",
          "nan_count": 0,
          "unique_count": 576
         }
        },
        {
         "dtype": "float64",
         "name": "npxG",
         "stats": {
          "histogram": [
           {
            "bin_end": 0.6356526,
            "bin_start": 0.054134,
            "count": 103
           },
           {
            "bin_end": 1.2171712,
            "bin_start": 0.6356526,
            "count": 181
           },
           {
            "bin_end": 1.7986898,
            "bin_start": 1.2171712,
            "count": 136
           },
           {
            "bin_end": 2.3802084,
            "bin_start": 1.7986898,
            "count": 88
           },
           {
            "bin_end": 2.9617269999999998,
            "bin_start": 2.3802084,
            "count": 43
           },
           {
            "bin_end": 3.5432456,
            "bin_start": 2.9617269999999998,
            "count": 18
           },
           {
            "bin_end": 4.1247642,
            "bin_start": 3.5432456,
            "count": 6
           },
           {
            "bin_end": 4.7062828,
            "bin_start": 4.1247642,
            "count": 0
           },
           {
            "bin_end": 5.2878014,
            "bin_start": 4.7062828,
            "count": 0
           },
           {
            "bin_end": 5.86932,
            "bin_start": 5.2878014,
            "count": 1
           }
          ],
          "max": "5.86932",
          "min": "0.054134",
          "nan_count": 0,
          "unique_count": 576
         }
        },
        {
         "dtype": "float64",
         "name": "npxGA",
         "stats": {
          "histogram": [
           {
            "bin_end": 0.6356526,
            "bin_start": 0.054134,
            "count": 103
           },
           {
            "bin_end": 1.2171712,
            "bin_start": 0.6356526,
            "count": 181
           },
           {
            "bin_end": 1.7986898,
            "bin_start": 1.2171712,
            "count": 136
           },
           {
            "bin_end": 2.3802084,
            "bin_start": 1.7986898,
            "count": 88
           },
           {
            "bin_end": 2.9617269999999998,
            "bin_start": 2.3802084,
            "count": 43
           },
           {
            "bin_end": 3.5432456,
            "bin_start": 2.9617269999999998,
            "count": 18
           },
           {
            "bin_end": 4.1247642,
            "bin_start": 3.5432456,
            "count": 6
           },
           {
            "bin_end": 4.7062828,
            "bin_start": 4.1247642,
            "count": 0
           },
           {
            "bin_end": 5.2878014,
            "bin_start": 4.7062828,
            "count": 0
           },
           {
            "bin_end": 5.86932,
            "bin_start": 5.2878014,
            "count": 1
           }
          ],
          "max": "5.86932",
          "min": "0.054134",
          "nan_count": 0,
          "unique_count": 576
         }
        },
        {
         "dtype": "int64",
         "name": "deep",
         "stats": {
          "histogram": [
           {
            "bin_end": 3.1,
            "bin_start": 0,
            "count": 140
           },
           {
            "bin_end": 6.2,
            "bin_start": 3.1,
            "count": 188
           },
           {
            "bin_end": 9.3,
            "bin_start": 6.2,
            "count": 131
           },
           {
            "bin_end": 12.4,
            "bin_start": 9.3,
            "count": 62
           },
           {
            "bin_end": 15.5,
            "bin_start": 12.4,
            "count": 30
           },
           {
            "bin_end": 18.6,
            "bin_start": 15.5,
            "count": 14
           },
           {
            "bin_end": 21.7,
            "bin_start": 18.6,
            "count": 8
           },
           {
            "bin_end": 24.8,
            "bin_start": 21.7,
            "count": 2
           },
           {
            "bin_end": 27.900000000000002,
            "bin_start": 24.8,
            "count": 0
           },
           {
            "bin_end": 31,
            "bin_start": 27.900000000000002,
            "count": 1
           }
          ],
          "max": "31",
          "min": "0",
          "nan_count": 0,
          "unique_count": 24
         }
        },
        {
         "dtype": "int64",
         "name": "deep_allowed",
         "stats": {
          "histogram": [
           {
            "bin_end": 3.1,
            "bin_start": 0,
            "count": 140
           },
           {
            "bin_end": 6.2,
            "bin_start": 3.1,
            "count": 188
           },
           {
            "bin_end": 9.3,
            "bin_start": 6.2,
            "count": 131
           },
           {
            "bin_end": 12.4,
            "bin_start": 9.3,
            "count": 62
           },
           {
            "bin_end": 15.5,
            "bin_start": 12.4,
            "count": 30
           },
           {
            "bin_end": 18.6,
            "bin_start": 15.5,
            "count": 14
           },
           {
            "bin_end": 21.7,
            "bin_start": 18.6,
            "count": 8
           },
           {
            "bin_end": 24.8,
            "bin_start": 21.7,
            "count": 2
           },
           {
            "bin_end": 27.900000000000002,
            "bin_start": 24.8,
            "count": 0
           },
           {
            "bin_end": 31,
            "bin_start": 27.900000000000002,
            "count": 1
           }
          ],
          "max": "31",
          "min": "0",
          "nan_count": 0,
          "unique_count": 24
         }
        },
        {
         "dtype": "int64",
         "name": "scored",
         "stats": {
          "histogram": [
           {
            "bin_end": 0.9,
            "bin_start": 0,
            "count": 150
           },
           {
            "bin_end": 1.8,
            "bin_start": 0.9,
            "count": 194
           },
           {
            "bin_end": 2.7,
            "bin_start": 1.8,
            "count": 149
           },
           {
            "bin_end": 3.6,
            "bin_start": 2.7,
            "count": 57
           },
           {
            "bin_end": 4.5,
            "bin_start": 3.6,
            "count": 17
           },
           {
            "bin_end": 5.4,
            "bin_start": 4.5,
            "count": 6
           },
           {
            "bin_end": 6.3,
            "bin_start": 5.4,
            "count": 1
           },
           {
            "bin_end": 7.2,
            "bin_start": 6.3,
            "count": 0
           },
           {
            "bin_end": 8.1,
            "bin_start": 7.2,
            "count": 1
           },
           {
            "bin_end": 9,
            "bin_start": 8.1,
            "count": 1
           }
          ],
          "max": "9",
          "min": "0",
          "nan_count": 0,
          "unique_count": 9
         }
        },
        {
         "dtype": "int64",
         "name": "missed",
         "stats": {
          "histogram": [
           {
            "bin_end": 0.9,
            "bin_start": 0,
            "count": 150
           },
           {
            "bin_end": 1.8,
            "bin_start": 0.9,
            "count": 194
           },
           {
            "bin_end": 2.7,
            "bin_start": 1.8,
            "count": 149
           },
           {
            "bin_end": 3.6,
            "bin_start": 2.7,
            "count": 57
           },
           {
            "bin_end": 4.5,
            "bin_start": 3.6,
            "count": 17
           },
           {
            "bin_end": 5.4,
            "bin_start": 4.5,
            "count": 6
           },
           {
            "bin_end": 6.3,
            "bin_start": 5.4,
            "count": 1
           },
           {
            "bin_end": 7.2,
            "bin_start": 6.3,
            "count": 0
           },
           {
            "bin_end": 8.1,
            "bin_start": 7.2,
            "count": 1
           },
           {
            "bin_end": 9,
            "bin_start": 8.1,
            "count": 1
           }
          ],
          "max": "9",
          "min": "0",
          "nan_count": 0,
          "unique_count": 9
         }
        },
        {
         "dtype": "float64",
         "name": "xpts",
         "stats": {
          "histogram": [
           {
            "bin_end": 0.30028000000000005,
            "bin_start": 0.0004,
            "count": 74
           },
           {
            "bin_end": 0.60016,
            "bin_start": 0.30028000000000005,
            "count": 64
           },
           {
            "bin_end": 0.9000400000000001,
            "bin_start": 0.60016,
            "count": 63
           },
           {
            "bin_end": 1.19992,
            "bin_start": 0.9000400000000001,
            "count": 63
           },
           {
            "bin_end": 1.4998,
            "bin_start": 1.19992,
            "count": 55
           },
           {
            "bin_end": 1.7996800000000002,
            "bin_start": 1.4998,
            "count": 52
           },
           {
            "bin_end": 2.0995600000000003,
            "bin_start": 1.7996800000000002,
            "count": 57
           },
           {
            "bin_end": 2.3994400000000002,
            "bin_start": 2.0995600000000003,
            "count": 45
           },
           {
            "bin_end": 2.69932,
            "bin_start": 2.3994400000000002,
            "count": 61
           },
           {
            "bin_end": 2.9992,
            "bin_start": 2.69932,
            "count": 42
           }
          ],
          "max": "2.9992",
          "min": "0.0004",
          "nan_count": 0,
          "unique_count": 572
         }
        },
        {
         "dtype": "object",
         "name": "result",
         "stats": {
          "categories": [
           {
            "count": 216,
            "name": "w"
           },
           {
            "count": 216,
            "name": "l"
           },
           {
            "count": 144,
            "name": "d"
           }
          ],
          "nan_count": 0,
          "unique_count": 3
         }
        },
        {
         "dtype": "object",
         "name": "date",
         "stats": {
          "categories": [
           {
            "count": 12,
            "name": "2019-08-31 15:00:00"
           },
           {
            "count": 12,
            "name": "2019-09-28 15:00:00"
           },
           {
            "count": 552,
            "name": "164 others"
           }
          ],
          "nan_count": 0,
          "unique_count": 166
         }
        },
        {
         "dtype": "int64",
         "name": "wins",
         "stats": {
          "histogram": [
           {
            "bin_end": 0.1,
            "bin_start": 0,
            "count": 360
           },
           {
            "bin_end": 0.2,
            "bin_start": 0.1,
            "count": 0
           },
           {
            "bin_end": 0.30000000000000004,
            "bin_start": 0.2,
            "count": 0
           },
           {
            "bin_end": 0.4,
            "bin_start": 0.30000000000000004,
            "count": 0
           },
           {
            "bin_end": 0.5,
            "bin_start": 0.4,
            "count": 0
           },
           {
            "bin_end": 0.6000000000000001,
            "bin_start": 0.5,
            "count": 0
           },
           {
            "bin_end": 0.7000000000000001,
            "bin_start": 0.6000000000000001,
            "count": 0
           },
           {
            "bin_end": 0.8,
            "bin_start": 0.7000000000000001,
            "count": 0
           },
           {
            "bin_end": 0.9,
            "bin_start": 0.8,
            "count": 0
           },
           {
            "bin_end": 1,
            "bin_start": 0.9,
            "count": 216
           }
          ],
          "max": "1",
          "min": "0",
          "nan_count": 0,
          "unique_count": 2
         }
        },
        {
         "dtype": "int64",
         "name": "draws",
         "stats": {
          "histogram": [
           {
            "bin_end": 0.1,
            "bin_start": 0,
            "count": 432
           },
           {
            "bin_end": 0.2,
            "bin_start": 0.1,
            "count": 0
           },
           {
            "bin_end": 0.30000000000000004,
            "bin_start": 0.2,
            "count": 0
           },
           {
            "bin_end": 0.4,
            "bin_start": 0.30000000000000004,
            "count": 0
           },
           {
            "bin_end": 0.5,
            "bin_start": 0.4,
            "count": 0
           },
           {
            "bin_end": 0.6000000000000001,
            "bin_start": 0.5,
            "count": 0
           },
           {
            "bin_end": 0.7000000000000001,
            "bin_start": 0.6000000000000001,
            "count": 0
           },
           {
            "bin_end": 0.8,
            "bin_start": 0.7000000000000001,
            "count": 0
           },
           {
            "bin_end": 0.9,
            "bin_start": 0.8,
            "count": 0
           },
           {
            "bin_end": 1,
            "bin_start": 0.9,
            "count": 144
           }
          ],
          "max": "1",
          "min": "0",
          "nan_count": 0,
          "unique_count": 2
         }
        },
        {
         "dtype": "int64",
         "name": "loses",
         "stats": {
          "histogram": [
           {
            "bin_end": 0.1,
            "bin_start": 0,
            "count": 360
           },
           {
            "bin_end": 0.2,
            "bin_start": 0.1,
            "count": 0
           },
           {
            "bin_end": 0.30000000000000004,
            "bin_start": 0.2,
            "count": 0
           },
           {
            "bin_end": 0.4,
            "bin_start": 0.30000000000000004,
            "count": 0
           },
           {
            "bin_end": 0.5,
            "bin_start": 0.4,
            "count": 0
           },
           {
            "bin_end": 0.6000000000000001,
            "bin_start": 0.5,
            "count": 0
           },
           {
            "bin_end": 0.7000000000000001,
            "bin_start": 0.6000000000000001,
            "count": 0
           },
           {
            "bin_end": 0.8,
            "bin_start": 0.7000000000000001,
            "count": 0
           },
           {
            "bin_end": 0.9,
            "bin_start": 0.8,
            "count": 0
           },
           {
            "bin_end": 1,
            "bin_start": 0.9,
            "count": 216
           }
          ],
          "max": "1",
          "min": "0",
          "nan_count": 0,
          "unique_count": 2
         }
        },
        {
         "dtype": "int64",
         "name": "pts",
         "stats": {
          "histogram": [
           {
            "bin_end": 0.3,
            "bin_start": 0,
            "count": 216
           },
           {
            "bin_end": 0.6,
            "bin_start": 0.3,
            "count": 0
           },
           {
            "bin_end": 0.8999999999999999,
            "bin_start": 0.6,
            "count": 0
           },
           {
            "bin_end": 1.2,
            "bin_start": 0.8999999999999999,
            "count": 144
           },
           {
            "bin_end": 1.5,
            "bin_start": 1.2,
            "count": 0
           },
           {
            "bin_end": 1.7999999999999998,
            "bin_start": 1.5,
            "count": 0
           },
           {
            "bin_end": 2.1,
            "bin_start": 1.7999999999999998,
            "count": 0
           },
           {
            "bin_end": 2.4,
            "bin_start": 2.1,
            "count": 0
           },
           {
            "bin_end": 2.6999999999999997,
            "bin_start": 2.4,
            "count": 0
           },
           {
            "bin_end": 3,
            "bin_start": 2.6999999999999997,
            "count": 216
           }
          ],
          "max": "3",
          "min": "0",
          "nan_count": 0,
          "unique_count": 3
         }
        },
        {
         "dtype": "float64",
         "name": "npxGD",
         "stats": {
          "histogram": [
           {
            "bin_end": -4.4196816,
            "bin_start": -5.524602,
            "count": 1
           },
           {
            "bin_end": -3.3147612,
            "bin_start": -4.4196816,
            "count": 2
           },
           {
            "bin_end": -2.2098408000000003,
            "bin_start": -3.3147612,
            "count": 19
           },
           {
            "bin_end": -1.1049204000000001,
            "bin_start": -2.2098408000000003,
            "count": 98
           },
           {
            "bin_end": 0,
            "bin_start": -1.1049204000000001,
            "count": 168
           },
           {
            "bin_end": 1.1049203999999992,
            "bin_start": 0,
            "count": 168
           },
           {
            "bin_end": 2.2098407999999994,
            "bin_start": 1.1049203999999992,
            "count": 98
           },
           {
            "bin_end": 3.3147611999999995,
            "bin_start": 2.2098407999999994,
            "count": 19
           },
           {
            "bin_end": 4.419681599999999,
            "bin_start": 3.3147611999999995,
            "count": 2
           },
           {
            "bin_end": 5.524602,
            "bin_start": 4.419681599999999,
            "count": 1
           }
          ],
          "max": "5.524602",
          "min": "-5.524602",
          "nan_count": 0,
          "unique_count": 576
         }
        },
        {
         "dtype": "object",
         "name": "teamId",
         "stats": {
          "categories": [
           {
            "count": 29,
            "name": "Liverpool"
           },
           {
            "count": 29,
            "name": "Norwich"
           },
           {
            "count": 518,
            "name": "18 others"
           }
          ],
          "nan_count": 0,
          "unique_count": 20
         }
        },
        {
         "dtype": "float64",
         "name": "ppda_cal",
         "stats": {
          "histogram": [
           {
            "bin_end": 8.87027027027027,
            "bin_start": 3.18918918918919,
            "count": 206
           },
           {
            "bin_end": 14.55135135135135,
            "bin_start": 8.87027027027027,
            "count": 228
           },
           {
            "bin_end": 20.23243243243243,
            "bin_start": 14.55135135135135,
            "count": 77
           },
           {
            "bin_end": 25.91351351351351,
            "bin_start": 20.23243243243243,
            "count": 32
           },
           {
            "bin_end": 31.594594594594593,
            "bin_start": 25.91351351351351,
            "count": 11
           },
           {
            "bin_end": 37.27567567567567,
            "bin_start": 31.594594594594593,
            "count": 12
           },
           {
            "bin_end": 42.956756756756754,
            "bin_start": 37.27567567567567,
            "count": 6
           },
           {
            "bin_end": 48.637837837837836,
            "bin_start": 42.956756756756754,
            "count": 3
           },
           {
            "bin_end": 54.31891891891892,
            "bin_start": 48.637837837837836,
            "count": 0
           },
           {
            "bin_end": 60,
            "bin_start": 54.31891891891892,
            "count": 1
           }
          ],
          "max": "60.0",
          "min": "3.18918918918919",
          "nan_count": 0,
          "unique_count": 525
         }
        },
        {
         "dtype": "float64",
         "name": "allowed_ppda",
         "stats": {
          "histogram": [
           {
            "bin_end": 8.87027027027027,
            "bin_start": 3.18918918918919,
            "count": 206
           },
           {
            "bin_end": 14.55135135135135,
            "bin_start": 8.87027027027027,
            "count": 228
           },
           {
            "bin_end": 20.23243243243243,
            "bin_start": 14.55135135135135,
            "count": 77
           },
           {
            "bin_end": 25.91351351351351,
            "bin_start": 20.23243243243243,
            "count": 32
           },
           {
            "bin_end": 31.594594594594593,
            "bin_start": 25.91351351351351,
            "count": 11
           },
           {
            "bin_end": 37.27567567567567,
            "bin_start": 31.594594594594593,
            "count": 12
           },
           {
            "bin_end": 42.956756756756754,
            "bin_start": 37.27567567567567,
            "count": 6
           },
           {
            "bin_end": 48.637837837837836,
            "bin_start": 42.956756756756754,
            "count": 3
           },
           {
            "bin_end": 54.31891891891892,
            "bin_start": 48.637837837837836,
            "count": 0
           },
           {
            "bin_end": 60,
            "bin_start": 54.31891891891892,
            "count": 1
           }
          ],
          "max": "60.0",
          "min": "3.18918918918919",
          "nan_count": 0,
          "unique_count": 525
         }
        },
        {
         "dtype": "int64",
         "name": "matchtime",
         "stats": {
          "histogram": [
           {
            "bin_end": 11.9,
            "bin_start": 11,
            "count": 6
           },
           {
            "bin_end": 12.8,
            "bin_start": 11.9,
            "count": 52
           },
           {
            "bin_end": 13.7,
            "bin_start": 12.8,
            "count": 6
           },
           {
            "bin_end": 14.6,
            "bin_start": 13.7,
            "count": 90
           },
           {
            "bin_end": 15.5,
            "bin_start": 14.6,
            "count": 218
           },
           {
            "bin_end": 16.4,
            "bin_start": 15.5,
            "count": 56
           },
           {
            "bin_end": 17.3,
            "bin_start": 16.4,
            "count": 56
           },
           {
            "bin_end": 18.2,
            "bin_start": 17.3,
            "count": 2
           },
           {
            "bin_end": 19.1,
            "bin_start": 18.2,
            "count": 44
           },
           {
            "bin_end": 20,
            "bin_start": 19.1,
            "count": 46
           }
          ],
          "max": "20",
          "min": "11",
          "nan_count": 0,
          "unique_count": 10
         }
        },
        {
         "dtype": "int64",
         "name": "tot_points",
         "stats": {
          "histogram": [
           {
            "bin_end": 8.2,
            "bin_start": 0,
            "count": 140
           },
           {
            "bin_end": 16.4,
            "bin_start": 8.2,
            "count": 123
           },
           {
            "bin_end": 24.599999999999998,
            "bin_start": 16.4,
            "count": 110
           },
           {
            "bin_end": 32.8,
            "bin_start": 24.599999999999998,
            "count": 102
           },
           {
            "bin_end": 41,
            "bin_start": 32.8,
            "count": 55
           },
           {
            "bin_end": 49.199999999999996,
            "bin_start": 41,
            "count": 25
           },
           {
            "bin_end": 57.39999999999999,
            "bin_start": 49.199999999999996,
            "count": 11
           },
           {
            "bin_end": 65.6,
            "bin_start": 57.39999999999999,
            "count": 3
           },
           {
            "bin_end": 73.8,
            "bin_start": 65.6,
            "count": 3
           },
           {
            "bin_end": 82,
            "bin_start": 73.8,
            "count": 4
           }
          ],
          "max": "82",
          "min": "0",
          "nan_count": 0,
          "unique_count": 66
         }
        },
        {
         "dtype": "int64",
         "name": "round",
         "stats": {
          "histogram": [
           {
            "bin_end": 3.8,
            "bin_start": 1,
            "count": 60
           },
           {
            "bin_end": 6.6,
            "bin_start": 3.8,
            "count": 60
           },
           {
            "bin_end": 9.399999999999999,
            "bin_start": 6.6,
            "count": 60
           },
           {
            "bin_end": 12.2,
            "bin_start": 9.399999999999999,
            "count": 60
           },
           {
            "bin_end": 15,
            "bin_start": 12.2,
            "count": 40
           },
           {
            "bin_end": 17.799999999999997,
            "bin_start": 15,
            "count": 60
           },
           {
            "bin_end": 20.599999999999998,
            "bin_start": 17.799999999999997,
            "count": 60
           },
           {
            "bin_end": 23.4,
            "bin_start": 20.599999999999998,
            "count": 60
           },
           {
            "bin_end": 26.2,
            "bin_start": 23.4,
            "count": 60
           },
           {
            "bin_end": 29,
            "bin_start": 26.2,
            "count": 56
           }
          ],
          "max": "29",
          "min": "1",
          "nan_count": 0,
          "unique_count": 29
         }
        },
        {
         "dtype": "int64",
         "name": "tot_goal",
         "stats": {
          "histogram": [
           {
            "bin_end": 6.8,
            "bin_start": 0,
            "count": 105
           },
           {
            "bin_end": 13.6,
            "bin_start": 6.8,
            "count": 96
           },
           {
            "bin_end": 20.4,
            "bin_start": 13.6,
            "count": 103
           },
           {
            "bin_end": 27.2,
            "bin_start": 20.4,
            "count": 114
           },
           {
            "bin_end": 34,
            "bin_start": 27.2,
            "count": 58
           },
           {
            "bin_end": 40.8,
            "bin_start": 34,
            "count": 46
           },
           {
            "bin_end": 47.6,
            "bin_start": 40.8,
            "count": 25
           },
           {
            "bin_end": 54.4,
            "bin_start": 47.6,
            "count": 14
           },
           {
            "bin_end": 61.199999999999996,
            "bin_start": 54.4,
            "count": 5
           },
           {
            "bin_end": 68,
            "bin_start": 61.199999999999996,
            "count": 10
           }
          ],
          "max": "68",
          "min": "0",
          "nan_count": 0,
          "unique_count": 64
         }
        },
        {
         "dtype": "int64",
         "name": "tot_con",
         "stats": {
          "histogram": [
           {
            "bin_end": 5.6,
            "bin_start": 0,
            "count": 71
           },
           {
            "bin_end": 11.2,
            "bin_start": 5.6,
            "count": 96
           },
           {
            "bin_end": 16.799999999999997,
            "bin_start": 11.2,
            "count": 73
           },
           {
            "bin_end": 22.4,
            "bin_start": 16.799999999999997,
            "count": 78
           },
           {
            "bin_end": 28,
            "bin_start": 22.4,
            "count": 63
           },
           {
            "bin_end": 33.599999999999994,
            "bin_start": 28,
            "count": 88
           },
           {
            "bin_end": 39.199999999999996,
            "bin_start": 33.599999999999994,
            "count": 58
           },
           {
            "bin_end": 44.8,
            "bin_start": 39.199999999999996,
            "count": 24
           },
           {
            "bin_end": 50.4,
            "bin_start": 44.8,
            "count": 18
           },
           {
            "bin_end": 56,
            "bin_start": 50.4,
            "count": 7
           }
          ],
          "max": "56",
          "min": "0",
          "nan_count": 0,
          "unique_count": 54
         }
        },
        {
         "dtype": "object",
         "name": "Referee.x",
         "stats": {
          "categories": [
           {
            "count": 50,
            "name": "M Atkinson"
           },
           {
            "count": 46,
            "name": "M Oliver"
           },
           {
            "count": 480,
            "name": "20 others"
           }
          ],
          "nan_count": 0,
          "unique_count": 22
         }
        },
        {
         "dtype": "int64",
         "name": "HS.x",
         "stats": {
          "histogram": [
           {
            "bin_end": 5.8,
            "bin_start": 3,
            "count": 30
           },
           {
            "bin_end": 8.6,
            "bin_start": 5.8,
            "count": 66
           },
           {
            "bin_end": 11.399999999999999,
            "bin_start": 8.6,
            "count": 102
           },
           {
            "bin_end": 14.2,
            "bin_start": 11.399999999999999,
            "count": 136
           },
           {
            "bin_end": 17,
            "bin_start": 14.2,
            "count": 96
           },
           {
            "bin_end": 19.799999999999997,
            "bin_start": 17,
            "count": 62
           },
           {
            "bin_end": 22.599999999999998,
            "bin_start": 19.799999999999997,
            "count": 42
           },
           {
            "bin_end": 25.4,
            "bin_start": 22.599999999999998,
            "count": 28
           },
           {
            "bin_end": 28.2,
            "bin_start": 25.4,
            "count": 8
           },
           {
            "bin_end": 31,
            "bin_start": 28.2,
            "count": 6
           }
          ],
          "max": "31",
          "min": "3",
          "nan_count": 0,
          "unique_count": 27
         }
        },
        {
         "dtype": "int64",
         "name": "HST.x",
         "stats": {
          "histogram": [
           {
            "bin_end": 1.3,
            "bin_start": 0,
            "count": 36
           },
           {
            "bin_end": 2.6,
            "bin_start": 1.3,
            "count": 80
           },
           {
            "bin_end": 3.9000000000000004,
            "bin_start": 2.6,
            "count": 92
           },
           {
            "bin_end": 5.2,
            "bin_start": 3.9000000000000004,
            "count": 172
           },
           {
            "bin_end": 6.5,
            "bin_start": 5.2,
            "count": 70
           },
           {
            "bin_end": 7.800000000000001,
            "bin_start": 6.5,
            "count": 48
           },
           {
            "bin_end": 9.1,
            "bin_start": 7.800000000000001,
            "count": 56
           },
           {
            "bin_end": 10.4,
            "bin_start": 9.1,
            "count": 10
           },
           {
            "bin_end": 11.700000000000001,
            "bin_start": 10.4,
            "count": 6
           },
           {
            "bin_end": 13,
            "bin_start": 11.700000000000001,
            "count": 6
           }
          ],
          "max": "13",
          "min": "0",
          "nan_count": 0,
          "unique_count": 14
         }
        },
        {
         "dtype": "int64",
         "name": "HF.x",
         "stats": {
          "histogram": [
           {
            "bin_end": 2.1,
            "bin_start": 0,
            "count": 2
           },
           {
            "bin_end": 4.2,
            "bin_start": 2.1,
            "count": 26
           },
           {
            "bin_end": 6.300000000000001,
            "bin_start": 4.2,
            "count": 64
           },
           {
            "bin_end": 8.4,
            "bin_start": 6.300000000000001,
            "count": 88
           },
           {
            "bin_end": 10.5,
            "bin_start": 8.4,
            "count": 132
           },
           {
            "bin_end": 12.600000000000001,
            "bin_start": 10.5,
            "count": 110
           },
           {
            "bin_end": 14.700000000000001,
            "bin_start": 12.600000000000001,
            "count": 82
           },
           {
            "bin_end": 16.8,
            "bin_start": 14.700000000000001,
            "count": 46
           },
           {
            "bin_end": 18.900000000000002,
            "bin_start": 16.8,
            "count": 20
           },
           {
            "bin_end": 21,
            "bin_start": 18.900000000000002,
            "count": 6
           }
          ],
          "max": "21",
          "min": "0",
          "nan_count": 0,
          "unique_count": 19
         }
        },
        {
         "dtype": "int64",
         "name": "HC.x",
         "stats": {
          "histogram": [
           {
            "bin_end": 1.7,
            "bin_start": 0,
            "count": 38
           },
           {
            "bin_end": 3.4,
            "bin_start": 1.7,
            "count": 94
           },
           {
            "bin_end": 5.1,
            "bin_start": 3.4,
            "count": 158
           },
           {
            "bin_end": 6.8,
            "bin_start": 5.1,
            "count": 64
           },
           {
            "bin_end": 8.5,
            "bin_start": 6.8,
            "count": 106
           },
           {
            "bin_end": 10.2,
            "bin_start": 8.5,
            "count": 58
           },
           {
            "bin_end": 11.9,
            "bin_start": 10.2,
            "count": 20
           },
           {
            "bin_end": 13.6,
            "bin_start": 11.9,
            "count": 24
           },
           {
            "bin_end": 15.299999999999999,
            "bin_start": 13.6,
            "count": 6
           },
           {
            "bin_end": 17,
            "bin_start": 15.299999999999999,
            "count": 8
           }
          ],
          "max": "17",
          "min": "0",
          "nan_count": 0,
          "unique_count": 17
         }
        },
        {
         "dtype": "int64",
         "name": "HY.x",
         "stats": {
          "histogram": [
           {
            "bin_end": 0.6,
            "bin_start": 0,
            "count": 120
           },
           {
            "bin_end": 1.2,
            "bin_start": 0.6,
            "count": 174
           },
           {
            "bin_end": 1.7999999999999998,
            "bin_start": 1.2,
            "count": 0
           },
           {
            "bin_end": 2.4,
            "bin_start": 1.7999999999999998,
            "count": 158
           },
           {
            "bin_end": 3,
            "bin_start": 2.4,
            "count": 0
           },
           {
            "bin_end": 3.5999999999999996,
            "bin_start": 3,
            "count": 68
           },
           {
            "bin_end": 4.2,
            "bin_start": 3.5999999999999996,
            "count": 40
           },
           {
            "bin_end": 4.8,
            "bin_start": 4.2,
            "count": 0
           },
           {
            "bin_end": 5.3999999999999995,
            "bin_start": 4.8,
            "count": 12
           },
           {
            "bin_end": 6,
            "bin_start": 5.3999999999999995,
            "count": 4
           }
          ],
          "max": "6",
          "min": "0",
          "nan_count": 0,
          "unique_count": 7
         }
        },
        {
         "dtype": "int64",
         "name": "HR.x",
         "stats": {
          "histogram": [
           {
            "bin_end": 0.1,
            "bin_start": 0,
            "count": 542
           },
           {
            "bin_end": 0.2,
            "bin_start": 0.1,
            "count": 0
           },
           {
            "bin_end": 0.30000000000000004,
            "bin_start": 0.2,
            "count": 0
           },
           {
            "bin_end": 0.4,
            "bin_start": 0.30000000000000004,
            "count": 0
           },
           {
            "bin_end": 0.5,
            "bin_start": 0.4,
            "count": 0
           },
           {
            "bin_end": 0.6000000000000001,
            "bin_start": 0.5,
            "count": 0
           },
           {
            "bin_end": 0.7000000000000001,
            "bin_start": 0.6000000000000001,
            "count": 0
           },
           {
            "bin_end": 0.8,
            "bin_start": 0.7000000000000001,
            "count": 0
           },
           {
            "bin_end": 0.9,
            "bin_start": 0.8,
            "count": 0
           },
           {
            "bin_end": 1,
            "bin_start": 0.9,
            "count": 34
           }
          ],
          "max": "1",
          "min": "0",
          "nan_count": 0,
          "unique_count": 2
         }
        },
        {
         "dtype": "int64",
         "name": "AS.x",
         "stats": {
          "histogram": [
           {
            "bin_end": 4.3,
            "bin_start": 2,
            "count": 34
           },
           {
            "bin_end": 6.6,
            "bin_start": 4.3,
            "count": 60
           },
           {
            "bin_end": 8.899999999999999,
            "bin_start": 6.6,
            "count": 100
           },
           {
            "bin_end": 11.2,
            "bin_start": 8.899999999999999,
            "count": 130
           },
           {
            "bin_end": 13.5,
            "bin_start": 11.2,
            "count": 72
           },
           {
            "bin_end": 15.799999999999999,
            "bin_start": 13.5,
            "count": 56
           },
           {
            "bin_end": 18.099999999999998,
            "bin_start": 15.799999999999999,
            "count": 64
           },
           {
            "bin_end": 20.4,
            "bin_start": 18.099999999999998,
            "count": 22
           },
           {
            "bin_end": 22.7,
            "bin_start": 20.4,
            "count": 18
           },
           {
            "bin_end": 25,
            "bin_start": 22.7,
            "count": 20
           }
          ],
          "max": "25",
          "min": "2",
          "nan_count": 0,
          "unique_count": 24
         }
        },
        {
         "dtype": "int64",
         "name": "AST.x",
         "stats": {
          "histogram": [
           {
            "bin_end": 1.5,
            "bin_start": 0,
            "count": 60
           },
           {
            "bin_end": 3,
            "bin_start": 1.5,
            "count": 112
           },
           {
            "bin_end": 4.5,
            "bin_start": 3,
            "count": 202
           },
           {
            "bin_end": 6,
            "bin_start": 4.5,
            "count": 70
           },
           {
            "bin_end": 7.5,
            "bin_start": 6,
            "count": 68
           },
           {
            "bin_end": 9,
            "bin_start": 7.5,
            "count": 22
           },
           {
            "bin_end": 10.5,
            "bin_start": 9,
            "count": 34
           },
           {
            "bin_end": 12,
            "bin_start": 10.5,
            "count": 2
           },
           {
            "bin_end": 13.5,
            "bin_start": 12,
            "count": 4
           },
           {
            "bin_end": 15,
            "bin_start": 13.5,
            "count": 2
           }
          ],
          "max": "15",
          "min": "0",
          "nan_count": 0,
          "unique_count": 14
         }
        },
        {
         "dtype": "int64",
         "name": "AF.x",
         "stats": {
          "histogram": [
           {
            "bin_end": 3.3,
            "bin_start": 1,
            "count": 4
           },
           {
            "bin_end": 5.6,
            "bin_start": 3.3,
            "count": 26
           },
           {
            "bin_end": 7.8999999999999995,
            "bin_start": 5.6,
            "count": 80
           },
           {
            "bin_end": 10.2,
            "bin_start": 7.8999999999999995,
            "count": 168
           },
           {
            "bin_end": 12.5,
            "bin_start": 10.2,
            "count": 122
           },
           {
            "bin_end": 14.799999999999999,
            "bin_start": 12.5,
            "count": 78
           },
           {
            "bin_end": 17.099999999999998,
            "bin_start": 14.799999999999999,
            "count": 72
           },
           {
            "bin_end": 19.4,
            "bin_start": 17.099999999999998,
            "count": 20
           },
           {
            "bin_end": 21.7,
            "bin_start": 19.4,
            "count": 2
           },
           {
            "bin_end": 24,
            "bin_start": 21.7,
            "count": 4
           }
          ],
          "max": "24",
          "min": "1",
          "nan_count": 0,
          "unique_count": 21
         }
        },
        {
         "dtype": "int64",
         "name": "AC.x",
         "stats": {
          "histogram": [
           {
            "bin_end": 1.6,
            "bin_start": 0,
            "count": 54
           },
           {
            "bin_end": 3.2,
            "bin_start": 1.6,
            "count": 138
           },
           {
            "bin_end": 4.800000000000001,
            "bin_start": 3.2,
            "count": 78
           },
           {
            "bin_end": 6.4,
            "bin_start": 4.800000000000001,
            "count": 158
           },
           {
            "bin_end": 8,
            "bin_start": 6.4,
            "count": 56
           },
           {
            "bin_end": 9.600000000000001,
            "bin_start": 8,
            "count": 58
           },
           {
            "bin_end": 11.200000000000001,
            "bin_start": 9.600000000000001,
            "count": 18
           },
           {
            "bin_end": 12.8,
            "bin_start": 11.200000000000001,
            "count": 8
           },
           {
            "bin_end": 14.4,
            "bin_start": 12.8,
            "count": 6
           },
           {
            "bin_end": 16,
            "bin_start": 14.4,
            "count": 2
           }
          ],
          "max": "16",
          "min": "0",
          "nan_count": 0,
          "unique_count": 16
         }
        },
        {
         "dtype": "int64",
         "name": "AY.x",
         "stats": {
          "histogram": [
           {
            "bin_end": 0.6,
            "bin_start": 0,
            "count": 68
           },
           {
            "bin_end": 1.2,
            "bin_start": 0.6,
            "count": 168
           },
           {
            "bin_end": 1.7999999999999998,
            "bin_start": 1.2,
            "count": 0
           },
           {
            "bin_end": 2.4,
            "bin_start": 1.7999999999999998,
            "count": 176
           },
           {
            "bin_end": 3,
            "bin_start": 2.4,
            "count": 0
           },
           {
            "bin_end": 3.5999999999999996,
            "bin_start": 3,
            "count": 106
           },
           {
            "bin_end": 4.2,
            "bin_start": 3.5999999999999996,
            "count": 50
           },
           {
            "bin_end": 4.8,
            "bin_start": 4.2,
            "count": 0
           },
           {
            "bin_end": 5.3999999999999995,
            "bin_start": 4.8,
            "count": 6
           },
           {
            "bin_end": 6,
            "bin_start": 5.3999999999999995,
            "count": 2
           }
          ],
          "max": "6",
          "min": "0",
          "nan_count": 0,
          "unique_count": 7
         }
        },
        {
         "dtype": "int64",
         "name": "AR.x",
         "stats": {
          "histogram": [
           {
            "bin_end": 0.1,
            "bin_start": 0,
            "count": 540
           },
           {
            "bin_end": 0.2,
            "bin_start": 0.1,
            "count": 0
           },
           {
            "bin_end": 0.30000000000000004,
            "bin_start": 0.2,
            "count": 0
           },
           {
            "bin_end": 0.4,
            "bin_start": 0.30000000000000004,
            "count": 0
           },
           {
            "bin_end": 0.5,
            "bin_start": 0.4,
            "count": 0
           },
           {
            "bin_end": 0.6000000000000001,
            "bin_start": 0.5,
            "count": 0
           },
           {
            "bin_end": 0.7000000000000001,
            "bin_start": 0.6000000000000001,
            "count": 0
           },
           {
            "bin_end": 0.8,
            "bin_start": 0.7000000000000001,
            "count": 0
           },
           {
            "bin_end": 0.9,
            "bin_start": 0.8,
            "count": 0
           },
           {
            "bin_end": 1,
            "bin_start": 0.9,
            "count": 36
           }
          ],
          "max": "1",
          "min": "0",
          "nan_count": 0,
          "unique_count": 2
         }
        },
        {
         "dtype": "float64",
         "name": "B365H.x",
         "stats": {
          "histogram": [
           {
            "bin_end": 2.463,
            "bin_start": 1.07,
            "count": 342
           },
           {
            "bin_end": 3.856,
            "bin_start": 2.463,
            "count": 136
           },
           {
            "bin_end": 5.2490000000000006,
            "bin_start": 3.856,
            "count": 50
           },
           {
            "bin_end": 6.642,
            "bin_start": 5.2490000000000006,
            "count": 12
           },
           {
            "bin_end": 8.035,
            "bin_start": 6.642,
            "count": 8
           },
           {
            "bin_end": 9.428,
            "bin_start": 8.035,
            "count": 8
           },
           {
            "bin_end": 10.821,
            "bin_start": 9.428,
            "count": 4
           },
           {
            "bin_end": 12.214,
            "bin_start": 10.821,
            "count": 8
           },
           {
            "bin_end": 13.607000000000001,
            "bin_start": 12.214,
            "count": 4
           },
           {
            "bin_end": 15,
            "bin_start": 13.607000000000001,
            "count": 4
           }
          ],
          "max": "15.0",
          "min": "1.07",
          "nan_count": 0,
          "unique_count": 87
         }
        },
        {
         "dtype": "float64",
         "name": "B365D.x",
         "stats": {
          "histogram": [
           {
            "bin_end": 4.09,
            "bin_start": 3.1,
            "count": 378
           },
           {
            "bin_end": 5.08,
            "bin_start": 4.09,
            "count": 90
           },
           {
            "bin_end": 6.07,
            "bin_start": 5.08,
            "count": 56
           },
           {
            "bin_end": 7.0600000000000005,
            "bin_start": 6.07,
            "count": 20
           },
           {
            "bin_end": 8.05,
            "bin_start": 7.0600000000000005,
            "count": 10
           },
           {
            "bin_end": 9.04,
            "bin_start": 8.05,
            "count": 8
           },
           {
            "bin_end": 10.03,
            "bin_start": 9.04,
            "count": 6
           },
           {
            "bin_end": 11.02,
            "bin_start": 10.03,
            "count": 6
           },
           {
            "bin_end": 12.01,
            "bin_start": 11.02,
            "count": 0
           },
           {
            "bin_end": 13,
            "bin_start": 12.01,
            "count": 2
           }
          ],
          "max": "13.0",
          "min": "3.1",
          "nan_count": 0,
          "unique_count": 36
         }
        },
        {
         "dtype": "float64",
         "name": "B365A.x",
         "stats": {
          "histogram": [
           {
            "bin_end": 3.6259999999999994,
            "bin_start": 1.14,
            "count": 324
           },
           {
            "bin_end": 6.111999999999999,
            "bin_start": 3.6259999999999994,
            "count": 128
           },
           {
            "bin_end": 8.597999999999999,
            "bin_start": 6.111999999999999,
            "count": 56
           },
           {
            "bin_end": 11.084,
            "bin_start": 8.597999999999999,
            "count": 28
           },
           {
            "bin_end": 13.57,
            "bin_start": 11.084,
            "count": 12
           },
           {
            "bin_end": 16.055999999999997,
            "bin_start": 13.57,
            "count": 8
           },
           {
            "bin_end": 18.541999999999998,
            "bin_start": 16.055999999999997,
            "count": 6
           },
           {
            "bin_end": 21.028,
            "bin_start": 18.541999999999998,
            "count": 8
           },
           {
            "bin_end": 23.514,
            "bin_start": 21.028,
            "count": 2
           },
           {
            "bin_end": 26,
            "bin_start": 23.514,
            "count": 4
           }
          ],
          "max": "26.0",
          "min": "1.14",
          "nan_count": 0,
          "unique_count": 82
         }
        },
        {
         "dtype": "float64",
         "name": "HtrgPerc",
         "stats": {
          "histogram": [
           {
            "bin_end": 0.1,
            "bin_start": 0,
            "count": 20
           },
           {
            "bin_end": 0.2,
            "bin_start": 0.1,
            "count": 56
           },
           {
            "bin_end": 0.30000000000000004,
            "bin_start": 0.2,
            "count": 162
           },
           {
            "bin_end": 0.4,
            "bin_start": 0.30000000000000004,
            "count": 132
           },
           {
            "bin_end": 0.5,
            "bin_start": 0.4,
            "count": 106
           },
           {
            "bin_end": 0.6000000000000001,
            "bin_start": 0.5,
            "count": 74
           },
           {
            "bin_end": 0.7000000000000001,
            "bin_start": 0.6000000000000001,
            "count": 14
           },
           {
            "bin_end": 0.8,
            "bin_start": 0.7000000000000001,
            "count": 4
           },
           {
            "bin_end": 0.9,
            "bin_start": 0.8,
            "count": 4
           },
           {
            "bin_end": 1,
            "bin_start": 0.9,
            "count": 4
           }
          ],
          "max": "1.0",
          "min": "0.0",
          "nan_count": 0,
          "unique_count": 88
         }
        },
        {
         "dtype": "float64",
         "name": "AtrgPerc",
         "stats": {
          "histogram": [
           {
            "bin_end": 0.1,
            "bin_start": 0,
            "count": 24
           },
           {
            "bin_end": 0.2,
            "bin_start": 0.1,
            "count": 44
           },
           {
            "bin_end": 0.30000000000000004,
            "bin_start": 0.2,
            "count": 162
           },
           {
            "bin_end": 0.4,
            "bin_start": 0.30000000000000004,
            "count": 126
           },
           {
            "bin_end": 0.5,
            "bin_start": 0.4,
            "count": 98
           },
           {
            "bin_end": 0.6000000000000001,
            "bin_start": 0.5,
            "count": 72
           },
           {
            "bin_end": 0.7000000000000001,
            "bin_start": 0.6000000000000001,
            "count": 40
           },
           {
            "bin_end": 0.8,
            "bin_start": 0.7000000000000001,
            "count": 2
           },
           {
            "bin_end": 0.9,
            "bin_start": 0.8,
            "count": 4
           },
           {
            "bin_end": 1,
            "bin_start": 0.9,
            "count": 4
           }
          ],
          "max": "1.0",
          "min": "0.0",
          "nan_count": 0,
          "unique_count": 73
         }
        },
        {
         "dtype": "object",
         "name": "matchDay",
         "stats": {
          "categories": [
           {
            "count": 328,
            "name": "Sat"
           },
           {
            "count": 128,
            "name": "Sun"
           },
           {
            "count": 120,
            "name": "5 others"
           }
          ],
          "nan_count": 0,
          "unique_count": 7
         }
        },
        {
         "dtype": "int64",
         "name": "_deepnote_index_column"
        }
       ],
       "row_count": 576,
       "rows": [
        {
         "AC.x": 2,
         "AF.x": 9,
         "AR.x": 0,
         "AS.x": 12,
         "AST.x": 5,
         "AY.x": 2,
         "AtrgPerc": 0.416666666666667,
         "B365A.x": 19,
         "B365D.x": 10,
         "B365H.x": 1.14,
         "HC.x": 11,
         "HF.x": 9,
         "HR.x": 0,
         "HS.x": 15,
         "HST.x": 7,
         "HY.x": 0,
         "HtrgPerc": 0.466666666666667,
         "Referee.x": "M Oliver",
         "Unnamed: 0": 1,
         "_deepnote_index_column": 0,
         "allowed_ppda": 21.4545454545455,
         "date": "2019-08-09 20:00:00",
         "deep": 11,
         "deep_allowed": 5,
         "draws": 0,
         "h_a": "h",
         "loses": 0,
         "matchDay": "Fri",
         "matchtime": 20,
         "missed": 1,
         "npxG": 2.23456,
         "npxGA": 0.842407,
         "npxGD": 1.392153,
         "ppda_cal": 5.94285714285714,
         "pts": 3,
         "result": "w",
         "round": 1,
         "scored": 4,
         "teamId": "Liverpool",
         "tot_con": 1,
         "tot_goal": 4,
         "tot_points": 3,
         "wins": 1,
         "xG": 2.23456,
         "xGA": 0.842407,
         "xpts": 2.3863
        },
        {
         "AC.x": 2,
         "AF.x": 9,
         "AR.x": 0,
         "AS.x": 12,
         "AST.x": 5,
         "AY.x": 2,
         "AtrgPerc": 0.416666666666667,
         "B365A.x": 19,
         "B365D.x": 10,
         "B365H.x": 1.14,
         "HC.x": 11,
         "HF.x": 9,
         "HR.x": 0,
         "HS.x": 15,
         "HST.x": 7,
         "HY.x": 0,
         "HtrgPerc": 0.466666666666667,
         "Referee.x": "M Oliver",
         "Unnamed: 0": 2,
         "_deepnote_index_column": 1,
         "allowed_ppda": 5.94285714285714,
         "date": "2019-08-09 20:00:00",
         "deep": 5,
         "deep_allowed": 11,
         "draws": 0,
         "h_a": "a",
         "loses": 1,
         "matchDay": "Fri",
         "matchtime": 20,
         "missed": 4,
         "npxG": 0.842407,
         "npxGA": 2.23456,
         "npxGD": -1.392153,
         "ppda_cal": 21.4545454545455,
         "pts": 0,
         "result": "l",
         "round": 1,
         "scored": 1,
         "teamId": "Norwich",
         "tot_con": 4,
         "tot_goal": 1,
         "tot_points": 0,
         "wins": 0,
         "xG": 0.842407,
         "xGA": 2.23456,
         "xpts": 0.4405
        },
        {
         "AC.x": 1,
         "AF.x": 13,
         "AR.x": 0,
         "AS.x": 14,
         "AST.x": 9,
         "AY.x": 2,
         "AtrgPerc": 0.642857142857143,
         "B365A.x": 1.22,
         "B365D.x": 6.5,
         "B365H.x": 12,
         "HC.x": 1,
         "HF.x": 6,
         "HR.x": 0,
         "HS.x": 5,
         "HST.x": 3,
         "HY.x": 2,
         "HtrgPerc": 0.6,
         "Referee.x": "M Dean",
         "Unnamed: 0": 3,
         "_deepnote_index_column": 2,
         "allowed_ppda": 16.4,
         "date": "2019-08-10 12:30:00",
         "deep": 9,
         "deep_allowed": 1,
         "draws": 0,
         "h_a": "a",
         "loses": 0,
         "matchDay": "Sat",
         "matchtime": 12,
         "missed": 0,
         "npxG": 2.42264,
         "npxGA": 1.2003,
         "npxGD": 1.22234,
         "ppda_cal": 6.93548387096774,
         "pts": 3,
         "result": "w",
         "round": 1,
         "scored": 5,
         "teamId": "Man City",
         "tot_con": 0,
         "tot_goal": 5,
         "tot_points": 3,
         "wins": 1,
         "xG": 3.18377,
         "xGA": 1.2003,
         "xpts": 2.6312
        },
        {
         "AC.x": 1,
         "AF.x": 13,
         "AR.x": 0,
         "AS.x": 14,
         "AST.x": 9,
         "AY.x": 2,
         "AtrgPerc": 0.642857142857143,
         "B365A.x": 1.22,
         "B365D.x": 6.5,
         "B365H.x": 12,
         "HC.x": 1,
         "HF.x": 6,
         "HR.x": 0,
         "HS.x": 5,
         "HST.x": 3,
         "HY.x": 2,
         "HtrgPerc": 0.6,
         "Referee.x": "M Dean",
         "Unnamed: 0": 4,
         "_deepnote_index_column": 3,
         "allowed_ppda": 6.93548387096774,
         "date": "2019-08-10 12:30:00",
         "deep": 1,
         "deep_allowed": 9,
         "draws": 0,
         "h_a": "h",
         "loses": 1,
         "matchDay": "Sat",
         "matchtime": 12,
         "missed": 5,
         "npxG": 1.2003,
         "npxGA": 2.42264,
         "npxGD": -1.22234,
         "ppda_cal": 16.4,
         "pts": 0,
         "result": "l",
         "round": 1,
         "scored": 0,
         "teamId": "West Ham",
         "tot_con": 5,
         "tot_goal": 0,
         "tot_points": 0,
         "wins": 0,
         "xG": 1.2003,
         "xGA": 3.18377,
         "xpts": 0.2522
        },
        {
         "AC.x": 4,
         "AF.x": 19,
         "AR.x": 0,
         "AS.x": 8,
         "AST.x": 3,
         "AY.x": 1,
         "AtrgPerc": 0.375,
         "B365A.x": 3.6,
         "B365D.x": 3.6,
         "B365H.x": 1.95,
         "HC.x": 3,
         "HF.x": 10,
         "HR.x": 0,
         "HS.x": 13,
         "HST.x": 3,
         "HY.x": 2,
         "HtrgPerc": 0.230769230769231,
         "Referee.x": "K Friend",
         "Unnamed: 0": 5,
         "_deepnote_index_column": 4,
         "allowed_ppda": 9.13333333333333,
         "date": "2019-08-10 15:00:00",
         "deep": 4,
         "deep_allowed": 6,
         "draws": 1,
         "h_a": "h",
         "loses": 0,
         "matchDay": "Sat",
         "matchtime": 15,
         "missed": 1,
         "npxG": 1.34099,
         "npxGA": 1.59864,
         "npxGD": -0.25765,
         "ppda_cal": 13.6,
         "pts": 1,
         "result": "d",
         "round": 1,
         "scored": 1,
         "teamId": "Bournemouth",
         "tot_con": 1,
         "tot_goal": 1,
         "tot_points": 1,
         "wins": 0,
         "xG": 1.34099,
         "xGA": 1.59864,
         "xpts": 1.0172
        },
        {
         "AC.x": 2,
         "AF.x": 11,
         "AR.x": 0,
         "AS.x": 5,
         "AST.x": 3,
         "AY.x": 1,
         "AtrgPerc": 0.6,
         "B365A.x": 4,
         "B365D.x": 3.4,
         "B365H.x": 1.9,
         "HC.x": 5,
         "HF.x": 15,
         "HR.x": 0,
         "HS.x": 11,
         "HST.x": 3,
         "HY.x": 0,
         "HtrgPerc": 0.272727272727273,
         "Referee.x": "C Pawson",
         "Unnamed: 0": 6,
         "_deepnote_index_column": 5,
         "allowed_ppda": 9.78571428571429,
         "date": "2019-08-10 15:00:00",
         "deep": 5,
         "deep_allowed": 7,
         "draws": 0,
         "h_a": "a",
         "loses": 0,
         "matchDay": "Sat",
         "matchtime": 15,
         "missed": 0,
         "npxG": 0.855516,
         "npxGA": 0.670022,
         "npxGD": 0.185494,
         "ppda_cal": 11.5,
         "pts": 3,
         "result": "w",
         "round": 1,
         "scored": 3,
         "teamId": "Brighton",
         "tot_con": 0,
         "tot_goal": 3,
         "tot_points": 3,
         "wins": 1,
         "xG": 0.855516,
         "xGA": 0.670022,
         "xpts": 1.5458
        },
        {
         "AC.x": 7,
         "AF.x": 12,
         "AR.x": 0,
         "AS.x": 11,
         "AST.x": 3,
         "AY.x": 0,
         "AtrgPerc": 0.272727272727273,
         "B365A.x": 2.75,
         "B365D.x": 3.2,
         "B365H.x": 2.62,
         "HC.x": 2,
         "HF.x": 6,
         "HR.x": 0,
         "HS.x": 10,
         "HST.x": 4,
         "HY.x": 0,
         "HtrgPerc": 0.4,
         "Referee.x": "G Scott",
         "Unnamed: 0": 7,
         "_deepnote_index_column": 6,
         "allowed_ppda": 5.5,
         "date": "2019-08-10 15:00:00",
         "deep": 0,
         "deep_allowed": 9,
         "draws": 0,
         "h_a": "h",
         "loses": 0,
         "matchDay": "Sat",
         "matchtime": 15,
         "missed": 0,
         "npxG": 0.909241,
         "npxGA": 1.08752,
         "npxGD": -0.178279,
         "ppda_cal": 9.27777777777778,
         "pts": 3,
         "result": "w",
         "round": 1,
         "scored": 3,
         "teamId": "Burnley",
         "tot_con": 0,
         "tot_goal": 3,
         "tot_points": 3,
         "wins": 1,
         "xG": 0.909241,
         "xGA": 1.08752,
         "xpts": 1.1422
        },
        {
         "AC.x": 2,
         "AF.x": 14,
         "AR.x": 1,
         "AS.x": 10,
         "AST.x": 3,
         "AY.x": 1,
         "AtrgPerc": 0.3,
         "B365A.x": 2.37,
         "B365D.x": 3.25,
         "B365H.x": 3,
         "HC.x": 6,
         "HF.x": 16,
         "HR.x": 0,
         "HS.x": 6,
         "HST.x": 2,
         "HY.x": 2,
         "HtrgPerc": 0.333333333333333,
         "Referee.x": "J Moss",
         "Unnamed: 0": 8,
         "_deepnote_index_column": 7,
         "allowed_ppda": 4.07407407407407,
         "date": "2019-08-10 15:00:00",
         "deep": 5,
         "deep_allowed": 5,
         "draws": 1,
         "h_a": "h",
         "loses": 0,
         "matchDay": "Sat",
         "matchtime": 15,
         "missed": 0,
         "npxG": 0.87159,
         "npxGA": 1.2246,
         "npxGD": -0.35301,
         "ppda_cal": 11.3076923076923,
         "pts": 1,
         "result": "d",
         "round": 1,
         "scored": 0,
         "teamId": "Crystal Palace",
         "tot_con": 0,
         "tot_goal": 0,
         "tot_points": 1,
         "wins": 0,
         "xG": 0.87159,
         "xGA": 1.2246,
         "xpts": 1.0512
        },
        {
         "AC.x": 2,
         "AF.x": 14,
         "AR.x": 1,
         "AS.x": 10,
         "AST.x": 3,
         "AY.x": 1,
         "AtrgPerc": 0.3,
         "B365A.x": 2.37,
         "B365D.x": 3.25,
         "B365H.x": 3,
         "HC.x": 6,
         "HF.x": 16,
         "HR.x": 0,
         "HS.x": 6,
         "HST.x": 2,
         "HY.x": 2,
         "HtrgPerc": 0.333333333333333,
         "Referee.x": "J Moss",
         "Unnamed: 0": 9,
         "_deepnote_index_column": 8,
         "allowed_ppda": 11.3076923076923,
         "date": "2019-08-10 15:00:00",
         "deep": 5,
         "deep_allowed": 5,
         "draws": 1,
         "h_a": "a",
         "loses": 0,
         "matchDay": "Sat",
         "matchtime": 15,
         "missed": 0,
         "npxG": 1.2246,
         "npxGA": 0.87159,
         "npxGD": 0.35301,
         "ppda_cal": 4.07407407407407,
         "pts": 1,
         "result": "d",
         "round": 1,
         "scored": 0,
         "teamId": "Everton",
         "tot_con": 0,
         "tot_goal": 0,
         "tot_points": 1,
         "wins": 0,
         "xG": 1.2246,
         "xGA": 0.87159,
         "xpts": 1.6257
        },
        {
         "AC.x": 4,
         "AF.x": 19,
         "AR.x": 0,
         "AS.x": 8,
         "AST.x": 3,
         "AY.x": 1,
         "AtrgPerc": 0.375,
         "B365A.x": 3.6,
         "B365D.x": 3.6,
         "B365H.x": 1.95,
         "HC.x": 3,
         "HF.x": 10,
         "HR.x": 0,
         "HS.x": 13,
         "HST.x": 3,
         "HY.x": 2,
         "HtrgPerc": 0.230769230769231,
         "Referee.x": "K Friend",
         "Unnamed: 0": 10,
         "_deepnote_index_column": 9,
         "allowed_ppda": 13.6,
         "date": "2019-08-10 15:00:00",
         "deep": 6,
         "deep_allowed": 4,
         "draws": 1,
         "h_a": "a",
         "loses": 0,
         "matchDay": "Sat",
         "matchtime": 15,
         "missed": 1,
         "npxG": 1.59864,
         "npxGA": 1.34099,
         "npxGD": 0.25765,
         "ppda_cal": 9.13333333333333,
         "pts": 1,
         "result": "d",
         "round": 1,
         "scored": 1,
         "teamId": "Sheffield United",
         "tot_con": 1,
         "tot_goal": 1,
         "tot_points": 1,
         "wins": 0,
         "xG": 1.59864,
         "xGA": 1.34099,
         "xpts": 1.5905
        }
       ]
      },
      "text/html": [
       "<div>\n",
       "<style scoped>\n",
       "    .dataframe tbody tr th:only-of-type {\n",
       "        vertical-align: middle;\n",
       "    }\n",
       "\n",
       "    .dataframe tbody tr th {\n",
       "        vertical-align: top;\n",
       "    }\n",
       "\n",
       "    .dataframe thead th {\n",
       "        text-align: right;\n",
       "    }\n",
       "</style>\n",
       "<table border=\"1\" class=\"dataframe\">\n",
       "  <thead>\n",
       "    <tr style=\"text-align: right;\">\n",
       "      <th></th>\n",
       "      <th>Unnamed: 0</th>\n",
       "      <th>h_a</th>\n",
       "      <th>xG</th>\n",
       "      <th>xGA</th>\n",
       "      <th>npxG</th>\n",
       "      <th>npxGA</th>\n",
       "      <th>deep</th>\n",
       "      <th>deep_allowed</th>\n",
       "      <th>scored</th>\n",
       "      <th>missed</th>\n",
       "      <th>...</th>\n",
       "      <th>AF.x</th>\n",
       "      <th>AC.x</th>\n",
       "      <th>AY.x</th>\n",
       "      <th>AR.x</th>\n",
       "      <th>B365H.x</th>\n",
       "      <th>B365D.x</th>\n",
       "      <th>B365A.x</th>\n",
       "      <th>HtrgPerc</th>\n",
       "      <th>AtrgPerc</th>\n",
       "      <th>matchDay</th>\n",
       "    </tr>\n",
       "  </thead>\n",
       "  <tbody>\n",
       "    <tr>\n",
       "      <th>0</th>\n",
       "      <td>1</td>\n",
       "      <td>h</td>\n",
       "      <td>2.234560</td>\n",
       "      <td>0.842407</td>\n",
       "      <td>2.234560</td>\n",
       "      <td>0.842407</td>\n",
       "      <td>11</td>\n",
       "      <td>5</td>\n",
       "      <td>4</td>\n",
       "      <td>1</td>\n",
       "      <td>...</td>\n",
       "      <td>9</td>\n",
       "      <td>2</td>\n",
       "      <td>2</td>\n",
       "      <td>0</td>\n",
       "      <td>1.14</td>\n",
       "      <td>10.00</td>\n",
       "      <td>19.00</td>\n",
       "      <td>0.466667</td>\n",
       "      <td>0.416667</td>\n",
       "      <td>Fri</td>\n",
       "    </tr>\n",
       "    <tr>\n",
       "      <th>1</th>\n",
       "      <td>2</td>\n",
       "      <td>a</td>\n",
       "      <td>0.842407</td>\n",
       "      <td>2.234560</td>\n",
       "      <td>0.842407</td>\n",
       "      <td>2.234560</td>\n",
       "      <td>5</td>\n",
       "      <td>11</td>\n",
       "      <td>1</td>\n",
       "      <td>4</td>\n",
       "      <td>...</td>\n",
       "      <td>9</td>\n",
       "      <td>2</td>\n",
       "      <td>2</td>\n",
       "      <td>0</td>\n",
       "      <td>1.14</td>\n",
       "      <td>10.00</td>\n",
       "      <td>19.00</td>\n",
       "      <td>0.466667</td>\n",
       "      <td>0.416667</td>\n",
       "      <td>Fri</td>\n",
       "    </tr>\n",
       "    <tr>\n",
       "      <th>2</th>\n",
       "      <td>3</td>\n",
       "      <td>a</td>\n",
       "      <td>3.183770</td>\n",
       "      <td>1.200300</td>\n",
       "      <td>2.422640</td>\n",
       "      <td>1.200300</td>\n",
       "      <td>9</td>\n",
       "      <td>1</td>\n",
       "      <td>5</td>\n",
       "      <td>0</td>\n",
       "      <td>...</td>\n",
       "      <td>13</td>\n",
       "      <td>1</td>\n",
       "      <td>2</td>\n",
       "      <td>0</td>\n",
       "      <td>12.00</td>\n",
       "      <td>6.50</td>\n",
       "      <td>1.22</td>\n",
       "      <td>0.600000</td>\n",
       "      <td>0.642857</td>\n",
       "      <td>Sat</td>\n",
       "    </tr>\n",
       "    <tr>\n",
       "      <th>3</th>\n",
       "      <td>4</td>\n",
       "      <td>h</td>\n",
       "      <td>1.200300</td>\n",
       "      <td>3.183770</td>\n",
       "      <td>1.200300</td>\n",
       "      <td>2.422640</td>\n",
       "      <td>1</td>\n",
       "      <td>9</td>\n",
       "      <td>0</td>\n",
       "      <td>5</td>\n",
       "      <td>...</td>\n",
       "      <td>13</td>\n",
       "      <td>1</td>\n",
       "      <td>2</td>\n",
       "      <td>0</td>\n",
       "      <td>12.00</td>\n",
       "      <td>6.50</td>\n",
       "      <td>1.22</td>\n",
       "      <td>0.600000</td>\n",
       "      <td>0.642857</td>\n",
       "      <td>Sat</td>\n",
       "    </tr>\n",
       "    <tr>\n",
       "      <th>4</th>\n",
       "      <td>5</td>\n",
       "      <td>h</td>\n",
       "      <td>1.340990</td>\n",
       "      <td>1.598640</td>\n",
       "      <td>1.340990</td>\n",
       "      <td>1.598640</td>\n",
       "      <td>4</td>\n",
       "      <td>6</td>\n",
       "      <td>1</td>\n",
       "      <td>1</td>\n",
       "      <td>...</td>\n",
       "      <td>19</td>\n",
       "      <td>4</td>\n",
       "      <td>1</td>\n",
       "      <td>0</td>\n",
       "      <td>1.95</td>\n",
       "      <td>3.60</td>\n",
       "      <td>3.60</td>\n",
       "      <td>0.230769</td>\n",
       "      <td>0.375000</td>\n",
       "      <td>Sat</td>\n",
       "    </tr>\n",
       "    <tr>\n",
       "      <th>...</th>\n",
       "      <td>...</td>\n",
       "      <td>...</td>\n",
       "      <td>...</td>\n",
       "      <td>...</td>\n",
       "      <td>...</td>\n",
       "      <td>...</td>\n",
       "      <td>...</td>\n",
       "      <td>...</td>\n",
       "      <td>...</td>\n",
       "      <td>...</td>\n",
       "      <td>...</td>\n",
       "      <td>...</td>\n",
       "      <td>...</td>\n",
       "      <td>...</td>\n",
       "      <td>...</td>\n",
       "      <td>...</td>\n",
       "      <td>...</td>\n",
       "      <td>...</td>\n",
       "      <td>...</td>\n",
       "      <td>...</td>\n",
       "      <td>...</td>\n",
       "    </tr>\n",
       "    <tr>\n",
       "      <th>571</th>\n",
       "      <td>572</td>\n",
       "      <td>a</td>\n",
       "      <td>0.445922</td>\n",
       "      <td>2.028830</td>\n",
       "      <td>0.445922</td>\n",
       "      <td>2.028830</td>\n",
       "      <td>3</td>\n",
       "      <td>9</td>\n",
       "      <td>0</td>\n",
       "      <td>4</td>\n",
       "      <td>...</td>\n",
       "      <td>10</td>\n",
       "      <td>1</td>\n",
       "      <td>2</td>\n",
       "      <td>0</td>\n",
       "      <td>1.80</td>\n",
       "      <td>3.90</td>\n",
       "      <td>4.20</td>\n",
       "      <td>0.647059</td>\n",
       "      <td>0.333333</td>\n",
       "      <td>Sun</td>\n",
       "    </tr>\n",
       "    <tr>\n",
       "      <th>572</th>\n",
       "      <td>573</td>\n",
       "      <td>a</td>\n",
       "      <td>0.585469</td>\n",
       "      <td>1.738900</td>\n",
       "      <td>0.585469</td>\n",
       "      <td>1.738900</td>\n",
       "      <td>2</td>\n",
       "      <td>3</td>\n",
       "      <td>0</td>\n",
       "      <td>2</td>\n",
       "      <td>...</td>\n",
       "      <td>9</td>\n",
       "      <td>11</td>\n",
       "      <td>4</td>\n",
       "      <td>0</td>\n",
       "      <td>5.00</td>\n",
       "      <td>4.33</td>\n",
       "      <td>1.60</td>\n",
       "      <td>0.500000</td>\n",
       "      <td>0.285714</td>\n",
       "      <td>Sun</td>\n",
       "    </tr>\n",
       "    <tr>\n",
       "      <th>573</th>\n",
       "      <td>574</td>\n",
       "      <td>h</td>\n",
       "      <td>1.738900</td>\n",
       "      <td>0.585469</td>\n",
       "      <td>1.738900</td>\n",
       "      <td>0.585469</td>\n",
       "      <td>3</td>\n",
       "      <td>2</td>\n",
       "      <td>2</td>\n",
       "      <td>0</td>\n",
       "      <td>...</td>\n",
       "      <td>9</td>\n",
       "      <td>11</td>\n",
       "      <td>4</td>\n",
       "      <td>0</td>\n",
       "      <td>5.00</td>\n",
       "      <td>4.33</td>\n",
       "      <td>1.60</td>\n",
       "      <td>0.500000</td>\n",
       "      <td>0.285714</td>\n",
       "      <td>Sun</td>\n",
       "    </tr>\n",
       "    <tr>\n",
       "      <th>574</th>\n",
       "      <td>575</td>\n",
       "      <td>a</td>\n",
       "      <td>0.672448</td>\n",
       "      <td>2.412390</td>\n",
       "      <td>0.672448</td>\n",
       "      <td>1.651220</td>\n",
       "      <td>2</td>\n",
       "      <td>8</td>\n",
       "      <td>0</td>\n",
       "      <td>4</td>\n",
       "      <td>...</td>\n",
       "      <td>12</td>\n",
       "      <td>0</td>\n",
       "      <td>1</td>\n",
       "      <td>0</td>\n",
       "      <td>1.36</td>\n",
       "      <td>5.25</td>\n",
       "      <td>8.00</td>\n",
       "      <td>0.466667</td>\n",
       "      <td>0.250000</td>\n",
       "      <td>Mon</td>\n",
       "    </tr>\n",
       "    <tr>\n",
       "      <th>575</th>\n",
       "      <td>576</td>\n",
       "      <td>h</td>\n",
       "      <td>2.412390</td>\n",
       "      <td>0.672448</td>\n",
       "      <td>1.651220</td>\n",
       "      <td>0.672448</td>\n",
       "      <td>8</td>\n",
       "      <td>2</td>\n",
       "      <td>4</td>\n",
       "      <td>0</td>\n",
       "      <td>...</td>\n",
       "      <td>12</td>\n",
       "      <td>0</td>\n",
       "      <td>1</td>\n",
       "      <td>0</td>\n",
       "      <td>1.36</td>\n",
       "      <td>5.25</td>\n",
       "      <td>8.00</td>\n",
       "      <td>0.466667</td>\n",
       "      <td>0.250000</td>\n",
       "      <td>Mon</td>\n",
       "    </tr>\n",
       "  </tbody>\n",
       "</table>\n",
       "<p>576 rows × 45 columns</p>\n",
       "</div>"
      ],
      "text/plain": [
       "     Unnamed: 0 h_a        xG       xGA      npxG     npxGA  deep  \\\n",
       "0             1   h  2.234560  0.842407  2.234560  0.842407    11   \n",
       "1             2   a  0.842407  2.234560  0.842407  2.234560     5   \n",
       "2             3   a  3.183770  1.200300  2.422640  1.200300     9   \n",
       "3             4   h  1.200300  3.183770  1.200300  2.422640     1   \n",
       "4             5   h  1.340990  1.598640  1.340990  1.598640     4   \n",
       "..          ...  ..       ...       ...       ...       ...   ...   \n",
       "571         572   a  0.445922  2.028830  0.445922  2.028830     3   \n",
       "572         573   a  0.585469  1.738900  0.585469  1.738900     2   \n",
       "573         574   h  1.738900  0.585469  1.738900  0.585469     3   \n",
       "574         575   a  0.672448  2.412390  0.672448  1.651220     2   \n",
       "575         576   h  2.412390  0.672448  1.651220  0.672448     8   \n",
       "\n",
       "     deep_allowed  scored  missed  ...  AF.x AC.x AY.x  AR.x  B365H.x  \\\n",
       "0               5       4       1  ...     9    2    2     0     1.14   \n",
       "1              11       1       4  ...     9    2    2     0     1.14   \n",
       "2               1       5       0  ...    13    1    2     0    12.00   \n",
       "3               9       0       5  ...    13    1    2     0    12.00   \n",
       "4               6       1       1  ...    19    4    1     0     1.95   \n",
       "..            ...     ...     ...  ...   ...  ...  ...   ...      ...   \n",
       "571             9       0       4  ...    10    1    2     0     1.80   \n",
       "572             3       0       2  ...     9   11    4     0     5.00   \n",
       "573             2       2       0  ...     9   11    4     0     5.00   \n",
       "574             8       0       4  ...    12    0    1     0     1.36   \n",
       "575             2       4       0  ...    12    0    1     0     1.36   \n",
       "\n",
       "     B365D.x  B365A.x  HtrgPerc  AtrgPerc  matchDay  \n",
       "0      10.00    19.00  0.466667  0.416667       Fri  \n",
       "1      10.00    19.00  0.466667  0.416667       Fri  \n",
       "2       6.50     1.22  0.600000  0.642857       Sat  \n",
       "3       6.50     1.22  0.600000  0.642857       Sat  \n",
       "4       3.60     3.60  0.230769  0.375000       Sat  \n",
       "..       ...      ...       ...       ...       ...  \n",
       "571     3.90     4.20  0.647059  0.333333       Sun  \n",
       "572     4.33     1.60  0.500000  0.285714       Sun  \n",
       "573     4.33     1.60  0.500000  0.285714       Sun  \n",
       "574     5.25     8.00  0.466667  0.250000       Mon  \n",
       "575     5.25     8.00  0.466667  0.250000       Mon  \n",
       "\n",
       "[576 rows x 45 columns]"
      ]
     },
     "execution_count": 3,
     "metadata": {},
     "output_type": "execute_result"
    }
   ],
   "source": [
    "data"
   ]
  },
  {
   "cell_type": "code",
   "execution_count": 4,
   "metadata": {
    "cell_id": "a7ea658b1bcf417a977db1c7ec15e095",
    "deepnote_cell_height": 118.171875,
    "deepnote_cell_type": "code",
    "deepnote_output_heights": [
     21.1875
    ],
    "deepnote_to_be_reexecuted": false,
    "execution_millis": 27,
    "execution_start": 1658768386104,
    "source_hash": "2007f58",
    "tags": []
   },
   "outputs": [
    {
     "data": {
      "text/plain": [
       "(576, 45)"
      ]
     },
     "execution_count": 4,
     "metadata": {},
     "output_type": "execute_result"
    }
   ],
   "source": [
    "data.shape"
   ]
  },
  {
   "cell_type": "markdown",
   "metadata": {
    "cell_id": "ec0e636ab9f04f10ac885527e6fa98b9",
    "deepnote_cell_type": "text-cell-h3",
    "formattedRanges": [],
    "is_collapsed": false,
    "tags": []
   },
   "source": [
    "### Convert to datetime type"
   ]
  },
  {
   "cell_type": "code",
   "execution_count": 5,
   "metadata": {
    "cell_id": "110ce4f1ad0a463fb67bc53f975da93a",
    "deepnote_cell_height": 81,
    "deepnote_cell_type": "code",
    "deepnote_to_be_reexecuted": false,
    "execution_millis": 9,
    "execution_start": 1658768386134,
    "source_hash": "8adfd2d7",
    "tags": []
   },
   "outputs": [],
   "source": [
    "data['date']= pd.to_datetime(data['date'])"
   ]
  },
  {
   "cell_type": "code",
   "execution_count": 6,
   "metadata": {
    "cell_id": "bd2e663af11b4bac878facba6b240d33",
    "deepnote_cell_height": 329.296875,
    "deepnote_cell_type": "code",
    "deepnote_output_heights": [
     232.3125
    ],
    "deepnote_to_be_reexecuted": false,
    "execution_millis": 9,
    "execution_start": 1658768386149,
    "source_hash": "8e32b325",
    "tags": []
   },
   "outputs": [
    {
     "data": {
      "text/plain": [
       "0     2019-08-09 20:00:00\n",
       "1     2019-08-09 20:00:00\n",
       "2     2019-08-10 12:30:00\n",
       "3     2019-08-10 12:30:00\n",
       "4     2019-08-10 15:00:00\n",
       "              ...        \n",
       "571   2020-03-08 14:00:00\n",
       "572   2020-03-08 16:30:00\n",
       "573   2020-03-08 16:30:00\n",
       "574   2020-03-09 20:00:00\n",
       "575   2020-03-09 20:00:00\n",
       "Name: date, Length: 576, dtype: datetime64[ns]"
      ]
     },
     "execution_count": 6,
     "metadata": {},
     "output_type": "execute_result"
    }
   ],
   "source": [
    "data['date']"
   ]
  },
  {
   "cell_type": "code",
   "execution_count": 7,
   "metadata": {
    "cell_id": "45500b23e12843be9d499974958ec836",
    "deepnote_cell_height": 136.171875,
    "deepnote_cell_type": "code",
    "deepnote_output_heights": [
     21.1875
    ],
    "deepnote_to_be_reexecuted": false,
    "execution_millis": 8,
    "execution_start": 1658768386164,
    "source_hash": "394e7e5",
    "tags": []
   },
   "outputs": [
    {
     "data": {
      "text/plain": [
       "(576, 44)"
      ]
     },
     "execution_count": 7,
     "metadata": {},
     "output_type": "execute_result"
    }
   ],
   "source": [
    "data = data.drop(['Unnamed: 0'], axis = 1)\n",
    "data.shape"
   ]
  },
  {
   "cell_type": "code",
   "execution_count": 8,
   "metadata": {
    "cell_id": "ea57f915cb0f4d288287622e9f0a50db",
    "deepnote_cell_height": 533.265625,
    "deepnote_cell_type": "code",
    "deepnote_to_be_reexecuted": false,
    "execution_millis": 887,
    "execution_start": 1658768386196,
    "source_hash": "d786443f",
    "tags": []
   },
   "outputs": [
    {
     "data": {
      "application/vnd.deepnote.dataframe.v3+json": {
       "column_count": 38,
       "columns": [
        {
         "dtype": "float64",
         "name": "xG",
         "stats": {
          "histogram": [
           {
            "bin_end": 57.6487206,
            "bin_start": 0.054134,
            "count": 7
           },
           {
            "bin_end": 115.2433072,
            "bin_start": 57.6487206,
            "count": 0
           },
           {
            "bin_end": 172.8378938,
            "bin_start": 115.2433072,
            "count": 0
           },
           {
            "bin_end": 230.4324804,
            "bin_start": 172.8378938,
            "count": 0
           },
           {
            "bin_end": 288.027067,
            "bin_start": 230.4324804,
            "count": 0
           },
           {
            "bin_end": 345.62165359999995,
            "bin_start": 288.027067,
            "count": 0
           },
           {
            "bin_end": 403.21624019999996,
            "bin_start": 345.62165359999995,
            "count": 0
           },
           {
            "bin_end": 460.8108268,
            "bin_start": 403.21624019999996,
            "count": 0
           },
           {
            "bin_end": 518.4054133999999,
            "bin_start": 460.8108268,
            "count": 0
           },
           {
            "bin_end": 576,
            "bin_start": 518.4054133999999,
            "count": 1
           }
          ],
          "max": "576.0",
          "min": "0.054134",
          "nan_count": 0,
          "unique_count": 8
         }
        },
        {
         "dtype": "float64",
         "name": "xGA",
         "stats": {
          "histogram": [
           {
            "bin_end": 57.6487206,
            "bin_start": 0.054134,
            "count": 7
           },
           {
            "bin_end": 115.2433072,
            "bin_start": 57.6487206,
            "count": 0
           },
           {
            "bin_end": 172.8378938,
            "bin_start": 115.2433072,
            "count": 0
           },
           {
            "bin_end": 230.4324804,
            "bin_start": 172.8378938,
            "count": 0
           },
           {
            "bin_end": 288.027067,
            "bin_start": 230.4324804,
            "count": 0
           },
           {
            "bin_end": 345.62165359999995,
            "bin_start": 288.027067,
            "count": 0
           },
           {
            "bin_end": 403.21624019999996,
            "bin_start": 345.62165359999995,
            "count": 0
           },
           {
            "bin_end": 460.8108268,
            "bin_start": 403.21624019999996,
            "count": 0
           },
           {
            "bin_end": 518.4054133999999,
            "bin_start": 460.8108268,
            "count": 0
           },
           {
            "bin_end": 576,
            "bin_start": 518.4054133999999,
            "count": 1
           }
          ],
          "max": "576.0",
          "min": "0.054134",
          "nan_count": 0,
          "unique_count": 8
         }
        },
        {
         "dtype": "float64",
         "name": "npxG",
         "stats": {
          "histogram": [
           {
            "bin_end": 57.6487206,
            "bin_start": 0.054134,
            "count": 7
           },
           {
            "bin_end": 115.2433072,
            "bin_start": 57.6487206,
            "count": 0
           },
           {
            "bin_end": 172.8378938,
            "bin_start": 115.2433072,
            "count": 0
           },
           {
            "bin_end": 230.4324804,
            "bin_start": 172.8378938,
            "count": 0
           },
           {
            "bin_end": 288.027067,
            "bin_start": 230.4324804,
            "count": 0
           },
           {
            "bin_end": 345.62165359999995,
            "bin_start": 288.027067,
            "count": 0
           },
           {
            "bin_end": 403.21624019999996,
            "bin_start": 345.62165359999995,
            "count": 0
           },
           {
            "bin_end": 460.8108268,
            "bin_start": 403.21624019999996,
            "count": 0
           },
           {
            "bin_end": 518.4054133999999,
            "bin_start": 460.8108268,
            "count": 0
           },
           {
            "bin_end": 576,
            "bin_start": 518.4054133999999,
            "count": 1
           }
          ],
          "max": "576.0",
          "min": "0.054134",
          "nan_count": 0,
          "unique_count": 8
         }
        },
        {
         "dtype": "float64",
         "name": "npxGA",
         "stats": {
          "histogram": [
           {
            "bin_end": 57.6487206,
            "bin_start": 0.054134,
            "count": 7
           },
           {
            "bin_end": 115.2433072,
            "bin_start": 57.6487206,
            "count": 0
           },
           {
            "bin_end": 172.8378938,
            "bin_start": 115.2433072,
            "count": 0
           },
           {
            "bin_end": 230.4324804,
            "bin_start": 172.8378938,
            "count": 0
           },
           {
            "bin_end": 288.027067,
            "bin_start": 230.4324804,
            "count": 0
           },
           {
            "bin_end": 345.62165359999995,
            "bin_start": 288.027067,
            "count": 0
           },
           {
            "bin_end": 403.21624019999996,
            "bin_start": 345.62165359999995,
            "count": 0
           },
           {
            "bin_end": 460.8108268,
            "bin_start": 403.21624019999996,
            "count": 0
           },
           {
            "bin_end": 518.4054133999999,
            "bin_start": 460.8108268,
            "count": 0
           },
           {
            "bin_end": 576,
            "bin_start": 518.4054133999999,
            "count": 1
           }
          ],
          "max": "576.0",
          "min": "0.054134",
          "nan_count": 0,
          "unique_count": 8
         }
        },
        {
         "dtype": "float64",
         "name": "deep",
         "stats": {
          "histogram": [
           {
            "bin_end": 57.6,
            "bin_start": 0,
            "count": 7
           },
           {
            "bin_end": 115.2,
            "bin_start": 57.6,
            "count": 0
           },
           {
            "bin_end": 172.8,
            "bin_start": 115.2,
            "count": 0
           },
           {
            "bin_end": 230.4,
            "bin_start": 172.8,
            "count": 0
           },
           {
            "bin_end": 288,
            "bin_start": 230.4,
            "count": 0
           },
           {
            "bin_end": 345.6,
            "bin_start": 288,
            "count": 0
           },
           {
            "bin_end": 403.2,
            "bin_start": 345.6,
            "count": 0
           },
           {
            "bin_end": 460.8,
            "bin_start": 403.2,
            "count": 0
           },
           {
            "bin_end": 518.4,
            "bin_start": 460.8,
            "count": 0
           },
           {
            "bin_end": 576,
            "bin_start": 518.4,
            "count": 1
           }
          ],
          "max": "576.0",
          "min": "0.0",
          "nan_count": 0,
          "unique_count": 8
         }
        },
        {
         "dtype": "float64",
         "name": "deep_allowed",
         "stats": {
          "histogram": [
           {
            "bin_end": 57.6,
            "bin_start": 0,
            "count": 7
           },
           {
            "bin_end": 115.2,
            "bin_start": 57.6,
            "count": 0
           },
           {
            "bin_end": 172.8,
            "bin_start": 115.2,
            "count": 0
           },
           {
            "bin_end": 230.4,
            "bin_start": 172.8,
            "count": 0
           },
           {
            "bin_end": 288,
            "bin_start": 230.4,
            "count": 0
           },
           {
            "bin_end": 345.6,
            "bin_start": 288,
            "count": 0
           },
           {
            "bin_end": 403.2,
            "bin_start": 345.6,
            "count": 0
           },
           {
            "bin_end": 460.8,
            "bin_start": 403.2,
            "count": 0
           },
           {
            "bin_end": 518.4,
            "bin_start": 460.8,
            "count": 0
           },
           {
            "bin_end": 576,
            "bin_start": 518.4,
            "count": 1
           }
          ],
          "max": "576.0",
          "min": "0.0",
          "nan_count": 0,
          "unique_count": 8
         }
        },
        {
         "dtype": "float64",
         "name": "scored",
         "stats": {
          "histogram": [
           {
            "bin_end": 57.6,
            "bin_start": 0,
            "count": 7
           },
           {
            "bin_end": 115.2,
            "bin_start": 57.6,
            "count": 0
           },
           {
            "bin_end": 172.8,
            "bin_start": 115.2,
            "count": 0
           },
           {
            "bin_end": 230.4,
            "bin_start": 172.8,
            "count": 0
           },
           {
            "bin_end": 288,
            "bin_start": 230.4,
            "count": 0
           },
           {
            "bin_end": 345.6,
            "bin_start": 288,
            "count": 0
           },
           {
            "bin_end": 403.2,
            "bin_start": 345.6,
            "count": 0
           },
           {
            "bin_end": 460.8,
            "bin_start": 403.2,
            "count": 0
           },
           {
            "bin_end": 518.4,
            "bin_start": 460.8,
            "count": 0
           },
           {
            "bin_end": 576,
            "bin_start": 518.4,
            "count": 1
           }
          ],
          "max": "576.0",
          "min": "0.0",
          "nan_count": 0,
          "unique_count": 7
         }
        },
        {
         "dtype": "float64",
         "name": "missed",
         "stats": {
          "histogram": [
           {
            "bin_end": 57.6,
            "bin_start": 0,
            "count": 7
           },
           {
            "bin_end": 115.2,
            "bin_start": 57.6,
            "count": 0
           },
           {
            "bin_end": 172.8,
            "bin_start": 115.2,
            "count": 0
           },
           {
            "bin_end": 230.4,
            "bin_start": 172.8,
            "count": 0
           },
           {
            "bin_end": 288,
            "bin_start": 230.4,
            "count": 0
           },
           {
            "bin_end": 345.6,
            "bin_start": 288,
            "count": 0
           },
           {
            "bin_end": 403.2,
            "bin_start": 345.6,
            "count": 0
           },
           {
            "bin_end": 460.8,
            "bin_start": 403.2,
            "count": 0
           },
           {
            "bin_end": 518.4,
            "bin_start": 460.8,
            "count": 0
           },
           {
            "bin_end": 576,
            "bin_start": 518.4,
            "count": 1
           }
          ],
          "max": "576.0",
          "min": "0.0",
          "nan_count": 0,
          "unique_count": 7
         }
        },
        {
         "dtype": "float64",
         "name": "xpts",
         "stats": {
          "histogram": [
           {
            "bin_end": 57.600359999999995,
            "bin_start": 0.0004,
            "count": 7
           },
           {
            "bin_end": 115.20031999999999,
            "bin_start": 57.600359999999995,
            "count": 0
           },
           {
            "bin_end": 172.80028,
            "bin_start": 115.20031999999999,
            "count": 0
           },
           {
            "bin_end": 230.40024,
            "bin_start": 172.80028,
            "count": 0
           },
           {
            "bin_end": 288.0002,
            "bin_start": 230.40024,
            "count": 0
           },
           {
            "bin_end": 345.60015999999996,
            "bin_start": 288.0002,
            "count": 0
           },
           {
            "bin_end": 403.20011999999997,
            "bin_start": 345.60015999999996,
            "count": 0
           },
           {
            "bin_end": 460.80008,
            "bin_start": 403.20011999999997,
            "count": 0
           },
           {
            "bin_end": 518.40004,
            "bin_start": 460.80008,
            "count": 0
           },
           {
            "bin_end": 576,
            "bin_start": 518.40004,
            "count": 1
           }
          ],
          "max": "576.0",
          "min": "0.0004",
          "nan_count": 0,
          "unique_count": 8
         }
        },
        {
         "dtype": "float64",
         "name": "wins",
         "stats": {
          "histogram": [
           {
            "bin_end": 57.6,
            "bin_start": 0,
            "count": 7
           },
           {
            "bin_end": 115.2,
            "bin_start": 57.6,
            "count": 0
           },
           {
            "bin_end": 172.8,
            "bin_start": 115.2,
            "count": 0
           },
           {
            "bin_end": 230.4,
            "bin_start": 172.8,
            "count": 0
           },
           {
            "bin_end": 288,
            "bin_start": 230.4,
            "count": 0
           },
           {
            "bin_end": 345.6,
            "bin_start": 288,
            "count": 0
           },
           {
            "bin_end": 403.2,
            "bin_start": 345.6,
            "count": 0
           },
           {
            "bin_end": 460.8,
            "bin_start": 403.2,
            "count": 0
           },
           {
            "bin_end": 518.4,
            "bin_start": 460.8,
            "count": 0
           },
           {
            "bin_end": 576,
            "bin_start": 518.4,
            "count": 1
           }
          ],
          "max": "576.0",
          "min": "0.0",
          "nan_count": 0,
          "unique_count": 5
         }
        },
        {
         "dtype": "float64",
         "name": "draws",
         "stats": {
          "histogram": [
           {
            "bin_end": 57.6,
            "bin_start": 0,
            "count": 7
           },
           {
            "bin_end": 115.2,
            "bin_start": 57.6,
            "count": 0
           },
           {
            "bin_end": 172.8,
            "bin_start": 115.2,
            "count": 0
           },
           {
            "bin_end": 230.4,
            "bin_start": 172.8,
            "count": 0
           },
           {
            "bin_end": 288,
            "bin_start": 230.4,
            "count": 0
           },
           {
            "bin_end": 345.6,
            "bin_start": 288,
            "count": 0
           },
           {
            "bin_end": 403.2,
            "bin_start": 345.6,
            "count": 0
           },
           {
            "bin_end": 460.8,
            "bin_start": 403.2,
            "count": 0
           },
           {
            "bin_end": 518.4,
            "bin_start": 460.8,
            "count": 0
           },
           {
            "bin_end": 576,
            "bin_start": 518.4,
            "count": 1
           }
          ],
          "max": "576.0",
          "min": "0.0",
          "nan_count": 0,
          "unique_count": 5
         }
        },
        {
         "dtype": "float64",
         "name": "loses",
         "stats": {
          "histogram": [
           {
            "bin_end": 57.6,
            "bin_start": 0,
            "count": 7
           },
           {
            "bin_end": 115.2,
            "bin_start": 57.6,
            "count": 0
           },
           {
            "bin_end": 172.8,
            "bin_start": 115.2,
            "count": 0
           },
           {
            "bin_end": 230.4,
            "bin_start": 172.8,
            "count": 0
           },
           {
            "bin_end": 288,
            "bin_start": 230.4,
            "count": 0
           },
           {
            "bin_end": 345.6,
            "bin_start": 288,
            "count": 0
           },
           {
            "bin_end": 403.2,
            "bin_start": 345.6,
            "count": 0
           },
           {
            "bin_end": 460.8,
            "bin_start": 403.2,
            "count": 0
           },
           {
            "bin_end": 518.4,
            "bin_start": 460.8,
            "count": 0
           },
           {
            "bin_end": 576,
            "bin_start": 518.4,
            "count": 1
           }
          ],
          "max": "576.0",
          "min": "0.0",
          "nan_count": 0,
          "unique_count": 5
         }
        },
        {
         "dtype": "float64",
         "name": "pts",
         "stats": {
          "histogram": [
           {
            "bin_end": 57.6,
            "bin_start": 0,
            "count": 7
           },
           {
            "bin_end": 115.2,
            "bin_start": 57.6,
            "count": 0
           },
           {
            "bin_end": 172.8,
            "bin_start": 115.2,
            "count": 0
           },
           {
            "bin_end": 230.4,
            "bin_start": 172.8,
            "count": 0
           },
           {
            "bin_end": 288,
            "bin_start": 230.4,
            "count": 0
           },
           {
            "bin_end": 345.6,
            "bin_start": 288,
            "count": 0
           },
           {
            "bin_end": 403.2,
            "bin_start": 345.6,
            "count": 0
           },
           {
            "bin_end": 460.8,
            "bin_start": 403.2,
            "count": 0
           },
           {
            "bin_end": 518.4,
            "bin_start": 460.8,
            "count": 0
           },
           {
            "bin_end": 576,
            "bin_start": 518.4,
            "count": 1
           }
          ],
          "max": "576.0",
          "min": "0.0",
          "nan_count": 0,
          "unique_count": 6
         }
        },
        {
         "dtype": "float64",
         "name": "npxGD",
         "stats": {
          "histogram": [
           {
            "bin_end": 52.62785819999999,
            "bin_start": -5.524602,
            "count": 7
           },
           {
            "bin_end": 110.78031839999998,
            "bin_start": 52.62785819999999,
            "count": 0
           },
           {
            "bin_end": 168.93277859999998,
            "bin_start": 110.78031839999998,
            "count": 0
           },
           {
            "bin_end": 227.08523879999998,
            "bin_start": 168.93277859999998,
            "count": 0
           },
           {
            "bin_end": 285.23769899999996,
            "bin_start": 227.08523879999998,
            "count": 0
           },
           {
            "bin_end": 343.3901591999999,
            "bin_start": 285.23769899999996,
            "count": 0
           },
           {
            "bin_end": 401.5426193999999,
            "bin_start": 343.3901591999999,
            "count": 0
           },
           {
            "bin_end": 459.69507959999993,
            "bin_start": 401.5426193999999,
            "count": 0
           },
           {
            "bin_end": 517.8475397999999,
            "bin_start": 459.69507959999993,
            "count": 0
           },
           {
            "bin_end": 576,
            "bin_start": 517.8475397999999,
            "count": 1
           }
          ],
          "max": "576.0",
          "min": "-5.524602",
          "nan_count": 0,
          "unique_count": 8
         }
        },
        {
         "dtype": "float64",
         "name": "ppda_cal",
         "stats": {
          "histogram": [
           {
            "bin_end": 60.47027027027028,
            "bin_start": 3.18918918918919,
            "count": 7
           },
           {
            "bin_end": 117.75135135135136,
            "bin_start": 60.47027027027028,
            "count": 0
           },
           {
            "bin_end": 175.03243243243244,
            "bin_start": 117.75135135135136,
            "count": 0
           },
           {
            "bin_end": 232.31351351351353,
            "bin_start": 175.03243243243244,
            "count": 0
           },
           {
            "bin_end": 289.5945945945946,
            "bin_start": 232.31351351351353,
            "count": 0
           },
           {
            "bin_end": 346.87567567567567,
            "bin_start": 289.5945945945946,
            "count": 0
           },
           {
            "bin_end": 404.15675675675675,
            "bin_start": 346.87567567567567,
            "count": 0
           },
           {
            "bin_end": 461.43783783783783,
            "bin_start": 404.15675675675675,
            "count": 0
           },
           {
            "bin_end": 518.7189189189189,
            "bin_start": 461.43783783783783,
            "count": 0
           },
           {
            "bin_end": 576,
            "bin_start": 518.7189189189189,
            "count": 1
           }
          ],
          "max": "576.0",
          "min": "3.18918918918919",
          "nan_count": 0,
          "unique_count": 8
         }
        },
        {
         "dtype": "float64",
         "name": "allowed_ppda",
         "stats": {
          "histogram": [
           {
            "bin_end": 60.47027027027028,
            "bin_start": 3.18918918918919,
            "count": 7
           },
           {
            "bin_end": 117.75135135135136,
            "bin_start": 60.47027027027028,
            "count": 0
           },
           {
            "bin_end": 175.03243243243244,
            "bin_start": 117.75135135135136,
            "count": 0
           },
           {
            "bin_end": 232.31351351351353,
            "bin_start": 175.03243243243244,
            "count": 0
           },
           {
            "bin_end": 289.5945945945946,
            "bin_start": 232.31351351351353,
            "count": 0
           },
           {
            "bin_end": 346.87567567567567,
            "bin_start": 289.5945945945946,
            "count": 0
           },
           {
            "bin_end": 404.15675675675675,
            "bin_start": 346.87567567567567,
            "count": 0
           },
           {
            "bin_end": 461.43783783783783,
            "bin_start": 404.15675675675675,
            "count": 0
           },
           {
            "bin_end": 518.7189189189189,
            "bin_start": 461.43783783783783,
            "count": 0
           },
           {
            "bin_end": 576,
            "bin_start": 518.7189189189189,
            "count": 1
           }
          ],
          "max": "576.0",
          "min": "3.18918918918919",
          "nan_count": 0,
          "unique_count": 8
         }
        },
        {
         "dtype": "float64",
         "name": "matchtime",
         "stats": {
          "histogram": [
           {
            "bin_end": 59.541500708215175,
            "bin_start": 2.1572230091279647,
            "count": 7
           },
           {
            "bin_end": 116.92577840730237,
            "bin_start": 59.541500708215175,
            "count": 0
           },
           {
            "bin_end": 174.3100561063896,
            "bin_start": 116.92577840730237,
            "count": 0
           },
           {
            "bin_end": 231.6943338054768,
            "bin_start": 174.3100561063896,
            "count": 0
           },
           {
            "bin_end": 289.078611504564,
            "bin_start": 231.6943338054768,
            "count": 0
           },
           {
            "bin_end": 346.46288920365123,
            "bin_start": 289.078611504564,
            "count": 0
           },
           {
            "bin_end": 403.8471669027384,
            "bin_start": 346.46288920365123,
            "count": 0
           },
           {
            "bin_end": 461.2314446018256,
            "bin_start": 403.8471669027384,
            "count": 0
           },
           {
            "bin_end": 518.6157223009128,
            "bin_start": 461.2314446018256,
            "count": 0
           },
           {
            "bin_end": 576,
            "bin_start": 518.6157223009128,
            "count": 1
           }
          ],
          "max": "576.0",
          "min": "2.1572230091279647",
          "nan_count": 0,
          "unique_count": 8
         }
        },
        {
         "dtype": "float64",
         "name": "tot_points",
         "stats": {
          "histogram": [
           {
            "bin_end": 57.6,
            "bin_start": 0,
            "count": 6
           },
           {
            "bin_end": 115.2,
            "bin_start": 57.6,
            "count": 1
           },
           {
            "bin_end": 172.8,
            "bin_start": 115.2,
            "count": 0
           },
           {
            "bin_end": 230.4,
            "bin_start": 172.8,
            "count": 0
           },
           {
            "bin_end": 288,
            "bin_start": 230.4,
            "count": 0
           },
           {
            "bin_end": 345.6,
            "bin_start": 288,
            "count": 0
           },
           {
            "bin_end": 403.2,
            "bin_start": 345.6,
            "count": 0
           },
           {
            "bin_end": 460.8,
            "bin_start": 403.2,
            "count": 0
           },
           {
            "bin_end": 518.4,
            "bin_start": 460.8,
            "count": 0
           },
           {
            "bin_end": 576,
            "bin_start": 518.4,
            "count": 1
           }
          ],
          "max": "576.0",
          "min": "0.0",
          "nan_count": 0,
          "unique_count": 8
         }
        },
        {
         "dtype": "float64",
         "name": "round",
         "stats": {
          "histogram": [
           {
            "bin_end": 58.5,
            "bin_start": 1,
            "count": 7
           },
           {
            "bin_end": 116,
            "bin_start": 58.5,
            "count": 0
           },
           {
            "bin_end": 173.5,
            "bin_start": 116,
            "count": 0
           },
           {
            "bin_end": 231,
            "bin_start": 173.5,
            "count": 0
           },
           {
            "bin_end": 288.5,
            "bin_start": 231,
            "count": 0
           },
           {
            "bin_end": 346,
            "bin_start": 288.5,
            "count": 0
           },
           {
            "bin_end": 403.5,
            "bin_start": 346,
            "count": 0
           },
           {
            "bin_end": 461,
            "bin_start": 403.5,
            "count": 0
           },
           {
            "bin_end": 518.5,
            "bin_start": 461,
            "count": 0
           },
           {
            "bin_end": 576,
            "bin_start": 518.5,
            "count": 1
           }
          ],
          "max": "576.0",
          "min": "1.0",
          "nan_count": 0,
          "unique_count": 8
         }
        },
        {
         "dtype": "float64",
         "name": "tot_goal",
         "stats": {
          "histogram": [
           {
            "bin_end": 57.6,
            "bin_start": 0,
            "count": 6
           },
           {
            "bin_end": 115.2,
            "bin_start": 57.6,
            "count": 1
           },
           {
            "bin_end": 172.8,
            "bin_start": 115.2,
            "count": 0
           },
           {
            "bin_end": 230.4,
            "bin_start": 172.8,
            "count": 0
           },
           {
            "bin_end": 288,
            "bin_start": 230.4,
            "count": 0
           },
           {
            "bin_end": 345.6,
            "bin_start": 288,
            "count": 0
           },
           {
            "bin_end": 403.2,
            "bin_start": 345.6,
            "count": 0
           },
           {
            "bin_end": 460.8,
            "bin_start": 403.2,
            "count": 0
           },
           {
            "bin_end": 518.4,
            "bin_start": 460.8,
            "count": 0
           },
           {
            "bin_end": 576,
            "bin_start": 518.4,
            "count": 1
           }
          ],
          "max": "576.0",
          "min": "0.0",
          "nan_count": 0,
          "unique_count": 8
         }
        },
        {
         "dtype": "float64",
         "name": "tot_con",
         "stats": {
          "histogram": [
           {
            "bin_end": 57.6,
            "bin_start": 0,
            "count": 7
           },
           {
            "bin_end": 115.2,
            "bin_start": 57.6,
            "count": 0
           },
           {
            "bin_end": 172.8,
            "bin_start": 115.2,
            "count": 0
           },
           {
            "bin_end": 230.4,
            "bin_start": 172.8,
            "count": 0
           },
           {
            "bin_end": 288,
            "bin_start": 230.4,
            "count": 0
           },
           {
            "bin_end": 345.6,
            "bin_start": 288,
            "count": 0
           },
           {
            "bin_end": 403.2,
            "bin_start": 345.6,
            "count": 0
           },
           {
            "bin_end": 460.8,
            "bin_start": 403.2,
            "count": 0
           },
           {
            "bin_end": 518.4,
            "bin_start": 460.8,
            "count": 0
           },
           {
            "bin_end": 576,
            "bin_start": 518.4,
            "count": 1
           }
          ],
          "max": "576.0",
          "min": "0.0",
          "nan_count": 0,
          "unique_count": 8
         }
        },
        {
         "dtype": "float64",
         "name": "HS.x",
         "stats": {
          "histogram": [
           {
            "bin_end": 60.3,
            "bin_start": 3,
            "count": 7
           },
           {
            "bin_end": 117.6,
            "bin_start": 60.3,
            "count": 0
           },
           {
            "bin_end": 174.89999999999998,
            "bin_start": 117.6,
            "count": 0
           },
           {
            "bin_end": 232.2,
            "bin_start": 174.89999999999998,
            "count": 0
           },
           {
            "bin_end": 289.5,
            "bin_start": 232.2,
            "count": 0
           },
           {
            "bin_end": 346.79999999999995,
            "bin_start": 289.5,
            "count": 0
           },
           {
            "bin_end": 404.09999999999997,
            "bin_start": 346.79999999999995,
            "count": 0
           },
           {
            "bin_end": 461.4,
            "bin_start": 404.09999999999997,
            "count": 0
           },
           {
            "bin_end": 518.6999999999999,
            "bin_start": 461.4,
            "count": 0
           },
           {
            "bin_end": 576,
            "bin_start": 518.6999999999999,
            "count": 1
           }
          ],
          "max": "576.0",
          "min": "3.0",
          "nan_count": 0,
          "unique_count": 8
         }
        },
        {
         "dtype": "float64",
         "name": "HST.x",
         "stats": {
          "histogram": [
           {
            "bin_end": 57.6,
            "bin_start": 0,
            "count": 7
           },
           {
            "bin_end": 115.2,
            "bin_start": 57.6,
            "count": 0
           },
           {
            "bin_end": 172.8,
            "bin_start": 115.2,
            "count": 0
           },
           {
            "bin_end": 230.4,
            "bin_start": 172.8,
            "count": 0
           },
           {
            "bin_end": 288,
            "bin_start": 230.4,
            "count": 0
           },
           {
            "bin_end": 345.6,
            "bin_start": 288,
            "count": 0
           },
           {
            "bin_end": 403.2,
            "bin_start": 345.6,
            "count": 0
           },
           {
            "bin_end": 460.8,
            "bin_start": 403.2,
            "count": 0
           },
           {
            "bin_end": 518.4,
            "bin_start": 460.8,
            "count": 0
           },
           {
            "bin_end": 576,
            "bin_start": 518.4,
            "count": 1
           }
          ],
          "max": "576.0",
          "min": "0.0",
          "nan_count": 0,
          "unique_count": 8
         }
        },
        {
         "dtype": "float64",
         "name": "HF.x",
         "stats": {
          "histogram": [
           {
            "bin_end": 57.6,
            "bin_start": 0,
            "count": 7
           },
           {
            "bin_end": 115.2,
            "bin_start": 57.6,
            "count": 0
           },
           {
            "bin_end": 172.8,
            "bin_start": 115.2,
            "count": 0
           },
           {
            "bin_end": 230.4,
            "bin_start": 172.8,
            "count": 0
           },
           {
            "bin_end": 288,
            "bin_start": 230.4,
            "count": 0
           },
           {
            "bin_end": 345.6,
            "bin_start": 288,
            "count": 0
           },
           {
            "bin_end": 403.2,
            "bin_start": 345.6,
            "count": 0
           },
           {
            "bin_end": 460.8,
            "bin_start": 403.2,
            "count": 0
           },
           {
            "bin_end": 518.4,
            "bin_start": 460.8,
            "count": 0
           },
           {
            "bin_end": 576,
            "bin_start": 518.4,
            "count": 1
           }
          ],
          "max": "576.0",
          "min": "0.0",
          "nan_count": 0,
          "unique_count": 8
         }
        },
        {
         "dtype": "float64",
         "name": "HC.x",
         "stats": {
          "histogram": [
           {
            "bin_end": 57.6,
            "bin_start": 0,
            "count": 7
           },
           {
            "bin_end": 115.2,
            "bin_start": 57.6,
            "count": 0
           },
           {
            "bin_end": 172.8,
            "bin_start": 115.2,
            "count": 0
           },
           {
            "bin_end": 230.4,
            "bin_start": 172.8,
            "count": 0
           },
           {
            "bin_end": 288,
            "bin_start": 230.4,
            "count": 0
           },
           {
            "bin_end": 345.6,
            "bin_start": 288,
            "count": 0
           },
           {
            "bin_end": 403.2,
            "bin_start": 345.6,
            "count": 0
           },
           {
            "bin_end": 460.8,
            "bin_start": 403.2,
            "count": 0
           },
           {
            "bin_end": 518.4,
            "bin_start": 460.8,
            "count": 0
           },
           {
            "bin_end": 576,
            "bin_start": 518.4,
            "count": 1
           }
          ],
          "max": "576.0",
          "min": "0.0",
          "nan_count": 0,
          "unique_count": 8
         }
        },
        {
         "dtype": "float64",
         "name": "HY.x",
         "stats": {
          "histogram": [
           {
            "bin_end": 57.6,
            "bin_start": 0,
            "count": 7
           },
           {
            "bin_end": 115.2,
            "bin_start": 57.6,
            "count": 0
           },
           {
            "bin_end": 172.8,
            "bin_start": 115.2,
            "count": 0
           },
           {
            "bin_end": 230.4,
            "bin_start": 172.8,
            "count": 0
           },
           {
            "bin_end": 288,
            "bin_start": 230.4,
            "count": 0
           },
           {
            "bin_end": 345.6,
            "bin_start": 288,
            "count": 0
           },
           {
            "bin_end": 403.2,
            "bin_start": 345.6,
            "count": 0
           },
           {
            "bin_end": 460.8,
            "bin_start": 403.2,
            "count": 0
           },
           {
            "bin_end": 518.4,
            "bin_start": 460.8,
            "count": 0
           },
           {
            "bin_end": 576,
            "bin_start": 518.4,
            "count": 1
           }
          ],
          "max": "576.0",
          "min": "0.0",
          "nan_count": 0,
          "unique_count": 7
         }
        },
        {
         "dtype": "float64",
         "name": "HR.x",
         "stats": {
          "histogram": [
           {
            "bin_end": 57.6,
            "bin_start": 0,
            "count": 7
           },
           {
            "bin_end": 115.2,
            "bin_start": 57.6,
            "count": 0
           },
           {
            "bin_end": 172.8,
            "bin_start": 115.2,
            "count": 0
           },
           {
            "bin_end": 230.4,
            "bin_start": 172.8,
            "count": 0
           },
           {
            "bin_end": 288,
            "bin_start": 230.4,
            "count": 0
           },
           {
            "bin_end": 345.6,
            "bin_start": 288,
            "count": 0
           },
           {
            "bin_end": 403.2,
            "bin_start": 345.6,
            "count": 0
           },
           {
            "bin_end": 460.8,
            "bin_start": 403.2,
            "count": 0
           },
           {
            "bin_end": 518.4,
            "bin_start": 460.8,
            "count": 0
           },
           {
            "bin_end": 576,
            "bin_start": 518.4,
            "count": 1
           }
          ],
          "max": "576.0",
          "min": "0.0",
          "nan_count": 0,
          "unique_count": 5
         }
        },
        {
         "dtype": "float64",
         "name": "AS.x",
         "stats": {
          "histogram": [
           {
            "bin_end": 59.4,
            "bin_start": 2,
            "count": 7
           },
           {
            "bin_end": 116.8,
            "bin_start": 59.4,
            "count": 0
           },
           {
            "bin_end": 174.2,
            "bin_start": 116.8,
            "count": 0
           },
           {
            "bin_end": 231.6,
            "bin_start": 174.2,
            "count": 0
           },
           {
            "bin_end": 289,
            "bin_start": 231.6,
            "count": 0
           },
           {
            "bin_end": 346.4,
            "bin_start": 289,
            "count": 0
           },
           {
            "bin_end": 403.8,
            "bin_start": 346.4,
            "count": 0
           },
           {
            "bin_end": 461.2,
            "bin_start": 403.8,
            "count": 0
           },
           {
            "bin_end": 518.6,
            "bin_start": 461.2,
            "count": 0
           },
           {
            "bin_end": 576,
            "bin_start": 518.6,
            "count": 1
           }
          ],
          "max": "576.0",
          "min": "2.0",
          "nan_count": 0,
          "unique_count": 8
         }
        },
        {
         "dtype": "float64",
         "name": "AST.x",
         "stats": {
          "histogram": [
           {
            "bin_end": 57.6,
            "bin_start": 0,
            "count": 7
           },
           {
            "bin_end": 115.2,
            "bin_start": 57.6,
            "count": 0
           },
           {
            "bin_end": 172.8,
            "bin_start": 115.2,
            "count": 0
           },
           {
            "bin_end": 230.4,
            "bin_start": 172.8,
            "count": 0
           },
           {
            "bin_end": 288,
            "bin_start": 230.4,
            "count": 0
           },
           {
            "bin_end": 345.6,
            "bin_start": 288,
            "count": 0
           },
           {
            "bin_end": 403.2,
            "bin_start": 345.6,
            "count": 0
           },
           {
            "bin_end": 460.8,
            "bin_start": 403.2,
            "count": 0
           },
           {
            "bin_end": 518.4,
            "bin_start": 460.8,
            "count": 0
           },
           {
            "bin_end": 576,
            "bin_start": 518.4,
            "count": 1
           }
          ],
          "max": "576.0",
          "min": "0.0",
          "nan_count": 0,
          "unique_count": 8
         }
        },
        {
         "dtype": "float64",
         "name": "AF.x",
         "stats": {
          "histogram": [
           {
            "bin_end": 58.5,
            "bin_start": 1,
            "count": 7
           },
           {
            "bin_end": 116,
            "bin_start": 58.5,
            "count": 0
           },
           {
            "bin_end": 173.5,
            "bin_start": 116,
            "count": 0
           },
           {
            "bin_end": 231,
            "bin_start": 173.5,
            "count": 0
           },
           {
            "bin_end": 288.5,
            "bin_start": 231,
            "count": 0
           },
           {
            "bin_end": 346,
            "bin_start": 288.5,
            "count": 0
           },
           {
            "bin_end": 403.5,
            "bin_start": 346,
            "count": 0
           },
           {
            "bin_end": 461,
            "bin_start": 403.5,
            "count": 0
           },
           {
            "bin_end": 518.5,
            "bin_start": 461,
            "count": 0
           },
           {
            "bin_end": 576,
            "bin_start": 518.5,
            "count": 1
           }
          ],
          "max": "576.0",
          "min": "1.0",
          "nan_count": 0,
          "unique_count": 8
         }
        },
        {
         "dtype": "float64",
         "name": "AC.x",
         "stats": {
          "histogram": [
           {
            "bin_end": 57.6,
            "bin_start": 0,
            "count": 7
           },
           {
            "bin_end": 115.2,
            "bin_start": 57.6,
            "count": 0
           },
           {
            "bin_end": 172.8,
            "bin_start": 115.2,
            "count": 0
           },
           {
            "bin_end": 230.4,
            "bin_start": 172.8,
            "count": 0
           },
           {
            "bin_end": 288,
            "bin_start": 230.4,
            "count": 0
           },
           {
            "bin_end": 345.6,
            "bin_start": 288,
            "count": 0
           },
           {
            "bin_end": 403.2,
            "bin_start": 345.6,
            "count": 0
           },
           {
            "bin_end": 460.8,
            "bin_start": 403.2,
            "count": 0
           },
           {
            "bin_end": 518.4,
            "bin_start": 460.8,
            "count": 0
           },
           {
            "bin_end": 576,
            "bin_start": 518.4,
            "count": 1
           }
          ],
          "max": "576.0",
          "min": "0.0",
          "nan_count": 0,
          "unique_count": 8
         }
        },
        {
         "dtype": "float64",
         "name": "AY.x",
         "stats": {
          "histogram": [
           {
            "bin_end": 57.6,
            "bin_start": 0,
            "count": 7
           },
           {
            "bin_end": 115.2,
            "bin_start": 57.6,
            "count": 0
           },
           {
            "bin_end": 172.8,
            "bin_start": 115.2,
            "count": 0
           },
           {
            "bin_end": 230.4,
            "bin_start": 172.8,
            "count": 0
           },
           {
            "bin_end": 288,
            "bin_start": 230.4,
            "count": 0
           },
           {
            "bin_end": 345.6,
            "bin_start": 288,
            "count": 0
           },
           {
            "bin_end": 403.2,
            "bin_start": 345.6,
            "count": 0
           },
           {
            "bin_end": 460.8,
            "bin_start": 403.2,
            "count": 0
           },
           {
            "bin_end": 518.4,
            "bin_start": 460.8,
            "count": 0
           },
           {
            "bin_end": 576,
            "bin_start": 518.4,
            "count": 1
           }
          ],
          "max": "576.0",
          "min": "0.0",
          "nan_count": 0,
          "unique_count": 8
         }
        },
        {
         "dtype": "float64",
         "name": "AR.x",
         "stats": {
          "histogram": [
           {
            "bin_end": 57.6,
            "bin_start": 0,
            "count": 7
           },
           {
            "bin_end": 115.2,
            "bin_start": 57.6,
            "count": 0
           },
           {
            "bin_end": 172.8,
            "bin_start": 115.2,
            "count": 0
           },
           {
            "bin_end": 230.4,
            "bin_start": 172.8,
            "count": 0
           },
           {
            "bin_end": 288,
            "bin_start": 230.4,
            "count": 0
           },
           {
            "bin_end": 345.6,
            "bin_start": 288,
            "count": 0
           },
           {
            "bin_end": 403.2,
            "bin_start": 345.6,
            "count": 0
           },
           {
            "bin_end": 460.8,
            "bin_start": 403.2,
            "count": 0
           },
           {
            "bin_end": 518.4,
            "bin_start": 460.8,
            "count": 0
           },
           {
            "bin_end": 576,
            "bin_start": 518.4,
            "count": 1
           }
          ],
          "max": "576.0",
          "min": "0.0",
          "nan_count": 0,
          "unique_count": 5
         }
        },
        {
         "dtype": "float64",
         "name": "B365H.x",
         "stats": {
          "histogram": [
           {
            "bin_end": 58.562999999999995,
            "bin_start": 1.07,
            "count": 7
           },
           {
            "bin_end": 116.05599999999998,
            "bin_start": 58.562999999999995,
            "count": 0
           },
           {
            "bin_end": 173.54899999999998,
            "bin_start": 116.05599999999998,
            "count": 0
           },
           {
            "bin_end": 231.04199999999997,
            "bin_start": 173.54899999999998,
            "count": 0
           },
           {
            "bin_end": 288.53499999999997,
            "bin_start": 231.04199999999997,
            "count": 0
           },
           {
            "bin_end": 346.02799999999996,
            "bin_start": 288.53499999999997,
            "count": 0
           },
           {
            "bin_end": 403.52099999999996,
            "bin_start": 346.02799999999996,
            "count": 0
           },
           {
            "bin_end": 461.01399999999995,
            "bin_start": 403.52099999999996,
            "count": 0
           },
           {
            "bin_end": 518.507,
            "bin_start": 461.01399999999995,
            "count": 0
           },
           {
            "bin_end": 576,
            "bin_start": 518.507,
            "count": 1
           }
          ],
          "max": "576.0",
          "min": "1.07",
          "nan_count": 0,
          "unique_count": 8
         }
        },
        {
         "dtype": "float64",
         "name": "B365D.x",
         "stats": {
          "histogram": [
           {
            "bin_end": 58.96218051918526,
            "bin_start": 1.513533910205845,
            "count": 7
           },
           {
            "bin_end": 116.41082712816468,
            "bin_start": 58.96218051918526,
            "count": 0
           },
           {
            "bin_end": 173.8594737371441,
            "bin_start": 116.41082712816468,
            "count": 0
           },
           {
            "bin_end": 231.3081203461235,
            "bin_start": 173.8594737371441,
            "count": 0
           },
           {
            "bin_end": 288.75676695510293,
            "bin_start": 231.3081203461235,
            "count": 0
           },
           {
            "bin_end": 346.2054135640824,
            "bin_start": 288.75676695510293,
            "count": 0
           },
           {
            "bin_end": 403.6540601730618,
            "bin_start": 346.2054135640824,
            "count": 0
           },
           {
            "bin_end": 461.1027067820412,
            "bin_start": 403.6540601730618,
            "count": 0
           },
           {
            "bin_end": 518.5513533910206,
            "bin_start": 461.1027067820412,
            "count": 0
           },
           {
            "bin_end": 576,
            "bin_start": 518.5513533910206,
            "count": 1
           }
          ],
          "max": "576.0",
          "min": "1.513533910205845",
          "nan_count": 0,
          "unique_count": 8
         }
        },
        {
         "dtype": "float64",
         "name": "B365A.x",
         "stats": {
          "histogram": [
           {
            "bin_end": 58.626000000000005,
            "bin_start": 1.14,
            "count": 7
           },
           {
            "bin_end": 116.11200000000001,
            "bin_start": 58.626000000000005,
            "count": 0
           },
           {
            "bin_end": 173.598,
            "bin_start": 116.11200000000001,
            "count": 0
           },
           {
            "bin_end": 231.084,
            "bin_start": 173.598,
            "count": 0
           },
           {
            "bin_end": 288.57,
            "bin_start": 231.084,
            "count": 0
           },
           {
            "bin_end": 346.05600000000004,
            "bin_start": 288.57,
            "count": 0
           },
           {
            "bin_end": 403.54200000000003,
            "bin_start": 346.05600000000004,
            "count": 0
           },
           {
            "bin_end": 461.028,
            "bin_start": 403.54200000000003,
            "count": 0
           },
           {
            "bin_end": 518.514,
            "bin_start": 461.028,
            "count": 0
           },
           {
            "bin_end": 576,
            "bin_start": 518.514,
            "count": 1
           }
          ],
          "max": "576.0",
          "min": "1.14",
          "nan_count": 0,
          "unique_count": 8
         }
        },
        {
         "dtype": "float64",
         "name": "HtrgPerc",
         "stats": {
          "histogram": [
           {
            "bin_end": 57.6,
            "bin_start": 0,
            "count": 7
           },
           {
            "bin_end": 115.2,
            "bin_start": 57.6,
            "count": 0
           },
           {
            "bin_end": 172.8,
            "bin_start": 115.2,
            "count": 0
           },
           {
            "bin_end": 230.4,
            "bin_start": 172.8,
            "count": 0
           },
           {
            "bin_end": 288,
            "bin_start": 230.4,
            "count": 0
           },
           {
            "bin_end": 345.6,
            "bin_start": 288,
            "count": 0
           },
           {
            "bin_end": 403.2,
            "bin_start": 345.6,
            "count": 0
           },
           {
            "bin_end": 460.8,
            "bin_start": 403.2,
            "count": 0
           },
           {
            "bin_end": 518.4,
            "bin_start": 460.8,
            "count": 0
           },
           {
            "bin_end": 576,
            "bin_start": 518.4,
            "count": 1
           }
          ],
          "max": "576.0",
          "min": "0.0",
          "nan_count": 0,
          "unique_count": 8
         }
        },
        {
         "dtype": "float64",
         "name": "AtrgPerc",
         "stats": {
          "histogram": [
           {
            "bin_end": 57.6,
            "bin_start": 0,
            "count": 7
           },
           {
            "bin_end": 115.2,
            "bin_start": 57.6,
            "count": 0
           },
           {
            "bin_end": 172.8,
            "bin_start": 115.2,
            "count": 0
           },
           {
            "bin_end": 230.4,
            "bin_start": 172.8,
            "count": 0
           },
           {
            "bin_end": 288,
            "bin_start": 230.4,
            "count": 0
           },
           {
            "bin_end": 345.6,
            "bin_start": 288,
            "count": 0
           },
           {
            "bin_end": 403.2,
            "bin_start": 345.6,
            "count": 0
           },
           {
            "bin_end": 460.8,
            "bin_start": 403.2,
            "count": 0
           },
           {
            "bin_end": 518.4,
            "bin_start": 460.8,
            "count": 0
           },
           {
            "bin_end": 576,
            "bin_start": 518.4,
            "count": 1
           }
          ],
          "max": "576.0",
          "min": "0.0",
          "nan_count": 0,
          "unique_count": 8
         }
        },
        {
         "dtype": "object",
         "name": "_deepnote_index_column"
        }
       ],
       "row_count": 8,
       "rows": [
        {
         "AC.x": 576,
         "AF.x": 576,
         "AR.x": 576,
         "AS.x": 576,
         "AST.x": 576,
         "AY.x": 576,
         "AtrgPerc": 576,
         "B365A.x": 576,
         "B365D.x": 576,
         "B365H.x": 576,
         "HC.x": 576,
         "HF.x": 576,
         "HR.x": 576,
         "HS.x": 576,
         "HST.x": 576,
         "HY.x": 576,
         "HtrgPerc": 576,
         "_deepnote_index_column": "count",
         "allowed_ppda": 576,
         "deep": 576,
         "deep_allowed": 576,
         "draws": 576,
         "loses": 576,
         "matchtime": 576,
         "missed": 576,
         "npxG": 576,
         "npxGA": 576,
         "npxGD": 576,
         "ppda_cal": 576,
         "pts": 576,
         "round": 576,
         "scored": 576,
         "tot_con": 576,
         "tot_goal": 576,
         "tot_points": 576,
         "wins": 576,
         "xG": 576,
         "xGA": 576,
         "xpts": 576
        },
        {
         "AC.x": 4.916666666666667,
         "AF.x": 10.902777777777779,
         "AR.x": 0.0625,
         "AS.x": 11.416666666666666,
         "AST.x": 4.072916666666667,
         "AY.x": 1.875,
         "AtrgPerc": 0.3612573648406232,
         "B365A.x": 4.774409722222223,
         "B365D.x": 4.319618055555555,
         "B365H.x": 2.8672569444444447,
         "HC.x": 5.961805555555555,
         "HF.x": 10.277777777777779,
         "HR.x": 0.059027777777777776,
         "HS.x": 13.777777777777779,
         "HST.x": 4.697916666666667,
         "HY.x": 1.6284722222222223,
         "HtrgPerc": 0.3484476627006114,
         "_deepnote_index_column": "mean",
         "allowed_ppda": 12.302466833915068,
         "deep": 6.623263888888889,
         "deep_allowed": 6.623263888888889,
         "draws": 0.25,
         "loses": 0.375,
         "matchtime": 15.51736111111111,
         "missed": 1.3611111111111112,
         "npxG": 1.371808565798611,
         "npxGA": 1.371808565798611,
         "npxGD": 4.625929269271485e-18,
         "ppda_cal": 12.302466833915066,
         "pts": 1.375,
         "round": 14.902777777777779,
         "scored": 1.3611111111111112,
         "tot_con": 20.91840277777778,
         "tot_goal": 20.885416666666668,
         "tot_points": 20.442708333333332,
         "wins": 0.375,
         "xG": 1.4600881473958334,
         "xGA": 1.4600881473958331,
         "xpts": 1.3920065972222222
        },
        {
         "AC.x": 2.7937819154873824,
         "AF.x": 3.6968977724704013,
         "AR.x": 0.24227185592617448,
         "AS.x": 5.154314360003582,
         "AST.x": 2.521192781894764,
         "AY.x": 1.1963713252272836,
         "AtrgPerc": 0.1666365120851205,
         "B365A.x": 4.161810767965969,
         "B365D.x": 1.513533910205845,
         "B365H.x": 2.275844063570881,
         "HC.x": 3.264874915300797,
         "HF.x": 3.6278045955611886,
         "HR.x": 0.23588153089709563,
         "HS.x": 5.478107504946283,
         "HST.x": 2.4592107252743403,
         "HY.x": 1.3018335267617616,
         "HtrgPerc": 0.155324225720462,
         "_deepnote_index_column": "std",
         "allowed_ppda": 7.370681576184506,
         "deep": 4.2942323834749585,
         "deep_allowed": 4.2942323834749585,
         "draws": 0.4333890711087691,
         "loses": 0.48454371185234896,
         "matchtime": 2.1572230091279647,
         "missed": 1.207864726725486,
         "npxG": 0.8008268134409829,
         "npxGA": 0.8008268134409829,
         "npxGD": 1.3204483627317964,
         "ppda_cal": 7.370681576184507,
         "pts": 1.3181014013905858,
         "round": 8.320802172403242,
         "scored": 1.207864726725486,
         "tot_con": 12.891464309888931,
         "tot_goal": 14.257046312796257,
         "tot_points": 14.291871169365443,
         "wins": 0.48454371185234896,
         "xG": 0.8736776227204623,
         "xGA": 0.8736776227204625,
         "xpts": 0.8692737852342789
        },
        {
         "AC.x": 0,
         "AF.x": 1,
         "AR.x": 0,
         "AS.x": 2,
         "AST.x": 0,
         "AY.x": 0,
         "AtrgPerc": 0,
         "B365A.x": 1.14,
         "B365D.x": 3.1,
         "B365H.x": 1.07,
         "HC.x": 0,
         "HF.x": 0,
         "HR.x": 0,
         "HS.x": 3,
         "HST.x": 0,
         "HY.x": 0,
         "HtrgPerc": 0,
         "_deepnote_index_column": "min",
         "allowed_ppda": 3.18918918918919,
         "deep": 0,
         "deep_allowed": 0,
         "draws": 0,
         "loses": 0,
         "matchtime": 11,
         "missed": 0,
         "npxG": 0.054134,
         "npxGA": 0.054134,
         "npxGD": -5.524602,
         "ppda_cal": 3.18918918918919,
         "pts": 0,
         "round": 1,
         "scored": 0,
         "tot_con": 0,
         "tot_goal": 0,
         "tot_points": 0,
         "wins": 0,
         "xG": 0.054134,
         "xGA": 0.054134,
         "xpts": 0.0004
        },
        {
         "AC.x": 3,
         "AF.x": 8,
         "AR.x": 0,
         "AS.x": 8,
         "AST.x": 2,
         "AY.x": 1,
         "AtrgPerc": 0.25,
         "B365A.x": 2.3,
         "B365D.x": 3.4,
         "B365H.x": 1.6075000000000002,
         "HC.x": 4,
         "HF.x": 8,
         "HR.x": 0,
         "HS.x": 10,
         "HST.x": 3,
         "HY.x": 1,
         "HtrgPerc": 0.2475,
         "_deepnote_index_column": "25%",
         "allowed_ppda": 7.714743589743588,
         "deep": 4,
         "deep_allowed": 4,
         "draws": 0,
         "loses": 0,
         "matchtime": 14,
         "missed": 0,
         "npxG": 0.7840555,
         "npxGA": 0.7840555,
         "npxGD": -0.87269825,
         "ppda_cal": 7.714743589743588,
         "pts": 0,
         "round": 8,
         "scored": 0,
         "tot_con": 10,
         "tot_goal": 9,
         "tot_points": 9,
         "wins": 0,
         "xG": 0.8400335,
         "xGA": 0.8400335,
         "xpts": 0.636775
        },
        {
         "AC.x": 5,
         "AF.x": 11,
         "AR.x": 0,
         "AS.x": 11,
         "AST.x": 4,
         "AY.x": 2,
         "AtrgPerc": 0.333333333333333,
         "B365A.x": 3.3499999999999996,
         "B365D.x": 3.75,
         "B365H.x": 2.2,
         "HC.x": 5,
         "HF.x": 10,
         "HR.x": 0,
         "HS.x": 13,
         "HST.x": 5,
         "HY.x": 1,
         "HtrgPerc": 0.333333333333333,
         "_deepnote_index_column": "50%",
         "allowed_ppda": 10.183695652173899,
         "deep": 6,
         "deep_allowed": 6,
         "draws": 0,
         "loses": 0,
         "matchtime": 15,
         "missed": 1,
         "npxG": 1.23067,
         "npxGA": 1.23067,
         "npxGD": 0,
         "ppda_cal": 10.183695652173899,
         "pts": 1,
         "round": 15,
         "scored": 1,
         "tot_con": 20,
         "tot_goal": 20,
         "tot_points": 18,
         "wins": 0,
         "xG": 1.27536,
         "xGA": 1.27536,
         "xpts": 1.32135
        },
        {
         "AC.x": 7,
         "AF.x": 13,
         "AR.x": 0,
         "AS.x": 15,
         "AST.x": 5,
         "AY.x": 3,
         "AtrgPerc": 0.454545454545455,
         "B365A.x": 5.75,
         "B365D.x": 4.75,
         "B365H.x": 3.1,
         "HC.x": 8,
         "HF.x": 13,
         "HR.x": 0,
         "HS.x": 17,
         "HST.x": 6,
         "HY.x": 2,
         "HtrgPerc": 0.444444444444444,
         "_deepnote_index_column": "75%",
         "allowed_ppda": 14.439075630252075,
         "deep": 9,
         "deep_allowed": 9,
         "draws": 0.25,
         "loses": 1,
         "matchtime": 17,
         "missed": 2,
         "npxG": 1.869485,
         "npxGA": 1.869485,
         "npxGD": 0.87269825,
         "ppda_cal": 14.439075630252075,
         "pts": 3,
         "round": 22,
         "scored": 2,
         "tot_con": 30,
         "tot_goal": 29,
         "tot_points": 29,
         "wins": 1,
         "xG": 1.9735525,
         "xGA": 1.9735525,
         "xpts": 2.138725
        },
        {
         "AC.x": 16,
         "AF.x": 24,
         "AR.x": 1,
         "AS.x": 25,
         "AST.x": 15,
         "AY.x": 6,
         "AtrgPerc": 1,
         "B365A.x": 26,
         "B365D.x": 13,
         "B365H.x": 15,
         "HC.x": 17,
         "HF.x": 21,
         "HR.x": 1,
         "HS.x": 31,
         "HST.x": 13,
         "HY.x": 6,
         "HtrgPerc": 1,
         "_deepnote_index_column": "max",
         "allowed_ppda": 60,
         "deep": 31,
         "deep_allowed": 31,
         "draws": 1,
         "loses": 1,
         "matchtime": 20,
         "missed": 9,
         "npxG": 5.86932,
         "npxGA": 5.86932,
         "npxGD": 5.524602,
         "ppda_cal": 60,
         "pts": 3,
         "round": 29,
         "scored": 9,
         "tot_con": 56,
         "tot_goal": 68,
         "tot_points": 82,
         "wins": 1,
         "xG": 6.63049,
         "xGA": 6.63049,
         "xpts": 2.9992
        }
       ]
      },
      "text/html": [
       "<div>\n",
       "<style scoped>\n",
       "    .dataframe tbody tr th:only-of-type {\n",
       "        vertical-align: middle;\n",
       "    }\n",
       "\n",
       "    .dataframe tbody tr th {\n",
       "        vertical-align: top;\n",
       "    }\n",
       "\n",
       "    .dataframe thead th {\n",
       "        text-align: right;\n",
       "    }\n",
       "</style>\n",
       "<table border=\"1\" class=\"dataframe\">\n",
       "  <thead>\n",
       "    <tr style=\"text-align: right;\">\n",
       "      <th></th>\n",
       "      <th>xG</th>\n",
       "      <th>xGA</th>\n",
       "      <th>npxG</th>\n",
       "      <th>npxGA</th>\n",
       "      <th>deep</th>\n",
       "      <th>deep_allowed</th>\n",
       "      <th>scored</th>\n",
       "      <th>missed</th>\n",
       "      <th>xpts</th>\n",
       "      <th>wins</th>\n",
       "      <th>...</th>\n",
       "      <th>AST.x</th>\n",
       "      <th>AF.x</th>\n",
       "      <th>AC.x</th>\n",
       "      <th>AY.x</th>\n",
       "      <th>AR.x</th>\n",
       "      <th>B365H.x</th>\n",
       "      <th>B365D.x</th>\n",
       "      <th>B365A.x</th>\n",
       "      <th>HtrgPerc</th>\n",
       "      <th>AtrgPerc</th>\n",
       "    </tr>\n",
       "  </thead>\n",
       "  <tbody>\n",
       "    <tr>\n",
       "      <th>count</th>\n",
       "      <td>576.000000</td>\n",
       "      <td>576.000000</td>\n",
       "      <td>576.000000</td>\n",
       "      <td>576.000000</td>\n",
       "      <td>576.000000</td>\n",
       "      <td>576.000000</td>\n",
       "      <td>576.000000</td>\n",
       "      <td>576.000000</td>\n",
       "      <td>576.000000</td>\n",
       "      <td>576.000000</td>\n",
       "      <td>...</td>\n",
       "      <td>576.000000</td>\n",
       "      <td>576.000000</td>\n",
       "      <td>576.000000</td>\n",
       "      <td>576.000000</td>\n",
       "      <td>576.000000</td>\n",
       "      <td>576.000000</td>\n",
       "      <td>576.000000</td>\n",
       "      <td>576.000000</td>\n",
       "      <td>576.000000</td>\n",
       "      <td>576.000000</td>\n",
       "    </tr>\n",
       "    <tr>\n",
       "      <th>mean</th>\n",
       "      <td>1.460088</td>\n",
       "      <td>1.460088</td>\n",
       "      <td>1.371809</td>\n",
       "      <td>1.371809</td>\n",
       "      <td>6.623264</td>\n",
       "      <td>6.623264</td>\n",
       "      <td>1.361111</td>\n",
       "      <td>1.361111</td>\n",
       "      <td>1.392007</td>\n",
       "      <td>0.375000</td>\n",
       "      <td>...</td>\n",
       "      <td>4.072917</td>\n",
       "      <td>10.902778</td>\n",
       "      <td>4.916667</td>\n",
       "      <td>1.875000</td>\n",
       "      <td>0.062500</td>\n",
       "      <td>2.867257</td>\n",
       "      <td>4.319618</td>\n",
       "      <td>4.774410</td>\n",
       "      <td>0.348448</td>\n",
       "      <td>0.361257</td>\n",
       "    </tr>\n",
       "    <tr>\n",
       "      <th>std</th>\n",
       "      <td>0.873678</td>\n",
       "      <td>0.873678</td>\n",
       "      <td>0.800827</td>\n",
       "      <td>0.800827</td>\n",
       "      <td>4.294232</td>\n",
       "      <td>4.294232</td>\n",
       "      <td>1.207865</td>\n",
       "      <td>1.207865</td>\n",
       "      <td>0.869274</td>\n",
       "      <td>0.484544</td>\n",
       "      <td>...</td>\n",
       "      <td>2.521193</td>\n",
       "      <td>3.696898</td>\n",
       "      <td>2.793782</td>\n",
       "      <td>1.196371</td>\n",
       "      <td>0.242272</td>\n",
       "      <td>2.275844</td>\n",
       "      <td>1.513534</td>\n",
       "      <td>4.161811</td>\n",
       "      <td>0.155324</td>\n",
       "      <td>0.166637</td>\n",
       "    </tr>\n",
       "    <tr>\n",
       "      <th>min</th>\n",
       "      <td>0.054134</td>\n",
       "      <td>0.054134</td>\n",
       "      <td>0.054134</td>\n",
       "      <td>0.054134</td>\n",
       "      <td>0.000000</td>\n",
       "      <td>0.000000</td>\n",
       "      <td>0.000000</td>\n",
       "      <td>0.000000</td>\n",
       "      <td>0.000400</td>\n",
       "      <td>0.000000</td>\n",
       "      <td>...</td>\n",
       "      <td>0.000000</td>\n",
       "      <td>1.000000</td>\n",
       "      <td>0.000000</td>\n",
       "      <td>0.000000</td>\n",
       "      <td>0.000000</td>\n",
       "      <td>1.070000</td>\n",
       "      <td>3.100000</td>\n",
       "      <td>1.140000</td>\n",
       "      <td>0.000000</td>\n",
       "      <td>0.000000</td>\n",
       "    </tr>\n",
       "    <tr>\n",
       "      <th>25%</th>\n",
       "      <td>0.840033</td>\n",
       "      <td>0.840033</td>\n",
       "      <td>0.784056</td>\n",
       "      <td>0.784056</td>\n",
       "      <td>4.000000</td>\n",
       "      <td>4.000000</td>\n",
       "      <td>0.000000</td>\n",
       "      <td>0.000000</td>\n",
       "      <td>0.636775</td>\n",
       "      <td>0.000000</td>\n",
       "      <td>...</td>\n",
       "      <td>2.000000</td>\n",
       "      <td>8.000000</td>\n",
       "      <td>3.000000</td>\n",
       "      <td>1.000000</td>\n",
       "      <td>0.000000</td>\n",
       "      <td>1.607500</td>\n",
       "      <td>3.400000</td>\n",
       "      <td>2.300000</td>\n",
       "      <td>0.247500</td>\n",
       "      <td>0.250000</td>\n",
       "    </tr>\n",
       "    <tr>\n",
       "      <th>50%</th>\n",
       "      <td>1.275360</td>\n",
       "      <td>1.275360</td>\n",
       "      <td>1.230670</td>\n",
       "      <td>1.230670</td>\n",
       "      <td>6.000000</td>\n",
       "      <td>6.000000</td>\n",
       "      <td>1.000000</td>\n",
       "      <td>1.000000</td>\n",
       "      <td>1.321350</td>\n",
       "      <td>0.000000</td>\n",
       "      <td>...</td>\n",
       "      <td>4.000000</td>\n",
       "      <td>11.000000</td>\n",
       "      <td>5.000000</td>\n",
       "      <td>2.000000</td>\n",
       "      <td>0.000000</td>\n",
       "      <td>2.200000</td>\n",
       "      <td>3.750000</td>\n",
       "      <td>3.350000</td>\n",
       "      <td>0.333333</td>\n",
       "      <td>0.333333</td>\n",
       "    </tr>\n",
       "    <tr>\n",
       "      <th>75%</th>\n",
       "      <td>1.973553</td>\n",
       "      <td>1.973553</td>\n",
       "      <td>1.869485</td>\n",
       "      <td>1.869485</td>\n",
       "      <td>9.000000</td>\n",
       "      <td>9.000000</td>\n",
       "      <td>2.000000</td>\n",
       "      <td>2.000000</td>\n",
       "      <td>2.138725</td>\n",
       "      <td>1.000000</td>\n",
       "      <td>...</td>\n",
       "      <td>5.000000</td>\n",
       "      <td>13.000000</td>\n",
       "      <td>7.000000</td>\n",
       "      <td>3.000000</td>\n",
       "      <td>0.000000</td>\n",
       "      <td>3.100000</td>\n",
       "      <td>4.750000</td>\n",
       "      <td>5.750000</td>\n",
       "      <td>0.444444</td>\n",
       "      <td>0.454545</td>\n",
       "    </tr>\n",
       "    <tr>\n",
       "      <th>max</th>\n",
       "      <td>6.630490</td>\n",
       "      <td>6.630490</td>\n",
       "      <td>5.869320</td>\n",
       "      <td>5.869320</td>\n",
       "      <td>31.000000</td>\n",
       "      <td>31.000000</td>\n",
       "      <td>9.000000</td>\n",
       "      <td>9.000000</td>\n",
       "      <td>2.999200</td>\n",
       "      <td>1.000000</td>\n",
       "      <td>...</td>\n",
       "      <td>15.000000</td>\n",
       "      <td>24.000000</td>\n",
       "      <td>16.000000</td>\n",
       "      <td>6.000000</td>\n",
       "      <td>1.000000</td>\n",
       "      <td>15.000000</td>\n",
       "      <td>13.000000</td>\n",
       "      <td>26.000000</td>\n",
       "      <td>1.000000</td>\n",
       "      <td>1.000000</td>\n",
       "    </tr>\n",
       "  </tbody>\n",
       "</table>\n",
       "<p>8 rows × 38 columns</p>\n",
       "</div>"
      ],
      "text/plain": [
       "               xG         xGA        npxG       npxGA        deep  \\\n",
       "count  576.000000  576.000000  576.000000  576.000000  576.000000   \n",
       "mean     1.460088    1.460088    1.371809    1.371809    6.623264   \n",
       "std      0.873678    0.873678    0.800827    0.800827    4.294232   \n",
       "min      0.054134    0.054134    0.054134    0.054134    0.000000   \n",
       "25%      0.840033    0.840033    0.784056    0.784056    4.000000   \n",
       "50%      1.275360    1.275360    1.230670    1.230670    6.000000   \n",
       "75%      1.973553    1.973553    1.869485    1.869485    9.000000   \n",
       "max      6.630490    6.630490    5.869320    5.869320   31.000000   \n",
       "\n",
       "       deep_allowed      scored      missed        xpts        wins  ...  \\\n",
       "count    576.000000  576.000000  576.000000  576.000000  576.000000  ...   \n",
       "mean       6.623264    1.361111    1.361111    1.392007    0.375000  ...   \n",
       "std        4.294232    1.207865    1.207865    0.869274    0.484544  ...   \n",
       "min        0.000000    0.000000    0.000000    0.000400    0.000000  ...   \n",
       "25%        4.000000    0.000000    0.000000    0.636775    0.000000  ...   \n",
       "50%        6.000000    1.000000    1.000000    1.321350    0.000000  ...   \n",
       "75%        9.000000    2.000000    2.000000    2.138725    1.000000  ...   \n",
       "max       31.000000    9.000000    9.000000    2.999200    1.000000  ...   \n",
       "\n",
       "            AST.x        AF.x        AC.x        AY.x        AR.x     B365H.x  \\\n",
       "count  576.000000  576.000000  576.000000  576.000000  576.000000  576.000000   \n",
       "mean     4.072917   10.902778    4.916667    1.875000    0.062500    2.867257   \n",
       "std      2.521193    3.696898    2.793782    1.196371    0.242272    2.275844   \n",
       "min      0.000000    1.000000    0.000000    0.000000    0.000000    1.070000   \n",
       "25%      2.000000    8.000000    3.000000    1.000000    0.000000    1.607500   \n",
       "50%      4.000000   11.000000    5.000000    2.000000    0.000000    2.200000   \n",
       "75%      5.000000   13.000000    7.000000    3.000000    0.000000    3.100000   \n",
       "max     15.000000   24.000000   16.000000    6.000000    1.000000   15.000000   \n",
       "\n",
       "          B365D.x     B365A.x    HtrgPerc    AtrgPerc  \n",
       "count  576.000000  576.000000  576.000000  576.000000  \n",
       "mean     4.319618    4.774410    0.348448    0.361257  \n",
       "std      1.513534    4.161811    0.155324    0.166637  \n",
       "min      3.100000    1.140000    0.000000    0.000000  \n",
       "25%      3.400000    2.300000    0.247500    0.250000  \n",
       "50%      3.750000    3.350000    0.333333    0.333333  \n",
       "75%      4.750000    5.750000    0.444444    0.454545  \n",
       "max     13.000000   26.000000    1.000000    1.000000  \n",
       "\n",
       "[8 rows x 38 columns]"
      ]
     },
     "execution_count": 8,
     "metadata": {},
     "output_type": "execute_result"
    }
   ],
   "source": [
    "data.describe()"
   ]
  },
  {
   "cell_type": "code",
   "execution_count": 9,
   "metadata": {
    "cell_id": "9b82fdced4cb4f7ca9fefa52c8cf1706",
    "deepnote_cell_height": 701,
    "deepnote_cell_type": "code",
    "deepnote_to_be_reexecuted": false,
    "execution_millis": 609,
    "execution_start": 1658768386478,
    "source_hash": "957547ae",
    "tags": []
   },
   "outputs": [
    {
     "name": "stdout",
     "output_type": "stream",
     "text": [
      "<class 'pandas.core.frame.DataFrame'>\n",
      "RangeIndex: 576 entries, 0 to 575\n",
      "Data columns (total 44 columns):\n",
      " #   Column        Non-Null Count  Dtype         \n",
      "---  ------        --------------  -----         \n",
      " 0   h_a           576 non-null    object        \n",
      " 1   xG            576 non-null    float64       \n",
      " 2   xGA           576 non-null    float64       \n",
      " 3   npxG          576 non-null    float64       \n",
      " 4   npxGA         576 non-null    float64       \n",
      " 5   deep          576 non-null    int64         \n",
      " 6   deep_allowed  576 non-null    int64         \n",
      " 7   scored        576 non-null    int64         \n",
      " 8   missed        576 non-null    int64         \n",
      " 9   xpts          576 non-null    float64       \n",
      " 10  result        576 non-null    object        \n",
      " 11  date          576 non-null    datetime64[ns]\n",
      " 12  wins          576 non-null    int64         \n",
      " 13  draws         576 non-null    int64         \n",
      " 14  loses         576 non-null    int64         \n",
      " 15  pts           576 non-null    int64         \n",
      " 16  npxGD         576 non-null    float64       \n",
      " 17  teamId        576 non-null    object        \n",
      " 18  ppda_cal      576 non-null    float64       \n",
      " 19  allowed_ppda  576 non-null    float64       \n",
      " 20  matchtime     576 non-null    int64         \n",
      " 21  tot_points    576 non-null    int64         \n",
      " 22  round         576 non-null    int64         \n",
      " 23  tot_goal      576 non-null    int64         \n",
      " 24  tot_con       576 non-null    int64         \n",
      " 25  Referee.x     576 non-null    object        \n",
      " 26  HS.x          576 non-null    int64         \n",
      " 27  HST.x         576 non-null    int64         \n",
      " 28  HF.x          576 non-null    int64         \n",
      " 29  HC.x          576 non-null    int64         \n",
      " 30  HY.x          576 non-null    int64         \n",
      " 31  HR.x          576 non-null    int64         \n",
      " 32  AS.x          576 non-null    int64         \n",
      " 33  AST.x         576 non-null    int64         \n",
      " 34  AF.x          576 non-null    int64         \n",
      " 35  AC.x          576 non-null    int64         \n",
      " 36  AY.x          576 non-null    int64         \n",
      " 37  AR.x          576 non-null    int64         \n",
      " 38  B365H.x       576 non-null    float64       \n",
      " 39  B365D.x       576 non-null    float64       \n",
      " 40  B365A.x       576 non-null    float64       \n",
      " 41  HtrgPerc      576 non-null    float64       \n",
      " 42  AtrgPerc      576 non-null    float64       \n",
      " 43  matchDay      576 non-null    object        \n",
      "dtypes: datetime64[ns](1), float64(13), int64(25), object(5)\n",
      "memory usage: 198.1+ KB\n"
     ]
    }
   ],
   "source": [
    "data.info()"
   ]
  },
  {
   "cell_type": "code",
   "execution_count": 10,
   "metadata": {
    "cell_id": "ebad41819a994fc9ae88d8fe0079023d",
    "deepnote_cell_height": 708,
    "deepnote_cell_type": "code",
    "deepnote_output_heights": [
     611
    ],
    "deepnote_to_be_reexecuted": false,
    "execution_millis": 610,
    "execution_start": 1658768386479,
    "source_hash": "878de0e4",
    "tags": []
   },
   "outputs": [
    {
     "data": {
      "text/plain": [
       "h_a             0\n",
       "xG              0\n",
       "xGA             0\n",
       "npxG            0\n",
       "npxGA           0\n",
       "deep            0\n",
       "deep_allowed    0\n",
       "scored          0\n",
       "missed          0\n",
       "xpts            0\n",
       "result          0\n",
       "date            0\n",
       "wins            0\n",
       "draws           0\n",
       "loses           0\n",
       "pts             0\n",
       "npxGD           0\n",
       "teamId          0\n",
       "ppda_cal        0\n",
       "allowed_ppda    0\n",
       "matchtime       0\n",
       "tot_points      0\n",
       "round           0\n",
       "tot_goal        0\n",
       "tot_con         0\n",
       "Referee.x       0\n",
       "HS.x            0\n",
       "HST.x           0\n",
       "HF.x            0\n",
       "HC.x            0\n",
       "HY.x            0\n",
       "HR.x            0\n",
       "AS.x            0\n",
       "AST.x           0\n",
       "AF.x            0\n",
       "AC.x            0\n",
       "AY.x            0\n",
       "AR.x            0\n",
       "B365H.x         0\n",
       "B365D.x         0\n",
       "B365A.x         0\n",
       "HtrgPerc        0\n",
       "AtrgPerc        0\n",
       "matchDay        0\n",
       "dtype: int64"
      ]
     },
     "execution_count": 10,
     "metadata": {},
     "output_type": "execute_result"
    }
   ],
   "source": [
    "data.isnull().sum()"
   ]
  },
  {
   "cell_type": "markdown",
   "metadata": {
    "cell_id": "14b3da0af2f541c59d20bb415d16a792",
    "deepnote_cell_type": "text-cell-h3",
    "formattedRanges": [],
    "is_collapsed": false,
    "tags": []
   },
   "source": [
    "### Current Points Table"
   ]
  },
  {
   "cell_type": "code",
   "execution_count": 11,
   "metadata": {
    "cell_id": "63d254e404fc46deaf1effb9a376f94d",
    "deepnote_cell_height": 387,
    "deepnote_cell_type": "code",
    "deepnote_to_be_reexecuted": false,
    "execution_millis": 50,
    "execution_start": 1658768386490,
    "source_hash": "981bcb34",
    "tags": []
   },
   "outputs": [],
   "source": [
    "# Getting all the team names\n",
    "teams = data['teamId'].unique()\n",
    "\n",
    "# Creating a list of items with required data for all teams\n",
    "team_result = []\n",
    "for team in teams:\n",
    "    team_data = data[data['teamId'] == team]\n",
    "\n",
    "    wins = team_data['wins'].sum()\n",
    "    loss = team_data['loses'].sum()\n",
    "    draws = team_data['draws'].sum()\n",
    "    goals_scored = team_data['scored'].sum()\n",
    "    goals_missed = team_data['missed'].sum()\n",
    "    goal_difference = goals_scored - goals_missed\n",
    "    total_matches = wins + loss + draws\n",
    "    total_points = (3 * wins) + draws\n",
    "\n",
    "    team_result.append([team, total_matches, wins, loss, draws, goals_scored, goals_missed, goal_difference, total_points])"
   ]
  },
  {
   "cell_type": "code",
   "execution_count": 12,
   "metadata": {
    "cell_id": "1637785b30b3456bb5e278805c4eb93f",
    "deepnote_cell_height": 1097.265625,
    "deepnote_cell_type": "code",
    "deepnote_table_loading": false,
    "deepnote_table_state": {
     "filters": [],
     "pageIndex": 0,
     "pageSize": 25,
     "sortBy": []
    },
    "deepnote_to_be_reexecuted": false,
    "execution_millis": 503,
    "execution_start": 1658768386593,
    "source_hash": "5cfcb8e8",
    "tags": []
   },
   "outputs": [
    {
     "data": {
      "application/vnd.deepnote.dataframe.v3+json": {
       "column_count": 9,
       "columns": [
        {
         "dtype": "object",
         "name": "Team",
         "stats": {
          "categories": [
           {
            "count": 1,
            "name": "Liverpool"
           },
           {
            "count": 1,
            "name": "Man City"
           },
           {
            "count": 18,
            "name": "18 others"
           }
          ],
          "nan_count": 0,
          "unique_count": 20
         }
        },
        {
         "dtype": "int64",
         "name": "Matches Played",
         "stats": {
          "histogram": [
           {
            "bin_end": 28.1,
            "bin_start": 28,
            "count": 4
           },
           {
            "bin_end": 28.2,
            "bin_start": 28.1,
            "count": 0
           },
           {
            "bin_end": 28.3,
            "bin_start": 28.2,
            "count": 0
           },
           {
            "bin_end": 28.4,
            "bin_start": 28.3,
            "count": 0
           },
           {
            "bin_end": 28.5,
            "bin_start": 28.4,
            "count": 0
           },
           {
            "bin_end": 28.6,
            "bin_start": 28.5,
            "count": 0
           },
           {
            "bin_end": 28.7,
            "bin_start": 28.6,
            "count": 0
           },
           {
            "bin_end": 28.8,
            "bin_start": 28.7,
            "count": 0
           },
           {
            "bin_end": 28.9,
            "bin_start": 28.8,
            "count": 0
           },
           {
            "bin_end": 29,
            "bin_start": 28.9,
            "count": 16
           }
          ],
          "max": "29",
          "min": "28",
          "nan_count": 0,
          "unique_count": 2
         }
        },
        {
         "dtype": "int64",
         "name": "Wins",
         "stats": {
          "histogram": [
           {
            "bin_end": 7.2,
            "bin_start": 5,
            "count": 6
           },
           {
            "bin_end": 9.4,
            "bin_start": 7.2,
            "count": 2
           },
           {
            "bin_end": 11.600000000000001,
            "bin_start": 9.4,
            "count": 7
           },
           {
            "bin_end": 13.8,
            "bin_start": 11.600000000000001,
            "count": 1
           },
           {
            "bin_end": 16,
            "bin_start": 13.8,
            "count": 1
           },
           {
            "bin_end": 18.200000000000003,
            "bin_start": 16,
            "count": 2
           },
           {
            "bin_end": 20.400000000000002,
            "bin_start": 18.200000000000003,
            "count": 0
           },
           {
            "bin_end": 22.6,
            "bin_start": 20.400000000000002,
            "count": 0
           },
           {
            "bin_end": 24.8,
            "bin_start": 22.6,
            "count": 0
           },
           {
            "bin_end": 27,
            "bin_start": 24.8,
            "count": 1
           }
          ],
          "max": "27",
          "min": "5",
          "nan_count": 0,
          "unique_count": 11
         }
        },
        {
         "dtype": "int64",
         "name": "Losses",
         "stats": {
          "histogram": [
           {
            "bin_end": 2.7,
            "bin_start": 1,
            "count": 1
           },
           {
            "bin_end": 4.4,
            "bin_start": 2.7,
            "count": 0
           },
           {
            "bin_end": 6.1,
            "bin_start": 4.4,
            "count": 2
           },
           {
            "bin_end": 7.8,
            "bin_start": 6.1,
            "count": 2
           },
           {
            "bin_end": 9.5,
            "bin_start": 7.8,
            "count": 3
           },
           {
            "bin_end": 11.2,
            "bin_start": 9.5,
            "count": 2
           },
           {
            "bin_end": 12.9,
            "bin_start": 11.2,
            "count": 4
           },
           {
            "bin_end": 14.6,
            "bin_start": 12.9,
            "count": 1
           },
           {
            "bin_end": 16.299999999999997,
            "bin_start": 14.6,
            "count": 3
           },
           {
            "bin_end": 18,
            "bin_start": 16.299999999999997,
            "count": 2
           }
          ],
          "max": "18",
          "min": "1",
          "nan_count": 0,
          "unique_count": 12
         }
        },
        {
         "dtype": "int64",
         "name": "Draws",
         "stats": {
          "histogram": [
           {
            "bin_end": 2.2,
            "bin_start": 1,
            "count": 1
           },
           {
            "bin_end": 3.4,
            "bin_start": 2.2,
            "count": 1
           },
           {
            "bin_end": 4.6,
            "bin_start": 3.4,
            "count": 2
           },
           {
            "bin_end": 5.8,
            "bin_start": 4.6,
            "count": 1
           },
           {
            "bin_end": 7,
            "bin_start": 5.8,
            "count": 5
           },
           {
            "bin_end": 8.2,
            "bin_start": 7,
            "count": 3
           },
           {
            "bin_end": 9.4,
            "bin_start": 8.2,
            "count": 3
           },
           {
            "bin_end": 10.6,
            "bin_start": 9.4,
            "count": 1
           },
           {
            "bin_end": 11.799999999999999,
            "bin_start": 10.6,
            "count": 1
           },
           {
            "bin_end": 13,
            "bin_start": 11.799999999999999,
            "count": 2
           }
          ],
          "max": "13",
          "min": "1",
          "nan_count": 0,
          "unique_count": 11
         }
        },
        {
         "dtype": "int64",
         "name": "Goals Scored",
         "stats": {
          "histogram": [
           {
            "bin_end": 29.3,
            "bin_start": 25,
            "count": 5
           },
           {
            "bin_end": 33.6,
            "bin_start": 29.3,
            "count": 2
           },
           {
            "bin_end": 37.9,
            "bin_start": 33.6,
            "count": 5
           },
           {
            "bin_end": 42.2,
            "bin_start": 37.9,
            "count": 2
           },
           {
            "bin_end": 46.5,
            "bin_start": 42.2,
            "count": 1
           },
           {
            "bin_end": 50.8,
            "bin_start": 46.5,
            "count": 1
           },
           {
            "bin_end": 55.099999999999994,
            "bin_start": 50.8,
            "count": 1
           },
           {
            "bin_end": 59.4,
            "bin_start": 55.099999999999994,
            "count": 1
           },
           {
            "bin_end": 63.699999999999996,
            "bin_start": 59.4,
            "count": 0
           },
           {
            "bin_end": 68,
            "bin_start": 63.699999999999996,
            "count": 2
           }
          ],
          "max": "68",
          "min": "25",
          "nan_count": 0,
          "unique_count": 17
         }
        },
        {
         "dtype": "int64",
         "name": "Goals Missed",
         "stats": {
          "histogram": [
           {
            "bin_end": 24.5,
            "bin_start": 21,
            "count": 1
           },
           {
            "bin_end": 28,
            "bin_start": 24.5,
            "count": 1
           },
           {
            "bin_end": 31.5,
            "bin_start": 28,
            "count": 3
           },
           {
            "bin_end": 35,
            "bin_start": 31.5,
            "count": 2
           },
           {
            "bin_end": 38.5,
            "bin_start": 35,
            "count": 1
           },
           {
            "bin_end": 42,
            "bin_start": 38.5,
            "count": 5
           },
           {
            "bin_end": 45.5,
            "bin_start": 42,
            "count": 1
           },
           {
            "bin_end": 49,
            "bin_start": 45.5,
            "count": 2
           },
           {
            "bin_end": 52.5,
            "bin_start": 49,
            "count": 3
           },
           {
            "bin_end": 56,
            "bin_start": 52.5,
            "count": 1
           }
          ],
          "max": "56",
          "min": "21",
          "nan_count": 0,
          "unique_count": 17
         }
        },
        {
         "dtype": "int64",
         "name": "Goal Difference",
         "stats": {
          "histogram": [
           {
            "bin_end": -19.8,
            "bin_start": -27,
            "count": 2
           },
           {
            "bin_end": -12.6,
            "bin_start": -19.8,
            "count": 5
           },
           {
            "bin_end": -5.399999999999999,
            "bin_start": -12.6,
            "count": 4
           },
           {
            "bin_end": 1.8000000000000007,
            "bin_start": -5.399999999999999,
            "count": 0
           },
           {
            "bin_end": 9,
            "bin_start": 1.8000000000000007,
            "count": 4
           },
           {
            "bin_end": 16.200000000000003,
            "bin_start": 9,
            "count": 2
           },
           {
            "bin_end": 23.4,
            "bin_start": 16.200000000000003,
            "count": 0
           },
           {
            "bin_end": 30.6,
            "bin_start": 23.4,
            "count": 1
           },
           {
            "bin_end": 37.8,
            "bin_start": 30.6,
            "count": 1
           },
           {
            "bin_end": 45,
            "bin_start": 37.8,
            "count": 1
           }
          ],
          "max": "45",
          "min": "-27",
          "nan_count": 0,
          "unique_count": 17
         }
        },
        {
         "dtype": "int64",
         "name": "Points",
         "stats": {
          "histogram": [
           {
            "bin_end": 27.1,
            "bin_start": 21,
            "count": 5
           },
           {
            "bin_end": 33.2,
            "bin_start": 27.1,
            "count": 1
           },
           {
            "bin_end": 39.3,
            "bin_start": 33.2,
            "count": 5
           },
           {
            "bin_end": 45.4,
            "bin_start": 39.3,
            "count": 5
           },
           {
            "bin_end": 51.5,
            "bin_start": 45.4,
            "count": 1
           },
           {
            "bin_end": 57.599999999999994,
            "bin_start": 51.5,
            "count": 2
           },
           {
            "bin_end": 63.699999999999996,
            "bin_start": 57.599999999999994,
            "count": 0
           },
           {
            "bin_end": 69.8,
            "bin_start": 63.699999999999996,
            "count": 0
           },
           {
            "bin_end": 75.9,
            "bin_start": 69.8,
            "count": 0
           },
           {
            "bin_end": 82,
            "bin_start": 75.9,
            "count": 1
           }
          ],
          "max": "82",
          "min": "21",
          "nan_count": 0,
          "unique_count": 16
         }
        },
        {
         "dtype": "int64",
         "name": "_deepnote_index_column"
        }
       ],
       "row_count": 20,
       "rows": [
        {
         "Draws": 1,
         "Goal Difference": 45,
         "Goals Missed": 21,
         "Goals Scored": 66,
         "Losses": 1,
         "Matches Played": 29,
         "Points": 82,
         "Team": "Liverpool",
         "Wins": 27,
         "_deepnote_index_column": 1
        },
        {
         "Draws": 3,
         "Goal Difference": 37,
         "Goals Missed": 31,
         "Goals Scored": 68,
         "Losses": 7,
         "Matches Played": 28,
         "Points": 57,
         "Team": "Man City",
         "Wins": 18,
         "_deepnote_index_column": 2
        },
        {
         "Draws": 5,
         "Goal Difference": 30,
         "Goals Missed": 28,
         "Goals Scored": 58,
         "Losses": 8,
         "Matches Played": 29,
         "Points": 53,
         "Team": "Leicester",
         "Wins": 16,
         "_deepnote_index_column": 3
        },
        {
         "Draws": 6,
         "Goal Difference": 12,
         "Goals Missed": 39,
         "Goals Scored": 51,
         "Losses": 9,
         "Matches Played": 29,
         "Points": 48,
         "Team": "Chelsea",
         "Wins": 14,
         "_deepnote_index_column": 4
        },
        {
         "Draws": 9,
         "Goal Difference": 14,
         "Goals Missed": 30,
         "Goals Scored": 44,
         "Losses": 8,
         "Matches Played": 29,
         "Points": 45,
         "Team": "Man Utd",
         "Wins": 12,
         "_deepnote_index_column": 5
        },
        {
         "Draws": 13,
         "Goal Difference": 7,
         "Goals Missed": 34,
         "Goals Scored": 41,
         "Losses": 6,
         "Matches Played": 29,
         "Points": 43,
         "Team": "Wolves",
         "Wins": 10,
         "_deepnote_index_column": 6
        },
        {
         "Draws": 10,
         "Goal Difference": 5,
         "Goals Missed": 25,
         "Goals Scored": 30,
         "Losses": 7,
         "Matches Played": 28,
         "Points": 43,
         "Team": "Sheffield United",
         "Wins": 11,
         "_deepnote_index_column": 7
        },
        {
         "Draws": 8,
         "Goal Difference": 7,
         "Goals Missed": 40,
         "Goals Scored": 47,
         "Losses": 10,
         "Matches Played": 29,
         "Points": 41,
         "Team": "Tottenham",
         "Wins": 11,
         "_deepnote_index_column": 8
        },
        {
         "Draws": 13,
         "Goal Difference": 4,
         "Goals Missed": 36,
         "Goals Scored": 40,
         "Losses": 6,
         "Matches Played": 28,
         "Points": 40,
         "Team": "Arsenal",
         "Wins": 9,
         "_deepnote_index_column": 9
        },
        {
         "Draws": 6,
         "Goal Difference": -6,
         "Goals Missed": 40,
         "Goals Scored": 34,
         "Losses": 12,
         "Matches Played": 29,
         "Points": 39,
         "Team": "Burnley",
         "Wins": 11,
         "_deepnote_index_column": 10
        },
        {
         "Draws": 9,
         "Goal Difference": -6,
         "Goals Missed": 32,
         "Goals Scored": 26,
         "Losses": 10,
         "Matches Played": 29,
         "Points": 39,
         "Team": "Crystal Palace",
         "Wins": 10,
         "_deepnote_index_column": 11
        },
        {
         "Draws": 7,
         "Goal Difference": -9,
         "Goals Missed": 46,
         "Goals Scored": 37,
         "Losses": 12,
         "Matches Played": 29,
         "Points": 37,
         "Team": "Everton",
         "Wins": 10,
         "_deepnote_index_column": 12
        },
        {
         "Draws": 8,
         "Goal Difference": -16,
         "Goals Missed": 41,
         "Goals Scored": 25,
         "Losses": 12,
         "Matches Played": 29,
         "Points": 35,
         "Team": "Newcastle United",
         "Wins": 9,
         "_deepnote_index_column": 13
        },
        {
         "Draws": 4,
         "Goal Difference": -17,
         "Goals Missed": 52,
         "Goals Scored": 35,
         "Losses": 15,
         "Matches Played": 29,
         "Points": 34,
         "Team": "Southampton",
         "Wins": 10,
         "_deepnote_index_column": 14
        },
        {
         "Draws": 11,
         "Goal Difference": -8,
         "Goals Missed": 40,
         "Goals Scored": 32,
         "Losses": 12,
         "Matches Played": 29,
         "Points": 29,
         "Team": "Brighton",
         "Wins": 6,
         "_deepnote_index_column": 15
        },
        {
         "Draws": 6,
         "Goal Difference": -15,
         "Goals Missed": 50,
         "Goals Scored": 35,
         "Losses": 16,
         "Matches Played": 29,
         "Points": 27,
         "Team": "West Ham",
         "Wins": 7,
         "_deepnote_index_column": 16
        },
        {
         "Draws": 9,
         "Goal Difference": -17,
         "Goals Missed": 44,
         "Goals Scored": 27,
         "Losses": 14,
         "Matches Played": 29,
         "Points": 27,
         "Team": "Watford",
         "Wins": 6,
         "_deepnote_index_column": 17
        },
        {
         "Draws": 6,
         "Goal Difference": -18,
         "Goals Missed": 47,
         "Goals Scored": 29,
         "Losses": 16,
         "Matches Played": 29,
         "Points": 27,
         "Team": "Bournemouth",
         "Wins": 7,
         "_deepnote_index_column": 18
        },
        {
         "Draws": 4,
         "Goal Difference": -22,
         "Goals Missed": 56,
         "Goals Scored": 34,
         "Losses": 17,
         "Matches Played": 28,
         "Points": 25,
         "Team": "Aston Villa",
         "Wins": 7,
         "_deepnote_index_column": 19
        },
        {
         "Draws": 6,
         "Goal Difference": -27,
         "Goals Missed": 52,
         "Goals Scored": 25,
         "Losses": 18,
         "Matches Played": 29,
         "Points": 21,
         "Team": "Norwich",
         "Wins": 5,
         "_deepnote_index_column": 20
        }
       ]
      },
      "text/html": [
       "<div>\n",
       "<style scoped>\n",
       "    .dataframe tbody tr th:only-of-type {\n",
       "        vertical-align: middle;\n",
       "    }\n",
       "\n",
       "    .dataframe tbody tr th {\n",
       "        vertical-align: top;\n",
       "    }\n",
       "\n",
       "    .dataframe thead th {\n",
       "        text-align: right;\n",
       "    }\n",
       "</style>\n",
       "<table border=\"1\" class=\"dataframe\">\n",
       "  <thead>\n",
       "    <tr style=\"text-align: right;\">\n",
       "      <th></th>\n",
       "      <th>Team</th>\n",
       "      <th>Matches Played</th>\n",
       "      <th>Wins</th>\n",
       "      <th>Losses</th>\n",
       "      <th>Draws</th>\n",
       "      <th>Goals Scored</th>\n",
       "      <th>Goals Missed</th>\n",
       "      <th>Goal Difference</th>\n",
       "      <th>Points</th>\n",
       "    </tr>\n",
       "  </thead>\n",
       "  <tbody>\n",
       "    <tr>\n",
       "      <th>1</th>\n",
       "      <td>Liverpool</td>\n",
       "      <td>29</td>\n",
       "      <td>27</td>\n",
       "      <td>1</td>\n",
       "      <td>1</td>\n",
       "      <td>66</td>\n",
       "      <td>21</td>\n",
       "      <td>45</td>\n",
       "      <td>82</td>\n",
       "    </tr>\n",
       "    <tr>\n",
       "      <th>2</th>\n",
       "      <td>Man City</td>\n",
       "      <td>28</td>\n",
       "      <td>18</td>\n",
       "      <td>7</td>\n",
       "      <td>3</td>\n",
       "      <td>68</td>\n",
       "      <td>31</td>\n",
       "      <td>37</td>\n",
       "      <td>57</td>\n",
       "    </tr>\n",
       "    <tr>\n",
       "      <th>3</th>\n",
       "      <td>Leicester</td>\n",
       "      <td>29</td>\n",
       "      <td>16</td>\n",
       "      <td>8</td>\n",
       "      <td>5</td>\n",
       "      <td>58</td>\n",
       "      <td>28</td>\n",
       "      <td>30</td>\n",
       "      <td>53</td>\n",
       "    </tr>\n",
       "    <tr>\n",
       "      <th>4</th>\n",
       "      <td>Chelsea</td>\n",
       "      <td>29</td>\n",
       "      <td>14</td>\n",
       "      <td>9</td>\n",
       "      <td>6</td>\n",
       "      <td>51</td>\n",
       "      <td>39</td>\n",
       "      <td>12</td>\n",
       "      <td>48</td>\n",
       "    </tr>\n",
       "    <tr>\n",
       "      <th>5</th>\n",
       "      <td>Man Utd</td>\n",
       "      <td>29</td>\n",
       "      <td>12</td>\n",
       "      <td>8</td>\n",
       "      <td>9</td>\n",
       "      <td>44</td>\n",
       "      <td>30</td>\n",
       "      <td>14</td>\n",
       "      <td>45</td>\n",
       "    </tr>\n",
       "    <tr>\n",
       "      <th>6</th>\n",
       "      <td>Wolves</td>\n",
       "      <td>29</td>\n",
       "      <td>10</td>\n",
       "      <td>6</td>\n",
       "      <td>13</td>\n",
       "      <td>41</td>\n",
       "      <td>34</td>\n",
       "      <td>7</td>\n",
       "      <td>43</td>\n",
       "    </tr>\n",
       "    <tr>\n",
       "      <th>7</th>\n",
       "      <td>Sheffield United</td>\n",
       "      <td>28</td>\n",
       "      <td>11</td>\n",
       "      <td>7</td>\n",
       "      <td>10</td>\n",
       "      <td>30</td>\n",
       "      <td>25</td>\n",
       "      <td>5</td>\n",
       "      <td>43</td>\n",
       "    </tr>\n",
       "    <tr>\n",
       "      <th>8</th>\n",
       "      <td>Tottenham</td>\n",
       "      <td>29</td>\n",
       "      <td>11</td>\n",
       "      <td>10</td>\n",
       "      <td>8</td>\n",
       "      <td>47</td>\n",
       "      <td>40</td>\n",
       "      <td>7</td>\n",
       "      <td>41</td>\n",
       "    </tr>\n",
       "    <tr>\n",
       "      <th>9</th>\n",
       "      <td>Arsenal</td>\n",
       "      <td>28</td>\n",
       "      <td>9</td>\n",
       "      <td>6</td>\n",
       "      <td>13</td>\n",
       "      <td>40</td>\n",
       "      <td>36</td>\n",
       "      <td>4</td>\n",
       "      <td>40</td>\n",
       "    </tr>\n",
       "    <tr>\n",
       "      <th>10</th>\n",
       "      <td>Burnley</td>\n",
       "      <td>29</td>\n",
       "      <td>11</td>\n",
       "      <td>12</td>\n",
       "      <td>6</td>\n",
       "      <td>34</td>\n",
       "      <td>40</td>\n",
       "      <td>-6</td>\n",
       "      <td>39</td>\n",
       "    </tr>\n",
       "    <tr>\n",
       "      <th>11</th>\n",
       "      <td>Crystal Palace</td>\n",
       "      <td>29</td>\n",
       "      <td>10</td>\n",
       "      <td>10</td>\n",
       "      <td>9</td>\n",
       "      <td>26</td>\n",
       "      <td>32</td>\n",
       "      <td>-6</td>\n",
       "      <td>39</td>\n",
       "    </tr>\n",
       "    <tr>\n",
       "      <th>12</th>\n",
       "      <td>Everton</td>\n",
       "      <td>29</td>\n",
       "      <td>10</td>\n",
       "      <td>12</td>\n",
       "      <td>7</td>\n",
       "      <td>37</td>\n",
       "      <td>46</td>\n",
       "      <td>-9</td>\n",
       "      <td>37</td>\n",
       "    </tr>\n",
       "    <tr>\n",
       "      <th>13</th>\n",
       "      <td>Newcastle United</td>\n",
       "      <td>29</td>\n",
       "      <td>9</td>\n",
       "      <td>12</td>\n",
       "      <td>8</td>\n",
       "      <td>25</td>\n",
       "      <td>41</td>\n",
       "      <td>-16</td>\n",
       "      <td>35</td>\n",
       "    </tr>\n",
       "    <tr>\n",
       "      <th>14</th>\n",
       "      <td>Southampton</td>\n",
       "      <td>29</td>\n",
       "      <td>10</td>\n",
       "      <td>15</td>\n",
       "      <td>4</td>\n",
       "      <td>35</td>\n",
       "      <td>52</td>\n",
       "      <td>-17</td>\n",
       "      <td>34</td>\n",
       "    </tr>\n",
       "    <tr>\n",
       "      <th>15</th>\n",
       "      <td>Brighton</td>\n",
       "      <td>29</td>\n",
       "      <td>6</td>\n",
       "      <td>12</td>\n",
       "      <td>11</td>\n",
       "      <td>32</td>\n",
       "      <td>40</td>\n",
       "      <td>-8</td>\n",
       "      <td>29</td>\n",
       "    </tr>\n",
       "    <tr>\n",
       "      <th>16</th>\n",
       "      <td>West Ham</td>\n",
       "      <td>29</td>\n",
       "      <td>7</td>\n",
       "      <td>16</td>\n",
       "      <td>6</td>\n",
       "      <td>35</td>\n",
       "      <td>50</td>\n",
       "      <td>-15</td>\n",
       "      <td>27</td>\n",
       "    </tr>\n",
       "    <tr>\n",
       "      <th>17</th>\n",
       "      <td>Watford</td>\n",
       "      <td>29</td>\n",
       "      <td>6</td>\n",
       "      <td>14</td>\n",
       "      <td>9</td>\n",
       "      <td>27</td>\n",
       "      <td>44</td>\n",
       "      <td>-17</td>\n",
       "      <td>27</td>\n",
       "    </tr>\n",
       "    <tr>\n",
       "      <th>18</th>\n",
       "      <td>Bournemouth</td>\n",
       "      <td>29</td>\n",
       "      <td>7</td>\n",
       "      <td>16</td>\n",
       "      <td>6</td>\n",
       "      <td>29</td>\n",
       "      <td>47</td>\n",
       "      <td>-18</td>\n",
       "      <td>27</td>\n",
       "    </tr>\n",
       "    <tr>\n",
       "      <th>19</th>\n",
       "      <td>Aston Villa</td>\n",
       "      <td>28</td>\n",
       "      <td>7</td>\n",
       "      <td>17</td>\n",
       "      <td>4</td>\n",
       "      <td>34</td>\n",
       "      <td>56</td>\n",
       "      <td>-22</td>\n",
       "      <td>25</td>\n",
       "    </tr>\n",
       "    <tr>\n",
       "      <th>20</th>\n",
       "      <td>Norwich</td>\n",
       "      <td>29</td>\n",
       "      <td>5</td>\n",
       "      <td>18</td>\n",
       "      <td>6</td>\n",
       "      <td>25</td>\n",
       "      <td>52</td>\n",
       "      <td>-27</td>\n",
       "      <td>21</td>\n",
       "    </tr>\n",
       "  </tbody>\n",
       "</table>\n",
       "</div>"
      ],
      "text/plain": [
       "                Team  Matches Played  Wins  Losses  Draws  Goals Scored  \\\n",
       "1          Liverpool              29    27       1      1            66   \n",
       "2           Man City              28    18       7      3            68   \n",
       "3          Leicester              29    16       8      5            58   \n",
       "4            Chelsea              29    14       9      6            51   \n",
       "5            Man Utd              29    12       8      9            44   \n",
       "6             Wolves              29    10       6     13            41   \n",
       "7   Sheffield United              28    11       7     10            30   \n",
       "8          Tottenham              29    11      10      8            47   \n",
       "9            Arsenal              28     9       6     13            40   \n",
       "10           Burnley              29    11      12      6            34   \n",
       "11    Crystal Palace              29    10      10      9            26   \n",
       "12           Everton              29    10      12      7            37   \n",
       "13  Newcastle United              29     9      12      8            25   \n",
       "14       Southampton              29    10      15      4            35   \n",
       "15          Brighton              29     6      12     11            32   \n",
       "16          West Ham              29     7      16      6            35   \n",
       "17           Watford              29     6      14      9            27   \n",
       "18       Bournemouth              29     7      16      6            29   \n",
       "19       Aston Villa              28     7      17      4            34   \n",
       "20           Norwich              29     5      18      6            25   \n",
       "\n",
       "    Goals Missed  Goal Difference  Points  \n",
       "1             21               45      82  \n",
       "2             31               37      57  \n",
       "3             28               30      53  \n",
       "4             39               12      48  \n",
       "5             30               14      45  \n",
       "6             34                7      43  \n",
       "7             25                5      43  \n",
       "8             40                7      41  \n",
       "9             36                4      40  \n",
       "10            40               -6      39  \n",
       "11            32               -6      39  \n",
       "12            46               -9      37  \n",
       "13            41              -16      35  \n",
       "14            52              -17      34  \n",
       "15            40               -8      29  \n",
       "16            50              -15      27  \n",
       "17            44              -17      27  \n",
       "18            47              -18      27  \n",
       "19            56              -22      25  \n",
       "20            52              -27      21  "
      ]
     },
     "execution_count": 12,
     "metadata": {},
     "output_type": "execute_result"
    }
   ],
   "source": [
    "cols = ['Team', 'Matches Played', 'Wins', 'Losses', 'Draws', 'Goals Scored', 'Goals Missed', 'Goal Difference', 'Points']\n",
    "points_table = pd.DataFrame(team_result, columns = cols)\n",
    "points_table = points_table.sort_values(by=['Points', 'Matches Played', 'Goal Difference'], ascending = False, ignore_index = True)\n",
    "points_table.set_index(np.array(range(1, 21)), inplace=True)\n",
    "points_table.head(20)"
   ]
  },
  {
   "cell_type": "code",
   "execution_count": 13,
   "metadata": {
    "allow_embed": "code_output",
    "cell_id": "bf2db284102141a4a16b67db82b01a44",
    "deepnote_cell_height": 81,
    "deepnote_cell_type": "code",
    "deepnote_to_be_reexecuted": false,
    "execution_millis": 8,
    "execution_start": 1658768386608,
    "source_hash": "d01fec82",
    "tags": []
   },
   "outputs": [],
   "source": [
    "# dfi.export(points_table.style.background_gradient(), \"mytable.png\")"
   ]
  },
  {
   "cell_type": "markdown",
   "metadata": {
    "cell_id": "08b4e59dbbe34d18a90eee85e6c18a54",
    "deepnote_cell_type": "text-cell-h3",
    "formattedRanges": [],
    "is_collapsed": false,
    "tags": []
   },
   "source": [
    "### Encoding\n",
    "\n",
    "- Home -> 1\n",
    "- Away -> 0"
   ]
  },
  {
   "cell_type": "code",
   "execution_count": 14,
   "metadata": {
    "cell_id": "5bffce8ce6fc4f43959650f5ffb0d7ec",
    "deepnote_cell_height": 111.90625,
    "deepnote_cell_type": "code",
    "deepnote_to_be_reexecuted": false,
    "execution_millis": 2,
    "execution_start": 1658768386623,
    "source_hash": "24bab836",
    "tags": []
   },
   "outputs": [
    {
     "name": "stdout",
     "output_type": "stream",
     "text": [
      "[ 1  2  3  4  5  6  7  8  9 10 11 12 13 14 15 16 17 18 19 20]\n"
     ]
    }
   ],
   "source": [
    "print(np.array(range(1, 21)))"
   ]
  },
  {
   "cell_type": "code",
   "execution_count": 15,
   "metadata": {
    "cell_id": "f1165cf782e44d8092077e8bc28931da",
    "deepnote_cell_height": 572.84375,
    "deepnote_cell_type": "code",
    "deepnote_output_heights": [
     385.859375
    ],
    "deepnote_to_be_reexecuted": false,
    "execution_millis": 428,
    "execution_start": 1658768386675,
    "source_hash": "a7bf20b4",
    "tags": []
   },
   "outputs": [
    {
     "data": {
      "text/plain": [
       "{'Liverpool': 1,\n",
       " 'Norwich': 2,\n",
       " 'Man City': 3,\n",
       " 'West Ham': 4,\n",
       " 'Bournemouth': 5,\n",
       " 'Brighton': 6,\n",
       " 'Burnley': 7,\n",
       " 'Crystal Palace': 8,\n",
       " 'Everton': 9,\n",
       " 'Sheffield United': 10,\n",
       " 'Southampton': 11,\n",
       " 'Watford': 12,\n",
       " 'Aston Villa': 13,\n",
       " 'Tottenham': 14,\n",
       " 'Arsenal': 15,\n",
       " 'Leicester': 16,\n",
       " 'Newcastle United': 17,\n",
       " 'Wolves': 18,\n",
       " 'Chelsea': 19,\n",
       " 'Man Utd': 20}"
      ]
     },
     "execution_count": 15,
     "metadata": {},
     "output_type": "execute_result"
    }
   ],
   "source": [
    "teams_list = list(teams)\n",
    "string_equivalent = list(np.array(range(1, 21)))\n",
    "\n",
    "team_equivalent = zip(teams_list, string_equivalent)\n",
    "team_equivalent = dict(team_equivalent)\n",
    "team_equivalent"
   ]
  },
  {
   "cell_type": "code",
   "execution_count": 16,
   "metadata": {
    "cell_id": "954755f7b6e54266a60360077b9b643a",
    "deepnote_cell_height": 99,
    "deepnote_cell_type": "code",
    "deepnote_output_heights": [
     232.3125
    ],
    "deepnote_to_be_reexecuted": false,
    "execution_millis": 432,
    "execution_start": 1658768386676,
    "owner_user_id": "f170a3ff-fc6f-456c-bee0-7b2b60ceeda0",
    "source_hash": "f560be97",
    "tags": []
   },
   "outputs": [],
   "source": [
    "data['h_a'] = data['h_a'].apply(lambda x: 1 if x == 'h' else 0)\n",
    "data['result'] = data['result'].apply(lambda x: 1 if x == 'w' else (0 if x == 'd' else -1))"
   ]
  },
  {
   "cell_type": "markdown",
   "metadata": {
    "cell_id": "6c227556a29c4ae1ac231399acaae5b5",
    "deepnote_cell_type": "text-cell-h3",
    "formattedRanges": [],
    "is_collapsed": false,
    "tags": []
   },
   "source": [
    "### Scaling Value"
   ]
  },
  {
   "cell_type": "code",
   "execution_count": 17,
   "metadata": {
    "cell_id": "823f5398dcfe482ebdc68e44788773b5",
    "deepnote_cell_height": 117,
    "deepnote_cell_type": "code",
    "deepnote_to_be_reexecuted": false,
    "execution_millis": 1,
    "execution_start": 1658768386676,
    "source_hash": "51b59b77",
    "tags": []
   },
   "outputs": [],
   "source": [
    "scaler = MinMaxScaler()\n",
    "\n",
    "data[['xG', 'xGA', 'HS.x', 'HST.x', 'HF.x', 'HC.x', 'HY.x', 'AS.x', 'AST.x', 'AF.x', 'AC.x', 'AY.x']] = scaler.fit_transform(data[['xG', 'xGA', 'HS.x', 'HST.x', 'HF.x', 'HC.x', 'HY.x', 'AS.x', 'AST.x', 'AF.x', 'AC.x', 'AY.x']])"
   ]
  },
  {
   "cell_type": "markdown",
   "metadata": {
    "cell_id": "c0175ef8634847db97e9a7f2cbb63045",
    "deepnote_cell_type": "text-cell-h3",
    "formattedRanges": [],
    "is_collapsed": false,
    "tags": []
   },
   "source": [
    "### Expected Points"
   ]
  },
  {
   "cell_type": "code",
   "execution_count": 18,
   "metadata": {
    "cell_id": "40c9ff99a9a1455cbedfe3b0945d7928",
    "deepnote_cell_height": 279,
    "deepnote_cell_type": "code",
    "deepnote_table_loading": false,
    "deepnote_table_state": {
     "filters": [],
     "pageIndex": 0,
     "pageSize": 25,
     "sortBy": []
    },
    "deepnote_to_be_reexecuted": false,
    "execution_millis": 1,
    "execution_start": 1658768386717,
    "source_hash": "7ab1127e",
    "tags": []
   },
   "outputs": [],
   "source": [
    "team_expected_points = []\n",
    "for team in teams:\n",
    "    team_data = data[data['teamId'] == team]\n",
    "\n",
    "    exp_pts = round(team_data['xpts'].sum(), 2)\n",
    "\n",
    "    team_expected_points.append([team, exp_pts])\n",
    "\n",
    "team_expected_points = pd.DataFrame(team_expected_points, columns=['Team', 'Expected Points'])\n",
    "team_expected_points.sort_values(by = ['Expected Points'], ascending = False, inplace = True, ignore_index = True)\n",
    "team_expected_points.set_index(np.array(range(1, 21)), inplace=True)\n",
    "# team_expected_points.head(20)"
   ]
  },
  {
   "cell_type": "markdown",
   "metadata": {
    "cell_id": "a1ee3a29c99248b6a3e1e519f0051722",
    "deepnote_cell_type": "text-cell-h3",
    "formattedRanges": [],
    "is_collapsed": false,
    "tags": []
   },
   "source": [
    "### Teams Performance"
   ]
  },
  {
   "cell_type": "code",
   "execution_count": 19,
   "metadata": {
    "cell_id": "980ea9fb7ead492791cecd89d01084d9",
    "deepnote_cell_height": 1244,
    "deepnote_cell_type": "code",
    "deepnote_table_loading": false,
    "deepnote_table_state": {
     "filters": [],
     "pageIndex": 0,
     "pageSize": 25,
     "sortBy": []
    },
    "deepnote_to_be_reexecuted": false,
    "execution_millis": 410,
    "execution_start": 1658768386718,
    "source_hash": "706f41d1",
    "tags": []
   },
   "outputs": [
    {
     "data": {
      "application/vnd.deepnote.dataframe.v3+json": {
       "column_count": 4,
       "columns": [
        {
         "dtype": "object",
         "name": "Team",
         "stats": {
          "categories": [
           {
            "count": 1,
            "name": "Liverpool"
           },
           {
            "count": 1,
            "name": "Man City"
           },
           {
            "count": 18,
            "name": "18 others"
           }
          ],
          "nan_count": 0,
          "unique_count": 20
         }
        },
        {
         "dtype": "int64",
         "name": "Actual Position",
         "stats": {
          "histogram": [
           {
            "bin_end": 2.9,
            "bin_start": 1,
            "count": 2
           },
           {
            "bin_end": 4.8,
            "bin_start": 2.9,
            "count": 2
           },
           {
            "bin_end": 6.699999999999999,
            "bin_start": 4.8,
            "count": 2
           },
           {
            "bin_end": 8.6,
            "bin_start": 6.699999999999999,
            "count": 2
           },
           {
            "bin_end": 10.5,
            "bin_start": 8.6,
            "count": 2
           },
           {
            "bin_end": 12.399999999999999,
            "bin_start": 10.5,
            "count": 2
           },
           {
            "bin_end": 14.299999999999999,
            "bin_start": 12.399999999999999,
            "count": 2
           },
           {
            "bin_end": 16.2,
            "bin_start": 14.299999999999999,
            "count": 2
           },
           {
            "bin_end": 18.099999999999998,
            "bin_start": 16.2,
            "count": 2
           },
           {
            "bin_end": 20,
            "bin_start": 18.099999999999998,
            "count": 2
           }
          ],
          "max": "20",
          "min": "1",
          "nan_count": 0,
          "unique_count": 20
         }
        },
        {
         "dtype": "int64",
         "name": "Expected Position",
         "stats": {
          "histogram": [
           {
            "bin_end": 2.9,
            "bin_start": 1,
            "count": 2
           },
           {
            "bin_end": 4.8,
            "bin_start": 2.9,
            "count": 2
           },
           {
            "bin_end": 6.699999999999999,
            "bin_start": 4.8,
            "count": 2
           },
           {
            "bin_end": 8.6,
            "bin_start": 6.699999999999999,
            "count": 2
           },
           {
            "bin_end": 10.5,
            "bin_start": 8.6,
            "count": 2
           },
           {
            "bin_end": 12.399999999999999,
            "bin_start": 10.5,
            "count": 2
           },
           {
            "bin_end": 14.299999999999999,
            "bin_start": 12.399999999999999,
            "count": 2
           },
           {
            "bin_end": 16.2,
            "bin_start": 14.299999999999999,
            "count": 2
           },
           {
            "bin_end": 18.099999999999998,
            "bin_start": 16.2,
            "count": 2
           },
           {
            "bin_end": 20,
            "bin_start": 18.099999999999998,
            "count": 2
           }
          ],
          "max": "20",
          "min": "1",
          "nan_count": 0,
          "unique_count": 20
         }
        },
        {
         "dtype": "object",
         "name": "Overperforming",
         "stats": {
          "categories": [
           {
            "count": 12,
            "name": "No"
           },
           {
            "count": 8,
            "name": "Yes"
           }
          ],
          "nan_count": 0,
          "unique_count": 2
         }
        },
        {
         "dtype": "int64",
         "name": "_deepnote_index_column"
        }
       ],
       "row_count": 20,
       "rows": [
        {
         "Actual Position": 1,
         "Expected Position": 2,
         "Overperforming": "Yes",
         "Team": "Liverpool",
         "_deepnote_index_column": 1
        },
        {
         "Actual Position": 2,
         "Expected Position": 1,
         "Overperforming": "No",
         "Team": "Man City",
         "_deepnote_index_column": 2
        },
        {
         "Actual Position": 3,
         "Expected Position": 6,
         "Overperforming": "Yes",
         "Team": "Leicester",
         "_deepnote_index_column": 3
        },
        {
         "Actual Position": 4,
         "Expected Position": 3,
         "Overperforming": "No",
         "Team": "Chelsea",
         "_deepnote_index_column": 4
        },
        {
         "Actual Position": 5,
         "Expected Position": 4,
         "Overperforming": "No",
         "Team": "Man Utd",
         "_deepnote_index_column": 5
        },
        {
         "Actual Position": 6,
         "Expected Position": 5,
         "Overperforming": "No",
         "Team": "Wolves",
         "_deepnote_index_column": 6
        },
        {
         "Actual Position": 7,
         "Expected Position": 10,
         "Overperforming": "Yes",
         "Team": "Sheffield United",
         "_deepnote_index_column": 7
        },
        {
         "Actual Position": 8,
         "Expected Position": 12,
         "Overperforming": "Yes",
         "Team": "Tottenham",
         "_deepnote_index_column": 8
        },
        {
         "Actual Position": 9,
         "Expected Position": 14,
         "Overperforming": "Yes",
         "Team": "Arsenal",
         "_deepnote_index_column": 9
        },
        {
         "Actual Position": 10,
         "Expected Position": 9,
         "Overperforming": "No",
         "Team": "Burnley",
         "_deepnote_index_column": 10
        },
        {
         "Actual Position": 11,
         "Expected Position": 15,
         "Overperforming": "Yes",
         "Team": "Crystal Palace",
         "_deepnote_index_column": 11
        },
        {
         "Actual Position": 12,
         "Expected Position": 7,
         "Overperforming": "No",
         "Team": "Everton",
         "_deepnote_index_column": 12
        },
        {
         "Actual Position": 13,
         "Expected Position": 20,
         "Overperforming": "Yes",
         "Team": "Newcastle United",
         "_deepnote_index_column": 13
        },
        {
         "Actual Position": 14,
         "Expected Position": 8,
         "Overperforming": "No",
         "Team": "Southampton",
         "_deepnote_index_column": 14
        },
        {
         "Actual Position": 15,
         "Expected Position": 11,
         "Overperforming": "No",
         "Team": "Brighton",
         "_deepnote_index_column": 15
        },
        {
         "Actual Position": 16,
         "Expected Position": 18,
         "Overperforming": "Yes",
         "Team": "West Ham",
         "_deepnote_index_column": 16
        },
        {
         "Actual Position": 17,
         "Expected Position": 13,
         "Overperforming": "No",
         "Team": "Watford",
         "_deepnote_index_column": 17
        },
        {
         "Actual Position": 18,
         "Expected Position": 16,
         "Overperforming": "No",
         "Team": "Bournemouth",
         "_deepnote_index_column": 18
        },
        {
         "Actual Position": 19,
         "Expected Position": 19,
         "Overperforming": "No",
         "Team": "Aston Villa",
         "_deepnote_index_column": 19
        },
        {
         "Actual Position": 20,
         "Expected Position": 17,
         "Overperforming": "No",
         "Team": "Norwich",
         "_deepnote_index_column": 20
        }
       ]
      },
      "text/html": [
       "<div>\n",
       "<style scoped>\n",
       "    .dataframe tbody tr th:only-of-type {\n",
       "        vertical-align: middle;\n",
       "    }\n",
       "\n",
       "    .dataframe tbody tr th {\n",
       "        vertical-align: top;\n",
       "    }\n",
       "\n",
       "    .dataframe thead th {\n",
       "        text-align: right;\n",
       "    }\n",
       "</style>\n",
       "<table border=\"1\" class=\"dataframe\">\n",
       "  <thead>\n",
       "    <tr style=\"text-align: right;\">\n",
       "      <th></th>\n",
       "      <th>Team</th>\n",
       "      <th>Actual Position</th>\n",
       "      <th>Expected Position</th>\n",
       "      <th>Overperforming</th>\n",
       "    </tr>\n",
       "  </thead>\n",
       "  <tbody>\n",
       "    <tr>\n",
       "      <th>1</th>\n",
       "      <td>Liverpool</td>\n",
       "      <td>1</td>\n",
       "      <td>2</td>\n",
       "      <td>Yes</td>\n",
       "    </tr>\n",
       "    <tr>\n",
       "      <th>2</th>\n",
       "      <td>Man City</td>\n",
       "      <td>2</td>\n",
       "      <td>1</td>\n",
       "      <td>No</td>\n",
       "    </tr>\n",
       "    <tr>\n",
       "      <th>3</th>\n",
       "      <td>Leicester</td>\n",
       "      <td>3</td>\n",
       "      <td>6</td>\n",
       "      <td>Yes</td>\n",
       "    </tr>\n",
       "    <tr>\n",
       "      <th>4</th>\n",
       "      <td>Chelsea</td>\n",
       "      <td>4</td>\n",
       "      <td>3</td>\n",
       "      <td>No</td>\n",
       "    </tr>\n",
       "    <tr>\n",
       "      <th>5</th>\n",
       "      <td>Man Utd</td>\n",
       "      <td>5</td>\n",
       "      <td>4</td>\n",
       "      <td>No</td>\n",
       "    </tr>\n",
       "    <tr>\n",
       "      <th>6</th>\n",
       "      <td>Wolves</td>\n",
       "      <td>6</td>\n",
       "      <td>5</td>\n",
       "      <td>No</td>\n",
       "    </tr>\n",
       "    <tr>\n",
       "      <th>7</th>\n",
       "      <td>Sheffield United</td>\n",
       "      <td>7</td>\n",
       "      <td>10</td>\n",
       "      <td>Yes</td>\n",
       "    </tr>\n",
       "    <tr>\n",
       "      <th>8</th>\n",
       "      <td>Tottenham</td>\n",
       "      <td>8</td>\n",
       "      <td>12</td>\n",
       "      <td>Yes</td>\n",
       "    </tr>\n",
       "    <tr>\n",
       "      <th>9</th>\n",
       "      <td>Arsenal</td>\n",
       "      <td>9</td>\n",
       "      <td>14</td>\n",
       "      <td>Yes</td>\n",
       "    </tr>\n",
       "    <tr>\n",
       "      <th>10</th>\n",
       "      <td>Burnley</td>\n",
       "      <td>10</td>\n",
       "      <td>9</td>\n",
       "      <td>No</td>\n",
       "    </tr>\n",
       "    <tr>\n",
       "      <th>11</th>\n",
       "      <td>Crystal Palace</td>\n",
       "      <td>11</td>\n",
       "      <td>15</td>\n",
       "      <td>Yes</td>\n",
       "    </tr>\n",
       "    <tr>\n",
       "      <th>12</th>\n",
       "      <td>Everton</td>\n",
       "      <td>12</td>\n",
       "      <td>7</td>\n",
       "      <td>No</td>\n",
       "    </tr>\n",
       "    <tr>\n",
       "      <th>13</th>\n",
       "      <td>Newcastle United</td>\n",
       "      <td>13</td>\n",
       "      <td>20</td>\n",
       "      <td>Yes</td>\n",
       "    </tr>\n",
       "    <tr>\n",
       "      <th>14</th>\n",
       "      <td>Southampton</td>\n",
       "      <td>14</td>\n",
       "      <td>8</td>\n",
       "      <td>No</td>\n",
       "    </tr>\n",
       "    <tr>\n",
       "      <th>15</th>\n",
       "      <td>Brighton</td>\n",
       "      <td>15</td>\n",
       "      <td>11</td>\n",
       "      <td>No</td>\n",
       "    </tr>\n",
       "    <tr>\n",
       "      <th>16</th>\n",
       "      <td>West Ham</td>\n",
       "      <td>16</td>\n",
       "      <td>18</td>\n",
       "      <td>Yes</td>\n",
       "    </tr>\n",
       "    <tr>\n",
       "      <th>17</th>\n",
       "      <td>Watford</td>\n",
       "      <td>17</td>\n",
       "      <td>13</td>\n",
       "      <td>No</td>\n",
       "    </tr>\n",
       "    <tr>\n",
       "      <th>18</th>\n",
       "      <td>Bournemouth</td>\n",
       "      <td>18</td>\n",
       "      <td>16</td>\n",
       "      <td>No</td>\n",
       "    </tr>\n",
       "    <tr>\n",
       "      <th>19</th>\n",
       "      <td>Aston Villa</td>\n",
       "      <td>19</td>\n",
       "      <td>19</td>\n",
       "      <td>No</td>\n",
       "    </tr>\n",
       "    <tr>\n",
       "      <th>20</th>\n",
       "      <td>Norwich</td>\n",
       "      <td>20</td>\n",
       "      <td>17</td>\n",
       "      <td>No</td>\n",
       "    </tr>\n",
       "  </tbody>\n",
       "</table>\n",
       "</div>"
      ],
      "text/plain": [
       "                Team  Actual Position  Expected Position Overperforming\n",
       "1          Liverpool                1                  2            Yes\n",
       "2           Man City                2                  1             No\n",
       "3          Leicester                3                  6            Yes\n",
       "4            Chelsea                4                  3             No\n",
       "5            Man Utd                5                  4             No\n",
       "6             Wolves                6                  5             No\n",
       "7   Sheffield United                7                 10            Yes\n",
       "8          Tottenham                8                 12            Yes\n",
       "9            Arsenal                9                 14            Yes\n",
       "10           Burnley               10                  9             No\n",
       "11    Crystal Palace               11                 15            Yes\n",
       "12           Everton               12                  7             No\n",
       "13  Newcastle United               13                 20            Yes\n",
       "14       Southampton               14                  8             No\n",
       "15          Brighton               15                 11             No\n",
       "16          West Ham               16                 18            Yes\n",
       "17           Watford               17                 13             No\n",
       "18       Bournemouth               18                 16             No\n",
       "19       Aston Villa               19                 19             No\n",
       "20           Norwich               20                 17             No"
      ]
     },
     "execution_count": 19,
     "metadata": {},
     "output_type": "execute_result"
    }
   ],
   "source": [
    "team_performance = []\n",
    "\n",
    "for team in teams:\n",
    "    current_pos = points_table[points_table['Team'] == team].index[0]\n",
    "    expected_pos = team_expected_points[team_expected_points['Team'] == team].index[0]\n",
    "\n",
    "    overperforming = 'Yes' if current_pos < expected_pos else 'No'\n",
    "\n",
    "    team_performance.append([team, current_pos, expected_pos, overperforming])\n",
    "\n",
    "team_performance = pd.DataFrame(team_performance, columns = ['Team', 'Actual Position', 'Expected Position', 'Overperforming'])\n",
    "team_performance.sort_values(by = ['Actual Position'], ascending = True, inplace = True, ignore_index = True)\n",
    "team_performance.set_index(np.array(range(1, 21)), inplace=True)\n",
    "team_performance"
   ]
  },
  {
   "cell_type": "markdown",
   "metadata": {
    "cell_id": "bf31875de06e40d697112ba9cca8e8c5",
    "deepnote_cell_type": "text-cell-h2",
    "formattedRanges": [],
    "is_collapsed": false,
    "tags": []
   },
   "source": [
    "## Model Building"
   ]
  },
  {
   "cell_type": "markdown",
   "metadata": {
    "cell_id": "0a21f60c9e4c441c84b1c58b63f69ca1",
    "deepnote_cell_type": "text-cell-h3",
    "formattedRanges": [],
    "is_collapsed": false,
    "tags": []
   },
   "source": [
    "### Split Train and Test Data"
   ]
  },
  {
   "cell_type": "code",
   "execution_count": 22,
   "metadata": {
    "cell_id": "b6b5e53d55c74dd39f4118cb7087e1db",
    "deepnote_cell_height": 135,
    "deepnote_cell_type": "code",
    "deepnote_to_be_reexecuted": false,
    "execution_millis": 10,
    "execution_start": 1658768387197,
    "source_hash": "8c998609",
    "tags": []
   },
   "outputs": [],
   "source": [
    "X = data[['h_a', 'scored', 'missed', 'xpts', 'wins', 'draws', 'loses', 'pts', 'tot_points', 'tot_goal', 'tot_con', 'teamId', 'xG', 'xGA', 'HS.x', 'HST.x', 'HF.x', 'HC.x', 'HY.x', 'AS.x', 'AST.x', 'AF.x', 'AC.x', 'AY.x']]\n",
    "y = data[['result']]\n",
    "\n",
    "X_train, X_test, y_train, y_test = train_test_split(X, y, test_size=0.3, random_state=42)"
   ]
  },
  {
   "cell_type": "code",
   "execution_count": 23,
   "metadata": {
    "cell_id": "83f9ee245d3449ce9858c18dcb17a565",
    "deepnote_cell_height": 135,
    "deepnote_cell_type": "code",
    "deepnote_to_be_reexecuted": false,
    "execution_millis": 7,
    "execution_start": 1658768387215,
    "source_hash": "ef828ce6",
    "tags": []
   },
   "outputs": [],
   "source": [
    "scaler = StandardScaler().fit(X_train)\n",
    "X_train = scaler.transform(X_train)\n",
    "X_train[:,0:2] *= 2.5\n",
    "X_train[:,2:8] *= 1.5"
   ]
  },
  {
   "cell_type": "markdown",
   "metadata": {
    "cell_id": "76f2a9316c9a4084b77e3cec0016af27",
    "deepnote_cell_type": "text-cell-h3",
    "formattedRanges": [],
    "is_collapsed": false,
    "tags": []
   },
   "source": [
    "### Multi Output Regressor"
   ]
  },
  {
   "cell_type": "code",
   "execution_count": 24,
   "metadata": {
    "cell_id": "aee9a375569f48d391873c9f96bdc0ee",
    "deepnote_cell_height": 172.203125,
    "deepnote_cell_type": "code",
    "deepnote_output_heights": [
     null,
     611
    ],
    "deepnote_to_be_reexecuted": false,
    "execution_millis": 99,
    "execution_start": 1658768387223,
    "source_hash": "eb102a9e",
    "tags": []
   },
   "outputs": [
    {
     "name": "stderr",
     "output_type": "stream",
     "text": [
      "/shared-libs/python3.9/py/lib/python3.9/site-packages/sklearn/base.py:443: UserWarning: X has feature names, but KNeighborsRegressor was fitted without feature names\n",
      "  warnings.warn(\n"
     ]
    }
   ],
   "source": [
    "mor = MultiOutputRegressor(KNeighborsRegressor(n_neighbors=3, weights='distance')).fit(X_train, y_train)\n",
    "\n",
    "pred_mor = mor.predict(X_test)"
   ]
  },
  {
   "cell_type": "code",
   "execution_count": 25,
   "metadata": {
    "cell_id": "ba0d0df46ed44fabba2e1f45657fe422",
    "deepnote_cell_height": 118.171875,
    "deepnote_cell_type": "code",
    "deepnote_output_heights": [
     21.1875
    ],
    "deepnote_to_be_reexecuted": false,
    "execution_millis": 33,
    "execution_start": 1658768387333,
    "source_hash": "d90e4cc2",
    "tags": []
   },
   "outputs": [
    {
     "data": {
      "text/plain": [
       "0.13599170702802976"
      ]
     },
     "execution_count": 25,
     "metadata": {},
     "output_type": "execute_result"
    }
   ],
   "source": [
    "r2_score(y_test, pred_mor)"
   ]
  },
  {
   "cell_type": "markdown",
   "metadata": {
    "cell_id": "f77cbef3c88b48c48ddc94027b8922db",
    "deepnote_cell_type": "text-cell-h3",
    "formattedRanges": [],
    "is_collapsed": false,
    "tags": []
   },
   "source": [
    "### K Neighbours Regressor"
   ]
  },
  {
   "cell_type": "code",
   "execution_count": 26,
   "metadata": {
    "cell_id": "bcc5d658e7b34b3782e788d962f45ee8",
    "deepnote_cell_height": 172.203125,
    "deepnote_cell_type": "code",
    "deepnote_to_be_reexecuted": false,
    "execution_millis": 56,
    "execution_start": 1658768387373,
    "source_hash": "155332cb",
    "tags": []
   },
   "outputs": [
    {
     "name": "stderr",
     "output_type": "stream",
     "text": [
      "/shared-libs/python3.9/py/lib/python3.9/site-packages/sklearn/base.py:443: UserWarning: X has feature names, but KNeighborsRegressor was fitted without feature names\n",
      "  warnings.warn(\n"
     ]
    }
   ],
   "source": [
    "knr = KNeighborsRegressor(n_neighbors=7, weights='uniform', algorithm='kd_tree', leaf_size=30).fit(X_train, y_train)\n",
    "\n",
    "pred_knr = knr.predict(X_test)"
   ]
  },
  {
   "cell_type": "code",
   "execution_count": 27,
   "metadata": {
    "cell_id": "c7a294dab54c48b998bbe87cadabe28d",
    "deepnote_cell_height": 118.171875,
    "deepnote_cell_type": "code",
    "deepnote_output_heights": [
     21.1875
    ],
    "deepnote_to_be_reexecuted": false,
    "execution_millis": 13,
    "execution_start": 1658768387434,
    "source_hash": "bfe87b62",
    "tags": []
   },
   "outputs": [
    {
     "data": {
      "text/plain": [
       "0.16308721644927548"
      ]
     },
     "execution_count": 27,
     "metadata": {},
     "output_type": "execute_result"
    }
   ],
   "source": [
    "r2_score(y_test, pred_knr)"
   ]
  },
  {
   "cell_type": "markdown",
   "metadata": {
    "cell_id": "89de63847fee4d878a449fb38cd5327c",
    "deepnote_cell_type": "text-cell-h3",
    "formattedRanges": [],
    "is_collapsed": false,
    "tags": []
   },
   "source": [
    "### Decision Tree Regressor"
   ]
  },
  {
   "cell_type": "code",
   "execution_count": 28,
   "metadata": {
    "cell_id": "e2f760abdc4b48e59c29cac99271462b",
    "deepnote_cell_height": 212.03125,
    "deepnote_cell_type": "code",
    "deepnote_to_be_reexecuted": false,
    "execution_millis": 13,
    "execution_start": 1658768387451,
    "source_hash": "60d4d56c",
    "tags": []
   },
   "outputs": [
    {
     "name": "stderr",
     "output_type": "stream",
     "text": [
      "/shared-libs/python3.9/py/lib/python3.9/site-packages/sklearn/tree/_classes.py:306: FutureWarning: `max_features='auto'` has been deprecated in 1.1 and will be removed in 1.3. To keep the past behaviour, explicitly set `max_features=1.0'`.\n",
      "  warnings.warn(\n",
      "/shared-libs/python3.9/py/lib/python3.9/site-packages/sklearn/base.py:443: UserWarning: X has feature names, but DecisionTreeRegressor was fitted without feature names\n",
      "  warnings.warn(\n"
     ]
    }
   ],
   "source": [
    "dtr = DecisionTreeRegressor(criterion='squared_error', max_features='auto').fit(X_train, y_train)\n",
    "\n",
    "pred_dtr = dtr.predict(X_test)"
   ]
  },
  {
   "cell_type": "code",
   "execution_count": 29,
   "metadata": {
    "cell_id": "ecd207ee38cf430e85773c09fd5b6daf",
    "deepnote_cell_height": 118.171875,
    "deepnote_cell_type": "code",
    "deepnote_output_heights": [
     21.1875
    ],
    "deepnote_to_be_reexecuted": false,
    "execution_millis": 10,
    "execution_start": 1658768387473,
    "source_hash": "2ae0c281",
    "tags": []
   },
   "outputs": [
    {
     "data": {
      "text/plain": [
       "0.6670992571377428"
      ]
     },
     "execution_count": 29,
     "metadata": {},
     "output_type": "execute_result"
    }
   ],
   "source": [
    "r2_score(y_test, pred_dtr)"
   ]
  }
 ],
 "metadata": {
  "deepnote": {},
  "deepnote_execution_queue": [],
  "deepnote_notebook_id": "00eff49c-733a-43a1-961c-94502506b1fa",
  "kernelspec": {
   "display_name": "Python 3.10.1 ('env': venv)",
   "language": "python",
   "name": "python3"
  },
  "language_info": {
   "name": "python",
   "version": "3.10.1"
  },
  "orig_nbformat": 2,
  "vscode": {
   "interpreter": {
    "hash": "f89b343d54d050fcb899e4cb8bca305ae1f5b31828a5df55ba0a7c2c1e20dd97"
   }
  }
 },
 "nbformat": 4,
 "nbformat_minor": 2
}
